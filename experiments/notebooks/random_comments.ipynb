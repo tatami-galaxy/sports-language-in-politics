{
 "cells": [
  {
   "cell_type": "code",
   "execution_count": 1,
   "id": "a1ca101f-c82b-4288-a7d4-477028352c57",
   "metadata": {},
   "outputs": [],
   "source": [
    "import polars as pl"
   ]
  },
  {
   "cell_type": "code",
   "execution_count": 29,
   "id": "6530e66d-3f35-48d5-bbfd-325773656548",
   "metadata": {},
   "outputs": [],
   "source": [
    "random_df = pl.read_csv('~/sports-language-in-politics/data/processed/random_sample.csv')\n",
    "sports_df = pl.read_csv('~/sports-language-in-politics/data/processed/sports_sample.csv')\n",
    "\n",
    "sports_subs = set(sports_df['subreddit'].unique().to_list())\n",
    "random_subs = set(random_df['subreddit'].unique().to_list())"
   ]
  },
  {
   "cell_type": "code",
   "execution_count": 31,
   "id": "7c5acf52-6471-45f3-8da2-329db19b8517",
   "metadata": {},
   "outputs": [],
   "source": [
    "random_df_no_sports = random_df.filter(~pl.col('subreddit').is_in(sports_subs))"
   ]
  },
  {
   "cell_type": "code",
   "execution_count": 32,
   "id": "9e793e52-3f0b-4ea8-a875-2ffb6cebd9dd",
   "metadata": {},
   "outputs": [],
   "source": [
    "random_df_no_sports.write_csv('/users/ujan/sports-language-in-politics/data/processed/random_sample_no_sports.csv', separator=\",\")"
   ]
  },
  {
   "cell_type": "code",
   "execution_count": null,
   "id": "a8658faa-e1ae-4901-815a-b410d29888bb",
   "metadata": {},
   "outputs": [],
   "source": []
  }
 ],
 "metadata": {
  "kernelspec": {
   "display_name": "Python 3 (ipykernel)",
   "language": "python",
   "name": "python3"
  },
  "language_info": {
   "codemirror_mode": {
    "name": "ipython",
    "version": 3
   },
   "file_extension": ".py",
   "mimetype": "text/x-python",
   "name": "python",
   "nbconvert_exporter": "python",
   "pygments_lexer": "ipython3",
   "version": "3.10.4"
  }
 },
 "nbformat": 4,
 "nbformat_minor": 5
}
