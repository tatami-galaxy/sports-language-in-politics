{
 "cells": [
  {
   "cell_type": "code",
   "execution_count": 2,
   "id": "a1ca101f-c82b-4288-a7d4-477028352c57",
   "metadata": {},
   "outputs": [],
   "source": [
    "import polars as pl\n",
    "import pandas as pd"
   ]
  },
  {
   "cell_type": "markdown",
   "id": "405c9b9e-24cb-48d2-b05a-8865f205c8c8",
   "metadata": {},
   "source": [
    "#### initial sports subs filter"
   ]
  },
  {
   "cell_type": "code",
   "execution_count": 29,
   "id": "6530e66d-3f35-48d5-bbfd-325773656548",
   "metadata": {},
   "outputs": [],
   "source": [
    "random_df = pl.read_csv('~/sports-language-in-politics/data/processed/random_sample.csv')\n",
    "sports_df = pl.read_csv('~/sports-language-in-politics/data/processed/sports_sample.csv')\n",
    "\n",
    "sports_subs = set(sports_df['subreddit'].unique().to_list())\n",
    "random_subs = set(random_df['subreddit'].unique().to_list())"
   ]
  },
  {
   "cell_type": "code",
   "execution_count": 31,
   "id": "7c5acf52-6471-45f3-8da2-329db19b8517",
   "metadata": {},
   "outputs": [],
   "source": [
    "random_df_no_sports = random_df.filter(~pl.col('subreddit').is_in(sports_subs))"
   ]
  },
  {
   "cell_type": "code",
   "execution_count": 32,
   "id": "9e793e52-3f0b-4ea8-a875-2ffb6cebd9dd",
   "metadata": {},
   "outputs": [],
   "source": [
    "random_df_no_sports.write_csv('/users/ujan/sports-language-in-politics/data/processed/random_sample_no_sports.csv', separator=\",\")"
   ]
  },
  {
   "cell_type": "markdown",
   "id": "33e67e16-1d9a-4017-9a79-1ceddb619ce5",
   "metadata": {},
   "source": [
    "#### remove gaming subs"
   ]
  },
  {
   "cell_type": "code",
   "execution_count": 2,
   "id": "ef3b8d03-d790-46d9-8b2d-fd3cf35fd1be",
   "metadata": {},
   "outputs": [],
   "source": [
    "random_df = pl.read_csv('~/sports-language-in-politics/data/processed/random_sample_no_sports.csv')"
   ]
  },
  {
   "cell_type": "code",
   "execution_count": 8,
   "id": "8f2e7bd7-dc0e-40b1-8249-4a85f0281bb4",
   "metadata": {},
   "outputs": [],
   "source": [
    "gaming_df = pl.read_csv('~/sports-language-in-politics/data/raw/gaming_subs.csv', truncate_ragged_lines=True)"
   ]
  },
  {
   "cell_type": "code",
   "execution_count": 21,
   "id": "ce23e94f-be56-40fd-a3e8-5513d64bb451",
   "metadata": {},
   "outputs": [],
   "source": [
    "gaming_subs = []\n",
    "for i in range(len(gaming_df)):\n",
    "    gaming_subs.append(gaming_df[i]['Name;Link'].to_list()[0].split('/r/')[-1])"
   ]
  },
  {
   "cell_type": "code",
   "execution_count": 25,
   "id": "d3405d95-1926-4fa6-a953-ffdcbf10a0b3",
   "metadata": {},
   "outputs": [],
   "source": [
    "random_df_no_gaming = random_df.filter(~pl.col('subreddit').is_in(gaming_subs))"
   ]
  },
  {
   "cell_type": "code",
   "execution_count": 29,
   "id": "41f519ed-cd60-46f9-a9e8-394ba302c0c2",
   "metadata": {},
   "outputs": [],
   "source": [
    "random_df_no_gaming.write_csv('/users/ujan/sports-language-in-politics/data/processed/random_sample_no_sports.csv', separator=\",\")"
   ]
  },
  {
   "cell_type": "code",
   "execution_count": null,
   "id": "5ef362b5-14fe-455a-9e87-da09eaac7abf",
   "metadata": {},
   "outputs": [],
   "source": []
  },
  {
   "cell_type": "code",
   "execution_count": 3,
   "id": "d5af199f-e160-4876-8e2b-eae4b899fedd",
   "metadata": {},
   "outputs": [
    {
     "name": "stderr",
     "output_type": "stream",
     "text": [
      "/var/folders/by/rktr_w596p97pmt8_cbknvs80000gn/T/ipykernel_37911/3484189379.py:1: DtypeWarning: Columns (15,16) have mixed types. Specify dtype option on import or set low_memory=False.\n",
      "  random_df = pd.read_csv('~/sports-language-in-politics/data/processed/random_sample_no_sports.csv', usecols=[\"id\", \"subreddit\"])\n"
     ]
    }
   ],
   "source": [
    "random_df = pd.read_csv('~/sports-language-in-politics/data/processed/random_sample_no_sports.csv', usecols=[\"id\", \"subreddit\"]) "
   ]
  },
  {
   "cell_type": "code",
   "execution_count": 5,
   "id": "e473fbab-a193-4ec6-8ca0-b3e049a1ef9e",
   "metadata": {},
   "outputs": [
    {
     "data": {
      "text/html": [
       "<div>\n",
       "<style scoped>\n",
       "    .dataframe tbody tr th:only-of-type {\n",
       "        vertical-align: middle;\n",
       "    }\n",
       "\n",
       "    .dataframe tbody tr th {\n",
       "        vertical-align: top;\n",
       "    }\n",
       "\n",
       "    .dataframe thead th {\n",
       "        text-align: right;\n",
       "    }\n",
       "</style>\n",
       "<table border=\"1\" class=\"dataframe\">\n",
       "  <thead>\n",
       "    <tr style=\"text-align: right;\">\n",
       "      <th></th>\n",
       "      <th>id</th>\n",
       "    </tr>\n",
       "    <tr>\n",
       "      <th>subreddit</th>\n",
       "      <th></th>\n",
       "    </tr>\n",
       "  </thead>\n",
       "  <tbody>\n",
       "    <tr>\n",
       "      <th>AskReddit</th>\n",
       "      <td>564493</td>\n",
       "    </tr>\n",
       "    <tr>\n",
       "      <th>memes</th>\n",
       "      <td>79795</td>\n",
       "    </tr>\n",
       "    <tr>\n",
       "      <th>funny</th>\n",
       "      <td>76766</td>\n",
       "    </tr>\n",
       "    <tr>\n",
       "      <th>teenagers</th>\n",
       "      <td>76658</td>\n",
       "    </tr>\n",
       "    <tr>\n",
       "      <th>worldnews</th>\n",
       "      <td>74015</td>\n",
       "    </tr>\n",
       "    <tr>\n",
       "      <th>...</th>\n",
       "      <td>...</td>\n",
       "    </tr>\n",
       "    <tr>\n",
       "      <th>Philippines</th>\n",
       "      <td>10711</td>\n",
       "    </tr>\n",
       "    <tr>\n",
       "      <th>BigBrother</th>\n",
       "      <td>10533</td>\n",
       "    </tr>\n",
       "    <tr>\n",
       "      <th>Animemes</th>\n",
       "      <td>10520</td>\n",
       "    </tr>\n",
       "    <tr>\n",
       "      <th>mildlyinfuriating</th>\n",
       "      <td>10505</td>\n",
       "    </tr>\n",
       "    <tr>\n",
       "      <th>ACTrade</th>\n",
       "      <td>10332</td>\n",
       "    </tr>\n",
       "  </tbody>\n",
       "</table>\n",
       "<p>100 rows × 1 columns</p>\n",
       "</div>"
      ],
      "text/plain": [
       "                       id\n",
       "subreddit                \n",
       "AskReddit          564493\n",
       "memes               79795\n",
       "funny               76766\n",
       "teenagers           76658\n",
       "worldnews           74015\n",
       "...                   ...\n",
       "Philippines         10711\n",
       "BigBrother          10533\n",
       "Animemes            10520\n",
       "mildlyinfuriating   10505\n",
       "ACTrade             10332\n",
       "\n",
       "[100 rows x 1 columns]"
      ]
     },
     "execution_count": 5,
     "metadata": {},
     "output_type": "execute_result"
    }
   ],
   "source": [
    "random_df.groupby('subreddit').agg({\"id\":\"count\"}).sort_values(\"id\",ascending=False).head(100)"
   ]
  },
  {
   "cell_type": "code",
   "execution_count": null,
   "id": "20c26895-0608-41b2-9768-2808458c5998",
   "metadata": {},
   "outputs": [],
   "source": []
  }
 ],
 "metadata": {
  "kernelspec": {
   "display_name": "Python 3 (ipykernel)",
   "language": "python",
   "name": "python3"
  },
  "language_info": {
   "codemirror_mode": {
    "name": "ipython",
    "version": 3
   },
   "file_extension": ".py",
   "mimetype": "text/x-python",
   "name": "python",
   "nbconvert_exporter": "python",
   "pygments_lexer": "ipython3",
   "version": "3.10.4"
  }
 },
 "nbformat": 4,
 "nbformat_minor": 5
}
