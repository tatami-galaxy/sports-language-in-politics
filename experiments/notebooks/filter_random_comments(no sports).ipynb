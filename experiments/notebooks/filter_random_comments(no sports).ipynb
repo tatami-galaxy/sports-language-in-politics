{
 "cells": [
  {
   "cell_type": "code",
   "execution_count": 1,
   "id": "a1ca101f-c82b-4288-a7d4-477028352c57",
   "metadata": {},
   "outputs": [],
   "source": [
    "import polars as pl"
   ]
  },
  {
   "cell_type": "code",
   "execution_count": 29,
   "id": "6530e66d-3f35-48d5-bbfd-325773656548",
   "metadata": {},
   "outputs": [],
   "source": [
    "random_df = pl.read_csv('~/sports-language-in-politics/data/processed/random_sample.csv')\n",
    "sports_df = pl.read_csv('~/sports-language-in-politics/data/processed/sports_sample.csv')\n",
    "\n",
    "sports_subs = set(sports_df['subreddit'].unique().to_list())\n",
    "random_subs = set(random_df['subreddit'].unique().to_list())"
   ]
  },
  {
   "cell_type": "code",
   "execution_count": 31,
   "id": "7c5acf52-6471-45f3-8da2-329db19b8517",
   "metadata": {},
   "outputs": [],
   "source": [
    "random_df_no_sports = random_df.filter(~pl.col('subreddit').is_in(sports_subs))"
   ]
  },
  {
   "cell_type": "code",
   "execution_count": 32,
   "id": "9e793e52-3f0b-4ea8-a875-2ffb6cebd9dd",
   "metadata": {},
   "outputs": [],
   "source": [
    "random_df_no_sports.write_csv('/users/ujan/sports-language-in-politics/data/processed/random_sample_no_sports.csv', separator=\",\")"
   ]
  },
  {
   "cell_type": "markdown",
   "id": "33e67e16-1d9a-4017-9a79-1ceddb619ce5",
   "metadata": {},
   "source": [
    "#### remove gaming subs"
   ]
  },
  {
   "cell_type": "code",
   "execution_count": 2,
   "id": "ef3b8d03-d790-46d9-8b2d-fd3cf35fd1be",
   "metadata": {},
   "outputs": [],
   "source": [
    "random_df = pl.read_csv('~/sports-language-in-politics/data/processed/random_sample_no_sports.csv')"
   ]
  },
  {
   "cell_type": "code",
   "execution_count": 3,
   "id": "98c3e6d8-9cf9-43c1-a6ff-32588bb3f67d",
   "metadata": {},
   "outputs": [
    {
     "data": {
      "text/html": [
       "<div><style>\n",
       ".dataframe > thead > tr > th,\n",
       ".dataframe > tbody > tr > td {\n",
       "  text-align: right;\n",
       "  white-space: pre-wrap;\n",
       "}\n",
       "</style>\n",
       "<small>shape: (5, 20)</small><table border=\"1\" class=\"dataframe\"><thead><tr><th>body</th><th>score_hidden</th><th>archived</th><th>name</th><th>author</th><th>author_flair_text</th><th>downs</th><th>created_utc</th><th>subreddit_id</th><th>link_id</th><th>parent_id</th><th>score</th><th>retrieved_on</th><th>controversiality</th><th>gilded</th><th>id</th><th>subreddit</th><th>distinguished</th><th>author_flair_css_class</th><th>removal_reason</th></tr><tr><td>str</td><td>str</td><td>str</td><td>str</td><td>str</td><td>str</td><td>str</td><td>i64</td><td>str</td><td>str</td><td>str</td><td>i64</td><td>i64</td><td>i64</td><td>i64</td><td>str</td><td>str</td><td>str</td><td>str</td><td>str</td></tr></thead><tbody><tr><td>&quot;anime avatar i…</td><td>null</td><td>null</td><td>null</td><td>&quot;GVBN&quot;</td><td>&quot;http://myanime…</td><td>null</td><td>1500892341</td><td>&quot;t5_2qh22&quot;</td><td>&quot;t3_6p7hsi&quot;</td><td>&quot;t3_6p7hsi&quot;</td><td>31</td><td>1501516961</td><td>0</td><td>0</td><td>&quot;dkn63pv&quot;</td><td>&quot;anime&quot;</td><td>null</td><td>&quot;MAL&quot;</td><td>null</td></tr><tr><td>&quot;I say remove t…</td><td>null</td><td>null</td><td>null</td><td>&quot;h2ppyme&quot;</td><td>&quot;Estonia&quot;</td><td>null</td><td>1501056473</td><td>&quot;t5_2qh4j&quot;</td><td>&quot;t3_6pmde2&quot;</td><td>&quot;t1_dkqhoal&quot;</td><td>17</td><td>1501853060</td><td>0</td><td>0</td><td>&quot;dkqi2tv&quot;</td><td>&quot;europe&quot;</td><td>null</td><td>&quot;ESTO&quot;</td><td>null</td></tr><tr><td>&quot;Last time I re…</td><td>null</td><td>null</td><td>null</td><td>&quot;iscreamcoke&quot;</td><td>&quot;France&quot;</td><td>null</td><td>1499804412</td><td>&quot;t5_2qh4j&quot;</td><td>&quot;t3_6moqbx&quot;</td><td>&quot;t1_dk35u69&quot;</td><td>21</td><td>1501157745</td><td>0</td><td>0</td><td>&quot;dk3721q&quot;</td><td>&quot;europe&quot;</td><td>null</td><td>&quot;FRAN&quot;</td><td>null</td></tr><tr><td>&quot;Her name was C…</td><td>null</td><td>null</td><td>null</td><td>&quot;Robonator7of9&quot;</td><td>&quot;fa/tg/uy&quot;</td><td>null</td><td>1499098546</td><td>&quot;t5_2qh4w&quot;</td><td>&quot;t3_6ky9ul&quot;</td><td>&quot;t1_djpzb0t&quot;</td><td>77</td><td>1499870014</td><td>0</td><td>0</td><td>&quot;djq7kca&quot;</td><td>&quot;4chan&quot;</td><td>null</td><td>&quot;&quot;</td><td>null</td></tr><tr><td>&quot;Ah ben oui mai…</td><td>null</td><td>null</td><td>null</td><td>&quot;DrShadoko&quot;</td><td>&quot;Minitel&quot;</td><td>null</td><td>1499440702</td><td>&quot;t5_2qhjz&quot;</td><td>&quot;t3_6lu5pb&quot;</td><td>&quot;t3_6lu5pb&quot;</td><td>24</td><td>1501037227</td><td>0</td><td>0</td><td>&quot;djwlcaq&quot;</td><td>&quot;france&quot;</td><td>null</td><td>&quot;minitel&quot;</td><td>null</td></tr></tbody></table></div>"
      ],
      "text/plain": [
       "shape: (5, 20)\n",
       "┌────────────┬────────────┬──────────┬──────┬───┬───────────┬────────────┬────────────┬────────────┐\n",
       "│ body       ┆ score_hidd ┆ archived ┆ name ┆ … ┆ subreddit ┆ distinguis ┆ author_fla ┆ removal_re │\n",
       "│ ---        ┆ en         ┆ ---      ┆ ---  ┆   ┆ ---       ┆ hed        ┆ ir_css_cla ┆ ason       │\n",
       "│ str        ┆ ---        ┆ str      ┆ str  ┆   ┆ str       ┆ ---        ┆ ss         ┆ ---        │\n",
       "│            ┆ str        ┆          ┆      ┆   ┆           ┆ str        ┆ ---        ┆ str        │\n",
       "│            ┆            ┆          ┆      ┆   ┆           ┆            ┆ str        ┆            │\n",
       "╞════════════╪════════════╪══════════╪══════╪═══╪═══════════╪════════════╪════════════╪════════════╡\n",
       "│ anime      ┆ null       ┆ null     ┆ null ┆ … ┆ anime     ┆ null       ┆ MAL        ┆ null       │\n",
       "│ avatar is  ┆            ┆          ┆      ┆   ┆           ┆            ┆            ┆            │\n",
       "│ one of the ┆            ┆          ┆      ┆   ┆           ┆            ┆            ┆            │\n",
       "│ initi…     ┆            ┆          ┆      ┆   ┆           ┆            ┆            ┆            │\n",
       "│ I say      ┆ null       ┆ null     ┆ null ┆ … ┆ europe    ┆ null       ┆ ESTO       ┆ null       │\n",
       "│ remove     ┆            ┆          ┆      ┆   ┆           ┆            ┆            ┆            │\n",
       "│ them all   ┆            ┆          ┆      ┆   ┆           ┆            ┆            ┆            │\n",
       "│ (as        ┆            ┆          ┆      ┆   ┆           ┆            ┆            ┆            │\n",
       "│ should…    ┆            ┆          ┆      ┆   ┆           ┆            ┆            ┆            │\n",
       "│ Last time  ┆ null       ┆ null     ┆ null ┆ … ┆ europe    ┆ null       ┆ FRAN       ┆ null       │\n",
       "│ I read an  ┆            ┆          ┆      ┆   ┆           ┆            ┆            ┆            │\n",
       "│ article    ┆            ┆          ┆      ┆   ┆           ┆            ┆            ┆            │\n",
       "│ that…      ┆            ┆          ┆      ┆   ┆           ┆            ┆            ┆            │\n",
       "│ Her name   ┆ null       ┆ null     ┆ null ┆ … ┆ 4chan     ┆ null       ┆            ┆ null       │\n",
       "│ was        ┆            ┆          ┆      ┆   ┆           ┆            ┆            ┆            │\n",
       "│ Claudette  ┆            ┆          ┆      ┆   ┆           ┆            ┆            ┆            │\n",
       "│ Colvin, a… ┆            ┆          ┆      ┆   ┆           ┆            ┆            ┆            │\n",
       "│ Ah ben oui ┆ null       ┆ null     ┆ null ┆ … ┆ france    ┆ null       ┆ minitel    ┆ null       │\n",
       "│ mais aussi ┆            ┆          ┆      ┆   ┆           ┆            ┆            ┆            │\n",
       "│ il y a     ┆            ┆          ┆      ┆   ┆           ┆            ┆            ┆            │\n",
       "│ mar…       ┆            ┆          ┆      ┆   ┆           ┆            ┆            ┆            │\n",
       "└────────────┴────────────┴──────────┴──────┴───┴───────────┴────────────┴────────────┴────────────┘"
      ]
     },
     "execution_count": 3,
     "metadata": {},
     "output_type": "execute_result"
    }
   ],
   "source": [
    "random_df.head()"
   ]
  },
  {
   "cell_type": "code",
   "execution_count": 8,
   "id": "8f2e7bd7-dc0e-40b1-8249-4a85f0281bb4",
   "metadata": {},
   "outputs": [],
   "source": [
    "gaming_df = pl.read_csv('~/sports-language-in-politics/data/raw/gaming_subs.csv', truncate_ragged_lines=True)"
   ]
  },
  {
   "cell_type": "code",
   "execution_count": 21,
   "id": "ce23e94f-be56-40fd-a3e8-5513d64bb451",
   "metadata": {},
   "outputs": [],
   "source": [
    "gaming_subs = []\n",
    "for i in range(len(gaming_df)):\n",
    "    gaming_subs.append(gaming_df[i]['Name;Link'].to_list()[0].split('/r/')[-1])"
   ]
  },
  {
   "cell_type": "code",
   "execution_count": 24,
   "id": "969d023d-4d7a-41d0-b34e-b9e17f8c33d9",
   "metadata": {},
   "outputs": [
    {
     "data": {
      "text/plain": [
       "9280850"
      ]
     },
     "execution_count": 24,
     "metadata": {},
     "output_type": "execute_result"
    }
   ],
   "source": [
    "len(random_df)"
   ]
  },
  {
   "cell_type": "code",
   "execution_count": 25,
   "id": "d3405d95-1926-4fa6-a953-ffdcbf10a0b3",
   "metadata": {},
   "outputs": [],
   "source": [
    "random_df_no_gaming = random_df.filter(~pl.col('subreddit').is_in(gaming_subs))"
   ]
  },
  {
   "cell_type": "code",
   "execution_count": 27,
   "id": "ea3cd123-f6ba-46c5-aaa0-04cbf5337e85",
   "metadata": {},
   "outputs": [
    {
     "data": {
      "text/plain": [
       "8467892"
      ]
     },
     "execution_count": 27,
     "metadata": {},
     "output_type": "execute_result"
    }
   ],
   "source": [
    "len(random_df_no_gaming)"
   ]
  },
  {
   "cell_type": "code",
   "execution_count": 29,
   "id": "41f519ed-cd60-46f9-a9e8-394ba302c0c2",
   "metadata": {},
   "outputs": [],
   "source": [
    "random_df_no_gaming.write_csv('/users/ujan/sports-language-in-politics/data/processed/random_sample_no_sports.csv', separator=\",\")"
   ]
  },
  {
   "cell_type": "code",
   "execution_count": null,
   "id": "5ef362b5-14fe-455a-9e87-da09eaac7abf",
   "metadata": {},
   "outputs": [],
   "source": []
  }
 ],
 "metadata": {
  "kernelspec": {
   "display_name": "Python 3 (ipykernel)",
   "language": "python",
   "name": "python3"
  },
  "language_info": {
   "codemirror_mode": {
    "name": "ipython",
    "version": 3
   },
   "file_extension": ".py",
   "mimetype": "text/x-python",
   "name": "python",
   "nbconvert_exporter": "python",
   "pygments_lexer": "ipython3",
   "version": "3.10.4"
  }
 },
 "nbformat": 4,
 "nbformat_minor": 5
}
