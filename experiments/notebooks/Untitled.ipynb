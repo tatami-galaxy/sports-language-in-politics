{
 "cells": [
  {
   "cell_type": "code",
   "execution_count": 1,
   "id": "2701b832-c09b-41fe-bdad-a5f87e125908",
   "metadata": {},
   "outputs": [],
   "source": [
    "import polars as pl"
   ]
  },
  {
   "cell_type": "code",
   "execution_count": 2,
   "id": "2a5cbc44-c4e0-4d18-81b7-e2618b0db104",
   "metadata": {},
   "outputs": [],
   "source": [
    "data_df = pl.read_csv('/Volumes/PortableSSD/CSS/data/processed/posts_2015-21_ps_min_2c_politics.csv')"
   ]
  },
  {
   "cell_type": "code",
   "execution_count": 3,
   "id": "ee3d7583-36e3-4fcd-98a8-570f0b0e388b",
   "metadata": {},
   "outputs": [
    {
     "data": {
      "text/html": [
       "<div><style>\n",
       ".dataframe > thead > tr,\n",
       ".dataframe > tbody > tr {\n",
       "  text-align: right;\n",
       "  white-space: pre-wrap;\n",
       "}\n",
       "</style>\n",
       "<small>shape: (5, 10)</small><table border=\"1\" class=\"dataframe\"><thead><tr><th>id</th><th>created_utc</th><th>subreddit</th><th>author</th><th>url</th><th>title</th><th>selftext</th><th>num_comments</th><th>score</th><th>upvote_ratio</th></tr><tr><td>str</td><td>i64</td><td>str</td><td>str</td><td>str</td><td>str</td><td>str</td><td>i64</td><td>i64</td><td>f64</td></tr></thead><tbody><tr><td>&quot;589v04&quot;</td><td>1476878103</td><td>&quot;The_Donald&quot;</td><td>&quot;gmousasi&quot;</td><td>&quot;https://i.redd…</td><td>&quot;Just a rare ba…</td><td>&quot;&quot;</td><td>17</td><td>1242</td><td>100.0</td></tr><tr><td>&quot;589ygu&quot;</td><td>1476879588</td><td>&quot;Enough_Sanders…</td><td>&quot;12-juin-3049&quot;</td><td>&quot;http://www.red…</td><td>&quot;Bernout gets e…</td><td>&quot;&quot;</td><td>12</td><td>28</td><td>100.0</td></tr><tr><td>&quot;58a7z5&quot;</td><td>1476883248</td><td>&quot;EnoughTrumpSpa…</td><td>&quot;TheIronTARDIS&quot;</td><td>&quot;http://np.redd…</td><td>&quot;In case you ne…</td><td>&quot;&quot;</td><td>38</td><td>371</td><td>100.0</td></tr><tr><td>&quot;58aa2h&quot;</td><td>1476883994</td><td>&quot;politics&quot;</td><td>&quot;Naggers123&quot;</td><td>&quot;http://www.bre…</td><td>&quot;Poll: Hillary …</td><td>&quot;&quot;</td><td>170</td><td>305</td><td>100.0</td></tr><tr><td>&quot;58bnuv&quot;</td><td>1476899246</td><td>&quot;politics&quot;</td><td>&quot;Metaprinter&quot;</td><td>&quot;https://gop.co…</td><td>&quot;Trump asking t…</td><td>&quot;&quot;</td><td>38</td><td>24</td><td>100.0</td></tr></tbody></table></div>"
      ],
      "text/plain": [
       "shape: (5, 10)\n",
       "┌────────┬─────────────┬─────────────┬────────────┬───┬──────────┬────────────┬───────┬────────────┐\n",
       "│ id     ┆ created_utc ┆ subreddit   ┆ author     ┆ … ┆ selftext ┆ num_commen ┆ score ┆ upvote_rat │\n",
       "│ ---    ┆ ---         ┆ ---         ┆ ---        ┆   ┆ ---      ┆ ts         ┆ ---   ┆ io         │\n",
       "│ str    ┆ i64         ┆ str         ┆ str        ┆   ┆ str      ┆ ---        ┆ i64   ┆ ---        │\n",
       "│        ┆             ┆             ┆            ┆   ┆          ┆ i64        ┆       ┆ f64        │\n",
       "╞════════╪═════════════╪═════════════╪════════════╪═══╪══════════╪════════════╪═══════╪════════════╡\n",
       "│ 589v04 ┆ 1476878103  ┆ The_Donald  ┆ gmousasi   ┆ … ┆          ┆ 17         ┆ 1242  ┆ 100.0      │\n",
       "│ 589ygu ┆ 1476879588  ┆ Enough_Sand ┆ 12-juin-30 ┆ … ┆          ┆ 12         ┆ 28    ┆ 100.0      │\n",
       "│        ┆             ┆ ers_Spam    ┆ 49         ┆   ┆          ┆            ┆       ┆            │\n",
       "│ 58a7z5 ┆ 1476883248  ┆ EnoughTrump ┆ TheIronTAR ┆ … ┆          ┆ 38         ┆ 371   ┆ 100.0      │\n",
       "│        ┆             ┆ Spam        ┆ DIS        ┆   ┆          ┆            ┆       ┆            │\n",
       "│ 58aa2h ┆ 1476883994  ┆ politics    ┆ Naggers123 ┆ … ┆          ┆ 170        ┆ 305   ┆ 100.0      │\n",
       "│ 58bnuv ┆ 1476899246  ┆ politics    ┆ Metaprinte ┆ … ┆          ┆ 38         ┆ 24    ┆ 100.0      │\n",
       "│        ┆             ┆             ┆ r          ┆   ┆          ┆            ┆       ┆            │\n",
       "└────────┴─────────────┴─────────────┴────────────┴───┴──────────┴────────────┴───────┴────────────┘"
      ]
     },
     "execution_count": 3,
     "metadata": {},
     "output_type": "execute_result"
    }
   ],
   "source": [
    "data_df.head()"
   ]
  },
  {
   "cell_type": "code",
   "execution_count": 4,
   "id": "82848071-ae4e-4810-b93a-b216ea123bf6",
   "metadata": {},
   "outputs": [
    {
     "data": {
      "text/plain": [
       "9127279"
      ]
     },
     "execution_count": 4,
     "metadata": {},
     "output_type": "execute_result"
    }
   ],
   "source": [
    "len(data_df)"
   ]
  },
  {
   "cell_type": "code",
   "execution_count": 6,
   "id": "ca4f50da-d8f9-4db6-9461-f2905ee36f68",
   "metadata": {},
   "outputs": [
    {
     "data": {
      "text/plain": [
       "9127279"
      ]
     },
     "execution_count": 6,
     "metadata": {},
     "output_type": "execute_result"
    }
   ],
   "source": [
    "len(data_df.drop_nulls())"
   ]
  },
  {
   "cell_type": "code",
   "execution_count": null,
   "id": "0c4835c2-d29f-44cb-b3f5-735eee78264a",
   "metadata": {},
   "outputs": [],
   "source": []
  }
 ],
 "metadata": {
  "kernelspec": {
   "display_name": "Python 3 (ipykernel)",
   "language": "python",
   "name": "python3"
  },
  "language_info": {
   "codemirror_mode": {
    "name": "ipython",
    "version": 3
   },
   "file_extension": ".py",
   "mimetype": "text/x-python",
   "name": "python",
   "nbconvert_exporter": "python",
   "pygments_lexer": "ipython3",
   "version": "3.12.2"
  }
 },
 "nbformat": 4,
 "nbformat_minor": 5
}
