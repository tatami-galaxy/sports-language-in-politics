{
 "cells": [
  {
   "cell_type": "code",
   "execution_count": 2,
   "id": "03d66c6b-d631-49d7-bea0-82b4e2d4ea63",
   "metadata": {},
   "outputs": [],
   "source": [
    "import json\n",
    "import polars as pl"
   ]
  },
  {
   "cell_type": "code",
   "execution_count": 13,
   "id": "e4d6e00c-c05b-40b2-ba13-03e95aa79a03",
   "metadata": {},
   "outputs": [],
   "source": [
    "data_dir = '/Volumes/PortableSSD/CSS/data/processed/'\n",
    "\n",
    "data_df = pl.read_csv(data_dir+'politics_sample.csv')\n",
    "with open(data_dir+'exact_matches_politics_42_10000_v2_latest.json') as f:\n",
    "    exact_matches = json.load(f)\n",
    "with open(data_dir+'sem_matches_politics_42_10000_v2_latest.json') as f:\n",
    "    sem_matches = json.load(f)"
   ]
  },
  {
   "cell_type": "code",
   "execution_count": 14,
   "id": "34c2c3cb-2438-46d5-80bb-9660461ca508",
   "metadata": {
    "scrolled": true
   },
   "outputs": [
    {
     "data": {
      "text/html": [
       "<div><style>\n",
       ".dataframe > thead > tr,\n",
       ".dataframe > tbody > tr {\n",
       "  text-align: right;\n",
       "  white-space: pre-wrap;\n",
       "}\n",
       "</style>\n",
       "<small>shape: (5, 7)</small><table border=\"1\" class=\"dataframe\"><thead><tr><th>id</th><th>created_utc</th><th>subreddit</th><th>category</th><th>super_category</th><th>body</th><th>author</th></tr><tr><td>str</td><td>i64</td><td>str</td><td>str</td><td>str</td><td>str</td><td>str</td></tr></thead><tbody><tr><td>&quot;er1nbsy&quot;</td><td>1560434110</td><td>&quot;AOC&quot;</td><td>&quot;politics_2019&quot;</td><td>&quot;politics&quot;</td><td>&quot;Lol. I was ask…</td><td>&quot;Just_WoW_Thing…</td></tr><tr><td>&quot;gq5rux6&quot;</td><td>1615164573</td><td>&quot;AOC&quot;</td><td>&quot;politics_2019&quot;</td><td>&quot;politics&quot;</td><td>&quot;stfu Liberal.&quot;</td><td>&quot;gbsedillo20&quot;</td></tr><tr><td>&quot;gj3jztp&quot;</td><td>1610531437</td><td>&quot;AOC&quot;</td><td>&quot;politics_2019&quot;</td><td>&quot;politics&quot;</td><td>&quot;\n",
       "&amp;gt;Fuck that…</td><td>&quot;64590949354397…</td></tr><tr><td>&quot;esrc8yq&quot;</td><td>1562221646</td><td>&quot;AOC&quot;</td><td>&quot;politics_2019&quot;</td><td>&quot;politics&quot;</td><td>&quot;Cauliflower is…</td><td>&quot;TobiKato&quot;</td></tr><tr><td>&quot;gyjpk7u&quot;</td><td>1621327024</td><td>&quot;AOC&quot;</td><td>&quot;politics_2019&quot;</td><td>&quot;politics&quot;</td><td>&quot;If they build …</td><td>&quot;the_lonely_gam…</td></tr></tbody></table></div>"
      ],
      "text/plain": [
       "shape: (5, 7)\n",
       "┌─────────┬─────────────┬───────────┬───────────────┬───────────────┬───────────────┬──────────────┐\n",
       "│ id      ┆ created_utc ┆ subreddit ┆ category      ┆ super_categor ┆ body          ┆ author       │\n",
       "│ ---     ┆ ---         ┆ ---       ┆ ---           ┆ y             ┆ ---           ┆ ---          │\n",
       "│ str     ┆ i64         ┆ str       ┆ str           ┆ ---           ┆ str           ┆ str          │\n",
       "│         ┆             ┆           ┆               ┆ str           ┆               ┆              │\n",
       "╞═════════╪═════════════╪═══════════╪═══════════════╪═══════════════╪═══════════════╪══════════════╡\n",
       "│ er1nbsy ┆ 1560434110  ┆ AOC       ┆ politics_2019 ┆ politics      ┆ Lol. I was    ┆ Just_WoW_Thi │\n",
       "│         ┆             ┆           ┆               ┆               ┆ asking about  ┆ ngs          │\n",
       "│         ┆             ┆           ┆               ┆               ┆ the othe…     ┆              │\n",
       "│ gq5rux6 ┆ 1615164573  ┆ AOC       ┆ politics_2019 ┆ politics      ┆ stfu Liberal. ┆ gbsedillo20  │\n",
       "│ gj3jztp ┆ 1610531437  ┆ AOC       ┆ politics_2019 ┆ politics      ┆               ┆ 645909493543 │\n",
       "│         ┆             ┆           ┆               ┆               ┆ &gt;Fuck      ┆ 97548569     │\n",
       "│         ┆             ┆           ┆               ┆               ┆ that, no it's ┆              │\n",
       "│         ┆             ┆           ┆               ┆               ┆ not. The…     ┆              │\n",
       "│ esrc8yq ┆ 1562221646  ┆ AOC       ┆ politics_2019 ┆ politics      ┆ Cauliflower   ┆ TobiKato     │\n",
       "│         ┆             ┆           ┆               ┆               ┆ is racist. �� ┆              │\n",
       "│         ┆             ┆           ┆               ┆               ┆ Such w…       ┆              │\n",
       "│ gyjpk7u ┆ 1621327024  ┆ AOC       ┆ politics_2019 ┆ politics      ┆ If they build ┆ the_lonely_g │\n",
       "│         ┆             ┆           ┆               ┆               ┆ the third     ┆ ame          │\n",
       "│         ┆             ┆           ┆               ┆               ┆ temple, …     ┆              │\n",
       "└─────────┴─────────────┴───────────┴───────────────┴───────────────┴───────────────┴──────────────┘"
      ]
     },
     "execution_count": 14,
     "metadata": {},
     "output_type": "execute_result"
    }
   ],
   "source": [
    "data_df.head()"
   ]
  },
  {
   "cell_type": "code",
   "execution_count": 21,
   "id": "885f5342-5e22-4476-b199-1536ab89db8b",
   "metadata": {},
   "outputs": [],
   "source": [
    "imp_metas = ['game', 'card', 'pass', 'fan' 'pro', 'goal',\n",
    "             'score', 'draw', 'bush', 'odds',\n",
    "            ]\n",
    "\n",
    "exact_ids = []\n",
    "for key, matches in exact_matches.items():\n",
    "    if key in imp_metas:\n",
    "        if len(matches[1]) > 0:\n",
    "            exact_ids.extend(matches[1])"
   ]
  },
  {
   "cell_type": "code",
   "execution_count": 23,
   "id": "ec6a1d3c-f970-47ff-9b37-3008a2178745",
   "metadata": {},
   "outputs": [],
   "source": [
    "imp_list = data_df.filter(pl.col('id').is_in(exact_ids))['body'].to_list()"
   ]
  },
  {
   "cell_type": "code",
   "execution_count": 27,
   "id": "18a3ee3f-ab38-4c76-8f68-70a036ae4fa3",
   "metadata": {},
   "outputs": [
    {
     "data": {
      "text/plain": [
       "'Then please enlighten me. I think I understand the situation perfectly.  This started in 1986 with the Reagan/Bush \"One time only amnesty\\'. After that people figured if they overwhelmed the system by living and working here illegally we would have to grant another amnesty. Guess what? That didn\\'t happen. They gambled and lost. And now there are all these foreign nationals living here who have no legal right to live here.  What am I missing??  Oh yeah, both parties are using them as political pawns for leverage.  Such a wonderful situation.  The truth is, you can\\'t reward people for breaking laws or they will never respect those laws again. That was our HUGE mistake in 1986.'"
      ]
     },
     "execution_count": 27,
     "metadata": {},
     "output_type": "execute_result"
    }
   ],
   "source": [
    "imp_list[2]"
   ]
  },
  {
   "cell_type": "code",
   "execution_count": null,
   "id": "c76a8342-6aa7-40f8-9224-36fe6b5be657",
   "metadata": {},
   "outputs": [],
   "source": []
  }
 ],
 "metadata": {
  "kernelspec": {
   "display_name": "Python 3 (ipykernel)",
   "language": "python",
   "name": "python3"
  },
  "language_info": {
   "codemirror_mode": {
    "name": "ipython",
    "version": 3
   },
   "file_extension": ".py",
   "mimetype": "text/x-python",
   "name": "python",
   "nbconvert_exporter": "python",
   "pygments_lexer": "ipython3",
   "version": "3.12.2"
  }
 },
 "nbformat": 4,
 "nbformat_minor": 5
}
