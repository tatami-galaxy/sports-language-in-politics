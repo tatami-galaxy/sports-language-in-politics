{
 "cells": [
  {
   "cell_type": "code",
   "execution_count": 1,
   "id": "6641f848-f1e0-4086-8ea2-1da6dd6da900",
   "metadata": {},
   "outputs": [],
   "source": [
    "import re\n",
    "import json\n",
    "import polars as pl"
   ]
  },
  {
   "cell_type": "code",
   "execution_count": 29,
   "id": "03d4ca8c-809e-411e-b4c7-270047b421d8",
   "metadata": {},
   "outputs": [],
   "source": [
    "data_df = pl.read_csv('~/sports-language-in-politics/data/raw/political_comments_temporal/sample_2016_2021_political_comments.000000000005.csv').drop_nulls()"
   ]
  },
  {
   "cell_type": "code",
   "execution_count": 30,
   "id": "d380ab90-1cdc-446d-bfbb-fbf6034c4fd6",
   "metadata": {},
   "outputs": [
    {
     "data": {
      "text/html": [
       "<div><style>\n",
       ".dataframe > thead > tr > th,\n",
       ".dataframe > tbody > tr > td {\n",
       "  text-align: right;\n",
       "  white-space: pre-wrap;\n",
       "}\n",
       "</style>\n",
       "<small>shape: (5, 11)</small><table border=\"1\" class=\"dataframe\"><thead><tr><th>id</th><th>link_id</th><th>parent_id</th><th>created_utc</th><th>subreddit</th><th>category</th><th>super_category</th><th>score</th><th>body</th><th>author</th><th>gilded</th></tr><tr><td>str</td><td>str</td><td>str</td><td>i64</td><td>str</td><td>str</td><td>str</td><td>i64</td><td>str</td><td>str</td><td>i64</td></tr></thead><tbody><tr><td>&quot;fmpjipt&quot;</td><td>&quot;t3_fwcpyn&quot;</td><td>&quot;t3_fwcpyn&quot;</td><td>1586281961</td><td>&quot;AOC&quot;</td><td>&quot;politics_2019&quot;</td><td>&quot;politics&quot;</td><td>0</td><td>&quot;The Republican…</td><td>&quot;Oikos2&quot;</td><td>0</td></tr><tr><td>&quot;f2rfw9o&quot;</td><td>&quot;t3_ddure8&quot;</td><td>&quot;t3_ddure8&quot;</td><td>1570372715</td><td>&quot;law&quot;</td><td>&quot;politics_2019&quot;</td><td>&quot;politics&quot;</td><td>0</td><td>&quot;This is Americ…</td><td>&quot;LUEnitedNation…</td><td>0</td></tr><tr><td>&quot;eqsphrg&quot;</td><td>&quot;t3_bzdsgp&quot;</td><td>&quot;t1_eqsgccx&quot;</td><td>1560290436</td><td>&quot;law&quot;</td><td>&quot;politics_2019&quot;</td><td>&quot;politics&quot;</td><td>0</td><td>&quot;&amp;gt;But machin…</td><td>&quot;boopbaboop&quot;</td><td>0</td></tr><tr><td>&quot;f96epyt&quot;</td><td>&quot;t3_e3mbwn&quot;</td><td>&quot;t1_f93zz05&quot;</td><td>1575144007</td><td>&quot;law&quot;</td><td>&quot;politics_2019&quot;</td><td>&quot;politics&quot;</td><td>0</td><td>&quot;Highly unlikel…</td><td>&quot;meisannpc&quot;</td><td>0</td></tr><tr><td>&quot;g2jdrrq&quot;</td><td>&quot;t3_idz5hh&quot;</td><td>&quot;t1_g2jdibd&quot;</td><td>1598144291</td><td>&quot;law&quot;</td><td>&quot;politics_2019&quot;</td><td>&quot;politics&quot;</td><td>0</td><td>&quot;No, that’s a p…</td><td>&quot;King_Posner&quot;</td><td>0</td></tr></tbody></table></div>"
      ],
      "text/plain": [
       "shape: (5, 11)\n",
       "┌─────────┬───────────┬────────────┬─────────────┬───┬───────┬──────────────┬─────────────┬────────┐\n",
       "│ id      ┆ link_id   ┆ parent_id  ┆ created_utc ┆ … ┆ score ┆ body         ┆ author      ┆ gilded │\n",
       "│ ---     ┆ ---       ┆ ---        ┆ ---         ┆   ┆ ---   ┆ ---          ┆ ---         ┆ ---    │\n",
       "│ str     ┆ str       ┆ str        ┆ i64         ┆   ┆ i64   ┆ str          ┆ str         ┆ i64    │\n",
       "╞═════════╪═══════════╪════════════╪═════════════╪═══╪═══════╪══════════════╪═════════════╪════════╡\n",
       "│ fmpjipt ┆ t3_fwcpyn ┆ t3_fwcpyn  ┆ 1586281961  ┆ … ┆ 0     ┆ The          ┆ Oikos2      ┆ 0      │\n",
       "│         ┆           ┆            ┆             ┆   ┆       ┆ Republicans  ┆             ┆        │\n",
       "│         ┆           ┆            ┆             ┆   ┆       ┆ went after   ┆             ┆        │\n",
       "│         ┆           ┆            ┆             ┆   ┆       ┆ the i…       ┆             ┆        │\n",
       "│ f2rfw9o ┆ t3_ddure8 ┆ t3_ddure8  ┆ 1570372715  ┆ … ┆ 0     ┆ This is      ┆ LUEnitedNat ┆ 0      │\n",
       "│         ┆           ┆            ┆             ┆   ┆       ┆ America      ┆ ions        ┆        │\n",
       "│ eqsphrg ┆ t3_bzdsgp ┆ t1_eqsgccx ┆ 1560290436  ┆ … ┆ 0     ┆ &gt;But      ┆ boopbaboop  ┆ 0      │\n",
       "│         ┆           ┆            ┆             ┆   ┆       ┆ machines get ┆             ┆        │\n",
       "│         ┆           ┆            ┆             ┆   ┆       ┆ better. Peo… ┆             ┆        │\n",
       "│ f96epyt ┆ t3_e3mbwn ┆ t1_f93zz05 ┆ 1575144007  ┆ … ┆ 0     ┆ Highly       ┆ meisannpc   ┆ 0      │\n",
       "│         ┆           ┆            ┆             ┆   ┆       ┆ unlikely     ┆             ┆        │\n",
       "│ g2jdrrq ┆ t3_idz5hh ┆ t1_g2jdibd ┆ 1598144291  ┆ … ┆ 0     ┆ No, that’s a ┆ King_Posner ┆ 0      │\n",
       "│         ┆           ┆            ┆             ┆   ┆       ┆ prosecuting  ┆             ┆        │\n",
       "│         ┆           ┆            ┆             ┆   ┆       ┆ discret…     ┆             ┆        │\n",
       "└─────────┴───────────┴────────────┴─────────────┴───┴───────┴──────────────┴─────────────┴────────┘"
      ]
     },
     "execution_count": 30,
     "metadata": {},
     "output_type": "execute_result"
    }
   ],
   "source": [
    "data_df.head()"
   ]
  },
  {
   "cell_type": "code",
   "execution_count": 34,
   "id": "c85ac74d-1d00-4357-a1ca-275ac40e03e4",
   "metadata": {
    "scrolled": true
   },
   "outputs": [
    {
     "data": {
      "text/html": [
       "<div><style>\n",
       ".dataframe > thead > tr > th,\n",
       ".dataframe > tbody > tr > td {\n",
       "  text-align: right;\n",
       "  white-space: pre-wrap;\n",
       "}\n",
       "</style>\n",
       "<small>shape: (101_887,)</small><table border=\"1\" class=\"dataframe\"><thead><tr><th>created_utc</th></tr><tr><td>datetime[ms]</td></tr></thead><tbody><tr><td>1970-01-19 08:38:01.961</td></tr><tr><td>1970-01-19 04:12:52.715</td></tr><tr><td>1970-01-19 01:24:50.436</td></tr><tr><td>1970-01-19 05:32:24.007</td></tr><tr><td>1970-01-19 11:55:44.291</td></tr><tr><td>1970-01-19 06:55:40.994</td></tr><tr><td>1970-01-19 22:46:11.241</td></tr><tr><td>1970-01-18 15:26:25.043</td></tr><tr><td>1970-01-19 16:16:03.065</td></tr><tr><td>1970-01-19 19:22:59.903</td></tr><tr><td>1970-01-17 21:55:44.699</td></tr><tr><td>1970-01-19 10:19:58.185</td></tr><tr><td>&hellip;</td></tr><tr><td>1970-01-18 11:16:32.506</td></tr><tr><td>1970-01-18 03:14:45.192</td></tr><tr><td>1970-01-19 18:43:12.813</td></tr><tr><td>1970-01-18 03:44:26.530</td></tr><tr><td>1970-01-19 16:56:06.539</td></tr><tr><td>1970-01-19 05:49:31.882</td></tr><tr><td>1970-01-18 19:49:15.155</td></tr><tr><td>1970-01-19 06:58:33.153</td></tr><tr><td>1970-01-19 12:16:52.165</td></tr><tr><td>1970-01-19 10:24:24.529</td></tr><tr><td>1970-01-19 10:23:35.005</td></tr><tr><td>1970-01-19 12:10:20.968</td></tr></tbody></table></div>"
      ],
      "text/plain": [
       "shape: (101_887,)\n",
       "Series: 'created_utc' [datetime[ms]]\n",
       "[\n",
       "\t1970-01-19 08:38:01.961\n",
       "\t1970-01-19 04:12:52.715\n",
       "\t1970-01-19 01:24:50.436\n",
       "\t1970-01-19 05:32:24.007\n",
       "\t1970-01-19 11:55:44.291\n",
       "\t1970-01-19 06:55:40.994\n",
       "\t1970-01-19 22:46:11.241\n",
       "\t1970-01-18 15:26:25.043\n",
       "\t1970-01-19 16:16:03.065\n",
       "\t1970-01-19 19:22:59.903\n",
       "\t1970-01-17 21:55:44.699\n",
       "\t1970-01-19 10:19:58.185\n",
       "\t…\n",
       "\t1970-01-19 08:56:39.878\n",
       "\t1970-01-18 11:16:32.506\n",
       "\t1970-01-18 03:14:45.192\n",
       "\t1970-01-19 18:43:12.813\n",
       "\t1970-01-18 03:44:26.530\n",
       "\t1970-01-19 16:56:06.539\n",
       "\t1970-01-19 05:49:31.882\n",
       "\t1970-01-18 19:49:15.155\n",
       "\t1970-01-19 06:58:33.153\n",
       "\t1970-01-19 12:16:52.165\n",
       "\t1970-01-19 10:24:24.529\n",
       "\t1970-01-19 10:23:35.005\n",
       "\t1970-01-19 12:10:20.968\n",
       "]"
      ]
     },
     "execution_count": 34,
     "metadata": {},
     "output_type": "execute_result"
    }
   ],
   "source": [
    "data_df[\"created_utc\"].cast(pl.Datetime).dt.with_time_unit('ms')"
   ]
  },
  {
   "cell_type": "code",
   "execution_count": 32,
   "id": "4bf722d0-8e67-4193-b077-e0e7812f32ce",
   "metadata": {},
   "outputs": [
    {
     "data": {
      "text/html": [
       "<div><style>\n",
       ".dataframe > thead > tr > th,\n",
       ".dataframe > tbody > tr > td {\n",
       "  text-align: right;\n",
       "  white-space: pre-wrap;\n",
       "}\n",
       "</style>\n",
       "<small>shape: (101_887, 11)</small><table border=\"1\" class=\"dataframe\"><thead><tr><th>id</th><th>link_id</th><th>parent_id</th><th>created_utc</th><th>subreddit</th><th>category</th><th>super_category</th><th>score</th><th>body</th><th>author</th><th>gilded</th></tr><tr><td>str</td><td>str</td><td>str</td><td>datetime[ms]</td><td>str</td><td>str</td><td>str</td><td>i64</td><td>str</td><td>str</td><td>i64</td></tr></thead><tbody><tr><td>&quot;fmpjipt&quot;</td><td>&quot;t3_fwcpyn&quot;</td><td>&quot;t3_fwcpyn&quot;</td><td>1970-01-19 08:38:01.961</td><td>&quot;AOC&quot;</td><td>&quot;politics_2019&quot;</td><td>&quot;politics&quot;</td><td>0</td><td>&quot;The Republican…</td><td>&quot;Oikos2&quot;</td><td>0</td></tr><tr><td>&quot;f2rfw9o&quot;</td><td>&quot;t3_ddure8&quot;</td><td>&quot;t3_ddure8&quot;</td><td>1970-01-19 04:12:52.715</td><td>&quot;law&quot;</td><td>&quot;politics_2019&quot;</td><td>&quot;politics&quot;</td><td>0</td><td>&quot;This is Americ…</td><td>&quot;LUEnitedNation…</td><td>0</td></tr><tr><td>&quot;eqsphrg&quot;</td><td>&quot;t3_bzdsgp&quot;</td><td>&quot;t1_eqsgccx&quot;</td><td>1970-01-19 01:24:50.436</td><td>&quot;law&quot;</td><td>&quot;politics_2019&quot;</td><td>&quot;politics&quot;</td><td>0</td><td>&quot;&amp;gt;But machin…</td><td>&quot;boopbaboop&quot;</td><td>0</td></tr><tr><td>&quot;f96epyt&quot;</td><td>&quot;t3_e3mbwn&quot;</td><td>&quot;t1_f93zz05&quot;</td><td>1970-01-19 05:32:24.007</td><td>&quot;law&quot;</td><td>&quot;politics_2019&quot;</td><td>&quot;politics&quot;</td><td>0</td><td>&quot;Highly unlikel…</td><td>&quot;meisannpc&quot;</td><td>0</td></tr><tr><td>&quot;g2jdrrq&quot;</td><td>&quot;t3_idz5hh&quot;</td><td>&quot;t1_g2jdibd&quot;</td><td>1970-01-19 11:55:44.291</td><td>&quot;law&quot;</td><td>&quot;politics_2019&quot;</td><td>&quot;politics&quot;</td><td>0</td><td>&quot;No, that’s a p…</td><td>&quot;King_Posner&quot;</td><td>0</td></tr><tr><td>&quot;ffqq2ic&quot;</td><td>&quot;t3_euev44&quot;</td><td>&quot;t1_ffqnih8&quot;</td><td>1970-01-19 06:55:40.994</td><td>&quot;law&quot;</td><td>&quot;politics_2019&quot;</td><td>&quot;politics&quot;</td><td>0</td><td>&quot;Then what did …</td><td>&quot;bac5665&quot;</td><td>0</td></tr><tr><td>&quot;hl0hmzl&quot;</td><td>&quot;t3_qw230i&quot;</td><td>&quot;t1_hl0hadl&quot;</td><td>1970-01-19 22:46:11.241</td><td>&quot;law&quot;</td><td>&quot;politics_2019&quot;</td><td>&quot;politics&quot;</td><td>0</td><td>&quot;It&#x27;s actually …</td><td>&quot;Thereelgerg&quot;</td><td>0</td></tr><tr><td>&quot;dxrrpgy&quot;</td><td>&quot;t3_8e1zca&quot;</td><td>&quot;t3_8e1zca&quot;</td><td>1970-01-18 15:26:25.043</td><td>&quot;law&quot;</td><td>&quot;politics_2019&quot;</td><td>&quot;politics&quot;</td><td>0</td><td>&quot;Oh, apparently…</td><td>&quot;deptofgreatjus…</td><td>0</td></tr><tr><td>&quot;go1fues&quot;</td><td>&quot;t3_lnf7zc&quot;</td><td>&quot;t1_go1cf9l&quot;</td><td>1970-01-19 16:16:03.065</td><td>&quot;law&quot;</td><td>&quot;politics_2019&quot;</td><td>&quot;politics&quot;</td><td>0</td><td>&quot;I still don’t …</td><td>&quot;Runforsecond&quot;</td><td>0</td></tr><tr><td>&quot;h3g4kol&quot;</td><td>&quot;t3_o7v91l&quot;</td><td>&quot;t1_h32vo7e&quot;</td><td>1970-01-19 19:22:59.903</td><td>&quot;law&quot;</td><td>&quot;politics_2019&quot;</td><td>&quot;politics&quot;</td><td>0</td><td>&quot;&amp;gt;There are …</td><td>&quot;TuckyMule&quot;</td><td>0</td></tr><tr><td>&quot;d2d9myz&quot;</td><td>&quot;t3_4fxly2&quot;</td><td>&quot;t1_d2d0kfw&quot;</td><td>1970-01-17 21:55:44.699</td><td>&quot;law&quot;</td><td>&quot;politics_2019&quot;</td><td>&quot;politics&quot;</td><td>0</td><td>&quot;&quot;not guilty&quot;  …</td><td>&quot;smnokey&quot;</td><td>0</td></tr><tr><td>&quot;fv48tt8&quot;</td><td>&quot;t3_hac8lk&quot;</td><td>&quot;t1_fv1yau7&quot;</td><td>1970-01-19 10:19:58.185</td><td>&quot;law&quot;</td><td>&quot;politics_2019&quot;</td><td>&quot;politics&quot;</td><td>0</td><td>&quot;Standard rule …</td><td>&quot;deadzip10&quot;</td><td>0</td></tr><tr><td>&hellip;</td><td>&hellip;</td><td>&hellip;</td><td>&hellip;</td><td>&hellip;</td><td>&hellip;</td><td>&hellip;</td><td>&hellip;</td><td>&hellip;</td><td>&hellip;</td><td>&hellip;</td></tr><tr><td>&quot;dp3wui2&quot;</td><td>&quot;t3_79nqjq&quot;</td><td>&quot;t1_dp3t6jo&quot;</td><td>1970-01-18 11:16:32.506</td><td>&quot;Political_Revo…</td><td>&quot;politics_2019&quot;</td><td>&quot;politics&quot;</td><td>-1</td><td>&quot;She was at the…</td><td>&quot;Elm-tree-time&quot;</td><td>0</td></tr><tr><td>&quot;dalpc9j&quot;</td><td>&quot;t3_5fizpz&quot;</td><td>&quot;t1_dal97yh&quot;</td><td>1970-01-18 03:14:45.192</td><td>&quot;Political_Revo…</td><td>&quot;politics_2019&quot;</td><td>&quot;politics&quot;</td><td>-1</td><td>&quot;&amp;gt; This sub …</td><td>&quot;The1stCitizenO…</td><td>0</td></tr><tr><td>&quot;h097mer&quot;</td><td>&quot;t3_np94ot&quot;</td><td>&quot;t1_h0933j0&quot;</td><td>1970-01-19 18:43:12.813</td><td>&quot;Political_Revo…</td><td>&quot;politics_2019&quot;</td><td>&quot;politics&quot;</td><td>-1</td><td>&quot;What happened …</td><td>&quot;NauticalWhisky…</td><td>0</td></tr><tr><td>&quot;dbfr94r&quot;</td><td>&quot;t3_5jagvv&quot;</td><td>&quot;t1_dbfo5j9&quot;</td><td>1970-01-18 03:44:26.530</td><td>&quot;Political_Revo…</td><td>&quot;politics_2019&quot;</td><td>&quot;politics&quot;</td><td>-1</td><td>&quot;Such as this g…</td><td>&quot;upstateman&quot;</td><td>0</td></tr><tr><td>&quot;grhjnrh&quot;</td><td>&quot;t3_m87o0z&quot;</td><td>&quot;t1_grgdq6o&quot;</td><td>1970-01-19 16:56:06.539</td><td>&quot;Political_Revo…</td><td>&quot;politics_2019&quot;</td><td>&quot;politics&quot;</td><td>-1</td><td>&quot;That&#x27;s a diffe…</td><td>&quot;pockysan&quot;</td><td>0</td></tr><tr><td>&quot;fakrdhz&quot;</td><td>&quot;t3_e9nu2w&quot;</td><td>&quot;t1_fak9fxd&quot;</td><td>1970-01-19 05:49:31.882</td><td>&quot;TrumpCriticize…</td><td>&quot;politics_2019&quot;</td><td>&quot;politics&quot;</td><td>-1</td><td>&quot;Ask people in …</td><td>&quot;magnoliasmanor…</td><td>0</td></tr><tr><td>&quot;e8756n5&quot;</td><td>&quot;t3_9q3fg6&quot;</td><td>&quot;t1_e86vea4&quot;</td><td>1970-01-18 19:49:15.155</td><td>&quot;TrumpCriticize…</td><td>&quot;politics_2019&quot;</td><td>&quot;politics&quot;</td><td>-1</td><td>&quot;So a murderer …</td><td>&quot;RDSS0059&quot;</td><td>0</td></tr><tr><td>&quot;ffwxd08&quot;</td><td>&quot;t3_evjan9&quot;</td><td>&quot;t1_ffwwwz7&quot;</td><td>1970-01-19 06:58:33.153</td><td>&quot;PresidentialRa…</td><td>&quot;politics_2019&quot;</td><td>&quot;politics&quot;</td><td>-1</td><td>&quot;I don&#x27;t apprec…</td><td>&quot;benjiefrenzy&quot;</td><td>0</td></tr><tr><td>&quot;g48yacq&quot;</td><td>&quot;t3_in47s9&quot;</td><td>&quot;t1_g48y5ot&quot;</td><td>1970-01-19 12:16:52.165</td><td>&quot;PresidentialRa…</td><td>&quot;politics_2019&quot;</td><td>&quot;politics&quot;</td><td>-1</td><td>&quot;Your the one t…</td><td>&quot;ancaprico&quot;</td><td>0</td></tr><tr><td>&quot;fvg01c5&quot;</td><td>&quot;t3_hcdd12&quot;</td><td>&quot;t1_fvfzs68&quot;</td><td>1970-01-19 10:24:24.529</td><td>&quot;PresidentialRa…</td><td>&quot;politics_2019&quot;</td><td>&quot;politics&quot;</td><td>-1</td><td>&quot;Like Trump he …</td><td>&quot;Kryptosis&quot;</td><td>0</td></tr><tr><td>&quot;fvea0eg&quot;</td><td>&quot;t3_hca6ht&quot;</td><td>&quot;t1_fve6iqn&quot;</td><td>1970-01-19 10:23:35.005</td><td>&quot;PresidentialRa…</td><td>&quot;politics_2019&quot;</td><td>&quot;politics&quot;</td><td>-1</td><td>&quot;So what are yo…</td><td>&quot;wraith20&quot;</td><td>0</td></tr><tr><td>&quot;g3olk50&quot;</td><td>&quot;t3_iktgru&quot;</td><td>&quot;t1_g3ojwy1&quot;</td><td>1970-01-19 12:10:20.968</td><td>&quot;PresidentialRa…</td><td>&quot;politics_2019&quot;</td><td>&quot;politics&quot;</td><td>-1</td><td>&quot;What does that…</td><td>&quot;zaserman&quot;</td><td>0</td></tr></tbody></table></div>"
      ],
      "text/plain": [
       "shape: (101_887, 11)\n",
       "┌─────────┬───────────┬────────────┬──────────────┬───┬───────┬─────────────┬─────────────┬────────┐\n",
       "│ id      ┆ link_id   ┆ parent_id  ┆ created_utc  ┆ … ┆ score ┆ body        ┆ author      ┆ gilded │\n",
       "│ ---     ┆ ---       ┆ ---        ┆ ---          ┆   ┆ ---   ┆ ---         ┆ ---         ┆ ---    │\n",
       "│ str     ┆ str       ┆ str        ┆ datetime[ms] ┆   ┆ i64   ┆ str         ┆ str         ┆ i64    │\n",
       "╞═════════╪═══════════╪════════════╪══════════════╪═══╪═══════╪═════════════╪═════════════╪════════╡\n",
       "│ fmpjipt ┆ t3_fwcpyn ┆ t3_fwcpyn  ┆ 1970-01-19   ┆ … ┆ 0     ┆ The         ┆ Oikos2      ┆ 0      │\n",
       "│         ┆           ┆            ┆ 08:38:01.961 ┆   ┆       ┆ Republicans ┆             ┆        │\n",
       "│         ┆           ┆            ┆              ┆   ┆       ┆ went after  ┆             ┆        │\n",
       "│         ┆           ┆            ┆              ┆   ┆       ┆ the i…      ┆             ┆        │\n",
       "│ f2rfw9o ┆ t3_ddure8 ┆ t3_ddure8  ┆ 1970-01-19   ┆ … ┆ 0     ┆ This is     ┆ LUEnitedNat ┆ 0      │\n",
       "│         ┆           ┆            ┆ 04:12:52.715 ┆   ┆       ┆ America     ┆ ions        ┆        │\n",
       "│ eqsphrg ┆ t3_bzdsgp ┆ t1_eqsgccx ┆ 1970-01-19   ┆ … ┆ 0     ┆ &gt;But     ┆ boopbaboop  ┆ 0      │\n",
       "│         ┆           ┆            ┆ 01:24:50.436 ┆   ┆       ┆ machines    ┆             ┆        │\n",
       "│         ┆           ┆            ┆              ┆   ┆       ┆ get better. ┆             ┆        │\n",
       "│         ┆           ┆            ┆              ┆   ┆       ┆ Peo…        ┆             ┆        │\n",
       "│ f96epyt ┆ t3_e3mbwn ┆ t1_f93zz05 ┆ 1970-01-19   ┆ … ┆ 0     ┆ Highly      ┆ meisannpc   ┆ 0      │\n",
       "│         ┆           ┆            ┆ 05:32:24.007 ┆   ┆       ┆ unlikely    ┆             ┆        │\n",
       "│ …       ┆ …         ┆ …          ┆ …            ┆ … ┆ …     ┆ …           ┆ …           ┆ …      │\n",
       "│ g48yacq ┆ t3_in47s9 ┆ t1_g48y5ot ┆ 1970-01-19   ┆ … ┆ -1    ┆ Your the    ┆ ancaprico   ┆ 0      │\n",
       "│         ┆           ┆            ┆ 12:16:52.165 ┆   ┆       ┆ one that's  ┆             ┆        │\n",
       "│         ┆           ┆            ┆              ┆   ┆       ┆ envious of  ┆             ┆        │\n",
       "│         ┆           ┆            ┆              ┆   ┆       ┆ p…          ┆             ┆        │\n",
       "│ fvg01c5 ┆ t3_hcdd12 ┆ t1_fvfzs68 ┆ 1970-01-19   ┆ … ┆ -1    ┆ Like Trump  ┆ Kryptosis   ┆ 0      │\n",
       "│         ┆           ┆            ┆ 10:24:24.529 ┆   ┆       ┆ he was an   ┆             ┆        │\n",
       "│         ┆           ┆            ┆              ┆   ┆       ┆ attractive  ┆             ┆        │\n",
       "│         ┆           ┆            ┆              ┆   ┆       ┆ …           ┆             ┆        │\n",
       "│ fvea0eg ┆ t3_hca6ht ┆ t1_fve6iqn ┆ 1970-01-19   ┆ … ┆ -1    ┆ So what are ┆ wraith20    ┆ 0      │\n",
       "│         ┆           ┆            ┆ 10:23:35.005 ┆   ┆       ┆ you trying  ┆             ┆        │\n",
       "│         ┆           ┆            ┆              ┆   ┆       ┆ to say?  …  ┆             ┆        │\n",
       "│ g3olk50 ┆ t3_iktgru ┆ t1_g3ojwy1 ┆ 1970-01-19   ┆ … ┆ -1    ┆ What does   ┆ zaserman    ┆ 0      │\n",
       "│         ┆           ┆            ┆ 12:10:20.968 ┆   ┆       ┆ that have   ┆             ┆        │\n",
       "│         ┆           ┆            ┆              ┆   ┆       ┆ to do with  ┆             ┆        │\n",
       "│         ┆           ┆            ┆              ┆   ┆       ┆ a…          ┆             ┆        │\n",
       "└─────────┴───────────┴────────────┴──────────────┴───┴───────┴─────────────┴─────────────┴────────┘"
      ]
     },
     "execution_count": 32,
     "metadata": {},
     "output_type": "execute_result"
    }
   ],
   "source": [
    "data_df.with_columns(\n",
    "       pl.from_epoch(\"created_utc\", time_unit=\"ms\")\n",
    "   )"
   ]
  },
  {
   "cell_type": "code",
   "execution_count": null,
   "id": "6971005a-e036-46d5-9c56-2f9e1a2685f9",
   "metadata": {},
   "outputs": [],
   "source": []
  }
 ],
 "metadata": {
  "kernelspec": {
   "display_name": "Python 3 (ipykernel)",
   "language": "python",
   "name": "python3"
  },
  "language_info": {
   "codemirror_mode": {
    "name": "ipython",
    "version": 3
   },
   "file_extension": ".py",
   "mimetype": "text/x-python",
   "name": "python",
   "nbconvert_exporter": "python",
   "pygments_lexer": "ipython3",
   "version": "3.10.4"
  }
 },
 "nbformat": 4,
 "nbformat_minor": 5
}
