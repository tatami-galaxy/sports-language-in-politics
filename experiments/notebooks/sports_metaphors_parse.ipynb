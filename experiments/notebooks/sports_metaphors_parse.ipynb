{
 "cells": [
  {
   "cell_type": "code",
   "execution_count": 2,
   "id": "611239d2-5bfb-44c2-b5f8-3a8e017d717e",
   "metadata": {},
   "outputs": [],
   "source": [
    "import polars as pl\n",
    "import json\n",
    "import re"
   ]
  },
  {
   "cell_type": "code",
   "execution_count": 3,
   "id": "c754ce4b-3a6b-47f0-8836-5da514426fce",
   "metadata": {},
   "outputs": [
    {
     "data": {
      "text/html": [
       "<div><style>\n",
       ".dataframe > thead > tr > th,\n",
       ".dataframe > tbody > tr > td {\n",
       "  text-align: right;\n",
       "  white-space: pre-wrap;\n",
       "}\n",
       "</style>\n",
       "<small>shape: (5, 1)</small><table border=\"1\" class=\"dataframe\"><thead><tr><th>SPORTS TALK</th></tr><tr><td>str</td></tr></thead><tbody><tr><td>&quot;A DICTIONARY O…</td></tr><tr><td>&quot;METAPHORS&quot;</td></tr><tr><td>null</td></tr><tr><td>&quot;Robert A. Palm…</td></tr><tr><td>null</td></tr></tbody></table></div>"
      ],
      "text/plain": [
       "shape: (5, 1)\n",
       "┌───────────────────────────────────┐\n",
       "│ SPORTS TALK                       │\n",
       "│ ---                               │\n",
       "│ str                               │\n",
       "╞═══════════════════════════════════╡\n",
       "│ A DICTIONARY OF SPORTS            │\n",
       "│ METAPHORS                         │\n",
       "│ null                              │\n",
       "│ Robert A. Palmatier and Harold L… │\n",
       "│ null                              │\n",
       "└───────────────────────────────────┘"
      ]
     },
     "execution_count": 3,
     "metadata": {},
     "output_type": "execute_result"
    }
   ],
   "source": [
    "df = pl.read_csv('~/sports-language-in-politics/data/processed/sports_metaphors_scan.csv', truncate_ragged_lines=True)\n",
    "df.head()"
   ]
  },
  {
   "cell_type": "code",
   "execution_count": 8,
   "id": "97a01d6a-366c-4f59-8c4a-8d154a47cbaa",
   "metadata": {},
   "outputs": [],
   "source": [
    "df = df[79:598].drop_nulls()"
   ]
  },
  {
   "cell_type": "markdown",
   "id": "0d3899d0-7bd2-4ce7-9791-f93633e6045b",
   "metadata": {},
   "source": [
    "Types"
   ]
  },
  {
   "cell_type": "code",
   "execution_count": 9,
   "id": "7058cdc2-1b40-4e01-bf31-06a50cc7373e",
   "metadata": {},
   "outputs": [],
   "source": [
    "headers = []\n",
    "\n",
    "for i in range(len(df)):\n",
    "    item = df[i]['SPORTS TALK'].to_list()[0]\n",
    "    if item.isupper():\n",
    "        headers.append(item)"
   ]
  },
  {
   "cell_type": "markdown",
   "id": "df904a42-b13b-4ea4-be92-9427b4384aa3",
   "metadata": {},
   "source": [
    "Collect metaphors"
   ]
  },
  {
   "cell_type": "code",
   "execution_count": 10,
   "id": "4236eee6-df68-4a25-9235-17060db2dfed",
   "metadata": {},
   "outputs": [],
   "source": [
    "df_dict = {}\n",
    "flag = False\n",
    "header = None\n",
    "\n",
    "for i in range(len(df)):\n",
    "    item = df[i]['SPORTS TALK'].to_list()[0]\n",
    "    if item in headers:\n",
    "        df_dict[item] = []\n",
    "        header = item\n",
    "        flag = True\n",
    "        continue\n",
    "    df_dict[header].append(item)"
   ]
  },
  {
   "cell_type": "markdown",
   "id": "f813208f-81d9-4a41-9cc0-41eb0f89228a",
   "metadata": {},
   "source": [
    "Other approaches run into the same problem"
   ]
  },
  {
   "cell_type": "raw",
   "id": "1301f6ea-75cd-49de-bac8-65751262a0a3",
   "metadata": {},
   "source": [
    "import docx\n",
    "filename = '/users/Ujan/Downloads/sports_metaphors_scan.docx'\n",
    "paras = []\n",
    "\n",
    "doc = docx.Document(filename)\n",
    "for para in doc.paragraphs:\n",
    "    paras.append(para.text)\n",
    "\n",
    "import docx\n",
    "from simplify_docx import simplify\n",
    "\n",
    "# read in a document \n",
    "my_doc = docx.Document(filename)\n",
    "\n",
    "# coerce to JSON using the standard options\n",
    "my_doc_as_json = simplify(my_doc)\n",
    "\n",
    "# or with non-standard options\n",
    "#my_doc_as_json = simplify(my_doc,{\"remove-leading-white-space\":False})"
   ]
  },
  {
   "cell_type": "markdown",
   "id": "fd1c0c69-7e07-4500-a80e-2ec3496332d6",
   "metadata": {},
   "source": [
    "Delete empty types"
   ]
  },
  {
   "cell_type": "code",
   "execution_count": null,
   "id": "5a73e821-82fd-4b10-8102-fb21ea6c82e7",
   "metadata": {
    "scrolled": true
   },
   "outputs": [],
   "source": [
    "del df_dict['ACROBATICS']\n",
    "del df_dict['BANDY']\n",
    "#del df_dict['BULL VAULTING']"
   ]
  },
  {
   "cell_type": "markdown",
   "id": "fc8dd139-ee0c-45b0-9878-e4b5dcaa4bb8",
   "metadata": {},
   "source": [
    "Basic filtering"
   ]
  },
  {
   "cell_type": "code",
   "execution_count": 13,
   "id": "88b036da-1a64-4048-a881-9be7ed4b2df7",
   "metadata": {},
   "outputs": [],
   "source": [
    "meta_dict = {}\n",
    "\n",
    "for key, val in df_dict.items():\n",
    "    meta_dict[key] = []\n",
    "    for meta in val:\n",
    "        # remove empty\n",
    "        if meta == '':\n",
    "            continue\n",
    "        # remove merged metaphors\n",
    "        # no way to detect, have to manually sort them\n",
    "        # even manual selection does not work\n",
    "        #if len(meta.split()) >= 10:\n",
    "            #continue\n",
    "        # punctuation\n",
    "        meta = re.sub('\\(.*?\\)', '', meta).strip()\n",
    "        if '\\t' in meta:\n",
    "            metas = meta.split('\\t')\n",
    "            meta_dict[key].extend(metas)\n",
    "        else:    \n",
    "            meta_dict[key].append(meta)"
   ]
  },
  {
   "cell_type": "markdown",
   "id": "59ad0f96-86d4-405b-813f-9611b2edd8b0",
   "metadata": {},
   "source": [
    "Save"
   ]
  },
  {
   "cell_type": "code",
   "execution_count": 15,
   "id": "56d8872c-7028-4762-b346-b19aea488699",
   "metadata": {},
   "outputs": [],
   "source": [
    "with open('/users/Ujan/sports-language-in-politics/data/processed/meta_dict_2.json', 'w') as f:\n",
    "    json.dump(meta_dict, f)"
   ]
  },
  {
   "cell_type": "markdown",
   "id": "7a340dd6-aa66-44d1-83eb-a494bbdc80f9",
   "metadata": {},
   "source": [
    "Load"
   ]
  },
  {
   "cell_type": "raw",
   "id": "68ae484b-c0a1-4d5a-88cc-77ca340dc53f",
   "metadata": {},
   "source": [
    "with open('/users/Ujan/sports-language-in-politics/data/processed/meta_dict_1.json', 'r') as fp:\n",
    "    data = json.load(fp)"
   ]
  },
  {
   "cell_type": "code",
   "execution_count": null,
   "id": "5837bb55-43fa-419b-8a1f-dbe681bc233e",
   "metadata": {},
   "outputs": [],
   "source": []
  }
 ],
 "metadata": {
  "kernelspec": {
   "display_name": "Python 3 (ipykernel)",
   "language": "python",
   "name": "python3"
  },
  "language_info": {
   "codemirror_mode": {
    "name": "ipython",
    "version": 3
   },
   "file_extension": ".py",
   "mimetype": "text/x-python",
   "name": "python",
   "nbconvert_exporter": "python",
   "pygments_lexer": "ipython3",
   "version": "3.10.4"
  }
 },
 "nbformat": 4,
 "nbformat_minor": 5
}
