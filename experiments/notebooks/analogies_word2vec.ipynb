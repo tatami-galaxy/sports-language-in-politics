{
 "cells": [
  {
   "cell_type": "code",
   "execution_count": 64,
   "id": "03375523-e310-4ccc-9476-c871d654f3a2",
   "metadata": {},
   "outputs": [],
   "source": [
    "import numpy as np\n",
    "import pandas as pd\n",
    "import torch\n",
    "import sys\n",
    "\n",
    "from sklearn.manifold import TSNE\n",
    "import plotly.graph_objects as go\n",
    "\n",
    "import argparse\n",
    "import os\n",
    "from os.path import dirname, abspath\n",
    "from functools import partial\n",
    "import json\n",
    "import yaml\n",
    "import numpy as np\n",
    "\n",
    "import torch\n",
    "import torch.nn as nn\n",
    "from torchtext.data import get_tokenizer\n",
    "from torchtext.vocab import build_vocab_from_iterator\n",
    "from torch.utils.data import DataLoader\n",
    "\n",
    "import torch.optim as optim\n",
    "from torch.optim.lr_scheduler import LambdaLR\n",
    "\n",
    "from datasets import load_dataset\n",
    "\n",
    "import seaborn as sns\n",
    "import pandas as pd\n",
    "import polars as pl\n",
    "import matplotlib.pyplot as plt"
   ]
  },
  {
   "cell_type": "code",
   "execution_count": 44,
   "id": "653b0dc3-bb80-47fb-bdc1-ff6fe02343df",
   "metadata": {},
   "outputs": [],
   "source": [
    "EMBED_DIMENSION = 300\n",
    "EMBED_MAX_NORM = 1\n",
    "\n",
    "data_dir = \"/users/ujan/sports-language-in-politics/models/cbow/\""
   ]
  },
  {
   "cell_type": "code",
   "execution_count": 45,
   "id": "aad5ea58-9a8b-4b16-ae8f-acdd9b43e6a9",
   "metadata": {},
   "outputs": [],
   "source": [
    "if torch.backends.mps.is_available(): device = \"mps\"\n",
    "elif torch.cuda.is_available(): device = \"cuda\"\n",
    "else: device = \"cpu\""
   ]
  },
  {
   "cell_type": "code",
   "execution_count": 46,
   "id": "9a711a00-cd09-4b0a-bb90-5470f2146cc0",
   "metadata": {},
   "outputs": [],
   "source": [
    "class CBOW_Model(nn.Module):\n",
    "    \"\"\"\n",
    "    Implementation of CBOW model described in paper:\n",
    "    https://arxiv.org/abs/1301.3781\n",
    "    \"\"\"\n",
    "\n",
    "    def __init__(self, vocab_size: int):\n",
    "        super(CBOW_Model, self).__init__()\n",
    "        self.embeddings = nn.Embedding(\n",
    "            num_embeddings=vocab_size,\n",
    "            embedding_dim=EMBED_DIMENSION,\n",
    "            max_norm=EMBED_MAX_NORM,\n",
    "        )\n",
    "        self.linear = nn.Linear(\n",
    "            in_features=EMBED_DIMENSION,\n",
    "            out_features=vocab_size,\n",
    "        )\n",
    "\n",
    "    def forward(self, inputs):\n",
    "        x = self.embeddings(inputs)\n",
    "        x = x.mean(axis=1)\n",
    "        x = self.linear(x)\n",
    "        return x"
   ]
  },
  {
   "cell_type": "code",
   "execution_count": 47,
   "id": "1d32dcae-bb05-426c-9c3e-98a41147a551",
   "metadata": {},
   "outputs": [],
   "source": [
    "def get_embeddings_and_vocab(sub_name):\n",
    "    \n",
    "    vocab = torch.load(data_dir+sub_name+\"_vocab.pt\")\n",
    "    print('vocab size: {}'.format(len(vocab.get_itos())))\n",
    "    model = CBOW_Model(vocab_size=len(vocab.get_itos()))\n",
    "    model = torch.load(data_dir+sub_name+\"_model.pt\", map_location=device)\n",
    "\n",
    "    def normalization(embeddings):\n",
    "        norms = (embeddings ** 2).sum(axis=1) ** (1 / 2)\n",
    "        norms = np.reshape(norms, (len(norms), 1))\n",
    "        embeddings_norm = embeddings / norms\n",
    "        return embeddings_norm\n",
    "    \n",
    "    # embedding from first model layer\n",
    "    embeddings = list(model.parameters())[0].cpu().detach().numpy()\n",
    "    \n",
    "    # normalization\n",
    "    embeddings_norm = normalization(embeddings)\n",
    "\n",
    "    return embeddings_norm, vocab\n",
    "\n",
    "\n",
    "def get_top_similar(word: str, embeddings_norm, vocab, topN: int=5):\n",
    "    word_id = vocab[word]\n",
    "    if word_id == 0:\n",
    "        print(\"Out of vocabulary word\")\n",
    "        return\n",
    "\n",
    "    word_vec = embeddings_norm[word_id]\n",
    "    word_vec = np.reshape(word_vec, (len(word_vec), 1))\n",
    "    dists = np.matmul(embeddings_norm, word_vec).flatten()\n",
    "    topN_ids = np.argsort(-dists)[1 : topN + 1]\n",
    "\n",
    "    topN_dict = {}\n",
    "    for sim_word_id in topN_ids:\n",
    "        sim_word = vocab.lookup_token(sim_word_id)\n",
    "        topN_dict[sim_word] = dists[sim_word_id]\n",
    "    return topN_dict\n",
    "\n",
    "\n",
    "def get_sim(word1: str, word2: str, embeddings_norm, vocab):\n",
    "    if word1 not in vocab.get_itos() or word2 not in vocab.get_itos():\n",
    "        print('not in vocab')\n",
    "        return\n",
    "    word1_id = vocab[word1]\n",
    "    if word1_id == 0:\n",
    "        print(\"Out of vocabulary word\")\n",
    "        return\n",
    "    word2_id = vocab[word2]\n",
    "    if word2_id == 0:\n",
    "        print(\"Out of vocabulary word\")\n",
    "        return\n",
    "\n",
    "    word1_vec = embeddings_norm[word1_id]\n",
    "    #word1_vec = np.reshape(word1_vec, (len(word1_vec), 1))\n",
    "    \n",
    "    word2_vec = embeddings_norm[word2_id]\n",
    "    #word2_vec = np.reshape(word2_vec, (len(word2_vec), 1))\n",
    "    \n",
    "    print(np.dot(word1_vec, word2_vec))"
   ]
  },
  {
   "cell_type": "markdown",
   "id": "af15e9ef-4d2b-4a05-9d4e-7f38d144d034",
   "metadata": {},
   "source": [
    "Comparisons"
   ]
  },
  {
   "cell_type": "code",
   "execution_count": 109,
   "id": "40c685de-9a44-45d9-a23a-5723ed71c562",
   "metadata": {},
   "outputs": [
    {
     "name": "stdout",
     "output_type": "stream",
     "text": [
      "vocab size: 5764\n",
      "0.034618624\n",
      "-0.040835813\n",
      "-0.008040637\n",
      "-0.022703318\n",
      "-0.0040041488\n",
      "-0.054104347\n"
     ]
    }
   ],
   "source": [
    "# with stop words, 100 epochs\n",
    "embeddings_norm, vocab = get_embeddings_and_vocab('the_donald')\n",
    "get_sim('trump', 'captain', embeddings_norm, vocab)\n",
    "get_sim('biden', 'captain', embeddings_norm, vocab)\n",
    "get_sim('trump', 'qb', embeddings_norm, vocab)  \n",
    "get_sim('biden', 'qb', embeddings_norm, vocab)\n",
    "get_sim('race', 'election', embeddings_norm, vocab)\n",
    "get_sim('voters', 'fans', embeddings_norm, vocab)"
   ]
  },
  {
   "cell_type": "code",
   "execution_count": 116,
   "id": "ddde5fbd-8821-4ef9-85c1-c1b7ab949794",
   "metadata": {},
   "outputs": [
    {
     "name": "stdout",
     "output_type": "stream",
     "text": [
      "vocab size: 5619\n",
      "0.00909295\n",
      "0.07778975\n",
      "0.010088734\n",
      "-0.026071038\n",
      "0.07421315\n",
      "0.07718981\n"
     ]
    }
   ],
   "source": [
    "# without stop words, 100 epochs\n",
    "embeddings_norm, vocab = get_embeddings_and_vocab('no_stop_the_donald')\n",
    "get_sim('trump', 'captain', embeddings_norm, vocab)\n",
    "get_sim('biden', 'captain', embeddings_norm, vocab)\n",
    "get_sim('trump', 'qb', embeddings_norm, vocab)\n",
    "get_sim('biden', 'qb', embeddings_norm, vocab)\n",
    "get_sim('race', 'election', embeddings_norm, vocab)\n",
    "get_sim('voters', 'fans', embeddings_norm, vocab)"
   ]
  },
  {
   "cell_type": "code",
   "execution_count": 65,
   "id": "6ced66e1-40d2-4dd0-bd45-464ca6b65a5c",
   "metadata": {},
   "outputs": [
    {
     "name": "stdout",
     "output_type": "stream",
     "text": [
      "vocab size: 10229\n",
      "-0.05194399\n",
      "0.047983184\n",
      "-0.03879067\n",
      "-0.1112338\n",
      "0.050589863\n",
      "0.10164413\n"
     ]
    }
   ],
   "source": [
    "# without stop words, 100 epochs, max_norm = 10\n",
    "embeddings_norm, vocab = get_embeddings_and_vocab('no_stop_freq_20_the_donald')\n",
    "get_sim('trump', 'captain', embeddings_norm, vocab)\n",
    "get_sim('biden', 'captain', embeddings_norm, vocab)\n",
    "get_sim('trump', 'qb', embeddings_norm, vocab)\n",
    "get_sim('biden', 'qb', embeddings_norm, vocab)\n",
    "get_sim('race', 'election', embeddings_norm, vocab)\n",
    "get_sim('voters', 'fans', embeddings_norm, vocab)"
   ]
  },
  {
   "cell_type": "code",
   "execution_count": 118,
   "id": "bbf142b4-bfff-42c3-9132-d01113cc6f57",
   "metadata": {},
   "outputs": [
    {
     "name": "stdout",
     "output_type": "stream",
     "text": [
      "vocab size: 5606\n",
      "0.03222485\n",
      "0.03846648\n",
      "-0.029520795\n",
      "0.026687656\n",
      "0.06016608\n",
      "0.054330766\n"
     ]
    }
   ],
   "source": [
    "# without stop words, 300 epochs\n",
    "embeddings_norm, vocab = get_embeddings_and_vocab('no_stop_300_the_donald')\n",
    "get_sim('trump', 'captain', embeddings_norm, vocab)\n",
    "get_sim('biden', 'captain', embeddings_norm, vocab)\n",
    "get_sim('trump', 'qb', embeddings_norm, vocab)\n",
    "get_sim('biden', 'qb', embeddings_norm, vocab)\n",
    "get_sim('race', 'election', embeddings_norm, vocab)\n",
    "get_sim('voters', 'fans', embeddings_norm, vocab)"
   ]
  },
  {
   "cell_type": "code",
   "execution_count": 120,
   "id": "ce06cfd1-4438-4963-b7aa-1c29fb2bd726",
   "metadata": {},
   "outputs": [
    {
     "name": "stdout",
     "output_type": "stream",
     "text": [
      "vocab size: 5644\n",
      "0.020659003\n",
      "0.05348581\n",
      "0.011043421\n",
      "-0.024263585\n",
      "0.12906256\n",
      "-0.037614148\n"
     ]
    }
   ],
   "source": [
    "# without stop words, 100 epochs, max_norm = 10\n",
    "embeddings_norm, vocab = get_embeddings_and_vocab('norm_10_the_donald')\n",
    "get_sim('trump', 'captain', embeddings_norm, vocab)\n",
    "get_sim('biden', 'captain', embeddings_norm, vocab)\n",
    "get_sim('trump', 'qb', embeddings_norm, vocab)\n",
    "get_sim('biden', 'qb', embeddings_norm, vocab)\n",
    "get_sim('race', 'election', embeddings_norm, vocab)\n",
    "get_sim('voters', 'fans', embeddings_norm, vocab)"
   ]
  },
  {
   "cell_type": "code",
   "execution_count": 151,
   "id": "a8b9bd20-1fed-4b27-a61e-1fd2e8f65fe7",
   "metadata": {},
   "outputs": [
    {
     "name": "stdout",
     "output_type": "stream",
     "text": [
      "vocab size: 5625\n",
      "-0.035573043\n",
      "0.009166977\n",
      "0.027569694\n",
      "0.015644236\n",
      "0.11010522\n",
      "-0.041369963\n"
     ]
    }
   ],
   "source": [
    "# without stop words, 100 epochs, max_norm = 10\n",
    "embeddings_norm, vocab = get_embeddings_and_vocab('norm_100_the_donald')\n",
    "get_sim('trump', 'captain', embeddings_norm, vocab)\n",
    "get_sim('biden', 'captain', embeddings_norm, vocab)\n",
    "get_sim('trump', 'qb', embeddings_norm, vocab)\n",
    "get_sim('biden', 'qb', embeddings_norm, vocab)\n",
    "get_sim('race', 'election', embeddings_norm, vocab)\n",
    "get_sim('voters', 'fans', embeddings_norm, vocab)"
   ]
  },
  {
   "cell_type": "code",
   "execution_count": null,
   "id": "83ff2953-2efd-43f0-8a72-7360f45ce653",
   "metadata": {},
   "outputs": [],
   "source": []
  },
  {
   "cell_type": "code",
   "execution_count": 59,
   "id": "28dc649c-0907-48a4-977b-249bf37afcce",
   "metadata": {},
   "outputs": [
    {
     "name": "stdout",
     "output_type": "stream",
     "text": [
      "vocab size: 6023\n",
      "-0.015175674\n",
      "0.04075729\n",
      "-0.04098111\n",
      "-0.032709993\n",
      "-0.02134432\n",
      "0.08296682\n"
     ]
    }
   ],
   "source": [
    "# with stop words, 100 epochs\n",
    "embeddings_norm, vocab = get_embeddings_and_vocab('politics')\n",
    "get_sim('trump', 'captain', embeddings_norm, vocab)\n",
    "get_sim('biden', 'captain', embeddings_norm, vocab) \n",
    "get_sim('trump', 'qb', embeddings_norm, vocab)\n",
    "get_sim('biden', 'qb', embeddings_norm, vocab)\n",
    "get_sim('race', 'election', embeddings_norm, vocab)  \n",
    "get_sim('voters', 'fans', embeddings_norm, vocab)"
   ]
  },
  {
   "cell_type": "code",
   "execution_count": 60,
   "id": "f4f56258-c633-4fd8-a1a4-2f635c49ce27",
   "metadata": {},
   "outputs": [
    {
     "name": "stdout",
     "output_type": "stream",
     "text": [
      "vocab size: 5902\n",
      "-0.053801555\n",
      "-0.02035804\n",
      "0.043366633\n",
      "-0.082414515\n",
      "0.051281035\n",
      "0.03277685\n"
     ]
    }
   ],
   "source": [
    "# without stop words, 100_epochs\n",
    "embeddings_norm, vocab = get_embeddings_and_vocab('no_stop_politics')\n",
    "get_sim('trump', 'captain', embeddings_norm, vocab)\n",
    "get_sim('biden', 'captain', embeddings_norm, vocab)\n",
    "get_sim('trump', 'qb', embeddings_norm, vocab)\n",
    "get_sim('biden', 'qb', embeddings_norm, vocab)\n",
    "get_sim('race', 'election', embeddings_norm, vocab)\n",
    "get_sim('voters', 'fans', embeddings_norm, vocab)"
   ]
  },
  {
   "cell_type": "code",
   "execution_count": 48,
   "id": "d92a5db1-28a9-4730-a012-dbe35f3a942f",
   "metadata": {},
   "outputs": [
    {
     "name": "stdout",
     "output_type": "stream",
     "text": [
      "vocab size: 10589\n",
      "-0.04870589\n",
      "-0.046137027\n",
      "0.012557586\n",
      "-0.004711693\n",
      "0.14320174\n",
      "0.13246465\n"
     ]
    }
   ],
   "source": [
    "# without stop words, 100_epochs, min word freq=20\n",
    "embeddings_norm, vocab = get_embeddings_and_vocab('no_stop_freq_20_politics')\n",
    "get_sim('trump', 'captain', embeddings_norm, vocab)\n",
    "get_sim('biden', 'captain', embeddings_norm, vocab)\n",
    "get_sim('trump', 'qb', embeddings_norm, vocab)\n",
    "get_sim('biden', 'qb', embeddings_norm, vocab)\n",
    "get_sim('race', 'election', embeddings_norm, vocab)\n",
    "get_sim('voters', 'fans', embeddings_norm, vocab)"
   ]
  },
  {
   "cell_type": "markdown",
   "id": "45d0b7a4-b15e-4b9d-bbba-fb9b0f3fc0db",
   "metadata": {},
   "source": [
    "plot"
   ]
  },
  {
   "cell_type": "code",
   "execution_count": 77,
   "id": "b6c6e341-ee97-43d6-9aa6-18180a63781e",
   "metadata": {},
   "outputs": [
    {
     "data": {
      "text/plain": [
       "0.08273610666666666"
      ]
     },
     "execution_count": 77,
     "metadata": {},
     "output_type": "execute_result"
    }
   ],
   "source": [
    "(0.08296682 + 0.03277685 + 0.13246465) / 3"
   ]
  },
  {
   "cell_type": "code",
   "execution_count": 89,
   "id": "f7d1efcf-d7c6-4b76-9a8d-dfa3b9458e22",
   "metadata": {},
   "outputs": [],
   "source": [
    "# the_donald, politics, different hyps, avg values\n",
    "\n",
    "rep_dict = {\n",
    "    'trump:captain': -0.0027441386666666664,\n",
    "    'biden:captain': 0.02831237366666666,\n",
    "    #'trump:qb': -0.012247524333333334,\n",
    "    #'biden:qb': -0.053336052,\n",
    "    'race:election': 0.04026628806666667,\n",
    "    'voters:fans': 0.041576531,\n",
    "}\n",
    "\n",
    "dem_dict = {\n",
    "    'trump:captain': -0.039227706333333334,\n",
    "    'biden:captain': -0.008579258999999999,\n",
    "    #'trump:qb': 0.0049810363333333335,\n",
    "    #'biden:qb': -0.03994540033333333,\n",
    "    'race:election': 0.05771281833333333,\n",
    "    'voters:fans': 0.08273610666666666,\n",
    "}\n",
    "\n",
    "rep_df = pl.DataFrame(rep_dict)\n",
    "dem_df = pl.DataFrame(dem_dict)"
   ]
  },
  {
   "cell_type": "code",
   "execution_count": 90,
   "id": "4d0dd610-9d6e-4bfc-b6b7-2c417d51dd69",
   "metadata": {},
   "outputs": [],
   "source": [
    "sns.set(rc={'figure.figsize':(9.7,7.27)})"
   ]
  },
  {
   "cell_type": "code",
   "execution_count": 91,
   "id": "049fdf96-792c-4939-889d-fc1ab715d92c",
   "metadata": {},
   "outputs": [
    {
     "data": {
      "image/png": "[encoded data removed]",
      "text/plain": [
       "<Figure size 970x727 with 2 Axes>"
      ]
     },
     "metadata": {},
     "output_type": "display_data"
    }
   ],
   "source": [
    "f, axes = plt.subplots(1, 2)\n",
    "a = sns.barplot(data=rep_df.to_pandas(), orient='v' , ax=axes[0])\n",
    "b = sns.barplot(data=dem_df.to_pandas(), orient='v' , ax=axes[1])\n",
    "\n",
    "a.tick_params(labelsize=7)\n",
    "b.tick_params(labelsize=7)\n",
    "\n",
    "a.set_xlabel(\"republicans\",fontsize=10)\n",
    "b.set_xlabel(\"democrats\",fontsize=10)\n",
    "\n",
    "a.set(ylim=(-0.06, 0.1))\n",
    "b.set(ylim=(-0.06, 0.1))\n",
    "\n",
    "plt.show()"
   ]
  },
  {
   "cell_type": "code",
   "execution_count": null,
   "id": "69fe0138-95b6-47c6-866d-0d5050434ca0",
   "metadata": {},
   "outputs": [],
   "source": []
  },
  {
   "cell_type": "code",
   "execution_count": 94,
   "id": "8065e484-dd9c-4cff-8cf5-075271e57d68",
   "metadata": {},
   "outputs": [
    {
     "data": {
      "image/png": "[encoded data removed]",
      "text/plain": [
       "<Figure size 970x727 with 2 Axes>"
      ]
     },
     "metadata": {},
     "output_type": "display_data"
    }
   ],
   "source": [
    "# the_donald, politics, 100 epochs, with stop words\n",
    "rep_dict = {\n",
    "    'trump:captain': 0.034618624,\n",
    "    'biden:captain': -0.040835813,\n",
    "    #'trump:qb': -0.008040637,\n",
    "    #'biden:qb': -0.022703318,\n",
    "    'race:election': -0.0040041488,\n",
    "    'voters:fans': -0.054104347,\n",
    "}\n",
    "\n",
    "dem_dict = {\n",
    "    'trump:captain': -0.015175674,\n",
    "    'biden:captain': 0.04075729,\n",
    "    #'trump:qb': -0.04098111,\n",
    "    #'biden:qb': -0.032709993,\n",
    "    'race:election': -0.02134432,\n",
    "    'voters:fans': 0.08296682,\n",
    "}\n",
    "\n",
    "rep_df = pl.DataFrame(rep_dict)\n",
    "dem_df = pl.DataFrame(dem_dict)\n",
    "\n",
    "sns.set(rc={'figure.figsize':(9.7,7.27)})\n",
    "\n",
    "f, axes = plt.subplots(1, 2)\n",
    "a = sns.barplot(data=rep_df.to_pandas(), orient='v' , ax=axes[0])\n",
    "b = sns.barplot(data=dem_df.to_pandas(), orient='v' , ax=axes[1])\n",
    "\n",
    "a.tick_params(labelsize=7)\n",
    "b.tick_params(labelsize=7)\n",
    "\n",
    "a.set_xlabel(\"republicans\",fontsize=10)\n",
    "b.set_xlabel(\"democrats\",fontsize=10)\n",
    "\n",
    "a.set(ylim=(-0.06, 0.1))\n",
    "b.set(ylim=(-0.06, 0.1))\n",
    "\n",
    "plt.show()"
   ]
  },
  {
   "cell_type": "code",
   "execution_count": 95,
   "id": "cb38c187-959a-4615-a37d-8d4c01ffc630",
   "metadata": {},
   "outputs": [
    {
     "data": {
      "image/png": "[encoded data removed]",
      "text/plain": [
       "<Figure size 970x727 with 2 Axes>"
      ]
     },
     "metadata": {},
     "output_type": "display_data"
    }
   ],
   "source": [
    "# the_donald, politics, 100 epochs, no stop words\n",
    "\n",
    "rep_dict = {\n",
    "    'trump:captain': 0.00909295,\n",
    "    'biden:captain': 0.07778975,\n",
    "    #'trump:qb': -0.008040637,\n",
    "    #'biden:qb': -0.026071038,\n",
    "    'race:election': 0.07421315,\n",
    "    'voters:fans': 0.07718981,\n",
    "}\n",
    "\n",
    "dem_dict = {\n",
    "    'trump:captain': -0.053801555,\n",
    "    'biden:captain': -0.02035804,\n",
    "    #'trump:qb': 0.043366633,\n",
    "    #'biden:qb': -0.082414515,\n",
    "    'race:election': 0.051281035,\n",
    "    'voters:fans': 0.03277685,\n",
    "}\n",
    "\n",
    "rep_df = pl.DataFrame(rep_dict)\n",
    "dem_df = pl.DataFrame(dem_dict)\n",
    "\n",
    "sns.set(rc={'figure.figsize':(9.7,7.27)})\n",
    "\n",
    "f, axes = plt.subplots(1, 2)\n",
    "a = sns.barplot(data=rep_df.to_pandas(), orient='v' , ax=axes[0])\n",
    "b = sns.barplot(data=dem_df.to_pandas(), orient='v' , ax=axes[1])\n",
    "\n",
    "a.tick_params(labelsize=7)\n",
    "b.tick_params(labelsize=7)\n",
    "\n",
    "a.set_xlabel(\"republicans\",fontsize=10)\n",
    "b.set_xlabel(\"democrats\",fontsize=10)\n",
    "\n",
    "a.set(ylim=(-0.06, 0.1))\n",
    "b.set(ylim=(-0.06, 0.1))\n",
    "\n",
    "plt.show()"
   ]
  },
  {
   "cell_type": "code",
   "execution_count": 99,
   "id": "3f44b182-3d32-4fe5-bac5-ac980d321fb3",
   "metadata": {},
   "outputs": [
    {
     "data": {
      "image/png": "[encoded data removed]",
      "text/plain": [
       "<Figure size 970x727 with 2 Axes>"
      ]
     },
     "metadata": {},
     "output_type": "display_data"
    }
   ],
   "source": [
    "# the_donald, politics, 100 epochs, no stop words, min word freq=20\n",
    "\n",
    "rep_dict = {\n",
    "    'trump:captain': -0.05194399,\n",
    "    'biden:captain': 0.047983184,\n",
    "    #'trump:qb': -0.03879067,\n",
    "    #'biden:qb': -0.1112338,\n",
    "    'race:election': 0.050589863,\n",
    "    'voters:fans': 0.10164413,\n",
    "}\n",
    "\n",
    "dem_dict = {\n",
    "    'trump:captain': -0.04870589,\n",
    "    'biden:captain': -0.046137027,\n",
    "    #'trump:qb': 0.012557586,\n",
    "    #'biden:qb': -0.004711693,\n",
    "    'race:election': 0.14320174,\n",
    "    'voters:fans': 0.13246465,\n",
    "}\n",
    "\n",
    "rep_df = pl.DataFrame(rep_dict)\n",
    "dem_df = pl.DataFrame(dem_dict)\n",
    "\n",
    "sns.set(rc={'figure.figsize':(9.7,7.27)})\n",
    "\n",
    "f, axes = plt.subplots(1, 2)\n",
    "a = sns.barplot(data=rep_df.to_pandas(), orient='v' , ax=axes[0])\n",
    "b = sns.barplot(data=dem_df.to_pandas(), orient='v' , ax=axes[1])\n",
    "\n",
    "a.tick_params(labelsize=7)\n",
    "b.tick_params(labelsize=7)\n",
    "\n",
    "a.set_xlabel(\"republicans\",fontsize=10)\n",
    "b.set_xlabel(\"democrats\",fontsize=10)\n",
    "\n",
    "a.set(ylim=(-0.06, 0.15))\n",
    "b.set(ylim=(-0.06, 0.15))\n",
    "\n",
    "plt.show()"
   ]
  },
  {
   "cell_type": "code",
   "execution_count": null,
   "id": "9676665f-a083-457a-b418-01221987fbc7",
   "metadata": {},
   "outputs": [],
   "source": []
  },
  {
   "cell_type": "code",
   "execution_count": null,
   "id": "a890a8fd-cb9c-456b-8152-9e7770b5880a",
   "metadata": {},
   "outputs": [],
   "source": []
  },
  {
   "cell_type": "code",
   "execution_count": null,
   "id": "ca31b522-d612-4e8a-be81-ccac1f23248d",
   "metadata": {},
   "outputs": [],
   "source": []
  },
  {
   "cell_type": "code",
   "execution_count": 92,
   "id": "e334bac1-54ac-4611-a6dc-27e9b459ea05",
   "metadata": {},
   "outputs": [
    {
     "name": "stdout",
     "output_type": "stream",
     "text": [
      "vocab size: 6023\n",
      "0.48081937\n",
      "0.2517801\n"
     ]
    }
   ],
   "source": [
    "# with stop words, 100 epochs\n",
    "embeddings_norm, vocab = get_embeddings_and_vocab('politics')\n",
    "get_sim('good', 'bad', embeddings_norm, vocab)\n",
    "get_sim('red', 'blue', embeddings_norm, vocab) "
   ]
  },
  {
   "cell_type": "code",
   "execution_count": 93,
   "id": "0b954a0a-9121-4fd3-94ed-8d8c92c0bc4d",
   "metadata": {},
   "outputs": [
    {
     "name": "stdout",
     "output_type": "stream",
     "text": [
      "vocab size: 5764\n",
      "0.3798148\n",
      "0.26581362\n"
     ]
    }
   ],
   "source": [
    "# with stop words, 100 epochs\n",
    "embeddings_norm, vocab = get_embeddings_and_vocab('the_donald')\n",
    "get_sim('good', 'bad', embeddings_norm, vocab)\n",
    "get_sim('red', 'blue', embeddings_norm, vocab) "
   ]
  },
  {
   "cell_type": "code",
   "execution_count": null,
   "id": "d8418d06-9018-4d7a-b622-8d74637ef311",
   "metadata": {},
   "outputs": [],
   "source": []
  },
  {
   "cell_type": "code",
   "execution_count": null,
   "id": "f6e901ee-d4c8-4bbe-bdc7-5e7855fce3bc",
   "metadata": {},
   "outputs": [],
   "source": []
  },
  {
   "cell_type": "markdown",
   "id": "41049b6e-2b96-4d88-af16-3b8e1d09916e",
   "metadata": {},
   "source": [
    "Sim List (100 epochs, no stops)\n",
    "\n",
    "sim values low"
   ]
  },
  {
   "cell_type": "code",
   "execution_count": 152,
   "id": "c3fe7ef4-fa63-40a1-b049-9aae710a4c98",
   "metadata": {},
   "outputs": [
    {
     "name": "stdout",
     "output_type": "stream",
     "text": [
      "vocab size: 5619\n"
     ]
    },
    {
     "data": {
      "text/plain": [
       "{'terrible': 0.23426071,\n",
       " 'hurts': 0.22012997,\n",
       " 'eli': 0.21621901,\n",
       " 'horrible': 0.20877561,\n",
       " 'suspicious': 0.20856634}"
      ]
     },
     "execution_count": 152,
     "metadata": {},
     "output_type": "execute_result"
    }
   ],
   "source": [
    "embeddings_norm, vocab = get_embeddings_and_vocab('no_stop_the_donald')\n",
    "get_top_similar('bad', embeddings_norm, vocab)"
   ]
  },
  {
   "cell_type": "code",
   "execution_count": 153,
   "id": "09397b66-5ddb-49f9-aa91-30e9f535285e",
   "metadata": {},
   "outputs": [
    {
     "name": "stdout",
     "output_type": "stream",
     "text": [
      "vocab size: 5644\n"
     ]
    },
    {
     "data": {
      "text/plain": [
       "{'good': 0.40338245,\n",
       " 'deciding': 0.1998555,\n",
       " 'terrible': 0.1916355,\n",
       " 'like': 0.17780505,\n",
       " 'perfect': 0.16526628}"
      ]
     },
     "execution_count": 153,
     "metadata": {},
     "output_type": "execute_result"
    }
   ],
   "source": [
    "embeddings_norm, vocab = get_embeddings_and_vocab('norm_10_the_donald')\n",
    "get_top_similar('bad', embeddings_norm, vocab)"
   ]
  },
  {
   "cell_type": "code",
   "execution_count": 157,
   "id": "e9f75680-0805-4036-b3fb-391fd9c1b18e",
   "metadata": {},
   "outputs": [
    {
     "name": "stdout",
     "output_type": "stream",
     "text": [
      "vocab size: 5625\n"
     ]
    },
    {
     "data": {
      "text/plain": [
       "{'good': 0.38341334,\n",
       " 'terrible': 0.20237805,\n",
       " 'like': 0.19661625,\n",
       " 'draw': 0.18660292,\n",
       " 'camps': 0.18158375}"
      ]
     },
     "execution_count": 157,
     "metadata": {},
     "output_type": "execute_result"
    }
   ],
   "source": [
    "embeddings_norm, vocab = get_embeddings_and_vocab('norm_100_the_donald')\n",
    "get_top_similar('bad', embeddings_norm, vocab)"
   ]
  },
  {
   "cell_type": "code",
   "execution_count": 162,
   "id": "43f63a9b-0817-454a-8fe8-52957599ed28",
   "metadata": {},
   "outputs": [
    {
     "name": "stdout",
     "output_type": "stream",
     "text": [
      "vocab size: 5618\n"
     ]
    },
    {
     "data": {
      "text/plain": [
       "{'good': 0.2318387,\n",
       " 'blame': 0.17461991,\n",
       " 'impression': 0.16470212,\n",
       " 'ages': 0.16037121,\n",
       " 'dozen': 0.15851797}"
      ]
     },
     "execution_count": 162,
     "metadata": {},
     "output_type": "execute_result"
    }
   ],
   "source": [
    "embeddings_norm, vocab = get_embeddings_and_vocab('context_10_the_donald')\n",
    "get_top_similar('bad', embeddings_norm, vocab)"
   ]
  },
  {
   "cell_type": "code",
   "execution_count": 63,
   "id": "98708eae-9113-4ee5-b555-47184aafff35",
   "metadata": {},
   "outputs": [
    {
     "name": "stdout",
     "output_type": "stream",
     "text": [
      "vocab size: 10229\n"
     ]
    },
    {
     "data": {
      "text/plain": [
       "{'terrible': 0.26770848,\n",
       " 'horrible': 0.2333316,\n",
       " 'shitty': 0.20905374,\n",
       " 'important': 0.19857208,\n",
       " 'slipped': 0.19481656}"
      ]
     },
     "execution_count": 63,
     "metadata": {},
     "output_type": "execute_result"
    }
   ],
   "source": [
    "embeddings_norm, vocab = get_embeddings_and_vocab('no_stop_freq_20_the_donald')\n",
    "get_top_similar('bad', embeddings_norm, vocab)"
   ]
  },
  {
   "cell_type": "code",
   "execution_count": 49,
   "id": "0f6254b3-4dd9-4576-96bf-70eb645285fc",
   "metadata": {},
   "outputs": [
    {
     "name": "stdout",
     "output_type": "stream",
     "text": [
      "vocab size: 10589\n"
     ]
    },
    {
     "data": {
      "text/plain": [
       "{'awful': 0.2574749,\n",
       " 'good': 0.21907628,\n",
       " 'horrible': 0.20221268,\n",
       " 'terrible': 0.19803269,\n",
       " 'shares': 0.19167534}"
      ]
     },
     "execution_count": 49,
     "metadata": {},
     "output_type": "execute_result"
    }
   ],
   "source": [
    "embeddings_norm, vocab = get_embeddings_and_vocab('no_stop_freq_20_politics')\n",
    "get_top_similar('bad', embeddings_norm, vocab)"
   ]
  },
  {
   "cell_type": "code",
   "execution_count": 97,
   "id": "5f11a9c1-a0db-4536-b4d2-e0b0fdcfc12d",
   "metadata": {},
   "outputs": [
    {
     "name": "stdout",
     "output_type": "stream",
     "text": [
      "vocab size: 10253\n"
     ]
    },
    {
     "data": {
      "text/plain": [
       "{'terrible': 0.24812376,\n",
       " 'comfortable': 0.19659734,\n",
       " 'dominant': 0.19462329,\n",
       " 'poland': 0.19017859,\n",
       " 'good': 0.18547519}"
      ]
     },
     "execution_count": 97,
     "metadata": {},
     "output_type": "execute_result"
    }
   ],
   "source": [
    "embeddings_norm, vocab = get_embeddings_and_vocab('no_stop_pos_politics') # freq 20\n",
    "get_top_similar('bad', embeddings_norm, vocab)"
   ]
  },
  {
   "cell_type": "code",
   "execution_count": null,
   "id": "2f0feb06-b60a-4da7-b105-51e42727c7a1",
   "metadata": {},
   "outputs": [],
   "source": []
  },
  {
   "cell_type": "markdown",
   "id": "31c16312-6f23-4022-9c31-697361a23205",
   "metadata": {},
   "source": [
    "Wikitext (5 epochs)"
   ]
  },
  {
   "cell_type": "code",
   "execution_count": 102,
   "id": "339bf9f2-a46b-433b-b33c-b78e3139c12a",
   "metadata": {},
   "outputs": [
    {
     "name": "stdout",
     "output_type": "stream",
     "text": [
      "vocab size: 4099\n"
     ]
    },
    {
     "data": {
      "text/plain": [
       "{'son': 0.7171706,\n",
       " 'lord': 0.7146083,\n",
       " 'edward': 0.6907031,\n",
       " 'queen': 0.63960767,\n",
       " 'bishop': 0.6381396}"
      ]
     },
     "execution_count": 102,
     "metadata": {},
     "output_type": "execute_result"
    }
   ],
   "source": [
    "embeddings_norm, vocab = get_embeddings_and_vocab('wiki')\n",
    "#get_top_similar('blue', embeddings_norm, vocab)\n",
    "get_top_similar('king', embeddings_norm, vocab)\n",
    "#get_top_similar('good', embeddings_norm, vocab)\n",
    "#get_top_similar('german', embeddings_norm, vocab)\n",
    "#get_top_similar('bad', embeddings_norm, vocab)"
   ]
  },
  {
   "cell_type": "code",
   "execution_count": null,
   "id": "e9533ad5-2113-4ec3-8d11-ae66c2f00a10",
   "metadata": {},
   "outputs": [],
   "source": []
  },
  {
   "cell_type": "markdown",
   "id": "8e1a0527-9eee-434b-bc0b-4d88a49e77bd",
   "metadata": {},
   "source": [
    "POS"
   ]
  },
  {
   "cell_type": "code",
   "execution_count": 4,
   "id": "1e6c32de-f1c9-491c-b4c0-f63aed9c8f1b",
   "metadata": {},
   "outputs": [],
   "source": [
    "example = \"The difference wasn’t 160. After the recount that the Green Party paid for they had found ~160 more votes for Trump. Trump won WI in 2016 by over 27k votes. And the reason for selecting 3% is because that is what would flip the state results from currently being for Biden to being for Trump in just the two countries being recounted. That shouldn’t be confusing. And there have been larger errors percentage-wise than that already in this election on county levels.\""
   ]
  },
  {
   "cell_type": "code",
   "execution_count": 5,
   "id": "59d6383b-d6ca-41a3-b9ca-c17ec36ad06a",
   "metadata": {},
   "outputs": [
    {
     "data": {
      "application/vnd.jupyter.widget-view+json": {
       "model_id": "a1ea60f802fa45e4b8c54cbefe86c801",
       "version_major": 2,
       "version_minor": 0
      },
      "text/plain": [
       "Downloading pytorch_model.bin:   0%|          | 0.00/249M [00:00<?, ?B/s]"
      ]
     },
     "metadata": {},
     "output_type": "display_data"
    },
    {
     "name": "stdout",
     "output_type": "stream",
     "text": [
      "2024-02-06 17:58:21,391 SequenceTagger predicts: Dictionary with 53 tags: <unk>, O, UH, ,, VBD, PRP, VB, PRP$, NN, RB, ., DT, JJ, VBP, VBG, IN, CD, NNS, NNP, WRB, VBZ, WDT, CC, TO, MD, VBN, WP, :, RP, EX, JJR, FW, XX, HYPH, POS, RBR, JJS, PDT, NNPS, RBS, AFX, WP$, -LRB-, -RRB-, ``, '', LS, $, SYM, ADD\n"
     ]
    }
   ],
   "source": [
    "from flair.data import Sentence\n",
    "from flair.models import SequenceTagger\n",
    "\n",
    "# load tagger\n",
    "tagger = SequenceTagger.load(\"flair/pos-english\")"
   ]
  },
  {
   "cell_type": "code",
   "execution_count": 60,
   "id": "738cc506-6034-4d04-91c6-614381486b61",
   "metadata": {},
   "outputs": [],
   "source": [
    "# make example sentence\n",
    "example = \"\"\"Side note about Netflix: I watched a Netflix original with my girlfriend. \n",
    "            Show was called Scandal, and it was alright, but you could see it was left leaning. \n",
    "            It was a political drama, and season 5 literally mimics this election from a SJW perspective. \n",
    "            There were 3 candidates (as opposed to 2), one of which was characterized by the media \n",
    "            as a 'racist, sexist, hate speech spewing bigot' but yet despite these titles, \n",
    "            his popularity continued to grow. Then there's a segment about how saying 'All Lives Matter' \n",
    "            is offensive to BLM. They literally said this shit in the show. \n",
    "            I have it a 1-star rating and cancelled my Netflix membership. I'll just pirate shit from now on.\"\"\"\n",
    "\n",
    "#example = example.lower()\n",
    "\n",
    "sentence = Sentence(example)\n",
    "\n",
    "# predict NER tags\n",
    "tagger.predict(sentence)\n",
    "\n",
    "# print sentence\n",
    "#print(sentence)\n",
    "\n",
    "# print predicted NER spans\n",
    "#print('The following NER tags are found:')\n",
    "# iterate over entities and print\n",
    "#for entity in sentence.get_spans('pos'):\n",
    "    #print(entity)"
   ]
  },
  {
   "cell_type": "code",
   "execution_count": 62,
   "id": "c7391855-dd9b-452b-8eae-aa11fc219ae2",
   "metadata": {},
   "outputs": [
    {
     "data": {
      "text/plain": [
       "\"Side note about : I watched a original with my girlfriend . was called , and it was alright , but you could see it was left leaning . It was a political drama , and season 5 literally mimics this election from a perspective . There were 3 candidates ( as opposed to 2 ) , one of which was characterized by the media as a ' racist , sexist , hate speech spewing bigot ' but yet despite these titles , his popularity continued to grow . Then there 's a segment about how saying ' All Lives ' is offensive to . They literally said this shit in the show . I have it a 1-star rating and cancelled my membership . I 'll just pirate shit from now on .\""
      ]
     },
     "execution_count": 62,
     "metadata": {},
     "output_type": "execute_result"
    }
   ],
   "source": [
    "sent = []\n",
    "for token in sentence:\n",
    "    if token.tag != 'NNP':\n",
    "        sent.append(token.form)\n",
    "\n",
    "' '.join(sent)"
   ]
  },
  {
   "cell_type": "code",
   "execution_count": null,
   "id": "98099c6b-7d93-43f2-8983-d6147dbb8f1b",
   "metadata": {},
   "outputs": [],
   "source": []
  },
  {
   "cell_type": "code",
   "execution_count": null,
   "id": "2048bb8b-97a4-4d0a-8189-cbf779ddb8c6",
   "metadata": {},
   "outputs": [],
   "source": []
  },
  {
   "cell_type": "code",
   "execution_count": null,
   "id": "461f83d0-2672-4abc-a053-b5d9db1e98e3",
   "metadata": {},
   "outputs": [],
   "source": []
  },
  {
   "cell_type": "code",
   "execution_count": null,
   "id": "8b8d4614-c690-4a1f-ad59-2e0efb60200a",
   "metadata": {},
   "outputs": [],
   "source": []
  },
  {
   "cell_type": "code",
   "execution_count": null,
   "id": "5f681007-2099-4f30-9fe2-3dcf526f24c8",
   "metadata": {},
   "outputs": [],
   "source": []
  },
  {
   "cell_type": "code",
   "execution_count": null,
   "id": "faa3394a-2983-4862-989d-a813b96bc2b4",
   "metadata": {},
   "outputs": [],
   "source": []
  },
  {
   "cell_type": "code",
   "execution_count": null,
   "id": "45fde191-8700-45a7-89a9-a71e2d6d9973",
   "metadata": {},
   "outputs": [],
   "source": []
  },
  {
   "cell_type": "code",
   "execution_count": 3,
   "id": "d4f59c6e-c939-44a9-ab30-af23146bdf24",
   "metadata": {},
   "outputs": [],
   "source": [
    "the_donald_vocab = torch.load(\"/users/ujan/sports-language-in-politics/models/cbow/the_donald_vocab.pt\")\n",
    "#politics_vocab = torch.load(f\"/users/ujan/sports-language-in-politics/models/cbow/politics_vocab.pt\")"
   ]
  },
  {
   "cell_type": "code",
   "execution_count": 28,
   "id": "4cc61e4a-df3e-49f2-be5a-88427d1c82db",
   "metadata": {},
   "outputs": [
    {
     "name": "stdout",
     "output_type": "stream",
     "text": [
      "5764\n",
      "6023\n"
     ]
    }
   ],
   "source": [
    "print(len(the_donald_vocab.get_itos()))\n",
    "print(len(politics_vocab.get_itos()))"
   ]
  },
  {
   "cell_type": "code",
   "execution_count": 30,
   "id": "28820e64-3899-4339-8e0f-22670f2f92f8",
   "metadata": {},
   "outputs": [],
   "source": [
    "the_donald_model = CBOW_Model(vocab_size=len(the_donald_vocab.get_itos()))\n",
    "politics_model = CBOW_Model(vocab_size=len(politics_vocab.get_itos()))"
   ]
  },
  {
   "cell_type": "code",
   "execution_count": 31,
   "id": "59d2d51a-2131-41bf-93d9-52232bdd25c0",
   "metadata": {},
   "outputs": [],
   "source": [
    "device = torch.device(\"cuda\" if torch.cuda.is_available() else \"cpu\")\n",
    "\n",
    "the_donald_model = torch.load(f\"/users/ujan/sports-language-in-politics/models/cbow/the_donald_model.pt\", map_location=device)\n",
    "politics_model = torch.load(f\"/users/ujan/sports-language-in-politics/models/cbow/politics_model.pt\", map_location=device)"
   ]
  },
  {
   "cell_type": "code",
   "execution_count": 32,
   "id": "48c84e95-2570-4e9f-b975-0f973de972bd",
   "metadata": {},
   "outputs": [],
   "source": [
    "def normalization(embeddings):\n",
    "    norms = (embeddings ** 2).sum(axis=1) ** (1 / 2)\n",
    "    norms = np.reshape(norms, (len(norms), 1))\n",
    "    embeddings_norm = embeddings / norms\n",
    "    return embeddings_norm\n",
    "\n",
    "# embedding from first model layer\n",
    "the_donald_embeddings = list(the_donald_model.parameters())[0].cpu().detach().numpy()\n",
    "politics_embeddings = list(politics_model.parameters())[0].cpu().detach().numpy()\n",
    "\n",
    "# normalization\n",
    "the_donald_embeddings_norm = normalization(the_donald_embeddings)\n",
    "politics_embeddings_norm = normalization(politics_embeddings)\n",
    "\n",
    "#embeddings_norm.shape"
   ]
  },
  {
   "cell_type": "code",
   "execution_count": 96,
   "id": "8d35ae82-48a0-420c-8c20-6d1135b47004",
   "metadata": {
    "scrolled": true
   },
   "outputs": [],
   "source": [
    "# get embeddings\n",
    "#embeddings_df = pd.DataFrame(embeddings)\n",
    "#embeddings_df.index = vocab.get_itos()\n",
    "#embeddings_df.head()"
   ]
  },
  {
   "cell_type": "code",
   "execution_count": 97,
   "id": "64e7ab37-b528-41cb-bae3-8ce88946cfda",
   "metadata": {},
   "outputs": [],
   "source": [
    "# t-SNE transform\n",
    "#tsne = TSNE(n_components=2)\n",
    "#embeddings_df_trans = tsne.fit_transform(embeddings_df)\n",
    "#embeddings_df_trans = pd.DataFrame(embeddings_df_trans)\n",
    "\n",
    "# get token order\n",
    "#embeddings_df_trans.index = vocab.get_itos()"
   ]
  },
  {
   "cell_type": "code",
   "execution_count": 98,
   "id": "7f91fef4-f0bd-4bce-9670-1540b7411978",
   "metadata": {},
   "outputs": [],
   "source": [
    "#embeddings_df_trans = embeddings_df_trans.filter(items=imp_tokens, axis=0)\n",
    "#is_imp = np.array([True if item in imp_tokens else False for item in embeddings_df_trans.index.to_list()])"
   ]
  },
  {
   "cell_type": "raw",
   "id": "be7a053d-ee28-45ab-8047-c41f653ba0cb",
   "metadata": {},
   "source": [
    "color = np.where(is_imp, \"blue\", \"red\")\n",
    "fig = go.Figure()\n",
    "\n",
    "fig.add_trace(\n",
    "    go.Scatter(\n",
    "        x=embeddings_df_trans[0],\n",
    "        y=embeddings_df_trans[1],\n",
    "        mode=\"text\",\n",
    "        text=embeddings_df_trans.index,\n",
    "        textposition=\"middle center\",\n",
    "        textfont=dict(color=color),\n",
    "    )\n",
    ")\n",
    "fig.write_html(\"word2vec_visualization.html\")"
   ]
  },
  {
   "cell_type": "code",
   "execution_count": null,
   "id": "abb40159-8bb3-4888-ab0b-70ddfcaa1aef",
   "metadata": {},
   "outputs": [],
   "source": []
  },
  {
   "cell_type": "code",
   "execution_count": null,
   "id": "a28a7301-1585-4b59-a60e-f7409ebfb023",
   "metadata": {},
   "outputs": [],
   "source": []
  },
  {
   "cell_type": "code",
   "execution_count": null,
   "id": "b3f56dca-a1b4-4504-b77b-f19b77d6e4d8",
   "metadata": {},
   "outputs": [],
   "source": []
  },
  {
   "cell_type": "code",
   "execution_count": 48,
   "id": "9f376dae-507c-4d76-b1a2-2c75258344b1",
   "metadata": {},
   "outputs": [
    {
     "name": "stdout",
     "output_type": "stream",
     "text": [
      "-0.04026563\n"
     ]
    }
   ],
   "source": [
    "get_sim('trump', 'coach', the_donald_embeddings_norm, the_donald_vocab)"
   ]
  },
  {
   "cell_type": "code",
   "execution_count": 49,
   "id": "37dc7c8f-9e3e-455a-98fe-513e59d5b2a6",
   "metadata": {},
   "outputs": [
    {
     "name": "stdout",
     "output_type": "stream",
     "text": [
      "-0.05653703\n"
     ]
    }
   ],
   "source": [
    "get_sim('trump', 'coach', politics_embeddings_norm, politics_vocab)"
   ]
  },
  {
   "cell_type": "code",
   "execution_count": 50,
   "id": "22c910cb-e313-4e3d-96e5-ef1a1389de72",
   "metadata": {},
   "outputs": [
    {
     "name": "stdout",
     "output_type": "stream",
     "text": [
      "0.04188435\n"
     ]
    }
   ],
   "source": [
    "get_sim('biden', 'coach', the_donald_embeddings_norm, the_donald_vocab)"
   ]
  },
  {
   "cell_type": "code",
   "execution_count": 51,
   "id": "80643acb-39a0-4e8a-adc4-f2d1ab725922",
   "metadata": {},
   "outputs": [
    {
     "name": "stdout",
     "output_type": "stream",
     "text": [
      "-0.04346505\n"
     ]
    }
   ],
   "source": [
    "get_sim('biden', 'coach', politics_embeddings_norm, politics_vocab)"
   ]
  },
  {
   "cell_type": "code",
   "execution_count": null,
   "id": "563aac8f-03af-486f-b142-c62263ae2c60",
   "metadata": {},
   "outputs": [],
   "source": []
  },
  {
   "cell_type": "code",
   "execution_count": 52,
   "id": "a09ed5fb-3653-4f51-bccb-304a468af858",
   "metadata": {},
   "outputs": [
    {
     "name": "stdout",
     "output_type": "stream",
     "text": [
      "0.0028022937\n"
     ]
    }
   ],
   "source": [
    "get_sim('trump', 'captain', the_donald_embeddings_norm, the_donald_vocab)"
   ]
  },
  {
   "cell_type": "code",
   "execution_count": 53,
   "id": "52b51bed-bbf2-4b53-bb23-15db4032cb0f",
   "metadata": {},
   "outputs": [
    {
     "name": "stdout",
     "output_type": "stream",
     "text": [
      "-0.03859412\n"
     ]
    }
   ],
   "source": [
    "get_sim('trump', 'captain', politics_embeddings_norm, politics_vocab)"
   ]
  },
  {
   "cell_type": "code",
   "execution_count": 54,
   "id": "f6416302-d0b6-423e-a532-2cd686a3d2d0",
   "metadata": {},
   "outputs": [
    {
     "name": "stdout",
     "output_type": "stream",
     "text": [
      "-0.01190008\n"
     ]
    }
   ],
   "source": [
    "get_sim('biden', 'captain', the_donald_embeddings_norm, the_donald_vocab)"
   ]
  },
  {
   "cell_type": "code",
   "execution_count": 55,
   "id": "9eb2bdd8-2a1e-4599-94b9-bfe8e049a08d",
   "metadata": {},
   "outputs": [
    {
     "name": "stdout",
     "output_type": "stream",
     "text": [
      "-0.026512047\n"
     ]
    }
   ],
   "source": [
    "get_sim('biden', 'captain', politics_embeddings_norm, politics_vocab)"
   ]
  },
  {
   "cell_type": "code",
   "execution_count": null,
   "id": "96b21b50-3173-4750-91e2-88d64d89b252",
   "metadata": {},
   "outputs": [],
   "source": []
  },
  {
   "cell_type": "code",
   "execution_count": 56,
   "id": "47d7c68b-ed27-480e-ab0f-7a85417afe45",
   "metadata": {},
   "outputs": [
    {
     "name": "stdout",
     "output_type": "stream",
     "text": [
      "0.04290112\n"
     ]
    }
   ],
   "source": [
    "get_sim('team', 'party', the_donald_embeddings_norm, the_donald_vocab)"
   ]
  },
  {
   "cell_type": "code",
   "execution_count": 58,
   "id": "f25ff999-9c97-409d-951d-871fd3538071",
   "metadata": {},
   "outputs": [
    {
     "name": "stdout",
     "output_type": "stream",
     "text": [
      "0.09244258\n"
     ]
    }
   ],
   "source": [
    "get_sim('team', 'party', politics_embeddings_norm, politics_vocab)"
   ]
  },
  {
   "cell_type": "code",
   "execution_count": null,
   "id": "4aa22279-2a97-45d6-8a2f-164ab5b5dd68",
   "metadata": {},
   "outputs": [],
   "source": []
  },
  {
   "cell_type": "code",
   "execution_count": 59,
   "id": "d59c87c6-6765-4894-b553-856cb43e9cec",
   "metadata": {},
   "outputs": [
    {
     "name": "stdout",
     "output_type": "stream",
     "text": [
      "0.17911956\n"
     ]
    }
   ],
   "source": [
    "get_sim('race', 'election', the_donald_embeddings_norm, the_donald_vocab)"
   ]
  },
  {
   "cell_type": "code",
   "execution_count": 61,
   "id": "d98f8cc2-3ac6-408c-91ea-462ad933dd01",
   "metadata": {},
   "outputs": [
    {
     "name": "stdout",
     "output_type": "stream",
     "text": [
      "0.1729147\n"
     ]
    }
   ],
   "source": [
    "get_sim('race', 'election', politics_embeddings_norm, politics_vocab)"
   ]
  },
  {
   "cell_type": "code",
   "execution_count": null,
   "id": "1b2d10c8-97f3-44c8-9783-6e22d9e9d315",
   "metadata": {},
   "outputs": [],
   "source": []
  },
  {
   "cell_type": "code",
   "execution_count": 62,
   "id": "5b71d914-45c0-4fb3-adc6-66c5b43f493f",
   "metadata": {},
   "outputs": [
    {
     "name": "stdout",
     "output_type": "stream",
     "text": [
      "0.1029864\n"
     ]
    }
   ],
   "source": [
    "get_sim('voter', 'fan', the_donald_embeddings_norm, the_donald_vocab)"
   ]
  },
  {
   "cell_type": "code",
   "execution_count": 63,
   "id": "c226975d-889d-4e4a-81f7-366f19865050",
   "metadata": {},
   "outputs": [
    {
     "name": "stdout",
     "output_type": "stream",
     "text": [
      "0.14804637\n"
     ]
    }
   ],
   "source": [
    "get_sim('voter', 'fan', politics_embeddings_norm, politics_vocab)"
   ]
  },
  {
   "cell_type": "code",
   "execution_count": null,
   "id": "4a10891e-fb98-40a6-bd12-0c19b26e77a8",
   "metadata": {},
   "outputs": [],
   "source": []
  },
  {
   "cell_type": "code",
   "execution_count": null,
   "id": "f62ed8d3-ab43-4a66-b094-2766f957bf31",
   "metadata": {},
   "outputs": [],
   "source": []
  },
  {
   "cell_type": "code",
   "execution_count": 207,
   "id": "e9514380-5876-4830-8b74-7b465dc38ac0",
   "metadata": {},
   "outputs": [],
   "source": [
    "# Conservative"
   ]
  },
  {
   "cell_type": "code",
   "execution_count": 208,
   "id": "46fbe141-e582-439d-9980-eeeb4e673502",
   "metadata": {},
   "outputs": [
    {
     "name": "stdout",
     "output_type": "stream",
     "text": [
      "0.025071468\n"
     ]
    }
   ],
   "source": [
    "get_sim('trump', 'coach')"
   ]
  },
  {
   "cell_type": "code",
   "execution_count": 209,
   "id": "f1a8883e-b02a-491d-b6ef-1f02e1d5c527",
   "metadata": {},
   "outputs": [
    {
     "name": "stdout",
     "output_type": "stream",
     "text": [
      "-0.10821757\n"
     ]
    }
   ],
   "source": [
    "get_sim('biden', 'coach')"
   ]
  },
  {
   "cell_type": "code",
   "execution_count": 210,
   "id": "793704f6-a070-4cdd-8dba-57e33f16ce7f",
   "metadata": {},
   "outputs": [
    {
     "name": "stdout",
     "output_type": "stream",
     "text": [
      "0.12638268\n"
     ]
    }
   ],
   "source": [
    "get_sim('race', 'election')"
   ]
  },
  {
   "cell_type": "code",
   "execution_count": 211,
   "id": "fb8f8e60-2279-4eda-bf7f-300601a040c3",
   "metadata": {},
   "outputs": [
    {
     "name": "stdout",
     "output_type": "stream",
     "text": [
      "0.114419945\n"
     ]
    }
   ],
   "source": [
    "get_sim('voter', 'fan')"
   ]
  },
  {
   "cell_type": "code",
   "execution_count": null,
   "id": "818ad702-2727-4556-92dc-10d60716a504",
   "metadata": {},
   "outputs": [],
   "source": [
    "# The_Donald"
   ]
  },
  {
   "cell_type": "code",
   "execution_count": 103,
   "id": "ae550802-41b2-4833-b4ec-e605b4f263a7",
   "metadata": {},
   "outputs": [
    {
     "name": "stdout",
     "output_type": "stream",
     "text": [
      "-0.06472175\n"
     ]
    }
   ],
   "source": [
    "get_sim('trump', 'coach')"
   ]
  },
  {
   "cell_type": "code",
   "execution_count": 104,
   "id": "e50b8afc-08f1-4456-92fe-65866e7a0da3",
   "metadata": {},
   "outputs": [
    {
     "name": "stdout",
     "output_type": "stream",
     "text": [
      "-0.06473538\n"
     ]
    }
   ],
   "source": [
    "get_sim('biden', 'coach')"
   ]
  },
  {
   "cell_type": "code",
   "execution_count": 105,
   "id": "f65ddcbd-00bd-4bf2-9ca4-cacdb5a8a814",
   "metadata": {},
   "outputs": [
    {
     "name": "stdout",
     "output_type": "stream",
     "text": [
      "0.11673814\n"
     ]
    }
   ],
   "source": [
    "get_sim('race', 'election')"
   ]
  },
  {
   "cell_type": "code",
   "execution_count": 106,
   "id": "5ad73623-79f5-401a-80b8-1d8465bf1648",
   "metadata": {},
   "outputs": [
    {
     "name": "stdout",
     "output_type": "stream",
     "text": [
      "0.12745565\n"
     ]
    }
   ],
   "source": [
    "get_sim('voter', 'fan')"
   ]
  },
  {
   "cell_type": "code",
   "execution_count": null,
   "id": "d04f349f-973f-4cc4-bde2-a35c64282dc9",
   "metadata": {},
   "outputs": [],
   "source": [
    "# AskTrumpSupporters"
   ]
  },
  {
   "cell_type": "code",
   "execution_count": 82,
   "id": "3858e1e8-9533-4c2a-a575-9d0249568179",
   "metadata": {},
   "outputs": [
    {
     "name": "stdout",
     "output_type": "stream",
     "text": [
      "0.052884884\n"
     ]
    }
   ],
   "source": [
    "get_sim('trump', 'coach')"
   ]
  },
  {
   "cell_type": "code",
   "execution_count": 83,
   "id": "b9f36154-815b-4f6b-a531-035493a35872",
   "metadata": {},
   "outputs": [
    {
     "name": "stdout",
     "output_type": "stream",
     "text": [
      "0.013537772\n"
     ]
    }
   ],
   "source": [
    "get_sim('biden', 'coach')"
   ]
  },
  {
   "cell_type": "code",
   "execution_count": 84,
   "id": "8736cc08-3203-4d01-a8d1-c9b6e39964a5",
   "metadata": {},
   "outputs": [
    {
     "name": "stdout",
     "output_type": "stream",
     "text": [
      "0.13959454\n"
     ]
    }
   ],
   "source": [
    "get_sim('race', 'election')"
   ]
  },
  {
   "cell_type": "code",
   "execution_count": 85,
   "id": "082e36aa-5c90-47f6-9c62-4e969d03c0ab",
   "metadata": {},
   "outputs": [
    {
     "name": "stdout",
     "output_type": "stream",
     "text": [
      "0.0014483271\n"
     ]
    }
   ],
   "source": [
    "get_sim('voter', 'fan')"
   ]
  },
  {
   "cell_type": "code",
   "execution_count": null,
   "id": "682c686c-cdef-4892-8d33-0f59e0211257",
   "metadata": {},
   "outputs": [],
   "source": []
  },
  {
   "cell_type": "markdown",
   "id": "6e79804f-f5ad-4275-9acd-a8ddb17bfd9c",
   "metadata": {},
   "source": []
  },
  {
   "cell_type": "code",
   "execution_count": null,
   "id": "62f70549-b1dd-418c-b224-988bdb5385e8",
   "metadata": {},
   "outputs": [],
   "source": [
    "# democrats"
   ]
  },
  {
   "cell_type": "code",
   "execution_count": 189,
   "id": "73cdf992-97ff-46ff-8cfe-53eb92410556",
   "metadata": {},
   "outputs": [
    {
     "name": "stdout",
     "output_type": "stream",
     "text": [
      "0.17658761\n"
     ]
    }
   ],
   "source": [
    "get_sim('trump', 'coach')"
   ]
  },
  {
   "cell_type": "code",
   "execution_count": 190,
   "id": "f99b197c-7a5f-4ac7-93b8-48b6a73d674c",
   "metadata": {},
   "outputs": [
    {
     "name": "stdout",
     "output_type": "stream",
     "text": [
      "0.020108037\n"
     ]
    }
   ],
   "source": [
    "get_sim('biden', 'coach')"
   ]
  },
  {
   "cell_type": "code",
   "execution_count": 191,
   "id": "4dcb6069-a842-4216-a0f1-b9871f6fddea",
   "metadata": {},
   "outputs": [
    {
     "name": "stdout",
     "output_type": "stream",
     "text": [
      "0.42546162\n"
     ]
    }
   ],
   "source": [
    "get_sim('race', 'election')"
   ]
  },
  {
   "cell_type": "code",
   "execution_count": 192,
   "id": "ef0d48aa-55d5-4667-9611-3b217f01d6e8",
   "metadata": {},
   "outputs": [
    {
     "name": "stdout",
     "output_type": "stream",
     "text": [
      "0.17199346\n"
     ]
    }
   ],
   "source": [
    "get_sim('voter', 'fan')"
   ]
  },
  {
   "cell_type": "code",
   "execution_count": null,
   "id": "1873a237-4501-4624-96ad-97266d6d1e93",
   "metadata": {},
   "outputs": [],
   "source": [
    "# socialism"
   ]
  },
  {
   "cell_type": "code",
   "execution_count": 18,
   "id": "2c555a84-8dc0-42e5-9d94-8f7effc13546",
   "metadata": {},
   "outputs": [
    {
     "name": "stdout",
     "output_type": "stream",
     "text": [
      "0.14144689\n"
     ]
    }
   ],
   "source": [
    "#get_sim('trump', 'coach')"
   ]
  },
  {
   "cell_type": "code",
   "execution_count": 19,
   "id": "8bd32b6f-a6fe-4158-acad-b9d6c1dd93f7",
   "metadata": {},
   "outputs": [
    {
     "name": "stdout",
     "output_type": "stream",
     "text": [
      "0.062172484\n"
     ]
    }
   ],
   "source": [
    "#get_sim('biden', 'coach')"
   ]
  },
  {
   "cell_type": "code",
   "execution_count": 20,
   "id": "767d1d45-9891-4cdf-9ccd-f4e6607b5007",
   "metadata": {},
   "outputs": [
    {
     "name": "stdout",
     "output_type": "stream",
     "text": [
      "0.073596984\n"
     ]
    }
   ],
   "source": [
    "#get_sim('race', 'election')"
   ]
  },
  {
   "cell_type": "code",
   "execution_count": null,
   "id": "c5f7e6d4-c02e-49bd-a1e7-a7a71d08151e",
   "metadata": {},
   "outputs": [],
   "source": [
    "# JoeBiden"
   ]
  },
  {
   "cell_type": "code",
   "execution_count": 37,
   "id": "83fc7630-0576-4db5-a18f-ad432956338d",
   "metadata": {},
   "outputs": [
    {
     "name": "stdout",
     "output_type": "stream",
     "text": [
      "0.09293979\n"
     ]
    }
   ],
   "source": [
    "get_sim('trump', 'coach')"
   ]
  },
  {
   "cell_type": "code",
   "execution_count": 38,
   "id": "39e4bdba-b307-41b1-aa57-563297b65387",
   "metadata": {},
   "outputs": [
    {
     "name": "stdout",
     "output_type": "stream",
     "text": [
      "-0.0011312668\n"
     ]
    }
   ],
   "source": [
    "get_sim('biden', 'coach')"
   ]
  },
  {
   "cell_type": "code",
   "execution_count": 39,
   "id": "a854d80d-74e0-49ba-8318-10ba7c4bc9c2",
   "metadata": {},
   "outputs": [
    {
     "name": "stdout",
     "output_type": "stream",
     "text": [
      "0.2310926\n"
     ]
    }
   ],
   "source": [
    "get_sim('race', 'election')"
   ]
  },
  {
   "cell_type": "code",
   "execution_count": 40,
   "id": "34924a5d-a635-462e-b01f-8b937fa4a6bb",
   "metadata": {},
   "outputs": [
    {
     "name": "stdout",
     "output_type": "stream",
     "text": [
      "0.14530016\n"
     ]
    }
   ],
   "source": [
    "get_sim('voter', 'fan')"
   ]
  },
  {
   "cell_type": "code",
   "execution_count": null,
   "id": "9066d751-a26f-4986-af8e-1aa3007ec49b",
   "metadata": {},
   "outputs": [],
   "source": [
    "# AskALiberal"
   ]
  },
  {
   "cell_type": "code",
   "execution_count": 62,
   "id": "0492fa12-71ab-438f-8552-996d6fdd2ab2",
   "metadata": {},
   "outputs": [
    {
     "name": "stdout",
     "output_type": "stream",
     "text": [
      "0.19343403\n"
     ]
    }
   ],
   "source": [
    "get_sim('trump', 'coach')"
   ]
  },
  {
   "cell_type": "code",
   "execution_count": 63,
   "id": "e66b191b-4b55-473c-8894-4a4230319db1",
   "metadata": {},
   "outputs": [
    {
     "name": "stdout",
     "output_type": "stream",
     "text": [
      "0.013923576\n"
     ]
    }
   ],
   "source": [
    "get_sim('biden', 'coach')"
   ]
  },
  {
   "cell_type": "code",
   "execution_count": 64,
   "id": "3fe67c4e-3a4d-4ef1-8925-f22131915505",
   "metadata": {},
   "outputs": [
    {
     "name": "stdout",
     "output_type": "stream",
     "text": [
      "0.11042511\n"
     ]
    }
   ],
   "source": [
    "get_sim('race', 'election')"
   ]
  },
  {
   "cell_type": "code",
   "execution_count": 65,
   "id": "58c7e963-afde-427a-bab7-23e4ec8f6155",
   "metadata": {},
   "outputs": [
    {
     "name": "stdout",
     "output_type": "stream",
     "text": [
      "-0.02277404\n"
     ]
    }
   ],
   "source": [
    "get_sim('voter', 'fan')"
   ]
  },
  {
   "cell_type": "code",
   "execution_count": null,
   "id": "71d90690-a4c0-46c2-9e9d-83ee8059fae3",
   "metadata": {},
   "outputs": [],
   "source": []
  },
  {
   "cell_type": "code",
   "execution_count": null,
   "id": "340a43a9-0fbe-411d-89c2-c23583af7950",
   "metadata": {},
   "outputs": [],
   "source": []
  },
  {
   "cell_type": "code",
   "execution_count": 1,
   "id": "9dde670b-29c1-43e3-8b70-48788438a309",
   "metadata": {},
   "outputs": [],
   "source": [
    "import polars as pl\n",
    "import re"
   ]
  },
  {
   "cell_type": "code",
   "execution_count": 2,
   "id": "b47b7fe1-b7f8-48f9-b442-3d3c4aa52ec4",
   "metadata": {},
   "outputs": [],
   "source": [
    "df = pl.read_csv('/users/ujan/sports-language-in-politics/data/processed/politics_sample.csv').drop_nulls()"
   ]
  },
  {
   "cell_type": "code",
   "execution_count": 4,
   "id": "a6cfef65-275a-4e4c-a63c-f8011183568c",
   "metadata": {},
   "outputs": [],
   "source": [
    "df = pl.read_csv('/users/ujan/sports-language-in-politics/data/processed/sports_sample.csv').drop_nulls()"
   ]
  },
  {
   "cell_type": "code",
   "execution_count": 5,
   "id": "ce67fb3b-3052-42d5-91f8-4d136a456122",
   "metadata": {},
   "outputs": [
    {
     "data": {
      "text/plain": [
       "4306780"
      ]
     },
     "execution_count": 5,
     "metadata": {},
     "output_type": "execute_result"
    }
   ],
   "source": [
    "len(df)"
   ]
  },
  {
   "cell_type": "code",
   "execution_count": null,
   "id": "ecf532be-297e-440e-a6f2-bd0736aa3aab",
   "metadata": {
    "scrolled": true
   },
   "outputs": [],
   "source": [
    "df['subreddit'].unique().to_list()"
   ]
  },
  {
   "cell_type": "code",
   "execution_count": 11,
   "id": "2c0a9d5c-a2c8-4703-a0b2-6a8fad5d8bfd",
   "metadata": {},
   "outputs": [
    {
     "data": {
      "text/plain": [
       "86348"
      ]
     },
     "execution_count": 11,
     "metadata": {},
     "output_type": "execute_result"
    }
   ],
   "source": [
    "len(df.filter(pl.col('subreddit') == 'Conservative'))"
   ]
  },
  {
   "cell_type": "code",
   "execution_count": 20,
   "id": "5130a525-2f51-4bd8-a876-3ab98ac9a643",
   "metadata": {},
   "outputs": [
    {
     "data": {
      "text/plain": [
       "184"
      ]
     },
     "execution_count": 20,
     "metadata": {},
     "output_type": "execute_result"
    }
   ],
   "source": [
    "len(df.filter(pl.col('subreddit') == 'Donald_Trump'))"
   ]
  },
  {
   "cell_type": "code",
   "execution_count": 22,
   "id": "27dd33ed-9c84-48d0-913a-c73dd848dfc2",
   "metadata": {},
   "outputs": [
    {
     "data": {
      "text/plain": [
       "1147"
      ]
     },
     "execution_count": 22,
     "metadata": {},
     "output_type": "execute_result"
    }
   ],
   "source": [
    "len(df.filter(pl.col('subreddit') == 'donaldtrump'))"
   ]
  },
  {
   "cell_type": "code",
   "execution_count": 23,
   "id": "25ccef39-eb1d-4ef6-bcf1-24e5875914d4",
   "metadata": {},
   "outputs": [
    {
     "data": {
      "text/plain": [
       "28454"
      ]
     },
     "execution_count": 23,
     "metadata": {},
     "output_type": "execute_result"
    }
   ],
   "source": [
    "len(df.filter(pl.col('subreddit') == 'AskTrumpSupporters'))"
   ]
  },
  {
   "cell_type": "code",
   "execution_count": 24,
   "id": "f41ec349-1475-413f-b7db-5a4d8a3299fc",
   "metadata": {},
   "outputs": [
    {
     "data": {
      "text/plain": [
       "419292"
      ]
     },
     "execution_count": 24,
     "metadata": {},
     "output_type": "execute_result"
    }
   ],
   "source": [
    "len(df.filter(pl.col('subreddit') == 'The_Donald'))"
   ]
  },
  {
   "cell_type": "code",
   "execution_count": 6,
   "id": "2eb71c21-d3f3-4582-a26f-935d8065eee3",
   "metadata": {},
   "outputs": [
    {
     "data": {
      "text/plain": [
       "505640"
      ]
     },
     "execution_count": 6,
     "metadata": {},
     "output_type": "execute_result"
    }
   ],
   "source": [
    "419292 + 86348"
   ]
  },
  {
   "cell_type": "code",
   "execution_count": 21,
   "id": "3113ed6e-9447-47f8-9725-81fac0ee6761",
   "metadata": {},
   "outputs": [
    {
     "data": {
      "text/plain": [
       "7632"
      ]
     },
     "execution_count": 21,
     "metadata": {},
     "output_type": "execute_result"
    }
   ],
   "source": [
    "len(df.filter(pl.col('subreddit') == 'JoeBiden'))"
   ]
  },
  {
   "cell_type": "code",
   "execution_count": 16,
   "id": "be40a117-2117-4ad2-a943-81e59ea9ac6b",
   "metadata": {},
   "outputs": [
    {
     "data": {
      "text/plain": [
       "12888"
      ]
     },
     "execution_count": 16,
     "metadata": {},
     "output_type": "execute_result"
    }
   ],
   "source": [
    "len(df.filter(pl.col('subreddit') == 'AskALiberal'))"
   ]
  },
  {
   "cell_type": "code",
   "execution_count": 17,
   "id": "3a4290a1-dc3f-487e-a2f6-b16e1f4cddeb",
   "metadata": {},
   "outputs": [
    {
     "data": {
      "text/plain": [
       "6308"
      ]
     },
     "execution_count": 17,
     "metadata": {},
     "output_type": "execute_result"
    }
   ],
   "source": [
    "len(df.filter(pl.col('subreddit') == 'democrats'))  # 238 biden, 1063 trump (> 50 chars)"
   ]
  },
  {
   "cell_type": "code",
   "execution_count": 18,
   "id": "b8f2cfa3-e2b4-4de0-8b2c-2c881a3fc174",
   "metadata": {},
   "outputs": [
    {
     "data": {
      "text/plain": [
       "14020"
      ]
     },
     "execution_count": 18,
     "metadata": {},
     "output_type": "execute_result"
    }
   ],
   "source": [
    "len(df.filter(pl.col('subreddit') == 'socialism'))"
   ]
  },
  {
   "cell_type": "code",
   "execution_count": 5,
   "id": "3ea5b040-d9a0-4679-93e2-9daf55d0d924",
   "metadata": {},
   "outputs": [
    {
     "data": {
      "text/plain": [
       "2142"
      ]
     },
     "execution_count": 5,
     "metadata": {},
     "output_type": "execute_result"
    }
   ],
   "source": [
    "len(df.filter(pl.col('subreddit') == 'Liberal'))"
   ]
  },
  {
   "cell_type": "code",
   "execution_count": 6,
   "id": "08b5d02c-8609-4264-8e5f-08c830891ae8",
   "metadata": {},
   "outputs": [
    {
     "data": {
      "text/plain": [
       "1249375"
      ]
     },
     "execution_count": 6,
     "metadata": {},
     "output_type": "execute_result"
    }
   ],
   "source": [
    "len(df.filter(pl.col('subreddit') == 'politics'))"
   ]
  },
  {
   "cell_type": "code",
   "execution_count": 7,
   "id": "78ab5a9e-9335-4c6a-bf44-9c46208aa297",
   "metadata": {},
   "outputs": [
    {
     "data": {
      "text/plain": [
       "164"
      ]
     },
     "execution_count": 7,
     "metadata": {},
     "output_type": "execute_result"
    }
   ],
   "source": [
    "len(df.filter(pl.col('subreddit') == 'obama'))"
   ]
  },
  {
   "cell_type": "code",
   "execution_count": 8,
   "id": "1e2f6b6e-f9aa-4786-9d1f-3607dfee5fed",
   "metadata": {},
   "outputs": [
    {
     "data": {
      "text/plain": [
       "6913"
      ]
     },
     "execution_count": 8,
     "metadata": {},
     "output_type": "execute_result"
    }
   ],
   "source": [
    "len(df.filter(pl.col('subreddit') == 'esist'))"
   ]
  },
  {
   "cell_type": "code",
   "execution_count": 9,
   "id": "82d6aa18-07fa-46b6-8fbb-4f8dd09eab90",
   "metadata": {},
   "outputs": [
    {
     "data": {
      "text/plain": [
       "1860"
      ]
     },
     "execution_count": 9,
     "metadata": {},
     "output_type": "execute_result"
    }
   ],
   "source": [
    "len(df.filter(pl.col('subreddit') == 'progressive'))"
   ]
  },
  {
   "cell_type": "code",
   "execution_count": null,
   "id": "6738822f-62bc-4dd8-9791-a0b3a5aa3113",
   "metadata": {},
   "outputs": [],
   "source": [
    "# liberal, politics, obama, bernie, sandersforpresident, r/esist, progressive"
   ]
  },
  {
   "cell_type": "code",
   "execution_count": null,
   "id": "7ca274a9-6954-4e8a-86bd-05466c6c89ea",
   "metadata": {},
   "outputs": [],
   "source": []
  },
  {
   "cell_type": "code",
   "execution_count": null,
   "id": "550872e1-2296-402a-8dd5-ce68ac9e2ab0",
   "metadata": {},
   "outputs": [],
   "source": []
  },
  {
   "cell_type": "code",
   "execution_count": null,
   "id": "e703de8c-b4a3-459f-9710-a176ed780202",
   "metadata": {},
   "outputs": [],
   "source": [
    "# politics sub"
   ]
  },
  {
   "cell_type": "code",
   "execution_count": 10,
   "id": "0c7f54ab-cd7d-460f-ae0f-3cd5f221584d",
   "metadata": {},
   "outputs": [],
   "source": [
    "sports_df = pl.read_csv('/users/ujan/sports-language-in-politics/data/processed/sports_sample.csv').drop_nulls()"
   ]
  },
  {
   "cell_type": "code",
   "execution_count": null,
   "id": "0ff267c2-7cfb-476d-86ff-5ab86a8d7f71",
   "metadata": {
    "scrolled": true
   },
   "outputs": [],
   "source": [
    "sports_df['subreddit'].unique().to_list()"
   ]
  },
  {
   "cell_type": "code",
   "execution_count": 17,
   "id": "8e5052c0-5bcb-4de0-97a3-776226ac876f",
   "metadata": {},
   "outputs": [],
   "source": [
    "comments = [comment.replace(\"'\", '')for comment in sports_df['body'].to_list()]\n",
    "comments = [re.sub(r\"[^a-zA-Z0-9]+\", ' ', comment).lower() for comment in comments]"
   ]
  },
  {
   "cell_type": "code",
   "execution_count": 18,
   "id": "0ef70d38-8cb8-4bff-9aa2-dd48ff2e6287",
   "metadata": {},
   "outputs": [
    {
     "data": {
      "text/plain": [
       "'i think everyone can agree that an exciting 3 3 tie would be fantastic'"
      ]
     },
     "execution_count": 18,
     "metadata": {},
     "output_type": "execute_result"
    }
   ],
   "source": [
    "comments[13]"
   ]
  },
  {
   "cell_type": "code",
   "execution_count": 19,
   "id": "f60ed668-3acf-47d7-9ea9-f39b0e025528",
   "metadata": {},
   "outputs": [
    {
     "data": {
      "text/plain": [
       "4306780"
      ]
     },
     "execution_count": 19,
     "metadata": {},
     "output_type": "execute_result"
    }
   ],
   "source": [
    "len(comments)"
   ]
  },
  {
   "cell_type": "code",
   "execution_count": 24,
   "id": "b243c1f5-eafb-40c2-8ec4-3ed4d481c0e6",
   "metadata": {},
   "outputs": [
    {
     "data": {
      "text/plain": [
       "45578"
      ]
     },
     "execution_count": 24,
     "metadata": {},
     "output_type": "execute_result"
    }
   ],
   "source": [
    "count = 0\n",
    "for comment in comments:\n",
    "    if 'qbf' in comment:\n",
    "        count += 1\n",
    "\n",
    "count"
   ]
  },
  {
   "cell_type": "code",
   "execution_count": null,
   "id": "fd3bcf82-ee29-42c8-a604-1b761b90ec97",
   "metadata": {},
   "outputs": [],
   "source": []
  },
  {
   "cell_type": "code",
   "execution_count": null,
   "id": "9e4bf02f-964f-4d8b-a5ee-38c04d583f3a",
   "metadata": {},
   "outputs": [],
   "source": []
  },
  {
   "cell_type": "code",
   "execution_count": 42,
   "id": "aae1b522-13a0-4124-8389-6bf06e0bbf77",
   "metadata": {},
   "outputs": [],
   "source": [
    "import seaborn as sns\n",
    "import pandas as pd\n",
    "import polars as pl\n",
    "import matplotlib.pyplot as plt"
   ]
  },
  {
   "cell_type": "code",
   "execution_count": 13,
   "id": "c882042d-6346-409a-b268-5a878eb97358",
   "metadata": {},
   "outputs": [
    {
     "data": {
      "text/plain": [
       "0.09817319333333334"
      ]
     },
     "execution_count": 13,
     "metadata": {},
     "output_type": "execute_result"
    }
   ],
   "source": [
    "(0.17199346 + 0.14530016 + -0.02277404) / 3"
   ]
  },
  {
   "cell_type": "code",
   "execution_count": 22,
   "id": "4f7cee89-011b-4d8f-a6db-65e459fd6a01",
   "metadata": {},
   "outputs": [],
   "source": [
    "# Conservative, The_Donald, AskTrumpSupporters\n",
    "rep_dict = {\n",
    "    'trump:coach': 0.004411534000000002,\n",
    "    'biden:coach': -0.053138392666666666,\n",
    "    'race:election': 0.12757178666666666,\n",
    "    'voter:fan': 0.08110797403333334,\n",
    "}\n",
    "\n",
    "# democrats, JoeBiden, AskALiberal\n",
    "dem_dict = {\n",
    "    'trump:coach': 0.15432047666666668,\n",
    "    'biden:coach': 0.010966782066666667,\n",
    "    'race:election': 0.25565977666666667,\n",
    "    'voter:fan': 0.09817319333333334,\n",
    "}\n",
    "\n",
    "rep_df = pl.DataFrame(rep_dict)\n",
    "dem_df = pl.DataFrame(dem_dict)"
   ]
  },
  {
   "cell_type": "code",
   "execution_count": 45,
   "id": "3b37cee1-74cc-4f46-92fa-0c44afc5582e",
   "metadata": {},
   "outputs": [],
   "source": [
    "sns.set(rc={'figure.figsize':(9.7,7.27)})"
   ]
  },
  {
   "cell_type": "code",
   "execution_count": 49,
   "id": "92b89365-f9bd-4099-be3d-8dc50087f71b",
   "metadata": {},
   "outputs": [
    {
     "data": {
      "image/png": "[encoded data removed]",
      "text/plain": [
       "<Figure size 970x727 with 2 Axes>"
      ]
     },
     "metadata": {},
     "output_type": "display_data"
    }
   ],
   "source": [
    "f, axes = plt.subplots(1, 2)\n",
    "a = sns.barplot(data=rep_df.to_pandas(), orient='v' , ax=axes[0])\n",
    "b = sns.barplot(data=dem_df.to_pandas(), orient='v' , ax=axes[1])\n",
    "\n",
    "a.tick_params(labelsize=9)\n",
    "b.tick_params(labelsize=9)\n",
    "\n",
    "a.set_xlabel(\"republicans\",fontsize=10)\n",
    "b.set_xlabel(\"democrats\",fontsize=10)\n",
    "\n",
    "a.set(ylim=(-0.07, 0.260))\n",
    "b.set(ylim=(-0.07, 0.260))\n",
    "\n",
    "plt.show()"
   ]
  },
  {
   "cell_type": "code",
   "execution_count": null,
   "id": "432035ca-b209-41ee-8f1c-8ae21727a5e0",
   "metadata": {},
   "outputs": [],
   "source": [
    "# verify trend with random mappings"
   ]
  }
 ],
 "metadata": {
  "kernelspec": {
   "display_name": "Python 3 (ipykernel)",
   "language": "python",
   "name": "python3"
  },
  "language_info": {
   "codemirror_mode": {
    "name": "ipython",
    "version": 3
   },
   "file_extension": ".py",
   "mimetype": "text/x-python",
   "name": "python",
   "nbconvert_exporter": "python",
   "pygments_lexer": "ipython3",
   "version": "3.10.4"
  }
 },
 "nbformat": 4,
 "nbformat_minor": 5
}
