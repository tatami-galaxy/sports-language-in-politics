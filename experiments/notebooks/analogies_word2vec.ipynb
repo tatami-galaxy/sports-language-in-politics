{
 "cells": [
  {
   "cell_type": "code",
   "execution_count": 90,
   "id": "03375523-e310-4ccc-9476-c871d654f3a2",
   "metadata": {},
   "outputs": [],
   "source": [
    "import numpy as np\n",
    "import pandas as pd\n",
    "import torch\n",
    "import sys\n",
    "import re\n",
    "\n",
    "from sklearn.manifold import TSNE\n",
    "import plotly.graph_objects as go\n",
    "\n",
    "import argparse\n",
    "import os\n",
    "from os.path import dirname, abspath\n",
    "from functools import partial\n",
    "import json\n",
    "import yaml\n",
    "import numpy as np\n",
    "\n",
    "import torch\n",
    "import torch.nn as nn\n",
    "from torchtext.data import get_tokenizer\n",
    "from torchtext.vocab import build_vocab_from_iterator\n",
    "from torch.utils.data import DataLoader\n",
    "\n",
    "import torch.optim as optim\n",
    "from torch.optim.lr_scheduler import LambdaLR\n",
    "\n",
    "from datasets import load_dataset\n",
    "\n",
    "import seaborn as sns\n",
    "import pandas as pd\n",
    "import polars as pl\n",
    "import matplotlib.pyplot as plt\n",
    "\n",
    "from torchtext.data import get_tokenizer\n",
    "from torchtext.vocab import build_vocab_from_iterator\n",
    "from torch.utils.data import DataLoader\n",
    "\n",
    "from datasets import Dataset\n",
    "from tqdm.auto import tqdm"
   ]
  },
  {
   "cell_type": "code",
   "execution_count": 43,
   "id": "653b0dc3-bb80-47fb-bdc1-ff6fe02343df",
   "metadata": {},
   "outputs": [],
   "source": [
    "EMBED_DIMENSION = 300\n",
    "EMBED_MAX_NORM = 1\n",
    "\n",
    "data_dir = \"/users/ujan/sports-language-in-politics/models/cbow/\""
   ]
  },
  {
   "cell_type": "code",
   "execution_count": 44,
   "id": "aad5ea58-9a8b-4b16-ae8f-acdd9b43e6a9",
   "metadata": {},
   "outputs": [],
   "source": [
    "if torch.backends.mps.is_available(): device = \"mps\"\n",
    "elif torch.cuda.is_available(): device = \"cuda\"\n",
    "else: device = \"cpu\""
   ]
  },
  {
   "cell_type": "code",
   "execution_count": 45,
   "id": "9a711a00-cd09-4b0a-bb90-5470f2146cc0",
   "metadata": {},
   "outputs": [],
   "source": [
    "class CBOW_Model(nn.Module):\n",
    "    \"\"\"\n",
    "    Implementation of CBOW model described in paper:\n",
    "    https://arxiv.org/abs/1301.3781\n",
    "    \"\"\"\n",
    "\n",
    "    def __init__(self, vocab_size: int):\n",
    "        super(CBOW_Model, self).__init__()\n",
    "        self.embeddings = nn.Embedding(\n",
    "            num_embeddings=vocab_size,\n",
    "            embedding_dim=EMBED_DIMENSION,\n",
    "            max_norm=EMBED_MAX_NORM,\n",
    "        )\n",
    "        self.linear = nn.Linear(\n",
    "            in_features=EMBED_DIMENSION,\n",
    "            out_features=vocab_size,\n",
    "        )\n",
    "\n",
    "    def forward(self, inputs):\n",
    "        x = self.embeddings(inputs)\n",
    "        x = x.mean(axis=1)\n",
    "        x = self.linear(x)\n",
    "        return x"
   ]
  },
  {
   "cell_type": "code",
   "execution_count": 46,
   "id": "1d32dcae-bb05-426c-9c3e-98a41147a551",
   "metadata": {},
   "outputs": [],
   "source": [
    "def get_embeddings_and_vocab(sub_name):\n",
    "    \n",
    "    vocab = torch.load(data_dir+sub_name+\"_vocab.pt\")\n",
    "    print('vocab size: {}'.format(len(vocab.get_itos())))\n",
    "    model = CBOW_Model(vocab_size=len(vocab.get_itos()))\n",
    "    model = torch.load(data_dir+sub_name+\"_model.pt\", map_location=device)\n",
    "\n",
    "    def normalization(embeddings):\n",
    "        norms = (embeddings ** 2).sum(axis=1) ** (1 / 2)\n",
    "        norms = np.reshape(norms, (len(norms), 1))\n",
    "        embeddings_norm = embeddings / norms\n",
    "        return embeddings_norm\n",
    "    \n",
    "    # embedding from first model layer\n",
    "    embeddings = list(model.parameters())[0].cpu().detach().numpy()\n",
    "    \n",
    "    # normalization\n",
    "    embeddings_norm = normalization(embeddings)\n",
    "\n",
    "    return embeddings_norm, vocab\n",
    "\n",
    "\n",
    "def get_top_similar(word: str, embeddings_norm, vocab, topN: int=5):\n",
    "    word_id = vocab[word]\n",
    "    if word_id == 0:\n",
    "        print(\"Out of vocabulary word\")\n",
    "        return\n",
    "\n",
    "    word_vec = embeddings_norm[word_id]\n",
    "    word_vec = np.reshape(word_vec, (len(word_vec), 1))\n",
    "    dists = np.matmul(embeddings_norm, word_vec).flatten()\n",
    "    topN_ids = np.argsort(-dists)[1 : topN + 1]\n",
    "\n",
    "    topN_dict = {}\n",
    "    for sim_word_id in topN_ids:\n",
    "        sim_word = vocab.lookup_token(sim_word_id)\n",
    "        topN_dict[sim_word] = dists[sim_word_id]\n",
    "    return topN_dict\n",
    "\n",
    "\n",
    "def get_sim(word1: str, word2: str, embeddings_norm, vocab):\n",
    "    if word1 not in vocab.get_itos() or word2 not in vocab.get_itos():\n",
    "        print('not in vocab')\n",
    "        return\n",
    "    word1_id = vocab[word1]\n",
    "    if word1_id == 0:\n",
    "        print(\"Out of vocabulary word\")\n",
    "        return\n",
    "    word2_id = vocab[word2]\n",
    "    if word2_id == 0:\n",
    "        print(\"Out of vocabulary word\")\n",
    "        return\n",
    "\n",
    "    word1_vec = embeddings_norm[word1_id]\n",
    "    #word1_vec = np.reshape(word1_vec, (len(word1_vec), 1))\n",
    "    \n",
    "    word2_vec = embeddings_norm[word2_id]\n",
    "    #word2_vec = np.reshape(word2_vec, (len(word2_vec), 1))\n",
    "    \n",
    "    print(np.dot(word1_vec, word2_vec))"
   ]
  },
  {
   "cell_type": "markdown",
   "id": "af15e9ef-4d2b-4a05-9d4e-7f38d144d034",
   "metadata": {},
   "source": [
    "#### Comparisons"
   ]
  },
  {
   "cell_type": "code",
   "execution_count": 109,
   "id": "40c685de-9a44-45d9-a23a-5723ed71c562",
   "metadata": {},
   "outputs": [
    {
     "name": "stdout",
     "output_type": "stream",
     "text": [
      "vocab size: 5764\n",
      "0.034618624\n",
      "-0.040835813\n",
      "-0.008040637\n",
      "-0.022703318\n",
      "-0.0040041488\n",
      "-0.054104347\n"
     ]
    }
   ],
   "source": [
    "# with stop words, 100 epochs\n",
    "embeddings_norm, vocab = get_embeddings_and_vocab('the_donald')\n",
    "get_sim('trump', 'captain', embeddings_norm, vocab)\n",
    "get_sim('biden', 'captain', embeddings_norm, vocab)\n",
    "get_sim('trump', 'qb', embeddings_norm, vocab)  \n",
    "get_sim('biden', 'qb', embeddings_norm, vocab)\n",
    "get_sim('race', 'election', embeddings_norm, vocab)\n",
    "get_sim('voters', 'fans', embeddings_norm, vocab)"
   ]
  },
  {
   "cell_type": "code",
   "execution_count": 116,
   "id": "ddde5fbd-8821-4ef9-85c1-c1b7ab949794",
   "metadata": {},
   "outputs": [
    {
     "name": "stdout",
     "output_type": "stream",
     "text": [
      "vocab size: 5619\n",
      "0.00909295\n",
      "0.07778975\n",
      "0.010088734\n",
      "-0.026071038\n",
      "0.07421315\n",
      "0.07718981\n"
     ]
    }
   ],
   "source": [
    "# without stop words, 100 epochs\n",
    "embeddings_norm, vocab = get_embeddings_and_vocab('no_stop_the_donald')\n",
    "get_sim('trump', 'captain', embeddings_norm, vocab)\n",
    "get_sim('biden', 'captain', embeddings_norm, vocab)\n",
    "get_sim('trump', 'qb', embeddings_norm, vocab)\n",
    "get_sim('biden', 'qb', embeddings_norm, vocab)\n",
    "get_sim('race', 'election', embeddings_norm, vocab)\n",
    "get_sim('voters', 'fans', embeddings_norm, vocab)"
   ]
  },
  {
   "cell_type": "code",
   "execution_count": 65,
   "id": "6ced66e1-40d2-4dd0-bd45-464ca6b65a5c",
   "metadata": {},
   "outputs": [
    {
     "name": "stdout",
     "output_type": "stream",
     "text": [
      "vocab size: 10229\n",
      "-0.05194399\n",
      "0.047983184\n",
      "-0.03879067\n",
      "-0.1112338\n",
      "0.050589863\n",
      "0.10164413\n"
     ]
    }
   ],
   "source": [
    "# without stop words, 100 epochs, max_norm = 10\n",
    "embeddings_norm, vocab = get_embeddings_and_vocab('no_stop_freq_20_the_donald')\n",
    "get_sim('trump', 'captain', embeddings_norm, vocab)\n",
    "get_sim('biden', 'captain', embeddings_norm, vocab)\n",
    "get_sim('trump', 'qb', embeddings_norm, vocab)\n",
    "get_sim('biden', 'qb', embeddings_norm, vocab)\n",
    "get_sim('race', 'election', embeddings_norm, vocab)\n",
    "get_sim('voters', 'fans', embeddings_norm, vocab)"
   ]
  },
  {
   "cell_type": "code",
   "execution_count": 118,
   "id": "bbf142b4-bfff-42c3-9132-d01113cc6f57",
   "metadata": {},
   "outputs": [
    {
     "name": "stdout",
     "output_type": "stream",
     "text": [
      "vocab size: 5606\n",
      "0.03222485\n",
      "0.03846648\n",
      "-0.029520795\n",
      "0.026687656\n",
      "0.06016608\n",
      "0.054330766\n"
     ]
    }
   ],
   "source": [
    "# without stop words, 300 epochs\n",
    "embeddings_norm, vocab = get_embeddings_and_vocab('no_stop_300_the_donald')\n",
    "get_sim('trump', 'captain', embeddings_norm, vocab)\n",
    "get_sim('biden', 'captain', embeddings_norm, vocab)\n",
    "get_sim('trump', 'qb', embeddings_norm, vocab)\n",
    "get_sim('biden', 'qb', embeddings_norm, vocab)\n",
    "get_sim('race', 'election', embeddings_norm, vocab)\n",
    "get_sim('voters', 'fans', embeddings_norm, vocab)"
   ]
  },
  {
   "cell_type": "code",
   "execution_count": 120,
   "id": "ce06cfd1-4438-4963-b7aa-1c29fb2bd726",
   "metadata": {},
   "outputs": [
    {
     "name": "stdout",
     "output_type": "stream",
     "text": [
      "vocab size: 5644\n",
      "0.020659003\n",
      "0.05348581\n",
      "0.011043421\n",
      "-0.024263585\n",
      "0.12906256\n",
      "-0.037614148\n"
     ]
    }
   ],
   "source": [
    "# without stop words, 100 epochs, max_norm = 10\n",
    "embeddings_norm, vocab = get_embeddings_and_vocab('norm_10_the_donald')\n",
    "get_sim('trump', 'captain', embeddings_norm, vocab)\n",
    "get_sim('biden', 'captain', embeddings_norm, vocab)\n",
    "get_sim('trump', 'qb', embeddings_norm, vocab)\n",
    "get_sim('biden', 'qb', embeddings_norm, vocab)\n",
    "get_sim('race', 'election', embeddings_norm, vocab)\n",
    "get_sim('voters', 'fans', embeddings_norm, vocab)"
   ]
  },
  {
   "cell_type": "code",
   "execution_count": 151,
   "id": "a8b9bd20-1fed-4b27-a61e-1fd2e8f65fe7",
   "metadata": {},
   "outputs": [
    {
     "name": "stdout",
     "output_type": "stream",
     "text": [
      "vocab size: 5625\n",
      "-0.035573043\n",
      "0.009166977\n",
      "0.027569694\n",
      "0.015644236\n",
      "0.11010522\n",
      "-0.041369963\n"
     ]
    }
   ],
   "source": [
    "# without stop words, 100 epochs, max_norm = 10\n",
    "embeddings_norm, vocab = get_embeddings_and_vocab('norm_100_the_donald')\n",
    "get_sim('trump', 'captain', embeddings_norm, vocab)\n",
    "get_sim('biden', 'captain', embeddings_norm, vocab)\n",
    "get_sim('trump', 'qb', embeddings_norm, vocab)\n",
    "get_sim('biden', 'qb', embeddings_norm, vocab)\n",
    "get_sim('race', 'election', embeddings_norm, vocab)\n",
    "get_sim('voters', 'fans', embeddings_norm, vocab)"
   ]
  },
  {
   "cell_type": "code",
   "execution_count": 47,
   "id": "a804210b-49ad-4646-b187-5c2842721daa",
   "metadata": {},
   "outputs": [
    {
     "name": "stdout",
     "output_type": "stream",
     "text": [
      "vocab size: 11229\n",
      "-0.03848173\n",
      "0.043416012\n",
      "0.05009101\n",
      "-0.012414329\n",
      "0.13768494\n",
      "0.058262315\n"
     ]
    }
   ],
   "source": [
    "# without stop words, 100 epochs, max_norm = 10\n",
    "embeddings_norm, vocab = get_embeddings_and_vocab('the_donald_20_context')\n",
    "get_sim('trump', 'captain', embeddings_norm, vocab)\n",
    "get_sim('biden', 'captain', embeddings_norm, vocab)\n",
    "get_sim('trump', 'qb', embeddings_norm, vocab)\n",
    "get_sim('biden', 'qb', embeddings_norm, vocab)\n",
    "get_sim('race', 'election', embeddings_norm, vocab)\n",
    "get_sim('voters', 'fans', embeddings_norm, vocab)"
   ]
  },
  {
   "cell_type": "code",
   "execution_count": null,
   "id": "83ff2953-2efd-43f0-8a72-7360f45ce653",
   "metadata": {},
   "outputs": [],
   "source": []
  },
  {
   "cell_type": "code",
   "execution_count": 59,
   "id": "28dc649c-0907-48a4-977b-249bf37afcce",
   "metadata": {},
   "outputs": [
    {
     "name": "stdout",
     "output_type": "stream",
     "text": [
      "vocab size: 6023\n",
      "-0.015175674\n",
      "0.04075729\n",
      "-0.04098111\n",
      "-0.032709993\n",
      "-0.02134432\n",
      "0.08296682\n"
     ]
    }
   ],
   "source": [
    "# with stop words, 100 epochs\n",
    "embeddings_norm, vocab = get_embeddings_and_vocab('politics')\n",
    "get_sim('trump', 'captain', embeddings_norm, vocab)\n",
    "get_sim('biden', 'captain', embeddings_norm, vocab) \n",
    "get_sim('trump', 'qb', embeddings_norm, vocab)\n",
    "get_sim('biden', 'qb', embeddings_norm, vocab)\n",
    "get_sim('race', 'election', embeddings_norm, vocab)  \n",
    "get_sim('voters', 'fans', embeddings_norm, vocab)"
   ]
  },
  {
   "cell_type": "code",
   "execution_count": 60,
   "id": "f4f56258-c633-4fd8-a1a4-2f635c49ce27",
   "metadata": {},
   "outputs": [
    {
     "name": "stdout",
     "output_type": "stream",
     "text": [
      "vocab size: 5902\n",
      "-0.053801555\n",
      "-0.02035804\n",
      "0.043366633\n",
      "-0.082414515\n",
      "0.051281035\n",
      "0.03277685\n"
     ]
    }
   ],
   "source": [
    "# without stop words, 100_epochs\n",
    "embeddings_norm, vocab = get_embeddings_and_vocab('no_stop_politics')\n",
    "get_sim('trump', 'captain', embeddings_norm, vocab)\n",
    "get_sim('biden', 'captain', embeddings_norm, vocab)\n",
    "get_sim('trump', 'qb', embeddings_norm, vocab)\n",
    "get_sim('biden', 'qb', embeddings_norm, vocab)\n",
    "get_sim('race', 'election', embeddings_norm, vocab)\n",
    "get_sim('voters', 'fans', embeddings_norm, vocab)"
   ]
  },
  {
   "cell_type": "code",
   "execution_count": 48,
   "id": "d92a5db1-28a9-4730-a012-dbe35f3a942f",
   "metadata": {},
   "outputs": [
    {
     "name": "stdout",
     "output_type": "stream",
     "text": [
      "vocab size: 10589\n",
      "-0.04870589\n",
      "-0.046137027\n",
      "0.012557586\n",
      "-0.004711693\n",
      "0.14320174\n",
      "0.13246465\n"
     ]
    }
   ],
   "source": [
    "# without stop words, 100_epochs, min word freq=20\n",
    "embeddings_norm, vocab = get_embeddings_and_vocab('no_stop_freq_20_politics')\n",
    "get_sim('trump', 'captain', embeddings_norm, vocab)\n",
    "get_sim('biden', 'captain', embeddings_norm, vocab)\n",
    "get_sim('trump', 'qb', embeddings_norm, vocab)\n",
    "get_sim('biden', 'qb', embeddings_norm, vocab)\n",
    "get_sim('race', 'election', embeddings_norm, vocab)\n",
    "get_sim('voters', 'fans', embeddings_norm, vocab)"
   ]
  },
  {
   "cell_type": "markdown",
   "id": "45d0b7a4-b15e-4b9d-bbba-fb9b0f3fc0db",
   "metadata": {},
   "source": [
    "#### Plots"
   ]
  },
  {
   "cell_type": "code",
   "execution_count": 77,
   "id": "b6c6e341-ee97-43d6-9aa6-18180a63781e",
   "metadata": {},
   "outputs": [
    {
     "data": {
      "text/plain": [
       "0.08273610666666666"
      ]
     },
     "execution_count": 77,
     "metadata": {},
     "output_type": "execute_result"
    }
   ],
   "source": [
    "(0.08296682 + 0.03277685 + 0.13246465) / 3"
   ]
  },
  {
   "cell_type": "code",
   "execution_count": 89,
   "id": "f7d1efcf-d7c6-4b76-9a8d-dfa3b9458e22",
   "metadata": {},
   "outputs": [],
   "source": [
    "# the_donald, politics, different hyps, avg values\n",
    "\n",
    "rep_dict = {\n",
    "    'trump:captain': -0.0027441386666666664,\n",
    "    'biden:captain': 0.02831237366666666,\n",
    "    #'trump:qb': -0.012247524333333334,\n",
    "    #'biden:qb': -0.053336052,\n",
    "    'race:election': 0.04026628806666667,\n",
    "    'voters:fans': 0.041576531,\n",
    "}\n",
    "\n",
    "dem_dict = {\n",
    "    'trump:captain': -0.039227706333333334,\n",
    "    'biden:captain': -0.008579258999999999,\n",
    "    #'trump:qb': 0.0049810363333333335,\n",
    "    #'biden:qb': -0.03994540033333333,\n",
    "    'race:election': 0.05771281833333333,\n",
    "    'voters:fans': 0.08273610666666666,\n",
    "}\n",
    "\n",
    "rep_df = pl.DataFrame(rep_dict)\n",
    "dem_df = pl.DataFrame(dem_dict)"
   ]
  },
  {
   "cell_type": "code",
   "execution_count": 90,
   "id": "4d0dd610-9d6e-4bfc-b6b7-2c417d51dd69",
   "metadata": {},
   "outputs": [],
   "source": [
    "sns.set(rc={'figure.figsize':(9.7,7.27)})"
   ]
  },
  {
   "cell_type": "code",
   "execution_count": 91,
   "id": "049fdf96-792c-4939-889d-fc1ab715d92c",
   "metadata": {},
   "outputs": [
    {
     "data": {
      "image/png": "[encoded data removed]",
      "text/plain": [
       "<Figure size 970x727 with 2 Axes>"
      ]
     },
     "metadata": {},
     "output_type": "display_data"
    }
   ],
   "source": [
    "f, axes = plt.subplots(1, 2)\n",
    "a = sns.barplot(data=rep_df.to_pandas(), orient='v' , ax=axes[0])\n",
    "b = sns.barplot(data=dem_df.to_pandas(), orient='v' , ax=axes[1])\n",
    "\n",
    "a.tick_params(labelsize=7)\n",
    "b.tick_params(labelsize=7)\n",
    "\n",
    "a.set_xlabel(\"republicans\",fontsize=10)\n",
    "b.set_xlabel(\"democrats\",fontsize=10)\n",
    "\n",
    "a.set(ylim=(-0.06, 0.1))\n",
    "b.set(ylim=(-0.06, 0.1))\n",
    "\n",
    "plt.show()"
   ]
  },
  {
   "cell_type": "code",
   "execution_count": null,
   "id": "69fe0138-95b6-47c6-866d-0d5050434ca0",
   "metadata": {},
   "outputs": [],
   "source": []
  },
  {
   "cell_type": "code",
   "execution_count": 94,
   "id": "8065e484-dd9c-4cff-8cf5-075271e57d68",
   "metadata": {},
   "outputs": [
    {
     "data": {
      "image/png": "[encoded data removed]",
      "text/plain": [
       "<Figure size 970x727 with 2 Axes>"
      ]
     },
     "metadata": {},
     "output_type": "display_data"
    }
   ],
   "source": [
    "# the_donald, politics, 100 epochs, with stop words\n",
    "rep_dict = {\n",
    "    'trump:captain': 0.034618624,\n",
    "    'biden:captain': -0.040835813,\n",
    "    #'trump:qb': -0.008040637,\n",
    "    #'biden:qb': -0.022703318,\n",
    "    'race:election': -0.0040041488,\n",
    "    'voters:fans': -0.054104347,\n",
    "}\n",
    "\n",
    "dem_dict = {\n",
    "    'trump:captain': -0.015175674,\n",
    "    'biden:captain': 0.04075729,\n",
    "    #'trump:qb': -0.04098111,\n",
    "    #'biden:qb': -0.032709993,\n",
    "    'race:election': -0.02134432,\n",
    "    'voters:fans': 0.08296682,\n",
    "}\n",
    "\n",
    "rep_df = pl.DataFrame(rep_dict)\n",
    "dem_df = pl.DataFrame(dem_dict)\n",
    "\n",
    "sns.set(rc={'figure.figsize':(9.7,7.27)})\n",
    "\n",
    "f, axes = plt.subplots(1, 2)\n",
    "a = sns.barplot(data=rep_df.to_pandas(), orient='v' , ax=axes[0])\n",
    "b = sns.barplot(data=dem_df.to_pandas(), orient='v' , ax=axes[1])\n",
    "\n",
    "a.tick_params(labelsize=7)\n",
    "b.tick_params(labelsize=7)\n",
    "\n",
    "a.set_xlabel(\"republicans\",fontsize=10)\n",
    "b.set_xlabel(\"democrats\",fontsize=10)\n",
    "\n",
    "a.set(ylim=(-0.06, 0.1))\n",
    "b.set(ylim=(-0.06, 0.1))\n",
    "\n",
    "plt.show()"
   ]
  },
  {
   "cell_type": "code",
   "execution_count": 95,
   "id": "cb38c187-959a-4615-a37d-8d4c01ffc630",
   "metadata": {},
   "outputs": [
    {
     "data": {
      "image/png": "[encoded data removed]",
      "text/plain": [
       "<Figure size 970x727 with 2 Axes>"
      ]
     },
     "metadata": {},
     "output_type": "display_data"
    }
   ],
   "source": [
    "# the_donald, politics, 100 epochs, no stop words\n",
    "\n",
    "rep_dict = {\n",
    "    'trump:captain': 0.00909295,\n",
    "    'biden:captain': 0.07778975,\n",
    "    #'trump:qb': -0.008040637,\n",
    "    #'biden:qb': -0.026071038,\n",
    "    'race:election': 0.07421315,\n",
    "    'voters:fans': 0.07718981,\n",
    "}\n",
    "\n",
    "dem_dict = {\n",
    "    'trump:captain': -0.053801555,\n",
    "    'biden:captain': -0.02035804,\n",
    "    #'trump:qb': 0.043366633,\n",
    "    #'biden:qb': -0.082414515,\n",
    "    'race:election': 0.051281035,\n",
    "    'voters:fans': 0.03277685,\n",
    "}\n",
    "\n",
    "rep_df = pl.DataFrame(rep_dict)\n",
    "dem_df = pl.DataFrame(dem_dict)\n",
    "\n",
    "sns.set(rc={'figure.figsize':(9.7,7.27)})\n",
    "\n",
    "f, axes = plt.subplots(1, 2)\n",
    "a = sns.barplot(data=rep_df.to_pandas(), orient='v' , ax=axes[0])\n",
    "b = sns.barplot(data=dem_df.to_pandas(), orient='v' , ax=axes[1])\n",
    "\n",
    "a.tick_params(labelsize=7)\n",
    "b.tick_params(labelsize=7)\n",
    "\n",
    "a.set_xlabel(\"republicans\",fontsize=10)\n",
    "b.set_xlabel(\"democrats\",fontsize=10)\n",
    "\n",
    "a.set(ylim=(-0.06, 0.1))\n",
    "b.set(ylim=(-0.06, 0.1))\n",
    "\n",
    "plt.show()"
   ]
  },
  {
   "cell_type": "code",
   "execution_count": 99,
   "id": "3f44b182-3d32-4fe5-bac5-ac980d321fb3",
   "metadata": {},
   "outputs": [
    {
     "data": {
      "image/png": "[encoded data removed]",
      "text/plain": [
       "<Figure size 970x727 with 2 Axes>"
      ]
     },
     "metadata": {},
     "output_type": "display_data"
    }
   ],
   "source": [
    "# the_donald, politics, 100 epochs, no stop words, min word freq=20\n",
    "\n",
    "rep_dict = {\n",
    "    'trump:captain': -0.05194399,\n",
    "    'biden:captain': 0.047983184,\n",
    "    #'trump:qb': -0.03879067,\n",
    "    #'biden:qb': -0.1112338,\n",
    "    'race:election': 0.050589863,\n",
    "    'voters:fans': 0.10164413,\n",
    "}\n",
    "\n",
    "dem_dict = {\n",
    "    'trump:captain': -0.04870589,\n",
    "    'biden:captain': -0.046137027,\n",
    "    #'trump:qb': 0.012557586,\n",
    "    #'biden:qb': -0.004711693,\n",
    "    'race:election': 0.14320174,\n",
    "    'voters:fans': 0.13246465,\n",
    "}\n",
    "\n",
    "rep_df = pl.DataFrame(rep_dict)\n",
    "dem_df = pl.DataFrame(dem_dict)\n",
    "\n",
    "sns.set(rc={'figure.figsize':(9.7,7.27)})\n",
    "\n",
    "f, axes = plt.subplots(1, 2)\n",
    "a = sns.barplot(data=rep_df.to_pandas(), orient='v' , ax=axes[0])\n",
    "b = sns.barplot(data=dem_df.to_pandas(), orient='v' , ax=axes[1])\n",
    "\n",
    "a.tick_params(labelsize=7)\n",
    "b.tick_params(labelsize=7)\n",
    "\n",
    "a.set_xlabel(\"republicans\",fontsize=10)\n",
    "b.set_xlabel(\"democrats\",fontsize=10)\n",
    "\n",
    "a.set(ylim=(-0.06, 0.15))\n",
    "b.set(ylim=(-0.06, 0.15))\n",
    "\n",
    "plt.show()"
   ]
  },
  {
   "cell_type": "code",
   "execution_count": null,
   "id": "ca31b522-d612-4e8a-be81-ccac1f23248d",
   "metadata": {},
   "outputs": [],
   "source": []
  },
  {
   "cell_type": "code",
   "execution_count": 92,
   "id": "e334bac1-54ac-4611-a6dc-27e9b459ea05",
   "metadata": {},
   "outputs": [
    {
     "name": "stdout",
     "output_type": "stream",
     "text": [
      "vocab size: 6023\n",
      "0.48081937\n",
      "0.2517801\n"
     ]
    }
   ],
   "source": [
    "# with stop words, 100 epochs\n",
    "embeddings_norm, vocab = get_embeddings_and_vocab('politics')\n",
    "get_sim('good', 'bad', embeddings_norm, vocab)\n",
    "get_sim('red', 'blue', embeddings_norm, vocab) "
   ]
  },
  {
   "cell_type": "code",
   "execution_count": 93,
   "id": "0b954a0a-9121-4fd3-94ed-8d8c92c0bc4d",
   "metadata": {},
   "outputs": [
    {
     "name": "stdout",
     "output_type": "stream",
     "text": [
      "vocab size: 5764\n",
      "0.3798148\n",
      "0.26581362\n"
     ]
    }
   ],
   "source": [
    "# with stop words, 100 epochs\n",
    "embeddings_norm, vocab = get_embeddings_and_vocab('the_donald')\n",
    "get_sim('good', 'bad', embeddings_norm, vocab)\n",
    "get_sim('red', 'blue', embeddings_norm, vocab) "
   ]
  },
  {
   "cell_type": "code",
   "execution_count": null,
   "id": "d8418d06-9018-4d7a-b622-8d74637ef311",
   "metadata": {},
   "outputs": [],
   "source": []
  },
  {
   "cell_type": "code",
   "execution_count": null,
   "id": "f6e901ee-d4c8-4bbe-bdc7-5e7855fce3bc",
   "metadata": {},
   "outputs": [],
   "source": []
  },
  {
   "cell_type": "markdown",
   "id": "41049b6e-2b96-4d88-af16-3b8e1d09916e",
   "metadata": {},
   "source": [
    "#### Sim List (100 epochs, no stops)\n",
    "\n",
    "sim values low"
   ]
  },
  {
   "cell_type": "code",
   "execution_count": 152,
   "id": "c3fe7ef4-fa63-40a1-b049-9aae710a4c98",
   "metadata": {},
   "outputs": [
    {
     "name": "stdout",
     "output_type": "stream",
     "text": [
      "vocab size: 5619\n"
     ]
    },
    {
     "data": {
      "text/plain": [
       "{'terrible': 0.23426071,\n",
       " 'hurts': 0.22012997,\n",
       " 'eli': 0.21621901,\n",
       " 'horrible': 0.20877561,\n",
       " 'suspicious': 0.20856634}"
      ]
     },
     "execution_count": 152,
     "metadata": {},
     "output_type": "execute_result"
    }
   ],
   "source": [
    "embeddings_norm, vocab = get_embeddings_and_vocab('no_stop_the_donald')\n",
    "get_top_similar('bad', embeddings_norm, vocab)"
   ]
  },
  {
   "cell_type": "code",
   "execution_count": 153,
   "id": "09397b66-5ddb-49f9-aa91-30e9f535285e",
   "metadata": {},
   "outputs": [
    {
     "name": "stdout",
     "output_type": "stream",
     "text": [
      "vocab size: 5644\n"
     ]
    },
    {
     "data": {
      "text/plain": [
       "{'good': 0.40338245,\n",
       " 'deciding': 0.1998555,\n",
       " 'terrible': 0.1916355,\n",
       " 'like': 0.17780505,\n",
       " 'perfect': 0.16526628}"
      ]
     },
     "execution_count": 153,
     "metadata": {},
     "output_type": "execute_result"
    }
   ],
   "source": [
    "embeddings_norm, vocab = get_embeddings_and_vocab('norm_10_the_donald')\n",
    "get_top_similar('bad', embeddings_norm, vocab)"
   ]
  },
  {
   "cell_type": "code",
   "execution_count": 157,
   "id": "e9f75680-0805-4036-b3fb-391fd9c1b18e",
   "metadata": {},
   "outputs": [
    {
     "name": "stdout",
     "output_type": "stream",
     "text": [
      "vocab size: 5625\n"
     ]
    },
    {
     "data": {
      "text/plain": [
       "{'good': 0.38341334,\n",
       " 'terrible': 0.20237805,\n",
       " 'like': 0.19661625,\n",
       " 'draw': 0.18660292,\n",
       " 'camps': 0.18158375}"
      ]
     },
     "execution_count": 157,
     "metadata": {},
     "output_type": "execute_result"
    }
   ],
   "source": [
    "embeddings_norm, vocab = get_embeddings_and_vocab('norm_100_the_donald')\n",
    "get_top_similar('bad', embeddings_norm, vocab)"
   ]
  },
  {
   "cell_type": "code",
   "execution_count": 162,
   "id": "43f63a9b-0817-454a-8fe8-52957599ed28",
   "metadata": {},
   "outputs": [
    {
     "name": "stdout",
     "output_type": "stream",
     "text": [
      "vocab size: 5618\n"
     ]
    },
    {
     "data": {
      "text/plain": [
       "{'good': 0.2318387,\n",
       " 'blame': 0.17461991,\n",
       " 'impression': 0.16470212,\n",
       " 'ages': 0.16037121,\n",
       " 'dozen': 0.15851797}"
      ]
     },
     "execution_count": 162,
     "metadata": {},
     "output_type": "execute_result"
    }
   ],
   "source": [
    "embeddings_norm, vocab = get_embeddings_and_vocab('context_10_the_donald')\n",
    "get_top_similar('bad', embeddings_norm, vocab)"
   ]
  },
  {
   "cell_type": "code",
   "execution_count": 63,
   "id": "98708eae-9113-4ee5-b555-47184aafff35",
   "metadata": {},
   "outputs": [
    {
     "name": "stdout",
     "output_type": "stream",
     "text": [
      "vocab size: 10229\n"
     ]
    },
    {
     "data": {
      "text/plain": [
       "{'terrible': 0.26770848,\n",
       " 'horrible': 0.2333316,\n",
       " 'shitty': 0.20905374,\n",
       " 'important': 0.19857208,\n",
       " 'slipped': 0.19481656}"
      ]
     },
     "execution_count": 63,
     "metadata": {},
     "output_type": "execute_result"
    }
   ],
   "source": [
    "embeddings_norm, vocab = get_embeddings_and_vocab('no_stop_freq_20_the_donald')\n",
    "get_top_similar('bad', embeddings_norm, vocab)"
   ]
  },
  {
   "cell_type": "code",
   "execution_count": 49,
   "id": "0f6254b3-4dd9-4576-96bf-70eb645285fc",
   "metadata": {},
   "outputs": [
    {
     "name": "stdout",
     "output_type": "stream",
     "text": [
      "vocab size: 10589\n"
     ]
    },
    {
     "data": {
      "text/plain": [
       "{'awful': 0.2574749,\n",
       " 'good': 0.21907628,\n",
       " 'horrible': 0.20221268,\n",
       " 'terrible': 0.19803269,\n",
       " 'shares': 0.19167534}"
      ]
     },
     "execution_count": 49,
     "metadata": {},
     "output_type": "execute_result"
    }
   ],
   "source": [
    "embeddings_norm, vocab = get_embeddings_and_vocab('no_stop_freq_20_politics')\n",
    "get_top_similar('bad', embeddings_norm, vocab)"
   ]
  },
  {
   "cell_type": "code",
   "execution_count": 97,
   "id": "5f11a9c1-a0db-4536-b4d2-e0b0fdcfc12d",
   "metadata": {},
   "outputs": [
    {
     "name": "stdout",
     "output_type": "stream",
     "text": [
      "vocab size: 10253\n"
     ]
    },
    {
     "data": {
      "text/plain": [
       "{'terrible': 0.24812376,\n",
       " 'comfortable': 0.19659734,\n",
       " 'dominant': 0.19462329,\n",
       " 'poland': 0.19017859,\n",
       " 'good': 0.18547519}"
      ]
     },
     "execution_count": 97,
     "metadata": {},
     "output_type": "execute_result"
    }
   ],
   "source": [
    "embeddings_norm, vocab = get_embeddings_and_vocab('no_stop_pos_politics') # freq 20\n",
    "get_top_similar('bad', embeddings_norm, vocab)"
   ]
  },
  {
   "cell_type": "code",
   "execution_count": 9,
   "id": "2f0feb06-b60a-4da7-b105-51e42727c7a1",
   "metadata": {},
   "outputs": [
    {
     "name": "stdout",
     "output_type": "stream",
     "text": [
      "vocab size: 12813\n"
     ]
    },
    {
     "data": {
      "text/plain": [
       "{'terrible': 0.36026692,\n",
       " 'horrible': 0.3512573,\n",
       " 'shitty': 0.28138334,\n",
       " 'good': 0.25139344,\n",
       " 'awful': 0.23673256}"
      ]
     },
     "execution_count": 9,
     "metadata": {},
     "output_type": "execute_result"
    }
   ],
   "source": [
    "embeddings_norm, vocab = get_embeddings_and_vocab('the_donald_conservative') # freq 50\n",
    "get_top_similar('bad', embeddings_norm, vocab)"
   ]
  },
  {
   "cell_type": "code",
   "execution_count": 12,
   "id": "f4ad6750-48d4-4d19-bc78-befa69e827b4",
   "metadata": {},
   "outputs": [
    {
     "name": "stdout",
     "output_type": "stream",
     "text": [
      "vocab size: 12782\n"
     ]
    },
    {
     "data": {
      "text/plain": [
       "{'terrible': 0.39707363,\n",
       " 'horrible': 0.35079277,\n",
       " 'shitty': 0.27486697,\n",
       " 'awful': 0.2426031,\n",
       " 'punishing': 0.24043533}"
      ]
     },
     "execution_count": 12,
     "metadata": {},
     "output_type": "execute_result"
    }
   ],
   "source": [
    "embeddings_norm, vocab = get_embeddings_and_vocab('the_donald_conservative_no_unk') # freq 50\n",
    "get_top_similar('bad', embeddings_norm, vocab)"
   ]
  },
  {
   "cell_type": "code",
   "execution_count": 105,
   "id": "aaa0825e-f304-4800-b552-5429e04166a5",
   "metadata": {},
   "outputs": [
    {
     "name": "stdout",
     "output_type": "stream",
     "text": [
      "vocab size: 11229\n"
     ]
    },
    {
     "data": {
      "text/plain": [
       "{'joe': 0.3409217,\n",
       " 'creepy': 0.30519742,\n",
       " 'dealings': 0.29805443,\n",
       " 'bidens': 0.29699478,\n",
       " 'democrats': 0.26287612}"
      ]
     },
     "execution_count": 105,
     "metadata": {},
     "output_type": "execute_result"
    }
   ],
   "source": [
    "embeddings_norm, vocab = get_embeddings_and_vocab('the_donald_20_context') # freq 50\n",
    "get_top_similar('biden', embeddings_norm, vocab)"
   ]
  },
  {
   "cell_type": "code",
   "execution_count": null,
   "id": "7d1267e3-958a-410e-81a6-36e2ee5e251c",
   "metadata": {},
   "outputs": [],
   "source": []
  },
  {
   "cell_type": "markdown",
   "id": "31c16312-6f23-4022-9c31-697361a23205",
   "metadata": {},
   "source": [
    "#### Wikitext (5 epochs)"
   ]
  },
  {
   "cell_type": "code",
   "execution_count": 102,
   "id": "339bf9f2-a46b-433b-b33c-b78e3139c12a",
   "metadata": {},
   "outputs": [
    {
     "name": "stdout",
     "output_type": "stream",
     "text": [
      "vocab size: 4099\n"
     ]
    },
    {
     "data": {
      "text/plain": [
       "{'useful': 0.5289298,\n",
       " 'better': 0.51288617,\n",
       " 'difficult': 0.50605476,\n",
       " 'whole': 0.48651743,\n",
       " 'bad': 0.47341284}"
      ]
     },
     "execution_count": 102,
     "metadata": {},
     "output_type": "execute_result"
    }
   ],
   "source": [
    "embeddings_norm, vocab = get_embeddings_and_vocab('wiki')\n",
    "#get_top_similar('blue', embeddings_norm, vocab)\n",
    "#get_top_similar('king', embeddings_norm, vocab)\n",
    "get_top_similar('good', embeddings_norm, vocab)\n",
    "#get_top_similar('german', embeddings_norm, vocab)\n",
    "#get_top_similar('bad', embeddings_norm, vocab)"
   ]
  },
  {
   "cell_type": "code",
   "execution_count": null,
   "id": "e9533ad5-2113-4ec3-8d11-ae66c2f00a10",
   "metadata": {},
   "outputs": [],
   "source": []
  },
  {
   "cell_type": "markdown",
   "id": "8e1a0527-9eee-434b-bc0b-4d88a49e77bd",
   "metadata": {},
   "source": [
    "#### POS"
   ]
  },
  {
   "cell_type": "code",
   "execution_count": 4,
   "id": "1e6c32de-f1c9-491c-b4c0-f63aed9c8f1b",
   "metadata": {},
   "outputs": [],
   "source": [
    "example = \"The difference wasn’t 160. After the recount that the Green Party paid for they had found ~160 more votes for Trump. Trump won WI in 2016 by over 27k votes. And the reason for selecting 3% is because that is what would flip the state results from currently being for Biden to being for Trump in just the two countries being recounted. That shouldn’t be confusing. And there have been larger errors percentage-wise than that already in this election on county levels.\""
   ]
  },
  {
   "cell_type": "code",
   "execution_count": 5,
   "id": "59d6383b-d6ca-41a3-b9ca-c17ec36ad06a",
   "metadata": {},
   "outputs": [
    {
     "data": {
      "application/vnd.jupyter.widget-view+json": {
       "model_id": "a1ea60f802fa45e4b8c54cbefe86c801",
       "version_major": 2,
       "version_minor": 0
      },
      "text/plain": [
       "Downloading pytorch_model.bin:   0%|          | 0.00/249M [00:00<?, ?B/s]"
      ]
     },
     "metadata": {},
     "output_type": "display_data"
    },
    {
     "name": "stdout",
     "output_type": "stream",
     "text": [
      "2024-02-06 17:58:21,391 SequenceTagger predicts: Dictionary with 53 tags: <unk>, O, UH, ,, VBD, PRP, VB, PRP$, NN, RB, ., DT, JJ, VBP, VBG, IN, CD, NNS, NNP, WRB, VBZ, WDT, CC, TO, MD, VBN, WP, :, RP, EX, JJR, FW, XX, HYPH, POS, RBR, JJS, PDT, NNPS, RBS, AFX, WP$, -LRB-, -RRB-, ``, '', LS, $, SYM, ADD\n"
     ]
    }
   ],
   "source": [
    "from flair.data import Sentence\n",
    "from flair.models import SequenceTagger\n",
    "\n",
    "# load tagger\n",
    "tagger = SequenceTagger.load(\"flair/pos-english\")"
   ]
  },
  {
   "cell_type": "code",
   "execution_count": 60,
   "id": "738cc506-6034-4d04-91c6-614381486b61",
   "metadata": {},
   "outputs": [],
   "source": [
    "# make example sentence\n",
    "example = \"\"\"Side note about Netflix: I watched a Netflix original with my girlfriend. \n",
    "            Show was called Scandal, and it was alright, but you could see it was left leaning. \n",
    "            It was a political drama, and season 5 literally mimics this election from a SJW perspective. \n",
    "            There were 3 candidates (as opposed to 2), one of which was characterized by the media \n",
    "            as a 'racist, sexist, hate speech spewing bigot' but yet despite these titles, \n",
    "            his popularity continued to grow. Then there's a segment about how saying 'All Lives Matter' \n",
    "            is offensive to BLM. They literally said this shit in the show. \n",
    "            I have it a 1-star rating and cancelled my Netflix membership. I'll just pirate shit from now on.\"\"\"\n",
    "\n",
    "#example = example.lower()\n",
    "\n",
    "sentence = Sentence(example)\n",
    "\n",
    "# predict NER tags\n",
    "tagger.predict(sentence)\n",
    "\n",
    "# print sentence\n",
    "#print(sentence)\n",
    "\n",
    "# print predicted NER spans\n",
    "#print('The following NER tags are found:')\n",
    "# iterate over entities and print\n",
    "#for entity in sentence.get_spans('pos'):\n",
    "    #print(entity)"
   ]
  },
  {
   "cell_type": "code",
   "execution_count": 62,
   "id": "c7391855-dd9b-452b-8eae-aa11fc219ae2",
   "metadata": {},
   "outputs": [
    {
     "data": {
      "text/plain": [
       "\"Side note about : I watched a original with my girlfriend . was called , and it was alright , but you could see it was left leaning . It was a political drama , and season 5 literally mimics this election from a perspective . There were 3 candidates ( as opposed to 2 ) , one of which was characterized by the media as a ' racist , sexist , hate speech spewing bigot ' but yet despite these titles , his popularity continued to grow . Then there 's a segment about how saying ' All Lives ' is offensive to . They literally said this shit in the show . I have it a 1-star rating and cancelled my membership . I 'll just pirate shit from now on .\""
      ]
     },
     "execution_count": 62,
     "metadata": {},
     "output_type": "execute_result"
    }
   ],
   "source": [
    "sent = []\n",
    "for token in sentence:\n",
    "    if token.tag != 'NNP':\n",
    "        sent.append(token.form)\n",
    "\n",
    "' '.join(sent)"
   ]
  },
  {
   "cell_type": "code",
   "execution_count": null,
   "id": "98099c6b-7d93-43f2-8983-d6147dbb8f1b",
   "metadata": {},
   "outputs": [],
   "source": []
  },
  {
   "cell_type": "markdown",
   "id": "c282665c-dcc3-40a4-8837-8cdb1f792ce0",
   "metadata": {},
   "source": [
    "#### Analysis"
   ]
  },
  {
   "cell_type": "code",
   "execution_count": 94,
   "id": "461f83d0-2672-4abc-a053-b5d9db1e98e3",
   "metadata": {},
   "outputs": [],
   "source": [
    "MAX_SEQUENCE_LENGTH = 256\n",
    "MIN_WORD_FREQUENCY = 50  # 50 for wikitext, 20 for The_Donald"
   ]
  },
  {
   "cell_type": "code",
   "execution_count": 95,
   "id": "8b8d4614-c690-4a1f-ad59-2e0efb60200a",
   "metadata": {},
   "outputs": [],
   "source": [
    "def yield_tokens(dataset, tokenizer):\n",
    "    for text in dataset['text']:\n",
    "        yield tokenizer(text)\n",
    "\n",
    "def get_dataloader_and_vocab(dataset, ds_type, batch_size, tokenizer, vocab):\n",
    "\n",
    "    dataset = dataset[ds_type]\n",
    "\n",
    "    if vocab is None:\n",
    "        vocab = build_vocab_from_iterator(\n",
    "            yield_tokens(dataset, tokenizer),\n",
    "            specials=[\"<unk>\"],\n",
    "            min_freq=MIN_WORD_FREQUENCY\n",
    "        )\n",
    "        vocab.set_default_index(vocab[\"<unk>\"])\n",
    "\n",
    "    def text_pipeline(x): return vocab(tokenizer(x))\n",
    "\n",
    "    dataloader = DataLoader(\n",
    "        dataset['text'],\n",
    "        batch_size=batch_size,\n",
    "        #shuffle=shuffle,\n",
    "        collate_fn=partial(collate_cbow, text_pipeline=text_pipeline),\n",
    "    )\n",
    "\n",
    "    return dataloader, vocab\n",
    "\n",
    "def collate_cbow(batch, text_pipeline):\n",
    "    batch_input, batch_output = [], []\n",
    "\n",
    "    for text in batch:\n",
    "        text_tokens_ids = text_pipeline(text)\n",
    "\n",
    "        if len(text_tokens_ids) < CBOW_N_WORDS * 2 + 1:\n",
    "            continue\n",
    "\n",
    "        if MAX_SEQUENCE_LENGTH:\n",
    "            text_tokens_ids = text_tokens_ids[:MAX_SEQUENCE_LENGTH]\n",
    "\n",
    "        for idx in range(len(text_tokens_ids) - CBOW_N_WORDS * 2):\n",
    "            token_id_sequence = text_tokens_ids[idx: (\n",
    "                idx + CBOW_N_WORDS * 2 + 1)]\n",
    "            output = token_id_sequence.pop(CBOW_N_WORDS)\n",
    "            input_ = token_id_sequence\n",
    "            batch_input.append(input_)\n",
    "            batch_output.append(output)\n",
    "\n",
    "    batch_input = torch.tensor(batch_input, dtype=torch.long)\n",
    "    batch_output = torch.tensor(batch_output, dtype=torch.long)\n",
    "    return batch_input, batch_output"
   ]
  },
  {
   "cell_type": "markdown",
   "id": "e6c55ecb-5208-4bf8-acb3-a6624b98ce8c",
   "metadata": {},
   "source": [
    "##### wikitext"
   ]
  },
  {
   "cell_type": "code",
   "execution_count": 96,
   "id": "da1bf5b1-49da-4722-8d19-f4561902e58f",
   "metadata": {},
   "outputs": [
    {
     "name": "stdout",
     "output_type": "stream",
     "text": [
      "word count : 2051910\n",
      "Vocabulary size: 4099\n",
      "total_words : vocab = 500\n"
     ]
    }
   ],
   "source": [
    "dataset = load_dataset('wikitext', 'wikitext-2-v1')\n",
    "tokenizer = get_tokenizer(\"basic_english\", language=\"en\")\n",
    "\n",
    "word_count = 0\n",
    "for text in dataset['train']['text']:\n",
    "    if text != '':\n",
    "        word_count += len(text.split())\n",
    "\n",
    "print('word count : {}'.format(word_count))\n",
    "\n",
    "train_dataloader, vocab = get_dataloader_and_vocab(\n",
    "    dataset=dataset,\n",
    "    ds_type=\"train\",\n",
    "    batch_size=96,\n",
    "    tokenizer=tokenizer,\n",
    "    vocab=None,\n",
    ")\n",
    "\n",
    "vocab_size = len(vocab.get_stoi())\n",
    "print(f\"Vocabulary size: {vocab_size}\")\n",
    "\n",
    "print('total_words : vocab = {}'.format(word_count//vocab_size))"
   ]
  },
  {
   "cell_type": "code",
   "execution_count": 97,
   "id": "535cbd45-6ee5-4330-a689-af6926cd317b",
   "metadata": {},
   "outputs": [
    {
     "data": {
      "application/vnd.jupyter.widget-view+json": {
       "model_id": "40e731f402c64de59a242954a6656060",
       "version_major": 2,
       "version_minor": 0
      },
      "text/plain": [
       "  0%|          | 0/36718 [00:00<?, ?it/s]"
      ]
     },
     "metadata": {},
     "output_type": "display_data"
    }
   ],
   "source": [
    "freqs = {}\n",
    "stoi_dict = vocab.get_stoi()\n",
    "bar = tqdm(range(len(dataset['train']['text'])))\n",
    "for text in dataset['train']['text']:\n",
    "    if text != '':\n",
    "        for word in text.split():\n",
    "            if word in stoi_dict:\n",
    "                if word in freqs:\n",
    "                    freqs[word] += 1\n",
    "                else:\n",
    "                    freqs[word] = 1\n",
    "    bar.update(1)"
   ]
  },
  {
   "cell_type": "code",
   "execution_count": 98,
   "id": "d93568ea-f007-4141-ae4b-96b63674ec80",
   "metadata": {},
   "outputs": [],
   "source": [
    "sorted_freqs = dict(sorted(freqs.items(), key=lambda item: item[1], reverse=True))"
   ]
  },
  {
   "cell_type": "code",
   "execution_count": 99,
   "id": "53105e2f-66e8-4f23-8db1-7c936e44e226",
   "metadata": {},
   "outputs": [
    {
     "data": {
      "image/png": "[encoded data removed]",
      "text/plain": [
       "<Figure size 970x727 with 1 Axes>"
      ]
     },
     "metadata": {},
     "output_type": "display_data"
    }
   ],
   "source": [
    "#sns.set(rc={'figure.figsize':(9.7,7.27)})\n",
    "plt.ylim(0, 10000)\n",
    "plt.bar(sorted_freqs.keys(), sorted_freqs.values(), color='g')\n",
    "plt.show()"
   ]
  },
  {
   "cell_type": "code",
   "execution_count": 84,
   "id": "048543a7-b7b6-45c8-9684-7bbaee211547",
   "metadata": {},
   "outputs": [
    {
     "data": {
      "text/plain": [
       "{'the': 113161,\n",
       " ',': 99913,\n",
       " '.': 73388,\n",
       " 'of': 56889,\n",
       " '<unk>': 54625,\n",
       " 'and': 50603,\n",
       " 'in': 39453,\n",
       " 'to': 39190,\n",
       " 'a': 34237,\n",
       " '=': 29570,\n",
       " 'was': 20985,\n",
       " '@-@': 16906,\n",
       " 'that': 14135,\n",
       " 'as': 14021,\n",
       " 'on': 13678,\n",
       " 'for': 13307,\n",
       " 'with': 12606,\n",
       " 'by': 12148,\n",
       " ')': 12004,\n",
       " '(': 11992,\n",
       " 'is': 11637,\n",
       " 'from': 8941,\n",
       " 'his': 8395,\n",
       " 'at': 8186,\n",
       " 'were': 7330,\n",
       " 'it': 6748,\n",
       " 'he': 5947,\n",
       " 'an': 5895,\n",
       " 'had': 5698,\n",
       " 'which': 5543,\n",
       " 'be': 4787,\n",
       " 'are': 4669,\n",
       " 'their': 4127,\n",
       " 'but': 4035,\n",
       " 'first': 3978,\n",
       " '–': 3934,\n",
       " 'not': 3906,\n",
       " 'also': 3746,\n",
       " 'its': 3697,\n",
       " 'or': 3636,\n",
       " 'her': 3486,\n",
       " 'have': 3442,\n",
       " 'one': 3351,\n",
       " 'has': 3322,\n",
       " 'been': 3257,\n",
       " 'two': 3238,\n",
       " 'this': 3079,\n",
       " 'who': 2963,\n",
       " 'they': 2941,\n",
       " \"'\": 2870,\n",
       " 'after': 2640,\n",
       " 'time': 2451,\n",
       " 'into': 2440,\n",
       " 'other': 2433,\n",
       " 'would': 2320,\n",
       " 'more': 2319,\n",
       " '1': 2253,\n",
       " 'all': 2100,\n",
       " 'when': 2036,\n",
       " 'over': 2015,\n",
       " '2': 1982,\n",
       " 'she': 1981,\n",
       " 'during': 1973,\n",
       " 'only': 1948,\n",
       " 'game': 1846,\n",
       " 'up': 1843,\n",
       " 'him': 1840,\n",
       " 'about': 1833,\n",
       " 'three': 1803,\n",
       " 'most': 1778,\n",
       " 'between': 1768,\n",
       " 'than': 1759,\n",
       " 'out': 1707,\n",
       " 'while': 1684,\n",
       " 'later': 1682,\n",
       " 'season': 1641,\n",
       " 'made': 1635,\n",
       " '3': 1601,\n",
       " 'such': 1532,\n",
       " 'year': 1507,\n",
       " 'used': 1505,\n",
       " 'new': 1501,\n",
       " 'where': 1490,\n",
       " 'them': 1481,\n",
       " 'some': 1469,\n",
       " '000': 1447,\n",
       " 'song': 1444,\n",
       " 'before': 1441,\n",
       " 'being': 1424,\n",
       " 'years': 1410,\n",
       " '5': 1361,\n",
       " 'series': 1328,\n",
       " 'album': 1328,\n",
       " 'second': 1300,\n",
       " 'through': 1298,\n",
       " 'can': 1293,\n",
       " 'both': 1291,\n",
       " '4': 1279,\n",
       " 'part': 1277,\n",
       " 'then': 1272,\n",
       " 'including': 1270,\n",
       " '/': 1261,\n",
       " 'against': 1260,\n",
       " 'number': 1259,\n",
       " 'became': 1255,\n",
       " 'film': 1253,\n",
       " 'known': 1249,\n",
       " 'well': 1243,\n",
       " '—': 1240,\n",
       " 'many': 1208,\n",
       " 'there': 1205,\n",
       " 'no': 1199,\n",
       " 'century': 1159,\n",
       " 'four': 1140,\n",
       " 'several': 1113,\n",
       " 'began': 1102,\n",
       " 'under': 1087,\n",
       " 'early': 1065,\n",
       " 'called': 1060,\n",
       " 'work': 1059,\n",
       " 'episode': 1057,\n",
       " 'found': 1031,\n",
       " 'could': 1028,\n",
       " 'so': 1022,\n",
       " 'said': 1022,\n",
       " 'these': 1011,\n",
       " '6': 1011,\n",
       " 'may': 1007,\n",
       " 'until': 986,\n",
       " 'end': 979,\n",
       " 'city': 974,\n",
       " 'same': 972,\n",
       " 'released': 965,\n",
       " '10': 962,\n",
       " 'did': 958,\n",
       " 'day': 948,\n",
       " 'because': 940,\n",
       " 'area': 939,\n",
       " 'million': 933,\n",
       " 'like': 921,\n",
       " '0': 914,\n",
       " 'people': 914,\n",
       " 'along': 905,\n",
       " 'team': 898,\n",
       " 'around': 889,\n",
       " '%': 881,\n",
       " 'use': 878,\n",
       " 'each': 869,\n",
       " 'following': 863,\n",
       " 'back': 863,\n",
       " 'long': 850,\n",
       " 'life': 849,\n",
       " 'five': 844,\n",
       " '8': 837,\n",
       " 'km': 836,\n",
       " 'large': 832,\n",
       " '7': 825,\n",
       " 'music': 814,\n",
       " 'off': 812,\n",
       " 'since': 790,\n",
       " 'received': 783,\n",
       " 'name': 779,\n",
       " '9': 777,\n",
       " 'any': 766,\n",
       " 'down': 764,\n",
       " 'final': 763,\n",
       " 'what': 758,\n",
       " 'described': 758,\n",
       " '$': 753,\n",
       " 'high': 751,\n",
       " 'state': 749,\n",
       " 'will': 748,\n",
       " 'played': 748,\n",
       " 'took': 744,\n",
       " '[': 738,\n",
       " ']': 738,\n",
       " 'wrote': 732,\n",
       " 'now': 731,\n",
       " 'won': 724,\n",
       " 'species': 723,\n",
       " 'much': 717,\n",
       " 'set': 717,\n",
       " 'due': 713,\n",
       " 'line': 712,\n",
       " 'single': 711,\n",
       " 'another': 699,\n",
       " 'included': 697,\n",
       " 'record': 697,\n",
       " 'play': 692,\n",
       " 'within': 689,\n",
       " 'named': 683,\n",
       " 'based': 682,\n",
       " 'm': 682,\n",
       " 'if': 681,\n",
       " 'although': 680,\n",
       " 'left': 680,\n",
       " 'very': 674,\n",
       " 'late': 673,\n",
       " 'games': 668,\n",
       " 'family': 663,\n",
       " '12': 662,\n",
       " 'main': 658,\n",
       " 'six': 658,\n",
       " 'small': 654,\n",
       " '20': 653,\n",
       " 'home': 652,\n",
       " '15': 650,\n",
       " 'north': 647,\n",
       " 'third': 646,\n",
       " 'those': 643,\n",
       " 'show': 640,\n",
       " 'group': 639,\n",
       " 'system': 638,\n",
       " 'own': 638,\n",
       " 'place': 636,\n",
       " 'built': 633,\n",
       " 'government': 632,\n",
       " 'character': 631,\n",
       " 'just': 631,\n",
       " 'south': 631,\n",
       " '30': 630,\n",
       " 'near': 629,\n",
       " 'storm': 626,\n",
       " 'best': 624,\n",
       " 'men': 624,\n",
       " 'original': 616,\n",
       " '2009': 616,\n",
       " 'last': 615,\n",
       " 'world': 615,\n",
       " 'video': 614,\n",
       " '2008': 612,\n",
       " '2010': 611,\n",
       " 'book': 611,\n",
       " 'form': 605,\n",
       " 'make': 604,\n",
       " 'war': 604,\n",
       " 'do': 602,\n",
       " 'even': 601,\n",
       " 'death': 598,\n",
       " 'moved': 590,\n",
       " 'role': 588,\n",
       " 'water': 586,\n",
       " 'still': 584,\n",
       " 'major': 583,\n",
       " 'led': 579,\n",
       " 'history': 578,\n",
       " 'often': 578,\n",
       " 'way': 571,\n",
       " 'next': 567,\n",
       " 'considered': 567,\n",
       " '2007': 567,\n",
       " 'player': 565,\n",
       " 'top': 563,\n",
       " 'career': 560,\n",
       " 'recorded': 559,\n",
       " 'de': 559,\n",
       " 'again': 557,\n",
       " 'period': 554,\n",
       " 'came': 554,\n",
       " '100': 551,\n",
       " 'side': 550,\n",
       " 'company': 549,\n",
       " 'published': 548,\n",
       " 'continued': 547,\n",
       " 'you': 543,\n",
       " 'without': 542,\n",
       " 'songs': 541,\n",
       " 'though': 541,\n",
       " 'local': 537,\n",
       " 'held': 537,\n",
       " 'public': 535,\n",
       " '14': 534,\n",
       " '16': 531,\n",
       " '11': 529,\n",
       " 'written': 527,\n",
       " '25': 523,\n",
       " 'support': 522,\n",
       " '2011': 519,\n",
       " 'release': 519,\n",
       " 'take': 518,\n",
       " 'become': 516,\n",
       " '18': 516,\n",
       " 'few': 516,\n",
       " '2006': 515,\n",
       " 'however': 512,\n",
       " 'days': 511,\n",
       " 'further': 509,\n",
       " 'version': 508,\n",
       " 'club': 507,\n",
       " 'half': 505,\n",
       " '&': 505,\n",
       " 'title': 504,\n",
       " 'military': 501,\n",
       " 'different': 499,\n",
       " '13': 491,\n",
       " 'ship': 489,\n",
       " 'gave': 488,\n",
       " 'run': 487,\n",
       " '!': 486,\n",
       " 'church': 485,\n",
       " 'among': 484,\n",
       " 'power': 484,\n",
       " 'produced': 482,\n",
       " 'former': 482,\n",
       " 'story': 480,\n",
       " '2012': 480,\n",
       " 'production': 475,\n",
       " 'tropical': 472,\n",
       " 'times': 471,\n",
       " 'forces': 468,\n",
       " 'children': 467,\n",
       " 'similar': 466,\n",
       " 'having': 465,\n",
       " 'include': 465,\n",
       " 'members': 464,\n",
       " 'position': 463,\n",
       " 'point': 462,\n",
       " 'east': 461,\n",
       " 'lost': 460,\n",
       " 'old': 459,\n",
       " 'given': 459,\n",
       " 'short': 456,\n",
       " 'school': 455,\n",
       " '2013': 452,\n",
       " 'control': 450,\n",
       " 'site': 450,\n",
       " 'reported': 450,\n",
       " 'seen': 450,\n",
       " 'common': 448,\n",
       " 'making': 447,\n",
       " 'stated': 446,\n",
       " 'man': 446,\n",
       " 'total': 444,\n",
       " 'west': 443,\n",
       " 'track': 442,\n",
       " 'returned': 441,\n",
       " 'lead': 440,\n",
       " 'order': 439,\n",
       " 'body': 435,\n",
       " 'ft': 435,\n",
       " 'established': 433,\n",
       " 'ships': 433,\n",
       " 'population': 431,\n",
       " 'country': 430,\n",
       " 'reached': 430,\n",
       " 'we': 429,\n",
       " 'noted': 427,\n",
       " 'away': 427,\n",
       " 'never': 427,\n",
       " 'match': 426,\n",
       " 'fire': 425,\n",
       " 'developed': 424,\n",
       " 'throughout': 424,\n",
       " 'across': 424,\n",
       " 'result': 423,\n",
       " 'town': 422,\n",
       " 'seven': 420,\n",
       " 'thought': 418,\n",
       " 'how': 418,\n",
       " 'less': 418,\n",
       " 'using': 417,\n",
       " 'himself': 417,\n",
       " 'attack': 415,\n",
       " 'field': 414,\n",
       " 'development': 411,\n",
       " 'felt': 411,\n",
       " 'per': 409,\n",
       " 'performed': 409,\n",
       " '17': 409,\n",
       " 'writing': 406,\n",
       " 'win': 405,\n",
       " 'miles': 404,\n",
       " 'television': 403,\n",
       " 'important': 403,\n",
       " 'band': 401,\n",
       " 'right': 401,\n",
       " 'areas': 401,\n",
       " 'previous': 399,\n",
       " 'died': 398,\n",
       " 'week': 397,\n",
       " 'went': 397,\n",
       " 'white': 396,\n",
       " '23': 395,\n",
       " 'events': 394,\n",
       " 'eight': 393,\n",
       " 'players': 391,\n",
       " 'started': 391,\n",
       " 'head': 390,\n",
       " 'star': 390,\n",
       " 'low': 389,\n",
       " 'land': 389,\n",
       " 'mm': 389,\n",
       " 'various': 388,\n",
       " 'feet': 388,\n",
       " 'formed': 388,\n",
       " 'father': 386,\n",
       " 'performance': 385,\n",
       " 'style': 384,\n",
       " 'building': 384,\n",
       " 'caused': 383,\n",
       " '21': 382,\n",
       " 'full': 381,\n",
       " 'too': 381,\n",
       " '19': 380,\n",
       " '50': 380,\n",
       " 'road': 380,\n",
       " '28': 379,\n",
       " 'range': 379,\n",
       " '24': 378,\n",
       " 'force': 377,\n",
       " 'should': 377,\n",
       " 'sent': 377,\n",
       " 'created': 376,\n",
       " '2004': 374,\n",
       " '2005': 373,\n",
       " 'level': 372,\n",
       " 'able': 372,\n",
       " 'political': 372,\n",
       " 'characters': 371,\n",
       " 'others': 369,\n",
       " 'construction': 368,\n",
       " 'age': 366,\n",
       " 'good': 363,\n",
       " '’': 363,\n",
       " 'black': 361,\n",
       " 'once': 361,\n",
       " 'modern': 361,\n",
       " 'remained': 360,\n",
       " 'located': 359,\n",
       " 'great': 358,\n",
       " 'works': 357,\n",
       " 'scored': 357,\n",
       " 'announced': 355,\n",
       " 'completed': 355,\n",
       " '22': 353,\n",
       " 'guns': 352,\n",
       " 'little': 350,\n",
       " 'instead': 349,\n",
       " 'strong': 349,\n",
       " '26': 349,\n",
       " 'region': 349,\n",
       " 'present': 348,\n",
       " 'ground': 348,\n",
       " 'added': 347,\n",
       " 'novel': 346,\n",
       " 'least': 345,\n",
       " 'followed': 345,\n",
       " 'appeared': 344,\n",
       " 'son': 344,\n",
       " 'killed': 343,\n",
       " 'island': 343,\n",
       " 'addition': 342,\n",
       " 'originally': 342,\n",
       " 'months': 342,\n",
       " 'wife': 341,\n",
       " 'stars': 341,\n",
       " 'hurricane': 338,\n",
       " 'women': 337,\n",
       " 'success': 336,\n",
       " 'southern': 335,\n",
       " 'critics': 334,\n",
       " 'return': 334,\n",
       " 'human': 334,\n",
       " '2003': 334,\n",
       " 'eventually': 333,\n",
       " 'features': 332,\n",
       " 'does': 332,\n",
       " 'born': 331,\n",
       " '2015': 331,\n",
       " 'live': 330,\n",
       " 'route': 328,\n",
       " 'taken': 328,\n",
       " 'fourth': 328,\n",
       " 'every': 328,\n",
       " 'eastern': 328,\n",
       " 'popular': 327,\n",
       " 'light': 327,\n",
       " 'served': 327,\n",
       " 'young': 326,\n",
       " 're': 326,\n",
       " 'class': 325,\n",
       " 'damage': 324,\n",
       " 'either': 322,\n",
       " 'decided': 322,\n",
       " 'heavy': 320,\n",
       " 'behind': 320,\n",
       " 's': 320,\n",
       " 'together': 319,\n",
       " 'believed': 319,\n",
       " 'playing': 316,\n",
       " 'sold': 315,\n",
       " 'see': 315,\n",
       " 'example': 313,\n",
       " 'move': 312,\n",
       " 'almost': 312,\n",
       " 'goal': 312,\n",
       " 'close': 312,\n",
       " 'ten': 312,\n",
       " 'national': 311,\n",
       " 'poem': 311,\n",
       " 'leading': 310,\n",
       " 'generally': 309,\n",
       " 'service': 309,\n",
       " 'put': 309,\n",
       " 'elements': 308,\n",
       " 'towards': 308,\n",
       " 'opened': 308,\n",
       " 'list': 307,\n",
       " 'brought': 306,\n",
       " 'weeks': 306,\n",
       " 'finished': 305,\n",
       " 'design': 305,\n",
       " '27': 304,\n",
       " 'mother': 304,\n",
       " 'featured': 303,\n",
       " 'study': 303,\n",
       " 'highway': 303,\n",
       " 'significant': 302,\n",
       " 'night': 302,\n",
       " 'aircraft': 302,\n",
       " 'project': 301,\n",
       " 'points': 299,\n",
       " 'general': 299,\n",
       " 'ever': 299,\n",
       " 'tour': 299,\n",
       " 'directed': 298,\n",
       " 'provided': 297,\n",
       " 'successful': 296,\n",
       " 'action': 296,\n",
       " 'start': 296,\n",
       " 'upon': 295,\n",
       " 'open': 295,\n",
       " 'h': 295,\n",
       " 'help': 294,\n",
       " 'appearance': 294,\n",
       " 'earlier': 293,\n",
       " 'house': 292,\n",
       " 'art': 292,\n",
       " 'mi': 292,\n",
       " '2014': 291,\n",
       " 'female': 291,\n",
       " 'rather': 291,\n",
       " '40': 291,\n",
       " '29': 290,\n",
       " 'campaign': 290,\n",
       " 'director': 289,\n",
       " 'victory': 289,\n",
       " 'central': 289,\n",
       " 'largest': 289,\n",
       " 'operations': 288,\n",
       " 'particularly': 288,\n",
       " 'troops': 287,\n",
       " 'attempt': 287,\n",
       " 'opening': 286,\n",
       " 'wanted': 286,\n",
       " 'non': 286,\n",
       " 'find': 286,\n",
       " 'mid': 285,\n",
       " 'get': 285,\n",
       " 'evidence': 284,\n",
       " 'yards': 284,\n",
       " '19th': 284,\n",
       " 'northern': 283,\n",
       " 'outside': 281,\n",
       " 'possible': 281,\n",
       " 'allowed': 281,\n",
       " 'saw': 281,\n",
       " 'saying': 280,\n",
       " 'manager': 280,\n",
       " 'yard': 280,\n",
       " 'stage': 279,\n",
       " 'member': 278,\n",
       " 'hours': 278,\n",
       " 'whom': 278,\n",
       " 'me': 277,\n",
       " 'front': 277,\n",
       " 'event': 277,\n",
       " 'chart': 277,\n",
       " 'case': 277,\n",
       " 'rest': 276,\n",
       " 'worked': 276,\n",
       " '2001': 276,\n",
       " 'river': 276,\n",
       " 'working': 274,\n",
       " '500': 274,\n",
       " 'air': 273,\n",
       " 'process': 272,\n",
       " 'battle': 271,\n",
       " 'designed': 271,\n",
       " 'love': 270,\n",
       " '200': 270,\n",
       " 'praised': 269,\n",
       " 'forced': 268,\n",
       " 'remains': 268,\n",
       " 'winds': 266,\n",
       " 'increased': 265,\n",
       " 'month': 265,\n",
       " 'previously': 264,\n",
       " '£': 264,\n",
       " 'above': 263,\n",
       " 'replaced': 263,\n",
       " 'relationship': 261,\n",
       " 'gun': 259,\n",
       " 'writer': 258,\n",
       " 'soon': 258,\n",
       " '°': 258,\n",
       " 'units': 257,\n",
       " 'my': 257,\n",
       " 'estimated': 257,\n",
       " 'mph': 257,\n",
       " 'go': 255,\n",
       " 'claimed': 255,\n",
       " 'highest': 255,\n",
       " 'joined': 255,\n",
       " 'far': 255,\n",
       " 'involved': 254,\n",
       " 'placed': 254,\n",
       " 'signed': 253,\n",
       " 'suggested': 253,\n",
       " 'parts': 252,\n",
       " 'plan': 252,\n",
       " '31': 251,\n",
       " 'goals': 251,\n",
       " 'league': 250,\n",
       " 'itself': 250,\n",
       " 'met': 249,\n",
       " 'average': 249,\n",
       " 'available': 248,\n",
       " 'taking': 248,\n",
       " 'law': 248,\n",
       " 'scene': 247,\n",
       " 'rock': 247,\n",
       " 'introduced': 247,\n",
       " 'whose': 246,\n",
       " 'term': 246,\n",
       " 'recording': 246,\n",
       " 'village': 246,\n",
       " 'official': 245,\n",
       " 'coast': 245,\n",
       " 'shot': 244,\n",
       " 'western': 243,\n",
       " 'football': 243,\n",
       " 'told': 242,\n",
       " 'damaged': 242,\n",
       " 'shows': 242,\n",
       " 'turned': 241,\n",
       " 'ball': 241,\n",
       " 'entire': 240,\n",
       " 'give': 240,\n",
       " 'loss': 240,\n",
       " 'nine': 239,\n",
       " 'despite': 239,\n",
       " 'nearly': 239,\n",
       " 'must': 239,\n",
       " 'religious': 239,\n",
       " 'appointed': 239,\n",
       " 'race': 239,\n",
       " 'structure': 238,\n",
       " '-': 238,\n",
       " 'community': 238,\n",
       " 'lines': 237,\n",
       " 'passed': 237,\n",
       " 'date': 237,\n",
       " '?': 237,\n",
       " 'initially': 236,\n",
       " 'international': 236,\n",
       " 'already': 235,\n",
       " 'base': 235,\n",
       " 'going': 235,\n",
       " 'names': 234,\n",
       " 'length': 234,\n",
       " 'change': 234,\n",
       " 'winning': 234,\n",
       " 'failed': 234,\n",
       " 'probably': 233,\n",
       " 'size': 233,\n",
       " 'free': 233,\n",
       " 'training': 233,\n",
       " 'language': 233,\n",
       " 'especially': 233,\n",
       " 'issue': 232,\n",
       " '2002': 232,\n",
       " 'commercial': 232,\n",
       " 'review': 231,\n",
       " 'studio': 231,\n",
       " 'gold': 231,\n",
       " 'cast': 230,\n",
       " 'ordered': 230,\n",
       " 'spent': 230,\n",
       " 'might': 230,\n",
       " 'arrived': 230,\n",
       " 'includes': 230,\n",
       " 'army': 229,\n",
       " 'remaining': 229,\n",
       " 'enough': 229,\n",
       " 'states': 229,\n",
       " 'sometimes': 228,\n",
       " 'male': 228,\n",
       " 'forward': 228,\n",
       " 'mixed': 228,\n",
       " 'king': 228,\n",
       " 'approximately': 227,\n",
       " 'come': 227,\n",
       " 'required': 227,\n",
       " 'complete': 227,\n",
       " 'reviews': 227,\n",
       " 'court': 227,\n",
       " 'latter': 226,\n",
       " 'social': 226,\n",
       " 'beginning': 225,\n",
       " 'past': 225,\n",
       " 'hand': 224,\n",
       " '2000': 224,\n",
       " 'limited': 223,\n",
       " 'special': 223,\n",
       " 'debut': 223,\n",
       " 'decision': 223,\n",
       " 'appear': 223,\n",
       " 'red': 223,\n",
       " 'additional': 222,\n",
       " 'changes': 222,\n",
       " 'usually': 222,\n",
       " 'response': 221,\n",
       " 'running': 221,\n",
       " 'positive': 220,\n",
       " 'larger': 220,\n",
       " 'students': 220,\n",
       " 'hit': 220,\n",
       " 'ended': 220,\n",
       " 'regular': 220,\n",
       " '00': 220,\n",
       " 'magazine': 219,\n",
       " 'supported': 219,\n",
       " 'police': 218,\n",
       " 'notes': 218,\n",
       " 'according': 218,\n",
       " 'pressure': 218,\n",
       " 'type': 218,\n",
       " 'food': 218,\n",
       " 'depression': 218,\n",
       " 'real': 217,\n",
       " 'wide': 217,\n",
       " 'better': 217,\n",
       " 'birds': 217,\n",
       " 'capital': 216,\n",
       " 'lower': 216,\n",
       " 'score': 216,\n",
       " 'shown': 216,\n",
       " 'crew': 216,\n",
       " '1995': 216,\n",
       " 'related': 215,\n",
       " 'particular': 215,\n",
       " 'future': 215,\n",
       " 'woman': 214,\n",
       " 'provide': 214,\n",
       " 'center': 214,\n",
       " 'fifth': 214,\n",
       " 'defeated': 214,\n",
       " 'difficult': 214,\n",
       " 'program': 214,\n",
       " 'face': 213,\n",
       " 'discovered': 213,\n",
       " 'feature': 212,\n",
       " 'lack': 212,\n",
       " 'round': 211,\n",
       " 'becoming': 211,\n",
       " 'view': 211,\n",
       " 'co': 211,\n",
       " 'fact': 210,\n",
       " 'person': 209,\n",
       " 'smaller': 209,\n",
       " 'section': 209,\n",
       " 'idea': 208,\n",
       " 'intended': 208,\n",
       " 'groups': 208,\n",
       " 'mostly': 207,\n",
       " 'themselves': 207,\n",
       " 'metres': 207,\n",
       " 'referred': 206,\n",
       " 'cm': 206,\n",
       " 'likely': 206,\n",
       " 'surface': 206,\n",
       " 'minutes': 206,\n",
       " 'captured': 206,\n",
       " '2016': 206,\n",
       " '60': 206,\n",
       " 'material': 205,\n",
       " 'problems': 205,\n",
       " 'office': 205,\n",
       " 'largely': 205,\n",
       " 'entered': 204,\n",
       " 'interest': 204,\n",
       " 'moving': 203,\n",
       " 'cut': 203,\n",
       " 'constructed': 202,\n",
       " 'contains': 202,\n",
       " 'fleet': 202,\n",
       " 'summer': 201,\n",
       " 'media': 201,\n",
       " '1999': 201,\n",
       " 'word': 200,\n",
       " 'money': 200,\n",
       " 'cover': 200,\n",
       " 'contract': 200,\n",
       " 'effects': 200,\n",
       " 'majority': 199,\n",
       " 'listed': 199,\n",
       " 'poor': 199,\n",
       " 'nature': 199,\n",
       " 'voice': 199,\n",
       " 'ranked': 199,\n",
       " 'business': 199,\n",
       " 'stories': 199,\n",
       " 'experience': 198,\n",
       " 'create': 198,\n",
       " 'musical': 198,\n",
       " 'research': 198,\n",
       " '45': 198,\n",
       " 'leaving': 197,\n",
       " 'station': 197,\n",
       " 'critical': 197,\n",
       " 'dam': 197,\n",
       " 'professional': 196,\n",
       " 'thus': 196,\n",
       " 'makes': 196,\n",
       " 'primary': 196,\n",
       " 'location': 195,\n",
       " 'turn': 195,\n",
       " 'always': 195,\n",
       " 'lived': 195,\n",
       " 'lyrics': 195,\n",
       " 'agreed': 195,\n",
       " 'gods': 195,\n",
       " 'runs': 194,\n",
       " 'post': 194,\n",
       " 'officers': 194,\n",
       " '2nd': 194,\n",
       " 'launched': 194,\n",
       " 'films': 194,\n",
       " 'quickly': 193,\n",
       " 'teams': 193,\n",
       " 'culture': 193,\n",
       " 'episodes': 192,\n",
       " 'proposed': 192,\n",
       " 'occurred': 192,\n",
       " 'minute': 192,\n",
       " 'assigned': 191,\n",
       " 'self': 191,\n",
       " 'whether': 191,\n",
       " 'increase': 191,\n",
       " 'destroyed': 190,\n",
       " 'defeat': 190,\n",
       " 'forms': 190,\n",
       " 'changed': 190,\n",
       " 'fans': 190,\n",
       " 'appears': 190,\n",
       " 'traffic': 190,\n",
       " 'mass': 190,\n",
       " 'longer': 189,\n",
       " 'sea': 189,\n",
       " 'tons': 189,\n",
       " 'theme': 188,\n",
       " 'numbers': 188,\n",
       " 'soldiers': 188,\n",
       " 'staff': 188,\n",
       " 'competition': 188,\n",
       " 'direct': 188,\n",
       " 'carried': 187,\n",
       " 'awarded': 187,\n",
       " 'leave': 187,\n",
       " 'trade': 187,\n",
       " 'sound': 187,\n",
       " 'daughter': 186,\n",
       " 'private': 186,\n",
       " 'conducted': 186,\n",
       " 'friend': 186,\n",
       " '1998': 186,\n",
       " 'records': 185,\n",
       " 'subsequently': 185,\n",
       " 'cause': 184,\n",
       " 'plans': 184,\n",
       " 'ran': 184,\n",
       " 'current': 184,\n",
       " 'port': 184,\n",
       " 'fighting': 184,\n",
       " 'radio': 184,\n",
       " 'president': 184,\n",
       " 'takes': 183,\n",
       " 'command': 183,\n",
       " 'interview': 183,\n",
       " 'overall': 183,\n",
       " 'influence': 183,\n",
       " 'prior': 183,\n",
       " 'report': 183,\n",
       " 'commented': 183,\n",
       " 'industry': 183,\n",
       " '1993': 183,\n",
       " 'asked': 182,\n",
       " 'finally': 182,\n",
       " '+': 182,\n",
       " 'election': 182,\n",
       " 'certain': 181,\n",
       " 'ending': 181,\n",
       " '1st': 181,\n",
       " 'child': 181,\n",
       " 'greater': 181,\n",
       " 'compared': 181,\n",
       " '400': 181,\n",
       " 'network': 181,\n",
       " 'anti': 181,\n",
       " 'whole': 181,\n",
       " 'quarter': 181,\n",
       " 'done': 180,\n",
       " 'married': 180,\n",
       " 'unable': 180,\n",
       " 'double': 180,\n",
       " 'pass': 180,\n",
       " 'positions': 180,\n",
       " 'buildings': 179,\n",
       " 'our': 179,\n",
       " 'concert': 179,\n",
       " 'yet': 178,\n",
       " 'earned': 178,\n",
       " 'centre': 178,\n",
       " 'issued': 177,\n",
       " '20th': 177,\n",
       " 'begins': 177,\n",
       " 'party': 177,\n",
       " '1996': 177,\n",
       " 'living': 177,\n",
       " 'know': 177,\n",
       " 'directly': 176,\n",
       " 'terms': 176,\n",
       " '80': 176,\n",
       " 'brother': 176,\n",
       " 'minor': 175,\n",
       " 'movement': 175,\n",
       " 'meaning': 175,\n",
       " 'pre': 175,\n",
       " 'books': 175,\n",
       " 'wall': 175,\n",
       " 'status': 175,\n",
       " 'marriage': 175,\n",
       " 'scenes': 175,\n",
       " 'helped': 174,\n",
       " 'attacks': 173,\n",
       " 'planned': 173,\n",
       " 'starting': 173,\n",
       " 'suffered': 173,\n",
       " 'schools': 173,\n",
       " 'effect': 173,\n",
       " 'dead': 173,\n",
       " 'traditional': 173,\n",
       " 'information': 173,\n",
       " 'inspired': 172,\n",
       " 'giving': 172,\n",
       " '38': 172,\n",
       " 'meant': 172,\n",
       " 'figure': 172,\n",
       " 'performances': 172,\n",
       " 'associated': 172,\n",
       " '75': 171,\n",
       " 'closed': 171,\n",
       " 'deal': 171,\n",
       " 'source': 171,\n",
       " 'got': 171,\n",
       " 'presented': 171,\n",
       " 'think': 171,\n",
       " 'machine': 171,\n",
       " 'condoms': 171,\n",
       " 'presence': 170,\n",
       " 'raised': 170,\n",
       " 'via': 170,\n",
       " 'greatest': 170,\n",
       " 'peak': 170,\n",
       " '35': 170,\n",
       " 'broadcast': 170,\n",
       " 'unit': 169,\n",
       " 'writers': 169,\n",
       " 'continue': 169,\n",
       " 'uses': 169,\n",
       " 'education': 169,\n",
       " 'room': 169,\n",
       " 'nearby': 169,\n",
       " 'upper': 168,\n",
       " 'collection': 168,\n",
       " 'covered': 168,\n",
       " 'image': 168,\n",
       " 'cyclone': 168,\n",
       " 'composed': 167,\n",
       " 'space': 167,\n",
       " 'services': 167,\n",
       " 'marked': 167,\n",
       " 'annual': 167,\n",
       " 'territory': 166,\n",
       " 'guitar': 166,\n",
       " 'extended': 166,\n",
       " '1997': 166,\n",
       " 'commander': 166,\n",
       " 'numerous': 166,\n",
       " ...}"
      ]
     },
     "execution_count": 84,
     "metadata": {},
     "output_type": "execute_result"
    }
   ],
   "source": [
    "sorted_freqs"
   ]
  },
  {
   "cell_type": "code",
   "execution_count": null,
   "id": "eaae3919-ecf8-4242-97c3-1fc491b61491",
   "metadata": {},
   "outputs": [],
   "source": []
  },
  {
   "cell_type": "code",
   "execution_count": null,
   "id": "eea530c8-4beb-45e2-acac-b628147c5d68",
   "metadata": {},
   "outputs": [],
   "source": []
  },
  {
   "cell_type": "markdown",
   "id": "536ebef7-c61a-4a65-ab60-c5a02518f49d",
   "metadata": {},
   "source": [
    "##### comments"
   ]
  },
  {
   "cell_type": "code",
   "execution_count": 62,
   "id": "072ec5a7-477c-4c3a-babb-0619cb5296be",
   "metadata": {},
   "outputs": [],
   "source": [
    "subs = ['The_Donald']\n",
    "seed = 42\n",
    "min_comment_length = 100"
   ]
  },
  {
   "cell_type": "code",
   "execution_count": 27,
   "id": "0f193aad-9ada-4dd3-86fa-1283d58708bf",
   "metadata": {},
   "outputs": [],
   "source": [
    "politics_df = pl.read_csv('/users/ujan/sports-language-in-politics/data/processed/politics_sample.csv').drop_nulls()\n",
    "sports_df = pl.read_csv('/users/ujan/sports-language-in-politics/data/processed/sports_sample.csv').drop_nulls()"
   ]
  },
  {
   "cell_type": "code",
   "execution_count": 63,
   "id": "279979c5-da8f-491c-9e63-b92ee358e209",
   "metadata": {},
   "outputs": [
    {
     "name": "stdout",
     "output_type": "stream",
     "text": [
      "filtering comments\n"
     ]
    }
   ],
   "source": [
    "# filter out subs\n",
    "data_df = politics_df.filter(pl.col('subreddit').is_in(subs))\n",
    "# shuffle dataframe\n",
    "data_df = data_df.sample(fraction=1.0, shuffle=True, seed=seed)\n",
    "\n",
    "# get sports sample of same length after shuffle\n",
    "sports_df = sports_df.sample(fraction=1.0, shuffle=True, seed=seed)[:len(data_df)]\n",
    "\n",
    "# concat dfs and shuffle again\n",
    "data_df = pl.concat([data_df, sports_df]).sample(fraction=1.0, shuffle=True, seed=seed)\n",
    "\n",
    "# filter comments\n",
    "print('filtering comments')\n",
    "comments = [comment.replace(\"'\", '')\n",
    "            for comment in data_df['body'].to_list()]\n",
    "comments = [re.sub(r\"[^a-zA-Z0-9]+\", ' ', comment).lower()\n",
    "            for comment in comments]\n",
    "\n",
    "comments_long = []\n",
    "# filter by char\n",
    "for c in range(len(comments)):\n",
    "    if len(comments[c]) >= min_comment_length:\n",
    "        comments_long.append(comments[c])"
   ]
  },
  {
   "cell_type": "code",
   "execution_count": 88,
   "id": "23f53955-c674-4963-93ab-8512a0026509",
   "metadata": {},
   "outputs": [],
   "source": [
    "sample_size = 100000"
   ]
  },
  {
   "cell_type": "code",
   "execution_count": 89,
   "id": "a12f9680-67cb-4bcd-a66d-790826c6df01",
   "metadata": {},
   "outputs": [
    {
     "name": "stdout",
     "output_type": "stream",
     "text": [
      "total comments : 100000\n",
      "total words : 4907529\n",
      "Vocabulary size: 10396\n",
      "total_words : vocab = 472\n"
     ]
    }
   ],
   "source": [
    "comments = comments_long[:sample_size]\n",
    "#comments = comments_long\n",
    "\n",
    "print('total comments : {}'.format(len(comments)))\n",
    "word_count = 0\n",
    "for comment in comments:\n",
    "    word_count += len(comment.split())\n",
    "print('total words : {}'.format(word_count))\n",
    "\n",
    "data_dict = {\"text\": comments}\n",
    "dataset = Dataset.from_dict(data_dict).train_test_split(test_size=0.1)\n",
    "\n",
    "tokenizer = get_tokenizer(\"basic_english\", language=\"en\")\n",
    "\n",
    "train_dataloader, vocab = get_dataloader_and_vocab(\n",
    "    dataset=dataset,\n",
    "    ds_type=\"train\",\n",
    "    batch_size=96,\n",
    "    tokenizer=tokenizer,\n",
    "    vocab=None,\n",
    ")\n",
    "\n",
    "vocab_size = len(vocab.get_stoi())\n",
    "print(f\"Vocabulary size: {vocab_size}\")\n",
    "\n",
    "print('total_words : vocab = {}'.format(word_count//vocab_size))"
   ]
  },
  {
   "cell_type": "code",
   "execution_count": 91,
   "id": "67eb3458-adad-40bd-8644-07a3afb1a58d",
   "metadata": {},
   "outputs": [
    {
     "data": {
      "application/vnd.jupyter.widget-view+json": {
       "model_id": "29ed02d584b64c3cba753f396d71e688",
       "version_major": 2,
       "version_minor": 0
      },
      "text/plain": [
       "  0%|          | 0/100000 [00:00<?, ?it/s]"
      ]
     },
     "metadata": {},
     "output_type": "display_data"
    }
   ],
   "source": [
    "freqs = {}\n",
    "stoi_dict = vocab.get_stoi()\n",
    "bar = tqdm(range(len(comments)))\n",
    "for text in comments:\n",
    "    if text != '':\n",
    "        for word in text.split():\n",
    "            if word in stoi_dict:\n",
    "                if word in freqs:\n",
    "                    freqs[word] += 1\n",
    "                else:\n",
    "                    freqs[word] = 1\n",
    "    bar.update(1)"
   ]
  },
  {
   "cell_type": "code",
   "execution_count": 92,
   "id": "c059c31e-9d77-4b59-a218-ea2610b9780d",
   "metadata": {},
   "outputs": [],
   "source": [
    "sorted_freqs = dict(sorted(freqs.items(), key=lambda item: item[1], reverse=True))"
   ]
  },
  {
   "cell_type": "code",
   "execution_count": 74,
   "id": "ab36f0f6-a022-4ede-a8d6-8e60e3fa67b6",
   "metadata": {},
   "outputs": [
    {
     "data": {
      "image/png": "[encoded data removed]",
      "text/plain": [
       "<Figure size 640x480 with 1 Axes>"
      ]
     },
     "metadata": {},
     "output_type": "display_data"
    }
   ],
   "source": [
    "#sns.set(rc={'figure.figsize':(9.7,7.27)})\n",
    "\n",
    "#a.tick_params(labelsize=7)\n",
    "#b.tick_params(labelsize=7)\n",
    "\n",
    "#a.set_xlabel(\"republicans\",fontsize=10)\n",
    "#b.set_xlabel(\"democrats\",fontsize=10)\n",
    "plt.ylim(0, 10000)\n",
    "plt.bar(sorted_freqs.keys(), sorted_freqs.values(), color='g')\n",
    "#ax.tick_params(labelsize=7)\n",
    "#ax.set(ylim=(0, 5000))\n",
    "plt.show()"
   ]
  },
  {
   "cell_type": "code",
   "execution_count": 93,
   "id": "faa3394a-2983-4862-989d-a813b96bc2b4",
   "metadata": {},
   "outputs": [
    {
     "data": {
      "text/plain": [
       "{'the': 211178,\n",
       " 'to': 125448,\n",
       " 'a': 113289,\n",
       " 'and': 108474,\n",
       " 'of': 81275,\n",
       " 'i': 75817,\n",
       " 'is': 70123,\n",
       " 'in': 65133,\n",
       " 'that': 65060,\n",
       " 'it': 53993,\n",
       " 'for': 45065,\n",
       " 'you': 42266,\n",
       " 'he': 39389,\n",
       " 'they': 37485,\n",
       " 'this': 35899,\n",
       " 'but': 34246,\n",
       " 'on': 34218,\n",
       " 'be': 33824,\n",
       " 'was': 31738,\n",
       " 'have': 30267,\n",
       " 'are': 30076,\n",
       " 'with': 29900,\n",
       " 'not': 29659,\n",
       " 'if': 28619,\n",
       " 'we': 24334,\n",
       " 'as': 24049,\n",
       " 'just': 21674,\n",
       " 'like': 21507,\n",
       " 'at': 19825,\n",
       " 'so': 19656,\n",
       " 'all': 19649,\n",
       " 'his': 18792,\n",
       " 'its': 18673,\n",
       " 'or': 18194,\n",
       " 'would': 16050,\n",
       " 'about': 15928,\n",
       " 'people': 15825,\n",
       " 'what': 15675,\n",
       " 'can': 15375,\n",
       " 'their': 15136,\n",
       " 'him': 14848,\n",
       " 'from': 14658,\n",
       " 'up': 14616,\n",
       " 'out': 14590,\n",
       " 'has': 14254,\n",
       " 'get': 14119,\n",
       " 'one': 13833,\n",
       " 'will': 13791,\n",
       " 'think': 13701,\n",
       " 'dont': 13408,\n",
       " 'more': 13133,\n",
       " 'an': 13114,\n",
       " 'when': 13042,\n",
       " 'no': 13028,\n",
       " 'do': 12926,\n",
       " 'my': 12779,\n",
       " 'who': 12755,\n",
       " 'them': 12628,\n",
       " 'there': 12448,\n",
       " 'because': 12111,\n",
       " 'by': 11510,\n",
       " 'how': 11367,\n",
       " 'were': 11059,\n",
       " 's': 10840,\n",
       " 'your': 10329,\n",
       " 'trump': 10237,\n",
       " 'even': 10109,\n",
       " 'im': 10076,\n",
       " 'been': 9713,\n",
       " 'good': 9712,\n",
       " 'than': 9639,\n",
       " 'had': 9554,\n",
       " 'me': 9306,\n",
       " 'some': 9293,\n",
       " 'time': 9080,\n",
       " 'team': 8976,\n",
       " 't': 8925,\n",
       " 'only': 8867,\n",
       " 'our': 8695,\n",
       " 'know': 8633,\n",
       " 'now': 8394,\n",
       " 'really': 8364,\n",
       " 'then': 8329,\n",
       " 'game': 8234,\n",
       " 'see': 8085,\n",
       " '5': 8076,\n",
       " 'being': 7789,\n",
       " 'going': 7695,\n",
       " 'hes': 7677,\n",
       " 'year': 7588,\n",
       " 'us': 7515,\n",
       " 'other': 7230,\n",
       " 'right': 7174,\n",
       " 'also': 7169,\n",
       " 'much': 7121,\n",
       " 'make': 7068,\n",
       " 'could': 6993,\n",
       " 'still': 6927,\n",
       " 'any': 6909,\n",
       " 'why': 6824,\n",
       " 'want': 6741,\n",
       " 'well': 6721,\n",
       " 'way': 6662,\n",
       " 'over': 6605,\n",
       " 'go': 6583,\n",
       " 'thats': 6582,\n",
       " 'should': 6498,\n",
       " 'com': 6375,\n",
       " 'gt': 6316,\n",
       " 'back': 6271,\n",
       " 'years': 6037,\n",
       " 'https': 6026,\n",
       " 'better': 5941,\n",
       " 'say': 5932,\n",
       " 'got': 5815,\n",
       " 'did': 5784,\n",
       " 'into': 5748,\n",
       " 'too': 5744,\n",
       " 'most': 5736,\n",
       " 'she': 5723,\n",
       " 'which': 5715,\n",
       " 'here': 5688,\n",
       " 'these': 5687,\n",
       " 'news': 5523,\n",
       " 'after': 5478,\n",
       " 'her': 5442,\n",
       " 'first': 5437,\n",
       " 'off': 5425,\n",
       " 'never': 5389,\n",
       " 'those': 5356,\n",
       " 'shit': 5306,\n",
       " 'need': 5254,\n",
       " 'said': 5232,\n",
       " 'last': 5187,\n",
       " 'same': 5041,\n",
       " 'season': 4994,\n",
       " '2': 4982,\n",
       " 'cant': 4969,\n",
       " 'every': 4942,\n",
       " 'take': 4889,\n",
       " 'very': 4855,\n",
       " 'down': 4834,\n",
       " 'play': 4827,\n",
       " 'where': 4723,\n",
       " 'doesnt': 4721,\n",
       " '3': 4701,\n",
       " 'didnt': 4596,\n",
       " 'actually': 4552,\n",
       " 'great': 4490,\n",
       " 'thing': 4453,\n",
       " '1': 4445,\n",
       " 'best': 4431,\n",
       " 'something': 4419,\n",
       " 'bad': 4368,\n",
       " 'against': 4362,\n",
       " 'point': 4358,\n",
       " 'players': 4337,\n",
       " 'sure': 4302,\n",
       " 'lot': 4268,\n",
       " 'many': 4260,\n",
       " 'isis': 4168,\n",
       " 'before': 4122,\n",
       " 'though': 4039,\n",
       " 'www': 3948,\n",
       " 'look': 3929,\n",
       " 'fucking': 3853,\n",
       " 'someone': 3845,\n",
       " 'guy': 3832,\n",
       " 'does': 3816,\n",
       " 'youre': 3812,\n",
       " 'fake': 3795,\n",
       " 'probably': 3760,\n",
       " 'amp': 3738,\n",
       " 'player': 3688,\n",
       " 'two': 3647,\n",
       " 'getting': 3639,\n",
       " 'fuck': 3619,\n",
       " 'pretty': 3598,\n",
       " 'while': 3554,\n",
       " 'made': 3553,\n",
       " 'isnt': 3552,\n",
       " 'games': 3478,\n",
       " 'left': 3474,\n",
       " 'man': 3436,\n",
       " 'always': 3384,\n",
       " 'saying': 3373,\n",
       " 'since': 3372,\n",
       " 'obama': 3370,\n",
       " 'anything': 3346,\n",
       " 'win': 3344,\n",
       " 'around': 3234,\n",
       " 'money': 3228,\n",
       " 'new': 3214,\n",
       " 'guys': 3210,\n",
       " 'theyre': 3205,\n",
       " 'things': 3180,\n",
       " 'work': 3177,\n",
       " 'watch': 3161,\n",
       " 'white': 3147,\n",
       " 'big': 3143,\n",
       " 'ever': 3137,\n",
       " 'give': 3093,\n",
       " 'love': 3089,\n",
       " 'hate': 3074,\n",
       " 'maybe': 3061,\n",
       " 'yeah': 3054,\n",
       " 'teams': 3043,\n",
       " 'world': 3027,\n",
       " 'president': 3019,\n",
       " 'everyone': 2984,\n",
       " 'mean': 2969,\n",
       " 'day': 2965,\n",
       " 'nothing': 2959,\n",
       " 'next': 2930,\n",
       " 'few': 2920,\n",
       " 'long': 2914,\n",
       " 'cnn': 2914,\n",
       " 'both': 2887,\n",
       " 'http': 2879,\n",
       " 'another': 2871,\n",
       " 'league': 2868,\n",
       " 'enough': 2859,\n",
       " 'come': 2853,\n",
       " 'believe': 2848,\n",
       " 'own': 2833,\n",
       " 'keep': 2822,\n",
       " '4': 2820,\n",
       " 'trying': 2818,\n",
       " 'doing': 2804,\n",
       " 'ive': 2796,\n",
       " 'top': 2796,\n",
       " 'anyone': 2738,\n",
       " 'again': 2736,\n",
       " 'put': 2736,\n",
       " 'let': 2713,\n",
       " 'real': 2695,\n",
       " 'without': 2688,\n",
       " 'clinton': 2661,\n",
       " 'media': 2656,\n",
       " 'country': 2634,\n",
       " 'am': 2631,\n",
       " 'don': 2616,\n",
       " 'theres': 2604,\n",
       " 'id': 2604,\n",
       " 'makes': 2586,\n",
       " 'end': 2576,\n",
       " 'might': 2567,\n",
       " 'least': 2531,\n",
       " 'already': 2518,\n",
       " 'feel': 2483,\n",
       " 'thought': 2483,\n",
       " 'away': 2451,\n",
       " 'playing': 2443,\n",
       " 'lol': 2442,\n",
       " '10': 2434,\n",
       " 'reason': 2399,\n",
       " 'hard': 2399,\n",
       " 'through': 2385,\n",
       " 'fans': 2376,\n",
       " 'far': 2367,\n",
       " 'part': 2362,\n",
       " 'racist': 2359,\n",
       " 'start': 2355,\n",
       " 'having': 2312,\n",
       " 'state': 2304,\n",
       " 'either': 2301,\n",
       " 'use': 2298,\n",
       " 'little': 2275,\n",
       " 'wrong': 2272,\n",
       " 'done': 2272,\n",
       " 'free': 2250,\n",
       " 'gets': 2242,\n",
       " 'm': 2236,\n",
       " 'hope': 2232,\n",
       " 'high': 2227,\n",
       " 'post': 2205,\n",
       " 'evil': 2198,\n",
       " 'life': 2195,\n",
       " 'may': 2184,\n",
       " 'hillary': 2164,\n",
       " 're': 2161,\n",
       " 'ball': 2161,\n",
       " 'fact': 2159,\n",
       " 'run': 2135,\n",
       " 'until': 2135,\n",
       " 'used': 2128,\n",
       " 'making': 2125,\n",
       " 'vote': 2073,\n",
       " 'call': 2065,\n",
       " 'find': 2063,\n",
       " 'literally': 2063,\n",
       " 'd': 2062,\n",
       " 'went': 2061,\n",
       " 'government': 2059,\n",
       " 'defense': 2059,\n",
       " 'old': 2052,\n",
       " 'seems': 2030,\n",
       " 'line': 2024,\n",
       " 'everything': 2023,\n",
       " 'show': 2022,\n",
       " 'yes': 2017,\n",
       " 'else': 2007,\n",
       " 'wasnt': 2004,\n",
       " 'agree': 2001,\n",
       " 'different': 1999,\n",
       " 'wouldnt': 1994,\n",
       " 'fan': 1991,\n",
       " 'american': 1986,\n",
       " 'such': 1970,\n",
       " 'needs': 1969,\n",
       " 'less': 1956,\n",
       " 'stop': 1945,\n",
       " 'whole': 1944,\n",
       " 'seen': 1941,\n",
       " 'person': 1941,\n",
       " 'played': 1935,\n",
       " 'true': 1929,\n",
       " 'hell': 1917,\n",
       " 'times': 1903,\n",
       " 'try': 1899,\n",
       " 'america': 1896,\n",
       " 'remember': 1890,\n",
       " 'problem': 1872,\n",
       " 'talking': 1864,\n",
       " 'r': 1861,\n",
       " 'wont': 1851,\n",
       " 'pick': 1813,\n",
       " 'job': 1800,\n",
       " 'won': 1797,\n",
       " 'help': 1785,\n",
       " 'understand': 1777,\n",
       " 'under': 1777,\n",
       " 'yet': 1764,\n",
       " 'once': 1763,\n",
       " 'tell': 1758,\n",
       " 'care': 1756,\n",
       " 'kind': 1744,\n",
       " 'live': 1741,\n",
       " '6': 1740,\n",
       " 'black': 1726,\n",
       " 'gonna': 1723,\n",
       " 'during': 1714,\n",
       " 'arent': 1714,\n",
       " 'second': 1712,\n",
       " 'bill': 1706,\n",
       " 'career': 1705,\n",
       " 'place': 1700,\n",
       " 'reddit': 1690,\n",
       " 'trade': 1687,\n",
       " 'etc': 1669,\n",
       " 'deal': 1668,\n",
       " 'change': 1648,\n",
       " 'almost': 1648,\n",
       " 'ago': 1630,\n",
       " 'definitely': 1629,\n",
       " 'able': 1619,\n",
       " 'read': 1616,\n",
       " 'family': 1614,\n",
       " 'crime': 1614,\n",
       " 'support': 1607,\n",
       " 'pay': 1607,\n",
       " 'called': 1593,\n",
       " 'oh': 1587,\n",
       " 'head': 1582,\n",
       " 'instead': 1581,\n",
       " 'home': 1578,\n",
       " 'god': 1577,\n",
       " 'bit': 1570,\n",
       " 'coming': 1562,\n",
       " 'looking': 1559,\n",
       " 'women': 1556,\n",
       " 'case': 1556,\n",
       " 'looks': 1555,\n",
       " 'guess': 1555,\n",
       " '7': 1552,\n",
       " 'side': 1549,\n",
       " 'half': 1548,\n",
       " 'happen': 1536,\n",
       " 'means': 1529,\n",
       " 'hit': 1520,\n",
       " 'says': 1516,\n",
       " 'ill': 1516,\n",
       " 'jeff': 1515,\n",
       " 'move': 1497,\n",
       " 'lost': 1492,\n",
       " 'history': 1485,\n",
       " 'youtube': 1484,\n",
       " 'exactly': 1483,\n",
       " 'today': 1480,\n",
       " 'taking': 1480,\n",
       " 'matter': 1470,\n",
       " 'between': 1470,\n",
       " 'idea': 1465,\n",
       " 'full': 1464,\n",
       " 'stupid': 1460,\n",
       " 'war': 1457,\n",
       " 'power': 1444,\n",
       " 'edit': 1432,\n",
       " 'likely': 1424,\n",
       " 'wants': 1422,\n",
       " 'chance': 1422,\n",
       " 'donald': 1421,\n",
       " 'level': 1419,\n",
       " 'wanted': 1419,\n",
       " 'week': 1416,\n",
       " 'especially': 1415,\n",
       " 'came': 1406,\n",
       " 'sense': 1405,\n",
       " 'based': 1404,\n",
       " 'football': 1402,\n",
       " 'election': 1399,\n",
       " '20': 1393,\n",
       " 'stuff': 1391,\n",
       " 'kids': 1390,\n",
       " 'past': 1375,\n",
       " 'video': 1375,\n",
       " '100': 1369,\n",
       " 'comments': 1366,\n",
       " 'happened': 1362,\n",
       " 'young': 1362,\n",
       " 'name': 1357,\n",
       " 'points': 1352,\n",
       " '0': 1351,\n",
       " 'shot': 1349,\n",
       " 'absolutely': 1348,\n",
       " 'lets': 1347,\n",
       " 'nfl': 1347,\n",
       " 'rather': 1345,\n",
       " 'honestly': 1328,\n",
       " 'completely': 1323,\n",
       " 'party': 1322,\n",
       " 'goes': 1321,\n",
       " 'antifa': 1321,\n",
       " 'twitter': 1320,\n",
       " 'political': 1319,\n",
       " 'offense': 1319,\n",
       " 'must': 1317,\n",
       " 'system': 1315,\n",
       " 'law': 1314,\n",
       " 'watching': 1314,\n",
       " 'islam': 1310,\n",
       " '8': 1309,\n",
       " 'nba': 1306,\n",
       " 'talk': 1306,\n",
       " 'dude': 1305,\n",
       " 'entire': 1302,\n",
       " 'sub': 1299,\n",
       " 'playoffs': 1294,\n",
       " 'themselves': 1294,\n",
       " 'close': 1293,\n",
       " 'draft': 1291,\n",
       " 'took': 1289,\n",
       " 'days': 1285,\n",
       " 'basically': 1284,\n",
       " 'comes': 1276,\n",
       " 'democrats': 1273,\n",
       " 'v': 1265,\n",
       " 'story': 1263,\n",
       " 'qb': 1262,\n",
       " 'each': 1255,\n",
       " 'started': 1246,\n",
       " 'winning': 1245,\n",
       " 'city': 1243,\n",
       " 'mind': 1242,\n",
       " 'states': 1241,\n",
       " 'single': 1235,\n",
       " 'course': 1229,\n",
       " 'huge': 1229,\n",
       " 'given': 1227,\n",
       " 'lose': 1217,\n",
       " 'house': 1214,\n",
       " 'worse': 1209,\n",
       " 'question': 1208,\n",
       " 'issue': 1207,\n",
       " 'school': 1196,\n",
       " 'super': 1193,\n",
       " 'saw': 1189,\n",
       " 'rest': 1181,\n",
       " 'comment': 1178,\n",
       " 've': 1165,\n",
       " 'knows': 1160,\n",
       " 'thinking': 1160,\n",
       " 'using': 1159,\n",
       " 'open': 1157,\n",
       " 'night': 1157,\n",
       " 'u': 1150,\n",
       " 'others': 1146,\n",
       " 'bullshit': 1144,\n",
       " 'seem': 1143,\n",
       " 'liberal': 1141,\n",
       " 'behind': 1133,\n",
       " 'red': 1131,\n",
       " 'article': 1131,\n",
       " 'position': 1131,\n",
       " 'million': 1127,\n",
       " 'nice': 1127,\n",
       " 'average': 1126,\n",
       " 'overrated': 1126,\n",
       " 'lebron': 1122,\n",
       " 'obviously': 1121,\n",
       " 'told': 1115,\n",
       " 'ones': 1113,\n",
       " 'working': 1110,\n",
       " 'contract': 1109,\n",
       " 'unless': 1106,\n",
       " 'men': 1101,\n",
       " 'goal': 1098,\n",
       " 'opinion': 1094,\n",
       " 'fine': 1094,\n",
       " 'face': 1092,\n",
       " 'imagine': 1089,\n",
       " 'couple': 1088,\n",
       " 'whatever': 1086,\n",
       " 'public': 1081,\n",
       " 'damn': 1080,\n",
       " 'worst': 1073,\n",
       " 'ass': 1066,\n",
       " 'plays': 1065,\n",
       " '9': 1065,\n",
       " 'number': 1064,\n",
       " 'worth': 1064,\n",
       " 'three': 1060,\n",
       " 'wait': 1059,\n",
       " 'running': 1058,\n",
       " 'wall': 1056,\n",
       " 'become': 1051,\n",
       " 'heard': 1049,\n",
       " 'sweden': 1049,\n",
       " 'college': 1047,\n",
       " 'pass': 1040,\n",
       " 'possible': 1040,\n",
       " 'non': 1039,\n",
       " 'himself': 1032,\n",
       " 'minutes': 1030,\n",
       " 'fair': 1027,\n",
       " 'illegal': 1024,\n",
       " 'cause': 1022,\n",
       " 'control': 1021,\n",
       " 'propaganda': 1021,\n",
       " 'happy': 1017,\n",
       " 'anti': 1014,\n",
       " 'coach': 1013,\n",
       " 'knew': 1012,\n",
       " 'round': 1010,\n",
       " 'hand': 1007,\n",
       " 'future': 1005,\n",
       " 'actual': 1005,\n",
       " 'please': 1001,\n",
       " '30': 1000,\n",
       " 'looked': 997,\n",
       " 'group': 993,\n",
       " 'fun': 993,\n",
       " 'bring': 991,\n",
       " 'crazy': 989,\n",
       " 'field': 982,\n",
       " 'evidence': 982,\n",
       " 'starting': 981,\n",
       " 'paid': 978,\n",
       " 'giving': 972,\n",
       " 'seriously': 970,\n",
       " 'jpg': 968,\n",
       " 'however': 966,\n",
       " 'stay': 965,\n",
       " 'front': 961,\n",
       " 'turn': 960,\n",
       " 'important': 959,\n",
       " 'seeing': 959,\n",
       " 'russia': 958,\n",
       " 'politics': 957,\n",
       " 'found': 955,\n",
       " 'small': 955,\n",
       " '2016': 954,\n",
       " 'due': 954,\n",
       " 'woman': 954,\n",
       " 'org': 954,\n",
       " 'ok': 952,\n",
       " 'thanks': 952,\n",
       " 'americans': 951,\n",
       " 'together': 948,\n",
       " 'sign': 946,\n",
       " 'low': 945,\n",
       " 'friends': 945,\n",
       " 'shes': 944,\n",
       " 'doubt': 943,\n",
       " 'argument': 942,\n",
       " 'set': 942,\n",
       " 'liberals': 941,\n",
       " 'sorry': 941,\n",
       " 'happens': 938,\n",
       " 'clearly': 936,\n",
       " 'couldnt': 934,\n",
       " 'series': 934,\n",
       " 'court': 932,\n",
       " 'children': 931,\n",
       " 'outside': 926,\n",
       " 'criminal': 923,\n",
       " 'whats': 921,\n",
       " 'fight': 915,\n",
       " 'example': 914,\n",
       " 'calling': 914,\n",
       " 'gun': 910,\n",
       " '15': 909,\n",
       " 'muslim': 904,\n",
       " 'police': 902,\n",
       " 'gave': 900,\n",
       " 'early': 900,\n",
       " 'hear': 899,\n",
       " 'funny': 898,\n",
       " 'ask': 898,\n",
       " 'havent': 897,\n",
       " 'leave': 895,\n",
       " 'throw': 895,\n",
       " 'quite': 891,\n",
       " 'rapist': 891,\n",
       " 'truth': 889,\n",
       " 'beat': 887,\n",
       " 'middle': 885,\n",
       " 'doesn': 883,\n",
       " 'easy': 883,\n",
       " 'vs': 882,\n",
       " 'business': 878,\n",
       " '50': 877,\n",
       " 'countries': 871,\n",
       " 'll': 870,\n",
       " 'situation': 869,\n",
       " 'didn': 869,\n",
       " 'rights': 869,\n",
       " '11': 869,\n",
       " 'poor': 867,\n",
       " 'clear': 866,\n",
       " 'record': 866,\n",
       " 'numbers': 862,\n",
       " 'nobody': 861,\n",
       " 'order': 858,\n",
       " 'soros': 856,\n",
       " 'class': 853,\n",
       " 'allowed': 850,\n",
       " 'amount': 848,\n",
       " 'pro': 848,\n",
       " 'act': 848,\n",
       " 'trumps': 848,\n",
       " 'usa': 844,\n",
       " '12': 842,\n",
       " 'united': 839,\n",
       " 'amazing': 837,\n",
       " 'wish': 833,\n",
       " 'difference': 832,\n",
       " 'campaign': 832,\n",
       " 'talent': 832,\n",
       " 'social': 830,\n",
       " 'often': 828,\n",
       " 'tried': 828,\n",
       " 'simply': 827,\n",
       " 'term': 826,\n",
       " 'word': 826,\n",
       " 'buy': 826,\n",
       " 'deep': 824,\n",
       " 'usually': 824,\n",
       " 'expect': 819,\n",
       " 'office': 819,\n",
       " 'plus': 818,\n",
       " 'takes': 816,\n",
       " 'club': 808,\n",
       " 'issues': 807,\n",
       " 'culture': 807,\n",
       " 'stand': 806,\n",
       " 'tax': 803,\n",
       " 'gone': 800,\n",
       " 'higher': 797,\n",
       " 'soon': 794,\n",
       " 'later': 792,\n",
       " 'except': 791,\n",
       " 'months': 789,\n",
       " 'totally': 788,\n",
       " 'per': 786,\n",
       " 'kid': 781,\n",
       " 'shouldnt': 778,\n",
       " 'check': 778,\n",
       " 'injury': 777,\n",
       " 'sad': 776,\n",
       " '2nd': 776,\n",
       " 'along': 776,\n",
       " 'national': 775,\n",
       " 'current': 773,\n",
       " 'sports': 773,\n",
       " 'wonder': 772,\n",
       " 'anymore': 771,\n",
       " 'bunch': 771,\n",
       " 'voting': 771,\n",
       " 'shooting': 770,\n",
       " 'similar': 770,\n",
       " 'laws': 769,\n",
       " 'hekkerformvp': 769,\n",
       " 'realize': 768,\n",
       " 'losing': 766,\n",
       " 'list': 764,\n",
       " 'cut': 763,\n",
       " 'anyway': 760,\n",
       " 'cannot': 759,\n",
       " 'cap': 759,\n",
       " 'thread': 758,\n",
       " 'interesting': 758,\n",
       " 'defensive': 757,\n",
       " 'offensive': 757,\n",
       " 'lead': 756,\n",
       " 'value': 753,\n",
       " 'playoff': 751,\n",
       " '000': 750,\n",
       " 'muslims': 747,\n",
       " 'military': 745,\n",
       " 'yourself': 745,\n",
       " 'strong': 744,\n",
       " 'general': 744,\n",
       " 'george': 741,\n",
       " 'majority': 737,\n",
       " 'hold': 735,\n",
       " 'human': 733,\n",
       " 'plan': 732,\n",
       " 'democrat': 732,\n",
       " 'energy': 732,\n",
       " 'sometimes': 731,\n",
       " 'fucked': 731,\n",
       " 'attack': 730,\n",
       " 'taken': 729,\n",
       " 'major': 725,\n",
       " 'stats': 725,\n",
       " 'source': 724,\n",
       " 'biggest': 724,\n",
       " 'dems': 722,\n",
       " 'self': 722,\n",
       " 'speech': 722,\n",
       " 'theyve': 721,\n",
       " 'terrible': 721,\n",
       " 'late': 720,\n",
       " 'star': 719,\n",
       " 'weeks': 719,\n",
       " 'legal': 719,\n",
       " 'conservative': 718,\n",
       " 'type': 718,\n",
       " 'supporters': 715,\n",
       " 'thank': 715,\n",
       " 'bernie': 714,\n",
       " 'age': 714,\n",
       " 'maga': 714,\n",
       " 'information': 714,\n",
       " 'room': 713,\n",
       " 'wins': 711,\n",
       " 'respect': 710,\n",
       " 'short': 708,\n",
       " 'rules': 708,\n",
       " 'shows': 708,\n",
       " 'straight': 708,\n",
       " 'basketball': 708,\n",
       " 'bet': 707,\n",
       " 'hurt': 707,\n",
       " 'weve': 707,\n",
       " 'watched': 706,\n",
       " 'works': 706,\n",
       " 'spirit': 706,\n",
       " 'fbi': 703,\n",
       " 'goals': 702,\n",
       " 'break': 701,\n",
       " 'needed': 699,\n",
       " 'spot': 698,\n",
       " 'total': 698,\n",
       " 'whether': 697,\n",
       " 'child': 696,\n",
       " 'words': 695,\n",
       " 'death': 695,\n",
       " 'race': 693,\n",
       " 'market': 692,\n",
       " 'europe': 692,\n",
       " 'sounds': 690,\n",
       " 'dumb': 690,\n",
       " 'potential': 689,\n",
       " 'above': 677,\n",
       " 'easily': 677,\n",
       " '3rd': 674,\n",
       " 'imgur': 673,\n",
       " 'isn': 672,\n",
       " 'forget': 672,\n",
       " 'supposed': 671,\n",
       " 'force': 668,\n",
       " 'rule': 668,\n",
       " 'forward': 666,\n",
       " 'dead': 665,\n",
       " 'picks': 664,\n",
       " 'hockey': 663,\n",
       " 'republican': 663,\n",
       " 'serious': 663,\n",
       " 'step': 662,\n",
       " 'theyll': 662,\n",
       " 'google': 662,\n",
       " 'sort': 661,\n",
       " 'decent': 659,\n",
       " 'kill': 659,\n",
       " 'tv': 658,\n",
       " 'personally': 657,\n",
       " 'fire': 657,\n",
       " 'asked': 656,\n",
       " 'surprised': 655,\n",
       " 'within': 655,\n",
       " 'longer': 654,\n",
       " 'religion': 653,\n",
       " 'gay': 652,\n",
       " 'living': 651,\n",
       " 'near': 651,\n",
       " 'score': 647,\n",
       " 'west': 646,\n",
       " 'third': 645,\n",
       " 'insane': 644,\n",
       " 'hopefully': 643,\n",
       " 'mostly': 642,\n",
       " 'joke': 641,\n",
       " 'blame': 640,\n",
       " 'lives': 640,\n",
       " 'imo': 639,\n",
       " 'solid': 638,\n",
       " 'moment': 638,\n",
       " 'hasnt': 636,\n",
       " 'narrative': 636,\n",
       " 'despite': 635,\n",
       " 'trust': 634,\n",
       " 'cool': 633,\n",
       " 'answer': 632,\n",
       " 'certainly': 631,\n",
       " 'weird': 631,\n",
       " 'cooking': 631,\n",
       " 'china': 630,\n",
       " 'supremacist': 630,\n",
       " 'voted': 629,\n",
       " '2017': 629,\n",
       " 'correct': 625,\n",
       " 'experience': 625,\n",
       " 'certain': 625,\n",
       " 'special': 625,\n",
       " 'myself': 624,\n",
       " 'add': 624,\n",
       " 'known': 624,\n",
       " 'okay': 622,\n",
       " 'link': 622,\n",
       " 'hands': 621,\n",
       " 'roster': 620,\n",
       " 'choice': 617,\n",
       " 'report': 617,\n",
       " 'kinda': 616,\n",
       " 'alone': 615,\n",
       " 'baseball': 615,\n",
       " 'society': 614,\n",
       " 'status': 612,\n",
       " 'hey': 610,\n",
       " 'putting': 610,\n",
       " 'form': 609,\n",
       " 'fit': 608,\n",
       " 'space': 608,\n",
       " 'attention': 606,\n",
       " 'smart': 605,\n",
       " 'cup': 604,\n",
       " '40': 603,\n",
       " 'role': 603,\n",
       " 'seasons': 602,\n",
       " 'worked': 602,\n",
       " 'disagree': 602,\n",
       " 'net': 602,\n",
       " 'happening': 601,\n",
       " 'regular': 601,\n",
       " 'paying': 601,\n",
       " 'perfect': 600,\n",
       " 'page': 600,\n",
       " 'parents': 600,\n",
       " 'immigration': 600,\n",
       " 'wife': 600,\n",
       " 'guns': 597,\n",
       " 'telling': 596,\n",
       " 'republicans': 594,\n",
       " 'reality': 594,\n",
       " 'lakers': 593,\n",
       " 'finally': 592,\n",
       " 'build': 592,\n",
       " 'mention': 591,\n",
       " 'piece': 588,\n",
       " 'friend': 588,\n",
       " 'personal': 588,\n",
       " 'considering': 586,\n",
       " 'decision': 586,\n",
       " 'healthy': 586,\n",
       " 'otherwise': 585,\n",
       " 'continue': 585,\n",
       " 'ability': 584,\n",
       " 'blue': 584,\n",
       " 'gives': 583,\n",
       " 'thinks': 582,\n",
       " 'internet': 581,\n",
       " 'willing': 580,\n",
       " 'obvious': 579,\n",
       " 'regardless': 578,\n",
       " 'warriors': 575,\n",
       " 'press': 574,\n",
       " 'posted': 574,\n",
       " 'large': 573,\n",
       " 'msm': 573,\n",
       " 'rich': 573,\n",
       " 'miss': 573,\n",
       " 'changed': 572,\n",
       " 'la': 572,\n",
       " 'company': 572,\n",
       " 'posts': 571,\n",
       " 'signed': 571,\n",
       " 'turned': 571,\n",
       " 'multiple': 570,\n",
       " 'killed': 569,\n",
       " 'tonight': 568,\n",
       " 'local': 568,\n",
       " 'glad': 566,\n",
       " 'overall': 566,\n",
       " 'drive': 566,\n",
       " 'save': 566,\n",
       " 'including': 565,\n",
       " 'complete': 564,\n",
       " 'follow': 564,\n",
       " 'elite': 564,\n",
       " 'jobs': 563,\n",
       " 'learn': 561,\n",
       " 'claim': 561,\n",
       " 'missed': 561,\n",
       " 'none': 560,\n",
       " 'shitty': 558,\n",
       " 'reading': 557,\n",
       " 'common': 557,\n",
       " 'truly': 557,\n",
       " 'brought': 556,\n",
       " '4th': 556,\n",
       " '1st': 554,\n",
       " 'center': 553,\n",
       " 'although': 553,\n",
       " 'nation': 552,\n",
       " 'candidate': 552,\n",
       " 'east': 552,\n",
       " 'cost': 551,\n",
       " 'speak': 551,\n",
       " 'base': 551,\n",
       " 'problems': 550,\n",
       " 'freedom': 549,\n",
       " 'o': 547,\n",
       " 'injuries': 547,\n",
       " 'x200b': 547,\n",
       " 'shut': 546,\n",
       " 'bench': 546,\n",
       " 'match': 546,\n",
       " '25': 545,\n",
       " 'citizens': 545,\n",
       " 'food': 544,\n",
       " 'ice': 543,\n",
       " 'votes': 543,\n",
       " 'violence': 542,\n",
       " 'account': 542,\n",
       " 'brady': 542,\n",
       " 'lack': 542,\n",
       " 'calls': 541,\n",
       " 'ridiculous': 541,\n",
       " 'allow': 541,\n",
       " '16': 540,\n",
       " 'somehow': 539,\n",
       " 'push': 539,\n",
       " '2015': 538,\n",
       " 'federal': 538,\n",
       " 'shoot': 537,\n",
       " 'plenty': 536,\n",
       " 'hours': 535,\n",
       " 'community': 535,\n",
       " 'investigation': 534,\n",
       " 'consider': 534,\n",
       " 'shots': 531,\n",
       " 'security': 530,\n",
       " 'double': 530,\n",
       " 'green': 529,\n",
       " 'send': 528,\n",
       " 'werent': 527,\n",
       " 'towards': 527,\n",
       " 'leftist': 527,\n",
       " 'month': 527,\n",
       " 'area': 527,\n",
       " 'favorite': 526,\n",
       " 'body': 526,\n",
       " 'network': 526,\n",
       " 'across': 524,\n",
       " 'defend': 524,\n",
       " 'massive': 524,\n",
       " 'en': 524,\n",
       " 'ready': 523,\n",
       " 'apparently': 523,\n",
       " 'honest': 523,\n",
       " 'option': 522,\n",
       " 'ground': 522,\n",
       " 'cuck': 520,\n",
       " 'b': 519,\n",
       " 'meant': 518,\n",
       " 'statement': 518,\n",
       " 'hed': 518,\n",
       " '2018': 518,\n",
       " ...}"
      ]
     },
     "execution_count": 93,
     "metadata": {},
     "output_type": "execute_result"
    }
   ],
   "source": [
    "sorted_freqs"
   ]
  },
  {
   "cell_type": "code",
   "execution_count": null,
   "id": "45fde191-8700-45a7-89a9-a71e2d6d9973",
   "metadata": {},
   "outputs": [],
   "source": []
  },
  {
   "cell_type": "code",
   "execution_count": null,
   "id": "d419613d-b3c7-45f8-9ebc-8481f8ae2cb1",
   "metadata": {},
   "outputs": [],
   "source": []
  },
  {
   "cell_type": "code",
   "execution_count": null,
   "id": "b90cee8e-c4a3-4b83-90d1-598c14ced3bd",
   "metadata": {},
   "outputs": [],
   "source": []
  },
  {
   "cell_type": "code",
   "execution_count": null,
   "id": "db70d1d0-f03a-44d2-a080-0a1526f5abe4",
   "metadata": {},
   "outputs": [],
   "source": []
  },
  {
   "cell_type": "code",
   "execution_count": 3,
   "id": "d4f59c6e-c939-44a9-ab30-af23146bdf24",
   "metadata": {},
   "outputs": [],
   "source": [
    "the_donald_vocab = torch.load(\"/users/ujan/sports-language-in-politics/models/cbow/the_donald_vocab.pt\")\n",
    "#politics_vocab = torch.load(f\"/users/ujan/sports-language-in-politics/models/cbow/politics_vocab.pt\")"
   ]
  },
  {
   "cell_type": "code",
   "execution_count": 28,
   "id": "4cc61e4a-df3e-49f2-be5a-88427d1c82db",
   "metadata": {},
   "outputs": [
    {
     "name": "stdout",
     "output_type": "stream",
     "text": [
      "5764\n",
      "6023\n"
     ]
    }
   ],
   "source": [
    "print(len(the_donald_vocab.get_itos()))\n",
    "print(len(politics_vocab.get_itos()))"
   ]
  },
  {
   "cell_type": "code",
   "execution_count": 30,
   "id": "28820e64-3899-4339-8e0f-22670f2f92f8",
   "metadata": {},
   "outputs": [],
   "source": [
    "the_donald_model = CBOW_Model(vocab_size=len(the_donald_vocab.get_itos()))\n",
    "politics_model = CBOW_Model(vocab_size=len(politics_vocab.get_itos()))"
   ]
  },
  {
   "cell_type": "code",
   "execution_count": 31,
   "id": "59d2d51a-2131-41bf-93d9-52232bdd25c0",
   "metadata": {},
   "outputs": [],
   "source": [
    "device = torch.device(\"cuda\" if torch.cuda.is_available() else \"cpu\")\n",
    "\n",
    "the_donald_model = torch.load(f\"/users/ujan/sports-language-in-politics/models/cbow/the_donald_model.pt\", map_location=device)\n",
    "politics_model = torch.load(f\"/users/ujan/sports-language-in-politics/models/cbow/politics_model.pt\", map_location=device)"
   ]
  },
  {
   "cell_type": "code",
   "execution_count": 32,
   "id": "48c84e95-2570-4e9f-b975-0f973de972bd",
   "metadata": {},
   "outputs": [],
   "source": [
    "def normalization(embeddings):\n",
    "    norms = (embeddings ** 2).sum(axis=1) ** (1 / 2)\n",
    "    norms = np.reshape(norms, (len(norms), 1))\n",
    "    embeddings_norm = embeddings / norms\n",
    "    return embeddings_norm\n",
    "\n",
    "# embedding from first model layer\n",
    "the_donald_embeddings = list(the_donald_model.parameters())[0].cpu().detach().numpy()\n",
    "politics_embeddings = list(politics_model.parameters())[0].cpu().detach().numpy()\n",
    "\n",
    "# normalization\n",
    "the_donald_embeddings_norm = normalization(the_donald_embeddings)\n",
    "politics_embeddings_norm = normalization(politics_embeddings)\n",
    "\n",
    "#embeddings_norm.shape"
   ]
  },
  {
   "cell_type": "code",
   "execution_count": 96,
   "id": "8d35ae82-48a0-420c-8c20-6d1135b47004",
   "metadata": {
    "scrolled": true
   },
   "outputs": [],
   "source": [
    "# get embeddings\n",
    "#embeddings_df = pd.DataFrame(embeddings)\n",
    "#embeddings_df.index = vocab.get_itos()\n",
    "#embeddings_df.head()"
   ]
  },
  {
   "cell_type": "code",
   "execution_count": 97,
   "id": "64e7ab37-b528-41cb-bae3-8ce88946cfda",
   "metadata": {},
   "outputs": [],
   "source": [
    "# t-SNE transform\n",
    "#tsne = TSNE(n_components=2)\n",
    "#embeddings_df_trans = tsne.fit_transform(embeddings_df)\n",
    "#embeddings_df_trans = pd.DataFrame(embeddings_df_trans)\n",
    "\n",
    "# get token order\n",
    "#embeddings_df_trans.index = vocab.get_itos()"
   ]
  },
  {
   "cell_type": "code",
   "execution_count": 98,
   "id": "7f91fef4-f0bd-4bce-9670-1540b7411978",
   "metadata": {},
   "outputs": [],
   "source": [
    "#embeddings_df_trans = embeddings_df_trans.filter(items=imp_tokens, axis=0)\n",
    "#is_imp = np.array([True if item in imp_tokens else False for item in embeddings_df_trans.index.to_list()])"
   ]
  },
  {
   "cell_type": "raw",
   "id": "be7a053d-ee28-45ab-8047-c41f653ba0cb",
   "metadata": {},
   "source": [
    "color = np.where(is_imp, \"blue\", \"red\")\n",
    "fig = go.Figure()\n",
    "\n",
    "fig.add_trace(\n",
    "    go.Scatter(\n",
    "        x=embeddings_df_trans[0],\n",
    "        y=embeddings_df_trans[1],\n",
    "        mode=\"text\",\n",
    "        text=embeddings_df_trans.index,\n",
    "        textposition=\"middle center\",\n",
    "        textfont=dict(color=color),\n",
    "    )\n",
    ")\n",
    "fig.write_html(\"word2vec_visualization.html\")"
   ]
  },
  {
   "cell_type": "code",
   "execution_count": null,
   "id": "abb40159-8bb3-4888-ab0b-70ddfcaa1aef",
   "metadata": {},
   "outputs": [],
   "source": []
  },
  {
   "cell_type": "code",
   "execution_count": null,
   "id": "a28a7301-1585-4b59-a60e-f7409ebfb023",
   "metadata": {},
   "outputs": [],
   "source": []
  },
  {
   "cell_type": "code",
   "execution_count": null,
   "id": "b3f56dca-a1b4-4504-b77b-f19b77d6e4d8",
   "metadata": {},
   "outputs": [],
   "source": []
  },
  {
   "cell_type": "code",
   "execution_count": 48,
   "id": "9f376dae-507c-4d76-b1a2-2c75258344b1",
   "metadata": {},
   "outputs": [
    {
     "name": "stdout",
     "output_type": "stream",
     "text": [
      "-0.04026563\n"
     ]
    }
   ],
   "source": [
    "get_sim('trump', 'coach', the_donald_embeddings_norm, the_donald_vocab)"
   ]
  },
  {
   "cell_type": "code",
   "execution_count": 49,
   "id": "37dc7c8f-9e3e-455a-98fe-513e59d5b2a6",
   "metadata": {},
   "outputs": [
    {
     "name": "stdout",
     "output_type": "stream",
     "text": [
      "-0.05653703\n"
     ]
    }
   ],
   "source": [
    "get_sim('trump', 'coach', politics_embeddings_norm, politics_vocab)"
   ]
  },
  {
   "cell_type": "code",
   "execution_count": 50,
   "id": "22c910cb-e313-4e3d-96e5-ef1a1389de72",
   "metadata": {},
   "outputs": [
    {
     "name": "stdout",
     "output_type": "stream",
     "text": [
      "0.04188435\n"
     ]
    }
   ],
   "source": [
    "get_sim('biden', 'coach', the_donald_embeddings_norm, the_donald_vocab)"
   ]
  },
  {
   "cell_type": "code",
   "execution_count": 51,
   "id": "80643acb-39a0-4e8a-adc4-f2d1ab725922",
   "metadata": {},
   "outputs": [
    {
     "name": "stdout",
     "output_type": "stream",
     "text": [
      "-0.04346505\n"
     ]
    }
   ],
   "source": [
    "get_sim('biden', 'coach', politics_embeddings_norm, politics_vocab)"
   ]
  },
  {
   "cell_type": "code",
   "execution_count": null,
   "id": "563aac8f-03af-486f-b142-c62263ae2c60",
   "metadata": {},
   "outputs": [],
   "source": []
  },
  {
   "cell_type": "code",
   "execution_count": 52,
   "id": "a09ed5fb-3653-4f51-bccb-304a468af858",
   "metadata": {},
   "outputs": [
    {
     "name": "stdout",
     "output_type": "stream",
     "text": [
      "0.0028022937\n"
     ]
    }
   ],
   "source": [
    "get_sim('trump', 'captain', the_donald_embeddings_norm, the_donald_vocab)"
   ]
  },
  {
   "cell_type": "code",
   "execution_count": 53,
   "id": "52b51bed-bbf2-4b53-bb23-15db4032cb0f",
   "metadata": {},
   "outputs": [
    {
     "name": "stdout",
     "output_type": "stream",
     "text": [
      "-0.03859412\n"
     ]
    }
   ],
   "source": [
    "get_sim('trump', 'captain', politics_embeddings_norm, politics_vocab)"
   ]
  },
  {
   "cell_type": "code",
   "execution_count": 54,
   "id": "f6416302-d0b6-423e-a532-2cd686a3d2d0",
   "metadata": {},
   "outputs": [
    {
     "name": "stdout",
     "output_type": "stream",
     "text": [
      "-0.01190008\n"
     ]
    }
   ],
   "source": [
    "get_sim('biden', 'captain', the_donald_embeddings_norm, the_donald_vocab)"
   ]
  },
  {
   "cell_type": "code",
   "execution_count": 55,
   "id": "9eb2bdd8-2a1e-4599-94b9-bfe8e049a08d",
   "metadata": {},
   "outputs": [
    {
     "name": "stdout",
     "output_type": "stream",
     "text": [
      "-0.026512047\n"
     ]
    }
   ],
   "source": [
    "get_sim('biden', 'captain', politics_embeddings_norm, politics_vocab)"
   ]
  },
  {
   "cell_type": "code",
   "execution_count": null,
   "id": "96b21b50-3173-4750-91e2-88d64d89b252",
   "metadata": {},
   "outputs": [],
   "source": []
  },
  {
   "cell_type": "code",
   "execution_count": 56,
   "id": "47d7c68b-ed27-480e-ab0f-7a85417afe45",
   "metadata": {},
   "outputs": [
    {
     "name": "stdout",
     "output_type": "stream",
     "text": [
      "0.04290112\n"
     ]
    }
   ],
   "source": [
    "get_sim('team', 'party', the_donald_embeddings_norm, the_donald_vocab)"
   ]
  },
  {
   "cell_type": "code",
   "execution_count": 58,
   "id": "f25ff999-9c97-409d-951d-871fd3538071",
   "metadata": {},
   "outputs": [
    {
     "name": "stdout",
     "output_type": "stream",
     "text": [
      "0.09244258\n"
     ]
    }
   ],
   "source": [
    "get_sim('team', 'party', politics_embeddings_norm, politics_vocab)"
   ]
  },
  {
   "cell_type": "code",
   "execution_count": null,
   "id": "4aa22279-2a97-45d6-8a2f-164ab5b5dd68",
   "metadata": {},
   "outputs": [],
   "source": []
  },
  {
   "cell_type": "code",
   "execution_count": 59,
   "id": "d59c87c6-6765-4894-b553-856cb43e9cec",
   "metadata": {},
   "outputs": [
    {
     "name": "stdout",
     "output_type": "stream",
     "text": [
      "0.17911956\n"
     ]
    }
   ],
   "source": [
    "get_sim('race', 'election', the_donald_embeddings_norm, the_donald_vocab)"
   ]
  },
  {
   "cell_type": "code",
   "execution_count": 61,
   "id": "d98f8cc2-3ac6-408c-91ea-462ad933dd01",
   "metadata": {},
   "outputs": [
    {
     "name": "stdout",
     "output_type": "stream",
     "text": [
      "0.1729147\n"
     ]
    }
   ],
   "source": [
    "get_sim('race', 'election', politics_embeddings_norm, politics_vocab)"
   ]
  },
  {
   "cell_type": "code",
   "execution_count": null,
   "id": "1b2d10c8-97f3-44c8-9783-6e22d9e9d315",
   "metadata": {},
   "outputs": [],
   "source": []
  },
  {
   "cell_type": "code",
   "execution_count": 62,
   "id": "5b71d914-45c0-4fb3-adc6-66c5b43f493f",
   "metadata": {},
   "outputs": [
    {
     "name": "stdout",
     "output_type": "stream",
     "text": [
      "0.1029864\n"
     ]
    }
   ],
   "source": [
    "get_sim('voter', 'fan', the_donald_embeddings_norm, the_donald_vocab)"
   ]
  },
  {
   "cell_type": "code",
   "execution_count": 63,
   "id": "c226975d-889d-4e4a-81f7-366f19865050",
   "metadata": {},
   "outputs": [
    {
     "name": "stdout",
     "output_type": "stream",
     "text": [
      "0.14804637\n"
     ]
    }
   ],
   "source": [
    "get_sim('voter', 'fan', politics_embeddings_norm, politics_vocab)"
   ]
  },
  {
   "cell_type": "code",
   "execution_count": null,
   "id": "4a10891e-fb98-40a6-bd12-0c19b26e77a8",
   "metadata": {},
   "outputs": [],
   "source": []
  },
  {
   "cell_type": "code",
   "execution_count": null,
   "id": "f62ed8d3-ab43-4a66-b094-2766f957bf31",
   "metadata": {},
   "outputs": [],
   "source": []
  },
  {
   "cell_type": "code",
   "execution_count": 207,
   "id": "e9514380-5876-4830-8b74-7b465dc38ac0",
   "metadata": {},
   "outputs": [],
   "source": [
    "# Conservative"
   ]
  },
  {
   "cell_type": "code",
   "execution_count": 208,
   "id": "46fbe141-e582-439d-9980-eeeb4e673502",
   "metadata": {},
   "outputs": [
    {
     "name": "stdout",
     "output_type": "stream",
     "text": [
      "0.025071468\n"
     ]
    }
   ],
   "source": [
    "get_sim('trump', 'coach')"
   ]
  },
  {
   "cell_type": "code",
   "execution_count": 209,
   "id": "f1a8883e-b02a-491d-b6ef-1f02e1d5c527",
   "metadata": {},
   "outputs": [
    {
     "name": "stdout",
     "output_type": "stream",
     "text": [
      "-0.10821757\n"
     ]
    }
   ],
   "source": [
    "get_sim('biden', 'coach')"
   ]
  },
  {
   "cell_type": "code",
   "execution_count": 210,
   "id": "793704f6-a070-4cdd-8dba-57e33f16ce7f",
   "metadata": {},
   "outputs": [
    {
     "name": "stdout",
     "output_type": "stream",
     "text": [
      "0.12638268\n"
     ]
    }
   ],
   "source": [
    "get_sim('race', 'election')"
   ]
  },
  {
   "cell_type": "code",
   "execution_count": 211,
   "id": "fb8f8e60-2279-4eda-bf7f-300601a040c3",
   "metadata": {},
   "outputs": [
    {
     "name": "stdout",
     "output_type": "stream",
     "text": [
      "0.114419945\n"
     ]
    }
   ],
   "source": [
    "get_sim('voter', 'fan')"
   ]
  },
  {
   "cell_type": "code",
   "execution_count": null,
   "id": "818ad702-2727-4556-92dc-10d60716a504",
   "metadata": {},
   "outputs": [],
   "source": [
    "# The_Donald"
   ]
  },
  {
   "cell_type": "code",
   "execution_count": 103,
   "id": "ae550802-41b2-4833-b4ec-e605b4f263a7",
   "metadata": {},
   "outputs": [
    {
     "name": "stdout",
     "output_type": "stream",
     "text": [
      "-0.06472175\n"
     ]
    }
   ],
   "source": [
    "get_sim('trump', 'coach')"
   ]
  },
  {
   "cell_type": "code",
   "execution_count": 104,
   "id": "e50b8afc-08f1-4456-92fe-65866e7a0da3",
   "metadata": {},
   "outputs": [
    {
     "name": "stdout",
     "output_type": "stream",
     "text": [
      "-0.06473538\n"
     ]
    }
   ],
   "source": [
    "get_sim('biden', 'coach')"
   ]
  },
  {
   "cell_type": "code",
   "execution_count": 105,
   "id": "f65ddcbd-00bd-4bf2-9ca4-cacdb5a8a814",
   "metadata": {},
   "outputs": [
    {
     "name": "stdout",
     "output_type": "stream",
     "text": [
      "0.11673814\n"
     ]
    }
   ],
   "source": [
    "get_sim('race', 'election')"
   ]
  },
  {
   "cell_type": "code",
   "execution_count": 106,
   "id": "5ad73623-79f5-401a-80b8-1d8465bf1648",
   "metadata": {},
   "outputs": [
    {
     "name": "stdout",
     "output_type": "stream",
     "text": [
      "0.12745565\n"
     ]
    }
   ],
   "source": [
    "get_sim('voter', 'fan')"
   ]
  },
  {
   "cell_type": "code",
   "execution_count": null,
   "id": "d04f349f-973f-4cc4-bde2-a35c64282dc9",
   "metadata": {},
   "outputs": [],
   "source": [
    "# AskTrumpSupporters"
   ]
  },
  {
   "cell_type": "code",
   "execution_count": 82,
   "id": "3858e1e8-9533-4c2a-a575-9d0249568179",
   "metadata": {},
   "outputs": [
    {
     "name": "stdout",
     "output_type": "stream",
     "text": [
      "0.052884884\n"
     ]
    }
   ],
   "source": [
    "get_sim('trump', 'coach')"
   ]
  },
  {
   "cell_type": "code",
   "execution_count": 83,
   "id": "b9f36154-815b-4f6b-a531-035493a35872",
   "metadata": {},
   "outputs": [
    {
     "name": "stdout",
     "output_type": "stream",
     "text": [
      "0.013537772\n"
     ]
    }
   ],
   "source": [
    "get_sim('biden', 'coach')"
   ]
  },
  {
   "cell_type": "code",
   "execution_count": 84,
   "id": "8736cc08-3203-4d01-a8d1-c9b6e39964a5",
   "metadata": {},
   "outputs": [
    {
     "name": "stdout",
     "output_type": "stream",
     "text": [
      "0.13959454\n"
     ]
    }
   ],
   "source": [
    "get_sim('race', 'election')"
   ]
  },
  {
   "cell_type": "code",
   "execution_count": 85,
   "id": "082e36aa-5c90-47f6-9c62-4e969d03c0ab",
   "metadata": {},
   "outputs": [
    {
     "name": "stdout",
     "output_type": "stream",
     "text": [
      "0.0014483271\n"
     ]
    }
   ],
   "source": [
    "get_sim('voter', 'fan')"
   ]
  },
  {
   "cell_type": "code",
   "execution_count": null,
   "id": "682c686c-cdef-4892-8d33-0f59e0211257",
   "metadata": {},
   "outputs": [],
   "source": []
  },
  {
   "cell_type": "markdown",
   "id": "6e79804f-f5ad-4275-9acd-a8ddb17bfd9c",
   "metadata": {},
   "source": []
  },
  {
   "cell_type": "code",
   "execution_count": null,
   "id": "62f70549-b1dd-418c-b224-988bdb5385e8",
   "metadata": {},
   "outputs": [],
   "source": [
    "# democrats"
   ]
  },
  {
   "cell_type": "code",
   "execution_count": 189,
   "id": "73cdf992-97ff-46ff-8cfe-53eb92410556",
   "metadata": {},
   "outputs": [
    {
     "name": "stdout",
     "output_type": "stream",
     "text": [
      "0.17658761\n"
     ]
    }
   ],
   "source": [
    "get_sim('trump', 'coach')"
   ]
  },
  {
   "cell_type": "code",
   "execution_count": 190,
   "id": "f99b197c-7a5f-4ac7-93b8-48b6a73d674c",
   "metadata": {},
   "outputs": [
    {
     "name": "stdout",
     "output_type": "stream",
     "text": [
      "0.020108037\n"
     ]
    }
   ],
   "source": [
    "get_sim('biden', 'coach')"
   ]
  },
  {
   "cell_type": "code",
   "execution_count": 191,
   "id": "4dcb6069-a842-4216-a0f1-b9871f6fddea",
   "metadata": {},
   "outputs": [
    {
     "name": "stdout",
     "output_type": "stream",
     "text": [
      "0.42546162\n"
     ]
    }
   ],
   "source": [
    "get_sim('race', 'election')"
   ]
  },
  {
   "cell_type": "code",
   "execution_count": 192,
   "id": "ef0d48aa-55d5-4667-9611-3b217f01d6e8",
   "metadata": {},
   "outputs": [
    {
     "name": "stdout",
     "output_type": "stream",
     "text": [
      "0.17199346\n"
     ]
    }
   ],
   "source": [
    "get_sim('voter', 'fan')"
   ]
  },
  {
   "cell_type": "code",
   "execution_count": null,
   "id": "1873a237-4501-4624-96ad-97266d6d1e93",
   "metadata": {},
   "outputs": [],
   "source": [
    "# socialism"
   ]
  },
  {
   "cell_type": "code",
   "execution_count": 18,
   "id": "2c555a84-8dc0-42e5-9d94-8f7effc13546",
   "metadata": {},
   "outputs": [
    {
     "name": "stdout",
     "output_type": "stream",
     "text": [
      "0.14144689\n"
     ]
    }
   ],
   "source": [
    "#get_sim('trump', 'coach')"
   ]
  },
  {
   "cell_type": "code",
   "execution_count": 19,
   "id": "8bd32b6f-a6fe-4158-acad-b9d6c1dd93f7",
   "metadata": {},
   "outputs": [
    {
     "name": "stdout",
     "output_type": "stream",
     "text": [
      "0.062172484\n"
     ]
    }
   ],
   "source": [
    "#get_sim('biden', 'coach')"
   ]
  },
  {
   "cell_type": "code",
   "execution_count": 20,
   "id": "767d1d45-9891-4cdf-9ccd-f4e6607b5007",
   "metadata": {},
   "outputs": [
    {
     "name": "stdout",
     "output_type": "stream",
     "text": [
      "0.073596984\n"
     ]
    }
   ],
   "source": [
    "#get_sim('race', 'election')"
   ]
  },
  {
   "cell_type": "code",
   "execution_count": null,
   "id": "c5f7e6d4-c02e-49bd-a1e7-a7a71d08151e",
   "metadata": {},
   "outputs": [],
   "source": [
    "# JoeBiden"
   ]
  },
  {
   "cell_type": "code",
   "execution_count": 37,
   "id": "83fc7630-0576-4db5-a18f-ad432956338d",
   "metadata": {},
   "outputs": [
    {
     "name": "stdout",
     "output_type": "stream",
     "text": [
      "0.09293979\n"
     ]
    }
   ],
   "source": [
    "get_sim('trump', 'coach')"
   ]
  },
  {
   "cell_type": "code",
   "execution_count": 38,
   "id": "39e4bdba-b307-41b1-aa57-563297b65387",
   "metadata": {},
   "outputs": [
    {
     "name": "stdout",
     "output_type": "stream",
     "text": [
      "-0.0011312668\n"
     ]
    }
   ],
   "source": [
    "get_sim('biden', 'coach')"
   ]
  },
  {
   "cell_type": "code",
   "execution_count": 39,
   "id": "a854d80d-74e0-49ba-8318-10ba7c4bc9c2",
   "metadata": {},
   "outputs": [
    {
     "name": "stdout",
     "output_type": "stream",
     "text": [
      "0.2310926\n"
     ]
    }
   ],
   "source": [
    "get_sim('race', 'election')"
   ]
  },
  {
   "cell_type": "code",
   "execution_count": 40,
   "id": "34924a5d-a635-462e-b01f-8b937fa4a6bb",
   "metadata": {},
   "outputs": [
    {
     "name": "stdout",
     "output_type": "stream",
     "text": [
      "0.14530016\n"
     ]
    }
   ],
   "source": [
    "get_sim('voter', 'fan')"
   ]
  },
  {
   "cell_type": "code",
   "execution_count": null,
   "id": "9066d751-a26f-4986-af8e-1aa3007ec49b",
   "metadata": {},
   "outputs": [],
   "source": [
    "# AskALiberal"
   ]
  },
  {
   "cell_type": "code",
   "execution_count": 62,
   "id": "0492fa12-71ab-438f-8552-996d6fdd2ab2",
   "metadata": {},
   "outputs": [
    {
     "name": "stdout",
     "output_type": "stream",
     "text": [
      "0.19343403\n"
     ]
    }
   ],
   "source": [
    "get_sim('trump', 'coach')"
   ]
  },
  {
   "cell_type": "code",
   "execution_count": 63,
   "id": "e66b191b-4b55-473c-8894-4a4230319db1",
   "metadata": {},
   "outputs": [
    {
     "name": "stdout",
     "output_type": "stream",
     "text": [
      "0.013923576\n"
     ]
    }
   ],
   "source": [
    "get_sim('biden', 'coach')"
   ]
  },
  {
   "cell_type": "code",
   "execution_count": 64,
   "id": "3fe67c4e-3a4d-4ef1-8925-f22131915505",
   "metadata": {},
   "outputs": [
    {
     "name": "stdout",
     "output_type": "stream",
     "text": [
      "0.11042511\n"
     ]
    }
   ],
   "source": [
    "get_sim('race', 'election')"
   ]
  },
  {
   "cell_type": "code",
   "execution_count": 65,
   "id": "58c7e963-afde-427a-bab7-23e4ec8f6155",
   "metadata": {},
   "outputs": [
    {
     "name": "stdout",
     "output_type": "stream",
     "text": [
      "-0.02277404\n"
     ]
    }
   ],
   "source": [
    "get_sim('voter', 'fan')"
   ]
  },
  {
   "cell_type": "code",
   "execution_count": null,
   "id": "71d90690-a4c0-46c2-9e9d-83ee8059fae3",
   "metadata": {},
   "outputs": [],
   "source": []
  },
  {
   "cell_type": "code",
   "execution_count": null,
   "id": "340a43a9-0fbe-411d-89c2-c23583af7950",
   "metadata": {},
   "outputs": [],
   "source": []
  },
  {
   "cell_type": "code",
   "execution_count": 1,
   "id": "9dde670b-29c1-43e3-8b70-48788438a309",
   "metadata": {},
   "outputs": [],
   "source": [
    "import polars as pl\n",
    "import re"
   ]
  },
  {
   "cell_type": "code",
   "execution_count": 2,
   "id": "b47b7fe1-b7f8-48f9-b442-3d3c4aa52ec4",
   "metadata": {},
   "outputs": [],
   "source": [
    "df = pl.read_csv('/users/ujan/sports-language-in-politics/data/processed/politics_sample.csv').drop_nulls()"
   ]
  },
  {
   "cell_type": "code",
   "execution_count": 4,
   "id": "a6cfef65-275a-4e4c-a63c-f8011183568c",
   "metadata": {},
   "outputs": [],
   "source": [
    "df = pl.read_csv('/users/ujan/sports-language-in-politics/data/processed/sports_sample.csv').drop_nulls()"
   ]
  },
  {
   "cell_type": "code",
   "execution_count": 5,
   "id": "ce67fb3b-3052-42d5-91f8-4d136a456122",
   "metadata": {},
   "outputs": [
    {
     "data": {
      "text/plain": [
       "4306780"
      ]
     },
     "execution_count": 5,
     "metadata": {},
     "output_type": "execute_result"
    }
   ],
   "source": [
    "len(df)"
   ]
  },
  {
   "cell_type": "code",
   "execution_count": null,
   "id": "ecf532be-297e-440e-a6f2-bd0736aa3aab",
   "metadata": {
    "scrolled": true
   },
   "outputs": [],
   "source": [
    "df['subreddit'].unique().to_list()"
   ]
  },
  {
   "cell_type": "code",
   "execution_count": 11,
   "id": "2c0a9d5c-a2c8-4703-a0b2-6a8fad5d8bfd",
   "metadata": {},
   "outputs": [
    {
     "data": {
      "text/plain": [
       "86348"
      ]
     },
     "execution_count": 11,
     "metadata": {},
     "output_type": "execute_result"
    }
   ],
   "source": [
    "len(df.filter(pl.col('subreddit') == 'Conservative'))"
   ]
  },
  {
   "cell_type": "code",
   "execution_count": 20,
   "id": "5130a525-2f51-4bd8-a876-3ab98ac9a643",
   "metadata": {},
   "outputs": [
    {
     "data": {
      "text/plain": [
       "184"
      ]
     },
     "execution_count": 20,
     "metadata": {},
     "output_type": "execute_result"
    }
   ],
   "source": [
    "len(df.filter(pl.col('subreddit') == 'Donald_Trump'))"
   ]
  },
  {
   "cell_type": "code",
   "execution_count": 22,
   "id": "27dd33ed-9c84-48d0-913a-c73dd848dfc2",
   "metadata": {},
   "outputs": [
    {
     "data": {
      "text/plain": [
       "1147"
      ]
     },
     "execution_count": 22,
     "metadata": {},
     "output_type": "execute_result"
    }
   ],
   "source": [
    "len(df.filter(pl.col('subreddit') == 'donaldtrump'))"
   ]
  },
  {
   "cell_type": "code",
   "execution_count": 23,
   "id": "25ccef39-eb1d-4ef6-bcf1-24e5875914d4",
   "metadata": {},
   "outputs": [
    {
     "data": {
      "text/plain": [
       "28454"
      ]
     },
     "execution_count": 23,
     "metadata": {},
     "output_type": "execute_result"
    }
   ],
   "source": [
    "len(df.filter(pl.col('subreddit') == 'AskTrumpSupporters'))"
   ]
  },
  {
   "cell_type": "code",
   "execution_count": 24,
   "id": "f41ec349-1475-413f-b7db-5a4d8a3299fc",
   "metadata": {},
   "outputs": [
    {
     "data": {
      "text/plain": [
       "419292"
      ]
     },
     "execution_count": 24,
     "metadata": {},
     "output_type": "execute_result"
    }
   ],
   "source": [
    "len(df.filter(pl.col('subreddit') == 'The_Donald'))"
   ]
  },
  {
   "cell_type": "code",
   "execution_count": 6,
   "id": "2eb71c21-d3f3-4582-a26f-935d8065eee3",
   "metadata": {},
   "outputs": [
    {
     "data": {
      "text/plain": [
       "505640"
      ]
     },
     "execution_count": 6,
     "metadata": {},
     "output_type": "execute_result"
    }
   ],
   "source": [
    "419292 + 86348"
   ]
  },
  {
   "cell_type": "code",
   "execution_count": 21,
   "id": "3113ed6e-9447-47f8-9725-81fac0ee6761",
   "metadata": {},
   "outputs": [
    {
     "data": {
      "text/plain": [
       "7632"
      ]
     },
     "execution_count": 21,
     "metadata": {},
     "output_type": "execute_result"
    }
   ],
   "source": [
    "len(df.filter(pl.col('subreddit') == 'JoeBiden'))"
   ]
  },
  {
   "cell_type": "code",
   "execution_count": 16,
   "id": "be40a117-2117-4ad2-a943-81e59ea9ac6b",
   "metadata": {},
   "outputs": [
    {
     "data": {
      "text/plain": [
       "12888"
      ]
     },
     "execution_count": 16,
     "metadata": {},
     "output_type": "execute_result"
    }
   ],
   "source": [
    "#len(df.filter(pl.col('subreddit') == 'AskALiberal'))"
   ]
  },
  {
   "cell_type": "code",
   "execution_count": 17,
   "id": "3a4290a1-dc3f-487e-a2f6-b16e1f4cddeb",
   "metadata": {},
   "outputs": [
    {
     "data": {
      "text/plain": [
       "6308"
      ]
     },
     "execution_count": 17,
     "metadata": {},
     "output_type": "execute_result"
    }
   ],
   "source": [
    "len(df.filter(pl.col('subreddit') == 'democrats'))  # 238 biden, 1063 trump (> 50 chars)"
   ]
  },
  {
   "cell_type": "code",
   "execution_count": 18,
   "id": "b8f2cfa3-e2b4-4de0-8b2c-2c881a3fc174",
   "metadata": {},
   "outputs": [
    {
     "data": {
      "text/plain": [
       "14020"
      ]
     },
     "execution_count": 18,
     "metadata": {},
     "output_type": "execute_result"
    }
   ],
   "source": [
    "#len(df.filter(pl.col('subreddit') == 'socialism'))"
   ]
  },
  {
   "cell_type": "code",
   "execution_count": 5,
   "id": "3ea5b040-d9a0-4679-93e2-9daf55d0d924",
   "metadata": {},
   "outputs": [
    {
     "data": {
      "text/plain": [
       "2142"
      ]
     },
     "execution_count": 5,
     "metadata": {},
     "output_type": "execute_result"
    }
   ],
   "source": [
    "len(df.filter(pl.col('subreddit') == 'Liberal'))"
   ]
  },
  {
   "cell_type": "code",
   "execution_count": 6,
   "id": "08b5d02c-8609-4264-8e5f-08c830891ae8",
   "metadata": {},
   "outputs": [
    {
     "data": {
      "text/plain": [
       "1249375"
      ]
     },
     "execution_count": 6,
     "metadata": {},
     "output_type": "execute_result"
    }
   ],
   "source": [
    "len(df.filter(pl.col('subreddit') == 'politics'))"
   ]
  },
  {
   "cell_type": "code",
   "execution_count": 7,
   "id": "78ab5a9e-9335-4c6a-bf44-9c46208aa297",
   "metadata": {},
   "outputs": [
    {
     "data": {
      "text/plain": [
       "164"
      ]
     },
     "execution_count": 7,
     "metadata": {},
     "output_type": "execute_result"
    }
   ],
   "source": [
    "len(df.filter(pl.col('subreddit') == 'obama'))"
   ]
  },
  {
   "cell_type": "code",
   "execution_count": 8,
   "id": "1e2f6b6e-f9aa-4786-9d1f-3607dfee5fed",
   "metadata": {},
   "outputs": [
    {
     "data": {
      "text/plain": [
       "6913"
      ]
     },
     "execution_count": 8,
     "metadata": {},
     "output_type": "execute_result"
    }
   ],
   "source": [
    "len(df.filter(pl.col('subreddit') == 'esist'))"
   ]
  },
  {
   "cell_type": "code",
   "execution_count": 9,
   "id": "82d6aa18-07fa-46b6-8fbb-4f8dd09eab90",
   "metadata": {},
   "outputs": [
    {
     "data": {
      "text/plain": [
       "1860"
      ]
     },
     "execution_count": 9,
     "metadata": {},
     "output_type": "execute_result"
    }
   ],
   "source": [
    "len(df.filter(pl.col('subreddit') == 'progressive'))"
   ]
  },
  {
   "cell_type": "code",
   "execution_count": null,
   "id": "6738822f-62bc-4dd8-9791-a0b3a5aa3113",
   "metadata": {},
   "outputs": [],
   "source": [
    "# liberal, politics, obama, bernie, sandersforpresident, r/esist, progressive"
   ]
  },
  {
   "cell_type": "code",
   "execution_count": null,
   "id": "7ca274a9-6954-4e8a-86bd-05466c6c89ea",
   "metadata": {},
   "outputs": [],
   "source": []
  },
  {
   "cell_type": "code",
   "execution_count": null,
   "id": "550872e1-2296-402a-8dd5-ce68ac9e2ab0",
   "metadata": {},
   "outputs": [],
   "source": []
  },
  {
   "cell_type": "code",
   "execution_count": null,
   "id": "e703de8c-b4a3-459f-9710-a176ed780202",
   "metadata": {},
   "outputs": [],
   "source": [
    "# politics sub"
   ]
  },
  {
   "cell_type": "code",
   "execution_count": 10,
   "id": "0c7f54ab-cd7d-460f-ae0f-3cd5f221584d",
   "metadata": {},
   "outputs": [],
   "source": [
    "sports_df = pl.read_csv('/users/ujan/sports-language-in-politics/data/processed/sports_sample.csv').drop_nulls()"
   ]
  },
  {
   "cell_type": "code",
   "execution_count": null,
   "id": "0ff267c2-7cfb-476d-86ff-5ab86a8d7f71",
   "metadata": {
    "scrolled": true
   },
   "outputs": [],
   "source": [
    "sports_df['subreddit'].unique().to_list()"
   ]
  },
  {
   "cell_type": "code",
   "execution_count": 17,
   "id": "8e5052c0-5bcb-4de0-97a3-776226ac876f",
   "metadata": {},
   "outputs": [],
   "source": [
    "comments = [comment.replace(\"'\", '')for comment in sports_df['body'].to_list()]\n",
    "comments = [re.sub(r\"[^a-zA-Z0-9]+\", ' ', comment).lower() for comment in comments]"
   ]
  },
  {
   "cell_type": "code",
   "execution_count": 18,
   "id": "0ef70d38-8cb8-4bff-9aa2-dd48ff2e6287",
   "metadata": {},
   "outputs": [
    {
     "data": {
      "text/plain": [
       "'i think everyone can agree that an exciting 3 3 tie would be fantastic'"
      ]
     },
     "execution_count": 18,
     "metadata": {},
     "output_type": "execute_result"
    }
   ],
   "source": [
    "comments[13]"
   ]
  },
  {
   "cell_type": "code",
   "execution_count": 19,
   "id": "f60ed668-3acf-47d7-9ea9-f39b0e025528",
   "metadata": {},
   "outputs": [
    {
     "data": {
      "text/plain": [
       "4306780"
      ]
     },
     "execution_count": 19,
     "metadata": {},
     "output_type": "execute_result"
    }
   ],
   "source": [
    "len(comments)"
   ]
  },
  {
   "cell_type": "code",
   "execution_count": 24,
   "id": "b243c1f5-eafb-40c2-8ec4-3ed4d481c0e6",
   "metadata": {},
   "outputs": [
    {
     "data": {
      "text/plain": [
       "45578"
      ]
     },
     "execution_count": 24,
     "metadata": {},
     "output_type": "execute_result"
    }
   ],
   "source": [
    "count = 0\n",
    "for comment in comments:\n",
    "    if 'qbf' in comment:\n",
    "        count += 1\n",
    "\n",
    "count"
   ]
  },
  {
   "cell_type": "code",
   "execution_count": null,
   "id": "fd3bcf82-ee29-42c8-a604-1b761b90ec97",
   "metadata": {},
   "outputs": [],
   "source": []
  },
  {
   "cell_type": "code",
   "execution_count": null,
   "id": "9e4bf02f-964f-4d8b-a5ee-38c04d583f3a",
   "metadata": {},
   "outputs": [],
   "source": []
  },
  {
   "cell_type": "code",
   "execution_count": 42,
   "id": "aae1b522-13a0-4124-8389-6bf06e0bbf77",
   "metadata": {},
   "outputs": [],
   "source": [
    "import seaborn as sns\n",
    "import pandas as pd\n",
    "import polars as pl\n",
    "import matplotlib.pyplot as plt"
   ]
  },
  {
   "cell_type": "code",
   "execution_count": 13,
   "id": "c882042d-6346-409a-b268-5a878eb97358",
   "metadata": {},
   "outputs": [
    {
     "data": {
      "text/plain": [
       "0.09817319333333334"
      ]
     },
     "execution_count": 13,
     "metadata": {},
     "output_type": "execute_result"
    }
   ],
   "source": [
    "(0.17199346 + 0.14530016 + -0.02277404) / 3"
   ]
  },
  {
   "cell_type": "code",
   "execution_count": 22,
   "id": "4f7cee89-011b-4d8f-a6db-65e459fd6a01",
   "metadata": {},
   "outputs": [],
   "source": [
    "# Conservative, The_Donald, AskTrumpSupporters\n",
    "rep_dict = {\n",
    "    'trump:coach': 0.004411534000000002,\n",
    "    'biden:coach': -0.053138392666666666,\n",
    "    'race:election': 0.12757178666666666,\n",
    "    'voter:fan': 0.08110797403333334,\n",
    "}\n",
    "\n",
    "# democrats, JoeBiden, AskALiberal\n",
    "dem_dict = {\n",
    "    'trump:coach': 0.15432047666666668,\n",
    "    'biden:coach': 0.010966782066666667,\n",
    "    'race:election': 0.25565977666666667,\n",
    "    'voter:fan': 0.09817319333333334,\n",
    "}\n",
    "\n",
    "rep_df = pl.DataFrame(rep_dict)\n",
    "dem_df = pl.DataFrame(dem_dict)"
   ]
  },
  {
   "cell_type": "code",
   "execution_count": 45,
   "id": "3b37cee1-74cc-4f46-92fa-0c44afc5582e",
   "metadata": {},
   "outputs": [],
   "source": [
    "sns.set(rc={'figure.figsize':(9.7,7.27)})"
   ]
  },
  {
   "cell_type": "code",
   "execution_count": 49,
   "id": "92b89365-f9bd-4099-be3d-8dc50087f71b",
   "metadata": {},
   "outputs": [
    {
     "data": {
      "image/png": "[encoded data removed]",
      "text/plain": [
       "<Figure size 970x727 with 2 Axes>"
      ]
     },
     "metadata": {},
     "output_type": "display_data"
    }
   ],
   "source": [
    "f, axes = plt.subplots(1, 2)\n",
    "a = sns.barplot(data=rep_df.to_pandas(), orient='v' , ax=axes[0])\n",
    "b = sns.barplot(data=dem_df.to_pandas(), orient='v' , ax=axes[1])\n",
    "\n",
    "a.tick_params(labelsize=9)\n",
    "b.tick_params(labelsize=9)\n",
    "\n",
    "a.set_xlabel(\"republicans\",fontsize=10)\n",
    "b.set_xlabel(\"democrats\",fontsize=10)\n",
    "\n",
    "a.set(ylim=(-0.07, 0.260))\n",
    "b.set(ylim=(-0.07, 0.260))\n",
    "\n",
    "plt.show()"
   ]
  },
  {
   "cell_type": "code",
   "execution_count": null,
   "id": "432035ca-b209-41ee-8f1c-8ae21727a5e0",
   "metadata": {},
   "outputs": [],
   "source": [
    "# verify trend with random mappings"
   ]
  }
 ],
 "metadata": {
  "kernelspec": {
   "display_name": "Python 3 (ipykernel)",
   "language": "python",
   "name": "python3"
  },
  "language_info": {
   "codemirror_mode": {
    "name": "ipython",
    "version": 3
   },
   "file_extension": ".py",
   "mimetype": "text/x-python",
   "name": "python",
   "nbconvert_exporter": "python",
   "pygments_lexer": "ipython3",
   "version": "3.10.4"
  }
 },
 "nbformat": 4,
 "nbformat_minor": 5
}
