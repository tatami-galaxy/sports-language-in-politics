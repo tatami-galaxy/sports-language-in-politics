{
 "cells": [
  {
   "cell_type": "code",
   "execution_count": 193,
   "id": "03375523-e310-4ccc-9476-c871d654f3a2",
   "metadata": {},
   "outputs": [],
   "source": [
    "import numpy as np\n",
    "import pandas as pd\n",
    "import torch\n",
    "import sys\n",
    "\n",
    "from sklearn.manifold import TSNE\n",
    "import plotly.graph_objects as go\n",
    "\n",
    "import argparse\n",
    "import os\n",
    "from os.path import dirname, abspath\n",
    "from functools import partial\n",
    "import json\n",
    "import yaml\n",
    "import numpy as np\n",
    "\n",
    "import torch\n",
    "import torch.nn as nn\n",
    "from torchtext.data import get_tokenizer\n",
    "from torchtext.vocab import build_vocab_from_iterator\n",
    "from torch.utils.data import DataLoader\n",
    "\n",
    "import torch.optim as optim\n",
    "from torch.optim.lr_scheduler import LambdaLR\n",
    "\n",
    "from datasets import load_dataset"
   ]
  },
  {
   "cell_type": "code",
   "execution_count": 194,
   "id": "653b0dc3-bb80-47fb-bdc1-ff6fe02343df",
   "metadata": {},
   "outputs": [],
   "source": [
    "EMBED_DIMENSION = 300\n",
    "EMBED_MAX_NORM = 1"
   ]
  },
  {
   "cell_type": "code",
   "execution_count": 195,
   "id": "d4f59c6e-c939-44a9-ab30-af23146bdf24",
   "metadata": {},
   "outputs": [],
   "source": [
    "vocab = torch.load(f\"/users/ujan/sports-language-in-politics/models/cbow/vocab.pt\")"
   ]
  },
  {
   "cell_type": "code",
   "execution_count": 196,
   "id": "4cc61e4a-df3e-49f2-be5a-88427d1c82db",
   "metadata": {},
   "outputs": [
    {
     "data": {
      "text/plain": [
       "9904"
      ]
     },
     "execution_count": 196,
     "metadata": {},
     "output_type": "execute_result"
    }
   ],
   "source": [
    "len(vocab.get_itos())"
   ]
  },
  {
   "cell_type": "code",
   "execution_count": 197,
   "id": "9a711a00-cd09-4b0a-bb90-5470f2146cc0",
   "metadata": {},
   "outputs": [],
   "source": [
    "class CBOW_Model(nn.Module):\n",
    "    \"\"\"\n",
    "    Implementation of CBOW model described in paper:\n",
    "    https://arxiv.org/abs/1301.3781\n",
    "    \"\"\"\n",
    "\n",
    "    def __init__(self, vocab_size: int):\n",
    "        super(CBOW_Model, self).__init__()\n",
    "        self.embeddings = nn.Embedding(\n",
    "            num_embeddings=vocab_size,\n",
    "            embedding_dim=EMBED_DIMENSION,\n",
    "            max_norm=EMBED_MAX_NORM,\n",
    "        )\n",
    "        self.linear = nn.Linear(\n",
    "            in_features=EMBED_DIMENSION,\n",
    "            out_features=vocab_size,\n",
    "        )\n",
    "\n",
    "    def forward(self, inputs):\n",
    "        x = self.embeddings(inputs)\n",
    "        x = x.mean(axis=1)\n",
    "        x = self.linear(x)\n",
    "        return x"
   ]
  },
  {
   "cell_type": "code",
   "execution_count": 198,
   "id": "28820e64-3899-4339-8e0f-22670f2f92f8",
   "metadata": {},
   "outputs": [],
   "source": [
    "model = CBOW_Model(vocab_size=len(vocab.get_itos()))  ## change vocab size ##"
   ]
  },
  {
   "cell_type": "code",
   "execution_count": 199,
   "id": "59d2d51a-2131-41bf-93d9-52232bdd25c0",
   "metadata": {},
   "outputs": [],
   "source": [
    "device = torch.device(\"cuda\" if torch.cuda.is_available() else \"cpu\")\n",
    "\n",
    "## change file path ##\n",
    "model = torch.load(f\"/users/ujan/sports-language-in-politics/models/cbow/model.pt\", map_location=device)"
   ]
  },
  {
   "cell_type": "code",
   "execution_count": 200,
   "id": "48c84e95-2570-4e9f-b975-0f973de972bd",
   "metadata": {},
   "outputs": [
    {
     "data": {
      "text/plain": [
       "(9904, 300)"
      ]
     },
     "execution_count": 200,
     "metadata": {},
     "output_type": "execute_result"
    }
   ],
   "source": [
    "# embedding from first model layer\n",
    "embeddings = list(model.parameters())[0]\n",
    "embeddings = embeddings.cpu().detach().numpy()\n",
    "\n",
    "# normalization\n",
    "norms = (embeddings ** 2).sum(axis=1) ** (1 / 2)\n",
    "norms = np.reshape(norms, (len(norms), 1))\n",
    "embeddings_norm = embeddings / norms\n",
    "embeddings_norm.shape"
   ]
  },
  {
   "cell_type": "code",
   "execution_count": 201,
   "id": "e2ec8894-37ac-42da-95bb-7665c1e27993",
   "metadata": {},
   "outputs": [],
   "source": [
    "imp_tokens = [\n",
    "    'biden', 'trump', 'coach', 'politician', 'fan',\n",
    "    'voter', 'election', 'party', 'team', 'race',\n",
    "    'democrats', 'republicans',\n",
    "]\n",
    "for token in imp_tokens:\n",
    "    if token not in vocab.get_itos():\n",
    "        print(token)"
   ]
  },
  {
   "cell_type": "code",
   "execution_count": 202,
   "id": "8d35ae82-48a0-420c-8c20-6d1135b47004",
   "metadata": {
    "scrolled": true
   },
   "outputs": [],
   "source": [
    "# get embeddings\n",
    "embeddings_df = pd.DataFrame(embeddings)\n",
    "embeddings_df.index = vocab.get_itos()\n",
    "#embeddings_df.head()"
   ]
  },
  {
   "cell_type": "code",
   "execution_count": 203,
   "id": "64e7ab37-b528-41cb-bae3-8ce88946cfda",
   "metadata": {},
   "outputs": [],
   "source": [
    "# t-SNE transform\n",
    "tsne = TSNE(n_components=2)\n",
    "embeddings_df_trans = tsne.fit_transform(embeddings_df)\n",
    "embeddings_df_trans = pd.DataFrame(embeddings_df_trans)\n",
    "\n",
    "# get token order\n",
    "embeddings_df_trans.index = vocab.get_itos()"
   ]
  },
  {
   "cell_type": "code",
   "execution_count": 204,
   "id": "7f91fef4-f0bd-4bce-9670-1540b7411978",
   "metadata": {},
   "outputs": [],
   "source": [
    "embeddings_df_trans = embeddings_df_trans.filter(items=imp_tokens, axis=0)\n",
    "is_imp = np.array([True if item in imp_tokens else False for item in embeddings_df_trans.index.to_list()])"
   ]
  },
  {
   "cell_type": "code",
   "execution_count": 205,
   "id": "00308331-e164-46eb-865f-07c4973c3860",
   "metadata": {},
   "outputs": [],
   "source": [
    "color = np.where(is_imp, \"blue\", \"red\")\n",
    "fig = go.Figure()\n",
    "\n",
    "fig.add_trace(\n",
    "    go.Scatter(\n",
    "        x=embeddings_df_trans[0],\n",
    "        y=embeddings_df_trans[1],\n",
    "        mode=\"text\",\n",
    "        text=embeddings_df_trans.index,\n",
    "        textposition=\"middle center\",\n",
    "        textfont=dict(color=color),\n",
    "    )\n",
    ")\n",
    "fig.write_html(\"word2vec_visualization.html\")"
   ]
  },
  {
   "cell_type": "code",
   "execution_count": null,
   "id": "099e8ef6-d2eb-4b2b-b46d-54385820f910",
   "metadata": {},
   "outputs": [],
   "source": []
  },
  {
   "cell_type": "code",
   "execution_count": 186,
   "id": "ac753965-8e8c-4dbb-bcf2-2942bf27b569",
   "metadata": {},
   "outputs": [],
   "source": [
    "def get_top_similar(word: str, topN: int = 10):\n",
    "    word_id = vocab[word]\n",
    "    if word_id == 0:\n",
    "        print(\"Out of vocabulary word\")\n",
    "        return\n",
    "\n",
    "    word_vec = embeddings_norm[word_id]\n",
    "    word_vec = np.reshape(word_vec, (len(word_vec), 1))\n",
    "    dists = np.matmul(embeddings_norm, word_vec).flatten()\n",
    "    topN_ids = np.argsort(-dists)[1 : topN + 1]\n",
    "\n",
    "    topN_dict = {}\n",
    "    for sim_word_id in topN_ids:\n",
    "        sim_word = vocab.lookup_token(sim_word_id)\n",
    "        topN_dict[sim_word] = dists[sim_word_id]\n",
    "    return topN_dict"
   ]
  },
  {
   "cell_type": "code",
   "execution_count": 187,
   "id": "7bffcd4b-3c0f-40fc-9cd6-ec68c1e7ac30",
   "metadata": {},
   "outputs": [
    {
     "name": "stdout",
     "output_type": "stream",
     "text": [
      "obama: 0.410\n",
      "hillary: 0.382\n",
      "biden: 0.357\n",
      "sanders: 0.351\n",
      "trumps: 0.350\n",
      "lie: 0.349\n",
      "bernie: 0.342\n",
      "pelosi: 0.334\n",
      "china: 0.330\n",
      "registered: 0.315\n"
     ]
    }
   ],
   "source": [
    "for word, sim in get_top_similar(\"trump\").items():\n",
    "    print(\"{}: {:.3f}\".format(word, sim))"
   ]
  },
  {
   "cell_type": "code",
   "execution_count": 213,
   "id": "b1b2ea75-cd37-43ff-a0d0-2d3f4202ea3e",
   "metadata": {},
   "outputs": [],
   "source": [
    "def get_sim(word1: str, word2: str):\n",
    "    if word1 not in vocab.get_itos() or word2 not in vocab.get_itos():\n",
    "        print('not in vocab')\n",
    "        return\n",
    "    word1_id = vocab[word1]\n",
    "    if word1_id == 0:\n",
    "        print(\"Out of vocabulary word\")\n",
    "        return\n",
    "    word2_id = vocab[word2]\n",
    "    if word2_id == 0:\n",
    "        print(\"Out of vocabulary word\")\n",
    "        return\n",
    "\n",
    "    word1_vec = embeddings_norm[word1_id]\n",
    "    #word1_vec = np.reshape(word1_vec, (len(word1_vec), 1))\n",
    "    \n",
    "    word2_vec = embeddings_norm[word2_id]\n",
    "    #word2_vec = np.reshape(word2_vec, (len(word2_vec), 1))\n",
    "    \n",
    "    print(np.dot(word1_vec, word2_vec))"
   ]
  },
  {
   "cell_type": "code",
   "execution_count": 207,
   "id": "e9514380-5876-4830-8b74-7b465dc38ac0",
   "metadata": {},
   "outputs": [],
   "source": [
    "# conservative"
   ]
  },
  {
   "cell_type": "code",
   "execution_count": 208,
   "id": "46fbe141-e582-439d-9980-eeeb4e673502",
   "metadata": {},
   "outputs": [
    {
     "name": "stdout",
     "output_type": "stream",
     "text": [
      "0.025071468\n"
     ]
    }
   ],
   "source": [
    "get_sim('trump', 'coach')"
   ]
  },
  {
   "cell_type": "code",
   "execution_count": 209,
   "id": "f1a8883e-b02a-491d-b6ef-1f02e1d5c527",
   "metadata": {},
   "outputs": [
    {
     "name": "stdout",
     "output_type": "stream",
     "text": [
      "-0.10821757\n"
     ]
    }
   ],
   "source": [
    "get_sim('biden', 'coach')"
   ]
  },
  {
   "cell_type": "code",
   "execution_count": 210,
   "id": "793704f6-a070-4cdd-8dba-57e33f16ce7f",
   "metadata": {},
   "outputs": [
    {
     "name": "stdout",
     "output_type": "stream",
     "text": [
      "0.12638268\n"
     ]
    }
   ],
   "source": [
    "get_sim('race', 'election')"
   ]
  },
  {
   "cell_type": "code",
   "execution_count": 211,
   "id": "fb8f8e60-2279-4eda-bf7f-300601a040c3",
   "metadata": {},
   "outputs": [
    {
     "name": "stdout",
     "output_type": "stream",
     "text": [
      "0.114419945\n"
     ]
    }
   ],
   "source": [
    "get_sim('voter', 'fan')"
   ]
  },
  {
   "cell_type": "code",
   "execution_count": null,
   "id": "79c2d9d1-2db5-429f-93d8-2f0dd2cc1afd",
   "metadata": {},
   "outputs": [],
   "source": []
  },
  {
   "cell_type": "code",
   "execution_count": null,
   "id": "62f70549-b1dd-418c-b224-988bdb5385e8",
   "metadata": {},
   "outputs": [],
   "source": [
    "# democrats"
   ]
  },
  {
   "cell_type": "code",
   "execution_count": 189,
   "id": "73cdf992-97ff-46ff-8cfe-53eb92410556",
   "metadata": {},
   "outputs": [
    {
     "name": "stdout",
     "output_type": "stream",
     "text": [
      "0.17658761\n"
     ]
    }
   ],
   "source": [
    "get_sim('trump', 'coach')"
   ]
  },
  {
   "cell_type": "code",
   "execution_count": 190,
   "id": "f99b197c-7a5f-4ac7-93b8-48b6a73d674c",
   "metadata": {},
   "outputs": [
    {
     "name": "stdout",
     "output_type": "stream",
     "text": [
      "0.020108037\n"
     ]
    }
   ],
   "source": [
    "get_sim('biden', 'coach')"
   ]
  },
  {
   "cell_type": "code",
   "execution_count": 191,
   "id": "4dcb6069-a842-4216-a0f1-b9871f6fddea",
   "metadata": {},
   "outputs": [
    {
     "name": "stdout",
     "output_type": "stream",
     "text": [
      "0.42546162\n"
     ]
    }
   ],
   "source": [
    "get_sim('race', 'election')"
   ]
  },
  {
   "cell_type": "code",
   "execution_count": 192,
   "id": "ef0d48aa-55d5-4667-9611-3b217f01d6e8",
   "metadata": {},
   "outputs": [
    {
     "name": "stdout",
     "output_type": "stream",
     "text": [
      "0.17199346\n"
     ]
    }
   ],
   "source": [
    "get_sim('voter', 'fan')"
   ]
  },
  {
   "cell_type": "code",
   "execution_count": 2,
   "id": "9dde670b-29c1-43e3-8b70-48788438a309",
   "metadata": {},
   "outputs": [],
   "source": [
    "import polars as pl"
   ]
  },
  {
   "cell_type": "code",
   "execution_count": 3,
   "id": "b47b7fe1-b7f8-48f9-b442-3d3c4aa52ec4",
   "metadata": {},
   "outputs": [],
   "source": [
    "df = pl.read_csv('/users/ujan/sports-language-in-politics/data/processed/politics_sample.csv').drop_nulls()"
   ]
  },
  {
   "cell_type": "code",
   "execution_count": null,
   "id": "ecf532be-297e-440e-a6f2-bd0736aa3aab",
   "metadata": {
    "scrolled": true
   },
   "outputs": [],
   "source": [
    "df['subreddit'].unique().to_list()"
   ]
  },
  {
   "cell_type": "code",
   "execution_count": 11,
   "id": "2c0a9d5c-a2c8-4703-a0b2-6a8fad5d8bfd",
   "metadata": {},
   "outputs": [
    {
     "data": {
      "text/plain": [
       "86348"
      ]
     },
     "execution_count": 11,
     "metadata": {},
     "output_type": "execute_result"
    }
   ],
   "source": [
    "len(df.filter(pl.col('subreddit') == 'Conservative'))"
   ]
  },
  {
   "cell_type": "code",
   "execution_count": 20,
   "id": "5130a525-2f51-4bd8-a876-3ab98ac9a643",
   "metadata": {},
   "outputs": [
    {
     "data": {
      "text/plain": [
       "184"
      ]
     },
     "execution_count": 20,
     "metadata": {},
     "output_type": "execute_result"
    }
   ],
   "source": [
    "len(df.filter(pl.col('subreddit') == 'Donald_Trump'))"
   ]
  },
  {
   "cell_type": "code",
   "execution_count": 22,
   "id": "27dd33ed-9c84-48d0-913a-c73dd848dfc2",
   "metadata": {},
   "outputs": [
    {
     "data": {
      "text/plain": [
       "1147"
      ]
     },
     "execution_count": 22,
     "metadata": {},
     "output_type": "execute_result"
    }
   ],
   "source": [
    "len(df.filter(pl.col('subreddit') == 'donaldtrump'))"
   ]
  },
  {
   "cell_type": "code",
   "execution_count": 23,
   "id": "25ccef39-eb1d-4ef6-bcf1-24e5875914d4",
   "metadata": {},
   "outputs": [
    {
     "data": {
      "text/plain": [
       "28454"
      ]
     },
     "execution_count": 23,
     "metadata": {},
     "output_type": "execute_result"
    }
   ],
   "source": [
    "len(df.filter(pl.col('subreddit') == 'AskTrumpSupporters'))"
   ]
  },
  {
   "cell_type": "code",
   "execution_count": 24,
   "id": "f41ec349-1475-413f-b7db-5a4d8a3299fc",
   "metadata": {},
   "outputs": [
    {
     "data": {
      "text/plain": [
       "419292"
      ]
     },
     "execution_count": 24,
     "metadata": {},
     "output_type": "execute_result"
    }
   ],
   "source": [
    "len(df.filter(pl.col('subreddit') == 'The_Donald'))"
   ]
  },
  {
   "cell_type": "code",
   "execution_count": null,
   "id": "2eb71c21-d3f3-4582-a26f-935d8065eee3",
   "metadata": {},
   "outputs": [],
   "source": []
  },
  {
   "cell_type": "code",
   "execution_count": 21,
   "id": "3113ed6e-9447-47f8-9725-81fac0ee6761",
   "metadata": {},
   "outputs": [
    {
     "data": {
      "text/plain": [
       "7632"
      ]
     },
     "execution_count": 21,
     "metadata": {},
     "output_type": "execute_result"
    }
   ],
   "source": [
    "len(df.filter(pl.col('subreddit') == 'JoeBiden'))"
   ]
  },
  {
   "cell_type": "code",
   "execution_count": 16,
   "id": "be40a117-2117-4ad2-a943-81e59ea9ac6b",
   "metadata": {},
   "outputs": [
    {
     "data": {
      "text/plain": [
       "12888"
      ]
     },
     "execution_count": 16,
     "metadata": {},
     "output_type": "execute_result"
    }
   ],
   "source": [
    "len(df.filter(pl.col('subreddit') == 'AskALiberal'))"
   ]
  },
  {
   "cell_type": "code",
   "execution_count": 17,
   "id": "3a4290a1-dc3f-487e-a2f6-b16e1f4cddeb",
   "metadata": {},
   "outputs": [
    {
     "data": {
      "text/plain": [
       "6308"
      ]
     },
     "execution_count": 17,
     "metadata": {},
     "output_type": "execute_result"
    }
   ],
   "source": [
    "len(df.filter(pl.col('subreddit') == 'democrats'))  # 238 biden, 1063 trump (> 50 chars)"
   ]
  },
  {
   "cell_type": "code",
   "execution_count": 18,
   "id": "b8f2cfa3-e2b4-4de0-8b2c-2c881a3fc174",
   "metadata": {},
   "outputs": [
    {
     "data": {
      "text/plain": [
       "14020"
      ]
     },
     "execution_count": 18,
     "metadata": {},
     "output_type": "execute_result"
    }
   ],
   "source": [
    "len(df.filter(pl.col('subreddit') == 'socialism'))"
   ]
  },
  {
   "cell_type": "code",
   "execution_count": 19,
   "id": "3ea5b040-d9a0-4679-93e2-9daf55d0d924",
   "metadata": {},
   "outputs": [
    {
     "data": {
      "text/plain": [
       "3027"
      ]
     },
     "execution_count": 19,
     "metadata": {},
     "output_type": "execute_result"
    }
   ],
   "source": [
    "len(df.filter(pl.col('subreddit') == 'DemocraticSocialism'))"
   ]
  },
  {
   "cell_type": "code",
   "execution_count": null,
   "id": "e703de8c-b4a3-459f-9710-a176ed780202",
   "metadata": {},
   "outputs": [],
   "source": []
  },
  {
   "cell_type": "code",
   "execution_count": 3,
   "id": "0c7f54ab-cd7d-460f-ae0f-3cd5f221584d",
   "metadata": {},
   "outputs": [],
   "source": [
    "df = pl.read_csv('/users/ujan/sports-language-in-politics/data/processed/sports_sample.csv').drop_nulls()"
   ]
  },
  {
   "cell_type": "code",
   "execution_count": 4,
   "id": "0ff267c2-7cfb-476d-86ff-5ab86a8d7f71",
   "metadata": {
    "scrolled": true
   },
   "outputs": [
    {
     "data": {
      "text/plain": [
       "['DallasStars',\n",
       " 'kings',\n",
       " 'Seahawks',\n",
       " 'Chargers',\n",
       " '49ers',\n",
       " 'Browns',\n",
       " 'canucks',\n",
       " 'mlb',\n",
       " 'FloridaPanthers',\n",
       " 'buccos',\n",
       " 'warriors',\n",
       " 'rbny',\n",
       " 'NewYorkIslanders',\n",
       " 'rangers',\n",
       " 'minnesotaunited',\n",
       " 'NewYorkMets',\n",
       " 'UtahJazz',\n",
       " 'whitecapsfc',\n",
       " 'TexasRangers',\n",
       " 'hockey',\n",
       " 'penguins',\n",
       " 'AnaheimDucks',\n",
       " 'angelsbaseball',\n",
       " 'leafs',\n",
       " 'nhl',\n",
       " 'NYYankees',\n",
       " 'GoNets',\n",
       " 'ripcity',\n",
       " 'LAGalaxy',\n",
       " 'devils',\n",
       " 'DetroitPistons',\n",
       " 'Mariners',\n",
       " 'fcdallas',\n",
       " 'AustinFC',\n",
       " 'denvernuggets',\n",
       " 'DenverBroncos',\n",
       " 'canes',\n",
       " 'falcons',\n",
       " 'ColoradoAvalanche',\n",
       " 'Habs',\n",
       " 'Jaguars',\n",
       " 'CharlotteFootballClub',\n",
       " 'cowboys',\n",
       " 'Braves',\n",
       " 'wildhockey',\n",
       " 'tfc',\n",
       " 'SanJoseSharks',\n",
       " 'NOLAPelicans',\n",
       " 'ColoradoRockies',\n",
       " 'OaklandAthletics',\n",
       " 'Reds',\n",
       " 'Tennesseetitans',\n",
       " 'hawks',\n",
       " 'Predators',\n",
       " 'Basketball',\n",
       " 'redsox',\n",
       " 'detroitlions',\n",
       " 'phillies',\n",
       " 'NYCFC',\n",
       " 'LAClippers',\n",
       " 'minnesotavikings',\n",
       " 'caps',\n",
       " 'football',\n",
       " 'whitesox',\n",
       " 'Padres',\n",
       " 'LosAngelesRams',\n",
       " 'chicagobulls',\n",
       " 'clevelandcavs',\n",
       " 'losangeleskings',\n",
       " 'BlueJackets',\n",
       " 'tampabayrays',\n",
       " 'CHIBears',\n",
       " 'Cardinals',\n",
       " 'dynamo',\n",
       " 'Nationals',\n",
       " 'CHICubs',\n",
       " 'EdmontonOilers',\n",
       " 'motorcitykitties',\n",
       " 'montrealimpact',\n",
       " 'panthers',\n",
       " 'Patriots',\n",
       " 'pacers',\n",
       " 'Dodgers',\n",
       " 'KansasCityChiefs',\n",
       " 'TampaBayLightning',\n",
       " 'rockets',\n",
       " 'DetroitRedWings',\n",
       " 'MLS',\n",
       " 'Brewers',\n",
       " 'winnipegjets',\n",
       " 'TheMassive',\n",
       " 'LAFC',\n",
       " 'newenglandrevolution',\n",
       " 'SJEarthquakes',\n",
       " 'timbers',\n",
       " 'SportingKC',\n",
       " 'sabres',\n",
       " 'nfl',\n",
       " 'DCUnited',\n",
       " 'miamidolphins',\n",
       " 'AtlantaUnited',\n",
       " 'BostonBruins',\n",
       " 'Torontobluejays',\n",
       " 'CalgaryFlames',\n",
       " 'NashvilleSC',\n",
       " 'lakers',\n",
       " 'timberwolves',\n",
       " 'stlouisblues',\n",
       " 'heat',\n",
       " 'Flyers',\n",
       " 'bostonceltics',\n",
       " 'AZCardinals',\n",
       " 'KCRoyals',\n",
       " 'washingtonwizards',\n",
       " 'minnesotatwins',\n",
       " 'Thunder',\n",
       " 'NYKnicks',\n",
       " 'Rapids',\n",
       " 'Commanders',\n",
       " 'SFGiants',\n",
       " 'torontoraptors',\n",
       " 'Mavericks',\n",
       " 'eagles',\n",
       " 'Coyotes',\n",
       " 'Texans',\n",
       " 'nyjets',\n",
       " 'goldenknights',\n",
       " 'raiders',\n",
       " 'OttawaSenators',\n",
       " 'memphisgrizzlies',\n",
       " 'buccaneers',\n",
       " 'orioles',\n",
       " 'MkeBucks',\n",
       " 'NYGiants',\n",
       " 'Saints',\n",
       " 'ClevelandGuardians',\n",
       " 'OCLions',\n",
       " 'Astros',\n",
       " 'buffalobills',\n",
       " 'AtlantaHawks',\n",
       " 'PhillyUnion',\n",
       " 'FCCincinnati',\n",
       " 'OrlandoMagic',\n",
       " 'CharlotteHornets',\n",
       " 'nba',\n",
       " 'azdiamondbacks',\n",
       " 'Colts',\n",
       " 'soccer',\n",
       " 'bengals',\n",
       " 'steelers',\n",
       " 'suns',\n",
       " 'baseball',\n",
       " 'SeattleKraken',\n",
       " 'SoundersFC',\n",
       " 'ravens',\n",
       " 'sixers',\n",
       " 'chicagofire',\n",
       " 'ReAlSaltLake',\n",
       " 'InterMiami']"
      ]
     },
     "execution_count": 4,
     "metadata": {},
     "output_type": "execute_result"
    }
   ],
   "source": [
    "df['subreddit'].unique().to_list()"
   ]
  },
  {
   "cell_type": "code",
   "execution_count": null,
   "id": "aae1b522-13a0-4124-8389-6bf06e0bbf77",
   "metadata": {},
   "outputs": [],
   "source": []
  }
 ],
 "metadata": {
  "kernelspec": {
   "display_name": "Python 3 (ipykernel)",
   "language": "python",
   "name": "python3"
  },
  "language_info": {
   "codemirror_mode": {
    "name": "ipython",
    "version": 3
   },
   "file_extension": ".py",
   "mimetype": "text/x-python",
   "name": "python",
   "nbconvert_exporter": "python",
   "pygments_lexer": "ipython3",
   "version": "3.10.4"
  }
 },
 "nbformat": 4,
 "nbformat_minor": 5
}
