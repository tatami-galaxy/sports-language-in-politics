{
 "cells": [
  {
   "cell_type": "code",
   "execution_count": 1,
   "id": "1fb75056-88b5-4660-a2bf-9c9495ca91f4",
   "metadata": {},
   "outputs": [],
   "source": [
    "import re\n",
    "import glob\n",
    "from tqdm.auto import tqdm"
   ]
  },
  {
   "cell_type": "raw",
   "id": "2f5f3959-6d7e-4ef2-9d0d-7a26ad2792e6",
   "metadata": {},
   "source": [
    "sports_words_100 = [\"athlete\", \"team\", \"game\", \"match\", \"competition\", \"tournament\", \"score\", \"goal\", \"victory\", \"defeat\", \"champion\", \"coach\", \"training\", \"practice\", \"fitness\", \"exercise\", \"athlete's foot\", \"jersey\", \"equipment\", \"ball\", \"stadium\", \"arena\", \"court\", \"field\", \"pitch\", \"track\", \"race\", \"league\", \"referee\", \"umpire\", \"halftime\", \"overtime\", \"sportsmanship\", \"fans\", \"spectators\", \"cheerleader\", \"medal\", \"trophy\", \"record\", \"athleticism\", \"championship\", \"drills\", \"injury\", \"recovery\", \"strategy\", \"playbook\", \"sponsorship\", \"endorsement\", \"contract\", \"merchandise\", \"dribble\", \"pass\", \"shoot\", \"tackle\", \"defense\", \"offense\", \"goalkeeper\", \"striker\", \"forward\", \"midfielder\", \"defender\", \"captain\", \"substitute\", \"free throw\", \"penalty\", \"corner kick\", \"serve\", \"volley\", \"forehand\", \"backhand\", \"putt\", \"swing\", \"lap\", \"finish line\", \"sprint\", \"marathon\", \"half-court\", \"full-court\", \"par\", \"birdie\", \"eagle\", \"ace\", \"serve-and-volley\", \"back-to-back\", \"hat-trick\", \"grand slam\", \"double fault\", \"fast break\", \"home run\", \"touchdown\", \"penalty kick\", \"knockout\", \"decision\", \"TKO\", \"pinfall\", \"submission\", \"overtime goal\", \"golden goal\"]"
   ]
  },
  {
   "cell_type": "code",
   "execution_count": 2,
   "id": "f46a9a26-b75f-4d0a-ae06-db4aed9ce192",
   "metadata": {},
   "outputs": [],
   "source": [
    "sports = [\"Football\", \"Soccer\", \"Basketball\", \"Cricket\", \"Tennis\", \"Golf\", \"Rugby\", \"Baseball\", \"American Football\", \"Hockey\", \"Athletics\", \"Boxing\", \"Martial Arts\", \"Cycling\", \"Swimming\", \"Table Tennis\", \"Volleyball\", \"Wrestling\", \"Skiing\", \"Snowboarding\", \"Surfing\", \"Gymnastics\", \"Badminton\", \"Formula 1\", \"Horse Racing\", \"Sailing\", \"Archery\", \"Canoeing\", \"Equestrian\", \"Fencing\", \"Handball\", \"Judo\", \"Karate\", \"Rowing\", \"Squash\", \"Taekwondo\", \"Triathlon\", \"Weightlifting\", \"Bobsleigh\", \"Bouldering\", \"Curling\", \"Darts\", \"Esports\", \"Field Hockey\", \"Ice Skating\", \"Lacrosse\", \"Polo\", \"Skateboarding\", \"Snooker\", \"Softball\", \"Water Polo\"]\n",
    "sports_orgs = [\"ESPN\", \"BBC Sport\", \"Bleacher Report\", \"Sports Illustrated\", \"Sky Sports\", \"Fox Sports\", \"CBS Sports\", \"Yahoo Sports\", \"NBC Sports\", \"The Athletic\", \"ESPNcricinfo\", \"Eurosport\", \"SB Nation\", \"Deadspin\", \"The Score\", \"The Guardian Sport\", \"FourFourTwo\", \"Goal.com\", \"The Ringer\", \"Sporting News\", \"Athletic Bilbao\", \"The Independent Sport\", \"Sportsnet\", \"Talksport\", \"ESPN FC\", \"USA Today Sports\", \"MLB.com\", \"NFL.com\", \"NBA.com\", \"NHL.com\", \"PGA Tour\", \"Tennis.com\", \"Cyclingnews\", \"World Rugby\", \"UFC News\", \"Boxing Scene\", \"FloWrestling\", \"Runner's World\", \"F1.com\", \"Olympic Channel\", \"NBC Olympics\", \"Surfer Magazine\", \"Transworld Skateboarding\", \"Golf Digest\", \"PokerNews\", \"International Gymnast\", \"Swimming World\", \"Track and Field News\", \"Badminton World Federation\"]\n",
    "#sports_words = [\"athlete\", \"sports\", \"sport\", \"team\", \"game\", \"match\", \"competition\", \"tournament\", \"score\", \"goal\", \"victory\", \"defeat\", \"champion\", \"coach\", \"training\", \"practice\", \"fitness\", \"exercise\", \"athlete's foot\", \"jersey\", \"equipment\", \"ball\", \"stadium\", \"arena\", \"field\", \"pitch\", \"race\", \"league\", \"referee\", \"umpire\", \"halftime\", \"overtime\", \"sportsmanship\", \"spectators\", \"cheerleader\", \"medal\", \"trophy\", \"athleticism\", \"championship\", \"drills\", \"injury\", \"recovery\", \"strategy\", \"playbook\", \"endorsement\", \"contract\", \"merchandise\"]"
   ]
  },
  {
   "cell_type": "code",
   "execution_count": 3,
   "id": "c730f6d0-c29c-4ed0-b09a-0a0a99a41f32",
   "metadata": {},
   "outputs": [],
   "source": [
    "all_sports = sports + sports_orgs # + sports_words\n",
    "all_sports = [sport.lower() for sport in all_sports]"
   ]
  },
  {
   "cell_type": "code",
   "execution_count": 4,
   "id": "d174c9d9-cd98-4018-9008-5d9b4d25990c",
   "metadata": {},
   "outputs": [],
   "source": [
    "files = []\n",
    "for filename in glob.iglob('/users/ujan/sports-language-in-politics/data/raw/now_2022/'+'**/*.txt', recursive=True):\n",
    "    files.append(filename)"
   ]
  },
  {
   "cell_type": "code",
   "execution_count": 5,
   "id": "10a6a85e-26e0-4855-b21e-c2e80d1ee9c9",
   "metadata": {},
   "outputs": [],
   "source": [
    "months = ['0'+str(i) for i in range(1, 10)]\n",
    "months.extend(['11', '12'])"
   ]
  },
  {
   "cell_type": "code",
   "execution_count": null,
   "id": "3756961a-9503-4284-be09-e2bee31ece39",
   "metadata": {},
   "outputs": [
    {
     "data": {
      "application/vnd.jupyter.widget-view+json": {
       "model_id": "426b4202ca4a4efc93afd9cdf21cd2b5",
       "version_major": 2,
       "version_minor": 0
      },
      "text/plain": [
       "  0%|          | 0/12 [00:00<?, ?it/s]"
      ]
     },
     "metadata": {},
     "output_type": "display_data"
    },
    {
     "data": {
      "application/vnd.jupyter.widget-view+json": {
       "model_id": "03ef8f04978e44e4bf4cbc12ccff7b3e",
       "version_major": 2,
       "version_minor": 0
      },
      "text/plain": [
       "  0%|          | 0/24 [00:00<?, ?it/s]"
      ]
     },
     "metadata": {},
     "output_type": "display_data"
    }
   ],
   "source": [
    "sample_limit = 50000\n",
    "sports_samples = []\n",
    "non_sports_samples = []\n",
    "bar = tqdm(range(12), position=0)\n",
    "# for each month\n",
    "for month in months:\n",
    "    \n",
    "    data_files = []\n",
    "    source_file = None\n",
    "    # for each month get all data files and source file\n",
    "    for file in files:\n",
    "        if 'now-22-'+month in file:\n",
    "            if 'sources' not in file:\n",
    "                data_files.append(file)\n",
    "            else:\n",
    "                source_file = file\n",
    "    # filenames extracted for each month\n",
    "    # now get data from the files\n",
    "    data = []\n",
    "    sources = []\n",
    "    # get source file data for the month\n",
    "    with open(source_file, errors='replace') as f:\n",
    "        for line in f:\n",
    "            sources.append(line)\n",
    "    # get source ids\n",
    "    # source_id : source link\n",
    "    source_ids = [int(source.split('\\t')[0]) for source in sources]\n",
    "    source_dict = {source_ids[i]: sources[i] for i in range(len(sources))}\n",
    "    # get data for each data file for the month\n",
    "    month_bar = tqdm(range(len(data_files)), position=1)\n",
    "    for file in data_files:\n",
    "        with open(file) as f:\n",
    "            for line in f:\n",
    "                data.append(line)\n",
    "        # first line is empty\n",
    "        data = data[1:]\n",
    "        # get data ids\n",
    "        # data_id : data\n",
    "        new_data = []\n",
    "        data_ids = []\n",
    "        for d in data:\n",
    "            if len(d.split()) < 2:\n",
    "                continue\n",
    "            if not d.split()[0][2:].isdigit():\n",
    "                continue\n",
    "            data_ids.append(int(d.split()[0][2:]))\n",
    "            new_data.append(' '.join(d.split()[1:]))\n",
    "        data_dict = {data_ids[i]: new_data[i] for i in range(len(new_data))}\n",
    "        for id in data_ids:\n",
    "            sample = data_dict[id]\n",
    "            if id in source_dict:\n",
    "                source = source_dict[id]\n",
    "                matches = set(re.findall(r\"(?=(\"+'|'.join(all_sports)+r\"))\", source_dict[id]))\n",
    "                if len(matches) == 0:\n",
    "                    non_sports_samples.append(sample)\n",
    "                else:\n",
    "                    sports_samples.append(sample)\n",
    "        month_bar.update(1)\n",
    "\n",
    "    month_bar.refresh()\n",
    "    month_bar.reset()\n",
    "    bar.update(1)\n",
    "    if len(sports_samples) > sample_limit and len(non_sports_samples) > sample_limit:\n",
    "        print('sample limit reached')\n",
    "        break"
   ]
  },
  {
   "cell_type": "code",
   "execution_count": null,
   "id": "152f4c4f-c8fc-4f21-9186-994d523711fa",
   "metadata": {},
   "outputs": [],
   "source": [
    "bar = tqdm(range(len(sports_samples)), position=0)\n",
    "sports_samples_clean = []\n",
    "for sample in sports_samples:\n",
    "    clean_sample = re.sub(r\"[^a-zA-Z0-9]+\", ' ', sample).lower()\n",
    "    sports_samples_clean.append(clean_sample)\n",
    "    bar.update(1)"
   ]
  },
  {
   "cell_type": "code",
   "execution_count": null,
   "id": "5d81cc40-eb6d-4410-bd7f-cde46191a36c",
   "metadata": {},
   "outputs": [],
   "source": [
    "bar = tqdm(range(len(non_sports_samples)), position=0)\n",
    "non_sports_samples_clean = []\n",
    "for sample in non_sports_samples:\n",
    "    clean_sample = re.sub(r\"[^a-zA-Z0-9]+\", ' ', sample).lower()\n",
    "    non_sports_samples_clean.append(clean_sample)\n",
    "    bar.update(1)"
   ]
  },
  {
   "cell_type": "code",
   "execution_count": null,
   "id": "380b890e-7e00-4244-9908-eafac74b4298",
   "metadata": {},
   "outputs": [],
   "source": []
  }
 ],
 "metadata": {
  "kernelspec": {
   "display_name": "Python 3 (ipykernel)",
   "language": "python",
   "name": "python3"
  },
  "language_info": {
   "codemirror_mode": {
    "name": "ipython",
    "version": 3
   },
   "file_extension": ".py",
   "mimetype": "text/x-python",
   "name": "python",
   "nbconvert_exporter": "python",
   "pygments_lexer": "ipython3",
   "version": "3.10.4"
  }
 },
 "nbformat": 4,
 "nbformat_minor": 5
}
