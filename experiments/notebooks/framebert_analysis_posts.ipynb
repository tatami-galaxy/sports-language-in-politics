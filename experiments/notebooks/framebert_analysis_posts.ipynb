{
 "cells": [
  {
   "cell_type": "code",
   "execution_count": 6,
   "id": "03d66c6b-d631-49d7-bea0-82b4e2d4ea63",
   "metadata": {},
   "outputs": [],
   "source": [
    "import json\n",
    "import polars as pl\n",
    "import re"
   ]
  },
  {
   "cell_type": "code",
   "execution_count": 7,
   "id": "c952a007-f194-4aee-8b59-4ae94d244e72",
   "metadata": {},
   "outputs": [],
   "source": [
    "data_dir = '/Volumes/PortableSSD/CSS/data/processed/'"
   ]
  },
  {
   "cell_type": "markdown",
   "id": "a9d6d7dc-fc2d-4ec0-bdde-26752d5a9b5c",
   "metadata": {},
   "source": [
    "#### Get metaphor matched posts through FrameBERT"
   ]
  },
  {
   "cell_type": "code",
   "execution_count": 8,
   "id": "e4d6e00c-c05b-40b2-ba13-03e95aa79a03",
   "metadata": {},
   "outputs": [],
   "source": [
    "data_df = pl.read_csv(data_dir+'posts_2015-21_ps_min_2c_politics.csv')\n",
    "with open(data_dir+'post_cluster_matches_5.json') as f:\n",
    "    data = json.load(f)"
   ]
  },
  {
   "cell_type": "markdown",
   "id": "e6667242-a4d2-42e1-9de9-91d24d89103b",
   "metadata": {},
   "source": [
    "##### load metaphors. get all unigram metaphors"
   ]
  },
  {
   "cell_type": "code",
   "execution_count": 9,
   "id": "8944a900-3c53-44f8-89ce-25823374b090",
   "metadata": {},
   "outputs": [],
   "source": [
    "NO_META_LIST = ['out', 'up', 'tip', 'check']"
   ]
  },
  {
   "cell_type": "code",
   "execution_count": 10,
   "id": "58094969-0b60-4eca-8be4-e803b434167e",
   "metadata": {},
   "outputs": [
    {
     "name": "stdout",
     "output_type": "stream",
     "text": [
      "filtering metaphors\n"
     ]
    }
   ],
   "source": [
    "with open(data_dir+'meta_dict_full.json', 'r') as fp:\n",
    "        data = json.load(fp)\n",
    "meta_list = []\n",
    "for key, values in data.items():\n",
    "    meta_list.extend(values)\n",
    "# remove duplicates\n",
    "meta_list = list(set(meta_list))\n",
    "# filter metaphors\n",
    "print('filtering metaphors')\n",
    "meta_list = [meta.replace(\"'\", '') for meta in meta_list]\n",
    "meta_list = [re.sub(r\"[^a-zA-Z0-9]+\", ' ', meta).lower() for meta in meta_list]\n",
    "meta_list = [m for m in meta_list if m not in NO_META_LIST]"
   ]
  },
  {
   "cell_type": "code",
   "execution_count": 16,
   "id": "6f172b60-fac9-432d-be13-b02c54b69b52",
   "metadata": {},
   "outputs": [],
   "source": [
    "uni_metas = []\n",
    "\n",
    "for meta in meta_list:\n",
    "    if len(meta.split()) == 1:\n",
    "        uni_metas.append(meta)"
   ]
  },
  {
   "cell_type": "code",
   "execution_count": null,
   "id": "e1340752-1861-4892-98eb-bd80af914303",
   "metadata": {},
   "outputs": [],
   "source": []
  },
  {
   "cell_type": "markdown",
   "id": "179c40f4-ee84-4369-b4ed-c6ca74187cb3",
   "metadata": {},
   "source": [
    "##### After running throught FrameBERT"
   ]
  },
  {
   "cell_type": "code",
   "execution_count": 228,
   "id": "75c4d6eb-5714-478a-a7f5-8db7b104fb1a",
   "metadata": {},
   "outputs": [],
   "source": [
    "meta_res_df = pl.read_csv('/users/ujan/MetaphorFrame/2017-02-14_53_predictions.tsv', separator='\\t')"
   ]
  },
  {
   "cell_type": "code",
   "execution_count": 229,
   "id": "f73e279a-7e55-4729-a9f4-a5e7d9b964ce",
   "metadata": {},
   "outputs": [
    {
     "data": {
      "text/html": [
       "<div><style>\n",
       ".dataframe > thead > tr,\n",
       ".dataframe > tbody > tr {\n",
       "  text-align: right;\n",
       "  white-space: pre-wrap;\n",
       "}\n",
       "</style>\n",
       "<small>shape: (11, 4)</small><table border=\"1\" class=\"dataframe\"><thead><tr><th>Tokens</th><th>Borderline_metaphor</th><th>Real_metaphors</th><th>Frame_label</th></tr><tr><td>str</td><td>i64</td><td>i64</td><td>str</td></tr></thead><tbody><tr><td>&quot;donald&quot;</td><td>0</td><td>0</td><td>&quot;_&quot;</td></tr><tr><td>&quot;trump&quot;</td><td>0</td><td>0</td><td>&quot;_&quot;</td></tr><tr><td>&quot;ally&quot;</td><td>0</td><td>0</td><td>&quot;Personal_relat…</td></tr><tr><td>&quot;says&quot;</td><td>0</td><td>0</td><td>&quot;Statement&quot;</td></tr><tr><td>&quot;reince&quot;</td><td>0</td><td>0</td><td>&quot;_&quot;</td></tr><tr><td>&hellip;</td><td>&hellip;</td><td>&hellip;</td><td>&hellip;</td></tr><tr><td>&quot;in&quot;</td><td>1</td><td>0</td><td>&quot;_&quot;</td></tr><tr><td>&quot;over&quot;</td><td>1</td><td>0</td><td>&quot;_&quot;</td></tr><tr><td>&quot;his&quot;</td><td>0</td><td>0</td><td>&quot;_&quot;</td></tr><tr><td>&quot;head&quot;</td><td>1</td><td>0</td><td>&quot;Body_parts&quot;</td></tr><tr><td>&quot;.&quot;</td><td>0</td><td>0</td><td>&quot;_&quot;</td></tr></tbody></table></div>"
      ],
      "text/plain": [
       "shape: (11, 4)\n",
       "┌────────┬─────────────────────┬────────────────┬───────────────────────┐\n",
       "│ Tokens ┆ Borderline_metaphor ┆ Real_metaphors ┆ Frame_label           │\n",
       "│ ---    ┆ ---                 ┆ ---            ┆ ---                   │\n",
       "│ str    ┆ i64                 ┆ i64            ┆ str                   │\n",
       "╞════════╪═════════════════════╪════════════════╪═══════════════════════╡\n",
       "│ donald ┆ 0                   ┆ 0              ┆ _                     │\n",
       "│ trump  ┆ 0                   ┆ 0              ┆ _                     │\n",
       "│ ally   ┆ 0                   ┆ 0              ┆ Personal_relationship │\n",
       "│ says   ┆ 0                   ┆ 0              ┆ Statement             │\n",
       "│ reince ┆ 0                   ┆ 0              ┆ _                     │\n",
       "│ …      ┆ …                   ┆ …              ┆ …                     │\n",
       "│ in     ┆ 1                   ┆ 0              ┆ _                     │\n",
       "│ over   ┆ 1                   ┆ 0              ┆ _                     │\n",
       "│ his    ┆ 0                   ┆ 0              ┆ _                     │\n",
       "│ head   ┆ 1                   ┆ 0              ┆ Body_parts            │\n",
       "│ .      ┆ 0                   ┆ 0              ┆ _                     │\n",
       "└────────┴─────────────────────┴────────────────┴───────────────────────┘"
      ]
     },
     "execution_count": 229,
     "metadata": {},
     "output_type": "execute_result"
    }
   ],
   "source": [
    "meta_res_df.drop_nulls().head(20)"
   ]
  },
  {
   "cell_type": "code",
   "execution_count": 230,
   "id": "e5f478a5-5635-4fbe-94c4-0b8eaaee2ff1",
   "metadata": {},
   "outputs": [],
   "source": [
    "meta_res_df = meta_res_df.drop_nulls()"
   ]
  },
  {
   "cell_type": "code",
   "execution_count": 231,
   "id": "cb06ebce-00c2-4453-aa62-2fb8929dbb37",
   "metadata": {},
   "outputs": [
    {
     "data": {
      "text/plain": [
       "11"
      ]
     },
     "execution_count": 231,
     "metadata": {},
     "output_type": "execute_result"
    }
   ],
   "source": [
    "len(meta_res_df)"
   ]
  },
  {
   "cell_type": "markdown",
   "id": "50193388-61f4-41fc-a47c-890e313bd6dd",
   "metadata": {},
   "source": [
    "##### Get FrameBERT metaphor matches (true positives)"
   ]
  },
  {
   "cell_type": "code",
   "execution_count": 232,
   "id": "930a3b6c-b2a5-4bb0-9763-15d6408ba05e",
   "metadata": {
    "scrolled": true
   },
   "outputs": [],
   "source": [
    "tokens = meta_res_df['Tokens'].to_list()\n",
    "metas = meta_res_df['Real_metaphors'].to_list()\n",
    "frames = meta_res_df['Frame_label'].to_list()"
   ]
  },
  {
   "cell_type": "code",
   "execution_count": 233,
   "id": "3bf23fee-70a1-43c3-bd7e-eccdb6b04199",
   "metadata": {},
   "outputs": [],
   "source": [
    "sent = []\n",
    "meta_words = []\n",
    "frame_labels = []\n",
    "data = []\n",
    "\n",
    "for t in range(len(tokens)):\n",
    "    if tokens[t] is None:\n",
    "        continue\n",
    "    sent.append(tokens[t])\n",
    "    if metas[t] == 1 and tokens[t] in uni_metas:\n",
    "        meta_words.append(tokens[t])\n",
    "        frame_labels.append(frames[t])\n",
    "    if(tokens[t] =='.'):\n",
    "        if len(sent) > 0 and len(meta_words) > 0:\n",
    "            data.append((' '.join(sent), meta_words, frame_labels))\n",
    "        sent = []\n",
    "        meta_words = []\n",
    "        frame_labels = []"
   ]
  },
  {
   "cell_type": "code",
   "execution_count": 234,
   "id": "b98eedf2-e561-4b37-a597-c1dcd54e1a71",
   "metadata": {},
   "outputs": [
    {
     "data": {
      "text/plain": [
       "0"
      ]
     },
     "execution_count": 234,
     "metadata": {},
     "output_type": "execute_result"
    }
   ],
   "source": [
    "len(data)"
   ]
  },
  {
   "cell_type": "code",
   "execution_count": 159,
   "id": "bafbb18b-ed9b-4b5d-af2b-3c2da8afd215",
   "metadata": {},
   "outputs": [
    {
     "data": {
      "text/plain": [
       "('jeb bush 3 days 4 different answers about iraq .', ['bush'], ['_'])"
      ]
     },
     "execution_count": 159,
     "metadata": {},
     "output_type": "execute_result"
    }
   ],
   "source": [
    "# 2015-05-16_17\n",
    "\n",
    "data[0]"
   ]
  },
  {
   "cell_type": "code",
   "execution_count": 44,
   "id": "7a3cc4ea-abb2-4e41-b35f-19b7ec7ac50e",
   "metadata": {},
   "outputs": [
    {
     "data": {
      "text/plain": [
       "('undiginified bush camp and other neocon oriented gop presidential contenders are now belly crawling before crass and kitsch zionist casino billionaire sheldon adelson in the hope hell throw some gambling business proceeds their way .',\n",
       " ['bush'],\n",
       " ['_'])"
      ]
     },
     "execution_count": 44,
     "metadata": {},
     "output_type": "execute_result"
    }
   ],
   "source": [
    "# 2015-05-16_14\n",
    "\n",
    "data[0]"
   ]
  },
  {
   "cell_type": "code",
   "execution_count": 206,
   "id": "24f4f333-90c3-40f7-9743-4f3c5df98089",
   "metadata": {},
   "outputs": [
    {
     "data": {
      "text/plain": [
       "('reince priebus staging a coup against general flynn standwithflynn .',\n",
       " ['coup'],\n",
       " ['Change_of_leadership'])"
      ]
     },
     "execution_count": 206,
     "metadata": {},
     "output_type": "execute_result"
    }
   ],
   "source": [
    "# 2017-02-14_30\n",
    "\n",
    "data[0]"
   ]
  },
  {
   "cell_type": "code",
   "execution_count": null,
   "id": "8c29de93-1288-4bf3-b973-cca75bfb6f54",
   "metadata": {},
   "outputs": [],
   "source": []
  },
  {
   "cell_type": "markdown",
   "id": "70ad5182-e943-4129-bfa5-1d6a125062d7",
   "metadata": {},
   "source": [
    "##### Get FrameBERT non metaphor matches (false positives)"
   ]
  },
  {
   "cell_type": "code",
   "execution_count": 235,
   "id": "e97ec408-7985-4236-92e6-2f00706fbbe6",
   "metadata": {},
   "outputs": [],
   "source": [
    "sent = []\n",
    "meta_words = []\n",
    "frame_labels = []\n",
    "data = []\n",
    "\n",
    "for t in range(len(tokens)):\n",
    "    if tokens[t] is None:\n",
    "        continue\n",
    "    sent.append(tokens[t])\n",
    "    if metas[t] == 0 and tokens[t] in uni_metas:\n",
    "        meta_words.append(tokens[t])\n",
    "        frame_labels.append(frames[t])\n",
    "    if(tokens[t] =='.'):\n",
    "        if len(sent) > 0 and len(meta_words) > 0:\n",
    "            data.append((' '.join(sent), meta_words, frame_labels))\n",
    "        sent = []\n",
    "        meta_words = []\n",
    "        frame_labels = []"
   ]
  },
  {
   "cell_type": "code",
   "execution_count": 236,
   "id": "5b9b8eb9-64e6-4097-9d7a-af5a6de77e65",
   "metadata": {},
   "outputs": [
    {
     "data": {
      "text/plain": [
       "0"
      ]
     },
     "execution_count": 236,
     "metadata": {},
     "output_type": "execute_result"
    }
   ],
   "source": [
    "len(data)"
   ]
  },
  {
   "cell_type": "code",
   "execution_count": 69,
   "id": "9d1bdd8f-5a13-433d-8593-fe777b2271f2",
   "metadata": {},
   "outputs": [
    {
     "data": {
      "text/plain": [
       "('after jeb bush flap a look at hillarys troubled iraq war history .',\n",
       " ['bush'],\n",
       " ['_'])"
      ]
     },
     "execution_count": 69,
     "metadata": {},
     "output_type": "execute_result"
    }
   ],
   "source": [
    "# 2015-05-16_24\n",
    "\n",
    "data[0]"
   ]
  },
  {
   "cell_type": "code",
   "execution_count": 79,
   "id": "4eafc7d3-becb-4d5e-a5cd-2d1b8beda175",
   "metadata": {},
   "outputs": [
    {
     "data": {
      "text/plain": [
       "('ivy ziedrich college student warms to role as jeb bush critic on isis .',\n",
       " ['bush'],\n",
       " ['_'])"
      ]
     },
     "execution_count": 79,
     "metadata": {},
     "output_type": "execute_result"
    }
   ],
   "source": [
    "2015-05-16_31\n",
    "\n",
    "data[0]"
   ]
  },
  {
   "cell_type": "code",
   "execution_count": 80,
   "id": "ebc774a9-7561-44ad-9995-cfd1f0fe6dd6",
   "metadata": {},
   "outputs": [
    {
     "data": {
      "text/plain": [
       "('student who told jeb bush your brother created isis speaks out about incident ivy ziedrich challenged the likely presidential candidate after he blamed the militant group s formation on barack obama for withdrawing troops from iraq .',\n",
       " ['bush'],\n",
       " ['_'])"
      ]
     },
     "execution_count": 80,
     "metadata": {},
     "output_type": "execute_result"
    }
   ],
   "source": [
    "2015-05-16_31\n",
    "\n",
    "data[1]"
   ]
  },
  {
   "cell_type": "code",
   "execution_count": 122,
   "id": "c2002934-3ad4-46c9-85ba-4dfb3a6fdafb",
   "metadata": {},
   "outputs": [
    {
     "data": {
      "text/plain": [
       "('rt michaelkeyes freakin nfl built stadium walls to keep fans that havnt paid for a ticket from entering the game notmysuperbowl ten gop .',\n",
       " ['game'],\n",
       " ['_'])"
      ]
     },
     "execution_count": 122,
     "metadata": {},
     "output_type": "execute_result"
    }
   ],
   "source": [
    "# 2017-02-04_158\n",
    "\n",
    "data[0]"
   ]
  },
  {
   "cell_type": "code",
   "execution_count": null,
   "id": "deaef508-9df3-41a0-8b4b-2bea4cd0c6f8",
   "metadata": {},
   "outputs": [],
   "source": []
  },
  {
   "cell_type": "code",
   "execution_count": null,
   "id": "22c6015f-bc40-4c29-a83d-422d62495e00",
   "metadata": {},
   "outputs": [],
   "source": []
  },
  {
   "cell_type": "code",
   "execution_count": null,
   "id": "21d3bf52-7fcc-497b-b61b-8143af8d6325",
   "metadata": {},
   "outputs": [],
   "source": []
  },
  {
   "cell_type": "markdown",
   "id": "8fa321bd-ae6a-44c2-987f-4c0e34df7d92",
   "metadata": {},
   "source": [
    "#### Running FrameBERT on non metaphor matched (our algo) samples"
   ]
  },
  {
   "cell_type": "code",
   "execution_count": 79,
   "id": "225e8a65-f04a-4ff8-a136-4748a5987be5",
   "metadata": {},
   "outputs": [],
   "source": [
    "data_df = pl.read_csv(data_dir+'politics_sample.csv')\n",
    "data_df = data_df.sample(fraction=1.0, shuffle=True, seed=42).drop_nulls()\n",
    "\n",
    "comments = [comment.replace(\"'\", '') for comment in data_df['body'].to_list()]\n",
    "comments = [re.sub(r\"[^a-zA-Z0-9]+\", ' ', comment).lower() for comment in comments]\n",
    "ids = data_df['id'].to_list()\n",
    "\n",
    "comments_long = []\n",
    "ids_long = []\n",
    "# filter by char \n",
    "for c in range(len(comments)):\n",
    "    if len(comments[c]) >= 150:\n",
    "        comments_long.append(comments[c])\n",
    "        ids_long.append(ids[c])\n",
    "\n",
    "comments = comments_long[:10000]\n",
    "ids = ids_long[:10000]"
   ]
  },
  {
   "cell_type": "code",
   "execution_count": 80,
   "id": "c5fa4ae9-d627-49db-a5e1-5eae2c052293",
   "metadata": {},
   "outputs": [],
   "source": [
    "data_df = data_df.filter(pl.col('id').is_in(ids))\n",
    "\n",
    "exact_ids = []\n",
    "for key, matches in exact_matches.items():\n",
    "    if len(matches[1]) > 0:\n",
    "        exact_ids.extend(matches[1])\n",
    "\n",
    "non_meta_list = data_df.filter(~pl.col('id').is_in(exact_ids))['body'].to_list()\n",
    "non_meta_list = non_meta_list[:1000]"
   ]
  },
  {
   "cell_type": "code",
   "execution_count": null,
   "id": "3de154d8-9e04-4203-a9dc-a688863cefc0",
   "metadata": {},
   "outputs": [],
   "source": []
  },
  {
   "cell_type": "markdown",
   "id": "9989c3d9-8065-4b11-9801-69c99eb9d31a",
   "metadata": {},
   "source": [
    "##### After running throught FrameBERT"
   ]
  },
  {
   "cell_type": "code",
   "execution_count": 112,
   "id": "fec0245b-dd6d-4772-8311-78b163c01e90",
   "metadata": {},
   "outputs": [
    {
     "data": {
      "text/html": [
       "<div><style>\n",
       ".dataframe > thead > tr,\n",
       ".dataframe > tbody > tr {\n",
       "  text-align: right;\n",
       "  white-space: pre-wrap;\n",
       "}\n",
       "</style>\n",
       "<small>shape: (5, 4)</small><table border=\"1\" class=\"dataframe\"><thead><tr><th>Tokens</th><th>Borderline_metaphor</th><th>Real_metaphors</th><th>Frame_label</th></tr><tr><td>str</td><td>i64</td><td>i64</td><td>str</td></tr></thead><tbody><tr><td>&quot;Yes&quot;</td><td>0</td><td>0</td><td>&quot;_&quot;</td></tr><tr><td>&quot;,&quot;</td><td>0</td><td>0</td><td>&quot;_&quot;</td></tr><tr><td>&quot;he&quot;</td><td>0</td><td>0</td><td>&quot;_&quot;</td></tr><tr><td>&quot;would&quot;</td><td>0</td><td>0</td><td>&quot;_&quot;</td></tr><tr><td>&quot;“&quot;</td><td>0</td><td>0</td><td>&quot;_&quot;</td></tr></tbody></table></div>"
      ],
      "text/plain": [
       "shape: (5, 4)\n",
       "┌────────┬─────────────────────┬────────────────┬─────────────┐\n",
       "│ Tokens ┆ Borderline_metaphor ┆ Real_metaphors ┆ Frame_label │\n",
       "│ ---    ┆ ---                 ┆ ---            ┆ ---         │\n",
       "│ str    ┆ i64                 ┆ i64            ┆ str         │\n",
       "╞════════╪═════════════════════╪════════════════╪═════════════╡\n",
       "│ Yes    ┆ 0                   ┆ 0              ┆ _           │\n",
       "│ ,      ┆ 0                   ┆ 0              ┆ _           │\n",
       "│ he     ┆ 0                   ┆ 0              ┆ _           │\n",
       "│ would  ┆ 0                   ┆ 0              ┆ _           │\n",
       "│ “      ┆ 0                   ┆ 0              ┆ _           │\n",
       "└────────┴─────────────────────┴────────────────┴─────────────┘"
      ]
     },
     "execution_count": 112,
     "metadata": {},
     "output_type": "execute_result"
    }
   ],
   "source": [
    "non_meta_res_df = pl.read_csv(data_dir+'non_meta_predictions.csv')\n",
    "non_meta_res_df.head()"
   ]
  },
  {
   "cell_type": "markdown",
   "id": "0b99bc8c-7dbb-45fe-8f52-81954d6a14bf",
   "metadata": {},
   "source": [
    "##### Get FrameBERT metaphor matches"
   ]
  },
  {
   "cell_type": "code",
   "execution_count": 113,
   "id": "f62d36f7-c8ac-4dca-9821-7ce11b5ddccf",
   "metadata": {},
   "outputs": [],
   "source": [
    "tokens = non_meta_res_df['Tokens'].to_list()\n",
    "metas = non_meta_res_df['Real_metaphors'].to_list()\n",
    "#metas = non_meta_res_df['Borderline_metaphor'].to_list()\n",
    "frames = non_meta_res_df['Frame_label'].to_list()"
   ]
  },
  {
   "cell_type": "code",
   "execution_count": 114,
   "id": "37b590be-b6c8-418b-9c5b-6b508cc740ab",
   "metadata": {},
   "outputs": [],
   "source": [
    "sent = []\n",
    "meta_words = []\n",
    "frame_labels = []\n",
    "data = []\n",
    "\n",
    "for t in range(len(tokens)):\n",
    "    if tokens[t] is None:\n",
    "        continue\n",
    "    sent.append(tokens[t])\n",
    "    if metas[t] == 1:\n",
    "        meta_words.append(tokens[t])\n",
    "        frame_labels.append(frames[t])\n",
    "    if(tokens[t] =='.'):\n",
    "        if len(sent) > 0 and len(meta_words) > 0:\n",
    "            data.append((' '.join(sent), meta_words, frame_labels))\n",
    "        sent = []\n",
    "        meta_words = []\n",
    "        frame_labels = []"
   ]
  },
  {
   "cell_type": "code",
   "execution_count": 118,
   "id": "f7e23aac-c530-4cb6-823a-7f47b9fde15a",
   "metadata": {},
   "outputs": [
    {
     "data": {
      "text/plain": [
       "('Yes , he would “ generally ” agree it impeded .', ['impeded'], ['Hindering'])"
      ]
     },
     "execution_count": 118,
     "metadata": {},
     "output_type": "execute_result"
    }
   ],
   "source": [
    "data[0]"
   ]
  },
  {
   "cell_type": "code",
   "execution_count": 119,
   "id": "c1ddce99-a0c4-4af2-807e-a42fa408be51",
   "metadata": {},
   "outputs": [
    {
     "data": {
      "text/plain": [
       "(\"Why ? Because you say so ? I 'll take the President and CEO of a multi-billion dollar company to handle classified material than a demented witch who has , on numerous occasions , mishandled classified material .\",\n",
       " ['witch'],\n",
       " ['_'])"
      ]
     },
     "execution_count": 119,
     "metadata": {},
     "output_type": "execute_result"
    }
   ],
   "source": [
    "data[1]"
   ]
  },
  {
   "cell_type": "code",
   "execution_count": 120,
   "id": "5a62fb5f-ba77-462d-ad11-bd14751f799b",
   "metadata": {},
   "outputs": [
    {
     "data": {
      "text/plain": [
       "('For the jobs that Lowes is laying off , there is another company taking on those jobs because the people at the store level are not doing them correctly .',\n",
       " ['level'],\n",
       " ['Rank'])"
      ]
     },
     "execution_count": 120,
     "metadata": {},
     "output_type": "execute_result"
    }
   ],
   "source": [
    "data[2]"
   ]
  },
  {
   "cell_type": "code",
   "execution_count": 121,
   "id": "bee29ffa-712b-4905-86ed-4518d82f5afe",
   "metadata": {},
   "outputs": [
    {
     "data": {
      "text/plain": [
       "(\"Does n't affect me personally , I am Canadian watching the US shit-show election from afar ... however the laws around impeachment in the US are very unclear .\",\n",
       " ['shit-show'],\n",
       " ['_'])"
      ]
     },
     "execution_count": 121,
     "metadata": {},
     "output_type": "execute_result"
    }
   ],
   "source": [
    "data[3]"
   ]
  },
  {
   "cell_type": "code",
   "execution_count": 122,
   "id": "f5355205-96fa-4564-991b-0c5f770faa52",
   "metadata": {},
   "outputs": [
    {
     "data": {
      "text/plain": [
       "(\"Server security is an issue but it 's being used to distract from the context of the emails .\",\n",
       " ['distract', 'context'],\n",
       " ['Protecting', '_'])"
      ]
     },
     "execution_count": 122,
     "metadata": {},
     "output_type": "execute_result"
    }
   ],
   "source": [
    "data[4]"
   ]
  },
  {
   "cell_type": "code",
   "execution_count": 123,
   "id": "03af1f76-9d27-4a54-89ca-585f9bffe4b5",
   "metadata": {},
   "outputs": [
    {
     "data": {
      "text/plain": [
       "(\"It 's easy to spin this to `` DNC hacked by Russia '' , and lose the original focus .\",\n",
       " ['spin'],\n",
       " ['_'])"
      ]
     },
     "execution_count": 123,
     "metadata": {},
     "output_type": "execute_result"
    }
   ],
   "source": [
    "data[5]"
   ]
  },
  {
   "cell_type": "code",
   "execution_count": 124,
   "id": "a4db85b0-b98b-4621-b599-708222c048db",
   "metadata": {},
   "outputs": [
    {
     "data": {
      "text/plain": [
       "('Another is a foreign government taking action for the purpose of disrupting another country for their benefit .',\n",
       " ['disrupting'],\n",
       " ['Hindering'])"
      ]
     },
     "execution_count": 124,
     "metadata": {},
     "output_type": "execute_result"
    }
   ],
   "source": [
    "data[6]"
   ]
  },
  {
   "cell_type": "code",
   "execution_count": 125,
   "id": "715329b1-5f16-4c91-ab51-f18949c8e442",
   "metadata": {},
   "outputs": [
    {
     "data": {
      "text/plain": [
       "(\"`` Next year China is going to release a virus way deadlier and it 's going to cripple America because only liberal pansies will be left .\",\n",
       " ['cripple'],\n",
       " ['Cause_harm'])"
      ]
     },
     "execution_count": 125,
     "metadata": {},
     "output_type": "execute_result"
    }
   ],
   "source": [
    "data[7]"
   ]
  },
  {
   "cell_type": "code",
   "execution_count": 126,
   "id": "65217967-e803-4a18-a3eb-a9e93176752e",
   "metadata": {},
   "outputs": [
    {
     "data": {
      "text/plain": [
       "('[ McConnell blocks democracy it every time it comes to him .',\n",
       " ['blocks'],\n",
       " ['_'])"
      ]
     },
     "execution_count": 126,
     "metadata": {},
     "output_type": "execute_result"
    }
   ],
   "source": [
    "data[8]"
   ]
  },
  {
   "cell_type": "code",
   "execution_count": 127,
   "id": "1c85efd1-3c9e-40e8-8c7f-6315b9b05843",
   "metadata": {},
   "outputs": [
    {
     "data": {
      "text/plain": [
       "(\"] ( https : //www.youtube.com/watch ? time_continue=1 & amp ; v=TfQij4aQq1k ) Anytime people start jabbering about `` receipts '' , I only think of Avenatti and how much confidence this sub had on him and `` he definitely has the receipts ! '' daily claim on here .\",\n",
       " ['claim'],\n",
       " ['Statement'])"
      ]
     },
     "execution_count": 127,
     "metadata": {},
     "output_type": "execute_result"
    }
   ],
   "source": [
    "data[9]"
   ]
  },
  {
   "cell_type": "code",
   "execution_count": 128,
   "id": "55c98e10-7f73-4cab-8196-987f2b92b9d8",
   "metadata": {},
   "outputs": [
    {
     "data": {
      "text/plain": [
       "('The deep state is real .', ['deep'], ['_'])"
      ]
     },
     "execution_count": 128,
     "metadata": {},
     "output_type": "execute_result"
    }
   ],
   "source": [
    "data[10]"
   ]
  },
  {
   "cell_type": "code",
   "execution_count": null,
   "id": "ebc4b608-f252-4a3b-ba99-8ff441d3dbec",
   "metadata": {},
   "outputs": [],
   "source": []
  }
 ],
 "metadata": {
  "kernelspec": {
   "display_name": "Python 3 (ipykernel)",
   "language": "python",
   "name": "python3"
  },
  "language_info": {
   "codemirror_mode": {
    "name": "ipython",
    "version": 3
   },
   "file_extension": ".py",
   "mimetype": "text/x-python",
   "name": "python",
   "nbconvert_exporter": "python",
   "pygments_lexer": "ipython3",
   "version": "3.12.2"
  }
 },
 "nbformat": 4,
 "nbformat_minor": 5
}
