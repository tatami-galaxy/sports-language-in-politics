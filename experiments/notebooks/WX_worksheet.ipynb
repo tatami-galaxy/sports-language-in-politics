{
 "cells": [
  {
   "cell_type": "markdown",
   "id": "97fe0654",
   "metadata": {},
   "source": [
    "# Using ChatGPT for research"
   ]
  },
  {
   "cell_type": "markdown",
   "id": "d54b8cf3",
   "metadata": {},
   "source": [
    "https://platform.openai.com/docs/quickstart?context=python"
   ]
  },
  {
   "cell_type": "code",
   "execution_count": 3,
   "id": "8336c3f5",
   "metadata": {},
   "outputs": [
    {
     "name": "stdout",
     "output_type": "stream",
     "text": [
      "Requirement already satisfied: openai in /Users/ar75463/anaconda3/lib/python3.11/site-packages (1.13.3)\n",
      "Requirement already satisfied: anyio<5,>=3.5.0 in /Users/ar75463/anaconda3/lib/python3.11/site-packages (from openai) (3.5.0)\n",
      "Requirement already satisfied: distro<2,>=1.7.0 in /Users/ar75463/anaconda3/lib/python3.11/site-packages (from openai) (1.9.0)\n",
      "Requirement already satisfied: httpx<1,>=0.23.0 in /Users/ar75463/anaconda3/lib/python3.11/site-packages (from openai) (0.27.0)\n",
      "Requirement already satisfied: pydantic<3,>=1.9.0 in /Users/ar75463/anaconda3/lib/python3.11/site-packages (from openai) (2.6.4)\n",
      "Requirement already satisfied: sniffio in /Users/ar75463/anaconda3/lib/python3.11/site-packages (from openai) (1.2.0)\n",
      "Requirement already satisfied: tqdm>4 in /Users/ar75463/anaconda3/lib/python3.11/site-packages (from openai) (4.65.0)\n",
      "Requirement already satisfied: typing-extensions<5,>=4.7 in /Users/ar75463/anaconda3/lib/python3.11/site-packages (from openai) (4.7.1)\n",
      "Requirement already satisfied: idna>=2.8 in /Users/ar75463/anaconda3/lib/python3.11/site-packages (from anyio<5,>=3.5.0->openai) (3.4)\n",
      "Requirement already satisfied: certifi in /Users/ar75463/anaconda3/lib/python3.11/site-packages (from httpx<1,>=0.23.0->openai) (2023.7.22)\n",
      "Requirement already satisfied: httpcore==1.* in /Users/ar75463/anaconda3/lib/python3.11/site-packages (from httpx<1,>=0.23.0->openai) (1.0.4)\n",
      "Requirement already satisfied: h11<0.15,>=0.13 in /Users/ar75463/anaconda3/lib/python3.11/site-packages (from httpcore==1.*->httpx<1,>=0.23.0->openai) (0.14.0)\n",
      "Requirement already satisfied: annotated-types>=0.4.0 in /Users/ar75463/anaconda3/lib/python3.11/site-packages (from pydantic<3,>=1.9.0->openai) (0.6.0)\n",
      "Requirement already satisfied: pydantic-core==2.16.3 in /Users/ar75463/anaconda3/lib/python3.11/site-packages (from pydantic<3,>=1.9.0->openai) (2.16.3)\n",
      "Note: you may need to restart the kernel to use updated packages.\n"
     ]
    }
   ],
   "source": [
    "pip install --upgrade openai"
   ]
  },
  {
   "cell_type": "code",
   "execution_count": 47,
   "id": "14dcc7cf",
   "metadata": {},
   "outputs": [
    {
     "data": {
      "text/html": [
       "<style>.container { width:100% !important; }</style>"
      ],
      "text/plain": [
       "<IPython.core.display.HTML object>"
      ]
     },
     "metadata": {},
     "output_type": "display_data"
    }
   ],
   "source": [
    "from openai import OpenAI\n",
    "import json\n",
    "import pandas as pd\n",
    "\n",
    "#stretches the jupyter notebook\n",
    "from IPython.display import display, HTML\n",
    "display(HTML(\"<style>.container { width:100% !important; }</style>\"))\n",
    "\n",
    "#shows the full column\n",
    "pd.set_option('display.max_colwidth', None)\n"
   ]
  },
  {
   "cell_type": "code",
   "execution_count": 2,
   "id": "ef0c884c",
   "metadata": {},
   "outputs": [],
   "source": [
    "MY_KEY=\"XYZ\""
   ]
  },
  {
   "cell_type": "code",
   "execution_count": 48,
   "id": "489d23f9",
   "metadata": {},
   "outputs": [],
   "source": [
    "client = OpenAI(api_key=MY_KEY)"
   ]
  },
  {
   "cell_type": "code",
   "execution_count": 39,
   "id": "c8315dd6",
   "metadata": {},
   "outputs": [],
   "source": [
    "titles = [\"\"\"CNN really going to bat for Biden in the aftermath of Dearborn protest vote\"\"\",\n",
    "          \"\"\"Biden vetoes two Republican-led bills to undo protections for prairie chicken and northern bat.\"\"\",\n",
    "          \"\"\"Putin’s Soccer Ball for Trump Had Transmitter Chip, Logo Indicates\"\"\",\n",
    "          \"\"\"Biden drops the ball, again\"\"\"]"
   ]
  },
  {
   "cell_type": "code",
   "execution_count": 49,
   "id": "3449c7cc",
   "metadata": {},
   "outputs": [],
   "source": [
    "response = client.chat.completions.create(\n",
    "  model=\"gpt-3.5-turbo\",\n",
    "  response_format={ \"type\": \"json_object\" },\n",
    "  seed=20,\n",
    "  temperature=1,\n",
    "  messages=[\n",
    "    {\n",
    "      \"role\": \"system\",\n",
    "      \"content\": \"\"\"You will be provided with a Reddit post title, and your task is to identify if the post contains a sports metaphor or not. Note that sports related words may be used in a nonmetaphorical way, do not label such cases as sports metaphors. If the text does contain a sports metaphor, identify the sports metaphor word or phrase and provide a max 10 word explanation. Provide the answer in a JSON format with the following keys, contains_sports_metaphor (true/false), sports_metaphor, explanation.\n",
    "            for example, x title does not contain a sports metaphor because xyz.\n",
    "            y title contains a sports metaphor because abc.\n",
    "        \"\"\"\n",
    "    },\n",
    "    {\n",
    "      \"role\": \"user\",\n",
    "      \"content\": \"\"\"CNN really going to bat for Biden in the aftermath of Dearborn protest vote\"\"\"\n",
    "    }\n",
    "  ],\n",
    ")"
   ]
  },
  {
   "cell_type": "code",
   "execution_count": null,
   "id": "421d3efe",
   "metadata": {},
   "outputs": [],
   "source": [
    "        for example, x title does not contain a sports metaphor because xyz.\n",
    "        y title contains a sports metaphor because abc."
   ]
  },
  {
   "cell_type": "code",
   "execution_count": 50,
   "id": "a3727704",
   "metadata": {},
   "outputs": [
    {
     "data": {
      "text/plain": [
       "'{\"id\":\"chatcmpl-92WtvOUSrIFLYwasXSJ3BISLxSf7D\",\"choices\":[{\"finish_reason\":\"stop\",\"index\":0,\"logprobs\":null,\"message\":{\"content\":\"{\\\\n  \\\\\"contains_sports_metaphor\\\\\": true,\\\\n  \\\\\"sports_metaphor\\\\\": \\\\\"going to bat\\\\\",\\\\n  \\\\\"explanation\\\\\": \\\\\"putting forth great effort in support\\\\\"\\\\n}\",\"role\":\"assistant\",\"function_call\":null,\"tool_calls\":null}}],\"created\":1710390155,\"model\":\"gpt-3.5-turbo-0125\",\"object\":\"chat.completion\",\"system_fingerprint\":\"fp_4f2ebda25a\",\"usage\":{\"completion_tokens\":39,\"prompt_tokens\":133,\"total_tokens\":172}}'"
      ]
     },
     "execution_count": 50,
     "metadata": {},
     "output_type": "execute_result"
    }
   ],
   "source": [
    "response.json()"
   ]
  },
  {
   "cell_type": "code",
   "execution_count": 51,
   "id": "45165541",
   "metadata": {},
   "outputs": [
    {
     "data": {
      "text/plain": [
       "'{\"id\":\"cha'"
      ]
     },
     "execution_count": 51,
     "metadata": {},
     "output_type": "execute_result"
    }
   ],
   "source": [
    "response.json()[:10]"
   ]
  },
  {
   "cell_type": "code",
   "execution_count": 52,
   "id": "59d75dad",
   "metadata": {},
   "outputs": [],
   "source": [
    "obj = json.loads(response.json())"
   ]
  },
  {
   "cell_type": "code",
   "execution_count": 53,
   "id": "6861eb33",
   "metadata": {},
   "outputs": [
    {
     "data": {
      "text/plain": [
       "{'id': 'chatcmpl-92WtvOUSrIFLYwasXSJ3BISLxSf7D',\n",
       " 'choices': [{'finish_reason': 'stop',\n",
       "   'index': 0,\n",
       "   'logprobs': None,\n",
       "   'message': {'content': '{\\n  \"contains_sports_metaphor\": true,\\n  \"sports_metaphor\": \"going to bat\",\\n  \"explanation\": \"putting forth great effort in support\"\\n}',\n",
       "    'role': 'assistant',\n",
       "    'function_call': None,\n",
       "    'tool_calls': None}}],\n",
       " 'created': 1710390155,\n",
       " 'model': 'gpt-3.5-turbo-0125',\n",
       " 'object': 'chat.completion',\n",
       " 'system_fingerprint': 'fp_4f2ebda25a',\n",
       " 'usage': {'completion_tokens': 39, 'prompt_tokens': 133, 'total_tokens': 172}}"
      ]
     },
     "execution_count": 53,
     "metadata": {},
     "output_type": "execute_result"
    }
   ],
   "source": [
    "obj"
   ]
  },
  {
   "cell_type": "code",
   "execution_count": 54,
   "id": "dac21a32",
   "metadata": {},
   "outputs": [
    {
     "data": {
      "text/plain": [
       "[{'finish_reason': 'stop',\n",
       "  'index': 0,\n",
       "  'logprobs': None,\n",
       "  'message': {'content': '{\\n  \"contains_sports_metaphor\": true,\\n  \"sports_metaphor\": \"going to bat\",\\n  \"explanation\": \"putting forth great effort in support\"\\n}',\n",
       "   'role': 'assistant',\n",
       "   'function_call': None,\n",
       "   'tool_calls': None}}]"
      ]
     },
     "execution_count": 54,
     "metadata": {},
     "output_type": "execute_result"
    }
   ],
   "source": [
    "obj[\"choices\"]"
   ]
  },
  {
   "cell_type": "code",
   "execution_count": 55,
   "id": "ef7012ab",
   "metadata": {},
   "outputs": [
    {
     "data": {
      "text/plain": [
       "{'finish_reason': 'stop',\n",
       " 'index': 0,\n",
       " 'logprobs': None,\n",
       " 'message': {'content': '{\\n  \"contains_sports_metaphor\": true,\\n  \"sports_metaphor\": \"going to bat\",\\n  \"explanation\": \"putting forth great effort in support\"\\n}',\n",
       "  'role': 'assistant',\n",
       "  'function_call': None,\n",
       "  'tool_calls': None}}"
      ]
     },
     "execution_count": 55,
     "metadata": {},
     "output_type": "execute_result"
    }
   ],
   "source": [
    "obj[\"choices\"][0]"
   ]
  },
  {
   "cell_type": "code",
   "execution_count": 56,
   "id": "74fd3f7a",
   "metadata": {},
   "outputs": [
    {
     "data": {
      "text/plain": [
       "{'content': '{\\n  \"contains_sports_metaphor\": true,\\n  \"sports_metaphor\": \"going to bat\",\\n  \"explanation\": \"putting forth great effort in support\"\\n}',\n",
       " 'role': 'assistant',\n",
       " 'function_call': None,\n",
       " 'tool_calls': None}"
      ]
     },
     "execution_count": 56,
     "metadata": {},
     "output_type": "execute_result"
    }
   ],
   "source": [
    "obj[\"choices\"][0][\"message\"]"
   ]
  },
  {
   "cell_type": "code",
   "execution_count": 57,
   "id": "c404aae8",
   "metadata": {},
   "outputs": [
    {
     "data": {
      "text/plain": [
       "'{\\n  \"contains_sports_metaphor\": true,\\n  \"sports_metaphor\": \"going to bat\",\\n  \"explanation\": \"putting forth great effort in support\"\\n}'"
      ]
     },
     "execution_count": 57,
     "metadata": {},
     "output_type": "execute_result"
    }
   ],
   "source": [
    "obj[\"choices\"][0][\"message\"][\"content\"]"
   ]
  },
  {
   "cell_type": "code",
   "execution_count": 59,
   "id": "dcf69aba",
   "metadata": {},
   "outputs": [
    {
     "data": {
      "text/plain": [
       "'{\\n  \"conta'"
      ]
     },
     "execution_count": 59,
     "metadata": {},
     "output_type": "execute_result"
    }
   ],
   "source": [
    "obj[\"choices\"][0][\"message\"][\"content\"][:10]"
   ]
  },
  {
   "cell_type": "code",
   "execution_count": 60,
   "id": "8c4d79be",
   "metadata": {},
   "outputs": [],
   "source": [
    "resp_obj = json.loads(obj[\"choices\"][0][\"message\"][\"content\"])"
   ]
  },
  {
   "cell_type": "code",
   "execution_count": 61,
   "id": "7d255494",
   "metadata": {},
   "outputs": [
    {
     "data": {
      "text/plain": [
       "True"
      ]
     },
     "execution_count": 61,
     "metadata": {},
     "output_type": "execute_result"
    }
   ],
   "source": [
    "resp_obj[\"contains_sports_metaphor\"]"
   ]
  },
  {
   "cell_type": "code",
   "execution_count": 62,
   "id": "28919e04",
   "metadata": {},
   "outputs": [
    {
     "data": {
      "text/plain": [
       "{'contains_sports_metaphor': True,\n",
       " 'sports_metaphor': 'going to bat',\n",
       " 'explanation': 'putting forth great effort in support'}"
      ]
     },
     "execution_count": 62,
     "metadata": {},
     "output_type": "execute_result"
    }
   ],
   "source": [
    "resp_obj"
   ]
  },
  {
   "cell_type": "code",
   "execution_count": 40,
   "id": "f6f67bd2",
   "metadata": {},
   "outputs": [],
   "source": [
    "total_responses = []\n",
    "\n",
    "for title in titles:\n",
    "\n",
    "    response = client.chat.completions.create(\n",
    "      model=\"gpt-3.5-turbo\",\n",
    "      response_format={ \"type\": \"json_object\" },\n",
    "      seed=20,\n",
    "      temperature=0.53,\n",
    "      messages=[\n",
    "        {\n",
    "          \"role\": \"system\",\n",
    "          \"content\": \"You will be provided with a Reddit post title, and your task is to identify if the post contains a sports metaphor or not. Note that sports related words may be used in a nonmetaphorical way, do not label such cases as sports metaphors. If the text does contain a sports metaphor, identify the sports metaphor word or phrase and provide a max 10 word explanation. Provide the answer in a JSON format with the following keys, contains_sports_metaphor (true/false), sports_metaphor, explanation.\"\n",
    "        },\n",
    "        {\n",
    "          \"role\": \"user\",\n",
    "          \"content\": title\n",
    "        }\n",
    "      ],\n",
    "    )\n",
    "    \n",
    "    obj = json.loads(response.json())\n",
    "    resp_json = json.loads(obj[\"choices\"][0][\"message\"][\"content\"])\n",
    "    resp_json[\"title\"] = title\n",
    "\n",
    "    total_responses.append(resp_json)\n",
    "    "
   ]
  },
  {
   "cell_type": "code",
   "execution_count": 63,
   "id": "b693e3d2",
   "metadata": {},
   "outputs": [
    {
     "data": {
      "text/plain": [
       "[{'contains_sports_metaphor': True,\n",
       "  'sports_metaphor': 'going to bat',\n",
       "  'explanation': 'Supporting or defending strongly',\n",
       "  'title': 'CNN really going to bat for Biden in the aftermath of Dearborn protest vote'},\n",
       " {'contains_sports_metaphor': False,\n",
       "  'sports_metaphor': None,\n",
       "  'explanation': None,\n",
       "  'title': 'Biden vetoes two Republican-led bills to undo protections for prairie chicken and northern bat.'},\n",
       " {'contains_sports_metaphor': False,\n",
       "  'sports_metaphor': None,\n",
       "  'explanation': None,\n",
       "  'title': 'Putin’s Soccer Ball for Trump Had Transmitter Chip, Logo Indicates'},\n",
       " {'contains_sports_metaphor': True,\n",
       "  'sports_metaphor': 'drops the ball',\n",
       "  'explanation': 'Failing to perform or make a mistake',\n",
       "  'title': 'Biden drops the ball, again'}]"
      ]
     },
     "execution_count": 63,
     "metadata": {},
     "output_type": "execute_result"
    }
   ],
   "source": [
    "total_responses"
   ]
  },
  {
   "cell_type": "code",
   "execution_count": 64,
   "id": "36824a1a",
   "metadata": {},
   "outputs": [],
   "source": [
    "df = pd.DataFrame(total_responses)"
   ]
  },
  {
   "cell_type": "code",
   "execution_count": 65,
   "id": "14bd6507",
   "metadata": {},
   "outputs": [
    {
     "data": {
      "text/html": [
       "<div>\n",
       "<style scoped>\n",
       "    .dataframe tbody tr th:only-of-type {\n",
       "        vertical-align: middle;\n",
       "    }\n",
       "\n",
       "    .dataframe tbody tr th {\n",
       "        vertical-align: top;\n",
       "    }\n",
       "\n",
       "    .dataframe thead th {\n",
       "        text-align: right;\n",
       "    }\n",
       "</style>\n",
       "<table border=\"1\" class=\"dataframe\">\n",
       "  <thead>\n",
       "    <tr style=\"text-align: right;\">\n",
       "      <th></th>\n",
       "      <th>contains_sports_metaphor</th>\n",
       "      <th>sports_metaphor</th>\n",
       "      <th>explanation</th>\n",
       "      <th>title</th>\n",
       "    </tr>\n",
       "  </thead>\n",
       "  <tbody>\n",
       "    <tr>\n",
       "      <th>0</th>\n",
       "      <td>True</td>\n",
       "      <td>going to bat</td>\n",
       "      <td>Supporting or defending strongly</td>\n",
       "      <td>CNN really going to bat for Biden in the aftermath of Dearborn protest vote</td>\n",
       "    </tr>\n",
       "    <tr>\n",
       "      <th>1</th>\n",
       "      <td>False</td>\n",
       "      <td>None</td>\n",
       "      <td>None</td>\n",
       "      <td>Biden vetoes two Republican-led bills to undo protections for prairie chicken and northern bat.</td>\n",
       "    </tr>\n",
       "    <tr>\n",
       "      <th>2</th>\n",
       "      <td>False</td>\n",
       "      <td>None</td>\n",
       "      <td>None</td>\n",
       "      <td>Putin’s Soccer Ball for Trump Had Transmitter Chip, Logo Indicates</td>\n",
       "    </tr>\n",
       "    <tr>\n",
       "      <th>3</th>\n",
       "      <td>True</td>\n",
       "      <td>drops the ball</td>\n",
       "      <td>Failing to perform or make a mistake</td>\n",
       "      <td>Biden drops the ball, again</td>\n",
       "    </tr>\n",
       "  </tbody>\n",
       "</table>\n",
       "</div>"
      ],
      "text/plain": [
       "   contains_sports_metaphor sports_metaphor  \\\n",
       "0                      True    going to bat   \n",
       "1                     False            None   \n",
       "2                     False            None   \n",
       "3                      True  drops the ball   \n",
       "\n",
       "                            explanation  \\\n",
       "0      Supporting or defending strongly   \n",
       "1                                  None   \n",
       "2                                  None   \n",
       "3  Failing to perform or make a mistake   \n",
       "\n",
       "                                                                                             title  \n",
       "0                      CNN really going to bat for Biden in the aftermath of Dearborn protest vote  \n",
       "1  Biden vetoes two Republican-led bills to undo protections for prairie chicken and northern bat.  \n",
       "2                               Putin’s Soccer Ball for Trump Had Transmitter Chip, Logo Indicates  \n",
       "3                                                                      Biden drops the ball, again  "
      ]
     },
     "execution_count": 65,
     "metadata": {},
     "output_type": "execute_result"
    }
   ],
   "source": [
    "df"
   ]
  },
  {
   "cell_type": "code",
   "execution_count": null,
   "id": "e9f4d6fa",
   "metadata": {},
   "outputs": [],
   "source": []
  }
 ],
 "metadata": {
  "kernelspec": {
   "display_name": "Python 3 (ipykernel)",
   "language": "python",
   "name": "python3"
  },
  "language_info": {
   "codemirror_mode": {
    "name": "ipython",
    "version": 3
   },
   "file_extension": ".py",
   "mimetype": "text/x-python",
   "name": "python",
   "nbconvert_exporter": "python",
   "pygments_lexer": "ipython3",
   "version": "3.11.4"
  }
 },
 "nbformat": 4,
 "nbformat_minor": 5
}
