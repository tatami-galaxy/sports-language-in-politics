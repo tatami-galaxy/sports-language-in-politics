{
 "cells": [
  {
   "cell_type": "code",
   "execution_count": 40,
   "id": "1bc14a52-8ef9-4877-ade1-6b139245aba9",
   "metadata": {},
   "outputs": [],
   "source": [
    "import json\n",
    "import polars as pl\n",
    "import re\n",
    "from thefuzz import fuzz\n",
    "from datasets import load_dataset\n",
    "from tqdm.auto import tqdm"
   ]
  },
  {
   "cell_type": "markdown",
   "id": "33f9089c-8918-46d4-b231-4e3716ceb127",
   "metadata": {},
   "source": [
    "##### Load sample sports and political data"
   ]
  },
  {
   "cell_type": "code",
   "execution_count": 2,
   "id": "3fedec88-d16e-4ab2-81c3-ba98332af4f2",
   "metadata": {},
   "outputs": [],
   "source": [
    "sports_df = pl.read_csv('~/sports-language-in-politics/data/processed/sports_sample.csv')\n",
    "politics_df = pl.read_csv('~/sports-language-in-politics/data/processed/politics_sample.csv')"
   ]
  },
  {
   "cell_type": "markdown",
   "id": "9ff997cc-8519-4fef-b642-6f08fbb5f039",
   "metadata": {},
   "source": [
    "##### Extract sports and political comments and clean"
   ]
  },
  {
   "cell_type": "code",
   "execution_count": 3,
   "id": "be4b30da-60c3-4722-9654-fa0e8492e7b8",
   "metadata": {},
   "outputs": [],
   "source": [
    "sports_comments = [re.sub(r\"[^a-zA-Z0-9]+\", ' ', comment).lower() for comment in sports_df['body'].to_list()]\n",
    "political_comments = [re.sub(r\"[^a-zA-Z0-9]+\", ' ', comment).lower() for comment in politics_df['body'].to_list()]"
   ]
  },
  {
   "cell_type": "markdown",
   "id": "0b5743f8-1dae-4b31-829e-a3775491bc02",
   "metadata": {},
   "source": [
    "##### Filter short comments"
   ]
  },
  {
   "cell_type": "code",
   "execution_count": 4,
   "id": "5436cc6b-30b0-41f3-9482-ad0c4964152f",
   "metadata": {},
   "outputs": [],
   "source": [
    "thresh = 20\n",
    "sports_comments_long = []\n",
    "political_comments_long = []\n",
    "\n",
    "s_lens = [len(s.split()) for s in sports_comments]\n",
    "p_lens = [len(c.split()) for c in political_comments]\n",
    "\n",
    "for i in range(len(sports_comments)):\n",
    "    if s_lens[i] >= thresh:\n",
    "        sports_comments_long.append(sports_comments[i])\n",
    "for i in range(len(political_comments)):\n",
    "    if p_lens[i] >= thresh:\n",
    "        political_comments_long.append(political_comments[i])"
   ]
  },
  {
   "cell_type": "markdown",
   "id": "add33069-e3be-4752-b839-131ebd5c740f",
   "metadata": {},
   "source": [
    "##### Metaphors"
   ]
  },
  {
   "cell_type": "code",
   "execution_count": 6,
   "id": "4b1eabc3-daf6-45d2-97ce-4f278aabe6a8",
   "metadata": {},
   "outputs": [],
   "source": [
    "with open('/users/Ujan/sports-language-in-politics/data/processed/meta_dict_1.json', 'r') as fp:\n",
    "    data = json.load(fp)"
   ]
  },
  {
   "cell_type": "code",
   "execution_count": 7,
   "id": "ebb6aed3-16e3-4437-a7d8-73c117a6fb80",
   "metadata": {},
   "outputs": [],
   "source": [
    "meta_list = []\n",
    "for key, values in data.items():\n",
    "    meta_list.extend(values)\n",
    "meta_list = [m.lower() for m in meta_list]\n",
    "# manual edit\n",
    "meta_list[3] = 'fall short of the mark'"
   ]
  },
  {
   "cell_type": "markdown",
   "id": "689d483b-cf76-4816-a3e6-a10cc29c00e7",
   "metadata": {},
   "source": [
    "##### Samples from wikitext and poitical comments"
   ]
  },
  {
   "cell_type": "code",
   "execution_count": 35,
   "id": "238783c2-36db-436b-b47f-8e5d505f487a",
   "metadata": {},
   "outputs": [],
   "source": [
    "thresh = 50000\n",
    "\n",
    "wikitext = load_dataset('wikitext', 'wikitext-103-v1')\n",
    "# sample size\n",
    "wiki = wikitext['train']['text'][:thresh]\n",
    "political_comments = political_comments[:thresh]"
   ]
  },
  {
   "cell_type": "markdown",
   "id": "f604dbe6-f7b0-4bd7-a569-7dc145edd89c",
   "metadata": {},
   "source": [
    "##### token_set_ratio tokenizes both input strings, removes duplicate tokens, and calculates the similarity score based on the intersection and union of the token sets"
   ]
  },
  {
   "cell_type": "code",
   "execution_count": 41,
   "id": "dfbbf37c-ac65-4da5-b069-9000f07a7760",
   "metadata": {},
   "outputs": [
    {
     "data": {
      "application/vnd.jupyter.widget-view+json": {
       "model_id": "2610de27bd394ff69e326b6a6bb31948",
       "version_major": 2,
       "version_minor": 0
      },
      "text/plain": [
       "  0%|          | 0/749 [00:00<?, ?it/s]"
      ]
     },
     "metadata": {},
     "output_type": "display_data"
    }
   ],
   "source": [
    "wiki_dists = []\n",
    "pol_dists = []\n",
    "\n",
    "progress_bar = tqdm(range(len(meta_list)))\n",
    "for meta in meta_list:\n",
    "    scores = []\n",
    "    for text in wiki:\n",
    "        scores.append(fuzz.token_set_ratio(meta, text))\n",
    "    wiki_dists.append(sum(scores)/thresh)\n",
    "    scores = []\n",
    "    for com in political_comments:\n",
    "        scores.append(fuzz.token_set_ratio(meta, com))\n",
    "    pol_dists.append(sum(scores)/thresh)\n",
    "    progress_bar.update(1)"
   ]
  },
  {
   "cell_type": "code",
   "execution_count": 53,
   "id": "64661bf0-ab59-45e1-bde5-88935c57366d",
   "metadata": {},
   "outputs": [
    {
     "name": "stdout",
     "output_type": "stream",
     "text": [
      "Average similarity of metaphors with wiki text: 14.445885767690235\n",
      "Average similarity of metaphors with political comments: 25.81442053404541\n",
      "\n",
      "Metaphors more similar to political comments? True\n"
     ]
    }
   ],
   "source": [
    "print('Average similarity of metaphors with wiki text: {}'.format(sum(wiki_dists)/len(wiki_dists)))\n",
    "print('Average similarity of metaphors with political comments: {}'.format(sum(pol_dists)/len(pol_dists)))\n",
    "print('')\n",
    "print('Metaphors more similar to political comments? {}'.format((sum(pol_dists)/len(pol_dists))>sum(wiki_dists)/len(wiki_dists)))"
   ]
  },
  {
   "cell_type": "code",
   "execution_count": null,
   "id": "ff361401-f9dd-484b-946c-460284019ad7",
   "metadata": {},
   "outputs": [],
   "source": []
  }
 ],
 "metadata": {
  "kernelspec": {
   "display_name": "Python 3 (ipykernel)",
   "language": "python",
   "name": "python3"
  },
  "language_info": {
   "codemirror_mode": {
    "name": "ipython",
    "version": 3
   },
   "file_extension": ".py",
   "mimetype": "text/x-python",
   "name": "python",
   "nbconvert_exporter": "python",
   "pygments_lexer": "ipython3",
   "version": "3.10.4"
  }
 },
 "nbformat": 4,
 "nbformat_minor": 5
}
