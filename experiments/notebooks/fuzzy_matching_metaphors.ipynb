{
 "cells": [
  {
   "cell_type": "code",
   "execution_count": 1,
   "id": "1bc14a52-8ef9-4877-ade1-6b139245aba9",
   "metadata": {},
   "outputs": [],
   "source": [
    "import json\n",
    "import polars as pl\n",
    "import re\n",
    "from thefuzz import fuzz\n",
    "from datasets import load_dataset\n",
    "from tqdm.auto import tqdm"
   ]
  },
  {
   "cell_type": "markdown",
   "id": "33f9089c-8918-46d4-b231-4e3716ceb127",
   "metadata": {},
   "source": [
    "##### Load sample sports and political data"
   ]
  },
  {
   "cell_type": "code",
   "execution_count": 2,
   "id": "3fedec88-d16e-4ab2-81c3-ba98332af4f2",
   "metadata": {},
   "outputs": [],
   "source": [
    "#sports_df = pl.read_csv('~/sports-language-in-politics/data/processed/sports_sample.csv')\n",
    "politics_df = pl.read_csv('~/sports-language-in-politics/data/processed/politics_sample.csv')\n",
    "random_df = pl.read_csv('~/sports-language-in-politics/data/processed/random_sample_no_sports.csv')"
   ]
  },
  {
   "cell_type": "markdown",
   "id": "9ff997cc-8519-4fef-b642-6f08fbb5f039",
   "metadata": {},
   "source": [
    "##### Extract sports and political comments and clean"
   ]
  },
  {
   "cell_type": "code",
   "execution_count": 3,
   "id": "be4b30da-60c3-4722-9654-fa0e8492e7b8",
   "metadata": {},
   "outputs": [],
   "source": [
    "#sports_comments = [re.sub(r\"[^a-zA-Z0-9]+\", ' ', comment).lower() for comment in sports_df['body'].to_list()]\n",
    "political_comments = [re.sub(r\"[^a-zA-Z0-9]+\", ' ', comment).lower() for comment in politics_df['body'].to_list()]\n",
    "random_comments = [re.sub(r\"[^a-zA-Z0-9]+\", ' ', comment).lower() for comment in random_df['body'].to_list()]"
   ]
  },
  {
   "cell_type": "markdown",
   "id": "0b5743f8-1dae-4b31-829e-a3775491bc02",
   "metadata": {},
   "source": [
    "##### Filter short comments"
   ]
  },
  {
   "cell_type": "code",
   "execution_count": 4,
   "id": "5436cc6b-30b0-41f3-9482-ad0c4964152f",
   "metadata": {},
   "outputs": [],
   "source": [
    "thresh = 20\n",
    "random_comments_long = []\n",
    "political_comments_long = []\n",
    "\n",
    "r_lens = [len(r.split()) for r in random_comments]\n",
    "p_lens = [len(c.split()) for c in political_comments]\n",
    "\n",
    "for i in range(len(random_comments)):\n",
    "    if r_lens[i] >= thresh:\n",
    "        random_comments_long.append(random_comments[i])\n",
    "for i in range(len(political_comments)):\n",
    "    if p_lens[i] >= thresh:\n",
    "        political_comments_long.append(political_comments[i])"
   ]
  },
  {
   "cell_type": "markdown",
   "id": "add33069-e3be-4752-b839-131ebd5c740f",
   "metadata": {},
   "source": [
    "##### Metaphors"
   ]
  },
  {
   "cell_type": "code",
   "execution_count": 5,
   "id": "4b1eabc3-daf6-45d2-97ce-4f278aabe6a8",
   "metadata": {},
   "outputs": [],
   "source": [
    "with open('/users/Ujan/sports-language-in-politics/data/processed/meta_dict_2.json', 'r') as fp:\n",
    "    data = json.load(fp)"
   ]
  },
  {
   "cell_type": "code",
   "execution_count": 6,
   "id": "ebb6aed3-16e3-4437-a7d8-73c117a6fb80",
   "metadata": {},
   "outputs": [],
   "source": [
    "meta_list = []\n",
    "for key, values in data.items():\n",
    "    meta_list.extend(values)\n",
    "meta_list = [m.lower() for m in meta_list]\n",
    "# manual edit\n",
    "#meta_list[3] = 'fall short of the mark'"
   ]
  },
  {
   "cell_type": "markdown",
   "id": "689d483b-cf76-4816-a3e6-a10cc29c00e7",
   "metadata": {},
   "source": [
    "##### Samples from random and poitical comments"
   ]
  },
  {
   "cell_type": "code",
   "execution_count": 7,
   "id": "238783c2-36db-436b-b47f-8e5d505f487a",
   "metadata": {},
   "outputs": [],
   "source": [
    "thresh = 50000\n",
    "\n",
    "#wikitext = load_dataset('wikitext', 'wikitext-103-v1')\n",
    "# sample size\n",
    "random_comments = random_comments[:thresh]\n",
    "political_comments = political_comments[:thresh]"
   ]
  },
  {
   "cell_type": "markdown",
   "id": "f604dbe6-f7b0-4bd7-a569-7dc145edd89c",
   "metadata": {},
   "source": [
    "##### token_set_ratio tokenizes both input strings, removes duplicate tokens, and calculates the similarity score based on the intersection and union of the token sets\n",
    "\n",
    "difflib.ratio -> edit distance\n",
    "\n",
    "token_set_ratio attempts to rule out differences in the strings. Calls ratio on three particular substring sets and returns the max:\n",
    "\n",
    "- intersection-only and the intersection with remainder of string one\n",
    "- intersection-only and the intersection with remainder of string two\n",
    "- intersection with remainder of one and intersection with remainder of two\n",
    "  \n",
    "By splitting up the intersection and remainders of the two strings, we're accounting for both how similar and different the two strings are:"
   ]
  },
  {
   "cell_type": "code",
   "execution_count": 8,
   "id": "dfbbf37c-ac65-4da5-b069-9000f07a7760",
   "metadata": {},
   "outputs": [
    {
     "data": {
      "application/vnd.jupyter.widget-view+json": {
       "model_id": "2850503f00a0486aa79e37de4b54c41c",
       "version_major": 2,
       "version_minor": 0
      },
      "text/plain": [
       "  0%|          | 0/486 [00:00<?, ?it/s]"
      ]
     },
     "metadata": {},
     "output_type": "display_data"
    }
   ],
   "source": [
    "rand_dists = []\n",
    "pol_dists = []\n",
    "\n",
    "progress_bar = tqdm(range(len(meta_list)))\n",
    "for meta in meta_list:\n",
    "    scores = []\n",
    "    for com in random_comments:\n",
    "        scores.append(fuzz.token_set_ratio(meta, com))\n",
    "    rand_dists.append(sum(scores)/thresh)\n",
    "    scores = []\n",
    "    for com in political_comments:\n",
    "        scores.append(fuzz.token_set_ratio(meta, com))\n",
    "    pol_dists.append(sum(scores)/thresh)\n",
    "    progress_bar.update(1)"
   ]
  },
  {
   "cell_type": "markdown",
   "id": "f713d0c1-e783-4b03-b20c-b62b57fca47e",
   "metadata": {},
   "source": [
    "##### Paired T test"
   ]
  },
  {
   "cell_type": "markdown",
   "id": "f3b720b5-d635-49ef-8f31-c77bf5cc6180",
   "metadata": {},
   "source": [
    "##### look into fuzzy match code"
   ]
  },
  {
   "cell_type": "code",
   "execution_count": 10,
   "id": "7a73fcb0-cd70-4802-b9db-2c6ca07be09a",
   "metadata": {},
   "outputs": [
    {
     "name": "stdout",
     "output_type": "stream",
     "text": [
      "Average similarity of metaphors with random text: 22.9193774074074\n",
      "Average similarity of metaphors with political comments: 22.581753497942376\n"
     ]
    }
   ],
   "source": [
    "print('Average similarity of metaphors with random text: {}'.format(sum(rand_dists)/len(rand_dists)))\n",
    "print('Average similarity of metaphors with political comments: {}'.format(sum(pol_dists)/len(pol_dists)))"
   ]
  },
  {
   "cell_type": "code",
   "execution_count": 41,
   "id": "0bc1c829-630e-4acd-937a-cbdaea703666",
   "metadata": {},
   "outputs": [],
   "source": [
    "meta_list = [re.sub(r\"[^a-zA-Z0-9]+\", ' ', meta).lower() for meta in meta_list]"
   ]
  },
  {
   "cell_type": "code",
   "execution_count": 59,
   "id": "08f15ac2-db3f-4396-8cce-a0fb82809671",
   "metadata": {},
   "outputs": [],
   "source": [
    "#meta_list.remove('bout')\n",
    "#meta_list.remove('out')\n",
    "#meta_list.remove('close')\n",
    "#meta_list.remove('ace')\n",
    "#meta_list.remove('up')\n",
    "#meta_list.remove('pawn')\n",
    "#meta_list.remove('win')\n",
    "#meta_list.remove('check')\n",
    "#meta_list.remove('check in')\n",
    "#meta_list.remove('bush')\n",
    "#meta_list.remove('card')\n",
    "#meta_list.remove('pass')\n",
    "#meta_list.remove('flat out')\n",
    "#meta_list.remove('drawback')\n",
    "#meta_list.remove('blank')\n",
    "#meta_list.remove('boner')\n",
    "#meta_list.remove('hotdog')\n",
    "#meta_list.remove('iron man')\n",
    "#meta_list.remove('set up')\n",
    "#meta_list.remove('flat out')\n",
    "#meta_list.remove('hit on')\n",
    "#meta_list.remove('set to')\n",
    "#meta_list.remove('discard')\n",
    "#meta_list.remove('dummy')\n",
    "#meta_list.remove('hold in')"
   ]
  },
  {
   "cell_type": "code",
   "execution_count": 60,
   "id": "f2a1097d-8bab-4bce-ad26-d064f8543927",
   "metadata": {},
   "outputs": [
    {
     "name": "stdout",
     "output_type": "stream",
     "text": [
      "693\n"
     ]
    }
   ],
   "source": [
    "count = 0\n",
    "for comment in political_comments:\n",
    "    for meta in meta_list:\n",
    "        if len(re.findall(\"\\\\b\"+meta+\"\\\\b\", comment))>0:\n",
    "            count += 1\n",
    "\n",
    "print(count)"
   ]
  },
  {
   "cell_type": "code",
   "execution_count": 61,
   "id": "3402a0a8-ca86-4c4c-b320-49c7b15c81ab",
   "metadata": {},
   "outputs": [
    {
     "name": "stdout",
     "output_type": "stream",
     "text": [
      "766\n"
     ]
    }
   ],
   "source": [
    "count = 0\n",
    "for comment in random_comments:\n",
    "    for meta in meta_list:\n",
    "        if len(re.findall(\"\\\\b\"+meta+\"\\\\b\", comment))>0:\n",
    "            count += 1\n",
    "\n",
    "print(count)"
   ]
  },
  {
   "cell_type": "code",
   "execution_count": null,
   "id": "fff11d3b-9f38-4542-8bab-fe60672258aa",
   "metadata": {},
   "outputs": [],
   "source": []
  }
 ],
 "metadata": {
  "kernelspec": {
   "display_name": "Python 3 (ipykernel)",
   "language": "python",
   "name": "python3"
  },
  "language_info": {
   "codemirror_mode": {
    "name": "ipython",
    "version": 3
   },
   "file_extension": ".py",
   "mimetype": "text/x-python",
   "name": "python",
   "nbconvert_exporter": "python",
   "pygments_lexer": "ipython3",
   "version": "3.10.4"
  }
 },
 "nbformat": 4,
 "nbformat_minor": 5
}
