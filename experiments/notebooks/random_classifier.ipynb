{
 "cells": [
  {
   "cell_type": "code",
   "execution_count": 13,
   "id": "8a403a17-6354-4a27-ba9a-0bec8a203224",
   "metadata": {},
   "outputs": [],
   "source": [
    "import polars as pl\n",
    "from sklearn.linear_model import LogisticRegression\n",
    "from sklearn.feature_extraction.text import TfidfVectorizer\n",
    "from sklearn.metrics import classification_report\n",
    "from sklearn.neural_network import MLPClassifier\n",
    "from sklearn.datasets import make_classification\n",
    "from sklearn.model_selection import train_test_split\n",
    "import numpy as np\n",
    "import pickle"
   ]
  },
  {
   "cell_type": "code",
   "execution_count": 62,
   "id": "59fe4bb9-c1c2-43fe-b812-fc8f9f4c72dd",
   "metadata": {},
   "outputs": [],
   "source": [
    "comment_len_thresh = 150\n",
    "sample_size = 150000\n",
    "seed = 42"
   ]
  },
  {
   "cell_type": "markdown",
   "id": "dfeeec9f-a917-4809-93cc-48741c2c22e0",
   "metadata": {},
   "source": [
    "#### Load and sample random comments"
   ]
  },
  {
   "cell_type": "markdown",
   "id": "6f509c2c-4d60-4e0f-9319-bb382c57ed64",
   "metadata": {},
   "source": [
    "##### To use classifier, shuffle random_df with same seed and remove first sample_size samples"
   ]
  },
  {
   "cell_type": "code",
   "execution_count": 63,
   "id": "58891684-b07a-4b0e-b480-f16e41993123",
   "metadata": {},
   "outputs": [],
   "source": [
    "random_df = pl.read_csv('~/sports-language-in-politics/data/processed/random_sample.csv')"
   ]
  },
  {
   "cell_type": "code",
   "execution_count": 64,
   "id": "e19d55d6-b7bc-4419-a3b2-961384024cc2",
   "metadata": {},
   "outputs": [],
   "source": [
    "random_df = random_df.filter(pl.col(\"comments\").str.lengths() >= comment_len_thresh)\n",
    "random_df = random_df.sample(fraction=1.0, shuffle=True, seed=seed)"
   ]
  },
  {
   "cell_type": "code",
   "execution_count": 65,
   "id": "b1f98960-652d-46d8-bc19-bdbe1987ecc1",
   "metadata": {},
   "outputs": [
    {
     "data": {
      "text/html": [
       "<div><style>\n",
       ".dataframe > thead > tr > th,\n",
       ".dataframe > tbody > tr > td {\n",
       "  text-align: right;\n",
       "  white-space: pre-wrap;\n",
       "}\n",
       "</style>\n",
       "<small>shape: (5, 4)</small><table border=\"1\" class=\"dataframe\"><thead><tr><th>id</th><th>comments</th><th>subreddit</th><th>sub_id</th></tr><tr><td>str</td><td>str</td><td>str</td><td>str</td></tr></thead><tbody><tr><td>&quot;f1vbggn&quot;</td><td>&quot;eu t ligado qu…</td><td>&quot;desabafos&quot;</td><td>&quot;t5_395lw&quot;</td></tr><tr><td>&quot;dnblwg9&quot;</td><td>&quot;oh awesome tha…</td><td>&quot;Multicopter&quot;</td><td>&quot;t5_2u9hy&quot;</td></tr><tr><td>&quot;dyo9ww9&quot;</td><td>&quot;turns out you …</td><td>&quot;todayilearned&quot;</td><td>&quot;t5_2qqjc&quot;</td></tr><tr><td>&quot;ch6em32&quot;</td><td>&quot; gt id say lin…</td><td>&quot;windows&quot;</td><td>&quot;t5_2qh3k&quot;</td></tr><tr><td>&quot;dvfqxtm&quot;</td><td>&quot;if we are to p…</td><td>&quot;CryptoCurrency…</td><td>&quot;t5_2wlj3&quot;</td></tr></tbody></table></div>"
      ],
      "text/plain": [
       "shape: (5, 4)\n",
       "┌─────────┬───────────────────────────────────┬────────────────┬──────────┐\n",
       "│ id      ┆ comments                          ┆ subreddit      ┆ sub_id   │\n",
       "│ ---     ┆ ---                               ┆ ---            ┆ ---      │\n",
       "│ str     ┆ str                               ┆ str            ┆ str      │\n",
       "╞═════════╪═══════════════════════════════════╪════════════════╪══════════╡\n",
       "│ f1vbggn ┆ eu t ligado que o valor das mulh… ┆ desabafos      ┆ t5_395lw │\n",
       "│ dnblwg9 ┆ oh awesome thanks for the reply … ┆ Multicopter    ┆ t5_2u9hy │\n",
       "│ dyo9ww9 ┆ turns out you dont actually have… ┆ todayilearned  ┆ t5_2qqjc │\n",
       "│ ch6em32 ┆  gt id say linux is the wrong wa… ┆ windows        ┆ t5_2qh3k │\n",
       "│ dvfqxtm ┆ if we are to provide a new stand… ┆ CryptoCurrency ┆ t5_2wlj3 │\n",
       "└─────────┴───────────────────────────────────┴────────────────┴──────────┘"
      ]
     },
     "execution_count": 65,
     "metadata": {},
     "output_type": "execute_result"
    }
   ],
   "source": [
    "random_df.head()"
   ]
  },
  {
   "cell_type": "code",
   "execution_count": 66,
   "id": "3e947647-708a-47e1-9ac5-6b6052765152",
   "metadata": {},
   "outputs": [],
   "source": [
    "remaining_df = random_df[sample_size:]\n",
    "random_df = random_df[:sample_size] \n",
    "remaining_df = remaining_df[:sample_size]  "
   ]
  },
  {
   "cell_type": "code",
   "execution_count": 67,
   "id": "6fdbbf47-59ee-4343-bb53-d0e2adb157fc",
   "metadata": {},
   "outputs": [],
   "source": [
    "remaining_df = remaining_df[:10000]"
   ]
  },
  {
   "cell_type": "markdown",
   "id": "1646951b-30cd-49f2-871f-30aa47f6c44f",
   "metadata": {},
   "source": [
    "#### Load partial sports and gaming subs"
   ]
  },
  {
   "cell_type": "code",
   "execution_count": 68,
   "id": "3623c0c2-5d0f-4c3b-ad8c-f34838a0272a",
   "metadata": {},
   "outputs": [],
   "source": [
    "sports_df = pl.read_csv('~/sports-language-in-politics/data/processed/sports_sample.csv')\n",
    "gaming_df = pl.read_csv('~/sports-language-in-politics/data/processed/gaming_subs.csv', truncate_ragged_lines=True)\n",
    "\n",
    "sports_subs = sports_df['subreddit'].unique().to_list()\n",
    "gaming_subs = []\n",
    "for i in range(len(gaming_df)):\n",
    "    gaming_subs.append(gaming_df[i]['Name;Link'].to_list()[0].split('/r/')[-1])\n",
    "gaming_subs = list(set(gaming_subs))\n",
    "sports_subs.extend(gaming_subs)"
   ]
  },
  {
   "cell_type": "markdown",
   "id": "eda98495-0add-4921-8692-e63a7d257e94",
   "metadata": {},
   "source": [
    "#### Get a better list of sports and gaming subs manually"
   ]
  },
  {
   "cell_type": "markdown",
   "id": "78e31631-de30-4366-8c2b-87c3e3732ba3",
   "metadata": {},
   "source": [
    "##### first remove already known subs"
   ]
  },
  {
   "cell_type": "code",
   "execution_count": 69,
   "id": "7827dcb4-3155-466e-aa8b-28e04f4df10f",
   "metadata": {},
   "outputs": [],
   "source": [
    "manual_list = [\n",
    "    'leagueoflegends', 'nba', 'soccer', 'nfl', 'DestinyTheGame', 'gaming',\n",
    "    'DotA2', 'SquaredCircle', 'Overwatch', 'CFB', 'MMA', 'fantasyfootball',\n",
    "    'NintendoSwitch', 'formula1', '2007scape', 'FortNiteBR', 'FireEmblemHeroes',\n",
    "    'Competitiveoverwatch', 'Rainbow6', 'pokemontrades', 'reddevils',\n",
    "    'GlobalOffensiveTrade', 'u_RedditNintendoSwitch', 'dndnext', 'darksouls3',\n",
    "    'classicwow', 'PUBATTLEGROUNDS', 'Cricket', 'CollegeBasketball', \n",
    "    'deadbydaylight', 'RocketLeague', 'deadbydaylight', 'Gunners', 'running',\n",
    "    'ClashRoyale', 'LiverpoolFC', 'fantasybaseball', 'DBZDokkanBattle',\n",
    "    'bravefrontier', 'pokemongo', 'bloodborne', 'forhonor', 'bicycling',\n",
    "    'MaddenUltimateTeam', 'feedthebeast', 'gtaonline', 'golf', 'WorldOfWarships',\n",
    "    'NASCAR', 'grandorder', 'bjj', 'sports', 'tennis', '10s', 'TennisClash',\n",
    "    'apexlegends', 'Boxing', 'FantasyPL', 'CoDCompetitive', 'chess', 'motorsports',\n",
    "    'Warhammer40k', 'OverwatchUniversity', 'NoMansSkyTheGame', 'chelseafc',\n",
    "    'poker', 'SWGalaxyOfHeroes', 'Seaofthieves', 'RocketLeagueExchange',\n",
    "    'rugbyunion', 'nrl', 'modernwarfare', 'BattlefieldV', '40kLore',\n",
    "    'MonsterHunterWorld', 'h1z1', 'airsoft', 'csgobetting', 'FakeCollegeFootball',\n",
    "    'ModernMagic', 'DynastyFF', 'Sexsells', 'AFL', 'FortniteCompetitive',\n",
    "    'GamerGhazi', 'sportsbetting', 'sportsbook', 'baseball', 'SportsFR', 'broodwar',\n",
    "    'G2eSports', 'hockey', 'sportsarefun', 'AllCombatSports', 'starcraft', 'aoe2',\n",
    "    'indiansports', 'EASportsFC', 'NintendoSwitchSports', 'rugbyunion', 'coys', \n",
    "    'GlobalOffensive', 'esports', 'MirrorSports', 'EA_NHL','discgolf', 'EASPORTSWRC',\n",
    "]"
   ]
  },
  {
   "cell_type": "code",
   "execution_count": 70,
   "id": "c206896b-a820-4e70-8739-88d9fa2d2135",
   "metadata": {},
   "outputs": [],
   "source": [
    "sports_subs.extend(manual_list)"
   ]
  },
  {
   "cell_type": "code",
   "execution_count": 71,
   "id": "a1d67024-c124-463f-ba6f-0625b33fd275",
   "metadata": {},
   "outputs": [],
   "source": [
    "#dummy_df = random_df.filter(~pl.col(\"subreddit\").is_in(sports_subs))\n",
    "#dummy_df.to_pandas().groupby('subreddit').agg({\"id\":\"count\"}).sort_values(\"id\",ascending=False)[500:520]"
   ]
  },
  {
   "cell_type": "markdown",
   "id": "c157d537-b5f4-4670-8494-44c0757757dc",
   "metadata": {},
   "source": [
    "#### Build dataset"
   ]
  },
  {
   "cell_type": "code",
   "execution_count": 72,
   "id": "dece93c0-55f3-40de-9b29-d8321f4afd90",
   "metadata": {},
   "outputs": [
    {
     "name": "stdout",
     "output_type": "stream",
     "text": [
      "30000\n",
      "30000\n"
     ]
    }
   ],
   "source": [
    "# break names of subs into ngram \n",
    "# separate sports, games, other\n",
    "# one vs all\n",
    "# bert\n",
    "\n",
    "samples = []\n",
    "labels = []\n",
    "\n",
    "sports = 0\n",
    "non_sports = 0\n",
    "class_max = 30000\n",
    "\n",
    "for i in range(len(random_df)):\n",
    "    comment = random_df[i]['comments'][0]\n",
    "    subreddit = random_df[i]['subreddit'][0]\n",
    "    sample = comment\n",
    "    if subreddit in sports_subs and sports < class_max:\n",
    "        label = 1\n",
    "        sports += 1\n",
    "        samples.append(sample)\n",
    "        labels.append(label)\n",
    "    #else:\n",
    "    elif non_sports < class_max:\n",
    "        label = 0\n",
    "        non_sports += 1\n",
    "        samples.append(sample)\n",
    "        labels.append(label)\n",
    "\n",
    "print(non_sports)\n",
    "print(sports)"
   ]
  },
  {
   "cell_type": "code",
   "execution_count": 73,
   "id": "c51b1fc6-ab48-4ea9-8ae5-2600394d87a4",
   "metadata": {},
   "outputs": [
    {
     "data": {
      "text/plain": [
       "'what exactly did they nerf stealth has always been a clusterfuck to me and ive never really used it to level because of that i saw a guy who used ivara to stealth kill everything with sleep arrow and wanted to try that but for some reason de made enemies that are asleep still able to trigger alerts if people die near them so she doesnt work anymore figures that happens just as i get all the nitain to build her i dont understand why theyre even touching stealth at all after they said they dont want akkad to be the loot cave of this game theyre just driving people back towards it really goes to show how out of touch de is with their own game '"
      ]
     },
     "execution_count": 73,
     "metadata": {},
     "output_type": "execute_result"
    }
   ],
   "source": [
    "samples[647]"
   ]
  },
  {
   "cell_type": "code",
   "execution_count": 74,
   "id": "57c377f7-73d6-40ba-8684-17c8f6f2953e",
   "metadata": {},
   "outputs": [
    {
     "data": {
      "text/plain": [
       "1"
      ]
     },
     "execution_count": 74,
     "metadata": {},
     "output_type": "execute_result"
    }
   ],
   "source": [
    "labels[647]"
   ]
  },
  {
   "cell_type": "code",
   "execution_count": null,
   "id": "b1510ed1-0c83-47bf-bf0f-b9b00d213cf6",
   "metadata": {},
   "outputs": [],
   "source": []
  },
  {
   "cell_type": "code",
   "execution_count": 76,
   "id": "dc6e4cec-3793-4d61-a45a-9000a57fa207",
   "metadata": {},
   "outputs": [
    {
     "name": "stdout",
     "output_type": "stream",
     "text": [
      "train data size : 48000\n",
      "test data size : 12000\n"
     ]
    }
   ],
   "source": [
    "# shuffle true by default\n",
    "corpus_train, corpus_test, y_train, y_test = train_test_split(\n",
    "    samples, np.array(labels), test_size=0.2, random_state=7\n",
    ")\n",
    "\n",
    "print('train data size : {}'.format(len(corpus_train)))\n",
    "print('test data size : {}'.format(len(corpus_test)))"
   ]
  },
  {
   "cell_type": "code",
   "execution_count": 77,
   "id": "0b0328eb-aebb-497e-80a2-f628794e760f",
   "metadata": {},
   "outputs": [],
   "source": [
    "vectorizer = TfidfVectorizer(min_df=10)\n",
    "X_train = vectorizer.fit_transform(\n",
    "    corpus_train\n",
    ").toarray()  # sparse also works but explanation slicing is not yet supported\n",
    "X_test = vectorizer.transform(corpus_test).toarray()"
   ]
  },
  {
   "cell_type": "code",
   "execution_count": 78,
   "id": "aaf0b151-1cc1-4f31-b850-9ac79c7f97e4",
   "metadata": {},
   "outputs": [
    {
     "data": {
      "text/plain": [
       "(48000, 13605)"
      ]
     },
     "execution_count": 78,
     "metadata": {},
     "output_type": "execute_result"
    }
   ],
   "source": [
    "X_train.shape"
   ]
  },
  {
   "cell_type": "markdown",
   "id": "e05f41eb-e23b-41e5-a959-e976992c85a0",
   "metadata": {},
   "source": [
    "#### Logistic regression"
   ]
  },
  {
   "cell_type": "code",
   "execution_count": 79,
   "id": "e4b550bf-a582-4b32-becf-41c65946a7a7",
   "metadata": {},
   "outputs": [
    {
     "name": "stdout",
     "output_type": "stream",
     "text": [
      "              precision    recall  f1-score   support\n",
      "\n",
      "           0       0.76      0.82      0.79      6001\n",
      "           1       0.80      0.74      0.77      5999\n",
      "\n",
      "    accuracy                           0.78     12000\n",
      "   macro avg       0.78      0.78      0.78     12000\n",
      "weighted avg       0.78      0.78      0.78     12000\n",
      "\n"
     ]
    }
   ],
   "source": [
    "model = LogisticRegression(penalty=\"l2\", C=0.1)\n",
    "model.fit(X_train, y_train)\n",
    "print(classification_report(y_test, model.predict(X_test)))"
   ]
  },
  {
   "cell_type": "code",
   "execution_count": null,
   "id": "d3f17d8f-dc50-4e18-95e9-60bb6ea5901e",
   "metadata": {},
   "outputs": [],
   "source": [
    "              precision    recall  f1-score   support   # imbalanced data (50k)\n",
    "\n",
    "           0       0.80      0.99      0.88      7731\n",
    "           1       0.76      0.14      0.24      2269\n",
    "\n",
    "    accuracy                           0.80     10000\n",
    "   macro avg       0.78      0.56      0.56     10000\n",
    "weighted avg       0.79      0.80      0.74     10000"
   ]
  },
  {
   "cell_type": "code",
   "execution_count": null,
   "id": "1d2cb4e5-d388-460f-8e4b-9abe1c5bb73b",
   "metadata": {},
   "outputs": [],
   "source": [
    "              precision    recall  f1-score   support   # balanced data (10k each)\n",
    "\n",
    "           0       0.72      0.80      0.76      1980\n",
    "           1       0.78      0.69      0.74      2020\n",
    "\n",
    "    accuracy                           0.75      4000\n",
    "   macro avg       0.75      0.75      0.75      4000\n",
    "weighted avg       0.75      0.75      0.75      4000"
   ]
  },
  {
   "cell_type": "code",
   "execution_count": null,
   "id": "79fab6bc-e91f-483d-aae3-0781fc6c3913",
   "metadata": {},
   "outputs": [],
   "source": [
    "              precision    recall  f1-score   support   # balanced data (30k each)\n",
    "\n",
    "           0       0.76      0.82      0.79      6001\n",
    "           1       0.80      0.74      0.77      5999\n",
    "\n",
    "    accuracy                           0.78     12000\n",
    "   macro avg       0.78      0.78      0.78     12000\n",
    "weighted avg       0.78      0.78      0.78     12000"
   ]
  },
  {
   "cell_type": "code",
   "execution_count": null,
   "id": "e98ba026-e554-45e5-9a17-b6cf2a3c1d7a",
   "metadata": {},
   "outputs": [],
   "source": []
  },
  {
   "cell_type": "markdown",
   "id": "4b093d3c-f189-4a47-83d6-4540f1390350",
   "metadata": {},
   "source": [
    "##### Save model"
   ]
  },
  {
   "cell_type": "code",
   "execution_count": 53,
   "id": "676346c4-1837-46c6-86ae-109130711c10",
   "metadata": {},
   "outputs": [],
   "source": [
    "# save\n",
    "with open('/users/ujan/sports-language-in-politics/models/random_classifier_model.pkl','wb') as f:\n",
    "    pickle.dump(model, f)"
   ]
  },
  {
   "cell_type": "code",
   "execution_count": 54,
   "id": "0b003359-a58c-4839-a62d-5cd139f12902",
   "metadata": {},
   "outputs": [],
   "source": [
    "# load\n",
    "#with open('/users/ujan/sports-language-in-politics/models/random_classifier_model.pkl', 'rb') as f:\n",
    "    #model = pickle.load(f)"
   ]
  },
  {
   "cell_type": "markdown",
   "id": "d3a441e6-3c83-4cb4-97b5-7fd9bc448b64",
   "metadata": {},
   "source": [
    "#### NN"
   ]
  },
  {
   "cell_type": "code",
   "execution_count": 82,
   "id": "e6dcb343-9360-401a-9d8a-42a5e10bb67b",
   "metadata": {
    "scrolled": true
   },
   "outputs": [
    {
     "name": "stdout",
     "output_type": "stream",
     "text": [
      "Iteration 1, loss = 0.52595053\n",
      "Iteration 2, loss = 0.37987010\n",
      "Iteration 3, loss = 0.33656465\n",
      "Iteration 4, loss = 0.30864739\n",
      "Iteration 5, loss = 0.28590840\n",
      "Iteration 6, loss = 0.26488467\n",
      "Iteration 7, loss = 0.24502997\n",
      "Iteration 8, loss = 0.22499003\n",
      "Iteration 9, loss = 0.20436969\n",
      "Iteration 10, loss = 0.18420047\n",
      "Iteration 11, loss = 0.16405107\n",
      "Iteration 12, loss = 0.14400380\n",
      "Iteration 13, loss = 0.12495449\n",
      "Iteration 14, loss = 0.10667348\n",
      "Iteration 15, loss = 0.08990553\n",
      "Iteration 16, loss = 0.07543925\n",
      "Iteration 17, loss = 0.06216989\n",
      "Iteration 18, loss = 0.05191968\n",
      "Iteration 19, loss = 0.04335906\n",
      "Iteration 20, loss = 0.03645985\n",
      "Iteration 21, loss = 0.03141258\n",
      "Iteration 22, loss = 0.02683554\n",
      "Iteration 23, loss = 0.02336977\n",
      "Iteration 24, loss = 0.02073880\n",
      "Iteration 25, loss = 0.01924239\n",
      "Iteration 26, loss = 0.01737673\n",
      "Iteration 27, loss = 0.01613909\n",
      "Iteration 28, loss = 0.01507886\n",
      "Iteration 29, loss = 0.01432628\n",
      "Iteration 30, loss = 0.01357006\n",
      "Iteration 31, loss = 0.01290278\n",
      "Iteration 32, loss = 0.01236403\n",
      "Iteration 33, loss = 0.01232207\n",
      "Iteration 34, loss = 0.01117010\n",
      "Iteration 35, loss = 0.01122354\n",
      "Iteration 36, loss = 0.01112438\n",
      "Iteration 37, loss = 0.01011987\n",
      "Iteration 38, loss = 0.01025288\n",
      "Iteration 39, loss = 0.01004134\n",
      "Iteration 40, loss = 0.00978275\n",
      "Iteration 41, loss = 0.01036968\n",
      "Iteration 42, loss = 0.01223786\n",
      "Iteration 43, loss = 0.02071361\n",
      "Iteration 44, loss = 0.01569578\n",
      "Iteration 45, loss = 0.01063677\n",
      "Iteration 46, loss = 0.00925593\n",
      "Iteration 47, loss = 0.00862634\n",
      "Iteration 48, loss = 0.00875349\n",
      "Iteration 49, loss = 0.00805000\n",
      "Iteration 50, loss = 0.00804742\n",
      "Iteration 51, loss = 0.00748641\n",
      "Iteration 52, loss = 0.00790072\n",
      "Iteration 53, loss = 0.00754168\n",
      "Iteration 54, loss = 0.00770852\n",
      "Iteration 55, loss = 0.00736853\n",
      "Iteration 56, loss = 0.00749267\n",
      "Iteration 57, loss = 0.00761040\n",
      "Iteration 58, loss = 0.00750990\n",
      "Iteration 59, loss = 0.00734575\n",
      "Iteration 60, loss = 0.00757190\n",
      "Iteration 61, loss = 0.00817522\n",
      "Iteration 62, loss = 0.01005975\n",
      "Iteration 63, loss = 0.01101550\n",
      "Iteration 64, loss = 0.00884175\n",
      "Iteration 65, loss = 0.00722349\n",
      "Iteration 66, loss = 0.00674584\n",
      "Iteration 67, loss = 0.00647852\n",
      "Iteration 68, loss = 0.00680966\n",
      "Iteration 69, loss = 0.00689246\n",
      "Iteration 70, loss = 0.00660781\n",
      "Iteration 71, loss = 0.00648598\n",
      "Iteration 72, loss = 0.00682263\n",
      "Iteration 73, loss = 0.00636108\n",
      "Iteration 74, loss = 0.00616755\n",
      "Iteration 75, loss = 0.00676004\n",
      "Iteration 76, loss = 0.00702722\n",
      "Iteration 77, loss = 0.00732099\n",
      "Iteration 78, loss = 0.00806047\n",
      "Iteration 79, loss = 0.00720584\n",
      "Iteration 80, loss = 0.00640204\n",
      "Iteration 81, loss = 0.00587635\n",
      "Iteration 82, loss = 0.00586197\n",
      "Iteration 83, loss = 0.00584835\n",
      "Iteration 84, loss = 0.00598261\n",
      "Iteration 85, loss = 0.00617594\n",
      "Iteration 86, loss = 0.00616275\n",
      "Iteration 87, loss = 0.00536210\n",
      "Iteration 88, loss = 0.00534476\n",
      "Iteration 89, loss = 0.00556765\n",
      "Iteration 90, loss = 0.00531179\n",
      "Iteration 91, loss = 0.00550493\n",
      "Iteration 92, loss = 0.00570669\n",
      "Iteration 93, loss = 0.01226914\n",
      "Iteration 94, loss = 0.00955694\n",
      "Iteration 95, loss = 0.00633671\n",
      "Iteration 96, loss = 0.00577749\n",
      "Iteration 97, loss = 0.00543753\n",
      "Iteration 98, loss = 0.00558301\n",
      "Training loss did not improve more than tol=0.000100 for 10 consecutive epochs. Stopping.\n"
     ]
    }
   ],
   "source": [
    "clf = MLPClassifier(random_state=7, max_iter=100, verbose=True).fit(X_train, y_train)"
   ]
  },
  {
   "cell_type": "code",
   "execution_count": 23,
   "id": "e721968b-fa16-448b-bea7-50f9dc185bda",
   "metadata": {},
   "outputs": [],
   "source": [
    "# save\n",
    "#with open('/users/ujan/sports-language-in-politics/models/random_mlpclassifier_model.pkl','wb') as f:\n",
    "    #pickle.dump(clf, f)"
   ]
  },
  {
   "cell_type": "code",
   "execution_count": 18,
   "id": "c041a03b-59bb-48c5-a12b-06280fce6ab8",
   "metadata": {},
   "outputs": [],
   "source": [
    "# load\n",
    "with open('/users/ujan/sports-language-in-politics/models/random_mlpclassifier_model.pkl', 'rb') as f:\n",
    "    clf = pickle.load(f)"
   ]
  },
  {
   "cell_type": "code",
   "execution_count": 83,
   "id": "acb010ff-9c25-41eb-8017-5d9eeb3c0ef3",
   "metadata": {},
   "outputs": [
    {
     "name": "stdout",
     "output_type": "stream",
     "text": [
      "              precision    recall  f1-score   support\n",
      "\n",
      "           0       0.77      0.78      0.77      6001\n",
      "           1       0.77      0.77      0.77      5999\n",
      "\n",
      "    accuracy                           0.77     12000\n",
      "   macro avg       0.77      0.77      0.77     12000\n",
      "weighted avg       0.77      0.77      0.77     12000\n",
      "\n"
     ]
    }
   ],
   "source": [
    "print(classification_report(y_test, clf.predict(X_test)))"
   ]
  },
  {
   "cell_type": "code",
   "execution_count": null,
   "id": "05ddb3c0-579a-47a6-a2c2-fd95fdeb6a9c",
   "metadata": {},
   "outputs": [],
   "source": [
    "              precision    recall  f1-score   support   # balanced data (30k each)\n",
    "\n",
    "           0       0.77      0.78      0.77      6001\n",
    "           1       0.77      0.77      0.77      5999\n",
    "\n",
    "    accuracy                           0.77     12000\n",
    "   macro avg       0.77      0.77      0.77     12000\n",
    "weighted avg       0.77      0.77      0.77     12000\n"
   ]
  },
  {
   "cell_type": "markdown",
   "id": "fa88383f-ca43-49ce-8c93-4639bcdc1570",
   "metadata": {},
   "source": [
    "#### Classify remaining sample"
   ]
  },
  {
   "cell_type": "code",
   "execution_count": 20,
   "id": "5ac4e529-6253-4ccf-bed0-9f09b8828051",
   "metadata": {},
   "outputs": [],
   "source": [
    "samples = []\n",
    "\n",
    "for i in range(len(remaining_df)):\n",
    "    comment = remaining_df[i]['comments'][0]\n",
    "    subreddit = remaining_df[i]['subreddit'][0]\n",
    "    sample = subreddit #+ ' ' + comment\n",
    "    samples.append(sample)"
   ]
  },
  {
   "cell_type": "code",
   "execution_count": 21,
   "id": "3574c0d2-136a-4609-b418-3e31adf4640b",
   "metadata": {},
   "outputs": [],
   "source": [
    "X_test = vectorizer.transform(samples).toarray()"
   ]
  },
  {
   "cell_type": "code",
   "execution_count": 22,
   "id": "46e64a98-1844-4d4b-beb0-3c6106cc91a8",
   "metadata": {},
   "outputs": [
    {
     "data": {
      "text/plain": [
       "array([0, 0, 0, ..., 0, 1, 0])"
      ]
     },
     "execution_count": 22,
     "metadata": {},
     "output_type": "execute_result"
    }
   ],
   "source": [
    "clf.predict(X_test)"
   ]
  },
  {
   "cell_type": "code",
   "execution_count": null,
   "id": "10db18e2-3302-4d63-b305-5b8fa12f152d",
   "metadata": {},
   "outputs": [],
   "source": []
  }
 ],
 "metadata": {
  "kernelspec": {
   "display_name": "Python 3 (ipykernel)",
   "language": "python",
   "name": "python3"
  },
  "language_info": {
   "codemirror_mode": {
    "name": "ipython",
    "version": 3
   },
   "file_extension": ".py",
   "mimetype": "text/x-python",
   "name": "python",
   "nbconvert_exporter": "python",
   "pygments_lexer": "ipython3",
   "version": "3.10.4"
  }
 },
 "nbformat": 4,
 "nbformat_minor": 5
}
