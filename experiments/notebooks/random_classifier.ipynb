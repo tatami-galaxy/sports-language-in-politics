{
 "cells": [
  {
   "cell_type": "code",
   "execution_count": 22,
   "id": "8a403a17-6354-4a27-ba9a-0bec8a203224",
   "metadata": {},
   "outputs": [],
   "source": [
    "import polars as pl\n",
    "from sklearn.linear_model import LogisticRegression\n",
    "from sklearn.feature_extraction.text import TfidfVectorizer\n",
    "from sklearn.metrics import classification_report\n",
    "from sklearn.neural_network import MLPClassifier\n",
    "from sklearn.datasets import make_classification\n",
    "from sklearn.model_selection import train_test_split\n",
    "import numpy as np\n",
    "import pickle"
   ]
  },
  {
   "cell_type": "code",
   "execution_count": 2,
   "id": "59fe4bb9-c1c2-43fe-b812-fc8f9f4c72dd",
   "metadata": {},
   "outputs": [],
   "source": [
    "comment_len_thresh = 150\n",
    "sample_size = 500000\n",
    "seed = 42"
   ]
  },
  {
   "cell_type": "markdown",
   "id": "dfeeec9f-a917-4809-93cc-48741c2c22e0",
   "metadata": {},
   "source": [
    "#### Load and sample random comments"
   ]
  },
  {
   "cell_type": "markdown",
   "id": "6f509c2c-4d60-4e0f-9319-bb382c57ed64",
   "metadata": {},
   "source": [
    "##### To use classifier, shuffle random_df with same seed and remove first sample_size samples"
   ]
  },
  {
   "cell_type": "code",
   "execution_count": 3,
   "id": "58891684-b07a-4b0e-b480-f16e41993123",
   "metadata": {},
   "outputs": [],
   "source": [
    "random_df = pl.read_csv('~/sports-language-in-politics/data/processed/random_sample.csv')"
   ]
  },
  {
   "cell_type": "code",
   "execution_count": 6,
   "id": "e19d55d6-b7bc-4419-a3b2-961384024cc2",
   "metadata": {},
   "outputs": [],
   "source": [
    "random_df = random_df.filter(pl.col(\"comments\").str.lengths() >= comment_len_thresh)\n",
    "random_df = random_df.sample(fraction=1.0, shuffle=True, seed=seed)"
   ]
  },
  {
   "cell_type": "code",
   "execution_count": 7,
   "id": "b1f98960-652d-46d8-bc19-bdbe1987ecc1",
   "metadata": {},
   "outputs": [
    {
     "data": {
      "text/html": [
       "<div><style>\n",
       ".dataframe > thead > tr > th,\n",
       ".dataframe > tbody > tr > td {\n",
       "  text-align: right;\n",
       "  white-space: pre-wrap;\n",
       "}\n",
       "</style>\n",
       "<small>shape: (5, 4)</small><table border=\"1\" class=\"dataframe\"><thead><tr><th>id</th><th>comments</th><th>subreddit</th><th>sub_id</th></tr><tr><td>str</td><td>str</td><td>str</td><td>str</td></tr></thead><tbody><tr><td>&quot;f1vbggn&quot;</td><td>&quot;eu t ligado qu…</td><td>&quot;desabafos&quot;</td><td>&quot;t5_395lw&quot;</td></tr><tr><td>&quot;dnblwg9&quot;</td><td>&quot;oh awesome tha…</td><td>&quot;Multicopter&quot;</td><td>&quot;t5_2u9hy&quot;</td></tr><tr><td>&quot;dyo9ww9&quot;</td><td>&quot;turns out you …</td><td>&quot;todayilearned&quot;</td><td>&quot;t5_2qqjc&quot;</td></tr><tr><td>&quot;ch6em32&quot;</td><td>&quot; gt id say lin…</td><td>&quot;windows&quot;</td><td>&quot;t5_2qh3k&quot;</td></tr><tr><td>&quot;dvfqxtm&quot;</td><td>&quot;if we are to p…</td><td>&quot;CryptoCurrency…</td><td>&quot;t5_2wlj3&quot;</td></tr></tbody></table></div>"
      ],
      "text/plain": [
       "shape: (5, 4)\n",
       "┌─────────┬───────────────────────────────────┬────────────────┬──────────┐\n",
       "│ id      ┆ comments                          ┆ subreddit      ┆ sub_id   │\n",
       "│ ---     ┆ ---                               ┆ ---            ┆ ---      │\n",
       "│ str     ┆ str                               ┆ str            ┆ str      │\n",
       "╞═════════╪═══════════════════════════════════╪════════════════╪══════════╡\n",
       "│ f1vbggn ┆ eu t ligado que o valor das mulh… ┆ desabafos      ┆ t5_395lw │\n",
       "│ dnblwg9 ┆ oh awesome thanks for the reply … ┆ Multicopter    ┆ t5_2u9hy │\n",
       "│ dyo9ww9 ┆ turns out you dont actually have… ┆ todayilearned  ┆ t5_2qqjc │\n",
       "│ ch6em32 ┆  gt id say linux is the wrong wa… ┆ windows        ┆ t5_2qh3k │\n",
       "│ dvfqxtm ┆ if we are to provide a new stand… ┆ CryptoCurrency ┆ t5_2wlj3 │\n",
       "└─────────┴───────────────────────────────────┴────────────────┴──────────┘"
      ]
     },
     "execution_count": 7,
     "metadata": {},
     "output_type": "execute_result"
    }
   ],
   "source": [
    "random_df.head()"
   ]
  },
  {
   "cell_type": "code",
   "execution_count": 8,
   "id": "d0ac08d5-6367-4a7e-97de-3df46109dba3",
   "metadata": {},
   "outputs": [],
   "source": [
    "random_df = random_df[:sample_size]"
   ]
  },
  {
   "cell_type": "markdown",
   "id": "1646951b-30cd-49f2-871f-30aa47f6c44f",
   "metadata": {},
   "source": [
    "#### Load partial sports and gaming subs"
   ]
  },
  {
   "cell_type": "code",
   "execution_count": 9,
   "id": "3623c0c2-5d0f-4c3b-ad8c-f34838a0272a",
   "metadata": {},
   "outputs": [],
   "source": [
    "sports_df = pl.read_csv('~/sports-language-in-politics/data/processed/sports_sample.csv')\n",
    "gaming_df = pl.read_csv('~/sports-language-in-politics/data/processed/gaming_subs.csv', truncate_ragged_lines=True)\n",
    "\n",
    "sports_subs = sports_df['subreddit'].unique().to_list()\n",
    "gaming_subs = []\n",
    "for i in range(len(gaming_df)):\n",
    "    gaming_subs.append(gaming_df[i]['Name;Link'].to_list()[0].split('/r/')[-1])\n",
    "gaming_subs = list(set(gaming_subs))\n",
    "sports_subs.extend(gaming_subs)"
   ]
  },
  {
   "cell_type": "markdown",
   "id": "eda98495-0add-4921-8692-e63a7d257e94",
   "metadata": {},
   "source": [
    "#### Get a better list of sports and gaming subs manually"
   ]
  },
  {
   "cell_type": "markdown",
   "id": "78e31631-de30-4366-8c2b-87c3e3732ba3",
   "metadata": {},
   "source": [
    "##### first remove already known subs"
   ]
  },
  {
   "cell_type": "code",
   "execution_count": 10,
   "id": "7827dcb4-3155-466e-aa8b-28e04f4df10f",
   "metadata": {},
   "outputs": [],
   "source": [
    "manual_list = [\n",
    "    'leagueoflegends', 'nba', 'soccer', 'nfl', 'DestinyTheGame', 'gaming',\n",
    "    'DotA2', 'SquaredCircle', 'Overwatch', 'CFB', 'MMA', 'fantasyfootball',\n",
    "    'NintendoSwitch', 'formula1', '2007scape', 'FortNiteBR', 'FireEmblemHeroes',\n",
    "    'Competitiveoverwatch', 'Rainbow6', 'pokemontrades', 'reddevils',\n",
    "    'GlobalOffensiveTrade', 'u_RedditNintendoSwitch', 'dndnext', 'darksouls3',\n",
    "    'classicwow', 'PUBATTLEGROUNDS', 'Cricket', 'CollegeBasketball', \n",
    "    'deadbydaylight', 'RocketLeague', 'deadbydaylight', 'Gunners', 'running',\n",
    "    'ClashRoyale', 'LiverpoolFC', 'fantasybaseball', 'DBZDokkanBattle',\n",
    "    'bravefrontier', 'pokemongo', 'bloodborne', 'forhonor', 'bicycling',\n",
    "    'MaddenUltimateTeam', 'feedthebeast', 'gtaonline', 'golf', 'WorldOfWarships',\n",
    "    'NASCAR', 'grandorder', 'bjj', 'sports', 'tennis', '10s', 'TennisClash',\n",
    "    'apexlegends', 'Boxing', 'FantasyPL', 'CoDCompetitive', 'chess', 'motorsports',\n",
    "    'Warhammer40k', 'OverwatchUniversity', 'NoMansSkyTheGame', 'chelseafc',\n",
    "    'poker', 'SWGalaxyOfHeroes', 'Seaofthieves', 'RocketLeagueExchange',\n",
    "    'rugbyunion', 'nrl', 'modernwarfare', 'BattlefieldV', '40kLore',\n",
    "    'MonsterHunterWorld', 'h1z1', 'airsoft', 'csgobetting', 'FakeCollegeFootball',\n",
    "    'ModernMagic', 'DynastyFF', 'Sexsells', 'AFL', 'FortniteCompetitive',\n",
    "    'GamerGhazi', 'sportsbetting', 'sportsbook', 'baseball', 'SportsFR', 'broodwar',\n",
    "    'G2eSports', 'hockey', 'sportsarefun', 'AllCombatSports', 'starcraft', 'aoe2',\n",
    "    'indiansports', 'EASportsFC', 'NintendoSwitchSports', 'rugbyunion', 'coys', \n",
    "    'GlobalOffensive', 'esports', 'MirrorSports', 'EA_NHL','discgolf', 'EASPORTSWRC',\n",
    "]"
   ]
  },
  {
   "cell_type": "code",
   "execution_count": 11,
   "id": "c206896b-a820-4e70-8739-88d9fa2d2135",
   "metadata": {},
   "outputs": [],
   "source": [
    "sports_subs.extend(manual_list)"
   ]
  },
  {
   "cell_type": "code",
   "execution_count": 12,
   "id": "a1d67024-c124-463f-ba6f-0625b33fd275",
   "metadata": {},
   "outputs": [],
   "source": [
    "#dummy_df = random_df.filter(~pl.col(\"subreddit\").is_in(sports_subs))\n",
    "#dummy_df.to_pandas().groupby('subreddit').agg({\"id\":\"count\"}).sort_values(\"id\",ascending=False)[500:520]"
   ]
  },
  {
   "cell_type": "markdown",
   "id": "c157d537-b5f4-4670-8494-44c0757757dc",
   "metadata": {},
   "source": [
    "#### Build dataset"
   ]
  },
  {
   "cell_type": "code",
   "execution_count": 13,
   "id": "dece93c0-55f3-40de-9b29-d8321f4afd90",
   "metadata": {},
   "outputs": [],
   "source": [
    "samples = []\n",
    "labels = []\n",
    "\n",
    "for i in range(len(random_df)):\n",
    "    comment = random_df[i]['comments'][0]\n",
    "    subreddit = random_df[i]['subreddit'][0]\n",
    "    sample = subreddit #+ ' ' + comment\n",
    "    if subreddit in sports_subs:\n",
    "        label = 1\n",
    "    else:\n",
    "        label = 0\n",
    "    samples.append(sample)\n",
    "    labels.append(label)"
   ]
  },
  {
   "cell_type": "code",
   "execution_count": 14,
   "id": "dc6e4cec-3793-4d61-a45a-9000a57fa207",
   "metadata": {},
   "outputs": [
    {
     "name": "stdout",
     "output_type": "stream",
     "text": [
      "train data size : 400000\n",
      "test data size : 100000\n"
     ]
    }
   ],
   "source": [
    "corpus_train, corpus_test, y_train, y_test = train_test_split(\n",
    "    samples, np.array(labels), test_size=0.2, random_state=7\n",
    ")\n",
    "\n",
    "print('train data size : {}'.format(len(corpus_train)))\n",
    "print('test data size : {}'.format(len(corpus_test)))"
   ]
  },
  {
   "cell_type": "code",
   "execution_count": 17,
   "id": "0b0328eb-aebb-497e-80a2-f628794e760f",
   "metadata": {},
   "outputs": [],
   "source": [
    "vectorizer = TfidfVectorizer(min_df=10)\n",
    "X_train = vectorizer.fit_transform(\n",
    "    corpus_train\n",
    ").toarray()  # sparse also works but explanation slicing is not yet supported\n",
    "X_test = vectorizer.transform(corpus_test).toarray()"
   ]
  },
  {
   "cell_type": "markdown",
   "id": "e05f41eb-e23b-41e5-a959-e976992c85a0",
   "metadata": {},
   "source": [
    "#### Logistic regression"
   ]
  },
  {
   "cell_type": "code",
   "execution_count": 50,
   "id": "e4b550bf-a582-4b32-becf-41c65946a7a7",
   "metadata": {},
   "outputs": [
    {
     "name": "stdout",
     "output_type": "stream",
     "text": [
      "              precision    recall  f1-score   support\n",
      "\n",
      "           0       0.98      1.00      0.99     77556\n",
      "           1       1.00      0.93      0.97     22444\n",
      "\n",
      "    accuracy                           0.98    100000\n",
      "   macro avg       0.99      0.97      0.98    100000\n",
      "weighted avg       0.99      0.98      0.98    100000\n",
      "\n"
     ]
    }
   ],
   "source": [
    "model = LogisticRegression(penalty=\"l2\", C=0.1)\n",
    "model.fit(X_train, y_train)\n",
    "print(classification_report(y_test, model.predict(X_test)))"
   ]
  },
  {
   "cell_type": "markdown",
   "id": "4b093d3c-f189-4a47-83d6-4540f1390350",
   "metadata": {},
   "source": [
    "##### Save model"
   ]
  },
  {
   "cell_type": "code",
   "execution_count": 53,
   "id": "676346c4-1837-46c6-86ae-109130711c10",
   "metadata": {},
   "outputs": [],
   "source": [
    "# save\n",
    "with open('/users/ujan/sports-language-in-politics/models/random_classifier_model.pkl','wb') as f:\n",
    "    pickle.dump(model, f)"
   ]
  },
  {
   "cell_type": "code",
   "execution_count": 54,
   "id": "0b003359-a58c-4839-a62d-5cd139f12902",
   "metadata": {},
   "outputs": [],
   "source": [
    "# load\n",
    "#with open('/users/ujan/sports-language-in-politics/models/random_classifier_model.pkl', 'rb') as f:\n",
    "    #model = pickle.load(f)"
   ]
  },
  {
   "cell_type": "markdown",
   "id": "d3a441e6-3c83-4cb4-97b5-7fd9bc448b64",
   "metadata": {},
   "source": [
    "#### NN"
   ]
  },
  {
   "cell_type": "code",
   "execution_count": 20,
   "id": "e6dcb343-9360-401a-9d8a-42a5e10bb67b",
   "metadata": {},
   "outputs": [
    {
     "name": "stdout",
     "output_type": "stream",
     "text": [
      "Iteration 1, loss = 0.05689525\n",
      "Iteration 2, loss = 0.01030785\n",
      "Iteration 3, loss = 0.01012086\n",
      "Iteration 4, loss = 0.01005476\n",
      "Iteration 5, loss = 0.01003331\n",
      "Iteration 6, loss = 0.00997878\n",
      "Iteration 7, loss = 0.00995140\n",
      "Iteration 8, loss = 0.00993362\n",
      "Iteration 9, loss = 0.00992322\n",
      "Iteration 10, loss = 0.00992337\n"
     ]
    },
    {
     "name": "stderr",
     "output_type": "stream",
     "text": [
      "/Users/ujan/opt/anaconda3/envs/nlp/lib/python3.10/site-packages/sklearn/neural_network/_multilayer_perceptron.py:691: ConvergenceWarning: Stochastic Optimizer: Maximum iterations (10) reached and the optimization hasn't converged yet.\n",
      "  warnings.warn(\n"
     ]
    }
   ],
   "source": [
    "clf = MLPClassifier(random_state=7, max_iter=10, verbose=True).fit(X_train, y_train)"
   ]
  },
  {
   "cell_type": "code",
   "execution_count": 21,
   "id": "acb010ff-9c25-41eb-8017-5d9eeb3c0ef3",
   "metadata": {},
   "outputs": [
    {
     "name": "stdout",
     "output_type": "stream",
     "text": [
      "              precision    recall  f1-score   support\n",
      "\n",
      "           0       1.00      1.00      1.00     77556\n",
      "           1       1.00      0.99      0.99     22444\n",
      "\n",
      "    accuracy                           1.00    100000\n",
      "   macro avg       1.00      0.99      1.00    100000\n",
      "weighted avg       1.00      1.00      1.00    100000\n",
      "\n"
     ]
    }
   ],
   "source": [
    "print(classification_report(y_test, clf.predict(X_test)))"
   ]
  },
  {
   "cell_type": "code",
   "execution_count": 23,
   "id": "e721968b-fa16-448b-bea7-50f9dc185bda",
   "metadata": {},
   "outputs": [],
   "source": [
    "# save\n",
    "with open('/users/ujan/sports-language-in-politics/models/random_mlpclassifier_model.pkl','wb') as f:\n",
    "    pickle.dump(clf, f)"
   ]
  },
  {
   "cell_type": "code",
   "execution_count": null,
   "id": "46e64a98-1844-4d4b-beb0-3c6106cc91a8",
   "metadata": {},
   "outputs": [],
   "source": []
  }
 ],
 "metadata": {
  "kernelspec": {
   "display_name": "Python 3 (ipykernel)",
   "language": "python",
   "name": "python3"
  },
  "language_info": {
   "codemirror_mode": {
    "name": "ipython",
    "version": 3
   },
   "file_extension": ".py",
   "mimetype": "text/x-python",
   "name": "python",
   "nbconvert_exporter": "python",
   "pygments_lexer": "ipython3",
   "version": "3.10.4"
  }
 },
 "nbformat": 4,
 "nbformat_minor": 5
}
