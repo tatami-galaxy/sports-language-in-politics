{
 "cells": [
  {
   "cell_type": "code",
   "execution_count": 1,
   "id": "2701b832-c09b-41fe-bdad-a5f87e125908",
   "metadata": {},
   "outputs": [],
   "source": [
    "import polars as pl\n",
    "import json\n",
    "import statistics"
   ]
  },
  {
   "cell_type": "markdown",
   "id": "c775313c-14c4-40e2-9d6c-bc7f8f6c300f",
   "metadata": {},
   "source": [
    "##### Load data"
   ]
  },
  {
   "cell_type": "code",
   "execution_count": 2,
   "id": "2a5cbc44-c4e0-4d18-81b7-e2618b0db104",
   "metadata": {},
   "outputs": [],
   "source": [
    "data_dir = '/Volumes/PortableSSD/CSS/data/processed/'\n",
    "\n",
    "data_df = pl.read_csv(data_dir+'posts_2015-21_ps_min_2c_politics.csv')\n",
    "with open(data_dir+'exact_matches_posts_10000.json') as f:\n",
    "    exact_matches = json.load(f)\n",
    "with open(data_dir+'sem_matches_posts_10000.json') as f:\n",
    "    sem_matches = json.load(f)"
   ]
  },
  {
   "cell_type": "code",
   "execution_count": 3,
   "id": "ee3d7583-36e3-4fcd-98a8-570f0b0e388b",
   "metadata": {},
   "outputs": [
    {
     "data": {
      "text/html": [
       "<div><style>\n",
       ".dataframe > thead > tr,\n",
       ".dataframe > tbody > tr {\n",
       "  text-align: right;\n",
       "  white-space: pre-wrap;\n",
       "}\n",
       "</style>\n",
       "<small>shape: (5, 10)</small><table border=\"1\" class=\"dataframe\"><thead><tr><th>id</th><th>created_utc</th><th>subreddit</th><th>author</th><th>url</th><th>title</th><th>selftext</th><th>num_comments</th><th>score</th><th>upvote_ratio</th></tr><tr><td>str</td><td>i64</td><td>str</td><td>str</td><td>str</td><td>str</td><td>str</td><td>i64</td><td>i64</td><td>f64</td></tr></thead><tbody><tr><td>&quot;589v04&quot;</td><td>1476878103</td><td>&quot;The_Donald&quot;</td><td>&quot;gmousasi&quot;</td><td>&quot;https://i.redd…</td><td>&quot;Just a rare ba…</td><td>&quot;&quot;</td><td>17</td><td>1242</td><td>100.0</td></tr><tr><td>&quot;589ygu&quot;</td><td>1476879588</td><td>&quot;Enough_Sanders…</td><td>&quot;12-juin-3049&quot;</td><td>&quot;http://www.red…</td><td>&quot;Bernout gets e…</td><td>&quot;&quot;</td><td>12</td><td>28</td><td>100.0</td></tr><tr><td>&quot;58a7z5&quot;</td><td>1476883248</td><td>&quot;EnoughTrumpSpa…</td><td>&quot;TheIronTARDIS&quot;</td><td>&quot;http://np.redd…</td><td>&quot;In case you ne…</td><td>&quot;&quot;</td><td>38</td><td>371</td><td>100.0</td></tr><tr><td>&quot;58aa2h&quot;</td><td>1476883994</td><td>&quot;politics&quot;</td><td>&quot;Naggers123&quot;</td><td>&quot;http://www.bre…</td><td>&quot;Poll: Hillary …</td><td>&quot;&quot;</td><td>170</td><td>305</td><td>100.0</td></tr><tr><td>&quot;58bnuv&quot;</td><td>1476899246</td><td>&quot;politics&quot;</td><td>&quot;Metaprinter&quot;</td><td>&quot;https://gop.co…</td><td>&quot;Trump asking t…</td><td>&quot;&quot;</td><td>38</td><td>24</td><td>100.0</td></tr></tbody></table></div>"
      ],
      "text/plain": [
       "shape: (5, 10)\n",
       "┌────────┬─────────────┬─────────────┬────────────┬───┬──────────┬────────────┬───────┬────────────┐\n",
       "│ id     ┆ created_utc ┆ subreddit   ┆ author     ┆ … ┆ selftext ┆ num_commen ┆ score ┆ upvote_rat │\n",
       "│ ---    ┆ ---         ┆ ---         ┆ ---        ┆   ┆ ---      ┆ ts         ┆ ---   ┆ io         │\n",
       "│ str    ┆ i64         ┆ str         ┆ str        ┆   ┆ str      ┆ ---        ┆ i64   ┆ ---        │\n",
       "│        ┆             ┆             ┆            ┆   ┆          ┆ i64        ┆       ┆ f64        │\n",
       "╞════════╪═════════════╪═════════════╪════════════╪═══╪══════════╪════════════╪═══════╪════════════╡\n",
       "│ 589v04 ┆ 1476878103  ┆ The_Donald  ┆ gmousasi   ┆ … ┆          ┆ 17         ┆ 1242  ┆ 100.0      │\n",
       "│ 589ygu ┆ 1476879588  ┆ Enough_Sand ┆ 12-juin-30 ┆ … ┆          ┆ 12         ┆ 28    ┆ 100.0      │\n",
       "│        ┆             ┆ ers_Spam    ┆ 49         ┆   ┆          ┆            ┆       ┆            │\n",
       "│ 58a7z5 ┆ 1476883248  ┆ EnoughTrump ┆ TheIronTAR ┆ … ┆          ┆ 38         ┆ 371   ┆ 100.0      │\n",
       "│        ┆             ┆ Spam        ┆ DIS        ┆   ┆          ┆            ┆       ┆            │\n",
       "│ 58aa2h ┆ 1476883994  ┆ politics    ┆ Naggers123 ┆ … ┆          ┆ 170        ┆ 305   ┆ 100.0      │\n",
       "│ 58bnuv ┆ 1476899246  ┆ politics    ┆ Metaprinte ┆ … ┆          ┆ 38         ┆ 24    ┆ 100.0      │\n",
       "│        ┆             ┆             ┆ r          ┆   ┆          ┆            ┆       ┆            │\n",
       "└────────┴─────────────┴─────────────┴────────────┴───┴──────────┴────────────┴───────┴────────────┘"
      ]
     },
     "execution_count": 3,
     "metadata": {},
     "output_type": "execute_result"
    }
   ],
   "source": [
    "data_df.head()"
   ]
  },
  {
   "cell_type": "markdown",
   "id": "27894430-5983-4a75-9b1a-865ffdf3932d",
   "metadata": {},
   "source": [
    "##### Data exploration"
   ]
  },
  {
   "cell_type": "code",
   "execution_count": null,
   "id": "6fa7d769-0c8f-4479-9662-a43cc89b52f0",
   "metadata": {},
   "outputs": [],
   "source": [
    "posts = data_df['title'].to_list()"
   ]
  },
  {
   "cell_type": "code",
   "execution_count": 5,
   "id": "967a73bc-871d-4c15-b128-524014c36f85",
   "metadata": {},
   "outputs": [
    {
     "data": {
      "text/plain": [
       "9127279"
      ]
     },
     "execution_count": 5,
     "metadata": {},
     "output_type": "execute_result"
    }
   ],
   "source": [
    "len(posts)"
   ]
  },
  {
   "cell_type": "code",
   "execution_count": null,
   "id": "51603c0c-9bef-4e4e-89a1-21d405a28753",
   "metadata": {},
   "outputs": [],
   "source": []
  },
  {
   "cell_type": "code",
   "execution_count": null,
   "id": "ba7a1f72-d2c6-43f9-bcec-b5a8596c9ee5",
   "metadata": {},
   "outputs": [],
   "source": []
  },
  {
   "cell_type": "code",
   "execution_count": null,
   "id": "51b3b19c-90bf-467d-9c8b-a81a385afad8",
   "metadata": {},
   "outputs": [],
   "source": []
  },
  {
   "cell_type": "code",
   "execution_count": null,
   "id": "83a52163-0bce-4428-81ce-0e22242a11c8",
   "metadata": {},
   "outputs": [],
   "source": []
  },
  {
   "cell_type": "code",
   "execution_count": null,
   "id": "27a6bd5b-2acc-4ea6-a778-b839f789ae3b",
   "metadata": {},
   "outputs": [],
   "source": []
  },
  {
   "cell_type": "code",
   "execution_count": null,
   "id": "f4659d62-0b68-4f0f-a2dc-0f6d0c32d05b",
   "metadata": {},
   "outputs": [],
   "source": []
  },
  {
   "cell_type": "code",
   "execution_count": null,
   "id": "f504a43a-0a56-4b5a-95d2-b24728ebb709",
   "metadata": {},
   "outputs": [],
   "source": []
  },
  {
   "cell_type": "code",
   "execution_count": null,
   "id": "0a97ab66-28ae-4826-a81c-65ea9a17f1ca",
   "metadata": {},
   "outputs": [],
   "source": []
  },
  {
   "cell_type": "code",
   "execution_count": null,
   "id": "8af09004-7adc-4793-89fb-b9731a533979",
   "metadata": {},
   "outputs": [],
   "source": []
  },
  {
   "cell_type": "code",
   "execution_count": null,
   "id": "fce9b1c4-d571-49ae-b9a9-7329c5909fbf",
   "metadata": {},
   "outputs": [],
   "source": []
  },
  {
   "cell_type": "markdown",
   "id": "b1228a94-90f7-4055-b858-734aa1b66226",
   "metadata": {},
   "source": [
    "##### Find metaphor matched posts"
   ]
  },
  {
   "cell_type": "code",
   "execution_count": 4,
   "id": "82848071-ae4e-4810-b93a-b216ea123bf6",
   "metadata": {
    "scrolled": true
   },
   "outputs": [],
   "source": [
    "exact_ids = []\n",
    "for key, matches in exact_matches.items():\n",
    "    if len(matches[1]) > 0:\n",
    "        exact_ids.extend(matches[1])\n",
    "\n",
    "sem_ids = []\n",
    "sem_thresh = 0.8\n",
    "for key, matches in sem_matches.items():\n",
    "    if matches[0] > 0:\n",
    "        for match in matches[1]:\n",
    "            if match[1] >= sem_thresh:\n",
    "                sem_ids.append(match[2])\n",
    "\n",
    "match_ids = exact_ids + sem_ids"
   ]
  },
  {
   "cell_type": "markdown",
   "id": "77f20bc0-4e6e-402b-914a-e190440392f7",
   "metadata": {},
   "source": [
    "##### Count average num_comments for metaphor matched posts vs non metaphor matched posts"
   ]
  },
  {
   "cell_type": "code",
   "execution_count": 5,
   "id": "64b9a25b-e4ef-4116-8128-d47b000707f0",
   "metadata": {},
   "outputs": [
    {
     "name": "stdout",
     "output_type": "stream",
     "text": [
      "metaphor matched posts : 42.02884615384615\n",
      "non metaphor matched posts : 31.624905074174993\n"
     ]
    }
   ],
   "source": [
    "meta_num_comments = data_df.filter(pl.col('id').is_in(match_ids))['num_comments'].to_list()\n",
    "print('metaphor matched posts : {}'.format(sum(meta_num_comments)/len(meta_num_comments)))\n",
    "\n",
    "other_num_comments = data_df.filter(~pl.col('id').is_in(match_ids))['num_comments'].to_list()\n",
    "print('non metaphor matched posts : {}'.format(sum(other_num_comments)/len(other_num_comments)))"
   ]
  },
  {
   "cell_type": "code",
   "execution_count": 6,
   "id": "44cc9635-e010-4184-95f0-1f007b0954ae",
   "metadata": {},
   "outputs": [
    {
     "name": "stdout",
     "output_type": "stream",
     "text": [
      "metaphor matched posts : 7.0\n",
      "non metaphor matched posts : 7\n"
     ]
    }
   ],
   "source": [
    "print('metaphor matched posts : {}'.format(statistics.median(meta_num_comments)))\n",
    "print('non metaphor matched posts : {}'.format(statistics.median(other_num_comments)))"
   ]
  },
  {
   "cell_type": "markdown",
   "id": "a7280add-aa7a-432c-a334-fd8b804ca917",
   "metadata": {},
   "source": [
    "##### Comparison by subreddits"
   ]
  },
  {
   "cell_type": "markdown",
   "id": "330c1914-f7d2-40fd-b4b7-f2056ebe9555",
   "metadata": {},
   "source": [
    "##### politics"
   ]
  },
  {
   "cell_type": "code",
   "execution_count": 96,
   "id": "73293655-13a4-4090-bd41-9cc41686ce2d",
   "metadata": {},
   "outputs": [
    {
     "name": "stdout",
     "output_type": "stream",
     "text": [
      "total metaphor matched posts : 91\n",
      "metaphor matched posts : 120.89010989010988\n",
      "non metaphor matched posts : 65.13940425214072\n"
     ]
    }
   ],
   "source": [
    "sub_df = data_df.filter(pl.col('subreddit')=='politics')\n",
    "meta_num_comments = sub_df.filter(pl.col('id').is_in(match_ids))['num_comments'].to_list()\n",
    "print('total metaphor matched posts : {}'.format(len(meta_num_comments)))\n",
    "print('metaphor matched posts : {}'.format(sum(meta_num_comments)/len(meta_num_comments)))\n",
    "\n",
    "other_num_comments = sub_df.filter(~pl.col('id').is_in(match_ids))['num_comments'].to_list()\n",
    "print('non metaphor matched posts : {}'.format(sum(other_num_comments)/len(other_num_comments)))"
   ]
  },
  {
   "cell_type": "code",
   "execution_count": 97,
   "id": "a17d5939-8cf8-4a9e-9306-246e07f5853d",
   "metadata": {},
   "outputs": [
    {
     "name": "stdout",
     "output_type": "stream",
     "text": [
      "metaphor matched posts : 10\n",
      "non metaphor matched posts : 10.0\n"
     ]
    }
   ],
   "source": [
    "print('metaphor matched posts : {}'.format(statistics.median(meta_num_comments)))\n",
    "print('non metaphor matched posts : {}'.format(statistics.median(other_num_comments)))"
   ]
  },
  {
   "cell_type": "markdown",
   "id": "44d9838c-fff6-4949-8d35-7705b0801a31",
   "metadata": {},
   "source": [
    "##### SandersForPresident"
   ]
  },
  {
   "cell_type": "code",
   "execution_count": 98,
   "id": "1c4a6a48-faba-4664-8cb5-1b6436b56b1b",
   "metadata": {},
   "outputs": [
    {
     "name": "stdout",
     "output_type": "stream",
     "text": [
      "total metaphor matched posts : 13\n",
      "metaphor matched posts : 46.69230769230769\n",
      "non metaphor matched posts : 27.81863442389758\n"
     ]
    }
   ],
   "source": [
    "sub_df = data_df.filter(pl.col('subreddit')=='SandersForPresident')\n",
    "meta_num_comments = sub_df.filter(pl.col('id').is_in(match_ids))['num_comments'].to_list()\n",
    "print('total metaphor matched posts : {}'.format(len(meta_num_comments)))\n",
    "print('metaphor matched posts : {}'.format(sum(meta_num_comments)/len(meta_num_comments)))\n",
    "\n",
    "other_num_comments = sub_df.filter(~pl.col('id').is_in(match_ids))['num_comments'].to_list()\n",
    "print('non metaphor matched posts : {}'.format(sum(other_num_comments)/len(other_num_comments)))"
   ]
  },
  {
   "cell_type": "code",
   "execution_count": 99,
   "id": "9098c0b3-9472-4791-98a2-be8d45c5c7f5",
   "metadata": {},
   "outputs": [
    {
     "name": "stdout",
     "output_type": "stream",
     "text": [
      "metaphor matched posts : 8\n",
      "non metaphor matched posts : 7.0\n"
     ]
    }
   ],
   "source": [
    "print('metaphor matched posts : {}'.format(statistics.median(meta_num_comments)))\n",
    "print('non metaphor matched posts : {}'.format(statistics.median(other_num_comments)))"
   ]
  },
  {
   "cell_type": "markdown",
   "id": "4872137c-28dd-4b66-9378-b65edc6676bb",
   "metadata": {},
   "source": [
    "##### SocialDemocracy"
   ]
  },
  {
   "cell_type": "code",
   "execution_count": 100,
   "id": "5d2fd59d-9661-4138-a7ed-870687803597",
   "metadata": {},
   "outputs": [
    {
     "name": "stdout",
     "output_type": "stream",
     "text": [
      "total metaphor matched posts : 1\n",
      "metaphor matched posts : 137.0\n",
      "non metaphor matched posts : 20.724801271860095\n"
     ]
    }
   ],
   "source": [
    "sub_df = data_df.filter(pl.col('subreddit')=='SocialDemocracy')\n",
    "meta_num_comments = sub_df.filter(pl.col('id').is_in(match_ids))['num_comments'].to_list()\n",
    "print('total metaphor matched posts : {}'.format(len(meta_num_comments)))\n",
    "print('metaphor matched posts : {}'.format(sum(meta_num_comments)/len(meta_num_comments)))\n",
    "\n",
    "other_num_comments = sub_df.filter(~pl.col('id').is_in(match_ids))['num_comments'].to_list()\n",
    "print('non metaphor matched posts : {}'.format(sum(other_num_comments)/len(other_num_comments)))"
   ]
  },
  {
   "cell_type": "markdown",
   "id": "04258c48-1e88-412a-9d09-8516bf8ccbe4",
   "metadata": {},
   "source": [
    "##### democrats"
   ]
  },
  {
   "cell_type": "code",
   "execution_count": 102,
   "id": "ec95d619-c730-4fd2-9280-de9b72d1bbf4",
   "metadata": {},
   "outputs": [
    {
     "name": "stdout",
     "output_type": "stream",
     "text": [
      "total metaphor matched posts : 6\n",
      "metaphor matched posts : 24.833333333333332\n",
      "non metaphor matched posts : 13.735694706184685\n"
     ]
    }
   ],
   "source": [
    "sub_df = data_df.filter(pl.col('subreddit')=='democrats')\n",
    "meta_num_comments = sub_df.filter(pl.col('id').is_in(match_ids))['num_comments'].to_list()\n",
    "print('total metaphor matched posts : {}'.format(len(meta_num_comments)))\n",
    "print('metaphor matched posts : {}'.format(sum(meta_num_comments)/len(meta_num_comments)))\n",
    "\n",
    "other_num_comments = sub_df.filter(~pl.col('id').is_in(match_ids))['num_comments'].to_list()\n",
    "print('non metaphor matched posts : {}'.format(sum(other_num_comments)/len(other_num_comments)))"
   ]
  },
  {
   "cell_type": "code",
   "execution_count": 103,
   "id": "760f522e-4ac4-4171-bd80-4680b2dd081c",
   "metadata": {},
   "outputs": [
    {
     "name": "stdout",
     "output_type": "stream",
     "text": [
      "metaphor matched posts : 5.0\n",
      "non metaphor matched posts : 5.0\n"
     ]
    }
   ],
   "source": [
    "print('metaphor matched posts : {}'.format(statistics.median(meta_num_comments)))\n",
    "print('non metaphor matched posts : {}'.format(statistics.median(other_num_comments)))"
   ]
  },
  {
   "cell_type": "markdown",
   "id": "710eb62a-c815-4bce-85db-2f708d53ee25",
   "metadata": {},
   "source": [
    "##### Libertarian"
   ]
  },
  {
   "cell_type": "code",
   "execution_count": 104,
   "id": "dfe90a36-c14c-4fd5-8f7a-a16dbf78dacb",
   "metadata": {},
   "outputs": [
    {
     "name": "stdout",
     "output_type": "stream",
     "text": [
      "total metaphor matched posts : 12\n",
      "metaphor matched posts : 57.833333333333336\n",
      "non metaphor matched posts : 41.163156042766275\n"
     ]
    }
   ],
   "source": [
    "sub_df = data_df.filter(pl.col('subreddit')=='Libertarian')\n",
    "meta_num_comments = sub_df.filter(pl.col('id').is_in(match_ids))['num_comments'].to_list()\n",
    "print('total metaphor matched posts : {}'.format(len(meta_num_comments)))\n",
    "print('metaphor matched posts : {}'.format(sum(meta_num_comments)/len(meta_num_comments)))\n",
    "\n",
    "other_num_comments = sub_df.filter(~pl.col('id').is_in(match_ids))['num_comments'].to_list()\n",
    "print('non metaphor matched posts : {}'.format(sum(other_num_comments)/len(other_num_comments)))"
   ]
  },
  {
   "cell_type": "code",
   "execution_count": 105,
   "id": "e321439b-6e2e-4d63-8292-a790fe413b34",
   "metadata": {},
   "outputs": [
    {
     "name": "stdout",
     "output_type": "stream",
     "text": [
      "metaphor matched posts : 18.0\n",
      "non metaphor matched posts : 11\n"
     ]
    }
   ],
   "source": [
    "print('metaphor matched posts : {}'.format(statistics.median(meta_num_comments)))\n",
    "print('non metaphor matched posts : {}'.format(statistics.median(other_num_comments)))"
   ]
  },
  {
   "cell_type": "code",
   "execution_count": null,
   "id": "c78eaa4c-874c-44cd-98b8-2deef362a8e4",
   "metadata": {},
   "outputs": [],
   "source": []
  },
  {
   "cell_type": "markdown",
   "id": "baf071a8-8f94-43c4-a196-fda02b12740a",
   "metadata": {},
   "source": [
    "##### Conservative"
   ]
  },
  {
   "cell_type": "code",
   "execution_count": 106,
   "id": "e2a425db-6341-4036-82ea-504c3eedd3ad",
   "metadata": {},
   "outputs": [
    {
     "name": "stdout",
     "output_type": "stream",
     "text": [
      "total metaphor matched posts : 11\n",
      "metaphor matched posts : 28.09090909090909\n",
      "non metaphor matched posts : 35.276836504644244\n"
     ]
    }
   ],
   "source": [
    "sub_df = data_df.filter(pl.col('subreddit')=='Conservative')\n",
    "meta_num_comments = sub_df.filter(pl.col('id').is_in(match_ids))['num_comments'].to_list()\n",
    "print('total metaphor matched posts : {}'.format(len(meta_num_comments)))\n",
    "print('metaphor matched posts : {}'.format(sum(meta_num_comments)/len(meta_num_comments)))\n",
    "\n",
    "other_num_comments = sub_df.filter(~pl.col('id').is_in(match_ids))['num_comments'].to_list()\n",
    "print('non metaphor matched posts : {}'.format(sum(other_num_comments)/len(other_num_comments)))"
   ]
  },
  {
   "cell_type": "code",
   "execution_count": 107,
   "id": "07f904a2-ba43-4977-81d2-64c249813cd9",
   "metadata": {},
   "outputs": [
    {
     "name": "stdout",
     "output_type": "stream",
     "text": [
      "metaphor matched posts : 20\n",
      "non metaphor matched posts : 10\n"
     ]
    }
   ],
   "source": [
    "print('metaphor matched posts : {}'.format(statistics.median(meta_num_comments)))\n",
    "print('non metaphor matched posts : {}'.format(statistics.median(other_num_comments)))"
   ]
  },
  {
   "cell_type": "markdown",
   "id": "96cf5b2b-9d6d-404f-91a0-355dd1737158",
   "metadata": {},
   "source": [
    "##### The_Donald"
   ]
  },
  {
   "cell_type": "code",
   "execution_count": 108,
   "id": "e4781e69-2fe1-4528-a848-86b8fd809240",
   "metadata": {},
   "outputs": [
    {
     "name": "stdout",
     "output_type": "stream",
     "text": [
      "total metaphor matched posts : 109\n",
      "metaphor matched posts : 11.862385321100918\n",
      "non metaphor matched posts : 18.093797050019397\n"
     ]
    }
   ],
   "source": [
    "sub_df = data_df.filter(pl.col('subreddit')=='The_Donald')\n",
    "meta_num_comments = sub_df.filter(pl.col('id').is_in(match_ids))['num_comments'].to_list()\n",
    "print('total metaphor matched posts : {}'.format(len(meta_num_comments)))\n",
    "print('metaphor matched posts : {}'.format(sum(meta_num_comments)/len(meta_num_comments)))\n",
    "\n",
    "other_num_comments = sub_df.filter(~pl.col('id').is_in(match_ids))['num_comments'].to_list()\n",
    "print('non metaphor matched posts : {}'.format(sum(other_num_comments)/len(other_num_comments)))"
   ]
  },
  {
   "cell_type": "code",
   "execution_count": 109,
   "id": "36031dc1-3c32-4d1e-9981-82cbfbbf3930",
   "metadata": {},
   "outputs": [
    {
     "name": "stdout",
     "output_type": "stream",
     "text": [
      "metaphor matched posts : 5\n",
      "non metaphor matched posts : 5.0\n"
     ]
    }
   ],
   "source": [
    "print('metaphor matched posts : {}'.format(statistics.median(meta_num_comments)))\n",
    "print('non metaphor matched posts : {}'.format(statistics.median(other_num_comments)))"
   ]
  },
  {
   "cell_type": "markdown",
   "id": "58c3d7d7-22a4-4191-974b-39299af225c8",
   "metadata": {},
   "source": [
    "##### neutralnews"
   ]
  },
  {
   "cell_type": "code",
   "execution_count": 110,
   "id": "048bb892-043f-48b4-81e6-f72311808770",
   "metadata": {},
   "outputs": [
    {
     "name": "stdout",
     "output_type": "stream",
     "text": [
      "total metaphor matched posts : 3\n",
      "metaphor matched posts : 5.666666666666667\n",
      "non metaphor matched posts : 16.927466749149396\n"
     ]
    }
   ],
   "source": [
    "sub_df = data_df.filter(pl.col('subreddit')=='neutralnews')\n",
    "meta_num_comments = sub_df.filter(pl.col('id').is_in(match_ids))['num_comments'].to_list()\n",
    "print('total metaphor matched posts : {}'.format(len(meta_num_comments)))\n",
    "print('metaphor matched posts : {}'.format(sum(meta_num_comments)/len(meta_num_comments)))\n",
    "\n",
    "other_num_comments = sub_df.filter(~pl.col('id').is_in(match_ids))['num_comments'].to_list()\n",
    "print('non metaphor matched posts : {}'.format(sum(other_num_comments)/len(other_num_comments)))"
   ]
  },
  {
   "cell_type": "code",
   "execution_count": 111,
   "id": "74bfc433-c269-4538-9885-7f52e4b98def",
   "metadata": {},
   "outputs": [
    {
     "name": "stdout",
     "output_type": "stream",
     "text": [
      "metaphor matched posts : 5\n",
      "non metaphor matched posts : 4.0\n"
     ]
    }
   ],
   "source": [
    "print('metaphor matched posts : {}'.format(statistics.median(meta_num_comments)))\n",
    "print('non metaphor matched posts : {}'.format(statistics.median(other_num_comments)))"
   ]
  },
  {
   "cell_type": "markdown",
   "id": "9ea8186b-751f-4d7e-bf8b-a6969eca12d5",
   "metadata": {},
   "source": [
    "##### moderatepolitics"
   ]
  },
  {
   "cell_type": "code",
   "execution_count": 112,
   "id": "cbe4f3be-b69a-4738-b13e-399c1e8ee1d3",
   "metadata": {},
   "outputs": [
    {
     "name": "stdout",
     "output_type": "stream",
     "text": [
      "total metaphor matched posts : 2\n",
      "metaphor matched posts : 47.0\n",
      "non metaphor matched posts : 72.51441842461777\n"
     ]
    }
   ],
   "source": [
    "sub_df = data_df.filter(pl.col('subreddit')=='moderatepolitics')\n",
    "meta_num_comments = sub_df.filter(pl.col('id').is_in(match_ids))['num_comments'].to_list()\n",
    "print('total metaphor matched posts : {}'.format(len(meta_num_comments)))\n",
    "print('metaphor matched posts : {}'.format(sum(meta_num_comments)/len(meta_num_comments)))\n",
    "\n",
    "other_num_comments = sub_df.filter(~pl.col('id').is_in(match_ids))['num_comments'].to_list()\n",
    "print('non metaphor matched posts : {}'.format(sum(other_num_comments)/len(other_num_comments)))"
   ]
  },
  {
   "cell_type": "markdown",
   "id": "d1a18e7d-ce81-4d94-bcbc-cee5e440d15c",
   "metadata": {},
   "source": [
    "##### Republican"
   ]
  },
  {
   "cell_type": "code",
   "execution_count": 114,
   "id": "e30c4e21-2fa7-4887-94bb-b5b7c64f981f",
   "metadata": {},
   "outputs": [
    {
     "name": "stdout",
     "output_type": "stream",
     "text": [
      "total metaphor matched posts : 5\n",
      "metaphor matched posts : 6.8\n",
      "non metaphor matched posts : 15.416438006508837\n"
     ]
    }
   ],
   "source": [
    "sub_df = data_df.filter(pl.col('subreddit')=='Republican')\n",
    "meta_num_comments = sub_df.filter(pl.col('id').is_in(match_ids))['num_comments'].to_list()\n",
    "print('total metaphor matched posts : {}'.format(len(meta_num_comments)))\n",
    "print('metaphor matched posts : {}'.format(sum(meta_num_comments)/len(meta_num_comments)))\n",
    "\n",
    "other_num_comments = sub_df.filter(~pl.col('id').is_in(match_ids))['num_comments'].to_list()\n",
    "print('non metaphor matched posts : {}'.format(sum(other_num_comments)/len(other_num_comments)))"
   ]
  },
  {
   "cell_type": "code",
   "execution_count": 115,
   "id": "1b90c702-5d46-41e2-a9c2-19de42cc9f71",
   "metadata": {},
   "outputs": [
    {
     "name": "stdout",
     "output_type": "stream",
     "text": [
      "metaphor matched posts : 7\n",
      "non metaphor matched posts : 5\n"
     ]
    }
   ],
   "source": [
    "print('metaphor matched posts : {}'.format(statistics.median(meta_num_comments)))\n",
    "print('non metaphor matched posts : {}'.format(statistics.median(other_num_comments)))"
   ]
  },
  {
   "cell_type": "markdown",
   "id": "7d4fb940-2491-4977-9f9f-fc6bca3bb1ba",
   "metadata": {},
   "source": [
    "##### esist"
   ]
  },
  {
   "cell_type": "code",
   "execution_count": 116,
   "id": "656eb598-b4c4-4b86-af75-4baf5df96a69",
   "metadata": {},
   "outputs": [
    {
     "name": "stdout",
     "output_type": "stream",
     "text": [
      "total metaphor matched posts : 3\n",
      "metaphor matched posts : 2.3333333333333335\n",
      "non metaphor matched posts : 22.032372945675338\n"
     ]
    }
   ],
   "source": [
    "sub_df = data_df.filter(pl.col('subreddit')=='esist')\n",
    "meta_num_comments = sub_df.filter(pl.col('id').is_in(match_ids))['num_comments'].to_list()\n",
    "print('total metaphor matched posts : {}'.format(len(meta_num_comments)))\n",
    "print('metaphor matched posts : {}'.format(sum(meta_num_comments)/len(meta_num_comments)))\n",
    "\n",
    "other_num_comments = sub_df.filter(~pl.col('id').is_in(match_ids))['num_comments'].to_list()\n",
    "print('non metaphor matched posts : {}'.format(sum(other_num_comments)/len(other_num_comments)))"
   ]
  },
  {
   "cell_type": "markdown",
   "id": "ea28d0be-a43b-447f-a9e2-f59c4e0f761d",
   "metadata": {},
   "source": [
    "##### worldpolitics"
   ]
  },
  {
   "cell_type": "code",
   "execution_count": 118,
   "id": "05d84070-5d4d-4202-825c-f4e34157ee2b",
   "metadata": {},
   "outputs": [
    {
     "name": "stdout",
     "output_type": "stream",
     "text": [
      "total metaphor matched posts : 7\n",
      "metaphor matched posts : 3.7142857142857144\n",
      "non metaphor matched posts : 15.03314719232418\n"
     ]
    }
   ],
   "source": [
    "sub_df = data_df.filter(pl.col('subreddit')=='worldpolitics')\n",
    "meta_num_comments = sub_df.filter(pl.col('id').is_in(match_ids))['num_comments'].to_list()\n",
    "print('total metaphor matched posts : {}'.format(len(meta_num_comments)))\n",
    "print('metaphor matched posts : {}'.format(sum(meta_num_comments)/len(meta_num_comments)))\n",
    "\n",
    "other_num_comments = sub_df.filter(~pl.col('id').is_in(match_ids))['num_comments'].to_list()\n",
    "print('non metaphor matched posts : {}'.format(sum(other_num_comments)/len(other_num_comments)))"
   ]
  },
  {
   "cell_type": "code",
   "execution_count": 119,
   "id": "d299b9dc-b200-44fc-9b7b-556531335c33",
   "metadata": {},
   "outputs": [
    {
     "name": "stdout",
     "output_type": "stream",
     "text": [
      "metaphor matched posts : 4\n",
      "non metaphor matched posts : 4\n"
     ]
    }
   ],
   "source": [
    "print('metaphor matched posts : {}'.format(statistics.median(meta_num_comments)))\n",
    "print('non metaphor matched posts : {}'.format(statistics.median(other_num_comments)))"
   ]
  },
  {
   "cell_type": "code",
   "execution_count": null,
   "id": "8529fc42-835a-4210-94d0-d18143a0b59a",
   "metadata": {},
   "outputs": [],
   "source": []
  },
  {
   "cell_type": "markdown",
   "id": "b0fceb71-feb2-48c9-be71-60717060f746",
   "metadata": {},
   "source": [
    "##### Analysis of num_comments"
   ]
  },
  {
   "cell_type": "code",
   "execution_count": null,
   "id": "069b1d05-4256-4ab1-bc0f-ede66bb719ae",
   "metadata": {
    "scrolled": true
   },
   "outputs": [],
   "source": [
    "num_comments = data_df['num_comments'].to_list()"
   ]
  },
  {
   "cell_type": "code",
   "execution_count": 88,
   "id": "a29d2bd4-69e5-4524-a5b1-48bb8ea604c7",
   "metadata": {},
   "outputs": [
    {
     "data": {
      "image/png": "[encoded data removed]",
      "text/plain": [
       "<Figure size 640x480 with 1 Axes>"
      ]
     },
     "metadata": {},
     "output_type": "display_data"
    }
   ],
   "source": [
    "import matplotlib.pyplot as plt\n",
    "import numpy as np\n",
    "\n",
    "# Create a list of numbers\n",
    "numbers = num_comments\n",
    "\n",
    "# Create a histogram\n",
    "plt.hist(numbers, bins=[a for a in range(1, 100, 5)])\n",
    "\n",
    "# Show the plot\n",
    "plt.show()"
   ]
  },
  {
   "cell_type": "code",
   "execution_count": null,
   "id": "ce3000eb-7500-4866-84b2-4e830350afc2",
   "metadata": {},
   "outputs": [],
   "source": []
  },
  {
   "cell_type": "markdown",
   "id": "2dde8a0b-5349-457a-a02c-f2eeff124210",
   "metadata": {},
   "source": [
    "##### Temporal analysis"
   ]
  },
  {
   "cell_type": "code",
   "execution_count": 14,
   "id": "0487a15f-8564-4958-bedf-abd192fa5eee",
   "metadata": {},
   "outputs": [],
   "source": [
    "match_df = data_df.filter(pl.col('id').is_in(match_ids))"
   ]
  },
  {
   "cell_type": "code",
   "execution_count": 15,
   "id": "21ce148b-3765-4694-ae6a-f342a9e5b178",
   "metadata": {
    "scrolled": true
   },
   "outputs": [
    {
     "name": "stderr",
     "output_type": "stream",
     "text": [
      "/var/folders/by/rktr_w596p97pmt8_cbknvs80000gn/T/ipykernel_12700/2299943662.py:4: DeprecationWarning: `with_time_unit` is deprecated. Instead, first cast to `Int64` and then cast to the desired data type.\n",
      "  pl.Datetime).dt.with_time_unit(\"ms\").alias(\"datetime\"))\n",
      "/var/folders/by/rktr_w596p97pmt8_cbknvs80000gn/T/ipykernel_12700/2299943662.py:6: DeprecationWarning: `replace` is deprecated. DataFrame.replace is deprecated and will be removed in a future version. Please use\n",
      "    df = df.with_columns(new_column.alias(column_name))\n",
      "instead.\n",
      "  match_df.replace(\"created_utc\", datetimes['datetime'].dt.date())\n"
     ]
    },
    {
     "data": {
      "text/html": [
       "<div><style>\n",
       ".dataframe > thead > tr,\n",
       ".dataframe > tbody > tr {\n",
       "  text-align: right;\n",
       "  white-space: pre-wrap;\n",
       "}\n",
       "</style>\n",
       "<small>shape: (416, 10)</small><table border=\"1\" class=\"dataframe\"><thead><tr><th>id</th><th>created_utc</th><th>subreddit</th><th>author</th><th>url</th><th>title</th><th>selftext</th><th>num_comments</th><th>score</th><th>upvote_ratio</th></tr><tr><td>str</td><td>date</td><td>str</td><td>str</td><td>str</td><td>str</td><td>str</td><td>i64</td><td>i64</td><td>f64</td></tr></thead><tbody><tr><td>&quot;k27lzk&quot;</td><td>2020-11-27</td><td>&quot;politics&quot;</td><td>&quot;[deleted]&quot;</td><td>&quot;https://www.po…</td><td>&quot;Blame game eru…</td><td>&quot;[deleted]&quot;</td><td>5</td><td>9</td><td>0.84</td></tr><tr><td>&quot;3ogmsk&quot;</td><td>2015-10-12</td><td>&quot;Economics&quot;</td><td>&quot;ocamlmycaml&quot;</td><td>&quot;https://www.re…</td><td>&quot;AotW: The Sver…</td><td>&quot;Nobel Prize Le…</td><td>4</td><td>56</td><td>100.0</td></tr><tr><td>&quot;2wfh1y&quot;</td><td>2015-02-19</td><td>&quot;ukipparty&quot;</td><td>&quot;erowidtrance&quot;</td><td>&quot;http://www.the…</td><td>&quot;The Guardian u…</td><td>&quot;&quot;</td><td>5</td><td>11</td><td>100.0</td></tr><tr><td>&quot;3yvdga&quot;</td><td>2015-12-31</td><td>&quot;EnoughLibertar…</td><td>&quot;BenzJuan&quot;</td><td>&quot;http://talking…</td><td>&quot;Popcorn Time: …</td><td>&quot;&quot;</td><td>7</td><td>20</td><td>100.0</td></tr><tr><td>&quot;mukrst&quot;</td><td>2021-04-20</td><td>&quot;CoronavirusCA&quot;</td><td>&quot;AutoModerator&quot;</td><td>&quot;https://www.re…</td><td>&quot;*Daily* Check-…</td><td>&quot;We understand …</td><td>6</td><td>3</td><td>0.72</td></tr><tr><td>&hellip;</td><td>&hellip;</td><td>&hellip;</td><td>&hellip;</td><td>&hellip;</td><td>&hellip;</td><td>&hellip;</td><td>&hellip;</td><td>&hellip;</td><td>&hellip;</td></tr><tr><td>&quot;n72h80&quot;</td><td>2021-05-07</td><td>&quot;worldpolitics&quot;</td><td>&quot;jormundr&quot;</td><td>&quot;https://i.redd…</td><td>&quot;This is the wo…</td><td>&quot;&quot;</td><td>3</td><td>9</td><td>0.8</td></tr><tr><td>&quot;4xb5r0&quot;</td><td>2016-08-12</td><td>&quot;The_Donald&quot;</td><td>&quot;tellman1257&quot;</td><td>&quot;https://www.re…</td><td>&quot;Trump has ment…</td><td>&quot;On **July 26, …</td><td>46</td><td>662</td><td>100.0</td></tr><tr><td>&quot;aoh3vk&quot;</td><td>2019-02-08</td><td>&quot;politics&quot;</td><td>&quot;pnewell&quot;</td><td>&quot;https://mother…</td><td>&quot;Alexandria Oca…</td><td>&quot;&quot;</td><td>148</td><td>1656</td><td>100.0</td></tr><tr><td>&quot;6a9f3u&quot;</td><td>2017-05-10</td><td>&quot;The_Donald&quot;</td><td>&quot;dasjewhunter&quot;</td><td>&quot;https://i.redd…</td><td>&quot;Of course not&quot;</td><td>&quot;&quot;</td><td>31</td><td>2435</td><td>100.0</td></tr><tr><td>&quot;8sosri&quot;</td><td>2018-06-21</td><td>&quot;esist&quot;</td><td>&quot;Tele_Prompter&quot;</td><td>&quot;https://www.ny…</td><td>&quot;Pro-Trump evan…</td><td>&quot;&quot;</td><td>3</td><td>17</td><td>100.0</td></tr></tbody></table></div>"
      ],
      "text/plain": [
       "shape: (416, 10)\n",
       "┌────────┬────────────┬────────────┬────────────┬───┬────────────┬────────────┬───────┬────────────┐\n",
       "│ id     ┆ created_ut ┆ subreddit  ┆ author     ┆ … ┆ selftext   ┆ num_commen ┆ score ┆ upvote_rat │\n",
       "│ ---    ┆ c          ┆ ---        ┆ ---        ┆   ┆ ---        ┆ ts         ┆ ---   ┆ io         │\n",
       "│ str    ┆ ---        ┆ str        ┆ str        ┆   ┆ str        ┆ ---        ┆ i64   ┆ ---        │\n",
       "│        ┆ date       ┆            ┆            ┆   ┆            ┆ i64        ┆       ┆ f64        │\n",
       "╞════════╪════════════╪════════════╪════════════╪═══╪════════════╪════════════╪═══════╪════════════╡\n",
       "│ k27lzk ┆ 2020-11-27 ┆ politics   ┆ [deleted]  ┆ … ┆ [deleted]  ┆ 5          ┆ 9     ┆ 0.84       │\n",
       "│ 3ogmsk ┆ 2015-10-12 ┆ Economics  ┆ ocamlmycam ┆ … ┆ Nobel      ┆ 4          ┆ 56    ┆ 100.0      │\n",
       "│        ┆            ┆            ┆ l          ┆   ┆ Prize      ┆            ┆       ┆            │\n",
       "│        ┆            ┆            ┆            ┆   ┆ Lecture    ┆            ┆       ┆            │\n",
       "│        ┆            ┆            ┆            ┆   ┆ Series     ┆            ┆       ┆            │\n",
       "│        ┆            ┆            ┆            ┆   ┆            ┆            ┆       ┆            │\n",
       "│        ┆            ┆            ┆            ┆   ┆ * 9/…      ┆            ┆       ┆            │\n",
       "│ 2wfh1y ┆ 2015-02-19 ┆ ukipparty  ┆ erowidtran ┆ … ┆            ┆ 5          ┆ 11    ┆ 100.0      │\n",
       "│        ┆            ┆            ┆ ce         ┆   ┆            ┆            ┆       ┆            │\n",
       "│ 3yvdga ┆ 2015-12-31 ┆ EnoughLibe ┆ BenzJuan   ┆ … ┆            ┆ 7          ┆ 20    ┆ 100.0      │\n",
       "│        ┆            ┆ rtarianSpa ┆            ┆   ┆            ┆            ┆       ┆            │\n",
       "│        ┆            ┆ m          ┆            ┆   ┆            ┆            ┆       ┆            │\n",
       "│ mukrst ┆ 2021-04-20 ┆ Coronaviru ┆ AutoModera ┆ … ┆ We         ┆ 6          ┆ 3     ┆ 0.72       │\n",
       "│        ┆            ┆ sCA        ┆ tor        ┆   ┆ understand ┆            ┆       ┆            │\n",
       "│        ┆            ┆            ┆            ┆   ┆ that this  ┆            ┆       ┆            │\n",
       "│        ┆            ┆            ┆            ┆   ┆ is a str…  ┆            ┆       ┆            │\n",
       "│ …      ┆ …          ┆ …          ┆ …          ┆ … ┆ …          ┆ …          ┆ …     ┆ …          │\n",
       "│ n72h80 ┆ 2021-05-07 ┆ worldpolit ┆ jormundr   ┆ … ┆            ┆ 3          ┆ 9     ┆ 0.8        │\n",
       "│        ┆            ┆ ics        ┆            ┆   ┆            ┆            ┆       ┆            │\n",
       "│ 4xb5r0 ┆ 2016-08-12 ┆ The_Donald ┆ tellman125 ┆ … ┆ On **July  ┆ 46         ┆ 662   ┆ 100.0      │\n",
       "│        ┆            ┆            ┆ 7          ┆   ┆ 26,        ┆            ┆       ┆            │\n",
       "│        ┆            ┆            ┆            ┆   ┆ 1988**, MA ┆            ┆       ┆            │\n",
       "│        ┆            ┆            ┆            ┆   ┆ Governo…   ┆            ┆       ┆            │\n",
       "│ aoh3vk ┆ 2019-02-08 ┆ politics   ┆ pnewell    ┆ … ┆            ┆ 148        ┆ 1656  ┆ 100.0      │\n",
       "│ 6a9f3u ┆ 2017-05-10 ┆ The_Donald ┆ dasjewhunt ┆ … ┆            ┆ 31         ┆ 2435  ┆ 100.0      │\n",
       "│        ┆            ┆            ┆ er         ┆   ┆            ┆            ┆       ┆            │\n",
       "│ 8sosri ┆ 2018-06-21 ┆ esist      ┆ Tele_Promp ┆ … ┆            ┆ 3          ┆ 17    ┆ 100.0      │\n",
       "│        ┆            ┆            ┆ ter        ┆   ┆            ┆            ┆       ┆            │\n",
       "└────────┴────────────┴────────────┴────────────┴───┴────────────┴────────────┴───────┴────────────┘"
      ]
     },
     "execution_count": 15,
     "metadata": {},
     "output_type": "execute_result"
    }
   ],
   "source": [
    "MILLISECONDS_IN_SECOND = 1000\n",
    "\n",
    "datetimes = match_df.select((pl.col(\"created_utc\") * MILLISECONDS_IN_SECOND).cast(\n",
    "    pl.Datetime).dt.with_time_unit(\"ms\").alias(\"datetime\"))\n",
    "\n",
    "match_df.replace(\"created_utc\", datetimes['datetime'].dt.date())"
   ]
  },
  {
   "cell_type": "code",
   "execution_count": 54,
   "id": "84898903-a52d-405c-baf7-f9035fe3cc82",
   "metadata": {},
   "outputs": [
    {
     "name": "stdout",
     "output_type": "stream",
     "text": [
      "mean : 9.238095238095237\n",
      "median : 6\n"
     ]
    }
   ],
   "source": [
    "# 2015\n",
    "\n",
    "df_2015 = match_df.filter(pl.col(\"created_utc\") >= pl.datetime(2015,1,1)).filter(pl.col(\"created_utc\") < pl.datetime(2016,1,1))\n",
    "print('mean : {}'.format(statistics.mean(df_2015['num_comments'].to_list())))\n",
    "print('median : {}'.format(statistics.median(df_2015['num_comments'].to_list())))"
   ]
  },
  {
   "cell_type": "code",
   "execution_count": 55,
   "id": "da46158d-4aba-4db9-b097-625549c464af",
   "metadata": {},
   "outputs": [
    {
     "name": "stdout",
     "output_type": "stream",
     "text": [
      "mean : 18.09375\n",
      "median : 5.5\n"
     ]
    }
   ],
   "source": [
    "# 2016\n",
    "\n",
    "df_2016 = match_df.filter(pl.col(\"created_utc\") >= pl.datetime(2016,1,1)).filter(pl.col(\"created_utc\") < pl.datetime(2017,1,1))\n",
    "print('mean : {}'.format(statistics.mean(df_2016['num_comments'].to_list())))\n",
    "print('median : {}'.format(statistics.median(df_2016['num_comments'].to_list())))"
   ]
  },
  {
   "cell_type": "code",
   "execution_count": 56,
   "id": "e59801bd-6ceb-4b3f-8006-f5b3a08d8b06",
   "metadata": {},
   "outputs": [
    {
     "name": "stdout",
     "output_type": "stream",
     "text": [
      "mean : 24.492957746478872\n",
      "median : 5\n"
     ]
    }
   ],
   "source": [
    "# 2017\n",
    "\n",
    "df_2017 = match_df.filter(pl.col(\"created_utc\") >= pl.datetime(2017,1,1)).filter(pl.col(\"created_utc\") < pl.datetime(2018,1,1))\n",
    "print('mean : {}'.format(statistics.mean(df_2017['num_comments'].to_list())))\n",
    "print('median : {}'.format(statistics.median(df_2017['num_comments'].to_list())))"
   ]
  },
  {
   "cell_type": "code",
   "execution_count": 57,
   "id": "02feda66-3ddc-4890-87d3-0dbd0e598002",
   "metadata": {},
   "outputs": [
    {
     "name": "stdout",
     "output_type": "stream",
     "text": [
      "mean : 49.394366197183096\n",
      "median : 7\n"
     ]
    }
   ],
   "source": [
    "# 2018\n",
    "\n",
    "df_2018 = match_df.filter(pl.col(\"created_utc\") >= pl.datetime(2018,1,1)).filter(pl.col(\"created_utc\") < pl.datetime(2019,1,1))\n",
    "print('mean : {}'.format(statistics.mean(df_2018['num_comments'].to_list())))\n",
    "print('median : {}'.format(statistics.median(df_2018['num_comments'].to_list())))"
   ]
  },
  {
   "cell_type": "code",
   "execution_count": 58,
   "id": "a3987ce3-9283-41b1-8ba6-cc449cf1d321",
   "metadata": {},
   "outputs": [
    {
     "name": "stdout",
     "output_type": "stream",
     "text": [
      "mean : 77.73626373626374\n",
      "median : 7\n"
     ]
    }
   ],
   "source": [
    "# 2019\n",
    "\n",
    "df_2019 = match_df.filter(pl.col(\"created_utc\") >= pl.datetime(2019,1,1)).filter(pl.col(\"created_utc\") < pl.datetime(2020,1,1))\n",
    "print('mean : {}'.format(statistics.mean(df_2019['num_comments'].to_list())))\n",
    "print('median : {}'.format(statistics.median(df_2019['num_comments'].to_list())))"
   ]
  },
  {
   "cell_type": "code",
   "execution_count": 59,
   "id": "8cddb0c4-4818-4175-96ad-82bd377dd161",
   "metadata": {},
   "outputs": [
    {
     "name": "stdout",
     "output_type": "stream",
     "text": [
      "mean : 14.74\n",
      "median : 7.5\n"
     ]
    }
   ],
   "source": [
    "# 2020\n",
    "\n",
    "df_2020 = match_df.filter(pl.col(\"created_utc\") >= pl.datetime(2020,1,1)).filter(pl.col(\"created_utc\") < pl.datetime(2021,1,1))\n",
    "print('mean : {}'.format(statistics.mean(df_2020['num_comments'].to_list())))\n",
    "print('median : {}'.format(statistics.median(df_2020['num_comments'].to_list())))"
   ]
  },
  {
   "cell_type": "code",
   "execution_count": 60,
   "id": "b948ba2e-598d-4b32-bf8d-c3270dda164d",
   "metadata": {},
   "outputs": [
    {
     "name": "stdout",
     "output_type": "stream",
     "text": [
      "mean : 64.0625\n",
      "median : 7.5\n"
     ]
    }
   ],
   "source": [
    "# 2021\n",
    "\n",
    "df_2021 = match_df.filter(pl.col(\"created_utc\") >= pl.datetime(2021,1,1)).filter(pl.col(\"created_utc\") < pl.datetime(2022,1,1))\n",
    "print('mean : {}'.format(statistics.mean(df_2021['num_comments'].to_list())))\n",
    "print('median : {}'.format(statistics.median(df_2021['num_comments'].to_list())))"
   ]
  },
  {
   "cell_type": "code",
   "execution_count": null,
   "id": "85c5147e-dcd1-4874-b396-8c4fe8fcf27f",
   "metadata": {},
   "outputs": [],
   "source": []
  }
 ],
 "metadata": {
  "kernelspec": {
   "display_name": "Python 3 (ipykernel)",
   "language": "python",
   "name": "python3"
  },
  "language_info": {
   "codemirror_mode": {
    "name": "ipython",
    "version": 3
   },
   "file_extension": ".py",
   "mimetype": "text/x-python",
   "name": "python",
   "nbconvert_exporter": "python",
   "pygments_lexer": "ipython3",
   "version": "3.12.2"
  }
 },
 "nbformat": 4,
 "nbformat_minor": 5
}
