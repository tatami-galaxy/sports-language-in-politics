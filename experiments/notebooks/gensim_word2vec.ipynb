{
 "cells": [
  {
   "cell_type": "code",
   "execution_count": 25,
   "id": "fb6cd6d0-5ff3-42c2-ab8b-0141204e66fc",
   "metadata": {},
   "outputs": [],
   "source": [
    "import re  # For preprocessing\n",
    "import pandas as pd  # For data handling\n",
    "from time import time  # To time our operations\n",
    "from collections import defaultdict  # For word frequency\n",
    "\n",
    "import spacy \n",
    "import polars as pl\n",
    "\n",
    "from datasets import load_dataset\n",
    "from gensim.models.phrases import Phrases, Phraser\n",
    "\n",
    "import multiprocessing\n",
    "\n",
    "from gensim.models import Word2Vec"
   ]
  },
  {
   "cell_type": "code",
   "execution_count": 4,
   "id": "a16747ad-cce6-446e-acad-614791e64335",
   "metadata": {},
   "outputs": [],
   "source": [
    "dataset = load_dataset('wikitext', 'wikitext-2-v1')"
   ]
  },
  {
   "cell_type": "code",
   "execution_count": 16,
   "id": "b2a3b78a-1d57-4dd7-b1cd-dc42fd049ef8",
   "metadata": {},
   "outputs": [],
   "source": [
    "data = dataset['train']['text']\n",
    "data = [d for d in data if d != '']\n",
    "data = [d.replace(\"'\", '') for d in data]\n",
    "data = [re.sub(r\"[^a-zA-Z0-9]+\", ' ', d).lower() for d in data]"
   ]
  },
  {
   "cell_type": "code",
   "execution_count": 20,
   "id": "aad2162c-3cae-4ad3-b812-e30ae7ff4efe",
   "metadata": {},
   "outputs": [],
   "source": [
    "sent = [d.split() for d in data]\n",
    "phrases = Phrases(sent, min_count=30, progress_per=10000)"
   ]
  },
  {
   "cell_type": "code",
   "execution_count": 22,
   "id": "bd7d454f-8e1d-43a3-9ba3-674d4a10cab4",
   "metadata": {},
   "outputs": [],
   "source": [
    "bigram = Phraser(phrases)\n",
    "sentences = bigram[sent]"
   ]
  },
  {
   "cell_type": "code",
   "execution_count": 23,
   "id": "4784b404-4a72-4412-8a19-a0a03d54f496",
   "metadata": {},
   "outputs": [
    {
     "data": {
      "text/plain": [
       "29083"
      ]
     },
     "execution_count": 23,
     "metadata": {},
     "output_type": "execute_result"
    }
   ],
   "source": [
    "word_freq = defaultdict(int)\n",
    "for sent in sentences:\n",
    "    for i in sent:\n",
    "        word_freq[i] += 1\n",
    "len(word_freq)"
   ]
  },
  {
   "cell_type": "code",
   "execution_count": 24,
   "id": "e9dbf213-e78b-44f5-8572-f54324a1c88d",
   "metadata": {},
   "outputs": [
    {
     "data": {
      "text/plain": [
       "['the', 'of', 'unk', 'and', 'in', 'to', 'a', 'was', 's', 'on']"
      ]
     },
     "execution_count": 24,
     "metadata": {},
     "output_type": "execute_result"
    }
   ],
   "source": [
    "sorted(word_freq, key=word_freq.get, reverse=True)[:10]"
   ]
  },
  {
   "cell_type": "code",
   "execution_count": 26,
   "id": "9f3604c5-644d-4a55-a4e1-e65bbbbc3436",
   "metadata": {},
   "outputs": [],
   "source": [
    "cores = multiprocessing.cpu_count()"
   ]
  },
  {
   "cell_type": "code",
   "execution_count": 28,
   "id": "d4a3d596-93d4-474e-94e3-c55eb0eecd3b",
   "metadata": {},
   "outputs": [],
   "source": [
    "w2v_model = Word2Vec(min_count=20,\n",
    "                     window=3,\n",
    "                     vector_size=300,\n",
    "                     sample=6e-5, \n",
    "                     alpha=0.03, \n",
    "                     min_alpha=0.0007, \n",
    "                     negative=20,\n",
    "                     workers=cores-1)"
   ]
  },
  {
   "cell_type": "code",
   "execution_count": 29,
   "id": "9cf2247e-796d-4479-b9c6-b5b346a21825",
   "metadata": {},
   "outputs": [
    {
     "name": "stdout",
     "output_type": "stream",
     "text": [
      "Time to build vocab: 0.04 mins\n"
     ]
    }
   ],
   "source": [
    "t = time()\n",
    "\n",
    "w2v_model.build_vocab(sentences, progress_per=10000)\n",
    "\n",
    "print('Time to build vocab: {} mins'.format(round((time() - t) / 60, 2)))"
   ]
  },
  {
   "cell_type": "code",
   "execution_count": 30,
   "id": "917ec5b3-3bea-46ec-b330-7f251f0def11",
   "metadata": {},
   "outputs": [
    {
     "name": "stdout",
     "output_type": "stream",
     "text": [
      "Time to train the model: 1.64 mins\n"
     ]
    }
   ],
   "source": [
    "t = time()\n",
    "\n",
    "w2v_model.train(sentences, total_examples=w2v_model.corpus_count, epochs=30, report_delay=1)\n",
    "\n",
    "print('Time to train the model: {} mins'.format(round((time() - t) / 60, 2)))"
   ]
  },
  {
   "cell_type": "code",
   "execution_count": 31,
   "id": "83e96d75-d664-48e4-b51d-48046c0c318b",
   "metadata": {},
   "outputs": [
    {
     "name": "stderr",
     "output_type": "stream",
     "text": [
      "/var/folders/by/rktr_w596p97pmt8_cbknvs80000gn/T/ipykernel_8114/514372312.py:1: DeprecationWarning: Call to deprecated `init_sims` (Gensim 4.0.0 implemented internal optimizations that make calls to init_sims() unnecessary. init_sims() is now obsoleted and will be completely removed in future versions. See https://github.com/RaRe-Technologies/gensim/wiki/Migrating-from-Gensim-3.x-to-4).\n",
      "  w2v_model.init_sims(replace=True)\n"
     ]
    }
   ],
   "source": [
    "w2v_model.init_sims(replace=True)"
   ]
  },
  {
   "cell_type": "code",
   "execution_count": 37,
   "id": "1b98c4a6-5f0f-4a37-86a4-7ba749ffe393",
   "metadata": {},
   "outputs": [
    {
     "data": {
      "text/plain": [
       "[('warm', 0.40926748514175415),\n",
       " ('cooler', 0.40275728702545166),\n",
       " ('temperate', 0.3903796076774597),\n",
       " ('harsh', 0.3820638954639435),\n",
       " ('unusually', 0.3762211203575134),\n",
       " ('clouds', 0.36724525690078735),\n",
       " ('climate', 0.3467746376991272),\n",
       " ('mild', 0.3439057469367981),\n",
       " ('hot', 0.33299770951271057),\n",
       " ('dry', 0.32854825258255005)]"
      ]
     },
     "execution_count": 37,
     "metadata": {},
     "output_type": "execute_result"
    }
   ],
   "source": [
    "w2v_model.wv.most_similar(positive=[\"cold\"])"
   ]
  },
  {
   "cell_type": "code",
   "execution_count": 49,
   "id": "152e9c58-b3c0-4c8d-8093-645454aac4c1",
   "metadata": {},
   "outputs": [
    {
     "data": {
      "text/plain": [
       "[('madonna', 0.37118417024612427),\n",
       " ('baby', 0.3553946614265442),\n",
       " ('rendition', 0.34274280071258545)]"
      ]
     },
     "execution_count": 49,
     "metadata": {},
     "output_type": "execute_result"
    }
   ],
   "source": [
    "w2v_model.wv.most_similar(positive=[\"boy\", \"girl\"], negative=[\"man\"], topn=3)"
   ]
  },
  {
   "cell_type": "code",
   "execution_count": null,
   "id": "174fe950-67f9-43a1-bae8-01433ddba9fa",
   "metadata": {},
   "outputs": [],
   "source": []
  }
 ],
 "metadata": {
  "kernelspec": {
   "display_name": "Python 3 (ipykernel)",
   "language": "python",
   "name": "python3"
  },
  "language_info": {
   "codemirror_mode": {
    "name": "ipython",
    "version": 3
   },
   "file_extension": ".py",
   "mimetype": "text/x-python",
   "name": "python",
   "nbconvert_exporter": "python",
   "pygments_lexer": "ipython3",
   "version": "3.10.4"
  }
 },
 "nbformat": 4,
 "nbformat_minor": 5
}
