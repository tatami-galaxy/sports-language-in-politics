{
 "cells": [
  {
   "cell_type": "code",
   "execution_count": 1,
   "id": "03d66c6b-d631-49d7-bea0-82b4e2d4ea63",
   "metadata": {},
   "outputs": [],
   "source": [
    "import json\n",
    "import polars as pl\n",
    "import re"
   ]
  },
  {
   "cell_type": "code",
   "execution_count": 2,
   "id": "c952a007-f194-4aee-8b59-4ae94d244e72",
   "metadata": {},
   "outputs": [],
   "source": [
    "data_dir = '/Volumes/PortableSSD/CSS/data/processed/'"
   ]
  },
  {
   "cell_type": "markdown",
   "id": "a9d6d7dc-fc2d-4ec0-bdde-26752d5a9b5c",
   "metadata": {},
   "source": [
    "#### Get metaphor matched comments to run through FrameBERT"
   ]
  },
  {
   "cell_type": "code",
   "execution_count": 3,
   "id": "e4d6e00c-c05b-40b2-ba13-03e95aa79a03",
   "metadata": {},
   "outputs": [],
   "source": [
    "data_df = pl.read_csv(data_dir+'politics_sample.csv')\n",
    "with open(data_dir+'exact_matches_politics_42_10000_v2_latest.json') as f:\n",
    "    exact_matches = json.load(f)\n",
    "with open(data_dir+'sem_matches_politics_42_10000_v2_latest.json') as f:\n",
    "    sem_matches = json.load(f)"
   ]
  },
  {
   "cell_type": "code",
   "execution_count": 4,
   "id": "34c2c3cb-2438-46d5-80bb-9660461ca508",
   "metadata": {},
   "outputs": [
    {
     "data": {
      "text/html": [
       "<div><style>\n",
       ".dataframe > thead > tr,\n",
       ".dataframe > tbody > tr {\n",
       "  text-align: right;\n",
       "  white-space: pre-wrap;\n",
       "}\n",
       "</style>\n",
       "<small>shape: (5, 7)</small><table border=\"1\" class=\"dataframe\"><thead><tr><th>id</th><th>created_utc</th><th>subreddit</th><th>category</th><th>super_category</th><th>body</th><th>author</th></tr><tr><td>str</td><td>i64</td><td>str</td><td>str</td><td>str</td><td>str</td><td>str</td></tr></thead><tbody><tr><td>&quot;er1nbsy&quot;</td><td>1560434110</td><td>&quot;AOC&quot;</td><td>&quot;politics_2019&quot;</td><td>&quot;politics&quot;</td><td>&quot;Lol. I was ask…</td><td>&quot;Just_WoW_Thing…</td></tr><tr><td>&quot;gq5rux6&quot;</td><td>1615164573</td><td>&quot;AOC&quot;</td><td>&quot;politics_2019&quot;</td><td>&quot;politics&quot;</td><td>&quot;stfu Liberal.&quot;</td><td>&quot;gbsedillo20&quot;</td></tr><tr><td>&quot;gj3jztp&quot;</td><td>1610531437</td><td>&quot;AOC&quot;</td><td>&quot;politics_2019&quot;</td><td>&quot;politics&quot;</td><td>&quot;\n",
       "&amp;gt;Fuck that…</td><td>&quot;64590949354397…</td></tr><tr><td>&quot;esrc8yq&quot;</td><td>1562221646</td><td>&quot;AOC&quot;</td><td>&quot;politics_2019&quot;</td><td>&quot;politics&quot;</td><td>&quot;Cauliflower is…</td><td>&quot;TobiKato&quot;</td></tr><tr><td>&quot;gyjpk7u&quot;</td><td>1621327024</td><td>&quot;AOC&quot;</td><td>&quot;politics_2019&quot;</td><td>&quot;politics&quot;</td><td>&quot;If they build …</td><td>&quot;the_lonely_gam…</td></tr></tbody></table></div>"
      ],
      "text/plain": [
       "shape: (5, 7)\n",
       "┌─────────┬─────────────┬───────────┬───────────────┬───────────────┬───────────────┬──────────────┐\n",
       "│ id      ┆ created_utc ┆ subreddit ┆ category      ┆ super_categor ┆ body          ┆ author       │\n",
       "│ ---     ┆ ---         ┆ ---       ┆ ---           ┆ y             ┆ ---           ┆ ---          │\n",
       "│ str     ┆ i64         ┆ str       ┆ str           ┆ ---           ┆ str           ┆ str          │\n",
       "│         ┆             ┆           ┆               ┆ str           ┆               ┆              │\n",
       "╞═════════╪═════════════╪═══════════╪═══════════════╪═══════════════╪═══════════════╪══════════════╡\n",
       "│ er1nbsy ┆ 1560434110  ┆ AOC       ┆ politics_2019 ┆ politics      ┆ Lol. I was    ┆ Just_WoW_Thi │\n",
       "│         ┆             ┆           ┆               ┆               ┆ asking about  ┆ ngs          │\n",
       "│         ┆             ┆           ┆               ┆               ┆ the othe…     ┆              │\n",
       "│ gq5rux6 ┆ 1615164573  ┆ AOC       ┆ politics_2019 ┆ politics      ┆ stfu Liberal. ┆ gbsedillo20  │\n",
       "│ gj3jztp ┆ 1610531437  ┆ AOC       ┆ politics_2019 ┆ politics      ┆               ┆ 645909493543 │\n",
       "│         ┆             ┆           ┆               ┆               ┆ &gt;Fuck      ┆ 97548569     │\n",
       "│         ┆             ┆           ┆               ┆               ┆ that, no it's ┆              │\n",
       "│         ┆             ┆           ┆               ┆               ┆ not. The…     ┆              │\n",
       "│ esrc8yq ┆ 1562221646  ┆ AOC       ┆ politics_2019 ┆ politics      ┆ Cauliflower   ┆ TobiKato     │\n",
       "│         ┆             ┆           ┆               ┆               ┆ is racist. �� ┆              │\n",
       "│         ┆             ┆           ┆               ┆               ┆ Such w…       ┆              │\n",
       "│ gyjpk7u ┆ 1621327024  ┆ AOC       ┆ politics_2019 ┆ politics      ┆ If they build ┆ the_lonely_g │\n",
       "│         ┆             ┆           ┆               ┆               ┆ the third     ┆ ame          │\n",
       "│         ┆             ┆           ┆               ┆               ┆ temple, …     ┆              │\n",
       "└─────────┴─────────────┴───────────┴───────────────┴───────────────┴───────────────┴──────────────┘"
      ]
     },
     "execution_count": 4,
     "metadata": {},
     "output_type": "execute_result"
    }
   ],
   "source": [
    "data_df.head()"
   ]
  },
  {
   "cell_type": "markdown",
   "id": "340ce878-ce30-4fe8-a0f6-40a677cb0a50",
   "metadata": {},
   "source": [
    "##### Get list of metaphor matches with unigram metaphors"
   ]
  },
  {
   "cell_type": "code",
   "execution_count": 5,
   "id": "94e025e1-7cb8-4747-bf37-44da6c2c646a",
   "metadata": {},
   "outputs": [],
   "source": [
    "imp_metas = ['game', 'card', 'pass', 'fan' 'pro', 'goal',\n",
    "             'score', 'draw', 'bush', 'odds', 'course',\n",
    "            ]"
   ]
  },
  {
   "cell_type": "code",
   "execution_count": 6,
   "id": "885f5342-5e22-4476-b199-1536ab89db8b",
   "metadata": {},
   "outputs": [],
   "source": [
    "exact_ids = []\n",
    "for key, matches in exact_matches.items():\n",
    "    if key in imp_metas:\n",
    "        if len(matches[1]) > 0:\n",
    "            exact_ids.extend(matches[1])\n",
    "\n",
    "imp_list = data_df.filter(pl.col('id').is_in(exact_ids))['body'].to_list()"
   ]
  },
  {
   "cell_type": "code",
   "execution_count": 13,
   "id": "c76a8342-6aa7-40f8-9224-36fe6b5be657",
   "metadata": {},
   "outputs": [
    {
     "data": {
      "text/plain": [
       "\"Of course he's going to hire yes men. He values loyalty to him above knowledge or competence. \\n\\nOf course there's an enemies list. It's Trump we're talking about. He doesn't like anyone who doesn't praise him. The question is how much action will be taken against those who threaten his ego- and that isn't something anyone knows yet. I think it's highly dependent upon if the people shut up now that he's elected or not. \""
      ]
     },
     "execution_count": 13,
     "metadata": {},
     "output_type": "execute_result"
    }
   ],
   "source": [
    "imp_list[50]"
   ]
  },
  {
   "cell_type": "markdown",
   "id": "179c40f4-ee84-4369-b4ed-c6ca74187cb3",
   "metadata": {},
   "source": [
    "##### After running throught FrameBERT"
   ]
  },
  {
   "cell_type": "code",
   "execution_count": 3,
   "id": "b8ce4d2b-2274-4b05-9600-de362fa32f1f",
   "metadata": {},
   "outputs": [],
   "source": [
    "meta_res_df = pl.read_csv(data_dir+'meta_predictions.csv')"
   ]
  },
  {
   "cell_type": "code",
   "execution_count": 7,
   "id": "6ef6b7c6-cf0d-4271-848c-6e2aad4d1c5e",
   "metadata": {},
   "outputs": [
    {
     "data": {
      "text/html": [
       "<div><style>\n",
       ".dataframe > thead > tr,\n",
       ".dataframe > tbody > tr {\n",
       "  text-align: right;\n",
       "  white-space: pre-wrap;\n",
       "}\n",
       "</style>\n",
       "<small>shape: (5, 4)</small><table border=\"1\" class=\"dataframe\"><thead><tr><th>Tokens</th><th>Borderline_metaphor</th><th>Real_metaphors</th><th>Frame_label</th></tr><tr><td>str</td><td>i64</td><td>i64</td><td>str</td></tr></thead><tbody><tr><td>&quot;Would&quot;</td><td>0</td><td>0</td><td>&quot;_&quot;</td></tr><tr><td>&quot;be&quot;</td><td>0</td><td>0</td><td>&quot;_&quot;</td></tr><tr><td>&quot;interested&quot;</td><td>0</td><td>0</td><td>&quot;Experiencer_fo…</td></tr><tr><td>&quot;to&quot;</td><td>0</td><td>0</td><td>&quot;_&quot;</td></tr><tr><td>&quot;know&quot;</td><td>0</td><td>0</td><td>&quot;Awareness&quot;</td></tr></tbody></table></div>"
      ],
      "text/plain": [
       "shape: (5, 4)\n",
       "┌────────────┬─────────────────────┬────────────────┬───────────────────┐\n",
       "│ Tokens     ┆ Borderline_metaphor ┆ Real_metaphors ┆ Frame_label       │\n",
       "│ ---        ┆ ---                 ┆ ---            ┆ ---               │\n",
       "│ str        ┆ i64                 ┆ i64            ┆ str               │\n",
       "╞════════════╪═════════════════════╪════════════════╪═══════════════════╡\n",
       "│ Would      ┆ 0                   ┆ 0              ┆ _                 │\n",
       "│ be         ┆ 0                   ┆ 0              ┆ _                 │\n",
       "│ interested ┆ 0                   ┆ 0              ┆ Experiencer_focus │\n",
       "│ to         ┆ 0                   ┆ 0              ┆ _                 │\n",
       "│ know       ┆ 0                   ┆ 0              ┆ Awareness         │\n",
       "└────────────┴─────────────────────┴────────────────┴───────────────────┘"
      ]
     },
     "execution_count": 7,
     "metadata": {},
     "output_type": "execute_result"
    }
   ],
   "source": [
    "meta_res_df.head()"
   ]
  },
  {
   "cell_type": "markdown",
   "id": "50193388-61f4-41fc-a47c-890e313bd6dd",
   "metadata": {},
   "source": [
    "##### Get FrameBERT metaphor matches (true positives)"
   ]
  },
  {
   "cell_type": "code",
   "execution_count": 22,
   "id": "930a3b6c-b2a5-4bb0-9763-15d6408ba05e",
   "metadata": {
    "scrolled": true
   },
   "outputs": [],
   "source": [
    "tokens = meta_res_df['Tokens'].to_list()\n",
    "metas = meta_res_df['Real_metaphors'].to_list()\n",
    "frames = meta_res_df['Frame_label'].to_list()"
   ]
  },
  {
   "cell_type": "code",
   "execution_count": 31,
   "id": "3bf23fee-70a1-43c3-bd7e-eccdb6b04199",
   "metadata": {},
   "outputs": [],
   "source": [
    "sent = []\n",
    "meta_words = []\n",
    "frame_labels = []\n",
    "data = []\n",
    "\n",
    "for t in range(len(tokens)):\n",
    "    if tokens[t] is None:\n",
    "        continue\n",
    "    sent.append(tokens[t])\n",
    "    if metas[t] == 1 and tokens[t] in imp_metas:\n",
    "        meta_words.append(tokens[t])\n",
    "        frame_labels.append(frames[t])\n",
    "    if(tokens[t] =='.'):\n",
    "        if len(sent) > 0 and len(meta_words) > 0:\n",
    "            data.append((' '.join(sent), meta_words, frame_labels))\n",
    "        sent = []\n",
    "        meta_words = []\n",
    "        frame_labels = []"
   ]
  },
  {
   "cell_type": "code",
   "execution_count": 32,
   "id": "d1153132-3311-464a-9f35-68a5426da199",
   "metadata": {},
   "outputs": [
    {
     "data": {
      "text/plain": [
       "('Its not like Trump can use the age card when they are not even 5 years apart .',\n",
       " ['card'],\n",
       " ['_'])"
      ]
     },
     "execution_count": 32,
     "metadata": {},
     "output_type": "execute_result"
    }
   ],
   "source": [
    "data[1]"
   ]
  },
  {
   "cell_type": "code",
   "execution_count": 33,
   "id": "7a3cc4ea-abb2-4e41-b35f-19b7ec7ac50e",
   "metadata": {},
   "outputs": [
    {
     "data": {
      "text/plain": [
       "(\"'' Ah , pulling the race card as well .\", ['card'], ['_'])"
      ]
     },
     "execution_count": 33,
     "metadata": {},
     "output_type": "execute_result"
    }
   ],
   "source": [
    "data[0]"
   ]
  },
  {
   "cell_type": "code",
   "execution_count": 34,
   "id": "5e666f6b-e3ec-4f7c-aeba-098f6c22f35c",
   "metadata": {},
   "outputs": [
    {
     "data": {
      "text/plain": [
       "('I don ’ t follow the charity game too closely but I sometimes run into people who are big supporters of the Effective Altruistic movement .',\n",
       " ['game'],\n",
       " ['_'])"
      ]
     },
     "execution_count": 34,
     "metadata": {},
     "output_type": "execute_result"
    }
   ],
   "source": [
    "data[3]"
   ]
  },
  {
   "cell_type": "code",
   "execution_count": 35,
   "id": "a4c0d311-7c44-4974-82c6-c136c6f31e1b",
   "metadata": {},
   "outputs": [
    {
     "data": {
      "text/plain": [
       "('If you wanted to play that game and define any fetal death as murder , then God is quite needlessly cruel indeed .',\n",
       " ['game'],\n",
       " ['_'])"
      ]
     },
     "execution_count": 35,
     "metadata": {},
     "output_type": "execute_result"
    }
   ],
   "source": [
    "data[4]"
   ]
  },
  {
   "cell_type": "code",
   "execution_count": 36,
   "id": "50a83b94-f5f4-4174-9b73-b85ee344fb4c",
   "metadata": {},
   "outputs": [
    {
     "data": {
      "text/plain": [
       "('Really not sure what the end game for this Conservative group is , with the kind of money there spending they have to know this will more then likely reduce their influence rather then grow it .',\n",
       " ['game'],\n",
       " ['_'])"
      ]
     },
     "execution_count": 36,
     "metadata": {},
     "output_type": "execute_result"
    }
   ],
   "source": [
    "data[5]"
   ]
  },
  {
   "cell_type": "code",
   "execution_count": 37,
   "id": "a444b1e6-66bc-4952-ba92-1f78e7635cfd",
   "metadata": {},
   "outputs": [
    {
     "data": {
      "text/plain": [
       "(\"Does that picture look like a guy who gives two fucks about the bill ? Labour refuse an election because they know the country is NOT WITH THEM I believe this is Borises 's plan ' A ' as under these circumstances he will refuse to ask the Queen to sign the Extension Agreement and rightly so ! Giving him 'Game Set Match ! ' We Love Boris ( Prob wo n't even get through the Lords tho ) So inquiring on why mods remove things is ... wrong ? Maybe curious ? All I said was it did make sense , if it didn ’ t to you OK ? ? ? Not sure what your end game is here .\",\n",
       " ['game'],\n",
       " ['_'])"
      ]
     },
     "execution_count": 37,
     "metadata": {},
     "output_type": "execute_result"
    }
   ],
   "source": [
    "data[6]"
   ]
  },
  {
   "cell_type": "code",
   "execution_count": 38,
   "id": "d8880e5f-f497-4f86-ba49-592cb2d852d0",
   "metadata": {},
   "outputs": [
    {
     "data": {
      "text/plain": [
       "(\"You 're moving the goal post to one of effectiveness at implementing or changing law ( despite Trump doing neither ) .\",\n",
       " ['goal'],\n",
       " ['Purpose'])"
      ]
     },
     "execution_count": 38,
     "metadata": {},
     "output_type": "execute_result"
    }
   ],
   "source": [
    "data[7]"
   ]
  },
  {
   "cell_type": "code",
   "execution_count": 39,
   "id": "ea0d1238-f7a6-4a74-a61f-6a824656f012",
   "metadata": {},
   "outputs": [
    {
     "data": {
      "text/plain": [
       "(\"I 'm fully expecting the conservatives to play the split the vote on the center and center left card and rely on their base to win .\",\n",
       " ['card'],\n",
       " ['_'])"
      ]
     },
     "execution_count": 39,
     "metadata": {},
     "output_type": "execute_result"
    }
   ],
   "source": [
    "data[8]"
   ]
  },
  {
   "cell_type": "code",
   "execution_count": 40,
   "id": "397ccadc-9a1b-4f4d-89d3-4c74ceb3c66b",
   "metadata": {},
   "outputs": [
    {
     "data": {
      "text/plain": [
       "('If I survey a population 20 % black and 80 % white , with a goal of 100 people surveyed , 80 might be enough for a representative sample but 20 might not .',\n",
       " ['goal'],\n",
       " ['Purpose'])"
      ]
     },
     "execution_count": 40,
     "metadata": {},
     "output_type": "execute_result"
    }
   ],
   "source": [
    "data[9]"
   ]
  },
  {
   "cell_type": "code",
   "execution_count": 41,
   "id": "3f4df9a3-40ba-4e32-96c3-b2ec202421e8",
   "metadata": {},
   "outputs": [
    {
     "data": {
      "text/plain": [
       "(\"What you are suggesting is ethnic cleansing : https : //en.wikipedia.org/wiki/Ethnic_cleansing Do you believe that forcefully removing the people of Israel is fair game ? All this talk of liquidity or injecting money back into the economy is missing the literal main point , that it 's deeply inequitable to bail out a segment of the population and burden those costs on other people .\",\n",
       " ['game'],\n",
       " ['_'])"
      ]
     },
     "execution_count": 41,
     "metadata": {},
     "output_type": "execute_result"
    }
   ],
   "source": [
    "data[10]"
   ]
  },
  {
   "cell_type": "code",
   "execution_count": null,
   "id": "3cae9036-2e5e-4b96-9e7b-8aa4c5816976",
   "metadata": {},
   "outputs": [],
   "source": []
  },
  {
   "cell_type": "markdown",
   "id": "70ad5182-e943-4129-bfa5-1d6a125062d7",
   "metadata": {},
   "source": [
    "##### Get FrameBERT non metaphor matches (false positives)"
   ]
  },
  {
   "cell_type": "code",
   "execution_count": 42,
   "id": "e97ec408-7985-4236-92e6-2f00706fbbe6",
   "metadata": {},
   "outputs": [],
   "source": [
    "sent = []\n",
    "meta_words = []\n",
    "frame_labels = []\n",
    "data = []\n",
    "\n",
    "for t in range(len(tokens)):\n",
    "    if tokens[t] is None:\n",
    "        continue\n",
    "    sent.append(tokens[t])\n",
    "    if metas[t] == 0 and tokens[t] in imp_metas:\n",
    "        meta_words.append(tokens[t])\n",
    "        frame_labels.append(frames[t])\n",
    "    if(tokens[t] =='.'):\n",
    "        if len(sent) > 0 and len(meta_words) > 0:\n",
    "            data.append((' '.join(sent), meta_words, frame_labels))\n",
    "        sent = []\n",
    "        meta_words = []\n",
    "        frame_labels = []"
   ]
  },
  {
   "cell_type": "code",
   "execution_count": 43,
   "id": "5b9b8eb9-64e6-4097-9d7a-af5a6de77e65",
   "metadata": {},
   "outputs": [
    {
     "data": {
      "text/plain": [
       "('Would be interested to know if you made this argument pre referendum ? Because if not it certainly seems a lot like changing the rules after the game has finished - or in other words , closing the stable doors after the horse has bolted .',\n",
       " ['game'],\n",
       " ['_'])"
      ]
     },
     "execution_count": 43,
     "metadata": {},
     "output_type": "execute_result"
    }
   ],
   "source": [
    "data[0]"
   ]
  },
  {
   "cell_type": "code",
   "execution_count": 44,
   "id": "9d1bdd8f-5a13-433d-8593-fe777b2271f2",
   "metadata": {},
   "outputs": [
    {
     "data": {
      "text/plain": [
       "('Edit- I was going to keep going through the video and his questions , update my comment as I went , but I dislike listening to Peter Joseph so much I decided to pass .',\n",
       " ['pass'],\n",
       " ['Traversing'])"
      ]
     },
     "execution_count": 44,
     "metadata": {},
     "output_type": "execute_result"
    }
   ],
   "source": [
    "data[1]"
   ]
  },
  {
   "cell_type": "code",
   "execution_count": 45,
   "id": "3d428b73-2741-43f6-b11b-d321a08e020f",
   "metadata": {},
   "outputs": [
    {
     "data": {
      "text/plain": [
       "('Opening ourselves is not how you pass bills .', ['pass'], ['_'])"
      ]
     },
     "execution_count": 45,
     "metadata": {},
     "output_type": "execute_result"
    }
   ],
   "source": [
    "data[2]"
   ]
  },
  {
   "cell_type": "code",
   "execution_count": 46,
   "id": "a07f2428-0659-48c4-b755-de1a30c14506",
   "metadata": {},
   "outputs": [
    {
     "data": {
      "text/plain": [
       "(\"Maybe working at one of the K-street brothels , he 'll finally get a chance to write and pass some actual fucking legislation .\",\n",
       " ['pass'],\n",
       " ['Sign_agreement'])"
      ]
     },
     "execution_count": 46,
     "metadata": {},
     "output_type": "execute_result"
    }
   ],
   "source": [
    "data[3]"
   ]
  },
  {
   "cell_type": "code",
   "execution_count": 47,
   "id": "e85df1aa-2951-4043-9978-59a02f2290c7",
   "metadata": {},
   "outputs": [
    {
     "data": {
      "text/plain": [
       "(\"When you win a game of chess , do you `` win '' it because it 's chess ? Everyone 's strategy , from day one , is to win the electoral college .\",\n",
       " ['game'],\n",
       " ['_'])"
      ]
     },
     "execution_count": 47,
     "metadata": {},
     "output_type": "execute_result"
    }
   ],
   "source": [
    "data[4]"
   ]
  },
  {
   "cell_type": "code",
   "execution_count": 48,
   "id": "72c8f9be-6b79-4d1e-a9fd-23e4b5079813",
   "metadata": {},
   "outputs": [
    {
     "data": {
      "text/plain": [
       "('This will pass and truth will eventually set you losers free .',\n",
       " ['pass'],\n",
       " ['Process_end'])"
      ]
     },
     "execution_count": 48,
     "metadata": {},
     "output_type": "execute_result"
    }
   ],
   "source": [
    "data[5]"
   ]
  },
  {
   "cell_type": "code",
   "execution_count": 49,
   "id": "bf6b7292-f990-4a8c-93bd-8c7d3f9c685f",
   "metadata": {},
   "outputs": [
    {
     "data": {
      "text/plain": [
       "('so the only non arbitrary line you can draw is either conception or death .',\n",
       " ['draw'],\n",
       " ['Building'])"
      ]
     },
     "execution_count": 49,
     "metadata": {},
     "output_type": "execute_result"
    }
   ],
   "source": [
    "data[6]"
   ]
  },
  {
   "cell_type": "code",
   "execution_count": 50,
   "id": "f9661070-ad3a-4fe4-ae9e-20345b4ebe28",
   "metadata": {},
   "outputs": [
    {
     "data": {
      "text/plain": [
       "(\"It 's a completely different game .\", ['game'], ['_'])"
      ]
     },
     "execution_count": 50,
     "metadata": {},
     "output_type": "execute_result"
    }
   ],
   "source": [
    "data[7]"
   ]
  },
  {
   "cell_type": "code",
   "execution_count": 51,
   "id": "e29705ce-a84e-4c99-adad-31bb475b6026",
   "metadata": {},
   "outputs": [
    {
     "data": {
      "text/plain": [
       "(\"& gt ; Who cares about the nobility of anyone 's goals , the point is that the interests of the working class and the interest of the capitalist class are at odds .\",\n",
       " ['odds'],\n",
       " ['Competition'])"
      ]
     },
     "execution_count": 51,
     "metadata": {},
     "output_type": "execute_result"
    }
   ],
   "source": [
    "data[8]"
   ]
  },
  {
   "cell_type": "code",
   "execution_count": 52,
   "id": "ab31bf09-4ed4-4b47-971b-4de902dcf6e1",
   "metadata": {},
   "outputs": [
    {
     "data": {
      "text/plain": [
       "(\"Your next point will attempt to draw a connection between taxation and those situations , which you ca n't do as they are not equivalent situations .\",\n",
       " ['draw'],\n",
       " ['Building'])"
      ]
     },
     "execution_count": 52,
     "metadata": {},
     "output_type": "execute_result"
    }
   ],
   "source": [
    "data[9]"
   ]
  },
  {
   "cell_type": "code",
   "execution_count": 53,
   "id": "83a37fbf-084f-46ee-8b03-d781d8e4cc2a",
   "metadata": {},
   "outputs": [
    {
     "data": {
      "text/plain": [
       "('that passes those rights to them when they apply for a green card .',\n",
       " ['card'],\n",
       " ['_'])"
      ]
     },
     "execution_count": 53,
     "metadata": {},
     "output_type": "execute_result"
    }
   ],
   "source": [
    "data[10]"
   ]
  },
  {
   "cell_type": "code",
   "execution_count": null,
   "id": "4eafc7d3-becb-4d5e-a5cd-2d1b8beda175",
   "metadata": {},
   "outputs": [],
   "source": []
  },
  {
   "cell_type": "markdown",
   "id": "8fa321bd-ae6a-44c2-987f-4c0e34df7d92",
   "metadata": {},
   "source": [
    "#### Running FrameBERT on non metaphor matched (our algo) samples"
   ]
  },
  {
   "cell_type": "code",
   "execution_count": 79,
   "id": "225e8a65-f04a-4ff8-a136-4748a5987be5",
   "metadata": {},
   "outputs": [],
   "source": [
    "data_df = pl.read_csv(data_dir+'politics_sample.csv')\n",
    "data_df = data_df.sample(fraction=1.0, shuffle=True, seed=42).drop_nulls()\n",
    "\n",
    "comments = [comment.replace(\"'\", '') for comment in data_df['body'].to_list()]\n",
    "comments = [re.sub(r\"[^a-zA-Z0-9]+\", ' ', comment).lower() for comment in comments]\n",
    "ids = data_df['id'].to_list()\n",
    "\n",
    "comments_long = []\n",
    "ids_long = []\n",
    "# filter by char \n",
    "for c in range(len(comments)):\n",
    "    if len(comments[c]) >= 150:\n",
    "        comments_long.append(comments[c])\n",
    "        ids_long.append(ids[c])\n",
    "\n",
    "comments = comments_long[:10000]\n",
    "ids = ids_long[:10000]"
   ]
  },
  {
   "cell_type": "code",
   "execution_count": 80,
   "id": "c5fa4ae9-d627-49db-a5e1-5eae2c052293",
   "metadata": {},
   "outputs": [],
   "source": [
    "data_df = data_df.filter(pl.col('id').is_in(ids))\n",
    "\n",
    "exact_ids = []\n",
    "for key, matches in exact_matches.items():\n",
    "    if len(matches[1]) > 0:\n",
    "        exact_ids.extend(matches[1])\n",
    "\n",
    "non_meta_list = data_df.filter(~pl.col('id').is_in(exact_ids))['body'].to_list()\n",
    "non_meta_list = non_meta_list[:1000]"
   ]
  },
  {
   "cell_type": "code",
   "execution_count": null,
   "id": "3de154d8-9e04-4203-a9dc-a688863cefc0",
   "metadata": {},
   "outputs": [],
   "source": []
  },
  {
   "cell_type": "markdown",
   "id": "9989c3d9-8065-4b11-9801-69c99eb9d31a",
   "metadata": {},
   "source": [
    "##### After running throught FrameBERT"
   ]
  },
  {
   "cell_type": "code",
   "execution_count": 112,
   "id": "fec0245b-dd6d-4772-8311-78b163c01e90",
   "metadata": {},
   "outputs": [
    {
     "data": {
      "text/html": [
       "<div><style>\n",
       ".dataframe > thead > tr,\n",
       ".dataframe > tbody > tr {\n",
       "  text-align: right;\n",
       "  white-space: pre-wrap;\n",
       "}\n",
       "</style>\n",
       "<small>shape: (5, 4)</small><table border=\"1\" class=\"dataframe\"><thead><tr><th>Tokens</th><th>Borderline_metaphor</th><th>Real_metaphors</th><th>Frame_label</th></tr><tr><td>str</td><td>i64</td><td>i64</td><td>str</td></tr></thead><tbody><tr><td>&quot;Yes&quot;</td><td>0</td><td>0</td><td>&quot;_&quot;</td></tr><tr><td>&quot;,&quot;</td><td>0</td><td>0</td><td>&quot;_&quot;</td></tr><tr><td>&quot;he&quot;</td><td>0</td><td>0</td><td>&quot;_&quot;</td></tr><tr><td>&quot;would&quot;</td><td>0</td><td>0</td><td>&quot;_&quot;</td></tr><tr><td>&quot;“&quot;</td><td>0</td><td>0</td><td>&quot;_&quot;</td></tr></tbody></table></div>"
      ],
      "text/plain": [
       "shape: (5, 4)\n",
       "┌────────┬─────────────────────┬────────────────┬─────────────┐\n",
       "│ Tokens ┆ Borderline_metaphor ┆ Real_metaphors ┆ Frame_label │\n",
       "│ ---    ┆ ---                 ┆ ---            ┆ ---         │\n",
       "│ str    ┆ i64                 ┆ i64            ┆ str         │\n",
       "╞════════╪═════════════════════╪════════════════╪═════════════╡\n",
       "│ Yes    ┆ 0                   ┆ 0              ┆ _           │\n",
       "│ ,      ┆ 0                   ┆ 0              ┆ _           │\n",
       "│ he     ┆ 0                   ┆ 0              ┆ _           │\n",
       "│ would  ┆ 0                   ┆ 0              ┆ _           │\n",
       "│ “      ┆ 0                   ┆ 0              ┆ _           │\n",
       "└────────┴─────────────────────┴────────────────┴─────────────┘"
      ]
     },
     "execution_count": 112,
     "metadata": {},
     "output_type": "execute_result"
    }
   ],
   "source": [
    "non_meta_res_df = pl.read_csv(data_dir+'non_meta_predictions.csv')\n",
    "non_meta_res_df.head()"
   ]
  },
  {
   "cell_type": "markdown",
   "id": "0b99bc8c-7dbb-45fe-8f52-81954d6a14bf",
   "metadata": {},
   "source": [
    "##### Get FrameBERT metaphor matches"
   ]
  },
  {
   "cell_type": "code",
   "execution_count": 113,
   "id": "f62d36f7-c8ac-4dca-9821-7ce11b5ddccf",
   "metadata": {},
   "outputs": [],
   "source": [
    "tokens = non_meta_res_df['Tokens'].to_list()\n",
    "metas = non_meta_res_df['Real_metaphors'].to_list()\n",
    "#metas = non_meta_res_df['Borderline_metaphor'].to_list()\n",
    "frames = non_meta_res_df['Frame_label'].to_list()"
   ]
  },
  {
   "cell_type": "code",
   "execution_count": 114,
   "id": "37b590be-b6c8-418b-9c5b-6b508cc740ab",
   "metadata": {},
   "outputs": [],
   "source": [
    "sent = []\n",
    "meta_words = []\n",
    "frame_labels = []\n",
    "data = []\n",
    "\n",
    "for t in range(len(tokens)):\n",
    "    if tokens[t] is None:\n",
    "        continue\n",
    "    sent.append(tokens[t])\n",
    "    if metas[t] == 1:\n",
    "        meta_words.append(tokens[t])\n",
    "        frame_labels.append(frames[t])\n",
    "    if(tokens[t] =='.'):\n",
    "        if len(sent) > 0 and len(meta_words) > 0:\n",
    "            data.append((' '.join(sent), meta_words, frame_labels))\n",
    "        sent = []\n",
    "        meta_words = []\n",
    "        frame_labels = []"
   ]
  },
  {
   "cell_type": "code",
   "execution_count": 118,
   "id": "f7e23aac-c530-4cb6-823a-7f47b9fde15a",
   "metadata": {},
   "outputs": [
    {
     "data": {
      "text/plain": [
       "('Yes , he would “ generally ” agree it impeded .', ['impeded'], ['Hindering'])"
      ]
     },
     "execution_count": 118,
     "metadata": {},
     "output_type": "execute_result"
    }
   ],
   "source": [
    "data[0]"
   ]
  },
  {
   "cell_type": "code",
   "execution_count": 119,
   "id": "c1ddce99-a0c4-4af2-807e-a42fa408be51",
   "metadata": {},
   "outputs": [
    {
     "data": {
      "text/plain": [
       "(\"Why ? Because you say so ? I 'll take the President and CEO of a multi-billion dollar company to handle classified material than a demented witch who has , on numerous occasions , mishandled classified material .\",\n",
       " ['witch'],\n",
       " ['_'])"
      ]
     },
     "execution_count": 119,
     "metadata": {},
     "output_type": "execute_result"
    }
   ],
   "source": [
    "data[1]"
   ]
  },
  {
   "cell_type": "code",
   "execution_count": 120,
   "id": "5a62fb5f-ba77-462d-ad11-bd14751f799b",
   "metadata": {},
   "outputs": [
    {
     "data": {
      "text/plain": [
       "('For the jobs that Lowes is laying off , there is another company taking on those jobs because the people at the store level are not doing them correctly .',\n",
       " ['level'],\n",
       " ['Rank'])"
      ]
     },
     "execution_count": 120,
     "metadata": {},
     "output_type": "execute_result"
    }
   ],
   "source": [
    "data[2]"
   ]
  },
  {
   "cell_type": "code",
   "execution_count": 121,
   "id": "bee29ffa-712b-4905-86ed-4518d82f5afe",
   "metadata": {},
   "outputs": [
    {
     "data": {
      "text/plain": [
       "(\"Does n't affect me personally , I am Canadian watching the US shit-show election from afar ... however the laws around impeachment in the US are very unclear .\",\n",
       " ['shit-show'],\n",
       " ['_'])"
      ]
     },
     "execution_count": 121,
     "metadata": {},
     "output_type": "execute_result"
    }
   ],
   "source": [
    "data[3]"
   ]
  },
  {
   "cell_type": "code",
   "execution_count": 122,
   "id": "f5355205-96fa-4564-991b-0c5f770faa52",
   "metadata": {},
   "outputs": [
    {
     "data": {
      "text/plain": [
       "(\"Server security is an issue but it 's being used to distract from the context of the emails .\",\n",
       " ['distract', 'context'],\n",
       " ['Protecting', '_'])"
      ]
     },
     "execution_count": 122,
     "metadata": {},
     "output_type": "execute_result"
    }
   ],
   "source": [
    "data[4]"
   ]
  },
  {
   "cell_type": "code",
   "execution_count": 123,
   "id": "03af1f76-9d27-4a54-89ca-585f9bffe4b5",
   "metadata": {},
   "outputs": [
    {
     "data": {
      "text/plain": [
       "(\"It 's easy to spin this to `` DNC hacked by Russia '' , and lose the original focus .\",\n",
       " ['spin'],\n",
       " ['_'])"
      ]
     },
     "execution_count": 123,
     "metadata": {},
     "output_type": "execute_result"
    }
   ],
   "source": [
    "data[5]"
   ]
  },
  {
   "cell_type": "code",
   "execution_count": 124,
   "id": "a4db85b0-b98b-4621-b599-708222c048db",
   "metadata": {},
   "outputs": [
    {
     "data": {
      "text/plain": [
       "('Another is a foreign government taking action for the purpose of disrupting another country for their benefit .',\n",
       " ['disrupting'],\n",
       " ['Hindering'])"
      ]
     },
     "execution_count": 124,
     "metadata": {},
     "output_type": "execute_result"
    }
   ],
   "source": [
    "data[6]"
   ]
  },
  {
   "cell_type": "code",
   "execution_count": 125,
   "id": "715329b1-5f16-4c91-ab51-f18949c8e442",
   "metadata": {},
   "outputs": [
    {
     "data": {
      "text/plain": [
       "(\"`` Next year China is going to release a virus way deadlier and it 's going to cripple America because only liberal pansies will be left .\",\n",
       " ['cripple'],\n",
       " ['Cause_harm'])"
      ]
     },
     "execution_count": 125,
     "metadata": {},
     "output_type": "execute_result"
    }
   ],
   "source": [
    "data[7]"
   ]
  },
  {
   "cell_type": "code",
   "execution_count": 126,
   "id": "65217967-e803-4a18-a3eb-a9e93176752e",
   "metadata": {},
   "outputs": [
    {
     "data": {
      "text/plain": [
       "('[ McConnell blocks democracy it every time it comes to him .',\n",
       " ['blocks'],\n",
       " ['_'])"
      ]
     },
     "execution_count": 126,
     "metadata": {},
     "output_type": "execute_result"
    }
   ],
   "source": [
    "data[8]"
   ]
  },
  {
   "cell_type": "code",
   "execution_count": 127,
   "id": "1c85efd1-3c9e-40e8-8c7f-6315b9b05843",
   "metadata": {},
   "outputs": [
    {
     "data": {
      "text/plain": [
       "(\"] ( https : //www.youtube.com/watch ? time_continue=1 & amp ; v=TfQij4aQq1k ) Anytime people start jabbering about `` receipts '' , I only think of Avenatti and how much confidence this sub had on him and `` he definitely has the receipts ! '' daily claim on here .\",\n",
       " ['claim'],\n",
       " ['Statement'])"
      ]
     },
     "execution_count": 127,
     "metadata": {},
     "output_type": "execute_result"
    }
   ],
   "source": [
    "data[9]"
   ]
  },
  {
   "cell_type": "code",
   "execution_count": 128,
   "id": "55c98e10-7f73-4cab-8196-987f2b92b9d8",
   "metadata": {},
   "outputs": [
    {
     "data": {
      "text/plain": [
       "('The deep state is real .', ['deep'], ['_'])"
      ]
     },
     "execution_count": 128,
     "metadata": {},
     "output_type": "execute_result"
    }
   ],
   "source": [
    "data[10]"
   ]
  },
  {
   "cell_type": "code",
   "execution_count": null,
   "id": "ebc4b608-f252-4a3b-ba99-8ff441d3dbec",
   "metadata": {},
   "outputs": [],
   "source": []
  }
 ],
 "metadata": {
  "kernelspec": {
   "display_name": "Python 3 (ipykernel)",
   "language": "python",
   "name": "python3"
  },
  "language_info": {
   "codemirror_mode": {
    "name": "ipython",
    "version": 3
   },
   "file_extension": ".py",
   "mimetype": "text/x-python",
   "name": "python",
   "nbconvert_exporter": "python",
   "pygments_lexer": "ipython3",
   "version": "3.12.2"
  }
 },
 "nbformat": 4,
 "nbformat_minor": 5
}
