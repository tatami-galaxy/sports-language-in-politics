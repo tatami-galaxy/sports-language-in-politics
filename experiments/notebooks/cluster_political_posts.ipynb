{
 "cells": [
  {
   "cell_type": "code",
   "execution_count": 1,
   "id": "c3c89a99-f987-417e-8732-9c85fbb87f19",
   "metadata": {},
   "outputs": [],
   "source": [
    "import polars as pl\n",
    "import json\n",
    "import statistics\n",
    "import re\n",
    "\n",
    "from sentence_transformers import SentenceTransformer\n",
    "from sklearn.metrics.pairwise import cosine_distances\n",
    "from sklearn.cluster import AgglomerativeClustering"
   ]
  },
  {
   "cell_type": "markdown",
   "id": "be0430a8-2b90-4c71-8587-4fae03cbb031",
   "metadata": {},
   "source": [
    "##### Load data"
   ]
  },
  {
   "cell_type": "code",
   "execution_count": 2,
   "id": "49e81619-a047-4a8f-9864-b4f0cebc93dd",
   "metadata": {},
   "outputs": [],
   "source": [
    "data_dir = '/Volumes/PortableSSD/CSS/data/processed/'"
   ]
  },
  {
   "cell_type": "code",
   "execution_count": 3,
   "id": "4161a80a-3878-496b-8084-635a2eb6b5ab",
   "metadata": {},
   "outputs": [
    {
     "data": {
      "text/html": [
       "<div><style>\n",
       ".dataframe > thead > tr,\n",
       ".dataframe > tbody > tr {\n",
       "  text-align: right;\n",
       "  white-space: pre-wrap;\n",
       "}\n",
       "</style>\n",
       "<small>shape: (5, 14)</small><table border=\"1\" class=\"dataframe\"><thead><tr><th>id</th><th>created_utc</th><th>subreddit</th><th>category</th><th>super_category</th><th>author</th><th>domain</th><th>url</th><th>title</th><th>selftext</th><th>num_comments</th><th>score</th><th>gilded</th><th>upvote_ratio</th></tr><tr><td>str</td><td>i64</td><td>str</td><td>str</td><td>str</td><td>str</td><td>str</td><td>str</td><td>str</td><td>str</td><td>i64</td><td>i64</td><td>i64</td><td>f64</td></tr></thead><tbody><tr><td>&quot;589v04&quot;</td><td>1476878103</td><td>&quot;The_Donald&quot;</td><td>&quot;politics_2019&quot;</td><td>&quot;politics&quot;</td><td>&quot;gmousasi&quot;</td><td>&quot;i.redd.it&quot;</td><td>&quot;https://i.redd…</td><td>&quot;Just a rare ba…</td><td>&quot;&quot;</td><td>17</td><td>1242</td><td>0</td><td>100.0</td></tr><tr><td>&quot;589ygu&quot;</td><td>1476879588</td><td>&quot;Enough_Sanders…</td><td>&quot;politics_2019&quot;</td><td>&quot;politics&quot;</td><td>&quot;12-juin-3049&quot;</td><td>&quot;reddit.com&quot;</td><td>&quot;http://www.red…</td><td>&quot;Bernout gets e…</td><td>&quot;&quot;</td><td>12</td><td>28</td><td>0</td><td>100.0</td></tr><tr><td>&quot;58a7z5&quot;</td><td>1476883248</td><td>&quot;EnoughTrumpSpa…</td><td>&quot;politics_2019&quot;</td><td>&quot;politics&quot;</td><td>&quot;TheIronTARDIS&quot;</td><td>&quot;np.reddit.com&quot;</td><td>&quot;http://np.redd…</td><td>&quot;In case you ne…</td><td>&quot;&quot;</td><td>38</td><td>371</td><td>0</td><td>100.0</td></tr><tr><td>&quot;58aa2h&quot;</td><td>1476883994</td><td>&quot;politics&quot;</td><td>&quot;politics_2019&quot;</td><td>&quot;politics&quot;</td><td>&quot;Naggers123&quot;</td><td>&quot;breitbart.com&quot;</td><td>&quot;http://www.bre…</td><td>&quot;Poll: Hillary …</td><td>&quot;&quot;</td><td>170</td><td>305</td><td>0</td><td>100.0</td></tr><tr><td>&quot;58bnuv&quot;</td><td>1476899246</td><td>&quot;politics&quot;</td><td>&quot;politics_2019&quot;</td><td>&quot;politics&quot;</td><td>&quot;Metaprinter&quot;</td><td>&quot;gop.com&quot;</td><td>&quot;https://gop.co…</td><td>&quot;Trump asking t…</td><td>&quot;&quot;</td><td>38</td><td>24</td><td>0</td><td>100.0</td></tr></tbody></table></div>"
      ],
      "text/plain": [
       "shape: (5, 14)\n",
       "┌────────┬─────────────┬─────────────┬─────────────┬───┬─────────────┬───────┬────────┬────────────┐\n",
       "│ id     ┆ created_utc ┆ subreddit   ┆ category    ┆ … ┆ num_comment ┆ score ┆ gilded ┆ upvote_rat │\n",
       "│ ---    ┆ ---         ┆ ---         ┆ ---         ┆   ┆ s           ┆ ---   ┆ ---    ┆ io         │\n",
       "│ str    ┆ i64         ┆ str         ┆ str         ┆   ┆ ---         ┆ i64   ┆ i64    ┆ ---        │\n",
       "│        ┆             ┆             ┆             ┆   ┆ i64         ┆       ┆        ┆ f64        │\n",
       "╞════════╪═════════════╪═════════════╪═════════════╪═══╪═════════════╪═══════╪════════╪════════════╡\n",
       "│ 589v04 ┆ 1476878103  ┆ The_Donald  ┆ politics_20 ┆ … ┆ 17          ┆ 1242  ┆ 0      ┆ 100.0      │\n",
       "│        ┆             ┆             ┆ 19          ┆   ┆             ┆       ┆        ┆            │\n",
       "│ 589ygu ┆ 1476879588  ┆ Enough_Sand ┆ politics_20 ┆ … ┆ 12          ┆ 28    ┆ 0      ┆ 100.0      │\n",
       "│        ┆             ┆ ers_Spam    ┆ 19          ┆   ┆             ┆       ┆        ┆            │\n",
       "│ 58a7z5 ┆ 1476883248  ┆ EnoughTrump ┆ politics_20 ┆ … ┆ 38          ┆ 371   ┆ 0      ┆ 100.0      │\n",
       "│        ┆             ┆ Spam        ┆ 19          ┆   ┆             ┆       ┆        ┆            │\n",
       "│ 58aa2h ┆ 1476883994  ┆ politics    ┆ politics_20 ┆ … ┆ 170         ┆ 305   ┆ 0      ┆ 100.0      │\n",
       "│        ┆             ┆             ┆ 19          ┆   ┆             ┆       ┆        ┆            │\n",
       "│ 58bnuv ┆ 1476899246  ┆ politics    ┆ politics_20 ┆ … ┆ 38          ┆ 24    ┆ 0      ┆ 100.0      │\n",
       "│        ┆             ┆             ┆ 19          ┆   ┆             ┆       ┆        ┆            │\n",
       "└────────┴─────────────┴─────────────┴─────────────┴───┴─────────────┴───────┴────────┴────────────┘"
      ]
     },
     "execution_count": 3,
     "metadata": {},
     "output_type": "execute_result"
    }
   ],
   "source": [
    "data_df = pl.read_csv(data_dir+'posts_2015-21_ps_min_2c_politics.csv')\n",
    "data_df.head()"
   ]
  },
  {
   "cell_type": "markdown",
   "id": "7f6067af-2998-4c59-aceb-3b8268606593",
   "metadata": {},
   "source": [
    "##### Data exploration"
   ]
  },
  {
   "cell_type": "code",
   "execution_count": 6,
   "id": "876c143c-43ff-4132-93eb-f4de6cd224e0",
   "metadata": {},
   "outputs": [],
   "source": [
    "# keep id, num_comments etc.\n",
    "# metaphor match on clusters\n",
    "    # framebert to remove non metaphors\n",
    "# engagement in metaphor posts vs non metaphor posts within cluster\n",
    "    # num comments"
   ]
  },
  {
   "cell_type": "markdown",
   "id": "3bad7e55-81ab-4303-ad70-a0e5de51035c",
   "metadata": {},
   "source": [
    "##### Filter image domains"
   ]
  },
  {
   "cell_type": "code",
   "execution_count": 7,
   "id": "12aa7111-723c-43ed-a57c-96d9b3a7cd36",
   "metadata": {},
   "outputs": [],
   "source": [
    "no_domains = [\"i.imgur.com\",\"imgur.com\",\"i.reddituploads.com\",\"i.sli.mg\",\"i.magaimg.net\",\"gfycat.com\",\"pbs.twimg.com\",\"sli.mg\"]\n",
    "\n",
    "data_df = data_df.filter(~pl.col('domain').is_in(no_domains))"
   ]
  },
  {
   "cell_type": "markdown",
   "id": "e0ecdf8a-20f6-447c-badf-7affe8281ff2",
   "metadata": {},
   "source": [
    "##### Filter images"
   ]
  },
  {
   "cell_type": "code",
   "execution_count": 8,
   "id": "7b5174ba-c10a-4f26-aa99-261f1a98bc54",
   "metadata": {},
   "outputs": [],
   "source": [
    "no_imgs = ['jpeg', 'png', 'tiff', 'gif', 'jpg']\n",
    "\n",
    "data_df = data_df.filter(~pl.col('url').str.contains_any(no_imgs))"
   ]
  },
  {
   "cell_type": "markdown",
   "id": "8eff0804-706a-46f1-a554-30408deb51dc",
   "metadata": {},
   "source": [
    "##### Filter small posts"
   ]
  },
  {
   "cell_type": "code",
   "execution_count": 9,
   "id": "764e70bc-dbde-4e3a-98ee-9447963d9d3a",
   "metadata": {
    "scrolled": true
   },
   "outputs": [],
   "source": [
    "min_chars = 10\n",
    "\n",
    "data_df = data_df.filter(pl.col('title').str.len_chars() >= min_chars)"
   ]
  },
  {
   "cell_type": "markdown",
   "id": "0b954bd1-c1ef-483d-b99e-2f882822ad34",
   "metadata": {},
   "source": [
    "##### Cast datetime"
   ]
  },
  {
   "cell_type": "code",
   "execution_count": 10,
   "id": "8fa733a3-2b2f-4219-a037-a1a391b334c9",
   "metadata": {
    "scrolled": true
   },
   "outputs": [
    {
     "name": "stderr",
     "output_type": "stream",
     "text": [
      "/var/folders/by/rktr_w596p97pmt8_cbknvs80000gn/T/ipykernel_6062/928864480.py:4: DeprecationWarning: `with_time_unit` is deprecated. Instead, first cast to `Int64` and then cast to the desired data type.\n",
      "  pl.Datetime).dt.with_time_unit(\"ms\").alias(\"datetime\"))\n",
      "/var/folders/by/rktr_w596p97pmt8_cbknvs80000gn/T/ipykernel_6062/928864480.py:6: DeprecationWarning: `replace` is deprecated. DataFrame.replace is deprecated and will be removed in a future version. Please use\n",
      "    df = df.with_columns(new_column.alias(column_name))\n",
      "instead.\n",
      "  data_df.replace(\"created_utc\", datetimes['datetime'].dt.date())\n"
     ]
    },
    {
     "data": {
      "text/html": [
       "<div><style>\n",
       ".dataframe > thead > tr,\n",
       ".dataframe > tbody > tr {\n",
       "  text-align: right;\n",
       "  white-space: pre-wrap;\n",
       "}\n",
       "</style>\n",
       "<small>shape: (6_961_561, 14)</small><table border=\"1\" class=\"dataframe\"><thead><tr><th>id</th><th>created_utc</th><th>subreddit</th><th>category</th><th>super_category</th><th>author</th><th>domain</th><th>url</th><th>title</th><th>selftext</th><th>num_comments</th><th>score</th><th>gilded</th><th>upvote_ratio</th></tr><tr><td>str</td><td>date</td><td>str</td><td>str</td><td>str</td><td>str</td><td>str</td><td>str</td><td>str</td><td>str</td><td>i64</td><td>i64</td><td>i64</td><td>f64</td></tr></thead><tbody><tr><td>&quot;589ygu&quot;</td><td>2016-10-19</td><td>&quot;Enough_Sanders…</td><td>&quot;politics_2019&quot;</td><td>&quot;politics&quot;</td><td>&quot;12-juin-3049&quot;</td><td>&quot;reddit.com&quot;</td><td>&quot;http://www.red…</td><td>&quot;Bernout gets e…</td><td>&quot;&quot;</td><td>12</td><td>28</td><td>0</td><td>100.0</td></tr><tr><td>&quot;58a7z5&quot;</td><td>2016-10-19</td><td>&quot;EnoughTrumpSpa…</td><td>&quot;politics_2019&quot;</td><td>&quot;politics&quot;</td><td>&quot;TheIronTARDIS&quot;</td><td>&quot;np.reddit.com&quot;</td><td>&quot;http://np.redd…</td><td>&quot;In case you ne…</td><td>&quot;&quot;</td><td>38</td><td>371</td><td>0</td><td>100.0</td></tr><tr><td>&quot;58aa2h&quot;</td><td>2016-10-19</td><td>&quot;politics&quot;</td><td>&quot;politics_2019&quot;</td><td>&quot;politics&quot;</td><td>&quot;Naggers123&quot;</td><td>&quot;breitbart.com&quot;</td><td>&quot;http://www.bre…</td><td>&quot;Poll: Hillary …</td><td>&quot;&quot;</td><td>170</td><td>305</td><td>0</td><td>100.0</td></tr><tr><td>&quot;58bnuv&quot;</td><td>2016-10-19</td><td>&quot;politics&quot;</td><td>&quot;politics_2019&quot;</td><td>&quot;politics&quot;</td><td>&quot;Metaprinter&quot;</td><td>&quot;gop.com&quot;</td><td>&quot;https://gop.co…</td><td>&quot;Trump asking t…</td><td>&quot;&quot;</td><td>38</td><td>24</td><td>0</td><td>100.0</td></tr><tr><td>&quot;58c5tw&quot;</td><td>2016-10-19</td><td>&quot;ShitRConservat…</td><td>&quot;politics_2019&quot;</td><td>&quot;politics&quot;</td><td>&quot;bluefootedpig&quot;</td><td>&quot;reddit.com&quot;</td><td>&quot;https://www.re…</td><td>&quot;Chab can&#x27;t und…</td><td>&quot;&quot;</td><td>2</td><td>1</td><td>0</td><td>100.0</td></tr><tr><td>&hellip;</td><td>&hellip;</td><td>&hellip;</td><td>&hellip;</td><td>&hellip;</td><td>&hellip;</td><td>&hellip;</td><td>&hellip;</td><td>&hellip;</td><td>&hellip;</td><td>&hellip;</td><td>&hellip;</td><td>&hellip;</td><td>&hellip;</td></tr><tr><td>&quot;2up5gp&quot;</td><td>2015-02-04</td><td>&quot;CanadaPolitics…</td><td>&quot;politics_2019&quot;</td><td>&quot;politics&quot;</td><td>&quot;blueberryfickl…</td><td>&quot;self.CanadaPol…</td><td>&quot;http://www.red…</td><td>&quot;Are you curren…</td><td>&quot;&quot;</td><td>45</td><td>10</td><td>0</td><td>100.0</td></tr><tr><td>&quot;2uvtx0&quot;</td><td>2015-02-05</td><td>&quot;Shitstatistssa…</td><td>&quot;politics_2019&quot;</td><td>&quot;politics&quot;</td><td>&quot;highdra&quot;</td><td>&quot;investorplace.…</td><td>&quot;http://investo…</td><td>&quot;The state save…</td><td>&quot;&quot;</td><td>2</td><td>14</td><td>0</td><td>100.0</td></tr><tr><td>&quot;2uwrz1&quot;</td><td>2015-02-05</td><td>&quot;politics&quot;</td><td>&quot;politics_2019&quot;</td><td>&quot;politics&quot;</td><td>&quot;Katalyna&quot;</td><td>&quot;cnn.com&quot;</td><td>&quot;http://www.cnn…</td><td>&quot;What will Puti…</td><td>&quot;&quot;</td><td>3</td><td>6</td><td>0</td><td>100.0</td></tr><tr><td>&quot;2vdrv2&quot;</td><td>2015-02-10</td><td>&quot;politics&quot;</td><td>&quot;politics_2019&quot;</td><td>&quot;politics&quot;</td><td>&quot;TwoGee&quot;</td><td>&quot;thinkprogress.…</td><td>&quot;http://thinkpr…</td><td>&quot;A federal cour…</td><td>&quot;&quot;</td><td>21</td><td>89</td><td>0</td><td>100.0</td></tr><tr><td>&quot;2vl3qm&quot;</td><td>2015-02-11</td><td>&quot;MHOC&quot;</td><td>&quot;politics_2019&quot;</td><td>&quot;politics&quot;</td><td>&quot;NoPyroNoParty&quot;</td><td>&quot;self.MHOC&quot;</td><td>&quot;http://www.red…</td><td>&quot;Minister Quest…</td><td>&quot;The second For…</td><td>68</td><td>7</td><td>0</td><td>100.0</td></tr></tbody></table></div>"
      ],
      "text/plain": [
       "shape: (6_961_561, 14)\n",
       "┌────────┬─────────────┬─────────────┬─────────────┬───┬─────────────┬───────┬────────┬────────────┐\n",
       "│ id     ┆ created_utc ┆ subreddit   ┆ category    ┆ … ┆ num_comment ┆ score ┆ gilded ┆ upvote_rat │\n",
       "│ ---    ┆ ---         ┆ ---         ┆ ---         ┆   ┆ s           ┆ ---   ┆ ---    ┆ io         │\n",
       "│ str    ┆ date        ┆ str         ┆ str         ┆   ┆ ---         ┆ i64   ┆ i64    ┆ ---        │\n",
       "│        ┆             ┆             ┆             ┆   ┆ i64         ┆       ┆        ┆ f64        │\n",
       "╞════════╪═════════════╪═════════════╪═════════════╪═══╪═════════════╪═══════╪════════╪════════════╡\n",
       "│ 589ygu ┆ 2016-10-19  ┆ Enough_Sand ┆ politics_20 ┆ … ┆ 12          ┆ 28    ┆ 0      ┆ 100.0      │\n",
       "│        ┆             ┆ ers_Spam    ┆ 19          ┆   ┆             ┆       ┆        ┆            │\n",
       "│ 58a7z5 ┆ 2016-10-19  ┆ EnoughTrump ┆ politics_20 ┆ … ┆ 38          ┆ 371   ┆ 0      ┆ 100.0      │\n",
       "│        ┆             ┆ Spam        ┆ 19          ┆   ┆             ┆       ┆        ┆            │\n",
       "│ 58aa2h ┆ 2016-10-19  ┆ politics    ┆ politics_20 ┆ … ┆ 170         ┆ 305   ┆ 0      ┆ 100.0      │\n",
       "│        ┆             ┆             ┆ 19          ┆   ┆             ┆       ┆        ┆            │\n",
       "│ 58bnuv ┆ 2016-10-19  ┆ politics    ┆ politics_20 ┆ … ┆ 38          ┆ 24    ┆ 0      ┆ 100.0      │\n",
       "│        ┆             ┆             ┆ 19          ┆   ┆             ┆       ┆        ┆            │\n",
       "│ 58c5tw ┆ 2016-10-19  ┆ ShitRConser ┆ politics_20 ┆ … ┆ 2           ┆ 1     ┆ 0      ┆ 100.0      │\n",
       "│        ┆             ┆ vativeSays  ┆ 19          ┆   ┆             ┆       ┆        ┆            │\n",
       "│ …      ┆ …           ┆ …           ┆ …           ┆ … ┆ …           ┆ …     ┆ …      ┆ …          │\n",
       "│ 2up5gp ┆ 2015-02-04  ┆ CanadaPolit ┆ politics_20 ┆ … ┆ 45          ┆ 10    ┆ 0      ┆ 100.0      │\n",
       "│        ┆             ┆ ics         ┆ 19          ┆   ┆             ┆       ┆        ┆            │\n",
       "│ 2uvtx0 ┆ 2015-02-05  ┆ Shitstatist ┆ politics_20 ┆ … ┆ 2           ┆ 14    ┆ 0      ┆ 100.0      │\n",
       "│        ┆             ┆ ssay        ┆ 19          ┆   ┆             ┆       ┆        ┆            │\n",
       "│ 2uwrz1 ┆ 2015-02-05  ┆ politics    ┆ politics_20 ┆ … ┆ 3           ┆ 6     ┆ 0      ┆ 100.0      │\n",
       "│        ┆             ┆             ┆ 19          ┆   ┆             ┆       ┆        ┆            │\n",
       "│ 2vdrv2 ┆ 2015-02-10  ┆ politics    ┆ politics_20 ┆ … ┆ 21          ┆ 89    ┆ 0      ┆ 100.0      │\n",
       "│        ┆             ┆             ┆ 19          ┆   ┆             ┆       ┆        ┆            │\n",
       "│ 2vl3qm ┆ 2015-02-11  ┆ MHOC        ┆ politics_20 ┆ … ┆ 68          ┆ 7     ┆ 0      ┆ 100.0      │\n",
       "│        ┆             ┆             ┆ 19          ┆   ┆             ┆       ┆        ┆            │\n",
       "└────────┴─────────────┴─────────────┴─────────────┴───┴─────────────┴───────┴────────┴────────────┘"
      ]
     },
     "execution_count": 10,
     "metadata": {},
     "output_type": "execute_result"
    }
   ],
   "source": [
    "MILLISECONDS_IN_SECOND = 1000\n",
    "\n",
    "datetimes = data_df.select((pl.col(\"created_utc\") * MILLISECONDS_IN_SECOND).cast(\n",
    "    pl.Datetime).dt.with_time_unit(\"ms\").alias(\"datetime\"))\n",
    "\n",
    "data_df.replace(\"created_utc\", datetimes['datetime'].dt.date())"
   ]
  },
  {
   "cell_type": "code",
   "execution_count": null,
   "id": "6753893d-9670-4d2f-b32f-4a460d5ab7a3",
   "metadata": {},
   "outputs": [],
   "source": []
  },
  {
   "cell_type": "markdown",
   "id": "022a7a6f-18cf-4373-9f2d-1f67260b6918",
   "metadata": {},
   "source": [
    "##### Cluster examples"
   ]
  },
  {
   "cell_type": "code",
   "execution_count": 18,
   "id": "794c0f2b-fb4a-45fa-abf4-f4cc5aec9c5d",
   "metadata": {},
   "outputs": [],
   "source": [
    "with open(data_dir+'post_clusters_5.json') as f:\n",
    "    data = json.load(f)"
   ]
  },
  {
   "cell_type": "code",
   "execution_count": 19,
   "id": "4fa9bf32-247b-44a2-9b11-6aa2698b40fa",
   "metadata": {},
   "outputs": [
    {
     "name": "stdout",
     "output_type": "stream",
     "text": [
      "['Want to streamline government? Start with the Pentagon.', 'WH Petition: reduce the size of the federal government']\n",
      "END\n",
      " \n",
      "[\"I've heard people refer to T_D as a safe space. Would you agree or disagree?\", 'T_D likes to ban dissenters. How is this different than a safe space?']\n",
      "END\n",
      " \n",
      "['Jeremy Corbyn uses IBTimes UK video without authorisation to attack Tim Farron', 'Jeremy Corbyn uses IBTimes UK video without authorisation to attack Tim Farron', \"Corbyn just pinched our video to attack Tim Farron and didn't even give us credit\"]\n",
      "END\n",
      " \n",
      "['Corbyn responds to labours low poll ratings: \"only 3 days ago there was a big swing to Labour in a council by-election\"', 'Corbyn responds to labours low poll ratings: \"only 3 days ago there was a big swing to Labour in a council by-election\"', 'Sophy Ridge: \\'\"We\\'re getting it through\": Jeremy Corbyn says voters are getting his message', 'Jeremy Corbyn dodges key question on use of Labour party whips in Brexit vote three times']\n",
      "END\n",
      " \n",
      "['The inauguration area was COMPLETELY Hillary territory, thus the crowd size', 'President Donald Trump accuses media of lying about inauguration crowds, wrongly says crowd reached Washington monument', 'On what basis can Trump claim that the media is lying about his inauguration numbers?', 'Donald Trump accuses media of lying about size of inauguration crowd, says about ‘million and half’ attended', \"Trump press secretary claims inauguration grew 'largest' crowd\", \"And the lies continue. Even about the number of attendees at the inauguration Trump's press secretary is insisting this was the largest attendance at any inauguration.\", 'Trump Inauguration Crowd Size', \"President Trump's Spokesman Just Lied About The Size Of The Inauguration crowd\", \"SNL Mocks Donald Trump's Inauguration Crowd Size: 'If You're Going to Lie, Don't Make It So Obvious'\", 'The media the Trump administration are coming up with significantly different inauguration attendance numbers. What is the likely accurate number?', 'Trump had biggest inaugural crowd ever? Metrics say no', 'Trump’s Inauguration vs. Obama’s: Comparing the Crowds', \"The media lied about the election polls, the media lied about how massive Trumps rally sizes were, they lied about how small Hillarys rallies were...and now they're lying about the size of Trumps massive inauguration turn out.\", 'White House defends inauguration crowd size', 'DONALD TRUMP COMPLETELY LIES ABOUT HOW MANY PEOPLE WERE AT HIS INAUGURATION. WHATS YOUR DEFENSE, DUMB FAGGOTS?', 'Trump had biggest inaugural crowd ever? Metrics say no', \"Donald Trump had biggest inaugural crowd ever? Metrics don't show it\", 'White House (Falsely) Declares Trump’s Inauguration Crowd The Largest In History', 'Why is the fact that Obama had a larger inauguration crowd so relevant the media needs to report it 10,000 times? It\\'s because it\\'s just another method to further divide the masses and propagate this \"us vs them\" mentality. In other words, everyone is being played.', 'Fact check: Trump overstates crowd size at inaugural', 'Donald Trump Lies About The Number Of People At His Inauguration while addressing the CIA', 'Trump had biggest inaugural crowd ever? Metrics say no', 'Trump had biggest inaugural crowd ever? Metrics say no', 'Spicer\\'s exact quote was: \"This was the largest audience to ever witness an inauguration\" and he\\'s right, thanks to web streams.', 'White House defends inauguration crowd size', \"How are we gonna compare inauguration crowd sizes and not act like Obama wasn't the first African American president and the east coast isn't surrounded by blue states?\", 'Trump had biggest inaugural crowd ever? Metrics say no', 'Trump\\'s Press Secretary compared the 2013 Inauguration 11AM Metro ridership numbers (317k) to the 2017 Inauguration TOTAL DAY ridership numbers to \"prove\" that his Inauguration was bigger. SAD!', \"President Donald Trump's inauguration actually didn't have the biggest audience ever\", 'Fact Check: Trump overstates crowd size at inaugural', 'Trump spokesman: Inauguration had ‘largest audience in history’', 'Trump’s Inauguration vs. Obama’s: Comparing the Crowds', 'Spicer: Inauguration had largest audience ever', \"Trump trying to convince us his inauguration crowd was bigger than Obama's got me like\", '\"This was the largest audience to ever witness an inauguration, period,\" Trump Press Secretary angry yells at journalists, contradicting all available data.']\n",
      "END\n",
      " \n",
      "['WikiLeaks is now criticizing Trump on Twitter for not releasing his tax returns -- looks like they were neutral the whole time. So much for the whole \"WIKILEAKS IS CONTROLLED BY RUSSIA\" narrative, huh?', 'Does anyone else think Trump fans who thought Wikileaks were on their side are in for a rude awakening?', 'I still support Wikileaks even if they publish information about Trump. They are nonpartisan.', \"wikileaks going hard after trump following kellyann conway's statement about him not releasing his tax returns, calling for someone to forward the returns to them so they can leak them. given many trump supporters support of them during the election, do you support wikileaks now?\", 'It Looks Like WikiLeaks Is Turning On Trump', \"What's up with wikileaks going after Trump now?\"]\n",
      "END\n",
      " \n",
      "['Protester screams NO as Donald Trump becomes 45th President (Titanic Version)', 'Trump Protester Screams No set to My Heart Will Go On']\n",
      "END\n",
      " \n",
      "[\"Trump: Why didn't protestors vote?\", 'Trump on Women’s March protesters: ‘Why didn’t these people vote?’', \"[TDD] @realDonaldTrump: Watched protests yesterday but was under the impression that we just had an election! Why didn't these people vote? Celebs hurt cause badly.\", 'President Trump on Women’s March protesters: “Why didn’t these people vote?”', 'Trump tweets on Women’s March protesters: “Why didn’t these people vote?”', \"Trump: Why didn't protesters vote?\", \"President Trump: Watched protests yesterday but was under the impression that we just had an election! Why didn't these people vote? Celebs hurt cause badly.\", \"Trump: Why didn't marchers vote? ....He does realize he did not win the popular vote right? Right?\", 'President Trump: \"Watched protests yesterday but was under the impression that we just had an election! Why didn\\'t these people vote? Celebs hurt cause badly.\"', 'Donald Trump unleashes on protesters: ‘Why didn’t they vote?’', 'Donald Trump’s Women’s March Tweet: ‘Why Didn’t These People Vote?’', \"@realDonaldTrump: Watched protests yesterday but was under the impression that we just had an election! Why didn't these people vote? Celebs hurt cause badly.\", \"PRESIDENT TRUMP ON TWITTER: Watched protests yesterday but was under the impression that we just had an election! Why didn't these people vote? Celebs hurt cause badly.\", 'President Trump tweets on Women’s March protesters: “Why didn’t these people vote?”', '‘Why didn’t these people vote?’: Trump addresses nationwide protests', 'Pres. Trump on women’s march: ‘Why didn’t these people vote?’', 'Trump questions if protesters voted', 'President Trump tweets on Women’s March protesters: “Why didn’t these people vote?”', \"President Donald Trump Says Women's Marchers Should Have Voted\", \"'Why didn't these people vote?': Trump lashes out at protestors, celebrities after rocky inauguration\", 'Donald Trump’s Women’s March Tweet: ‘Why Didn’t These People Vote?’', \"Trump: Why didn't marchers vote?\"]\n",
      "END\n",
      " \n",
      "['I was part of a 30 million woman march in November. We marched our asses into a voting booth and voted Donald J Trump for President of the United States.', 'My thoughts go out to all the women who got acid thrown in their faces while marching today... Just Kidding, that only happens in the backwards cultures that the leaders of your march fetishize', \"woman's march worked! woke up this morning to find out american women have the same rights as men. GREAT JOB LADIES!\", \"Found out my girlfriend participated in the women's March\", \"My girlfriend went to the Women's March on DC today, so you know what I did?\", 'BREAKING NEWS: Since the large outpouring of women marching yesterday, the women and members of the LGBTQIA community of the USA are now free to vote, get a job, practice any religion, have babies, not have babies, get married, get an education, drive a vehicle, fly an airplane, join the military.', 'Saw men at the woman\\'s march. Can\\'t stop laughing imagining how that went down. \"Come on, you\\'re coming to the woman\\'s march with me! Put on your pussy hat!\"', 'Looks like the March for Women won :(']\n",
      "END\n",
      " \n",
      "['Trump is now president, but here is how Bernie can still be president', \"TODAY IS DRUMPF'S FIRST DAY IN OFFICE. HERE'S HOW BERNIE CAN STILL WIN.\"]\n",
      "END\n",
      " \n",
      "['Sean Spicer: \"That was the largest audience to witness an inauguration, period.\" | PANTS ON FIRE!', 'Watch Trump aide, ‘Meet the Press’ host get in heated debate over inauguration crowd']\n",
      "END\n",
      " \n",
      "[\"Donald Trump's imitation by a Japanese comedian\", \"The L.A. Artist Who Lip-Synced Donald Trump's Inauguration Speech as a Clown\"]\n",
      "END\n",
      " \n",
      "['Donald J. Trump on Twitter: \"Peaceful protests are a hallmark of our democracy. Even if I don\\'t always agree, I recognize the rights of people to express their views.\"', \"Trump calls protests 'a hallmark of our democracy' in toned-down response to marches\", '\"Peaceful protests are a hallmark of our democracy. Even if I don\\'t always agree, I recognize the rights of people to express their views.', 'Trump: Peaceful protests a hallmark of our democracy', \"Trump Mocks Saturday Demonstrations Before Calling Peaceful Protests 'Hallmark' of Democracy\", \"President Trump - Peaceful protests are a hallmark of our democracy. Even if I don't always agree, I recognize the rights of people to express their views.\", \"Peaceful protests are a hallmark of our democracy. Even if I don't always agree, I recognize the rights of people to express their views.\", 'President Trump on Women\\'s March \"Peaceful protests are a hallmark of our democracy\"', 'President Trump: \"Peaceful protests are a hallmark of our democracy. Even if I don\\'t always agree, I recognize the rights of people to express their views.\" We chose the right guy, folks.']\n",
      "END\n",
      " \n",
      "['That was not a #WomensMarch. It was leftist anti-Trumpers desperately trying to gain legitimacy by exploiting women for their globalist agenda', 'There was no #WomensMarch when Hillary Clinton took millions of dollars from #SaudiArabia, where women are treated as less than human beings', '\"#WomensMarch care about women so much that they voted for a candidate who accepts money from countries that stone rape victims to death.\"']\n",
      "END\n",
      " \n",
      "['Honest question - what are women worldwide marching for/against, and how much does it have to do with Trump?', \"Misandristic is all this women's march is. As a man I say it's time we stand up for ourselves against this unfounded oppression!!! Men are the only ones that will get drafted!!! I say we man march on Washington and call for equality!!!!\", \"AP PHOTOS: Women's marches flood parks, streets worldwide\", \"Women's March Boston 1/21/17\", 'SHARE Pictures From Women’s Marches Around the World', \"The Women's march is a bad thing for women everywhere!\", 'Defiant Voices Flood U.S. Cities as Women Rally for Rights', \"What was the point of that Women's March?\", \"Some reasons as to why Black women weren't really feeling yesterday's march\", \"Women's March Is The Biggest Protest In US History As An Estimated 2.9 Million March\", 'Womans march-hidden agenda?', \"Visual of Women's March Protests on a US Map\", \"'This is just the beginning': women who marched against Trump vow to fight on | World news\", \"Irony of Woman's March hating on Melina Trump\", \"Thousands Pack Portland Streets For Women's March\", 'A Scene from the D.C. Women’s March', 'Women’s March Is The Largest Protest In US History', \"Women's March on Washington overshadows Trump's first full day in office\", \"Tens of thousands attend Women's March on Austin\", '\"Why are these women marching for their rights here when they could be marching for women in ________\" - people who care about neither', 'More than 2 million join women-led protests in opposition of Donald Trump across US', \"Nationwide Women's Marches Clearly Rattle Delusional Donald Trump\", \"Pictures From The Women's Marches Around The World\", \"Woman's March BTFO\", \"Women's March: one out of every 100 Americans took to the street, according to estimates\", \"I am a Proud Radical Feminist who Refused to Participate in the Woman's March; Hear Me Out.\", 'More than 1 Million Rally at Women’s Marches in US and Around World', \"ABC News reports on Women's Marches with video of violent protests from day before\", \"Women's March on Washington overshadows Trump's first full day in office\", \"At least 120K rally at Women's March in Seattle\", \"Women's March Is The Biggest Protest In US History As An Estimated 2.9 Million March\", \"AP PHOTOS: Women's marches flood parks, streets worldwide\", \"From a woman about the women's march.\", 'What are women marching for?', \"The Women's March on Washington left out the other 66 genders. Shameful.\", \"We should support the women's march and their fight against\", \"Millions march in 600+ global protests for women's rights and equality on first full day of Trump presidency; rallies held on all continents, including Antarctica.\", 'Womens March in Madison, WI (Jan. 21, 2017)', '\"This is What Democracy Looks Like\": 400K Demonstrators Flood Midtown for Women\\'s March', '10 cities, 10 marches: how US women marked their opposition to Trump', 'Please for the love of God someone explain to me what on earth is ridiculous pointless march for women is trying to accomplish. What are they even protesting?!', \"Without a path from protest to power, the Women's March will end up like Occupy\", \"Women's March on Washington: Solidarity comforts anxious Americans\", 'A real woman\\'s point of view on the Anti-Trump so-called \"women\\'s March\"', 'LIVE VIDEO: Women Nationwide Protest Something', \"Women's protest is confusing to me\", 'How Marches in Washington Have Shaped America', 'Defiant Voices Flood U.S. Cities as Women Rally for Rights', \"Other than protesting Trump, what were the point of the Women's Marches?\", '#WomensMarch against Donald Trump around the world', \"Women's March on Washington in a nutshell\", \"What do you call the protestors who took part in the Women's March?\", 'Why I March: Meet the People of the Women’s March On D.C. in 360°', 'Women’s marches: More than one million protesters vow to resist President Trump', \"I'm confused about these women marches...\", \"Donald Trump, Protests, Women's march\", 'Pictures From Women’s Marches Around the World (amazing)', 'What the hell were they protesting at the \"WOMEN\\'S MARCH\"?', \"Women's marches draw huge crowds as Trump takes office\", \"Woman's march against Trump in Capetown Africa\", \"Woman's March against Trump in Capetown Africa\", \"Without a path from protest to power, the Women's March Will Be Ineffective\", \"What's the point of this Women's March?\", 'In challenge to Trump, women protesters swarm streets across U.S.', \"Women march because they don't like Trump, but why do they seem to be saying that they are in danger of their right being taken away?\", \"Can r/all explain to me why it's okay to support a march that is headed by a woman who is pro Sharia law? Isn't that antithetical to the entire point of a woman's march?\", 'An Alternative Perspective On Today\\'s \"Women\\'s March\"', 'Women’s march baffles women attending Trump’s inauguration', \"Let's share inspiring stories about Women's Marches in small towns in America and across the world.\", \"'This is just the beginning': women who marched against Trump vow to fight on\", 'Wait, why exactly are all these women protesting?', 'In the end, what did you change, Women Marchers?', 'Women lead unprecedented worldwide mass protests against Donald Trump', \"Women can Protest Safely: The unique lesson of the Women's March\", \"The women's march was to complain about any topic/issue. So... It was a BITCHFEST?!?\", \"Protesters across globe rally for women's rights\", 'Sorry guys but by putting America first we have to support these female marches....', \"Without a path from protest to power, the Women's March will end up like Occupy\", 'Millions of American women marched yesterday in protest of Trump. A Palestinian-American woman led them - Linda Sarsour', 'Pictures From Women’s Marches on Every Continent', \"I am a woman and this whole Women's March annoys me\", 'New estimate puts 90,000 to 100,000 at Women’s March in St. Paul, Minnesota', \"I'm starting to think us based ladies need to start a ANTI-FEMINIST march. We will wear heels, aprons, and push baby strollers. Well..maybe not the aprons but fuck those miserable feminist bitches!\", \"Massive crowds at women's marches greet Trump presidency with historic defiance\", \"Women's marches around the world – in pictures\", \"In pics: Over 1 million join anti-Trump women's marches worldwide\", \"Looking at the Objectives of the Women's March. I mean besides bashing President Trump.\", 'Women March in Seattle- Over 100,000 Strong', \"Women's March on Washington: Hundreds of thousands come together in act of defiance and unity\", \"What is the Point of the Woman's March?\", \"Live stream of the women's march from earlier.\", 'Women Nationwide Protest Something', '\"2.9 million\" women marched, but we had almost 63 million votes. STUMPED!', \"The 'pussyhats' grab back: Massive Women's March on Washington overwhelms streets\", \"Women's March on Washington Protests President Trump\", 'So, 2.5 Million Women marched today....', \"The unstoppable Women's march!\", \"The worst part about the Women's March a feminist movement in general is that there is really no logical way to end it. They already have the same rights as men. What can we do? Nothing.\", \"How do you feel about women who were against the women's march?\", \"Without a path from protest to power, the Women's March will end up like Occupy\", \"At 2.5 million strong, Women's Marches crush expectations\", \"Women's March &amp; Protest Reaches Over 4 Million All Around The World - Unprecedented\", 'Female Trump Supporters: Women’s March Doesn’t Make Sense', \"What We Saw at Women's March on Washington\", 'Anti-Trump Women Marchers Threaten to Never Leave Washington, DC.... because of course not, its not like they have jobs and are useful contributing members of society...', 'After they marched, 500 women learned how to run – for office', \"Race And Feminism: Women's March Recalls The Touchy History\", \"Women's (Except for Pro-Life Women) March on Washington\", \"Women's March on Madison in two minutes\", 'What are the Women Marches? (serious)', 'Women’s March goes unmentioned in Trumps first speech', 'Women’s marches: More than one million protesters vow to resist President Trump', \"Bird's Eye-View of Women's Marches Across the Country | NBC News\", \"The Woman's March today. Ya. Them. They are the REAL DEPLORABLES. Those woman represent the biggest threat to society. They are self entitled female supremacists.\", \"If Hillary was president, there would still be a women's march, but they'd be marching into Russia.\", \"Women's march: Women hate Donald Trump so much they are even marching against him in Antarctica\", \"Women's Marches everywhere... but why? (serious question)\", \"Women's March: 100,000 protest in London against Donald Trump\", \"Just a friendly reminder that only 18 percent of the population identifies as feminist. The March for women is not represented for women, it's represented for radical liberalism.\", 'The Lunatic march: What a disgusting disgraceful pathetic event that only accomplished one thing, it made women look weak and stupid.', 'Women’s March Is The Largest Protest In US History', \"The women's march will achieve nothing as it is all for publicity and also because Trump has no major policies that will disadvantage the women of America. These marches would have greater success if they were done to protest Islam's treatment of women.\", \"Historic Women's March Reaches More Than 4 Million People Marching All Around The World!\", \"Roundup of stuff on Women's Rights March yesterday.\", 'Today\\'s \"Women\\'s march against Trump\" is really fucking with my mind', \"The ugly women's March had zero effect, and they didn't even know what they were marching for. Pathetic\", 'How grassroots activists can use the Women’s March to build concrete political power.', \"Women's marches draw estimated 2.5 million people across country\", \"Purpose of the Woman's March\", '\"We believe migration is a human right and that no human being is illegal.\"---Womens March Principles', \"The women's march is not a women's march.\", 'Women around the world protest against President Trump', \"'We Are America': Women's March Spotlights Fiery Rhetoric\", 'We the people - Women marches on Washington in Munich Germany', 'The Women’s March is massive. Here’s how organizers can give it staying power.', \"Curious about something about those women's marches\", \"Historic Women's March Reaches More Than 4 Million People WorldWide! Details On Numbers And Celebrities In Attendance\", 'Women lead unprecedented worldwide mass protests against Trump', \"Historic Women's March Reaches Over 4 Million People All Over The World - Unprecedented\", \"ELI5: What do the liberals think they are accomplishing with the women's march?\", 'Overhead Shots Show Massive Women’s March Crowds in Cities Across America', \"The woman's march is equivalent to that rich kid throwing tantrum because his dad got him a black iphone instead of a white one. Where dafaq is the white guilt when you need it? Or is it something only reserved for white men?\", 'A day to celebrate our power: The Women’s March provides the first moments of solidarity and happiness since Trump’s election', 'Do the women that participated in the march realize....', 'Anti-Trump Women Marchers Threaten to Never Leave Washington, DC']\n",
      "END\n",
      " \n",
      "['Former CIA Director Brennan \"deeply angered and saddened\" at President Trump\\'s speech at Memorial Wall', 'Brennan: Trump ‘should be ashamed of himself’', 'Ex-CIA director: Trump should be ashamed of himself', 'CIA officers: Trump speech was disrespectful', 'Former CIA Director John Brennan Says ‘Trump Should Be Ashamed Of Himself’', 'Fmr CIA Director: Trump ‘Should Be Ashamed of Himself’ Over Boastful CIA Speech', 'Ex-CIA Boss Brennan, Others Rip Trump Speech in Front of Memorial', 'Former CIA director Brennan is \"deeply saddened and angered at Donald Trump\\'s despicable display of self-aggrandizement in front of CIA\\'s Memorial Wall of Agency heroes. Trump should be ashamed of himself.\"', 'Brennan ‘deeply saddened and angered’ at Trump’s CIA remarks', 'Ex-CIA chief Brennan bashes Trump over speech during CIA visit', 'Former CIA Director Says Trump Should Be â\\x80\\x98Ashamed Of Himselfâ\\x80\\x99', 'About Ex CIA Brennan speaking that way to President Trump.', 'CIA officers: Trump speech was disrespectful', 'CIA officers: Trump speech was disrespectful', 'Former CIA director nails Trump over intelligence meeting: “Trump should be ashamed of himself.”', \"Ex-CIA director John Brennan: 'Trump should be ashamed of himself' over CIA remarks\", 'Ex-CIA Boss Brennan, Others Rip Trump Speech in Front of Memorial', \"The Latest: Former CIA chief says Trump should 'be ashamed'\", \"Ex-CIA Director John Brennan: 'Trump Should Be Ashamed of himself' Over CIA Remarks\"]\n",
      "END\n",
      " \n",
      "['H.R.193 - American Sovereignty Restoration Act of 2017 (Introduced by Mike Rodgers)', 'H.R.193-American Sovereignty Restoration Act of 2017', \"American Sovereignty Restoration Act of 2017 (H.R. 193) - Thoughts on it's implications and possible passing?\", 'H.R.193 - American Sovereignty Restoration Act of 2017', 'H.R.193 - 115th Congress (2017-2018): American Sovereignty Restoration Act of 2017 - HAHAHAHAHAHAHAHAHAHAHAHAHAHAHAHAHAHA', 'H.R.193 - 115th Congress (2017-2018): American Sovereignty Restoration Act of 2017', 'Text - H.R.193 - 115th Congress (2017-2018): American Sovereignty Restoration Act of 2017', 'BTFO. Introduced 1/3/17- American Sovereignty Restoration Act of 2017 - 5D chess by Trump admin?', 'How likely is the American Sovereignty Restoration Act of 2017 to pass and what effects would it have if it does?', 'American Sovereignty Restoration Act of 2017 (Trump is taking back America from the globalists)', 'H.R.193 - American Sovereignty Restoration Act of 2017']\n",
      "END\n",
      " \n",
      "['Why is the left and the MSM against populism and nationalism?', 'Why the left is more fascist and Hitlerian than what they make us (conservatives) out to be', 'Why is the left and the MSM against populism and nationalism?']\n",
      "END\n",
      " \n",
      "['Hillary Clinton on Twitter: I stand w/ Nora Harren, a 17-year from Boise, ID, &amp; every person marching for our values today. Onward! ✊✊��✊��✨ #WomensMarch (WTF Hillary)', 'Thanks for standing, speaking &amp; marching for our values @womensmarch - Hillary Clinton (What values? Values of burning a city down? bombing the White House? Behaving like a whore? It is your values, not ours)', \"The love for Hillary was strong during the marches. Forever the People's President.\", 'Hillary in spirit at the march yesterday.', \"Babes for Hillary at the Women's March\"]\n",
      "END\n",
      " \n",
      "['Kellyanne Conway comments on the White House press statement: \"Sean Spicer our press secretary gave alternative facts\"', 'Trump Advisor Calls Press Secretary\\'s Falsehoods \"Alternative Facts\"', 'Do you think Kelly Anne Conway calling Spicer\\'s lies about inauguration crowd sizes \"alternative facts\" is an insult to the intelligence of Americans?', 'Kellyanne Conway Says Trump\\'s Press Secretary Wasn\\'t Lying — He Just Gave \"Alternative Facts\"', 'Trump adviser Kellyanne Conway says White House press secretary presented ‘alternative facts’', 'Kellyanne Conway: WH Spokesman Gave ‘Alternative Facts’ on Inauguration Crowd', 'Kellyann Conway tells @chucktodd Sean Spicer was offering \"alternative facts\" not falsehoods #altfacts', 'Kellyanne Conway says the Trump administration has ‘alternative facts’', 'How Kellyanne Conway ushered in the era of ‘alternative facts’', 'Conway Defends Lies by White House Press Secretary', 'Trump adviser Kellyanne Conway says White House press secretary presented ‘alternative facts’', 'Kellyanne Conway: Trump\\'s Press Secretary didn\\'t lie, he just provided \"alternative facts\"', 'Let\\'s talk about how the phrase \"alternative facts\" is being twisted in this Kellyanne Conway interview.', \"Conway: WH Spox Wasn't Lying, He Was Just Offering 'Alternative Facts'\", '‘Alternative Facts Are Not Facts, They’re Falsehoods!: Chuck Todd Battles Kellyanne Conway', 'Kellyanne Conway says Donald Trump’s team has ‘alternative facts.’ Which pretty much says it all.', \"Conway: WH Spox Wasn't Lying, He Was Just Offering 'Alternative Facts'\", 'Kellyanne Conway Snaps At Chuck Todd: Sean Spicer’s Lies About Crowd Size Are ‘Alternative Facts’', 'Kellyanne Conway Says Trump’s Press Secretary Wasn’t Lying — He Just Gave \"Alternative Facts\"', \"Conway: 'Alternative Facts'- Lookups for 'fact' spiked after Kellyanne Conway described false statements as 'alternative facts'\", 'Kellyanne Conway: Spicer offered \"alternative facts\" Chuck Todd: \"Alternative facts are not facts. They are falsehoods.\"', \"'Alternative Facts:' Kellyanne Conway Defends Press Secretary\", \"Conway: Spicer used 'alternative facts' in press briefing\", \"Kellyanne Conway: Spicer 'gave alternative facts' on inauguration crowd\", 'Kellyanne Conway: WH Spokesman Gave ‘Alternative Facts’ on Inauguration Crowd', 'Kellyanne Conway says Donald Trump’s team has ‘alternative facts.’ Which pretty much says it all.', 'Oh my god can you believe Kellyanne Conway and her \"alternative facts\"??? Say bernouts', \"[Autoplay vid warning] Trump aide Conway: Spokesman Spicer used 'alternative facts'\", 'Speaking to NBC\\'s \"Meet the Press,\" Kellyanne Conway referred to Sean Spicer\\'s lies about crowd size as \"alternative facts.\"', 'Kellyanne Conway says Donald Trump’s team has ‘alternative facts.’ Which pretty much says it all.', 'Kellyanne Conway says Sean Spicer was merely offering \"alternative facts\" about inauguration crowd size, not falsehoods', 'Trump Aide Says Press Secretary Presented ‘Alternative Facts’ - Bloomberg', \"Sean Spicer was not lying but offering 'alternative facts' *wink* says Trump Advisor Kellyanne Conway\", \"Conway: Spicer presented 'alternative facts' on inauguration crowds\", \"Conway: Trump White House offered 'alternative facts' on crowd size\", 'Kellyanne Conway Meet The Press FULL HEATED Interview \"Alternative Facts\" 1/22/17', \"Kellyanne Conway says Donald Trump’s team has ‘alternative facts.’ (best euphemism for lies I've personally heard)\", 'Kellyanne Conway says Donald Trump’s team has ‘alternative facts.’ Which pretty much says it all.', \"Trump aide Conway: Spokesman Spicer used 'alternative facts'\", \"Conway: White House offered 'alternative facts'\", \"Kellyanne Conway: Spicer 'gave alternative facts' on inauguration crowd\", 'Speaking to NBC\\'s \"Meet the Press,\" Kellyanne Conway referred to Sean Spicer\\'s false claims about crowd size at the inauguration as \"alternative facts\"', 'Kellyanne Conway: Trump Spokesman Didn’t Lie, He Gave “Alternative Facts”', \"Conway: Trump White House offered 'alternative facts' on crowd size\", 'Kellyanne Conway says Donald Trump’s team has ‘alternative facts.’ Which pretty much says it all.', \"Conway: Spicer presented 'alternative facts' on inauguration crowds\", 'Kellyanne Conway says Donald Trump’s team has ‘alternative facts.’ Which pretty much says it all.', 'Alternative Fact Conway', \"Conway: Spicer used 'alternative facts' in press briefing\", 'Trump\\'s Pollyanna propaganda minister Kellyanne Conway has crossed a new threshold of stupidity by calling Trump\\'s lies \"alternative facts\"', 'Kellyanne Conway said Spicer was using \"alternative facts\" to report inauguration numbers.', \"Conway: White House offered 'alternative facts'\", \"'Alternative facts are not facts. They're falsehoods': (moron) Chuck Todd blasts Trump adviser over dubious (wrong!) briefing claims\", 'Trump adviser Kellyanne Conway says White House press secretary presented ‘alternative facts’']\n",
      "END\n",
      " \n",
      "['Can\\'t even watch Football without libs ruining it. \"Packers lost because they don\\'t wanna meet Trump after winning Superbowl\" now spread across twitter', 'Dear Packers fans, sorry for your loss but if you tune into CNN, they won!']\n",
      "END\n",
      " \n",
      "['Americans generally support reproductive choice — so why does the GOP keep winning on abortion?', \"Every liberal parent dreams of the day they can take their daughter (or son) for their first abortion. It's a rite of passage!\", 'Why do liberals want the government to spend so much money on contraception when their personalities will suffice?']\n",
      "END\n",
      " \n",
      "['Trump, amid combative start, pledges to rise to moment', 'Analysis: Trump promises big change, picks small fights', 'The best Chief of Staff in film history once said \"You fight the fights that need fighting.\" Are you at all concerned that Trump seems determined to fight every single fight, regardless of whether or not it matters?', 'Trump, amid combative start, pledges to rise to moment', 'Analysis: Trump promises big change, picks small fights']\n",
      "END\n",
      " \n",
      "['A bill being proposed by Republican representative Mike Rogers calls for the United States to leave the United Nations entirely. This bill which is being titled the American Sovereignty Act of 2017, has just been introduced and is not being reported by any of the major news outlets.', 'Alabama Senator introduces bill to remove United States from United Nations', 'Bill introduced to remove US from United Nations', 'How crazy can it get, and how fast? The Republicans just introduced a bill to withdraw the US from the United Nations', 'Bill introduced to pull US out of UN - American Sovereignty Restoration Act of 2017', 'Why are we introducing a bill to remove the US from the United Nations?', 'Congress to propose bill for US to Exit UN', 'New US bill requiring them to leave the UN', 'Congress just introduced a bill to remove the US from the UN.', 'H.R.193 - 115th Congress (2017-2018): American Sovereignty Restoration Act of 2017 - This bill repeals the United Nations Participation Act of 1945 and other specified related laws.', 'Bill introduced to remove US from United Nations', 'Bill introduced to remove US from United Nations', 'Bill introduced to remove US from United Nations', 'Bill introduced to remove US from United Nations', 'H.R.193 - American Sovereignty Restoration Act of 2017 introduced to terminate the US from the UN.', 'H.R.193 - 115th Congress (2017-2018): American Sovereignty Restoration Act - This bill repeals the United Nations Participation Act of 1945 and other specified related laws.', 'CALL TO ACTION - BILL INTRODUCED TO PULL USA OUT OF THE UN', 'H.R.193 - American Sovereignty Restoration Act of 2017 introduced to terminate the US from the UN.', 'Bill introduced to remove US from United Nations', 'Bill introduced to pull US out of UN - H.R.193 - American Sovereignty Restoration Act of 2017', 'Can someone ELI5 the UN bill that has been proposed?', 'USA Bill to pull out of the UN.', 'USA Proposal To Repeal UN Participation.', 'Bill Introduced To Pull Out The United States From The United Nations', 'how do you feel about the United States leaving the UN.', 'Bill introduced to remove US from United Nations', 'H.R. 193 Introduced to pull the United States out of the UN completely', 'Bill introduced to pull US out of UN - American Sovereignty Restoration Act of 2017', 'Text of H.R. 193: American Sovereignty Restoration Act of 2017 (Introduced version) / A bill to to end membership of the United States in the United Nations', 'The American Sovereignty Restoration Act of 2017, a bill to remove the United States from the UN, was introduced to the house. What are the ramifications of its creation, and is it likely to be passed?', 'American Sovereignty Restoration Act of 2017: This bill repeals the United Nations Participation Act of 1945 and other specified related laws.', 'GOP introduce Bill to withdraw from the United Nations', 'On Jan 3rd Rep. Rogers, Mike D. [R-AL] Introduced H.R.193 - American Sovereignty Restoration Act of 2017. This bill repeals the United Nations Participation Act of 1945 and other specified related laws.', \"It's already happening - Bill introduced to remove US from United Nations\", 'Bill Introduced to withdraw the United States from the UN', 'Bill introduced to remove US from United Nations ~ Fuck you UN!!', 'Bill introduced to remove US from United Nations', 'Bill Introduced To Pull Out The United States From The United Nations', 'CALL TO ACTION - BILL INTRODUCED TO PULL USA OUT OF THE UN', 'Bill proposed for U.S. to leave the United Nations', 'Bill introduced to pull US out of UN - H.R.193 - American Sovereignty Restoration Act of 2017', 'Bill introduced to terminate US membership to U.N.', 'HR 193: Bill to Pull out of UN', 'Bill Introduced to Congress for US to leave UN', 'Bill Introduced To Remove US From The UN and expel UN from NY']\n",
      "END\n",
      " \n",
      "['Trump withdraws US from TPP deal on Day 1', 'Asian press reporting US has withdrawn from TPP. http://WhiteHouse.gov states that US will withdraw from TPP', 'Trump moves to withdraw US from TPP deal on Day 1', 'BREAKING: U.S. Withdraws From Trans-Pacific Partnership, Say Reports', 'US announces withdrawal from TPP', 'US announces withdrawal from TPP', 'US announces withdrawal from TPP', 'US announces withdrawal from TPP- Nikkei Asian Review', 'US announces withdrawal from TPP', 'US Withdraws from Trans-Pacific Partnership Treaty', 'US Announces Withdrawal from TPP.', 'White House Announces TPP Withdrawal, Plans For NAFTA Talks', 'US announces withdrawal from TPP', 'Trumps America withdraws from the TPP', 'US announces withdrawal from TPP', 'Trump announces withdrawal from tpp!', 'White House Announces TPP Withdrawal, Plans For NAFTA Talks', \"Trump withdraws US from TPP. BernOUTS don't know how to respond.\", 'US announces withdrawal from TPP', 'US announces withdrawal from TPP']\n",
      "END\n",
      " \n"
     ]
    },
    {
     "ename": "KeyboardInterrupt",
     "evalue": "",
     "output_type": "error",
     "traceback": [
      "\u001b[0;31m---------------------------------------------------------------------------\u001b[0m",
      "\u001b[0;31mKeyboardInterrupt\u001b[0m                         Traceback (most recent call last)",
      "Cell \u001b[0;32mIn[19], line 4\u001b[0m\n\u001b[1;32m      2\u001b[0m \u001b[38;5;28;01mfor\u001b[39;00m cluster_id, post_ids \u001b[38;5;129;01min\u001b[39;00m clusters\u001b[38;5;241m.\u001b[39mitems():\n\u001b[1;32m      3\u001b[0m     \u001b[38;5;28;01mif\u001b[39;00m \u001b[38;5;28mlen\u001b[39m(post_ids) \u001b[38;5;241m>\u001b[39m \u001b[38;5;241m1\u001b[39m:\n\u001b[0;32m----> 4\u001b[0m         \u001b[38;5;28mprint\u001b[39m(\u001b[43mdata_df\u001b[49m\u001b[38;5;241;43m.\u001b[39;49m\u001b[43mfilter\u001b[49m\u001b[43m(\u001b[49m\u001b[43mpl\u001b[49m\u001b[38;5;241;43m.\u001b[39;49m\u001b[43mcol\u001b[49m\u001b[43m(\u001b[49m\u001b[38;5;124;43m'\u001b[39;49m\u001b[38;5;124;43mid\u001b[39;49m\u001b[38;5;124;43m'\u001b[39;49m\u001b[43m)\u001b[49m\u001b[38;5;241;43m.\u001b[39;49m\u001b[43mis_in\u001b[49m\u001b[43m(\u001b[49m\u001b[43mpost_ids\u001b[49m\u001b[43m)\u001b[49m\u001b[43m)\u001b[49m[\u001b[38;5;124m'\u001b[39m\u001b[38;5;124mtitle\u001b[39m\u001b[38;5;124m'\u001b[39m]\u001b[38;5;241m.\u001b[39mto_list())\n\u001b[1;32m      5\u001b[0m         \u001b[38;5;28mprint\u001b[39m(\u001b[38;5;124m'\u001b[39m\u001b[38;5;124mEND\u001b[39m\u001b[38;5;124m'\u001b[39m)\n\u001b[1;32m      6\u001b[0m         \u001b[38;5;28mprint\u001b[39m(\u001b[38;5;124m'\u001b[39m\u001b[38;5;124m \u001b[39m\u001b[38;5;124m'\u001b[39m)\n",
      "File \u001b[0;32m/Users/ujan/opt/anaconda3/envs/nlp/lib/python3.12/site-packages/polars/dataframe/frame.py:4270\u001b[0m, in \u001b[0;36mDataFrame.filter\u001b[0;34m(self, *predicates, **constraints)\u001b[0m\n\u001b[1;32m   4172\u001b[0m \u001b[38;5;28;01mdef\u001b[39;00m \u001b[38;5;21mfilter\u001b[39m(\n\u001b[1;32m   4173\u001b[0m     \u001b[38;5;28mself\u001b[39m,\n\u001b[1;32m   4174\u001b[0m     \u001b[38;5;241m*\u001b[39mpredicates: (\n\u001b[0;32m   (...)\u001b[0m\n\u001b[1;32m   4181\u001b[0m     \u001b[38;5;241m*\u001b[39m\u001b[38;5;241m*\u001b[39mconstraints: Any,\n\u001b[1;32m   4182\u001b[0m ) \u001b[38;5;241m-\u001b[39m\u001b[38;5;241m>\u001b[39m DataFrame:\n\u001b[1;32m   4183\u001b[0m \u001b[38;5;250m    \u001b[39m\u001b[38;5;124;03m\"\"\"\u001b[39;00m\n\u001b[1;32m   4184\u001b[0m \u001b[38;5;124;03m    Filter the rows in the DataFrame based on one or more predicate expressions.\u001b[39;00m\n\u001b[1;32m   4185\u001b[0m \n\u001b[0;32m   (...)\u001b[0m\n\u001b[1;32m   4268\u001b[0m \u001b[38;5;124;03m    └─────┴─────┴─────┘\u001b[39;00m\n\u001b[1;32m   4269\u001b[0m \u001b[38;5;124;03m    \"\"\"\u001b[39;00m\n\u001b[0;32m-> 4270\u001b[0m     \u001b[38;5;28;01mreturn\u001b[39;00m \u001b[38;5;28;43mself\u001b[39;49m\u001b[38;5;241;43m.\u001b[39;49m\u001b[43mlazy\u001b[49m\u001b[43m(\u001b[49m\u001b[43m)\u001b[49m\u001b[38;5;241;43m.\u001b[39;49m\u001b[43mfilter\u001b[49m\u001b[43m(\u001b[49m\u001b[38;5;241;43m*\u001b[39;49m\u001b[43mpredicates\u001b[49m\u001b[43m,\u001b[49m\u001b[43m \u001b[49m\u001b[38;5;241;43m*\u001b[39;49m\u001b[38;5;241;43m*\u001b[39;49m\u001b[43mconstraints\u001b[49m\u001b[43m)\u001b[49m\u001b[38;5;241;43m.\u001b[39;49m\u001b[43mcollect\u001b[49m\u001b[43m(\u001b[49m\u001b[43m_eager\u001b[49m\u001b[38;5;241;43m=\u001b[39;49m\u001b[38;5;28;43;01mTrue\u001b[39;49;00m\u001b[43m)\u001b[49m\n",
      "File \u001b[0;32m/Users/ujan/opt/anaconda3/envs/nlp/lib/python3.12/site-packages/polars/lazyframe/frame.py:1939\u001b[0m, in \u001b[0;36mLazyFrame.collect\u001b[0;34m(self, type_coercion, predicate_pushdown, projection_pushdown, simplify_expression, slice_pushdown, comm_subplan_elim, comm_subexpr_elim, no_optimization, streaming, background, _eager)\u001b[0m\n\u001b[1;32m   1936\u001b[0m \u001b[38;5;28;01mif\u001b[39;00m background:\n\u001b[1;32m   1937\u001b[0m     \u001b[38;5;28;01mreturn\u001b[39;00m InProcessQuery(ldf\u001b[38;5;241m.\u001b[39mcollect_concurrently())\n\u001b[0;32m-> 1939\u001b[0m \u001b[38;5;28;01mreturn\u001b[39;00m wrap_df(\u001b[43mldf\u001b[49m\u001b[38;5;241;43m.\u001b[39;49m\u001b[43mcollect\u001b[49m\u001b[43m(\u001b[49m\u001b[43m)\u001b[49m)\n",
      "\u001b[0;31mKeyboardInterrupt\u001b[0m: "
     ]
    }
   ],
   "source": [
    "for day, clusters in data.items():\n",
    "    for cluster_id, post_ids in clusters.items():\n",
    "        if len(post_ids) > 1:\n",
    "            print(data_df.filter(pl.col('id').is_in(post_ids))['title'].to_list())\n",
    "            print('END')\n",
    "            print(' ')"
   ]
  },
  {
   "cell_type": "code",
   "execution_count": 20,
   "id": "2e9cef33-5327-4475-89df-0221b7eab848",
   "metadata": {},
   "outputs": [
    {
     "data": {
      "text/plain": [
       "3026"
      ]
     },
     "execution_count": 20,
     "metadata": {},
     "output_type": "execute_result"
    }
   ],
   "source": [
    "non_triv_count = 0\n",
    "\n",
    "for day, clusters in data.items():\n",
    "    for cluster_id, post_ids in clusters.items():\n",
    "        if len(post_ids) > 1:\n",
    "            non_triv_count += 1\n",
    "\n",
    "non_triv_count"
   ]
  },
  {
   "cell_type": "code",
   "execution_count": 21,
   "id": "4e24441f-9fbf-4461-813c-9ff5bcda8c09",
   "metadata": {},
   "outputs": [
    {
     "data": {
      "text/plain": [
       "264"
      ]
     },
     "execution_count": 21,
     "metadata": {},
     "output_type": "execute_result"
    }
   ],
   "source": [
    "same_count = 0\n",
    "\n",
    "for day, clusters in data.items():\n",
    "    for cluster_id, post_ids in clusters.items():\n",
    "        if len(post_ids) > 1:\n",
    "            posts = data_df.filter(pl.col('id').is_in(post_ids))['title'].to_list()\n",
    "            if len(set(posts)) == 1:\n",
    "                same_count += 1\n",
    "\n",
    "same_count"
   ]
  },
  {
   "cell_type": "code",
   "execution_count": null,
   "id": "bc0d52de-59c9-426f-8db9-183078161c42",
   "metadata": {},
   "outputs": [],
   "source": [
    "2143 -> 264\n",
    "2588 -> 288\n",
    "3026 -> 264"
   ]
  },
  {
   "cell_type": "code",
   "execution_count": null,
   "id": "f8cd6a1d-b7c2-48b9-9dc5-156d9bb38558",
   "metadata": {},
   "outputs": [],
   "source": []
  },
  {
   "cell_type": "code",
   "execution_count": null,
   "id": "f1258d3d-5de3-4629-8f45-6abaf0a0c449",
   "metadata": {},
   "outputs": [],
   "source": []
  },
  {
   "cell_type": "markdown",
   "id": "de041064-cc7c-42a4-9d60-20cfda5a5e62",
   "metadata": {},
   "source": [
    "#### Analyze matched posts"
   ]
  },
  {
   "cell_type": "code",
   "execution_count": 5,
   "id": "cfbdc286-57d7-4361-8957-f572dceedbd3",
   "metadata": {},
   "outputs": [],
   "source": [
    "with open('/users/ujan/Downloads/post_cluster_matches_5.json') as f:\n",
    "    data = json.load(f)"
   ]
  },
  {
   "cell_type": "markdown",
   "id": "2593aa91-a373-4867-8b35-46ebd54b7838",
   "metadata": {},
   "source": [
    "##### total clusters in 5 days"
   ]
  },
  {
   "cell_type": "code",
   "execution_count": 6,
   "id": "3ef1c97d-dfcc-4ad0-bd72-a80193420cb9",
   "metadata": {},
   "outputs": [
    {
     "data": {
      "text/plain": [
       "2049"
      ]
     },
     "execution_count": 6,
     "metadata": {},
     "output_type": "execute_result"
    }
   ],
   "source": [
    "tot = 0\n",
    "\n",
    "for day, clusters in data.items():\n",
    "    tot += len(clusters)\n",
    "\n",
    "tot"
   ]
  },
  {
   "cell_type": "markdown",
   "id": "497d4dcf-75ef-41eb-8556-50793bc1f91c",
   "metadata": {},
   "source": [
    "##### clusters with metaphors"
   ]
  },
  {
   "cell_type": "code",
   "execution_count": 7,
   "id": "09ecc7a4-f87d-4331-ba2a-0506b21c5b30",
   "metadata": {},
   "outputs": [
    {
     "data": {
      "text/plain": [
       "204"
      ]
     },
     "execution_count": 7,
     "metadata": {},
     "output_type": "execute_result"
    }
   ],
   "source": [
    "meta_cluster_count = 0\n",
    "\n",
    "for day, clusters in data.items():\n",
    "    for c_id, matches in clusters.items():\n",
    "        if len(matches['meta']) > 0:\n",
    "            #print(data_df.filter(pl.col('id').is_in(matches['meta']))['title'].to_list())\n",
    "            #print('END')\n",
    "            #print(' ')\n",
    "            meta_cluster_count += 1\n",
    "\n",
    "meta_cluster_count"
   ]
  },
  {
   "cell_type": "markdown",
   "id": "11bb6dbb-3daa-4e5c-84ef-7602656af154",
   "metadata": {},
   "source": [
    "##### examples"
   ]
  },
  {
   "cell_type": "code",
   "execution_count": 33,
   "id": "40be37ac-6a58-4af6-b858-4cf2fb20c7bc",
   "metadata": {},
   "outputs": [
    {
     "name": "stdout",
     "output_type": "stream",
     "text": [
      "['Seattle judge blocks Trump immigration order', \"Trump to overturn 'so-called' judge's ban\", 'Boston Judge Unblocks Trump Travel Ban, Asks \"Where Does It Say Muslim Countries?\"', 'Trump questions authority of judge who halted his immigration ban', 'Federal Judge Halts Trump Travel Ban Nationwide']\n",
      "END\n",
      " \n",
      "['FBI Vault quietly drops another set of Clinton Files - release 6', 'Midnight “Release” Again – 178 Page FBI Clinton Email Document Release With Interesting Content…']\n",
      "END\n",
      " \n",
      "['Der Spiegel: Trump beheading cover sparks criticism']\n",
      "END\n",
      " \n",
      "[\"Judge Who Blocked Trump Action Has Activist Past: Robart made a point of saying 'Black Lives Matter' in a dispute with Seattle police, does pro bono work for refugees.\", \"Same judge who halted the EO travel ban declared 'black lives matter' from the bench in Seattle @2:18\"]\n",
      "END\n",
      " \n",
      "[\"Open Letter to President Trump: Constitutionally, the POTUS only has 3 enumerated powers. One charges him with the 'protection' of this sovereign nation. I know you don't have your legal team in place, but you alone have the authority to override any Federal Judge even a delusional Bush judge!\"]\n",
      "END\n",
      " \n",
      "['Remember, just like Yemen Obama has sent elite US special forces soldiers into ambushes in the past to atone for the death of Obama bin Laden? I remember, the operation was also an obvious set-up!']\n",
      "END\n",
      " \n",
      "['Arkansas passes law to let husbands sue wives for getting abortions, even in cases of rape']\n",
      "END\n",
      " \n",
      "['Berkeley Antifa Attacker Unmasked As UC Employee. LEFTIST NARRATIVE BTFO!']\n",
      "END\n",
      " \n",
      "[\"Of Course I Want to Punch Him in the Face': Robert De Niro Still Doesn't Like Trump\"]\n",
      "END\n",
      " \n",
      "[\"Eminem unleashes on Donald Trump: 'I'll make his whole brand go under'\", \"Eminem unleashes on Trump: 'I'll make his whole brand go under' | CNN\"]\n",
      "END\n",
      " \n",
      "['\"President Donald Trump on Friday [3 January 2017] signed two executive orders, one with the goal of scaling back the 2010 Dodd-Frank Act to ease regulation on Wall Street.\"', 'GOOD TRUMP: Trump Targets Dodd-Frank To Free Up Banks']\n",
      "END\n",
      " \n",
      "[\"It's clear now, this election was about ending Pizzagate. And despite the odds stacked against us, WE WON. Stay strong based centipedes, let's finish this. God bless all of you, President Trump and the United States of America.\"]\n",
      "END\n",
      " \n",
      "['\"Muslim ban\" injunction coup against president Trump. We need to get these people the hell out!']\n",
      "END\n",
      " \n",
      "['White House denies report Bannon met with Kelly to stop green-card waiver']\n",
      "END\n",
      " \n",
      "['The end of the world as we know it: The Donald Trump White House is set to destroy decades of U.S. foreign policy. In less than 2 weeks, Trump has unraveled decades of diplomacy, weakened alliances and made us all less safe', 'The end of the world as we know it: The Donald Trump White House is set to destroy decades of U.S. foreign policy', 'The end of the world as we know it: The Donald Trump White House is set to destroy decades of U.S. foreign policy -- In less than 2 weeks, Trump has unraveled decades of diplomacy, weakened alliances and made us all less safe']\n",
      "END\n",
      " \n",
      "['Cuck liberals forgot that Republicans control the Supreme Court as soon as Gorsuch is confirmed. All of their legal challenges will be stumped. Stupid cucks!!!']\n",
      "END\n",
      " \n",
      "['House of Cards Creator Calls for Trump’s Impeachment', 'House of Cards creator goes after Trump', 'House of Cards creator posts Declaration of Resistance over 25 tweets']\n",
      "END\n",
      " \n",
      "['Despite being a Bush appointee, the Anti-Trump Judge in Seattle is cucked.']\n",
      "END\n",
      " \n",
      "['Centipedes, what do you think of the presidency of George W Bush?']\n",
      "END\n",
      " \n",
      "['Hayes Brown on Twitter: \"So by \"blind\" trust you mean \"eyes of a fucking hawk that can spot a gnat at two miles away\" trust\" -- Steve Kopack on Twitter: \"NYT: Records show Donald Trump is the SOLE beneficiary and owner of the trust set up to try and avoid conflicts\"']\n",
      "END\n",
      " \n",
      "['Delicious: Pence sets up office in Speaker Ryan’s House neighborhood: \"they like Ryan, but they love Pence\"']\n",
      "END\n",
      " \n",
      "['GOP running into opposition from GOP on tax overhaul', 'GOP Running Into OPPOSITION From GOP On Tax Overhaul! ... THESE FUCKERS NEED TO GET INLINE!']\n",
      "END\n",
      " \n",
      "['Iran is playing cat and mouse with the USA, thoughts? Are sanctions enough, we have been there and done that.']\n",
      "END\n",
      " \n",
      "[\"VIDEO: Liberal ARRESTED After Shoving Her 'BLOODY MAXI-PAD' Into Pro-Lifer's Mouth\", 'Feminist Arrested For Shoving Her ‘Bloody Maxi-Pad’ Into Pro-Life Protester’s Mouth', 'VIDEO: Liberal ARRESTED After Shoving Her ‘BLOODY MAXI-PAD’ Into Pro-Lifer’s Mouth']\n",
      "END\n",
      " \n",
      "['Pizza, hotdogs, and ice cream...Antifa Professor Rebecca Goyette. Check out the rest of her \"ART\"']\n",
      "END\n",
      " \n",
      "[\"#Vault7 is fascinating, see the inside of the global seed vault in the video. Thank you for the attention on Twitter, but please don't inspire conspiracy about this.\"]\n",
      "END\n",
      " \n",
      "[\"Sam Harris on Real Time last night... An especially cogent point of view in the wake of Trump's Immigration Ban and the Women's March (Linda Sarsour). The world needs more reasonable people like Sam unpacking current affairs.\"]\n",
      "END\n",
      " \n",
      "[\"I've been finding that any mention of Trump having clinical/pathological narcissistic personality disorder is usually dismissed as armchair psychology on reddit, I would like to discuss this.\"]\n",
      "END\n",
      " \n",
      "['Military Coup against Trump. Alex Jones is PISSED', 'Democrats Are Organizing A Coup Against Trump']\n",
      "END\n",
      " \n",
      "['Petition to have Trump impeached passes half a million signatures']\n",
      "END\n",
      " \n",
      "[\"RT @michaelkeyes: Freakin NFL built stadium walls to keep fans that havn't paid for a ticket from entering the game. #notmysuperbowl - @TEN_GOP\"]\n",
      "END\n",
      " \n",
      "['Bill Maher wants to book Milo Yiannopoulos for a record-breaking asshole-off']\n",
      "END\n",
      " \n",
      "['All pro-Trump replies to his tweets are being censored.']\n",
      "END\n",
      " \n",
      "['84 Lumber Super Bowl ad is pro illegal immigrant propaganda']\n",
      "END\n",
      " \n",
      "[\"Impeachment of Donald Trump? Don't bet on it, because the Republicans are winning\"]\n",
      "END\n",
      " \n",
      "['FOXNews: 71% pro-Trump, CNN 38%']\n",
      "END\n",
      " \n",
      "['FAKE NEWS ALERT! Media headlines claim that Trump is a misogynist who makes women employees \"dress like a woman.” Yet, none of the media’s stories attribute this phrase to Trump. Trump is being attacked because he expects everyone who works for him-man or woman-to dress professionally!']\n",
      "END\n",
      " \n",
      "['Nexus cards revoked from all Canadian permanent residents with citizenship in restricted countries: CBSA']\n",
      "END\n",
      " \n",
      "[\"It's confirmed. Twitter is fucking around with Pro-Trump tweets.\"]\n",
      "END\n",
      " \n",
      "[\"It doesn't matter to us that the judge is a Bush appointee. We oppose Republicans like Bush just as much as Democrats BECAUSE THEY ARE GLOBALISTS THAT PUT THEIR INTERESTS BEFORE OURS. They oppose us BECAUSE WE ARE CALLING THEM OUT ON IT.\", 'Fellow Centipedes and Patriots, what the heck is going on with the Bush judge?']\n",
      "END\n",
      " \n"
     ]
    },
    {
     "ename": "KeyboardInterrupt",
     "evalue": "",
     "output_type": "error",
     "traceback": [
      "\u001b[0;31m---------------------------------------------------------------------------\u001b[0m",
      "\u001b[0;31mKeyboardInterrupt\u001b[0m                         Traceback (most recent call last)",
      "Cell \u001b[0;32mIn[33], line 4\u001b[0m\n\u001b[1;32m      2\u001b[0m \u001b[38;5;28;01mfor\u001b[39;00m c_id, matches \u001b[38;5;129;01min\u001b[39;00m clusters\u001b[38;5;241m.\u001b[39mitems():\n\u001b[1;32m      3\u001b[0m     \u001b[38;5;28;01mif\u001b[39;00m \u001b[38;5;28mlen\u001b[39m(matches[\u001b[38;5;124m'\u001b[39m\u001b[38;5;124mmeta\u001b[39m\u001b[38;5;124m'\u001b[39m]) \u001b[38;5;241m>\u001b[39m \u001b[38;5;241m0\u001b[39m:\n\u001b[0;32m----> 4\u001b[0m         \u001b[38;5;28mprint\u001b[39m(\u001b[43mdata_df\u001b[49m\u001b[38;5;241;43m.\u001b[39;49m\u001b[43mfilter\u001b[49m\u001b[43m(\u001b[49m\u001b[43mpl\u001b[49m\u001b[38;5;241;43m.\u001b[39;49m\u001b[43mcol\u001b[49m\u001b[43m(\u001b[49m\u001b[38;5;124;43m'\u001b[39;49m\u001b[38;5;124;43mid\u001b[39;49m\u001b[38;5;124;43m'\u001b[39;49m\u001b[43m)\u001b[49m\u001b[38;5;241;43m.\u001b[39;49m\u001b[43mis_in\u001b[49m\u001b[43m(\u001b[49m\u001b[43mmatches\u001b[49m\u001b[43m[\u001b[49m\u001b[38;5;124;43m'\u001b[39;49m\u001b[38;5;124;43mmeta\u001b[39;49m\u001b[38;5;124;43m'\u001b[39;49m\u001b[43m]\u001b[49m\u001b[43m)\u001b[49m\u001b[43m)\u001b[49m[\u001b[38;5;124m'\u001b[39m\u001b[38;5;124mtitle\u001b[39m\u001b[38;5;124m'\u001b[39m]\u001b[38;5;241m.\u001b[39mto_list())\n\u001b[1;32m      5\u001b[0m         \u001b[38;5;28mprint\u001b[39m(\u001b[38;5;124m'\u001b[39m\u001b[38;5;124mEND\u001b[39m\u001b[38;5;124m'\u001b[39m)\n\u001b[1;32m      6\u001b[0m         \u001b[38;5;28mprint\u001b[39m(\u001b[38;5;124m'\u001b[39m\u001b[38;5;124m \u001b[39m\u001b[38;5;124m'\u001b[39m)\n",
      "File \u001b[0;32m/Users/ujan/opt/anaconda3/envs/nlp/lib/python3.12/site-packages/polars/dataframe/frame.py:4270\u001b[0m, in \u001b[0;36mDataFrame.filter\u001b[0;34m(self, *predicates, **constraints)\u001b[0m\n\u001b[1;32m   4172\u001b[0m \u001b[38;5;28;01mdef\u001b[39;00m \u001b[38;5;21mfilter\u001b[39m(\n\u001b[1;32m   4173\u001b[0m     \u001b[38;5;28mself\u001b[39m,\n\u001b[1;32m   4174\u001b[0m     \u001b[38;5;241m*\u001b[39mpredicates: (\n\u001b[0;32m   (...)\u001b[0m\n\u001b[1;32m   4181\u001b[0m     \u001b[38;5;241m*\u001b[39m\u001b[38;5;241m*\u001b[39mconstraints: Any,\n\u001b[1;32m   4182\u001b[0m ) \u001b[38;5;241m-\u001b[39m\u001b[38;5;241m>\u001b[39m DataFrame:\n\u001b[1;32m   4183\u001b[0m \u001b[38;5;250m    \u001b[39m\u001b[38;5;124;03m\"\"\"\u001b[39;00m\n\u001b[1;32m   4184\u001b[0m \u001b[38;5;124;03m    Filter the rows in the DataFrame based on one or more predicate expressions.\u001b[39;00m\n\u001b[1;32m   4185\u001b[0m \n\u001b[0;32m   (...)\u001b[0m\n\u001b[1;32m   4268\u001b[0m \u001b[38;5;124;03m    └─────┴─────┴─────┘\u001b[39;00m\n\u001b[1;32m   4269\u001b[0m \u001b[38;5;124;03m    \"\"\"\u001b[39;00m\n\u001b[0;32m-> 4270\u001b[0m     \u001b[38;5;28;01mreturn\u001b[39;00m \u001b[38;5;28;43mself\u001b[39;49m\u001b[38;5;241;43m.\u001b[39;49m\u001b[43mlazy\u001b[49m\u001b[43m(\u001b[49m\u001b[43m)\u001b[49m\u001b[38;5;241;43m.\u001b[39;49m\u001b[43mfilter\u001b[49m\u001b[43m(\u001b[49m\u001b[38;5;241;43m*\u001b[39;49m\u001b[43mpredicates\u001b[49m\u001b[43m,\u001b[49m\u001b[43m \u001b[49m\u001b[38;5;241;43m*\u001b[39;49m\u001b[38;5;241;43m*\u001b[39;49m\u001b[43mconstraints\u001b[49m\u001b[43m)\u001b[49m\u001b[38;5;241;43m.\u001b[39;49m\u001b[43mcollect\u001b[49m\u001b[43m(\u001b[49m\u001b[43m_eager\u001b[49m\u001b[38;5;241;43m=\u001b[39;49m\u001b[38;5;28;43;01mTrue\u001b[39;49;00m\u001b[43m)\u001b[49m\n",
      "File \u001b[0;32m/Users/ujan/opt/anaconda3/envs/nlp/lib/python3.12/site-packages/polars/lazyframe/frame.py:1939\u001b[0m, in \u001b[0;36mLazyFrame.collect\u001b[0;34m(self, type_coercion, predicate_pushdown, projection_pushdown, simplify_expression, slice_pushdown, comm_subplan_elim, comm_subexpr_elim, no_optimization, streaming, background, _eager)\u001b[0m\n\u001b[1;32m   1936\u001b[0m \u001b[38;5;28;01mif\u001b[39;00m background:\n\u001b[1;32m   1937\u001b[0m     \u001b[38;5;28;01mreturn\u001b[39;00m InProcessQuery(ldf\u001b[38;5;241m.\u001b[39mcollect_concurrently())\n\u001b[0;32m-> 1939\u001b[0m \u001b[38;5;28;01mreturn\u001b[39;00m wrap_df(\u001b[43mldf\u001b[49m\u001b[38;5;241;43m.\u001b[39;49m\u001b[43mcollect\u001b[49m\u001b[43m(\u001b[49m\u001b[43m)\u001b[49m)\n",
      "\u001b[0;31mKeyboardInterrupt\u001b[0m: "
     ]
    }
   ],
   "source": [
    "for day, clusters in data.items():\n",
    "    for c_id, matches in clusters.items():\n",
    "        if len(matches['meta']) > 0:\n",
    "            print(data_df.filter(pl.col('id').is_in(matches['meta']))['title'].to_list())\n",
    "            print('END')\n",
    "            print(' ')"
   ]
  },
  {
   "cell_type": "markdown",
   "id": "4da1cf8a-b7c8-409d-9207-c25a13230e39",
   "metadata": {},
   "source": [
    "#### Num comments in meta posts vs non meta posts in same cluster"
   ]
  },
  {
   "cell_type": "code",
   "execution_count": 31,
   "id": "4f32e820-bbc9-43d3-8629-df0dd830ab8a",
   "metadata": {},
   "outputs": [
    {
     "name": "stdout",
     "output_type": "stream",
     "text": [
      "5\n",
      "5\n",
      " \n",
      "61.0\n",
      "20.0\n",
      " \n",
      "17\n",
      "7.0\n",
      " \n",
      "58.0\n",
      "7\n",
      " \n",
      "5\n",
      "14.5\n",
      " \n",
      "4\n",
      "2\n",
      " \n",
      "41\n",
      "6.0\n",
      " \n",
      "23\n",
      "6.5\n",
      " \n",
      "11\n",
      "21\n",
      " \n",
      "1485.0\n",
      "5\n",
      " \n",
      "19.0\n",
      "5\n",
      " \n",
      "17\n",
      "5\n",
      " \n",
      "2\n",
      "4.0\n",
      " \n",
      "27\n",
      "3\n",
      " \n",
      "50\n",
      "42\n",
      " \n",
      "8\n",
      "4\n",
      " \n",
      "16\n"
     ]
    },
    {
     "ename": "StatisticsError",
     "evalue": "no median for empty data",
     "output_type": "error",
     "traceback": [
      "\u001b[0;31m---------------------------------------------------------------------------\u001b[0m",
      "\u001b[0;31mStatisticsError\u001b[0m                           Traceback (most recent call last)",
      "Cell \u001b[0;32mIn[31], line 7\u001b[0m\n\u001b[1;32m      5\u001b[0m non_meta_num_comments \u001b[38;5;241m=\u001b[39m data_df\u001b[38;5;241m.\u001b[39mfilter(pl\u001b[38;5;241m.\u001b[39mcol(\u001b[38;5;124m'\u001b[39m\u001b[38;5;124mid\u001b[39m\u001b[38;5;124m'\u001b[39m)\u001b[38;5;241m.\u001b[39mis_in(matches[\u001b[38;5;124m'\u001b[39m\u001b[38;5;124mnon_meta\u001b[39m\u001b[38;5;124m'\u001b[39m]))[\u001b[38;5;124m'\u001b[39m\u001b[38;5;124mnum_comments\u001b[39m\u001b[38;5;124m'\u001b[39m]\u001b[38;5;241m.\u001b[39mto_list()\n\u001b[1;32m      6\u001b[0m \u001b[38;5;28mprint\u001b[39m(statistics\u001b[38;5;241m.\u001b[39mmedian(meta_num_comments))\n\u001b[0;32m----> 7\u001b[0m \u001b[38;5;28mprint\u001b[39m(\u001b[43mstatistics\u001b[49m\u001b[38;5;241;43m.\u001b[39;49m\u001b[43mmedian\u001b[49m\u001b[43m(\u001b[49m\u001b[43mnon_meta_num_comments\u001b[49m\u001b[43m)\u001b[49m)\n\u001b[1;32m      8\u001b[0m \u001b[38;5;28mprint\u001b[39m(\u001b[38;5;124m'\u001b[39m\u001b[38;5;124m \u001b[39m\u001b[38;5;124m'\u001b[39m)\n",
      "File \u001b[0;32m/Users/ujan/opt/anaconda3/envs/nlp/lib/python3.12/statistics.py:617\u001b[0m, in \u001b[0;36mmedian\u001b[0;34m(data)\u001b[0m\n\u001b[1;32m    615\u001b[0m n \u001b[38;5;241m=\u001b[39m \u001b[38;5;28mlen\u001b[39m(data)\n\u001b[1;32m    616\u001b[0m \u001b[38;5;28;01mif\u001b[39;00m n \u001b[38;5;241m==\u001b[39m \u001b[38;5;241m0\u001b[39m:\n\u001b[0;32m--> 617\u001b[0m     \u001b[38;5;28;01mraise\u001b[39;00m StatisticsError(\u001b[38;5;124m\"\u001b[39m\u001b[38;5;124mno median for empty data\u001b[39m\u001b[38;5;124m\"\u001b[39m)\n\u001b[1;32m    618\u001b[0m \u001b[38;5;28;01mif\u001b[39;00m n \u001b[38;5;241m%\u001b[39m \u001b[38;5;241m2\u001b[39m \u001b[38;5;241m==\u001b[39m \u001b[38;5;241m1\u001b[39m:\n\u001b[1;32m    619\u001b[0m     \u001b[38;5;28;01mreturn\u001b[39;00m data[n \u001b[38;5;241m/\u001b[39m\u001b[38;5;241m/\u001b[39m \u001b[38;5;241m2\u001b[39m]\n",
      "\u001b[0;31mStatisticsError\u001b[0m: no median for empty data"
     ]
    }
   ],
   "source": [
    "for day, clusters in data.items():\n",
    "    for c_id, matches in clusters.items():\n",
    "        if len(matches['meta']) > 0:\n",
    "            meta_num_comments = data_df.filter(pl.col('id').is_in(matches['meta']))['num_comments'].to_list()\n",
    "            non_meta_num_comments = data_df.filter(pl.col('id').is_in(matches['non_meta']))['num_comments'].to_list()\n",
    "            print(statistics.median(meta_num_comments))\n",
    "            print(statistics.median(non_meta_num_comments))\n",
    "            print(' ')"
   ]
  },
  {
   "cell_type": "markdown",
   "id": "5e6bc7ee-0873-4e90-9ebb-36ead1521c7e",
   "metadata": {},
   "source": [
    "##### median num_comments"
   ]
  },
  {
   "cell_type": "code",
   "execution_count": 8,
   "id": "399bd397-8b98-41d2-84d4-c4ad59f84454",
   "metadata": {},
   "outputs": [
    {
     "name": "stdout",
     "output_type": "stream",
     "text": [
      "7\n",
      "7.0\n"
     ]
    }
   ],
   "source": [
    "meta_num_comments = []\n",
    "non_meta_num_comments = []\n",
    "\n",
    "for day, clusters in data.items():\n",
    "    for c_id, matches in clusters.items():\n",
    "        if len(matches['meta']) > 0 and len(matches['non_meta']) > 0:\n",
    "            meta_num_comments.extend(data_df.filter(pl.col('id').is_in(matches['meta']))['num_comments'].to_list())\n",
    "            non_meta_num_comments.extend(data_df.filter(pl.col('id').is_in(matches['non_meta']))['num_comments'].to_list())\n",
    "            \n",
    "print(statistics.median(meta_num_comments))\n",
    "print(statistics.median(non_meta_num_comments))"
   ]
  },
  {
   "cell_type": "markdown",
   "id": "3a998aab-f25f-44a2-9c11-956c5fbd29d9",
   "metadata": {},
   "source": [
    "##### mean num_comments"
   ]
  },
  {
   "cell_type": "code",
   "execution_count": 10,
   "id": "19c821b3-35f0-4ac3-8541-7459e87be9a5",
   "metadata": {},
   "outputs": [
    {
     "name": "stdout",
     "output_type": "stream",
     "text": [
      "39.327510917030565\n",
      "52.67888888888889\n"
     ]
    }
   ],
   "source": [
    "print(statistics.mean(meta_num_comments))\n",
    "print(statistics.mean(non_meta_num_comments))"
   ]
  },
  {
   "cell_type": "markdown",
   "id": "9e1e47d9-5728-462a-893a-fca09caf513f",
   "metadata": {},
   "source": [
    "##### median comparison across clusters"
   ]
  },
  {
   "cell_type": "code",
   "execution_count": 11,
   "id": "1bca1720-99f2-4116-8e64-b8345354febb",
   "metadata": {},
   "outputs": [
    {
     "name": "stdout",
     "output_type": "stream",
     "text": [
      "83\n",
      "83\n"
     ]
    }
   ],
   "source": [
    "meta_median_c = 0\n",
    "non_meta_median_c = 0\n",
    "\n",
    "for day, clusters in data.items():\n",
    "    for c_id, matches in clusters.items():\n",
    "        if len(matches['meta']) > 0 and len(matches['non_meta']) > 0:\n",
    "            meta_num_comments = data_df.filter(pl.col('id').is_in(matches['meta']))['num_comments'].to_list()\n",
    "            non_meta_num_comments = data_df.filter(pl.col('id').is_in(matches['non_meta']))['num_comments'].to_list()\n",
    "            meta_median = statistics.median(meta_num_comments)\n",
    "            non_meta_median = statistics.median(non_meta_num_comments)\n",
    "\n",
    "            if meta_median > non_meta_median :\n",
    "                meta_median_c += 1\n",
    "            elif non_meta_median > meta_median:\n",
    "                non_meta_median_c += 1\n",
    "\n",
    "print(meta_median_c)\n",
    "print(non_meta_median_c)"
   ]
  },
  {
   "cell_type": "code",
   "execution_count": null,
   "id": "7f4c2309-daf4-46ea-ae2b-327cad6492be",
   "metadata": {},
   "outputs": [],
   "source": []
  },
  {
   "cell_type": "markdown",
   "id": "000cf899-f92b-489a-a65f-ac94b212682b",
   "metadata": {},
   "source": [
    "##### only popular subs"
   ]
  },
  {
   "cell_type": "code",
   "execution_count": 12,
   "id": "b07bf6c4-aa5d-4894-b065-20cc66902548",
   "metadata": {},
   "outputs": [],
   "source": [
    "sublist = [\"politics\", \"The_Donald\", \"Conservative\", \"PoliticalDiscussion\", \"AskTrumpSupporters\", \"AskALiberal\", \"NeutralPolitics\", \"neutralnews\", \"moderatepolitics\", \"worldnews\", \"Republican\", \"Liberal\", \"progressive\", \"esist\"]"
   ]
  },
  {
   "cell_type": "code",
   "execution_count": 15,
   "id": "a243dd26-6e0e-4237-9676-53325f635042",
   "metadata": {},
   "outputs": [],
   "source": [
    "pol_ids = data_df.filter(pl.col('subreddit').is_in(sublist))['id'].to_list()"
   ]
  },
  {
   "cell_type": "markdown",
   "id": "f855327f-df72-4e81-a8a7-1e3775277d7a",
   "metadata": {},
   "source": [
    "##### median num_comments"
   ]
  },
  {
   "cell_type": "code",
   "execution_count": 26,
   "id": "cb883509-06de-467e-9343-31089b3eec29",
   "metadata": {},
   "outputs": [
    {
     "name": "stdout",
     "output_type": "stream",
     "text": [
      "8\n",
      "8\n"
     ]
    }
   ],
   "source": [
    "meta_num_comments = []\n",
    "non_meta_num_comments = []\n",
    "\n",
    "for day, clusters in data.items():\n",
    "    for c_id, matches in clusters.items():\n",
    "\n",
    "        if all(item in pol_ids for item in matches['meta']) and all(item in pol_ids for item in matches['non_meta']):\n",
    "        \n",
    "            if len(matches['meta']) > 0 and len(matches['non_meta']) > 0:\n",
    "                meta_num_comments.extend(data_df.filter(pl.col('id').is_in(matches['meta']))['num_comments'].to_list())\n",
    "                non_meta_num_comments.extend(data_df.filter(pl.col('id').is_in(matches['non_meta']))['num_comments'].to_list())\n",
    "            \n",
    "print(statistics.median(meta_num_comments))\n",
    "print(statistics.median(non_meta_num_comments))"
   ]
  },
  {
   "cell_type": "code",
   "execution_count": 28,
   "id": "6197dae8-4024-4b20-a780-fa0e244c6fd8",
   "metadata": {},
   "outputs": [
    {
     "name": "stdout",
     "output_type": "stream",
     "text": [
      "33.16438356164384\n",
      "29.63157894736842\n"
     ]
    }
   ],
   "source": [
    "print(statistics.mean(meta_num_comments))\n",
    "print(statistics.mean(non_meta_num_comments))"
   ]
  },
  {
   "cell_type": "code",
   "execution_count": null,
   "id": "9618df6a-05f0-43e6-bf56-73cc30287a40",
   "metadata": {},
   "outputs": [],
   "source": []
  }
 ],
 "metadata": {
  "kernelspec": {
   "display_name": "Python 3 (ipykernel)",
   "language": "python",
   "name": "python3"
  },
  "language_info": {
   "codemirror_mode": {
    "name": "ipython",
    "version": 3
   },
   "file_extension": ".py",
   "mimetype": "text/x-python",
   "name": "python",
   "nbconvert_exporter": "python",
   "pygments_lexer": "ipython3",
   "version": "3.12.2"
  }
 },
 "nbformat": 4,
 "nbformat_minor": 5
}
