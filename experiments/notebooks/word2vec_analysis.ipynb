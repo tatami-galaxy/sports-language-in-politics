{
 "cells": [
  {
   "cell_type": "code",
   "execution_count": 1,
   "id": "03375523-e310-4ccc-9476-c871d654f3a2",
   "metadata": {},
   "outputs": [],
   "source": [
    "import numpy as np\n",
    "import pandas as pd\n",
    "import torch\n",
    "import sys\n",
    "import re\n",
    "\n",
    "from sklearn.manifold import TSNE\n",
    "import plotly.graph_objects as go\n",
    "\n",
    "import argparse\n",
    "import os\n",
    "from os.path import dirname, abspath\n",
    "from functools import partial\n",
    "import json\n",
    "import yaml\n",
    "import numpy as np\n",
    "\n",
    "import torch\n",
    "import torch.nn as nn\n",
    "from torchtext.data import get_tokenizer\n",
    "from torchtext.vocab import build_vocab_from_iterator\n",
    "from torch.utils.data import DataLoader\n",
    "\n",
    "import torch.optim as optim\n",
    "from torch.optim.lr_scheduler import LambdaLR\n",
    "\n",
    "from datasets import load_dataset\n",
    "\n",
    "import seaborn as sns\n",
    "import pandas as pd\n",
    "import polars as pl\n",
    "import matplotlib.pyplot as plt\n",
    "\n",
    "from torchtext.data import get_tokenizer\n",
    "from torchtext.vocab import build_vocab_from_iterator\n",
    "from torch.utils.data import DataLoader\n",
    "\n",
    "from datasets import Dataset\n",
    "from tqdm.auto import tqdm\n",
    "\n",
    "from sklearn.cluster import KMeans\n",
    "import itertools\n",
    "\n",
    "from collections import deque\n",
    "from itertools import permutations\n",
    "import statistics"
   ]
  },
  {
   "cell_type": "code",
   "execution_count": 2,
   "id": "653b0dc3-bb80-47fb-bdc1-ff6fe02343df",
   "metadata": {},
   "outputs": [],
   "source": [
    "EMBED_DIMENSION = 300\n",
    "EMBED_MAX_NORM = 1\n",
    "\n",
    "data_dir = \"/users/ujan/sports-language-in-politics/models/cbow/\""
   ]
  },
  {
   "cell_type": "code",
   "execution_count": 3,
   "id": "aad5ea58-9a8b-4b16-ae8f-acdd9b43e6a9",
   "metadata": {},
   "outputs": [],
   "source": [
    "if torch.backends.mps.is_available(): device = \"mps\"\n",
    "elif torch.cuda.is_available(): device = \"cuda\"\n",
    "else: device = \"cpu\""
   ]
  },
  {
   "cell_type": "code",
   "execution_count": 4,
   "id": "9a711a00-cd09-4b0a-bb90-5470f2146cc0",
   "metadata": {},
   "outputs": [],
   "source": [
    "class CBOW_Model(nn.Module):\n",
    "    \"\"\"\n",
    "    Implementation of CBOW model described in paper:\n",
    "    https://arxiv.org/abs/1301.3781\n",
    "    \"\"\"\n",
    "\n",
    "    def __init__(self, vocab_size: int):\n",
    "        super(CBOW_Model, self).__init__()\n",
    "        self.embeddings = nn.Embedding(\n",
    "            num_embeddings=vocab_size,\n",
    "            embedding_dim=EMBED_DIMENSION,\n",
    "            max_norm=EMBED_MAX_NORM,\n",
    "        )\n",
    "        self.linear = nn.Linear(\n",
    "            in_features=EMBED_DIMENSION,\n",
    "            out_features=vocab_size,\n",
    "        )\n",
    "\n",
    "    def forward(self, inputs):\n",
    "        x = self.embeddings(inputs)\n",
    "        x = x.mean(axis=1)\n",
    "        x = self.linear(x)\n",
    "        return x"
   ]
  },
  {
   "cell_type": "code",
   "execution_count": 5,
   "id": "1d32dcae-bb05-426c-9c3e-98a41147a551",
   "metadata": {},
   "outputs": [],
   "source": [
    "def get_embeddings_and_vocab(sub_name):\n",
    "    \n",
    "    vocab = torch.load(data_dir+sub_name+\"_vocab.pt\")\n",
    "    print('vocab size: {}'.format(len(vocab.get_itos())))\n",
    "    model = CBOW_Model(vocab_size=len(vocab.get_itos()))\n",
    "    model = torch.load(data_dir+sub_name+\"_model.pt\", map_location=device)\n",
    "\n",
    "    def normalization(embeddings):\n",
    "        norms = (embeddings ** 2).sum(axis=1) ** (1 / 2)\n",
    "        norms = np.reshape(norms, (len(norms), 1))\n",
    "        embeddings_norm = embeddings / norms\n",
    "        return embeddings_norm\n",
    "    \n",
    "    # embedding from first model layer\n",
    "    embeddings = list(model.parameters())[0].cpu().detach().numpy()\n",
    "    \n",
    "    # normalization\n",
    "    embeddings_norm = normalization(embeddings)\n",
    "\n",
    "    return embeddings_norm, vocab\n",
    "\n",
    "\n",
    "def get_top_similar(word: str, embeddings_norm, vocab, topN: int=5):\n",
    "    word_id = vocab[word]\n",
    "    if word_id == 0:\n",
    "        print(\"Out of vocabulary word\")\n",
    "        return\n",
    "\n",
    "    word_vec = embeddings_norm[word_id]\n",
    "    word_vec = np.reshape(word_vec, (len(word_vec), 1))\n",
    "    dists = np.matmul(embeddings_norm, word_vec).flatten()\n",
    "    topN_ids = np.argsort(-dists)[1 : topN + 1]\n",
    "\n",
    "    topN_dict = {}\n",
    "    for sim_word_id in topN_ids:\n",
    "        sim_word = vocab.lookup_token(sim_word_id)\n",
    "        topN_dict[sim_word] = dists[sim_word_id]\n",
    "    return topN_dict\n",
    "\n",
    "\n",
    "def get_sim(word1: str, word2: str, embeddings_norm, vocab):\n",
    "    if word1 not in vocab.get_itos() or word2 not in vocab.get_itos():\n",
    "        print('not in vocab')\n",
    "        return\n",
    "    word1_id = vocab[word1]\n",
    "    if word1_id == 0:\n",
    "        print(\"Out of vocabulary word\")\n",
    "        return\n",
    "    word2_id = vocab[word2]\n",
    "    if word2_id == 0:\n",
    "        print(\"Out of vocabulary word\")\n",
    "        return\n",
    "\n",
    "    word1_vec = embeddings_norm[word1_id]\n",
    "    #word1_vec = np.reshape(word1_vec, (len(word1_vec), 1))\n",
    "    \n",
    "    word2_vec = embeddings_norm[word2_id]\n",
    "    #word2_vec = np.reshape(word2_vec, (len(word2_vec), 1))\n",
    "    \n",
    "    return np.dot(word1_vec, word2_vec)\n",
    "\n",
    "\n",
    "def get_analogy(a,b,c, embeddings_norm, vocab, topk=5):\n",
    "    vocab_list = vocab.get_itos()\n",
    "    if a not in vocab_list or b not in vocab_list or c not in vocab_list:\n",
    "        print('not in vocab')\n",
    "        return\n",
    "    a_id = vocab[a]\n",
    "    b_id = vocab[b]\n",
    "    c_id = vocab[c]\n",
    "    if a_id == 0 or b_id == 0 or c_id == 0:\n",
    "        print(\"Out of vocabulary word\")\n",
    "        return\n",
    "    a_vec = embeddings_norm[a_id]\n",
    "    b_vec = embeddings_norm[b_id]\n",
    "    c_vec = embeddings_norm[c_id]\n",
    "    sim = -2\n",
    "    target = None\n",
    "    sim_dict = {}\n",
    "    for token in vocab_list:\n",
    "        if token in [a,b,c]:\n",
    "            continue\n",
    "        token_id = vocab[token]\n",
    "        token_vec = embeddings_norm[token_id]\n",
    "        s = np.dot(token_vec, b_vec-a_vec+c_vec)\n",
    "        if s > sim:\n",
    "            sim = s\n",
    "            target = token\n",
    "        if len(sim_dict) < topk:\n",
    "            sim_dict[token] = s\n",
    "        else:\n",
    "            min_key = min(sim_dict, key=sim_dict.get)\n",
    "            min_val = sim_dict[min_key]\n",
    "            if s > min_val:\n",
    "                del sim_dict[min_key]\n",
    "                sim_dict[token] = s\n",
    "                    \n",
    "    #print(target, sim)\n",
    "    return sim_dict\n",
    "\n",
    "\n",
    "def get_outlier(word_list, embeddings_norm, vocab):\n",
    "    vocab_list = vocab.get_itos()\n",
    "    for word in word_list:\n",
    "        if word not in vocab_list:\n",
    "            print('not in vocab')\n",
    "            return\n",
    "    pairs = list(itertools.combinations(word_list, 2))\n",
    "    sim_dict = {w:0 for w in word_list}\n",
    "    for pair in pairs:\n",
    "        vec1 = embeddings_norm[vocab[pair[0]]]\n",
    "        vec2 = embeddings_norm[vocab[pair[1]]]\n",
    "        sim = np.dot(vec1, vec2)\n",
    "        sim_dict[pair[0]] += sim\n",
    "        sim_dict[pair[1]] += sim\n",
    "    new_d = {w:0 for w in word_list}\n",
    "    for key, val in sim_dict.items():\n",
    "        new_d[key] = val/(len(word_list)-1)\n",
    "    word = None\n",
    "    value = 2\n",
    "    for key, val in new_d.items():\n",
    "        if val < value:\n",
    "            word = key\n",
    "            value = val\n",
    "    print(word, value)"
   ]
  },
  {
   "cell_type": "markdown",
   "id": "d51f1976-47a9-4d53-9eca-583d670161af",
   "metadata": {},
   "source": [
    "#### Similarities"
   ]
  },
  {
   "cell_type": "markdown",
   "id": "adf659f6-c05b-4e21-89ca-e1e2d7362ce8",
   "metadata": {},
   "source": [
    "##### the_donald"
   ]
  },
  {
   "cell_type": "code",
   "execution_count": 7,
   "id": "55bc0f65-ef51-4cca-879b-11c57c066187",
   "metadata": {},
   "outputs": [
    {
     "name": "stdout",
     "output_type": "stream",
     "text": [
      "vocab size: 10378\n"
     ]
    },
    {
     "data": {
      "text/plain": [
       "{'hearings': 0.22003981,\n",
       " 'leaning': 0.2085969,\n",
       " 'sweden': 0.20754245,\n",
       " 'reddits': 0.20666334,\n",
       " 'pen': 0.20566946}"
      ]
     },
     "execution_count": 7,
     "metadata": {},
     "output_type": "execute_result"
    }
   ],
   "source": [
    "embeddings_norm, vocab = get_embeddings_and_vocab('the_donald_1000_epochs') # freq 20, sample 100000\n",
    "get_top_similar('politics', embeddings_norm, vocab)"
   ]
  },
  {
   "cell_type": "code",
   "execution_count": 20,
   "id": "c0e9f65a-d68c-44a8-8fab-5085bf1dfb86",
   "metadata": {},
   "outputs": [
    {
     "name": "stdout",
     "output_type": "stream",
     "text": [
      "vocab size: 10378\n"
     ]
    },
    {
     "data": {
      "text/plain": [
       "{'dems': 0.27929482,\n",
       " 'vote': 0.2669506,\n",
       " 'demographics': 0.26626676,\n",
       " 'voting': 0.26432395,\n",
       " 'republicans': 0.26054394}"
      ]
     },
     "execution_count": 20,
     "metadata": {},
     "output_type": "execute_result"
    }
   ],
   "source": [
    "embeddings_norm, vocab = get_embeddings_and_vocab('the_donald_1000_epochs') # freq 20, sample 100000\n",
    "get_top_similar('voters', embeddings_norm, vocab)"
   ]
  },
  {
   "cell_type": "code",
   "execution_count": 8,
   "id": "1bf58f7d-a093-4dd1-b169-f72efdc445aa",
   "metadata": {},
   "outputs": [
    {
     "name": "stdout",
     "output_type": "stream",
     "text": [
      "vocab size: 10378\n"
     ]
    },
    {
     "data": {
      "text/plain": [
       "{'girl': 0.3978128,\n",
       " 'person': 0.33237395,\n",
       " 'women': 0.3177452,\n",
       " 'guy': 0.25549906,\n",
       " 'husband': 0.2481705}"
      ]
     },
     "execution_count": 8,
     "metadata": {},
     "output_type": "execute_result"
    }
   ],
   "source": [
    "embeddings_norm, vocab = get_embeddings_and_vocab('the_donald_1000_epochs') # freq 20, sample 100000\n",
    "get_top_similar('woman', embeddings_norm, vocab)"
   ]
  },
  {
   "cell_type": "code",
   "execution_count": 10,
   "id": "b46478ac-0839-4bd4-a25c-08748db68dde",
   "metadata": {},
   "outputs": [
    {
     "name": "stdout",
     "output_type": "stream",
     "text": [
      "vocab size: 10378\n"
     ]
    },
    {
     "data": {
      "text/plain": [
       "{'obama': 0.33401677,\n",
       " 'hillary': 0.33117822,\n",
       " 'trumps': 0.3227671,\n",
       " 'geotus': 0.30152357,\n",
       " 'potus': 0.2929576}"
      ]
     },
     "execution_count": 10,
     "metadata": {},
     "output_type": "execute_result"
    }
   ],
   "source": [
    "embeddings_norm, vocab = get_embeddings_and_vocab('the_donald_1000_epochs') # freq 20, sample 100000\n",
    "get_top_similar('trump', embeddings_norm, vocab)"
   ]
  },
  {
   "cell_type": "markdown",
   "id": "61b58b3e-f274-49e1-a404-e2cfb4843c68",
   "metadata": {},
   "source": [
    "##### conservative"
   ]
  },
  {
   "cell_type": "code",
   "execution_count": 12,
   "id": "c28dd33c-7e70-40aa-a382-262c9a0a8b9b",
   "metadata": {},
   "outputs": [
    {
     "name": "stdout",
     "output_type": "stream",
     "text": [
      "vocab size: 9061\n"
     ]
    },
    {
     "data": {
      "text/plain": [
       "{'good': 0.34852636,\n",
       " 'terrible': 0.3032945,\n",
       " 'shitty': 0.29318285,\n",
       " 'horrible': 0.27719852,\n",
       " 'insignificant': 0.24304685}"
      ]
     },
     "execution_count": 12,
     "metadata": {},
     "output_type": "execute_result"
    }
   ],
   "source": [
    "embeddings_norm, vocab = get_embeddings_and_vocab('conservative_1000_epochs') # freq 20, sample 100000\n",
    "get_top_similar('bad', embeddings_norm, vocab)"
   ]
  },
  {
   "cell_type": "code",
   "execution_count": 13,
   "id": "c64dd36c-e3c6-42f4-83ee-fde5e7223cb2",
   "metadata": {},
   "outputs": [
    {
     "name": "stdout",
     "output_type": "stream",
     "text": [
      "vocab size: 9061\n"
     ]
    },
    {
     "data": {
      "text/plain": [
       "{'trump': 0.32836217,\n",
       " 'bidens': 0.31359124,\n",
       " 'obama': 0.28926462,\n",
       " 'sleepy': 0.28519666,\n",
       " 'pence': 0.2774164}"
      ]
     },
     "execution_count": 13,
     "metadata": {},
     "output_type": "execute_result"
    }
   ],
   "source": [
    "embeddings_norm, vocab = get_embeddings_and_vocab('conservative_1000_epochs') # freq 20, sample 100000\n",
    "get_top_similar('biden', embeddings_norm, vocab)"
   ]
  },
  {
   "cell_type": "code",
   "execution_count": 9,
   "id": "21bb27ad-a6e5-4f5f-bd35-0cd4299cddcd",
   "metadata": {},
   "outputs": [
    {
     "name": "stdout",
     "output_type": "stream",
     "text": [
      "vocab size: 9061\n"
     ]
    },
    {
     "data": {
      "text/plain": [
       "{'prosecuted': 0.24044552,\n",
       " 'directors': 0.22615686,\n",
       " 'debatable': 0.22474325,\n",
       " 'classified': 0.22291517,\n",
       " 'comey': 0.22155952}"
      ]
     },
     "execution_count": 9,
     "metadata": {},
     "output_type": "execute_result"
    }
   ],
   "source": [
    "embeddings_norm, vocab = get_embeddings_and_vocab('conservative_1000_epochs') # freq 20, sample 100000\n",
    "get_top_similar('captain', embeddings_norm, vocab)"
   ]
  },
  {
   "cell_type": "code",
   "execution_count": 56,
   "id": "b3b8132c-bfe6-468d-85af-65a166dffbae",
   "metadata": {},
   "outputs": [
    {
     "name": "stdout",
     "output_type": "stream",
     "text": [
      "vocab size: 5812\n"
     ]
    },
    {
     "data": {
      "text/plain": [
       "{'dumb': 0.24256499,\n",
       " 'horrible': 0.23618743,\n",
       " 'great': 0.22729284,\n",
       " 'bust': 0.21777347,\n",
       " 'terrible': 0.21155575}"
      ]
     },
     "execution_count": 56,
     "metadata": {},
     "output_type": "execute_result"
    }
   ],
   "source": [
    "embeddings_norm, vocab = get_embeddings_and_vocab('conservative_2019_10_35k_samples') # freq 20, sample 100000\n",
    "get_top_similar('bad', embeddings_norm, vocab)"
   ]
  },
  {
   "cell_type": "markdown",
   "id": "acd94437-f7f4-4cdb-85a9-5319eca00bfd",
   "metadata": {},
   "source": [
    "##### politics"
   ]
  },
  {
   "cell_type": "code",
   "execution_count": 11,
   "id": "3445813e-5aac-4ec7-bbd8-5781c902b4f0",
   "metadata": {},
   "outputs": [
    {
     "name": "stdout",
     "output_type": "stream",
     "text": [
      "vocab size: 10715\n"
     ]
    },
    {
     "data": {
      "text/plain": [
       "{'good': 0.4490177,\n",
       " 'terrible': 0.36272916,\n",
       " 'awful': 0.2903085,\n",
       " 'bug': 0.25489658,\n",
       " 'smart': 0.25289032}"
      ]
     },
     "execution_count": 11,
     "metadata": {},
     "output_type": "execute_result"
    }
   ],
   "source": [
    "embeddings_norm, vocab = get_embeddings_and_vocab('politics_1000_epochs') # freq 20, sample 100000\n",
    "get_top_similar('bad', embeddings_norm, vocab)"
   ]
  },
  {
   "cell_type": "code",
   "execution_count": 12,
   "id": "8e93e38f-82cd-4faf-bcbb-c2e2bb285d9f",
   "metadata": {},
   "outputs": [
    {
     "name": "stdout",
     "output_type": "stream",
     "text": [
      "vocab size: 10715\n"
     ]
    },
    {
     "data": {
      "text/plain": [
       "{'bidens': 0.37397128,\n",
       " 'bernie': 0.3396699,\n",
       " 'hillary': 0.3112797,\n",
       " 'sanders': 0.26909018,\n",
       " 'trump': 0.26213026}"
      ]
     },
     "execution_count": 12,
     "metadata": {},
     "output_type": "execute_result"
    }
   ],
   "source": [
    "embeddings_norm, vocab = get_embeddings_and_vocab('politics_1000_epochs') # freq 20, sample 100000\n",
    "get_top_similar('biden', embeddings_norm, vocab)"
   ]
  },
  {
   "cell_type": "code",
   "execution_count": 13,
   "id": "e7daec86-9498-44fc-9987-b831f0c91dfe",
   "metadata": {},
   "outputs": [
    {
     "name": "stdout",
     "output_type": "stream",
     "text": [
      "vocab size: 10715\n"
     ]
    },
    {
     "data": {
      "text/plain": [
       "{'respectable': 0.2088904,\n",
       " 'utility': 0.20452517,\n",
       " 'finals': 0.20363128,\n",
       " 'dogshit': 0.20302075,\n",
       " 'bruins': 0.20159477}"
      ]
     },
     "execution_count": 13,
     "metadata": {},
     "output_type": "execute_result"
    }
   ],
   "source": [
    "embeddings_norm, vocab = get_embeddings_and_vocab('politics_1000_epochs') # freq 20, sample 100000\n",
    "get_top_similar('captain', embeddings_norm, vocab)"
   ]
  },
  {
   "cell_type": "code",
   "execution_count": 140,
   "id": "d6496d20-8581-475f-90df-3f1c914c305c",
   "metadata": {},
   "outputs": [
    {
     "name": "stdout",
     "output_type": "stream",
     "text": [
      "vocab size: 5843\n"
     ]
    },
    {
     "data": {
      "text/plain": [
       "{'tough': 0.24751696,\n",
       " 'good': 0.23711401,\n",
       " 'terrible': 0.21078521,\n",
       " 'naive': 0.2104066,\n",
       " 'rough': 0.20117292}"
      ]
     },
     "execution_count": 140,
     "metadata": {},
     "output_type": "execute_result"
    }
   ],
   "source": [
    "embeddings_norm, vocab = get_embeddings_and_vocab('politics_2015_10_35k_samples') # freq 20, sample 100000\n",
    "get_top_similar('bad', embeddings_norm, vocab)"
   ]
  },
  {
   "cell_type": "code",
   "execution_count": 32,
   "id": "d1cc159d-a149-41fb-b8ea-a28418ab28d6",
   "metadata": {},
   "outputs": [
    {
     "name": "stdout",
     "output_type": "stream",
     "text": [
      "vocab size: 9269\n"
     ]
    },
    {
     "data": {
      "text/plain": [
       "{'good': 0.3681072,\n",
       " 'terrible': 0.3150045,\n",
       " 'shitty': 0.26269546,\n",
       " 'crooked': 0.2503178,\n",
       " 'useful': 0.23909773}"
      ]
     },
     "execution_count": 32,
     "metadata": {},
     "output_type": "execute_result"
    }
   ],
   "source": [
    "embeddings_norm, vocab = get_embeddings_and_vocab('politics_2015_9_12_100k_samples') # freq 20, sample 100000\n",
    "get_top_similar('bad', embeddings_norm, vocab)"
   ]
  },
  {
   "cell_type": "markdown",
   "id": "e95b78c0-abaa-48d0-8355-e96af091fbd6",
   "metadata": {},
   "source": [
    "#### Analogies"
   ]
  },
  {
   "cell_type": "markdown",
   "id": "31ab4050-04df-43a3-84a1-f47b3e133829",
   "metadata": {},
   "source": [
    "##### the_donald"
   ]
  },
  {
   "cell_type": "code",
   "execution_count": 16,
   "id": "e6e819e6-09ce-4e50-8a89-18b265c4b9f1",
   "metadata": {},
   "outputs": [
    {
     "name": "stdout",
     "output_type": "stream",
     "text": [
      "vocab size: 10378\n",
      "scout 0.4258247\n",
      "landslide 0.43094638\n",
      "lottery 0.3903635\n",
      "pitcher 0.42554766\n",
      "polls 0.38245848\n",
      "fan 0.4239778\n",
      "game 0.4688605\n",
      "roster 0.48409295\n"
     ]
    },
    {
     "data": {
      "text/plain": [
       "{'teams': 0.43678302,\n",
       " 'roster': 0.48409295,\n",
       " 'franchise': 0.42832777,\n",
       " 'championship': 0.42237678,\n",
       " 'squad': 0.4126062}"
      ]
     },
     "execution_count": 16,
     "metadata": {},
     "output_type": "execute_result"
    }
   ],
   "source": [
    "embeddings_norm, vocab = get_embeddings_and_vocab('the_donald_1000_epochs')\n",
    "get_analogy('politics', 'president', 'sports', embeddings_norm, vocab)\n",
    "get_analogy('biden', 'democrat', 'trump', embeddings_norm, vocab)\n",
    "get_analogy('trump', 'republican', 'biden', embeddings_norm, vocab)\n",
    "get_analogy('election', 'politician', 'cup', embeddings_norm, vocab)\n",
    "get_analogy('fans', 'tournament', 'voters', embeddings_norm, vocab)\n",
    "get_analogy('voters', 'election', 'fans', embeddings_norm, vocab)\n",
    "get_analogy('democrats', 'election', 'team', embeddings_norm, vocab)\n",
    "get_analogy('republicans', 'election', 'team', embeddings_norm, vocab)"
   ]
  },
  {
   "cell_type": "markdown",
   "id": "3dab7ca3-f977-47d8-80b0-43646c69601c",
   "metadata": {},
   "source": [
    "##### conservative"
   ]
  },
  {
   "cell_type": "code",
   "execution_count": 176,
   "id": "739339f2-ca00-4015-9b49-6f932544915a",
   "metadata": {},
   "outputs": [
    {
     "name": "stdout",
     "output_type": "stream",
     "text": [
      "vocab size: 9061\n",
      "athlete 0.36311758\n",
      "{'player': 0.34608072, 'potus': 0.3311136, 'athlete': 0.36311758, 'ucl': 0.3347901, 'umbrella': 0.32594782}\n",
      "\n",
      "republican 0.41996822\n",
      "{'conservative': 0.38603973, 'republican': 0.41996822, 'nyc': 0.32983807, 'quiet': 0.31968936, 'counsel': 0.31419033}\n",
      "\n",
      "gop 0.34579286\n",
      "{'gone': 0.30106226, 'gop': 0.34579286, 'democratic': 0.3361963, 'pence': 0.33597142, 'master': 0.29881886}\n",
      "\n",
      "serie 0.41513517\n",
      "{'teacher': 0.35261863, 'quarterback': 0.3486863, 'striker': 0.39161766, 'edmonton': 0.35449815, 'serie': 0.41513517}\n",
      "\n",
      "votes 0.39529595\n",
      "{'vote': 0.3623533, 'votes': 0.39529595, 'voter': 0.3764603, 'nomination': 0.35263157, 'rigging': 0.37245345}\n",
      "\n",
      "fan 0.4524206\n",
      "{'fan': 0.4524206, 'series': 0.36706093, 'cup': 0.362842, 'announce': 0.35837916, 'desperation': 0.3587853}\n",
      "\n",
      "roster 0.51683754\n",
      "{'game': 0.43009406, 'player': 0.42423913, 'teams': 0.45016965, 'roster': 0.51683754, 'superbowl': 0.45683464}\n",
      "\n",
      "roster 0.54680926\n",
      "{'game': 0.46875653, 'player': 0.43579563, 'roster': 0.54680926, 'fool': 0.39601022, 'expectation': 0.4020372}\n",
      "\n"
     ]
    }
   ],
   "source": [
    "embeddings_norm, vocab = get_embeddings_and_vocab('conservative_1000_epochs')\n",
    "get_analogy('politics', 'president', 'sports', embeddings_norm, vocab)\n",
    "get_analogy('biden', 'democrat', 'trump', embeddings_norm, vocab)\n",
    "get_analogy('trump', 'republican', 'biden', embeddings_norm, vocab)\n",
    "get_analogy('election', 'politician', 'cup', embeddings_norm, vocab)\n",
    "get_analogy('fans', 'tournament', 'voters', embeddings_norm, vocab)\n",
    "get_analogy('voters', 'election', 'fans', embeddings_norm, vocab)\n",
    "get_analogy('democrats', 'election', 'team', embeddings_norm, vocab)\n",
    "get_analogy('republicans', 'election', 'team', embeddings_norm, vocab)"
   ]
  },
  {
   "cell_type": "markdown",
   "id": "baabefa0-d7b1-4a2c-961f-78ec5f656989",
   "metadata": {},
   "source": [
    "##### politics"
   ]
  },
  {
   "cell_type": "code",
   "execution_count": 177,
   "id": "ab5217be-7deb-485e-a910-0da5af5e340c",
   "metadata": {},
   "outputs": [
    {
     "name": "stdout",
     "output_type": "stream",
     "text": [
      "vocab size: 10715\n",
      "decade 0.35326236\n",
      "{'candidate': 0.34323546, 'decade': 0.35326236, 'threshold': 0.3335488, 'coached': 0.31434968, 'zach': 0.32353944}\n",
      "\n",
      "republican 0.40329498\n",
      "{'republican': 0.40329498, 'politician': 0.39520502, 'reaction': 0.32067028, 'tool': 0.31063023, 'buffoon': 0.34742776}\n",
      "\n",
      "gop 0.43358126\n",
      "{'gop': 0.43358126, 'dem': 0.40755415, 'impeach': 0.36443967, 'bidens': 0.35762668, 'burrow': 0.35972166}\n",
      "\n",
      "striker 0.41592416\n",
      "{'player': 0.37873068, 'billionaire': 0.37589896, 'striker': 0.41592416, 'winger': 0.39610106, 'bless': 0.3746383}\n",
      "\n",
      "presidency 0.3356225\n",
      "{'vote': 0.33554313, 'election': 0.32857814, 'gop': 0.33106822, 'presidency': 0.3356225, 'camps': 0.31006607}\n",
      "\n",
      "fan 0.4739089\n",
      "{'game': 0.3628464, 'fan': 0.4739089, 'sub': 0.4320428, 'elections': 0.4158188, 'excuse': 0.35385194}\n",
      "\n",
      "season 0.47238484\n",
      "{'game': 0.40681168, 'season': 0.47238484, 'teams': 0.4163164, 'roster': 0.40146235, 'tournament': 0.40953067}\n",
      "\n",
      "season 0.44921964\n",
      "{'game': 0.4001895, 'season': 0.44921964, 'elections': 0.3999014, 'match': 0.41457492, 'counsel': 0.37664577}\n",
      "\n"
     ]
    }
   ],
   "source": [
    "embeddings_norm, vocab = get_embeddings_and_vocab('politics_1000_epochs')\n",
    "get_analogy('politics', 'president', 'sports', embeddings_norm, vocab)\n",
    "get_analogy('biden', 'democrat', 'trump', embeddings_norm, vocab)\n",
    "get_analogy('trump', 'republican', 'biden', embeddings_norm, vocab)\n",
    "get_analogy('election', 'politician', 'cup', embeddings_norm, vocab)\n",
    "get_analogy('fans', 'tournament', 'voters', embeddings_norm, vocab)\n",
    "get_analogy('voters', 'election', 'fans', embeddings_norm, vocab)\n",
    "get_analogy('democrats', 'election', 'team', embeddings_norm, vocab)\n",
    "get_analogy('republicans', 'election', 'team', embeddings_norm, vocab)"
   ]
  },
  {
   "cell_type": "markdown",
   "id": "efe38fb6-965d-4bb8-a5e1-2ed8480a7349",
   "metadata": {},
   "source": [
    "##### comparison with 'true' words"
   ]
  },
  {
   "cell_type": "raw",
   "id": "c582c097-a9ff-4632-b8d4-8e36d120c4d1",
   "metadata": {},
   "source": [
    "analogy examples:\n",
    "\n",
    "paris france london\n",
    "liberal, democrat, conservative\n",
    "\n",
    "1.  intput : politics, president, sports\n",
    "    output : player, captain, star, coach, striker\n",
    "    \n",
    "2.  input : election, politician, cup\n",
    "    output : player, captain, star, coach, striker\n",
    "\n",
    "3.  input : fans, tournament, voters\n",
    "    output : election\n",
    "\n",
    "4.  input : voters, election, fans\n",
    "    output : tournament, cup, race\n",
    "\n",
    "5.  input : democrats, election, team\n",
    "    output : tournament, cup, race\n",
    "\n",
    "6.  input : republicans, election, team\n",
    "    output : tournament, cup, race\n",
    "\n",
    "\n",
    "1. list of '4th' words\n",
    "    a. how close is result list to the list?\n",
    "    b. compare ground truth values with output values\n",
    "2. one correct '4th' word -> how close is result to the word"
   ]
  },
  {
   "cell_type": "code",
   "execution_count": 88,
   "id": "2a43b1bf-3bb2-4f0d-92d6-18fb2f5f33bb",
   "metadata": {},
   "outputs": [],
   "source": [
    "inputs1 = ['politics', 'president', 'sports']\n",
    "outputs1 = ['player', 'captain', 'star', 'coach', 'striker']\n",
    "\n",
    "inputs2 = ['election', 'politician', 'cup']\n",
    "outputs2 = ['player', 'captain', 'star', 'coach', 'striker']\n",
    "\n",
    "inputs3 = ['fans', 'tournament', 'voters']\n",
    "outputs3 = ['election']\n",
    "\n",
    "inputs4 = ['voters', 'election', 'fans']\n",
    "outputs4 = ['tournament', 'cup', 'race']\n",
    "\n",
    "inputs5 = ['democrats', 'election', 'team']\n",
    "outputs5 = ['tournament', 'cup', 'race']\n",
    "\n",
    "inputs6 = ['republicans', 'election', 'team']\n",
    "outputs6 = ['tournament', 'cup', 'race']\n",
    "\n",
    "def compare_4th(inputs, outputs, embeddings_norm, vocab):\n",
    "    sim_dict = get_analogy(inputs[0], inputs[1], inputs[2], embeddings_norm, vocab, topk=5)\n",
    "    res_outputs = list(sim_dict.keys())\n",
    "    all_pairs = []\n",
    "    for p in outputs:\n",
    "        all_pairs.extend([(p,s) for s in res_outputs])\n",
    "    sim_list = []\n",
    "    for pair in all_pairs:\n",
    "        sim = get_sim(pair[0], pair[1], embeddings_norm, vocab)\n",
    "        sim_list.append(sim)\n",
    "    print(statistics.mean(sim_list))"
   ]
  },
  {
   "cell_type": "code",
   "execution_count": 26,
   "id": "d829bafb-86d2-4e32-a23f-d7c6e185b771",
   "metadata": {},
   "outputs": [
    {
     "name": "stdout",
     "output_type": "stream",
     "text": [
      "vocab size: 10378\n",
      "scout 0.4258247\n",
      "0.05329864\n",
      "pitcher 0.42554766\n",
      "0.12283832\n",
      "polls 0.38245848\n",
      "0.17210127\n",
      "fan 0.4239778\n",
      "0.050832666\n",
      "game 0.4688605\n",
      "0.16184813\n",
      "roster 0.48409295\n",
      "0.0924477\n"
     ]
    }
   ],
   "source": [
    "embeddings_norm, vocab = get_embeddings_and_vocab('the_donald_1000_epochs')\n",
    "compare_4th(inputs1, outputs1, embeddings_norm, vocab)\n",
    "compare_4th(inputs2, outputs2, embeddings_norm, vocab)\n",
    "compare_4th(inputs3, outputs3, embeddings_norm, vocab)\n",
    "compare_4th(inputs4, outputs4, embeddings_norm, vocab)\n",
    "compare_4th(inputs5, outputs5, embeddings_norm, vocab)\n",
    "compare_4th(inputs6, outputs6, embeddings_norm, vocab)"
   ]
  },
  {
   "cell_type": "code",
   "execution_count": 25,
   "id": "46e6fa3a-d5a7-4d89-b8be-cd2bc48c212f",
   "metadata": {},
   "outputs": [
    {
     "name": "stdout",
     "output_type": "stream",
     "text": [
      "vocab size: 10715\n",
      "decade 0.35326236\n",
      "0.065354764\n",
      "striker 0.41592416\n",
      "0.1924319\n",
      "presidency 0.3356225\n",
      "0.34701788\n",
      "fan 0.4739089\n",
      "0.09828656\n",
      "season 0.47238484\n",
      "0.18816395\n",
      "season 0.44921964\n",
      "0.11644116\n"
     ]
    }
   ],
   "source": [
    "embeddings_norm, vocab = get_embeddings_and_vocab('politics_1000_epochs')\n",
    "compare_4th(inputs1, outputs1, embeddings_norm, vocab)\n",
    "compare_4th(inputs2, outputs2, embeddings_norm, vocab)\n",
    "compare_4th(inputs3, outputs3, embeddings_norm, vocab)\n",
    "compare_4th(inputs4, outputs4, embeddings_norm, vocab)\n",
    "compare_4th(inputs5, outputs5, embeddings_norm, vocab)\n",
    "compare_4th(inputs6, outputs6, embeddings_norm, vocab)"
   ]
  },
  {
   "cell_type": "code",
   "execution_count": 14,
   "id": "642379d1-3fe7-4428-aaf0-de6b51855c02",
   "metadata": {},
   "outputs": [
    {
     "name": "stdout",
     "output_type": "stream",
     "text": [
      "vocab size: 10378\n",
      "scout 0.4258247\n",
      "{'pitch': 0.3304557, 'bulls': 0.3169939, 'scout': 0.4258247, 'gaining': 0.31374907, 'household': 0.3362836}\n",
      "\n",
      "landslide 0.43094638\n",
      "{'liberals': 0.34583837, 'illegals': 0.34671915, 'dem': 0.40632367, 'landslide': 0.43094638, 'electors': 0.36139715}\n",
      "\n",
      "lottery 0.3903635\n",
      "{'lottery': 0.3903635, 'corpse': 0.35305783, 'rig': 0.33654293, 'sympathetic': 0.36366728, 'nutshell': 0.3700594}\n",
      "\n",
      "pitcher 0.42554766\n",
      "{'pitcher': 0.42554766, 'contender': 0.35029933, 'cups': 0.3452366, 'commentator': 0.4178512, 'accent': 0.37176338}\n",
      "\n",
      "polls 0.38245848\n",
      "{'party': 0.3540228, 'voting': 0.37569758, 'polls': 0.38245848, 'award': 0.37299412, 'debates': 0.3624028}\n",
      "\n",
      "fan 0.4239778\n",
      "{'game': 0.41483322, 'fan': 0.4239778, 'coach': 0.3303164, 'fanbase': 0.35963717, 'scientist': 0.3560795}\n",
      "\n",
      "game 0.4688605\n",
      "{'game': 0.4688605, 'teams': 0.44293118, 'elections': 0.43620184, 'receiver': 0.4156961, 'tournament': 0.4615939}\n",
      "\n",
      "roster 0.48409295\n",
      "{'teams': 0.43678302, 'roster': 0.48409295, 'franchise': 0.42832777, 'championship': 0.42237678, 'squad': 0.4126062}\n",
      "\n"
     ]
    }
   ],
   "source": [
    "embeddings_norm, vocab = get_embeddings_and_vocab('the_donald_1000_epochs')\n",
    "get_analogy('politics', 'president', 'sports', embeddings_norm, vocab)\n",
    "get_analogy('biden', 'democrat', 'trump', embeddings_norm, vocab)\n",
    "get_analogy('trump', 'republican', 'biden', embeddings_norm, vocab)\n",
    "get_analogy('election', 'politician', 'cup', embeddings_norm, vocab)\n",
    "get_analogy('fans', 'tournament', 'voters', embeddings_norm, vocab)\n",
    "get_analogy('voters', 'election', 'fans', embeddings_norm, vocab)\n",
    "get_analogy('democrats', 'election', 'team', embeddings_norm, vocab)\n",
    "get_analogy('republicans', 'election', 'team', embeddings_norm, vocab)"
   ]
  },
  {
   "cell_type": "code",
   "execution_count": null,
   "id": "5fe80c5e-09f9-4af7-95cf-9f4a9453872e",
   "metadata": {},
   "outputs": [],
   "source": []
  },
  {
   "cell_type": "code",
   "execution_count": null,
   "id": "746703da-6d9c-41fb-978f-b1dda924db51",
   "metadata": {},
   "outputs": [],
   "source": []
  },
  {
   "cell_type": "code",
   "execution_count": null,
   "id": "e961a3c4-c0b5-4603-ad51-c7d03791a271",
   "metadata": {},
   "outputs": [],
   "source": []
  },
  {
   "cell_type": "markdown",
   "id": "2937524a-c759-43e2-b986-a7cfd8753584",
   "metadata": {},
   "source": [
    "#### Clustering"
   ]
  },
  {
   "cell_type": "code",
   "execution_count": 49,
   "id": "1091400e-9230-45fe-ad68-009d3f859da5",
   "metadata": {},
   "outputs": [],
   "source": [
    "concept1 = ['red', 'blue', 'green', 'black']\n",
    "concept2 = ['trump', 'biden', 'president', 'election']\n",
    "concept3 = ['sports', 'game', 'play', 'score']\n",
    "concept4 = ['good', 'bad', 'terrible', 'great']\n",
    "concept5 = ['car', 'bus', 'train']"
   ]
  },
  {
   "cell_type": "code",
   "execution_count": 58,
   "id": "0c92dd82-a675-4fdb-88bf-d59da5e94534",
   "metadata": {},
   "outputs": [
    {
     "name": "stdout",
     "output_type": "stream",
     "text": [
      "vocab size: 10378\n"
     ]
    }
   ],
   "source": [
    "embeddings_norm, vocab = get_embeddings_and_vocab('the_donald_1000_epochs')"
   ]
  },
  {
   "cell_type": "code",
   "execution_count": 59,
   "id": "46ed3d35-375f-4553-9f9a-8632bcc49356",
   "metadata": {},
   "outputs": [],
   "source": [
    "kmeans = KMeans(n_clusters=4, random_state=0, n_init=\"auto\").fit(embeddings_norm)"
   ]
  },
  {
   "cell_type": "code",
   "execution_count": 62,
   "id": "2341af19-157f-4d9f-849e-d9aaab8f5bc5",
   "metadata": {},
   "outputs": [
    {
     "data": {
      "text/plain": [
       "array([1], dtype=int32)"
      ]
     },
     "execution_count": 62,
     "metadata": {},
     "output_type": "execute_result"
    }
   ],
   "source": [
    "vec = embeddings_norm[vocab['red']].reshape(1, -1)\n",
    "kmeans.predict(vec)"
   ]
  },
  {
   "cell_type": "code",
   "execution_count": 63,
   "id": "b7088727-67c8-489c-8c82-f08db5f7d246",
   "metadata": {},
   "outputs": [
    {
     "data": {
      "text/plain": [
       "array([1], dtype=int32)"
      ]
     },
     "execution_count": 63,
     "metadata": {},
     "output_type": "execute_result"
    }
   ],
   "source": [
    "vec = embeddings_norm[vocab['blue']].reshape(1, -1)\n",
    "kmeans.predict(vec)"
   ]
  },
  {
   "cell_type": "code",
   "execution_count": 64,
   "id": "f1e26357-2d5a-4816-b73b-a369e6bf1683",
   "metadata": {},
   "outputs": [
    {
     "data": {
      "text/plain": [
       "array([1], dtype=int32)"
      ]
     },
     "execution_count": 64,
     "metadata": {},
     "output_type": "execute_result"
    }
   ],
   "source": [
    "vec = embeddings_norm[vocab['trump']].reshape(1, -1)\n",
    "kmeans.predict(vec)"
   ]
  },
  {
   "cell_type": "code",
   "execution_count": 67,
   "id": "b229b5a7-7f87-4ab1-9106-184dbe33971d",
   "metadata": {},
   "outputs": [
    {
     "data": {
      "text/plain": [
       "array([1], dtype=int32)"
      ]
     },
     "execution_count": 67,
     "metadata": {},
     "output_type": "execute_result"
    }
   ],
   "source": [
    "vec = embeddings_norm[vocab['biden']].reshape(1, -1)\n",
    "kmeans.predict(vec)"
   ]
  },
  {
   "cell_type": "code",
   "execution_count": 60,
   "id": "b8e00099-61ac-409c-b13b-b91c16a4ae8c",
   "metadata": {},
   "outputs": [
    {
     "data": {
      "text/plain": [
       "array([1], dtype=int32)"
      ]
     },
     "execution_count": 60,
     "metadata": {},
     "output_type": "execute_result"
    }
   ],
   "source": [
    "vec = embeddings_norm[vocab['sports']].reshape(1, -1)\n",
    "kmeans.predict(vec)"
   ]
  },
  {
   "cell_type": "code",
   "execution_count": null,
   "id": "382bfd75-33b9-431d-b633-23ecde71c7a2",
   "metadata": {},
   "outputs": [],
   "source": []
  },
  {
   "cell_type": "code",
   "execution_count": 65,
   "id": "69c234a9-4e29-40f3-a18e-53c0d3ee35af",
   "metadata": {},
   "outputs": [
    {
     "data": {
      "text/plain": [
       "array([3], dtype=int32)"
      ]
     },
     "execution_count": 65,
     "metadata": {},
     "output_type": "execute_result"
    }
   ],
   "source": [
    "vec = embeddings_norm[vocab['bad']].reshape(1, -1)\n",
    "kmeans.predict(vec)"
   ]
  },
  {
   "cell_type": "code",
   "execution_count": 66,
   "id": "92b23c73-bdc5-4e8e-8684-56bc7e6ab482",
   "metadata": {},
   "outputs": [
    {
     "data": {
      "text/plain": [
       "array([3], dtype=int32)"
      ]
     },
     "execution_count": 66,
     "metadata": {},
     "output_type": "execute_result"
    }
   ],
   "source": [
    "vec = embeddings_norm[vocab['good']].reshape(1, -1)\n",
    "kmeans.predict(vec)"
   ]
  },
  {
   "cell_type": "code",
   "execution_count": null,
   "id": "2c67d180-45eb-49a7-bb36-fb732d06a617",
   "metadata": {},
   "outputs": [],
   "source": []
  },
  {
   "cell_type": "code",
   "execution_count": 69,
   "id": "737ebd81-6174-4fa8-8370-cef2623950b0",
   "metadata": {},
   "outputs": [
    {
     "data": {
      "text/plain": [
       "array([0], dtype=int32)"
      ]
     },
     "execution_count": 69,
     "metadata": {},
     "output_type": "execute_result"
    }
   ],
   "source": [
    "vec = embeddings_norm[vocab['car']].reshape(1, -1)\n",
    "kmeans.predict(vec)"
   ]
  },
  {
   "cell_type": "code",
   "execution_count": 70,
   "id": "1b479aee-1356-41d4-bcf0-da539ac31f05",
   "metadata": {},
   "outputs": [
    {
     "data": {
      "text/plain": [
       "array([0], dtype=int32)"
      ]
     },
     "execution_count": 70,
     "metadata": {},
     "output_type": "execute_result"
    }
   ],
   "source": [
    "vec = embeddings_norm[vocab['bus']].reshape(1, -1)\n",
    "kmeans.predict(vec)"
   ]
  },
  {
   "cell_type": "code",
   "execution_count": 71,
   "id": "baff856e-fa08-4d5c-a0aa-1de2f16a574d",
   "metadata": {},
   "outputs": [
    {
     "data": {
      "text/plain": [
       "array([0], dtype=int32)"
      ]
     },
     "execution_count": 71,
     "metadata": {},
     "output_type": "execute_result"
    }
   ],
   "source": [
    "vec = embeddings_norm[vocab['train']].reshape(1, -1)\n",
    "kmeans.predict(vec)"
   ]
  },
  {
   "cell_type": "code",
   "execution_count": null,
   "id": "e7dcc7b2-10f2-4124-adb2-91b5cc60508a",
   "metadata": {},
   "outputs": [],
   "source": []
  },
  {
   "cell_type": "markdown",
   "id": "ee41fdd6-03a6-422b-9581-6b99898bfd12",
   "metadata": {},
   "source": [
    "#### Outlier detection"
   ]
  },
  {
   "cell_type": "code",
   "execution_count": 106,
   "id": "cc198aba-581b-4e69-a19f-f07f5752f707",
   "metadata": {},
   "outputs": [
    {
     "name": "stdout",
     "output_type": "stream",
     "text": [
      "vocab size: 10378\n"
     ]
    }
   ],
   "source": [
    "embeddings_norm, vocab = get_embeddings_and_vocab('the_donald_1000_epochs')"
   ]
  },
  {
   "cell_type": "code",
   "execution_count": 99,
   "id": "2091b2df-289d-4ea3-8963-9b9ecebe8b76",
   "metadata": {},
   "outputs": [
    {
     "name": "stdout",
     "output_type": "stream",
     "text": [
      "bus 0.021671796683222055\n"
     ]
    }
   ],
   "source": [
    "get_outlier(['apple', 'orange', 'bus'], embeddings_norm, vocab)"
   ]
  },
  {
   "cell_type": "code",
   "execution_count": 100,
   "id": "eb2e9c72-f891-469e-b820-3e00411bbe4d",
   "metadata": {},
   "outputs": [
    {
     "name": "stdout",
     "output_type": "stream",
     "text": [
      "president -0.03133737722722193\n"
     ]
    }
   ],
   "source": [
    "get_outlier(['sports', 'game', 'play', 'president'], embeddings_norm, vocab)"
   ]
  },
  {
   "cell_type": "code",
   "execution_count": 56,
   "id": "40efb3a4-06b1-477f-85e0-9cac4aa0f23a",
   "metadata": {},
   "outputs": [
    {
     "name": "stdout",
     "output_type": "stream",
     "text": [
      "france -0.006834672763943672\n"
     ]
    }
   ],
   "source": [
    "get_outlier(['red', 'france', 'green', 'blue'], embeddings_norm, vocab)"
   ]
  },
  {
   "cell_type": "code",
   "execution_count": 57,
   "id": "da623edc-512c-4070-b62b-e72f24f39354",
   "metadata": {},
   "outputs": [
    {
     "name": "stdout",
     "output_type": "stream",
     "text": [
      "apple 0.008264641437563114\n"
     ]
    }
   ],
   "source": [
    "get_outlier(['trump', 'biden', 'president', 'election', 'apple'], embeddings_norm, vocab)"
   ]
  },
  {
   "cell_type": "code",
   "execution_count": null,
   "id": "09372927-782b-4f93-a355-46d21e65e8f2",
   "metadata": {},
   "outputs": [],
   "source": []
  },
  {
   "cell_type": "markdown",
   "id": "40fc46b0-d2be-4669-9038-3ae428a9da68",
   "metadata": {},
   "source": [
    "#### Agg eval"
   ]
  },
  {
   "cell_type": "code",
   "execution_count": 6,
   "id": "c0182266-a853-4aaf-bcb2-54dd734bbd06",
   "metadata": {},
   "outputs": [],
   "source": [
    "# sensitive to choice of words\n",
    "# how to choose words?\n",
    "\n",
    "politics_words = ['voters', 'election', 'president', 'democrats', 'republicans', 'politicians', 'media']\n",
    "sports_words = ['fans', 'race', 'captain', 'team', 'players', 'cup', 'trophy']"
   ]
  },
  {
   "cell_type": "markdown",
   "id": "dbea8bcd-1196-46ef-8f1e-8860e6623f7f",
   "metadata": {},
   "source": [
    "##### average pairwise similarity between groups"
   ]
  },
  {
   "cell_type": "code",
   "execution_count": 7,
   "id": "d71940f0-f15f-475d-aa2d-acdc48ac7bc3",
   "metadata": {
    "scrolled": true
   },
   "outputs": [],
   "source": [
    "def avg_sim(sub, l1, l2):\n",
    "    embeddings_norm, vocab = get_embeddings_and_vocab(sub)\n",
    "    all_pairs = []\n",
    "    for p in l1:\n",
    "        all_pairs.extend([(p,s) for s in l2])\n",
    "    sim_list = []\n",
    "    for pair in all_pairs:\n",
    "        sim = get_sim(pair[0], pair[1], embeddings_norm, vocab)\n",
    "        sim_list.append(sim)\n",
    "    print(statistics.mean(sim_list))"
   ]
  },
  {
   "cell_type": "code",
   "execution_count": 8,
   "id": "ace0efff-9c6e-4e7f-97c4-75f255ece889",
   "metadata": {},
   "outputs": [
    {
     "name": "stdout",
     "output_type": "stream",
     "text": [
      "vocab size: 10378\n",
      "0.03423778\n"
     ]
    }
   ],
   "source": [
    "#embeddings_norm, vocab = get_embeddings_and_vocab('the_donald_1000_epochs') # freq 20, sample 100000\n",
    "#politics_words = list(get_top_similar('politics', embeddings_norm, vocab, topN=100).keys())\n",
    "#sports_words = list(get_top_similar('sports', embeddings_norm, vocab, topN=100).keys())\n",
    "\n",
    "avg_sim('the_donald_1000_epochs', politics_words, sports_words)"
   ]
  },
  {
   "cell_type": "code",
   "execution_count": 9,
   "id": "b1d140d7-6e0a-4769-805a-1533fa19ba43",
   "metadata": {},
   "outputs": [
    {
     "name": "stdout",
     "output_type": "stream",
     "text": [
      "vocab size: 9061\n",
      "0.032325916\n"
     ]
    }
   ],
   "source": [
    "#embeddings_norm, vocab = get_embeddings_and_vocab('conservative_1000_epochs') # freq 20, sample 100000\n",
    "#politics_words = list(get_top_similar('politics', embeddings_norm, vocab, topN=100).keys())\n",
    "#sports_words = list(get_top_similar('sports', embeddings_norm, vocab, topN=100).keys())\n",
    "\n",
    "avg_sim('conservative_1000_epochs', politics_words, sports_words)"
   ]
  },
  {
   "cell_type": "code",
   "execution_count": 10,
   "id": "1e79a1c4-e665-4ece-b219-cabbca2b1dc2",
   "metadata": {},
   "outputs": [
    {
     "name": "stdout",
     "output_type": "stream",
     "text": [
      "vocab size: 10715\n",
      "0.02686279\n"
     ]
    }
   ],
   "source": [
    "#embeddings_norm, vocab = get_embeddings_and_vocab('politics_1000_epochs') # freq 20, sample 100000\n",
    "#politics_words = list(get_top_similar('politics', embeddings_norm, vocab, topN=100).keys())\n",
    "#sports_words = list(get_top_similar('sports', embeddings_norm, vocab, topN=100).keys())\n",
    "\n",
    "avg_sim('politics_1000_epochs', politics_words, sports_words)"
   ]
  },
  {
   "cell_type": "markdown",
   "id": "46da10fc-883d-4f3a-9e3f-cc86348b49d9",
   "metadata": {},
   "source": [
    "##### average target pair similarity"
   ]
  },
  {
   "cell_type": "code",
   "execution_count": 11,
   "id": "f8ad7563-db66-41c5-9cde-3f3c747cbe77",
   "metadata": {},
   "outputs": [],
   "source": [
    "word_map = {'voters': ['fan', 'fans'],\n",
    "            'election': ['race', 'cup', 'championship'],\n",
    "            'trump': ['captain', 'coach'],\n",
    "            'biden': ['captain', 'coach'], \n",
    "            'democrats': ['team', 'teams'],\n",
    "            'republicans': ['team', 'teams'],\n",
    "            'politicians': ['player', 'players'],\n",
    "           }"
   ]
  },
  {
   "cell_type": "code",
   "execution_count": 12,
   "id": "7c96b61e-eedd-4907-9f8d-a675ddbd03bb",
   "metadata": {},
   "outputs": [],
   "source": [
    "def avg_map_sim(sub, d):\n",
    "    embeddings_norm, vocab = get_embeddings_and_vocab(sub)\n",
    "    sim_list = []\n",
    "    for key, val in d.items():\n",
    "        for v in val:\n",
    "            sim = get_sim(key, v, embeddings_norm, vocab)\n",
    "            sim_list.append(sim)\n",
    "    print(statistics.mean(sim_list))"
   ]
  },
  {
   "cell_type": "code",
   "execution_count": 13,
   "id": "c0fcfa3c-c525-42ea-895c-f6353c1b509b",
   "metadata": {},
   "outputs": [
    {
     "name": "stdout",
     "output_type": "stream",
     "text": [
      "vocab size: 10378\n",
      "0.05728969\n"
     ]
    }
   ],
   "source": [
    "avg_map_sim('the_donald_1000_epochs', word_map)"
   ]
  },
  {
   "cell_type": "code",
   "execution_count": 14,
   "id": "cdbf88a9-8e9b-4ab6-88b7-8dac82b2bae8",
   "metadata": {},
   "outputs": [
    {
     "name": "stdout",
     "output_type": "stream",
     "text": [
      "vocab size: 9061\n",
      "0.044791397\n"
     ]
    }
   ],
   "source": [
    "avg_map_sim('conservative_1000_epochs', word_map)"
   ]
  },
  {
   "cell_type": "code",
   "execution_count": 15,
   "id": "2550a74f-2b47-4ed9-a4f2-03a852f0136c",
   "metadata": {},
   "outputs": [
    {
     "name": "stdout",
     "output_type": "stream",
     "text": [
      "vocab size: 10715\n",
      "0.050297394\n"
     ]
    }
   ],
   "source": [
    "avg_map_sim('politics_1000_epochs', word_map)"
   ]
  },
  {
   "cell_type": "markdown",
   "id": "fb0babc0-ed20-4b1c-87e0-ba0ece34b60f",
   "metadata": {},
   "source": [
    "##### centroid distance"
   ]
  },
  {
   "cell_type": "code",
   "execution_count": 16,
   "id": "ee089c5e-a92b-458a-b48f-7910be84ab09",
   "metadata": {},
   "outputs": [],
   "source": [
    "def get_cent(word_list, embeddings_norm, vocab):\n",
    "    vec_list = []\n",
    "    for word in word_list:\n",
    "        word_id = vocab[word]\n",
    "        if word_id == 0:\n",
    "            print(\"Out of vocabulary word\")\n",
    "            return\n",
    "        word_vec = embeddings_norm[word_id]\n",
    "        vec_list.append(word_vec)\n",
    "    cent = np.mean(np.array(vec_list), axis=0)\n",
    "    return cent\n",
    "\n",
    "\n",
    "def cent_dist(sub, l1, l2):\n",
    "    embeddings_norm, vocab = get_embeddings_and_vocab(sub)\n",
    "    l1_cent = get_cent(l1, embeddings_norm, vocab)\n",
    "    l2_cent = get_cent(l2, embeddings_norm, vocab)\n",
    "    print(np.linalg.norm(l1_cent - l2_cent))"
   ]
  },
  {
   "cell_type": "code",
   "execution_count": 17,
   "id": "258d3f48-9a78-44fd-a145-9b4adc3dd171",
   "metadata": {},
   "outputs": [
    {
     "name": "stdout",
     "output_type": "stream",
     "text": [
      "vocab size: 10378\n",
      "0.6262743\n"
     ]
    }
   ],
   "source": [
    "#embeddings_norm, vocab = get_embeddings_and_vocab('the_donald_1000_epochs')\n",
    "#politics_words = list(get_top_similar('politics', embeddings_norm, vocab, topN=100).keys())\n",
    "#sports_words = list(get_top_similar('sports', embeddings_norm, vocab, topN=100).keys())\n",
    "cent_dist('the_donald_1000_epochs', politics_words, sports_words)"
   ]
  },
  {
   "cell_type": "code",
   "execution_count": 18,
   "id": "4c5ed9e7-4677-42f6-ad5b-eb5d56bae6ca",
   "metadata": {},
   "outputs": [
    {
     "name": "stdout",
     "output_type": "stream",
     "text": [
      "vocab size: 9061\n",
      "0.64171845\n"
     ]
    }
   ],
   "source": [
    "#embeddings_norm, vocab = get_embeddings_and_vocab('conservative_1000_epochs')\n",
    "#politics_words = list(get_top_similar('politics', embeddings_norm, vocab, topN=100).keys())\n",
    "#sports_words = list(get_top_similar('sports', embeddings_norm, vocab, topN=100).keys())\n",
    "cent_dist('conservative_1000_epochs', politics_words, sports_words)"
   ]
  },
  {
   "cell_type": "code",
   "execution_count": 19,
   "id": "7184e555-0b22-4d1a-a676-88fe8b3a0c30",
   "metadata": {},
   "outputs": [
    {
     "name": "stdout",
     "output_type": "stream",
     "text": [
      "vocab size: 10715\n",
      "0.65180635\n"
     ]
    }
   ],
   "source": [
    "#embeddings_norm, vocab = get_embeddings_and_vocab('politics_1000_epochs')\n",
    "#politics_words = list(get_top_similar('politics', embeddings_norm, vocab, topN=100).keys())\n",
    "#sports_words = list(get_top_similar('sports', embeddings_norm, vocab, topN=100).keys())\n",
    "cent_dist('politics_1000_epochs', politics_words, sports_words)"
   ]
  },
  {
   "cell_type": "markdown",
   "id": "8816adb0-f57d-47dd-949d-43fe1a297548",
   "metadata": {},
   "source": [
    "#### temporal embeddings"
   ]
  },
  {
   "cell_type": "markdown",
   "id": "3a670218-061b-4a33-91d7-8f8181c08e58",
   "metadata": {},
   "source": [
    "##### politics"
   ]
  },
  {
   "cell_type": "code",
   "execution_count": 20,
   "id": "77ad840b-0e59-49dc-81f2-ae5838559daf",
   "metadata": {},
   "outputs": [
    {
     "name": "stdout",
     "output_type": "stream",
     "text": [
      "vocab size: 6847\n",
      "0.026348129\n",
      "vocab size: 14251\n",
      "0.033180367\n",
      "vocab size: 14215\n",
      "0.032419257\n",
      "vocab size: 16682\n",
      "0.038351674\n"
     ]
    }
   ],
   "source": [
    "# avg pairwise sim\n",
    "\n",
    "avg_sim('politics_sep_dec_2015', politics_words, sports_words)\n",
    "avg_sim('politics_sep_dec_2016', politics_words, sports_words)\n",
    "avg_sim('politics_sep_dec_2018', politics_words, sports_words)\n",
    "avg_sim('politics_sep_dec_2020', politics_words, sports_words)"
   ]
  },
  {
   "cell_type": "code",
   "execution_count": 117,
   "id": "4eeb1bd1-ba82-4b76-b87f-9ed2310f99f7",
   "metadata": {},
   "outputs": [
    {
     "name": "stdout",
     "output_type": "stream",
     "text": [
      "vocab size: 6847\n",
      "0.0676941\n",
      "vocab size: 14251\n",
      "0.080515206\n",
      "vocab size: 14215\n",
      "0.067518756\n",
      "vocab size: 16682\n",
      "0.097725645\n"
     ]
    }
   ],
   "source": [
    "# target pair sim\n",
    "\n",
    "avg_map_sim('politics_sep_dec_2015', word_map)\n",
    "avg_map_sim('politics_sep_dec_2016', word_map)\n",
    "avg_map_sim('politics_sep_dec_2018', word_map)\n",
    "avg_map_sim('politics_sep_dec_2020', word_map)"
   ]
  },
  {
   "cell_type": "markdown",
   "id": "19f02f2d-e087-4454-983e-e371536efab3",
   "metadata": {},
   "source": [
    "##### conservative oct"
   ]
  },
  {
   "cell_type": "code",
   "execution_count": 27,
   "id": "f4c676cb-2abc-4fbe-8bd0-7de1e4df2dd2",
   "metadata": {},
   "outputs": [],
   "source": [
    "# sensitive to choice of words\n",
    "# how to choose words?\n",
    "\n",
    "politics_words = ['voters', 'election', 'president', 'democrats', 'republicans', 'politicians', 'media']\n",
    "sports_words = ['fans', 'race', 'captain', 'team', 'players', 'cup', 'trophy',]\n",
    "\n",
    "# do by specific analogies\n",
    "word_map = {'voters': ['fan', 'fans'],\n",
    "            'election': ['race', 'cup', 'championship'],\n",
    "            'trump': ['captain', 'qb'],\n",
    "            'president': ['captain', 'qb'], \n",
    "            'democrats': ['team', 'teams'],\n",
    "            'republicans': ['team', 'teams'],\n",
    "            'politicians': ['player', 'players'],\n",
    "           }\n",
    "\n",
    "inputs1 = ['politics', 'president', 'sports']\n",
    "outputs1 = ['player', 'captain', 'star', 'coach', 'striker']\n",
    "\n",
    "inputs2 = ['election', 'politician', 'cup']\n",
    "outputs2 = ['player', 'captain', 'star', 'coach', 'striker']\n",
    "\n",
    "inputs3 = ['fans', 'tournament', 'voters']\n",
    "outputs3 = ['election']\n",
    "\n",
    "inputs4 = ['voters', 'election', 'fans']\n",
    "outputs4 = ['tournament', 'cup', 'race']\n",
    "\n",
    "inputs5 = ['democrats', 'election', 'team']\n",
    "outputs5 = ['tournament', 'cup', 'race']\n",
    "\n",
    "inputs6 = ['republicans', 'election', 'team']\n",
    "outputs6 = ['tournament', 'cup', 'race']\n",
    "\n",
    "def compare_4th(inputs, outputs, embeddings_norm, vocab):\n",
    "    sim_dict = get_analogy(inputs[0], inputs[1], inputs[2], embeddings_norm, vocab, topk=5)\n",
    "    res_outputs = list(sim_dict.keys())\n",
    "    all_pairs = []\n",
    "    for p in outputs:\n",
    "        all_pairs.extend([(p,s) for s in res_outputs])\n",
    "    sim_list = []\n",
    "    for pair in all_pairs:\n",
    "        sim = get_sim(pair[0], pair[1], embeddings_norm, vocab)\n",
    "        sim_list.append(sim)\n",
    "    return statistics.mean(sim_list)\n",
    "\n",
    "def avg_map_sim(sub, d):\n",
    "    embeddings_norm, vocab = get_embeddings_and_vocab(sub)\n",
    "    sim_list = []\n",
    "    for key, val in d.items():\n",
    "        key_list = []\n",
    "        for v in val:\n",
    "            sim = get_sim(key, v, embeddings_norm, vocab)\n",
    "            key_list.append(sim)\n",
    "            sim_list.append(sim)\n",
    "        print('{}:{} = {}'.format(key, val, statistics.mean(key_list)))\n",
    "    print(statistics.mean(sim_list))"
   ]
  },
  {
   "cell_type": "code",
   "execution_count": 28,
   "id": "ea1a4294-f217-4c0f-a1ba-5db3c3dcfa5f",
   "metadata": {},
   "outputs": [
    {
     "name": "stdout",
     "output_type": "stream",
     "text": [
      "vocab size: 5831\n",
      "voters:['fan', 'fans'] = 0.010612592101097107\n",
      "election:['race', 'cup', 'championship'] = 0.07564423978328705\n",
      "trump:['captain', 'qb'] = 0.015264201909303665\n",
      "president:['captain', 'qb'] = 0.10416129976511002\n",
      "democrats:['team', 'teams'] = 0.03371289372444153\n",
      "republicans:['team', 'teams'] = 0.07419521361589432\n",
      "politicians:['player', 'players'] = -0.016761720180511475\n",
      "0.04462011\n",
      "vocab size: 5719\n",
      "voters:['fan', 'fans'] = 0.004446897655725479\n",
      "election:['race', 'cup', 'championship'] = 0.0827854797244072\n",
      "trump:['captain', 'qb'] = -0.005064288154244423\n",
      "president:['captain', 'qb'] = 0.07635565847158432\n",
      "democrats:['team', 'teams'] = 0.039617158472537994\n",
      "republicans:['team', 'teams'] = 0.05513651669025421\n",
      "politicians:['player', 'players'] = 0.07312791794538498\n",
      "0.049039744\n",
      "vocab size: 5787\n",
      "voters:['fan', 'fans'] = 0.05614768713712692\n",
      "election:['race', 'cup', 'championship'] = 0.08088939636945724\n",
      "trump:['captain', 'qb'] = -0.00615290179848671\n",
      "president:['captain', 'qb'] = 0.08496217429637909\n",
      "democrats:['team', 'teams'] = -0.014466650784015656\n",
      "republicans:['team', 'teams'] = 0.03589411824941635\n",
      "politicians:['player', 'players'] = 0.08063200861215591\n",
      "0.04778007\n",
      "vocab size: 5565\n",
      "voters:['fan', 'fans'] = 0.013554692268371582\n",
      "election:['race', 'cup', 'championship'] = 0.093436099588871\n",
      "trump:['captain', 'qb'] = 0.04103049263358116\n",
      "president:['captain', 'qb'] = 0.045841217041015625\n",
      "democrats:['team', 'teams'] = 0.020274851471185684\n",
      "republicans:['team', 'teams'] = 0.038132503628730774\n",
      "politicians:['player', 'players'] = 0.07175624370574951\n",
      "0.049432553\n",
      "vocab size: 5812\n",
      "voters:['fan', 'fans'] = 0.004902259912341833\n",
      "election:['race', 'cup', 'championship'] = 0.08446994423866272\n",
      "trump:['captain', 'qb'] = 0.00589158246293664\n",
      "president:['captain', 'qb'] = 0.08066674321889877\n",
      "democrats:['team', 'teams'] = 0.01942870207130909\n",
      "republicans:['team', 'teams'] = 0.031484343111515045\n",
      "politicians:['player', 'players'] = 0.03718132898211479\n",
      "0.04083465\n",
      "vocab size: 5231\n",
      "voters:['fan', 'fans'] = 0.053068988025188446\n",
      "election:['race', 'cup', 'championship'] = 0.08114469051361084\n",
      "trump:['captain', 'qb'] = -0.04512627795338631\n",
      "president:['captain', 'qb'] = 0.0764511376619339\n",
      "democrats:['team', 'teams'] = -0.0007414519786834717\n",
      "republicans:['team', 'teams'] = 0.036753445863723755\n",
      "politicians:['player', 'players'] = 0.056297868490219116\n",
      "0.039789435\n",
      "vocab size: 5172\n",
      "voters:['fan', 'fans'] = 0.07147689908742905\n",
      "election:['race', 'cup', 'championship'] = 0.09718162566423416\n",
      "trump:['captain', 'qb'] = -0.011201501823961735\n",
      "president:['captain', 'qb'] = 0.014440256170928478\n",
      "democrats:['team', 'teams'] = 0.03469986096024513\n",
      "republicans:['team', 'teams'] = 0.0481504425406456\n",
      "politicians:['player', 'players'] = 0.003979472443461418\n",
      "0.040975716\n"
     ]
    }
   ],
   "source": [
    "# target pair sim\n",
    "\n",
    "avg_map_sim('conservative_2015_10_35k_samples', word_map)\n",
    "avg_map_sim('conservative_2016_10_35k_samples', word_map)\n",
    "avg_map_sim('conservative_2017_10_35k_samples', word_map)\n",
    "avg_map_sim('conservative_2018_10_35k_samples', word_map)\n",
    "avg_map_sim('conservative_2019_10_35k_samples', word_map)\n",
    "avg_map_sim('conservative_2020_10_35k_samples', word_map)\n",
    "avg_map_sim('conservative_2021_10_35k_samples', word_map)"
   ]
  },
  {
   "cell_type": "code",
   "execution_count": 96,
   "id": "a1e15383-5a1b-4f00-a9e7-3aa264abcd8c",
   "metadata": {},
   "outputs": [
    {
     "name": "stdout",
     "output_type": "stream",
     "text": [
      "vocab size: 5831\n"
     ]
    },
    {
     "data": {
      "text/plain": [
       "0.07033442457516988"
      ]
     },
     "execution_count": 96,
     "metadata": {},
     "output_type": "execute_result"
    }
   ],
   "source": [
    "# analogies\n",
    "\n",
    "vals = []\n",
    "embeddings_norm, vocab = get_embeddings_and_vocab('conservative_2015_10_35k_samples')\n",
    "vals.append(compare_4th(inputs1, outputs1, embeddings_norm, vocab))\n",
    "vals.append(compare_4th(inputs2, outputs2, embeddings_norm, vocab))\n",
    "vals.append(compare_4th(inputs3, outputs3, embeddings_norm, vocab))\n",
    "vals.append(compare_4th(inputs4, outputs4, embeddings_norm, vocab))\n",
    "vals.append(compare_4th(inputs5, outputs5, embeddings_norm, vocab))\n",
    "vals.append(compare_4th(inputs6, outputs6, embeddings_norm, vocab))\n",
    "\n",
    "sum(vals)/len(vals)"
   ]
  },
  {
   "cell_type": "code",
   "execution_count": 97,
   "id": "bffa5006-448a-4c1c-957c-bb3ebe2c1430",
   "metadata": {},
   "outputs": [
    {
     "name": "stdout",
     "output_type": "stream",
     "text": [
      "vocab size: 5719\n"
     ]
    },
    {
     "data": {
      "text/plain": [
       "0.06581845801944534"
      ]
     },
     "execution_count": 97,
     "metadata": {},
     "output_type": "execute_result"
    }
   ],
   "source": [
    "vals = []\n",
    "embeddings_norm, vocab = get_embeddings_and_vocab('conservative_2016_10_35k_samples')\n",
    "vals.append(compare_4th(inputs1, outputs1, embeddings_norm, vocab))\n",
    "vals.append(compare_4th(inputs2, outputs2, embeddings_norm, vocab))\n",
    "vals.append(compare_4th(inputs3, outputs3, embeddings_norm, vocab))\n",
    "vals.append(compare_4th(inputs4, outputs4, embeddings_norm, vocab))\n",
    "vals.append(compare_4th(inputs5, outputs5, embeddings_norm, vocab))\n",
    "vals.append(compare_4th(inputs6, outputs6, embeddings_norm, vocab))\n",
    "\n",
    "sum(vals)/len(vals)"
   ]
  },
  {
   "cell_type": "code",
   "execution_count": 98,
   "id": "96a818aa-68c8-49f1-a98e-996ccf0d4c87",
   "metadata": {},
   "outputs": [
    {
     "name": "stdout",
     "output_type": "stream",
     "text": [
      "vocab size: 5787\n"
     ]
    },
    {
     "data": {
      "text/plain": [
       "0.05818437319248915"
      ]
     },
     "execution_count": 98,
     "metadata": {},
     "output_type": "execute_result"
    }
   ],
   "source": [
    "vals = []\n",
    "embeddings_norm, vocab = get_embeddings_and_vocab('conservative_2017_10_35k_samples')\n",
    "vals.append(compare_4th(inputs1, outputs1, embeddings_norm, vocab))\n",
    "vals.append(compare_4th(inputs2, outputs2, embeddings_norm, vocab))\n",
    "vals.append(compare_4th(inputs3, outputs3, embeddings_norm, vocab))\n",
    "vals.append(compare_4th(inputs4, outputs4, embeddings_norm, vocab))\n",
    "vals.append(compare_4th(inputs5, outputs5, embeddings_norm, vocab))\n",
    "vals.append(compare_4th(inputs6, outputs6, embeddings_norm, vocab))\n",
    "\n",
    "sum(vals)/len(vals)"
   ]
  },
  {
   "cell_type": "code",
   "execution_count": 99,
   "id": "328fe6f4-f084-4206-945f-a1e4dc6316ba",
   "metadata": {},
   "outputs": [
    {
     "name": "stdout",
     "output_type": "stream",
     "text": [
      "vocab size: 5565\n"
     ]
    },
    {
     "data": {
      "text/plain": [
       "0.07641343896587689"
      ]
     },
     "execution_count": 99,
     "metadata": {},
     "output_type": "execute_result"
    }
   ],
   "source": [
    "vals = []\n",
    "embeddings_norm, vocab = get_embeddings_and_vocab('conservative_2018_10_35k_samples')\n",
    "vals.append(compare_4th(inputs1, outputs1, embeddings_norm, vocab))\n",
    "vals.append(compare_4th(inputs2, outputs2, embeddings_norm, vocab))\n",
    "vals.append(compare_4th(inputs3, outputs3, embeddings_norm, vocab))\n",
    "vals.append(compare_4th(inputs4, outputs4, embeddings_norm, vocab))\n",
    "vals.append(compare_4th(inputs5, outputs5, embeddings_norm, vocab))\n",
    "vals.append(compare_4th(inputs6, outputs6, embeddings_norm, vocab))\n",
    "\n",
    "sum(vals)/len(vals)"
   ]
  },
  {
   "cell_type": "code",
   "execution_count": 100,
   "id": "ed367b1b-e051-4a2f-8bfe-10b6a1e789e4",
   "metadata": {},
   "outputs": [
    {
     "name": "stdout",
     "output_type": "stream",
     "text": [
      "vocab size: 5812\n"
     ]
    },
    {
     "data": {
      "text/plain": [
       "0.05028908187523484"
      ]
     },
     "execution_count": 100,
     "metadata": {},
     "output_type": "execute_result"
    }
   ],
   "source": [
    "vals = []\n",
    "embeddings_norm, vocab = get_embeddings_and_vocab('conservative_2019_10_35k_samples')\n",
    "vals.append(compare_4th(inputs1, outputs1, embeddings_norm, vocab))\n",
    "vals.append(compare_4th(inputs2, outputs2, embeddings_norm, vocab))\n",
    "vals.append(compare_4th(inputs3, outputs3, embeddings_norm, vocab))\n",
    "vals.append(compare_4th(inputs4, outputs4, embeddings_norm, vocab))\n",
    "vals.append(compare_4th(inputs5, outputs5, embeddings_norm, vocab))\n",
    "vals.append(compare_4th(inputs6, outputs6, embeddings_norm, vocab))\n",
    "\n",
    "sum(vals)/len(vals)"
   ]
  },
  {
   "cell_type": "code",
   "execution_count": 101,
   "id": "e2ffc87c-216b-4884-b143-36fe5a6e3b03",
   "metadata": {},
   "outputs": [
    {
     "name": "stdout",
     "output_type": "stream",
     "text": [
      "vocab size: 5231\n"
     ]
    },
    {
     "data": {
      "text/plain": [
       "0.03772395228346189"
      ]
     },
     "execution_count": 101,
     "metadata": {},
     "output_type": "execute_result"
    }
   ],
   "source": [
    "vals = []\n",
    "embeddings_norm, vocab = get_embeddings_and_vocab('conservative_2020_10_35k_samples')\n",
    "vals.append(compare_4th(inputs1, outputs1, embeddings_norm, vocab))\n",
    "vals.append(compare_4th(inputs2, outputs2, embeddings_norm, vocab))\n",
    "vals.append(compare_4th(inputs3, outputs3, embeddings_norm, vocab))\n",
    "vals.append(compare_4th(inputs4, outputs4, embeddings_norm, vocab))\n",
    "vals.append(compare_4th(inputs5, outputs5, embeddings_norm, vocab))\n",
    "vals.append(compare_4th(inputs6, outputs6, embeddings_norm, vocab))\n",
    "\n",
    "sum(vals)/len(vals)"
   ]
  },
  {
   "cell_type": "code",
   "execution_count": 102,
   "id": "5df40b50-6be8-4cf0-a511-af5834302f43",
   "metadata": {},
   "outputs": [
    {
     "name": "stdout",
     "output_type": "stream",
     "text": [
      "vocab size: 5172\n"
     ]
    },
    {
     "data": {
      "text/plain": [
       "0.04980272217653692"
      ]
     },
     "execution_count": 102,
     "metadata": {},
     "output_type": "execute_result"
    }
   ],
   "source": [
    "vals = []\n",
    "embeddings_norm, vocab = get_embeddings_and_vocab('conservative_2021_10_35k_samples')\n",
    "vals.append(compare_4th(inputs1, outputs1, embeddings_norm, vocab))\n",
    "vals.append(compare_4th(inputs2, outputs2, embeddings_norm, vocab))\n",
    "vals.append(compare_4th(inputs3, outputs3, embeddings_norm, vocab))\n",
    "vals.append(compare_4th(inputs4, outputs4, embeddings_norm, vocab))\n",
    "vals.append(compare_4th(inputs5, outputs5, embeddings_norm, vocab))\n",
    "vals.append(compare_4th(inputs6, outputs6, embeddings_norm, vocab))\n",
    "\n",
    "sum(vals)/len(vals)"
   ]
  },
  {
   "cell_type": "markdown",
   "id": "adf4dd4b-a609-4185-a8c4-49639df212f7",
   "metadata": {},
   "source": [
    "##### politics oct"
   ]
  },
  {
   "cell_type": "code",
   "execution_count": 21,
   "id": "b93b8104-3f9b-4a30-b6c0-aa871299c9cf",
   "metadata": {},
   "outputs": [],
   "source": [
    "# sensitive to choice of words\n",
    "# how to choose words?\n",
    "\n",
    "politics_words = ['voters', 'election', 'president', 'democrats', 'republicans', 'politicians', 'media']\n",
    "sports_words = ['fans', 'race', 'captain', 'team', 'players', 'cup', 'trophy',]\n",
    "\n",
    "word_map = {'voters': ['fan', 'fans'],\n",
    "            'election': ['race', 'cup', 'championship'],\n",
    "            #'trump': ['captain', 'qb'],\n",
    "            #'president': ['captain', 'qb'], \n",
    "            'democrats': ['team', 'teams'],\n",
    "            'republicans': ['team', 'teams'],\n",
    "            'politicians': ['player', 'players'],\n",
    "           }\n",
    "\n",
    "inputs1 = ['politics', 'president', 'sports']\n",
    "outputs1 = ['player', 'captain', 'star', 'coach', 'striker']\n",
    "\n",
    "inputs2 = ['election', 'politician', 'cup']\n",
    "outputs2 = ['player', 'captain', 'star', 'coach', 'striker']\n",
    "\n",
    "inputs3 = ['fans', 'tournament', 'voters']\n",
    "outputs3 = ['election']\n",
    "\n",
    "inputs4 = ['voters', 'election', 'fans']\n",
    "outputs4 = ['tournament', 'cup', 'race']\n",
    "\n",
    "inputs5 = ['democrats', 'election', 'team']\n",
    "outputs5 = ['tournament', 'cup', 'race']\n",
    "\n",
    "inputs6 = ['republicans', 'election', 'team']\n",
    "outputs6 = ['tournament', 'cup', 'race']\n",
    "\n",
    "def compare_4th(inputs, outputs, embeddings_norm, vocab):\n",
    "    sim_dict = get_analogy(inputs[0], inputs[1], inputs[2], embeddings_norm, vocab, topk=5)\n",
    "    res_outputs = list(sim_dict.keys())\n",
    "    all_pairs = []\n",
    "    for p in outputs:\n",
    "        all_pairs.extend([(p,s) for s in res_outputs])\n",
    "    sim_list = []\n",
    "    for pair in all_pairs:\n",
    "        sim = get_sim(pair[0], pair[1], embeddings_norm, vocab)\n",
    "        sim_list.append(sim)\n",
    "    return statistics.mean(sim_list)"
   ]
  },
  {
   "cell_type": "code",
   "execution_count": 23,
   "id": "de4a7c26-ef66-4453-9cf0-06fb07e987c8",
   "metadata": {},
   "outputs": [
    {
     "name": "stdout",
     "output_type": "stream",
     "text": [
      "vocab size: 5843\n",
      "0.070684746\n",
      "vocab size: 5385\n",
      "0.040772125\n",
      "vocab size: 5595\n",
      "0.034885883\n",
      "vocab size: 5516\n",
      "0.050763957\n",
      "vocab size: 5451\n",
      "0.057183586\n",
      "vocab size: 5140\n",
      "0.06570791\n",
      "vocab size: 5439\n",
      "0.05092806\n"
     ]
    }
   ],
   "source": [
    "# target pair sim\n",
    "\n",
    "avg_map_sim('politics_2015_10_35k_samples', word_map)\n",
    "avg_map_sim('politics_2016_10_35k_samples', word_map)\n",
    "avg_map_sim('politics_2017_10_35k_samples', word_map)\n",
    "avg_map_sim('politics_2018_10_35k_samples', word_map)\n",
    "avg_map_sim('politics_2019_10_35k_samples', word_map)\n",
    "avg_map_sim('politics_2020_10_35k_samples', word_map)\n",
    "avg_map_sim('politics_2021_10_35k_samples', word_map)"
   ]
  },
  {
   "cell_type": "code",
   "execution_count": 33,
   "id": "cb86bb7c-b38e-411c-be04-def9bbe9240c",
   "metadata": {},
   "outputs": [
    {
     "name": "stdout",
     "output_type": "stream",
     "text": [
      "vocab size: 5843\n",
      "voters:['fan', 'fans'] = 0.045776404440402985\n",
      "election:['race', 'cup', 'championship'] = 0.11056459695100784\n",
      "trump:['captain', 'qb'] = -0.03271827846765518\n",
      "president:['captain', 'qb'] = 0.042103979736566544\n",
      "democrats:['team', 'teams'] = 0.07359660416841507\n",
      "republicans:['team', 'teams'] = 0.057892344892024994\n",
      "politicians:['player', 'players'] = 0.045653846114873886\n",
      "0.053086907\n",
      "vocab size: 5385\n",
      "voters:['fan', 'fans'] = 0.051763538271188736\n",
      "election:['race', 'cup', 'championship'] = 0.09460938721895218\n",
      "trump:['captain', 'qb'] = -0.05960177630186081\n",
      "president:['captain', 'qb'] = 0.047684039920568466\n",
      "democrats:['team', 'teams'] = -0.01196194626390934\n",
      "republicans:['team', 'teams'] = 0.004429662600159645\n",
      "politicians:['player', 'players'] = 0.03810134530067444\n",
      "0.028310526\n",
      "vocab size: 5595\n",
      "voters:['fan', 'fans'] = 0.05185724049806595\n",
      "election:['race', 'cup', 'championship'] = 0.04281139373779297\n",
      "trump:['captain', 'qb'] = -0.010958284139633179\n",
      "president:['captain', 'qb'] = 0.03375311195850372\n",
      "democrats:['team', 'teams'] = -0.02193436585366726\n",
      "republicans:['team', 'teams'] = 0.013257867656648159\n",
      "politicians:['player', 'players'] = 0.08447451889514923\n",
      "0.02862229\n",
      "vocab size: 5516\n",
      "voters:['fan', 'fans'] = -0.011412451975047588\n",
      "election:['race', 'cup', 'championship'] = 0.13421154022216797\n",
      "trump:['captain', 'qb'] = -0.06696061044931412\n",
      "president:['captain', 'qb'] = 0.046626899391412735\n",
      "democrats:['team', 'teams'] = 0.026532914489507675\n",
      "republicans:['team', 'teams'] = 0.047326333820819855\n",
      "politicians:['player', 'players'] = 0.015437645837664604\n",
      "0.03451574\n",
      "vocab size: 5451\n",
      "voters:['fan', 'fans'] = 0.04770113155245781\n",
      "election:['race', 'cup', 'championship'] = 0.10881058126688004\n",
      "trump:['captain', 'qb'] = 0.02275005541741848\n",
      "president:['captain', 'qb'] = 0.10356903821229935\n",
      "democrats:['team', 'teams'] = 0.04037501662969589\n",
      "republicans:['team', 'teams'] = 0.01034456491470337\n",
      "politicians:['player', 'players'] = 0.05287312716245651\n",
      "0.058777176\n",
      "vocab size: 5140\n",
      "voters:['fan', 'fans'] = 0.04534372687339783\n",
      "election:['race', 'cup', 'championship'] = 0.12262489646673203\n",
      "trump:['captain', 'qb'] = -0.03305903449654579\n",
      "president:['captain', 'qb'] = 0.08074203133583069\n",
      "democrats:['team', 'teams'] = 0.004494538530707359\n",
      "republicans:['team', 'teams'] = 0.020225705578923225\n",
      "politicians:['player', 'players'] = 0.10739218443632126\n",
      "0.054543532\n",
      "vocab size: 5439\n",
      "voters:['fan', 'fans'] = -0.010988123714923859\n",
      "election:['race', 'cup', 'championship'] = 0.09616867452859879\n",
      "trump:['captain', 'qb'] = -0.013683284632861614\n",
      "president:['captain', 'qb'] = 0.04082635045051575\n",
      "democrats:['team', 'teams'] = 0.07584376633167267\n",
      "republicans:['team', 'teams'] = 0.02566465362906456\n",
      "politicians:['player', 'players'] = 0.04533100873231888\n",
      "0.040966317\n"
     ]
    }
   ],
   "source": [
    "# target pair sim\n",
    "\n",
    "avg_map_sim('politics_2015_10_35k_samples', word_map)\n",
    "avg_map_sim('politics_2016_10_35k_samples', word_map)\n",
    "avg_map_sim('politics_2017_10_35k_samples', word_map)\n",
    "avg_map_sim('politics_2018_10_35k_samples', word_map)\n",
    "avg_map_sim('politics_2019_10_35k_samples', word_map)\n",
    "avg_map_sim('politics_2020_10_35k_samples', word_map)\n",
    "avg_map_sim('politics_2021_10_35k_samples', word_map)"
   ]
  },
  {
   "cell_type": "code",
   "execution_count": null,
   "id": "20a56dde-4f2d-408b-982e-934124b5d622",
   "metadata": {},
   "outputs": [],
   "source": []
  },
  {
   "cell_type": "markdown",
   "id": "506631dd-b59b-45a3-9119-7205ad838572",
   "metadata": {},
   "source": [
    "##### politics sep, oct, nov, dec"
   ]
  },
  {
   "cell_type": "code",
   "execution_count": 31,
   "id": "ffd7f891-ffbd-44fd-859a-f7b1a8a2e6ab",
   "metadata": {},
   "outputs": [
    {
     "name": "stdout",
     "output_type": "stream",
     "text": [
      "vocab size: 9269\n",
      "voters:['fan', 'fans'] = 0.057058483362197876\n",
      "election:['race', 'cup', 'championship'] = 0.154131218791008\n",
      "trump:['captain', 'qb'] = 0.013377770781517029\n",
      "president:['captain', 'qb'] = 0.09846999496221542\n",
      "democrats:['team', 'teams'] = -0.0017117783427238464\n",
      "republicans:['team', 'teams'] = 0.049411118030548096\n",
      "politicians:['player', 'players'] = 0.15811745822429657\n",
      "0.08078932\n",
      "vocab size: 8817\n",
      "voters:['fan', 'fans'] = 0.059039320796728134\n",
      "election:['race', 'cup', 'championship'] = 0.11534001678228378\n",
      "trump:['captain', 'qb'] = -0.04476126283407211\n",
      "president:['captain', 'qb'] = 0.062024883925914764\n",
      "democrats:['team', 'teams'] = 0.026732657104730606\n",
      "republicans:['team', 'teams'] = 0.11528217047452927\n",
      "politicians:['player', 'players'] = 0.09242717176675797\n",
      "0.06450066\n"
     ]
    }
   ],
   "source": [
    "avg_map_sim('politics_2015_9_12_100k_samples', word_map)\n",
    "avg_map_sim('politics_2016_9_12_100k_samples', word_map)\n",
    "#avg_map_sim('politics_2017_10_100k_samples', word_map)"
   ]
  },
  {
   "cell_type": "code",
   "execution_count": null,
   "id": "d91ba8fe-0b38-414c-be63-22203b285456",
   "metadata": {},
   "outputs": [],
   "source": []
  }
 ],
 "metadata": {
  "kernelspec": {
   "display_name": "Python 3 (ipykernel)",
   "language": "python",
   "name": "python3"
  },
  "language_info": {
   "codemirror_mode": {
    "name": "ipython",
    "version": 3
   },
   "file_extension": ".py",
   "mimetype": "text/x-python",
   "name": "python",
   "nbconvert_exporter": "python",
   "pygments_lexer": "ipython3",
   "version": "3.12.2"
  }
 },
 "nbformat": 4,
 "nbformat_minor": 5
}
