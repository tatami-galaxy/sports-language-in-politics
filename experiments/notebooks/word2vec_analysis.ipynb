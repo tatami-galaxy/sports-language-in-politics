{
 "cells": [
  {
   "cell_type": "code",
   "execution_count": 36,
   "id": "03375523-e310-4ccc-9476-c871d654f3a2",
   "metadata": {},
   "outputs": [],
   "source": [
    "import numpy as np\n",
    "import pandas as pd\n",
    "import torch\n",
    "import sys\n",
    "import re\n",
    "\n",
    "from sklearn.manifold import TSNE\n",
    "import plotly.graph_objects as go\n",
    "\n",
    "import argparse\n",
    "import os\n",
    "from os.path import dirname, abspath\n",
    "from functools import partial\n",
    "import json\n",
    "import yaml\n",
    "import numpy as np\n",
    "\n",
    "import torch\n",
    "import torch.nn as nn\n",
    "from torchtext.data import get_tokenizer\n",
    "from torchtext.vocab import build_vocab_from_iterator\n",
    "from torch.utils.data import DataLoader\n",
    "\n",
    "import torch.optim as optim\n",
    "from torch.optim.lr_scheduler import LambdaLR\n",
    "\n",
    "from datasets import load_dataset\n",
    "\n",
    "import seaborn as sns\n",
    "import pandas as pd\n",
    "import polars as pl\n",
    "import matplotlib.pyplot as plt\n",
    "\n",
    "from torchtext.data import get_tokenizer\n",
    "from torchtext.vocab import build_vocab_from_iterator\n",
    "from torch.utils.data import DataLoader\n",
    "\n",
    "from datasets import Dataset\n",
    "from tqdm.auto import tqdm\n",
    "\n",
    "from sklearn.cluster import KMeans\n",
    "import itertools\n",
    "\n",
    "from collections import deque\n",
    "from itertools import permutations\n",
    "import statistics"
   ]
  },
  {
   "cell_type": "code",
   "execution_count": 2,
   "id": "653b0dc3-bb80-47fb-bdc1-ff6fe02343df",
   "metadata": {},
   "outputs": [],
   "source": [
    "EMBED_DIMENSION = 300\n",
    "EMBED_MAX_NORM = 1\n",
    "\n",
    "data_dir = \"/users/ujan/sports-language-in-politics/models/cbow/\""
   ]
  },
  {
   "cell_type": "code",
   "execution_count": 3,
   "id": "aad5ea58-9a8b-4b16-ae8f-acdd9b43e6a9",
   "metadata": {},
   "outputs": [],
   "source": [
    "if torch.backends.mps.is_available(): device = \"mps\"\n",
    "elif torch.cuda.is_available(): device = \"cuda\"\n",
    "else: device = \"cpu\""
   ]
  },
  {
   "cell_type": "code",
   "execution_count": 4,
   "id": "9a711a00-cd09-4b0a-bb90-5470f2146cc0",
   "metadata": {},
   "outputs": [],
   "source": [
    "class CBOW_Model(nn.Module):\n",
    "    \"\"\"\n",
    "    Implementation of CBOW model described in paper:\n",
    "    https://arxiv.org/abs/1301.3781\n",
    "    \"\"\"\n",
    "\n",
    "    def __init__(self, vocab_size: int):\n",
    "        super(CBOW_Model, self).__init__()\n",
    "        self.embeddings = nn.Embedding(\n",
    "            num_embeddings=vocab_size,\n",
    "            embedding_dim=EMBED_DIMENSION,\n",
    "            max_norm=EMBED_MAX_NORM,\n",
    "        )\n",
    "        self.linear = nn.Linear(\n",
    "            in_features=EMBED_DIMENSION,\n",
    "            out_features=vocab_size,\n",
    "        )\n",
    "\n",
    "    def forward(self, inputs):\n",
    "        x = self.embeddings(inputs)\n",
    "        x = x.mean(axis=1)\n",
    "        x = self.linear(x)\n",
    "        return x"
   ]
  },
  {
   "cell_type": "code",
   "execution_count": 35,
   "id": "1d32dcae-bb05-426c-9c3e-98a41147a551",
   "metadata": {},
   "outputs": [],
   "source": [
    "def get_embeddings_and_vocab(sub_name):\n",
    "    \n",
    "    vocab = torch.load(data_dir+sub_name+\"_vocab.pt\")\n",
    "    print('vocab size: {}'.format(len(vocab.get_itos())))\n",
    "    model = CBOW_Model(vocab_size=len(vocab.get_itos()))\n",
    "    model = torch.load(data_dir+sub_name+\"_model.pt\", map_location=device)\n",
    "\n",
    "    def normalization(embeddings):\n",
    "        norms = (embeddings ** 2).sum(axis=1) ** (1 / 2)\n",
    "        norms = np.reshape(norms, (len(norms), 1))\n",
    "        embeddings_norm = embeddings / norms\n",
    "        return embeddings_norm\n",
    "    \n",
    "    # embedding from first model layer\n",
    "    embeddings = list(model.parameters())[0].cpu().detach().numpy()\n",
    "    \n",
    "    # normalization\n",
    "    embeddings_norm = normalization(embeddings)\n",
    "\n",
    "    return embeddings_norm, vocab\n",
    "\n",
    "\n",
    "def get_top_similar(word: str, embeddings_norm, vocab, topN: int=5):\n",
    "    word_id = vocab[word]\n",
    "    if word_id == 0:\n",
    "        print(\"Out of vocabulary word\")\n",
    "        return\n",
    "\n",
    "    word_vec = embeddings_norm[word_id]\n",
    "    word_vec = np.reshape(word_vec, (len(word_vec), 1))\n",
    "    dists = np.matmul(embeddings_norm, word_vec).flatten()\n",
    "    topN_ids = np.argsort(-dists)[1 : topN + 1]\n",
    "\n",
    "    topN_dict = {}\n",
    "    for sim_word_id in topN_ids:\n",
    "        sim_word = vocab.lookup_token(sim_word_id)\n",
    "        topN_dict[sim_word] = dists[sim_word_id]\n",
    "    return topN_dict\n",
    "\n",
    "\n",
    "def get_sim(word1: str, word2: str, embeddings_norm, vocab):\n",
    "    if word1 not in vocab.get_itos() or word2 not in vocab.get_itos():\n",
    "        print('not in vocab')\n",
    "        return\n",
    "    word1_id = vocab[word1]\n",
    "    if word1_id == 0:\n",
    "        print(\"Out of vocabulary word\")\n",
    "        return\n",
    "    word2_id = vocab[word2]\n",
    "    if word2_id == 0:\n",
    "        print(\"Out of vocabulary word\")\n",
    "        return\n",
    "\n",
    "    word1_vec = embeddings_norm[word1_id]\n",
    "    #word1_vec = np.reshape(word1_vec, (len(word1_vec), 1))\n",
    "    \n",
    "    word2_vec = embeddings_norm[word2_id]\n",
    "    #word2_vec = np.reshape(word2_vec, (len(word2_vec), 1))\n",
    "    \n",
    "    return np.dot(word1_vec, word2_vec)\n",
    "\n",
    "\n",
    "def get_analogy(a,b,c, embeddings_norm, vocab):\n",
    "    vocab_list = vocab.get_itos()\n",
    "    if a not in vocab_list or b not in vocab_list or c not in vocab_list:\n",
    "        print('not in vocab')\n",
    "        return\n",
    "    a_id = vocab[a]\n",
    "    b_id = vocab[b]\n",
    "    c_id = vocab[c]\n",
    "    if a_id == 0 or b_id == 0 or c_id == 0:\n",
    "        print(\"Out of vocabulary word\")\n",
    "        return\n",
    "    a_vec = embeddings_norm[a_id]\n",
    "    b_vec = embeddings_norm[b_id]\n",
    "    c_vec = embeddings_norm[c_id]\n",
    "    sim = -2\n",
    "    target = None\n",
    "    sim_dict = {}\n",
    "    for token in vocab_list:\n",
    "        if token in [a,b,c]:\n",
    "            continue\n",
    "        token_id = vocab[token]\n",
    "        token_vec = embeddings_norm[token_id]\n",
    "        s = np.dot(token_vec, b_vec-a_vec+c_vec)\n",
    "        if s > sim:\n",
    "            sim = s\n",
    "            target = token\n",
    "        if len(sim_dict) < 5:\n",
    "            sim_dict[token] = s\n",
    "        else:\n",
    "            min_key = min(sim_dict, key=sim_dict.get)\n",
    "            min_val = sim_dict[min_key]\n",
    "            if s > min_val:\n",
    "                del sim_dict[min_key]\n",
    "                sim_dict[token] = s\n",
    "                    \n",
    "    print(target, sim)\n",
    "    print(sim_dict)\n",
    "\n",
    "\n",
    "def get_outlier(word_list, embeddings_norm, vocab):\n",
    "    vocab_list = vocab.get_itos()\n",
    "    for word in word_list:\n",
    "        if word not in vocab_list:\n",
    "            print('not in vocab')\n",
    "            return\n",
    "    pairs = list(itertools.combinations(word_list, 2))\n",
    "    sim_dict = {w:0 for w in word_list}\n",
    "    for pair in pairs:\n",
    "        vec1 = embeddings_norm[vocab[pair[0]]]\n",
    "        vec2 = embeddings_norm[vocab[pair[1]]]\n",
    "        sim = np.dot(vec1, vec2)\n",
    "        sim_dict[pair[0]] += sim\n",
    "        sim_dict[pair[1]] += sim\n",
    "    new_d = {w:0 for w in word_list}\n",
    "    for key, val in sim_dict.items():\n",
    "        new_d[key] = val/(len(word_list)-1)\n",
    "    word = None\n",
    "    value = 2\n",
    "    for key, val in new_d.items():\n",
    "        if val < value:\n",
    "            word = key\n",
    "            value = val\n",
    "    print(word, value)"
   ]
  },
  {
   "cell_type": "markdown",
   "id": "d51f1976-47a9-4d53-9eca-583d670161af",
   "metadata": {},
   "source": [
    "#### Similarities"
   ]
  },
  {
   "cell_type": "markdown",
   "id": "adf659f6-c05b-4e21-89ca-e1e2d7362ce8",
   "metadata": {},
   "source": [
    "##### the_donald"
   ]
  },
  {
   "cell_type": "code",
   "execution_count": 81,
   "id": "55bc0f65-ef51-4cca-879b-11c57c066187",
   "metadata": {},
   "outputs": [
    {
     "name": "stdout",
     "output_type": "stream",
     "text": [
      "vocab size: 10378\n"
     ]
    },
    {
     "data": {
      "text/plain": [
       "{'hearings': 0.22003981,\n",
       " 'leaning': 0.2085969,\n",
       " 'sweden': 0.20754245,\n",
       " 'reddits': 0.20666334,\n",
       " 'pen': 0.20566946}"
      ]
     },
     "execution_count": 81,
     "metadata": {},
     "output_type": "execute_result"
    }
   ],
   "source": [
    "embeddings_norm, vocab = get_embeddings_and_vocab('the_donald_1000_epochs') # freq 20, sample 100000\n",
    "get_top_similar('politics', embeddings_norm, vocab)"
   ]
  },
  {
   "cell_type": "code",
   "execution_count": 20,
   "id": "c0e9f65a-d68c-44a8-8fab-5085bf1dfb86",
   "metadata": {},
   "outputs": [
    {
     "name": "stdout",
     "output_type": "stream",
     "text": [
      "vocab size: 10378\n"
     ]
    },
    {
     "data": {
      "text/plain": [
       "{'dems': 0.27929482,\n",
       " 'vote': 0.2669506,\n",
       " 'demographics': 0.26626676,\n",
       " 'voting': 0.26432395,\n",
       " 'republicans': 0.26054394}"
      ]
     },
     "execution_count": 20,
     "metadata": {},
     "output_type": "execute_result"
    }
   ],
   "source": [
    "embeddings_norm, vocab = get_embeddings_and_vocab('the_donald_1000_epochs') # freq 20, sample 100000\n",
    "get_top_similar('voters', embeddings_norm, vocab)"
   ]
  },
  {
   "cell_type": "code",
   "execution_count": 8,
   "id": "1bf58f7d-a093-4dd1-b169-f72efdc445aa",
   "metadata": {},
   "outputs": [
    {
     "name": "stdout",
     "output_type": "stream",
     "text": [
      "vocab size: 10378\n"
     ]
    },
    {
     "data": {
      "text/plain": [
       "{'girl': 0.3978128,\n",
       " 'person': 0.33237395,\n",
       " 'women': 0.3177452,\n",
       " 'guy': 0.25549906,\n",
       " 'husband': 0.2481705}"
      ]
     },
     "execution_count": 8,
     "metadata": {},
     "output_type": "execute_result"
    }
   ],
   "source": [
    "embeddings_norm, vocab = get_embeddings_and_vocab('the_donald_1000_epochs') # freq 20, sample 100000\n",
    "get_top_similar('woman', embeddings_norm, vocab)"
   ]
  },
  {
   "cell_type": "code",
   "execution_count": 10,
   "id": "b46478ac-0839-4bd4-a25c-08748db68dde",
   "metadata": {},
   "outputs": [
    {
     "name": "stdout",
     "output_type": "stream",
     "text": [
      "vocab size: 10378\n"
     ]
    },
    {
     "data": {
      "text/plain": [
       "{'obama': 0.33401677,\n",
       " 'hillary': 0.33117822,\n",
       " 'trumps': 0.3227671,\n",
       " 'geotus': 0.30152357,\n",
       " 'potus': 0.2929576}"
      ]
     },
     "execution_count": 10,
     "metadata": {},
     "output_type": "execute_result"
    }
   ],
   "source": [
    "embeddings_norm, vocab = get_embeddings_and_vocab('the_donald_1000_epochs') # freq 20, sample 100000\n",
    "get_top_similar('trump', embeddings_norm, vocab)"
   ]
  },
  {
   "cell_type": "markdown",
   "id": "61b58b3e-f274-49e1-a404-e2cfb4843c68",
   "metadata": {},
   "source": [
    "##### conservative"
   ]
  },
  {
   "cell_type": "code",
   "execution_count": 12,
   "id": "c28dd33c-7e70-40aa-a382-262c9a0a8b9b",
   "metadata": {},
   "outputs": [
    {
     "name": "stdout",
     "output_type": "stream",
     "text": [
      "vocab size: 9061\n"
     ]
    },
    {
     "data": {
      "text/plain": [
       "{'good': 0.34852636,\n",
       " 'terrible': 0.3032945,\n",
       " 'shitty': 0.29318285,\n",
       " 'horrible': 0.27719852,\n",
       " 'insignificant': 0.24304685}"
      ]
     },
     "execution_count": 12,
     "metadata": {},
     "output_type": "execute_result"
    }
   ],
   "source": [
    "embeddings_norm, vocab = get_embeddings_and_vocab('conservative_1000_epochs') # freq 20, sample 100000\n",
    "get_top_similar('bad', embeddings_norm, vocab)"
   ]
  },
  {
   "cell_type": "code",
   "execution_count": 13,
   "id": "c64dd36c-e3c6-42f4-83ee-fde5e7223cb2",
   "metadata": {},
   "outputs": [
    {
     "name": "stdout",
     "output_type": "stream",
     "text": [
      "vocab size: 9061\n"
     ]
    },
    {
     "data": {
      "text/plain": [
       "{'trump': 0.32836217,\n",
       " 'bidens': 0.31359124,\n",
       " 'obama': 0.28926462,\n",
       " 'sleepy': 0.28519666,\n",
       " 'pence': 0.2774164}"
      ]
     },
     "execution_count": 13,
     "metadata": {},
     "output_type": "execute_result"
    }
   ],
   "source": [
    "embeddings_norm, vocab = get_embeddings_and_vocab('conservative_1000_epochs') # freq 20, sample 100000\n",
    "get_top_similar('biden', embeddings_norm, vocab)"
   ]
  },
  {
   "cell_type": "code",
   "execution_count": 9,
   "id": "21bb27ad-a6e5-4f5f-bd35-0cd4299cddcd",
   "metadata": {},
   "outputs": [
    {
     "name": "stdout",
     "output_type": "stream",
     "text": [
      "vocab size: 9061\n"
     ]
    },
    {
     "data": {
      "text/plain": [
       "{'prosecuted': 0.24044552,\n",
       " 'directors': 0.22615686,\n",
       " 'debatable': 0.22474325,\n",
       " 'classified': 0.22291517,\n",
       " 'comey': 0.22155952}"
      ]
     },
     "execution_count": 9,
     "metadata": {},
     "output_type": "execute_result"
    }
   ],
   "source": [
    "embeddings_norm, vocab = get_embeddings_and_vocab('conservative_1000_epochs') # freq 20, sample 100000\n",
    "get_top_similar('captain', embeddings_norm, vocab)"
   ]
  },
  {
   "cell_type": "markdown",
   "id": "acd94437-f7f4-4cdb-85a9-5319eca00bfd",
   "metadata": {},
   "source": [
    "##### politics"
   ]
  },
  {
   "cell_type": "code",
   "execution_count": 11,
   "id": "3445813e-5aac-4ec7-bbd8-5781c902b4f0",
   "metadata": {},
   "outputs": [
    {
     "name": "stdout",
     "output_type": "stream",
     "text": [
      "vocab size: 10715\n"
     ]
    },
    {
     "data": {
      "text/plain": [
       "{'good': 0.4490177,\n",
       " 'terrible': 0.36272916,\n",
       " 'awful': 0.2903085,\n",
       " 'bug': 0.25489658,\n",
       " 'smart': 0.25289032}"
      ]
     },
     "execution_count": 11,
     "metadata": {},
     "output_type": "execute_result"
    }
   ],
   "source": [
    "embeddings_norm, vocab = get_embeddings_and_vocab('politics_1000_epochs') # freq 20, sample 100000\n",
    "get_top_similar('bad', embeddings_norm, vocab)"
   ]
  },
  {
   "cell_type": "code",
   "execution_count": 12,
   "id": "8e93e38f-82cd-4faf-bcbb-c2e2bb285d9f",
   "metadata": {},
   "outputs": [
    {
     "name": "stdout",
     "output_type": "stream",
     "text": [
      "vocab size: 10715\n"
     ]
    },
    {
     "data": {
      "text/plain": [
       "{'bidens': 0.37397128,\n",
       " 'bernie': 0.3396699,\n",
       " 'hillary': 0.3112797,\n",
       " 'sanders': 0.26909018,\n",
       " 'trump': 0.26213026}"
      ]
     },
     "execution_count": 12,
     "metadata": {},
     "output_type": "execute_result"
    }
   ],
   "source": [
    "embeddings_norm, vocab = get_embeddings_and_vocab('politics_1000_epochs') # freq 20, sample 100000\n",
    "get_top_similar('biden', embeddings_norm, vocab)"
   ]
  },
  {
   "cell_type": "code",
   "execution_count": 13,
   "id": "e7daec86-9498-44fc-9987-b831f0c91dfe",
   "metadata": {},
   "outputs": [
    {
     "name": "stdout",
     "output_type": "stream",
     "text": [
      "vocab size: 10715\n"
     ]
    },
    {
     "data": {
      "text/plain": [
       "{'respectable': 0.2088904,\n",
       " 'utility': 0.20452517,\n",
       " 'finals': 0.20363128,\n",
       " 'dogshit': 0.20302075,\n",
       " 'bruins': 0.20159477}"
      ]
     },
     "execution_count": 13,
     "metadata": {},
     "output_type": "execute_result"
    }
   ],
   "source": [
    "embeddings_norm, vocab = get_embeddings_and_vocab('politics_1000_epochs') # freq 20, sample 100000\n",
    "get_top_similar('captain', embeddings_norm, vocab)"
   ]
  },
  {
   "cell_type": "code",
   "execution_count": null,
   "id": "d6496d20-8581-475f-90df-3f1c914c305c",
   "metadata": {},
   "outputs": [],
   "source": []
  },
  {
   "cell_type": "markdown",
   "id": "e95b78c0-abaa-48d0-8355-e96af091fbd6",
   "metadata": {},
   "source": [
    "#### Analogies"
   ]
  },
  {
   "cell_type": "code",
   "execution_count": null,
   "id": "02277e85-38f8-4869-9cb5-7bc8f9076490",
   "metadata": {},
   "outputs": [],
   "source": [
    "# analogy examples\n",
    "\n"
   ]
  },
  {
   "cell_type": "code",
   "execution_count": 16,
   "id": "e6e819e6-09ce-4e50-8a89-18b265c4b9f1",
   "metadata": {},
   "outputs": [
    {
     "name": "stdout",
     "output_type": "stream",
     "text": [
      "vocab size: 10378\n",
      "father 0.34129798\n",
      "{'men': 0.3154149, 'father': 0.34129798, 'nickname': 0.2864819, 'noble': 0.28867188, 'levy': 0.31405658}\n"
     ]
    }
   ],
   "source": [
    "embeddings_norm, vocab = get_embeddings_and_vocab('the_donald_1000_epochs')\n",
    "get_analogy('woman', 'queen', 'man', embeddings_norm, vocab)"
   ]
  },
  {
   "cell_type": "code",
   "execution_count": 15,
   "id": "ab5217be-7deb-485e-a910-0da5af5e340c",
   "metadata": {},
   "outputs": [
    {
     "name": "stdout",
     "output_type": "stream",
     "text": [
      "vocab size: 9061\n",
      "trumps 0.43255517\n",
      "{'trumps': 0.43255517, 'aaron': 0.39563692, 'drivers': 0.3178765, 'fdr': 0.31065878, 'analysts': 0.31284007}\n"
     ]
    }
   ],
   "source": [
    "embeddings_norm, vocab = get_embeddings_and_vocab('conservative_1000_epochs')\n",
    "get_analogy('politics', 'trump', 'sports', embeddings_norm, vocab)"
   ]
  },
  {
   "cell_type": "code",
   "execution_count": 14,
   "id": "fd17f3d1-e0d3-4778-accb-4e2bae562877",
   "metadata": {},
   "outputs": [
    {
     "name": "stdout",
     "output_type": "stream",
     "text": [
      "vocab size: 10378\n",
      "bowls 0.34564084\n",
      "{'delegates': 0.3075849, 'bowls': 0.34564084, 'advantages': 0.30759877, 'asinine': 0.32302096, 'morata': 0.3045337}\n"
     ]
    }
   ],
   "source": [
    "embeddings_norm, vocab = get_embeddings_and_vocab('the_donald_1000_epochs')\n",
    "get_analogy('politics', 'trump', 'sports', embeddings_norm, vocab)"
   ]
  },
  {
   "cell_type": "code",
   "execution_count": 17,
   "id": "3b80a305-2803-459e-acc1-c87dc244c708",
   "metadata": {},
   "outputs": [
    {
     "name": "stdout",
     "output_type": "stream",
     "text": [
      "vocab size: 10715\n",
      "jong 0.3763522\n",
      "{'trumps': 0.33410287, 'stars': 0.32657743, 'reject': 0.31470904, 'zach': 0.3358821, 'jong': 0.3763522}\n"
     ]
    }
   ],
   "source": [
    "embeddings_norm, vocab = get_embeddings_and_vocab('politics_1000_epochs')\n",
    "get_analogy('politics', 'trump', 'sports', embeddings_norm, vocab)"
   ]
  },
  {
   "cell_type": "code",
   "execution_count": 18,
   "id": "a91c86a0-ffe6-446c-ac2c-bf53f8c58276",
   "metadata": {},
   "outputs": [
    {
     "name": "stdout",
     "output_type": "stream",
     "text": [
      "vocab size: 10715\n",
      "republican 0.40329498\n",
      "{'republican': 0.40329498, 'politician': 0.39520502, 'reaction': 0.32067028, 'tool': 0.31063023, 'buffoon': 0.34742776}\n"
     ]
    }
   ],
   "source": [
    "embeddings_norm, vocab = get_embeddings_and_vocab('politics_1000_epochs')\n",
    "get_analogy('biden', 'democrat', 'trump', embeddings_norm, vocab)"
   ]
  },
  {
   "cell_type": "code",
   "execution_count": null,
   "id": "ab16cc9d-4f62-4bb6-b439-69f6bae23a55",
   "metadata": {},
   "outputs": [],
   "source": []
  },
  {
   "cell_type": "code",
   "execution_count": 53,
   "id": "b8a10891-39da-4759-b3b4-558a68dccf2d",
   "metadata": {},
   "outputs": [
    {
     "name": "stdout",
     "output_type": "stream",
     "text": [
      "vocab size: 9061\n",
      "trump 0.9494727\n",
      "{'trump': 0.9494727, 'trumps': 0.43255517, 'sports': 0.7861865, 'aaron': 0.39563692, 'drivers': 0.3178765}\n"
     ]
    }
   ],
   "source": [
    "embeddings_norm, vocab = get_embeddings_and_vocab('conservative_1000_epochs')\n",
    "get_analogy('politics', 'trump', 'sports', embeddings_norm, vocab)"
   ]
  },
  {
   "cell_type": "code",
   "execution_count": 44,
   "id": "fb7a683e-bd70-4ed7-923d-74dc452c3112",
   "metadata": {},
   "outputs": [
    {
     "name": "stdout",
     "output_type": "stream",
     "text": [
      "vocab size: 10378\n",
      "king 0.9912237\n",
      "{'woman': 0.8409491, 'girl': 0.357291, 'king': 0.9912237, 'combine': 0.36295393, 'flowers': 0.41219172}\n"
     ]
    }
   ],
   "source": [
    "embeddings_norm, vocab = get_embeddings_and_vocab('the_donald_1000_epochs')\n",
    "get_analogy('man', 'king', 'woman', embeddings_norm, vocab)"
   ]
  },
  {
   "cell_type": "code",
   "execution_count": 45,
   "id": "e43e4457-44c7-45b6-b96b-27f2a5b5b6cd",
   "metadata": {},
   "outputs": [
    {
     "name": "stdout",
     "output_type": "stream",
     "text": [
      "vocab size: 9061\n",
      "woman 1.0140263\n",
      "{'health': 0.3537078, 'woman': 1.0140263, 'king': 0.96158165, 'ron': 0.32921895, 'feminist': 0.33566618}\n"
     ]
    }
   ],
   "source": [
    "embeddings_norm, vocab = get_embeddings_and_vocab('conservative_1000_epochs')\n",
    "get_analogy('man', 'king', 'woman', embeddings_norm, vocab)"
   ]
  },
  {
   "cell_type": "code",
   "execution_count": 46,
   "id": "3f89c98f-b77e-452b-986b-b8b0691c19fd",
   "metadata": {},
   "outputs": [
    {
     "name": "stdout",
     "output_type": "stream",
     "text": [
      "vocab size: 10378\n",
      "man 0.96783704\n",
      "{'guy': 0.39905325, 'man': 0.96783704, 'person': 0.42131552, 'woman': 0.4835636, 'girl': 0.90821165}\n"
     ]
    }
   ],
   "source": [
    "embeddings_norm, vocab = get_embeddings_and_vocab('the_donald_1000_epochs')\n",
    "get_analogy('boy', 'man', 'girl', embeddings_norm, vocab)"
   ]
  },
  {
   "cell_type": "code",
   "execution_count": 47,
   "id": "ee5e3d09-dfd6-4dd6-889f-b52c12292f92",
   "metadata": {},
   "outputs": [
    {
     "name": "stdout",
     "output_type": "stream",
     "text": [
      "vocab size: 9061\n",
      "man 0.93574435\n",
      "{'man': 0.93574435, 'girl': 0.9012397, 'challenge': 0.3479978, 'pieces': 0.36661068, 'hong': 0.3513927}\n"
     ]
    }
   ],
   "source": [
    "embeddings_norm, vocab = get_embeddings_and_vocab('conservative_1000_epochs')\n",
    "get_analogy('boy', 'man', 'girl', embeddings_norm, vocab)"
   ]
  },
  {
   "cell_type": "code",
   "execution_count": 50,
   "id": "054d5ba7-9049-4746-b008-254e643c1fd8",
   "metadata": {},
   "outputs": [
    {
     "name": "stdout",
     "output_type": "stream",
     "text": [
      "vocab size: 9061\n",
      "london 1.0947541\n",
      "{'england': 0.44113284, 'france': 1.0877644, 'london': 1.0947541, 'desperation': 0.39885274, 'segregated': 0.3995838}\n"
     ]
    }
   ],
   "source": [
    "embeddings_norm, vocab = get_embeddings_and_vocab('conservative_1000_epochs')\n",
    "get_analogy('paris', 'france', 'london', embeddings_norm, vocab)"
   ]
  },
  {
   "cell_type": "code",
   "execution_count": 52,
   "id": "581cb30d-9cfa-48bf-8851-a32af1c1f8ca",
   "metadata": {},
   "outputs": [
    {
     "name": "stdout",
     "output_type": "stream",
     "text": [
      "vocab size: 10378\n",
      "london 0.9265596\n",
      "{'england': 0.34228924, 'france': 0.88700163, 'london': 0.9265596, 'italy': 0.36605185, 'stl': 0.3462011}\n"
     ]
    }
   ],
   "source": [
    "embeddings_norm, vocab = get_embeddings_and_vocab('the_donald_1000_epochs')\n",
    "get_analogy('paris', 'france', 'london', embeddings_norm, vocab)"
   ]
  },
  {
   "cell_type": "code",
   "execution_count": 64,
   "id": "cc168b05-0db7-4902-978e-3a528b80e813",
   "metadata": {},
   "outputs": [
    {
     "name": "stdout",
     "output_type": "stream",
     "text": [
      "vocab size: 10378\n",
      "dislike 1.1648291\n",
      "{'love': 1.1029745, 'feel': 0.50194085, 'hate': 0.65649307, 'hated': 0.54593873, 'dislike': 1.1648291}\n"
     ]
    }
   ],
   "source": [
    "embeddings_norm, vocab = get_embeddings_and_vocab('the_donald_1000_epochs')\n",
    "get_analogy('like', 'love', 'dislike', embeddings_norm, vocab)"
   ]
  },
  {
   "cell_type": "code",
   "execution_count": 68,
   "id": "a93ce0d2-ef89-444c-800d-d4629deb537a",
   "metadata": {},
   "outputs": [
    {
     "name": "stdout",
     "output_type": "stream",
     "text": [
      "vocab size: 10378\n",
      "landslide 0.43094638\n",
      "{'liberals': 0.34583837, 'illegals': 0.34671915, 'dem': 0.40632367, 'landslide': 0.43094638, 'electors': 0.36139715}\n"
     ]
    }
   ],
   "source": [
    "embeddings_norm, vocab = get_embeddings_and_vocab('the_donald_1000_epochs')\n",
    "get_analogy('biden', 'democrat', 'trump', embeddings_norm, vocab)"
   ]
  },
  {
   "cell_type": "code",
   "execution_count": 69,
   "id": "970ceee4-f5cb-4671-938a-66ab9b61410a",
   "metadata": {},
   "outputs": [
    {
     "name": "stdout",
     "output_type": "stream",
     "text": [
      "vocab size: 10378\n",
      "republican 0.38552612\n",
      "{'conservative': 0.358797, 'republican': 0.38552612, 'democratic': 0.30435225, 'dem': 0.31952465, 'hunt': 0.3087293}\n"
     ]
    }
   ],
   "source": [
    "embeddings_norm, vocab = get_embeddings_and_vocab('the_donald_1000_epochs')\n",
    "get_analogy('obama', 'democrat', 'trump', embeddings_norm, vocab)"
   ]
  },
  {
   "cell_type": "code",
   "execution_count": 70,
   "id": "7424a88c-a54d-4ff8-a5ff-c190559e231b",
   "metadata": {},
   "outputs": [
    {
     "name": "stdout",
     "output_type": "stream",
     "text": [
      "vocab size: 10378\n",
      "dem 0.39227346\n",
      "{'dem': 0.39227346, 'endorse': 0.31491223, 'classical': 0.30324933, 'discourse': 0.3406249, 'extremist': 0.3775786}\n"
     ]
    }
   ],
   "source": [
    "embeddings_norm, vocab = get_embeddings_and_vocab('the_donald_1000_epochs')\n",
    "get_analogy('liberal', 'democrat', 'conservative', embeddings_norm, vocab)"
   ]
  },
  {
   "cell_type": "code",
   "execution_count": 71,
   "id": "8f67708e-3297-4462-88e8-67f855fad576",
   "metadata": {},
   "outputs": [
    {
     "name": "stdout",
     "output_type": "stream",
     "text": [
      "vocab size: 9061\n",
      "republican 0.4410797\n",
      "{'republican': 0.4410797, 'immigrants': 0.31548265, 'dem': 0.4169313, 'beto': 0.33393866, 'radicals': 0.3171276}\n"
     ]
    }
   ],
   "source": [
    "embeddings_norm, vocab = get_embeddings_and_vocab('conservative_1000_epochs')\n",
    "get_analogy('liberal', 'democrat', 'conservative', embeddings_norm, vocab)"
   ]
  },
  {
   "cell_type": "code",
   "execution_count": 72,
   "id": "8140899a-8147-40a5-b4df-820d17c8bd4b",
   "metadata": {},
   "outputs": [
    {
     "name": "stdout",
     "output_type": "stream",
     "text": [
      "vocab size: 9061\n",
      "republican 0.41996822\n",
      "{'conservative': 0.38603973, 'republican': 0.41996822, 'nyc': 0.32983807, 'quiet': 0.31968936, 'counsel': 0.31419033}\n"
     ]
    }
   ],
   "source": [
    "embeddings_norm, vocab = get_embeddings_and_vocab('conservative_1000_epochs')\n",
    "get_analogy('biden', 'democrat', 'trump', embeddings_norm, vocab)"
   ]
  },
  {
   "cell_type": "code",
   "execution_count": 74,
   "id": "caa2f109-b652-404d-a1e8-ce3132765481",
   "metadata": {},
   "outputs": [
    {
     "name": "stdout",
     "output_type": "stream",
     "text": [
      "vocab size: 9061\n",
      "ucl 0.41692564\n",
      "{'elections': 0.39627045, 'ucl': 0.41692564, 'juventus': 0.3544297, 'dust': 0.40815508, 'shade': 0.3729683}\n"
     ]
    }
   ],
   "source": [
    "embeddings_norm, vocab = get_embeddings_and_vocab('conservative_1000_epochs')\n",
    "get_analogy('politics', 'election', 'football', embeddings_norm, vocab)"
   ]
  },
  {
   "cell_type": "code",
   "execution_count": 75,
   "id": "4d4dd087-2cc2-48df-86d0-b7d1040e9304",
   "metadata": {},
   "outputs": [
    {
     "name": "stdout",
     "output_type": "stream",
     "text": [
      "vocab size: 9061\n",
      "elections 0.41813532\n",
      "{'game': 0.3093809, 'elections': 0.41813532, 'heat': 0.32754976, 'fifth': 0.38782054, 'cents': 0.30739266}\n"
     ]
    }
   ],
   "source": [
    "embeddings_norm, vocab = get_embeddings_and_vocab('conservative_1000_epochs')\n",
    "get_analogy('politics', 'election', 'basketball', embeddings_norm, vocab)"
   ]
  },
  {
   "cell_type": "code",
   "execution_count": 76,
   "id": "f3052fef-e334-4923-9966-ecbfb9520cf3",
   "metadata": {},
   "outputs": [
    {
     "name": "stdout",
     "output_type": "stream",
     "text": [
      "vocab size: 9061\n",
      "fan 0.4524206\n",
      "{'fan': 0.4524206, 'series': 0.36706093, 'cup': 0.362842, 'announce': 0.35837916, 'desperation': 0.3587853}\n"
     ]
    }
   ],
   "source": [
    "embeddings_norm, vocab = get_embeddings_and_vocab('conservative_1000_epochs')\n",
    "get_analogy('voters', 'election', 'fans', embeddings_norm, vocab)"
   ]
  },
  {
   "cell_type": "code",
   "execution_count": null,
   "id": "81d8d825-3e15-43f5-a23c-05b223e49bae",
   "metadata": {},
   "outputs": [],
   "source": []
  },
  {
   "cell_type": "code",
   "execution_count": null,
   "id": "15a014a7-4839-4a8d-bb35-27d143c34c6b",
   "metadata": {},
   "outputs": [],
   "source": [
    "# non gendered examples\n",
    "# dem subs\n",
    "# list of analogy words -> compare agg values dem vs rep\n",
    "# similarity values -> compare dem vs rep\n",
    "# only [sport, sports] in wsd"
   ]
  },
  {
   "cell_type": "markdown",
   "id": "2937524a-c759-43e2-b986-a7cfd8753584",
   "metadata": {},
   "source": [
    "#### CLustering"
   ]
  },
  {
   "cell_type": "code",
   "execution_count": 49,
   "id": "1091400e-9230-45fe-ad68-009d3f859da5",
   "metadata": {},
   "outputs": [],
   "source": [
    "concept1 = ['red', 'blue', 'green', 'black']\n",
    "concept2 = ['trump', 'biden', 'president', 'election']\n",
    "concept3 = ['sports', 'game', 'play', 'score']\n",
    "concept4 = ['good', 'bad', 'terrible', 'great']\n",
    "concept5 = ['car', 'bus', 'train']"
   ]
  },
  {
   "cell_type": "code",
   "execution_count": 58,
   "id": "0c92dd82-a675-4fdb-88bf-d59da5e94534",
   "metadata": {},
   "outputs": [
    {
     "name": "stdout",
     "output_type": "stream",
     "text": [
      "vocab size: 10378\n"
     ]
    }
   ],
   "source": [
    "embeddings_norm, vocab = get_embeddings_and_vocab('the_donald_1000_epochs')"
   ]
  },
  {
   "cell_type": "code",
   "execution_count": 59,
   "id": "46ed3d35-375f-4553-9f9a-8632bcc49356",
   "metadata": {},
   "outputs": [],
   "source": [
    "kmeans = KMeans(n_clusters=4, random_state=0, n_init=\"auto\").fit(embeddings_norm)"
   ]
  },
  {
   "cell_type": "code",
   "execution_count": 62,
   "id": "2341af19-157f-4d9f-849e-d9aaab8f5bc5",
   "metadata": {},
   "outputs": [
    {
     "data": {
      "text/plain": [
       "array([1], dtype=int32)"
      ]
     },
     "execution_count": 62,
     "metadata": {},
     "output_type": "execute_result"
    }
   ],
   "source": [
    "vec = embeddings_norm[vocab['red']].reshape(1, -1)\n",
    "kmeans.predict(vec)"
   ]
  },
  {
   "cell_type": "code",
   "execution_count": 63,
   "id": "b7088727-67c8-489c-8c82-f08db5f7d246",
   "metadata": {},
   "outputs": [
    {
     "data": {
      "text/plain": [
       "array([1], dtype=int32)"
      ]
     },
     "execution_count": 63,
     "metadata": {},
     "output_type": "execute_result"
    }
   ],
   "source": [
    "vec = embeddings_norm[vocab['blue']].reshape(1, -1)\n",
    "kmeans.predict(vec)"
   ]
  },
  {
   "cell_type": "code",
   "execution_count": 64,
   "id": "f1e26357-2d5a-4816-b73b-a369e6bf1683",
   "metadata": {},
   "outputs": [
    {
     "data": {
      "text/plain": [
       "array([1], dtype=int32)"
      ]
     },
     "execution_count": 64,
     "metadata": {},
     "output_type": "execute_result"
    }
   ],
   "source": [
    "vec = embeddings_norm[vocab['trump']].reshape(1, -1)\n",
    "kmeans.predict(vec)"
   ]
  },
  {
   "cell_type": "code",
   "execution_count": 67,
   "id": "b229b5a7-7f87-4ab1-9106-184dbe33971d",
   "metadata": {},
   "outputs": [
    {
     "data": {
      "text/plain": [
       "array([1], dtype=int32)"
      ]
     },
     "execution_count": 67,
     "metadata": {},
     "output_type": "execute_result"
    }
   ],
   "source": [
    "vec = embeddings_norm[vocab['biden']].reshape(1, -1)\n",
    "kmeans.predict(vec)"
   ]
  },
  {
   "cell_type": "code",
   "execution_count": 60,
   "id": "b8e00099-61ac-409c-b13b-b91c16a4ae8c",
   "metadata": {},
   "outputs": [
    {
     "data": {
      "text/plain": [
       "array([1], dtype=int32)"
      ]
     },
     "execution_count": 60,
     "metadata": {},
     "output_type": "execute_result"
    }
   ],
   "source": [
    "vec = embeddings_norm[vocab['sports']].reshape(1, -1)\n",
    "kmeans.predict(vec)"
   ]
  },
  {
   "cell_type": "code",
   "execution_count": null,
   "id": "382bfd75-33b9-431d-b633-23ecde71c7a2",
   "metadata": {},
   "outputs": [],
   "source": []
  },
  {
   "cell_type": "code",
   "execution_count": 65,
   "id": "69c234a9-4e29-40f3-a18e-53c0d3ee35af",
   "metadata": {},
   "outputs": [
    {
     "data": {
      "text/plain": [
       "array([3], dtype=int32)"
      ]
     },
     "execution_count": 65,
     "metadata": {},
     "output_type": "execute_result"
    }
   ],
   "source": [
    "vec = embeddings_norm[vocab['bad']].reshape(1, -1)\n",
    "kmeans.predict(vec)"
   ]
  },
  {
   "cell_type": "code",
   "execution_count": 66,
   "id": "92b23c73-bdc5-4e8e-8684-56bc7e6ab482",
   "metadata": {},
   "outputs": [
    {
     "data": {
      "text/plain": [
       "array([3], dtype=int32)"
      ]
     },
     "execution_count": 66,
     "metadata": {},
     "output_type": "execute_result"
    }
   ],
   "source": [
    "vec = embeddings_norm[vocab['good']].reshape(1, -1)\n",
    "kmeans.predict(vec)"
   ]
  },
  {
   "cell_type": "code",
   "execution_count": null,
   "id": "2c67d180-45eb-49a7-bb36-fb732d06a617",
   "metadata": {},
   "outputs": [],
   "source": []
  },
  {
   "cell_type": "code",
   "execution_count": 69,
   "id": "737ebd81-6174-4fa8-8370-cef2623950b0",
   "metadata": {},
   "outputs": [
    {
     "data": {
      "text/plain": [
       "array([0], dtype=int32)"
      ]
     },
     "execution_count": 69,
     "metadata": {},
     "output_type": "execute_result"
    }
   ],
   "source": [
    "vec = embeddings_norm[vocab['car']].reshape(1, -1)\n",
    "kmeans.predict(vec)"
   ]
  },
  {
   "cell_type": "code",
   "execution_count": 70,
   "id": "1b479aee-1356-41d4-bcf0-da539ac31f05",
   "metadata": {},
   "outputs": [
    {
     "data": {
      "text/plain": [
       "array([0], dtype=int32)"
      ]
     },
     "execution_count": 70,
     "metadata": {},
     "output_type": "execute_result"
    }
   ],
   "source": [
    "vec = embeddings_norm[vocab['bus']].reshape(1, -1)\n",
    "kmeans.predict(vec)"
   ]
  },
  {
   "cell_type": "code",
   "execution_count": 71,
   "id": "baff856e-fa08-4d5c-a0aa-1de2f16a574d",
   "metadata": {},
   "outputs": [
    {
     "data": {
      "text/plain": [
       "array([0], dtype=int32)"
      ]
     },
     "execution_count": 71,
     "metadata": {},
     "output_type": "execute_result"
    }
   ],
   "source": [
    "vec = embeddings_norm[vocab['train']].reshape(1, -1)\n",
    "kmeans.predict(vec)"
   ]
  },
  {
   "cell_type": "code",
   "execution_count": null,
   "id": "e7dcc7b2-10f2-4124-adb2-91b5cc60508a",
   "metadata": {},
   "outputs": [],
   "source": []
  },
  {
   "cell_type": "markdown",
   "id": "ee41fdd6-03a6-422b-9581-6b99898bfd12",
   "metadata": {},
   "source": [
    "#### Outlier detection"
   ]
  },
  {
   "cell_type": "code",
   "execution_count": 106,
   "id": "cc198aba-581b-4e69-a19f-f07f5752f707",
   "metadata": {},
   "outputs": [
    {
     "name": "stdout",
     "output_type": "stream",
     "text": [
      "vocab size: 10378\n"
     ]
    }
   ],
   "source": [
    "embeddings_norm, vocab = get_embeddings_and_vocab('the_donald_1000_epochs')"
   ]
  },
  {
   "cell_type": "code",
   "execution_count": 99,
   "id": "2091b2df-289d-4ea3-8963-9b9ecebe8b76",
   "metadata": {},
   "outputs": [
    {
     "name": "stdout",
     "output_type": "stream",
     "text": [
      "bus 0.021671796683222055\n"
     ]
    }
   ],
   "source": [
    "get_outlier(['apple', 'orange', 'bus'], embeddings_norm, vocab)"
   ]
  },
  {
   "cell_type": "code",
   "execution_count": 100,
   "id": "eb2e9c72-f891-469e-b820-3e00411bbe4d",
   "metadata": {},
   "outputs": [
    {
     "name": "stdout",
     "output_type": "stream",
     "text": [
      "president -0.03133737722722193\n"
     ]
    }
   ],
   "source": [
    "get_outlier(['sports', 'game', 'play', 'president'], embeddings_norm, vocab)"
   ]
  },
  {
   "cell_type": "code",
   "execution_count": 56,
   "id": "40efb3a4-06b1-477f-85e0-9cac4aa0f23a",
   "metadata": {},
   "outputs": [
    {
     "name": "stdout",
     "output_type": "stream",
     "text": [
      "france -0.006834672763943672\n"
     ]
    }
   ],
   "source": [
    "get_outlier(['red', 'france', 'green', 'blue'], embeddings_norm, vocab)"
   ]
  },
  {
   "cell_type": "code",
   "execution_count": 57,
   "id": "da623edc-512c-4070-b62b-e72f24f39354",
   "metadata": {},
   "outputs": [
    {
     "name": "stdout",
     "output_type": "stream",
     "text": [
      "apple 0.008264641437563114\n"
     ]
    }
   ],
   "source": [
    "get_outlier(['trump', 'biden', 'president', 'election', 'apple'], embeddings_norm, vocab)"
   ]
  },
  {
   "cell_type": "code",
   "execution_count": null,
   "id": "09372927-782b-4f93-a355-46d21e65e8f2",
   "metadata": {},
   "outputs": [],
   "source": []
  },
  {
   "cell_type": "markdown",
   "id": "40fc46b0-d2be-4669-9038-3ae428a9da68",
   "metadata": {},
   "source": [
    "#### Agg eval"
   ]
  },
  {
   "cell_type": "code",
   "execution_count": 65,
   "id": "c0182266-a853-4aaf-bcb2-54dd734bbd06",
   "metadata": {},
   "outputs": [],
   "source": [
    "# sensitive to choice of words\n",
    "# how to choose words?\n",
    "\n",
    "politics_words = ['voters', 'election', 'president', 'democrats', 'republicans', 'politicians', 'media']\n",
    "sports_words = ['fans', 'race', 'captain', 'team', 'players', 'cup', 'trophy']"
   ]
  },
  {
   "cell_type": "markdown",
   "id": "dbea8bcd-1196-46ef-8f1e-8860e6623f7f",
   "metadata": {},
   "source": [
    "##### average pairwise similarity between groups"
   ]
  },
  {
   "cell_type": "code",
   "execution_count": 66,
   "id": "d71940f0-f15f-475d-aa2d-acdc48ac7bc3",
   "metadata": {
    "scrolled": true
   },
   "outputs": [],
   "source": [
    "def avg_sim(sub, l1, l2):\n",
    "    embeddings_norm, vocab = get_embeddings_and_vocab(sub)\n",
    "    all_pairs = []\n",
    "    for p in l1:\n",
    "        all_pairs.extend([(p,s) for s in l2])\n",
    "    sim_list = []\n",
    "    for pair in all_pairs:\n",
    "        sim = get_sim(pair[0], pair[1], embeddings_norm, vocab)\n",
    "        sim_list.append(sim)\n",
    "    print(statistics.mean(sim_list))"
   ]
  },
  {
   "cell_type": "code",
   "execution_count": 87,
   "id": "ace0efff-9c6e-4e7f-97c4-75f255ece889",
   "metadata": {},
   "outputs": [
    {
     "name": "stdout",
     "output_type": "stream",
     "text": [
      "vocab size: 10378\n",
      "vocab size: 10378\n",
      "0.013313849\n"
     ]
    }
   ],
   "source": [
    "embeddings_norm, vocab = get_embeddings_and_vocab('the_donald_1000_epochs') # freq 20, sample 100000\n",
    "politics_words = list(get_top_similar('politics', embeddings_norm, vocab, topN=100).keys())\n",
    "sports_words = list(get_top_similar('sports', embeddings_norm, vocab, topN=100).keys())\n",
    "\n",
    "avg_sim('the_donald_1000_epochs', politics_words, sports_words)"
   ]
  },
  {
   "cell_type": "code",
   "execution_count": 88,
   "id": "b1d140d7-6e0a-4769-805a-1533fa19ba43",
   "metadata": {},
   "outputs": [
    {
     "name": "stdout",
     "output_type": "stream",
     "text": [
      "vocab size: 9061\n",
      "vocab size: 9061\n",
      "0.016456766\n"
     ]
    }
   ],
   "source": [
    "embeddings_norm, vocab = get_embeddings_and_vocab('conservative_1000_epochs') # freq 20, sample 100000\n",
    "politics_words = list(get_top_similar('politics', embeddings_norm, vocab, topN=100).keys())\n",
    "sports_words = list(get_top_similar('sports', embeddings_norm, vocab, topN=100).keys())\n",
    "\n",
    "avg_sim('conservative_1000_epochs', politics_words, sports_words)"
   ]
  },
  {
   "cell_type": "code",
   "execution_count": 89,
   "id": "1e79a1c4-e665-4ece-b219-cabbca2b1dc2",
   "metadata": {},
   "outputs": [
    {
     "name": "stdout",
     "output_type": "stream",
     "text": [
      "vocab size: 10715\n",
      "vocab size: 10715\n",
      "0.023214294\n"
     ]
    }
   ],
   "source": [
    "embeddings_norm, vocab = get_embeddings_and_vocab('politics_1000_epochs') # freq 20, sample 100000\n",
    "politics_words = list(get_top_similar('politics', embeddings_norm, vocab, topN=100).keys())\n",
    "sports_words = list(get_top_similar('sports', embeddings_norm, vocab, topN=100).keys())\n",
    "\n",
    "avg_sim('politics_1000_epochs', politics_words, sports_words)"
   ]
  },
  {
   "cell_type": "markdown",
   "id": "fb0babc0-ed20-4b1c-87e0-ba0ece34b60f",
   "metadata": {},
   "source": [
    "##### centroid distance"
   ]
  },
  {
   "cell_type": "code",
   "execution_count": 70,
   "id": "ee089c5e-a92b-458a-b48f-7910be84ab09",
   "metadata": {},
   "outputs": [],
   "source": [
    "def get_cent(word_list, embeddings_norm, vocab):\n",
    "    vec_list = []\n",
    "    for word in word_list:\n",
    "        word_id = vocab[word]\n",
    "        if word_id == 0:\n",
    "            print(\"Out of vocabulary word\")\n",
    "            return\n",
    "        word_vec = embeddings_norm[word_id]\n",
    "        vec_list.append(word_vec)\n",
    "    cent = np.mean(np.array(vec_list), axis=0)\n",
    "    return cent\n",
    "    \n",
    "\n",
    "def cent_dist(sub, l1, l2):\n",
    "    embeddings_norm, vocab = get_embeddings_and_vocab(sub)\n",
    "    l1_cent = get_cent(l1, embeddings_norm, vocab)\n",
    "    l2_cent = get_cent(l2, embeddings_norm, vocab)\n",
    "    print(np.linalg.norm(l1_cent - l2_cent))"
   ]
  },
  {
   "cell_type": "code",
   "execution_count": 90,
   "id": "7184e555-0b22-4d1a-a676-88fe8b3a0c30",
   "metadata": {},
   "outputs": [
    {
     "name": "stdout",
     "output_type": "stream",
     "text": [
      "vocab size: 10715\n",
      "vocab size: 10715\n",
      "0.23763177\n"
     ]
    }
   ],
   "source": [
    "embeddings_norm, vocab = get_embeddings_and_vocab('politics_1000_epochs')\n",
    "politics_words = list(get_top_similar('politics', embeddings_norm, vocab, topN=100).keys())\n",
    "sports_words = list(get_top_similar('sports', embeddings_norm, vocab, topN=100).keys())\n",
    "cent_dist('politics_1000_epochs', politics_words, sports_words)"
   ]
  },
  {
   "cell_type": "code",
   "execution_count": 91,
   "id": "258d3f48-9a78-44fd-a145-9b4adc3dd171",
   "metadata": {},
   "outputs": [
    {
     "name": "stdout",
     "output_type": "stream",
     "text": [
      "vocab size: 10378\n",
      "vocab size: 10378\n",
      "0.262931\n"
     ]
    }
   ],
   "source": [
    "embeddings_norm, vocab = get_embeddings_and_vocab('the_donald_1000_epochs')\n",
    "politics_words = list(get_top_similar('politics', embeddings_norm, vocab, topN=100).keys())\n",
    "sports_words = list(get_top_similar('sports', embeddings_norm, vocab, topN=100).keys())\n",
    "cent_dist('the_donald_1000_epochs', politics_words, sports_words)"
   ]
  },
  {
   "cell_type": "code",
   "execution_count": 92,
   "id": "4c5ed9e7-4677-42f6-ad5b-eb5d56bae6ca",
   "metadata": {},
   "outputs": [
    {
     "name": "stdout",
     "output_type": "stream",
     "text": [
      "vocab size: 9061\n",
      "vocab size: 9061\n",
      "0.24582419\n"
     ]
    }
   ],
   "source": [
    "embeddings_norm, vocab = get_embeddings_and_vocab('conservative_1000_epochs')\n",
    "politics_words = list(get_top_similar('politics', embeddings_norm, vocab, topN=100).keys())\n",
    "sports_words = list(get_top_similar('sports', embeddings_norm, vocab, topN=100).keys())\n",
    "cent_dist('conservative_1000_epochs', politics_words, sports_words)"
   ]
  },
  {
   "cell_type": "code",
   "execution_count": null,
   "id": "985d6614-5569-4f5d-80ec-3ccef5787838",
   "metadata": {},
   "outputs": [],
   "source": []
  }
 ],
 "metadata": {
  "kernelspec": {
   "display_name": "Python 3 (ipykernel)",
   "language": "python",
   "name": "python3"
  },
  "language_info": {
   "codemirror_mode": {
    "name": "ipython",
    "version": 3
   },
   "file_extension": ".py",
   "mimetype": "text/x-python",
   "name": "python",
   "nbconvert_exporter": "python",
   "pygments_lexer": "ipython3",
   "version": "3.10.4"
  }
 },
 "nbformat": 4,
 "nbformat_minor": 5
}
