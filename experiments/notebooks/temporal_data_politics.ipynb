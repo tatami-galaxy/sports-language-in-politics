{
 "cells": [
  {
   "cell_type": "code",
   "execution_count": 3,
   "id": "efb59604-f087-4b28-98cc-539b52f48c2a",
   "metadata": {},
   "outputs": [],
   "source": [
    "import polars as pl\n",
    "import re"
   ]
  },
  {
   "cell_type": "code",
   "execution_count": 12,
   "id": "3cdd9b6a-8003-460c-a350-73b4a90c1ca9",
   "metadata": {},
   "outputs": [],
   "source": [
    "data_df = pl.read_csv('/users/ujan/sports-language-in-politics/data/processed/politics_main_10m.csv').drop_nulls()"
   ]
  },
  {
   "cell_type": "code",
   "execution_count": 13,
   "id": "fb809097-1239-4161-80b7-df625e231cf8",
   "metadata": {},
   "outputs": [],
   "source": [
    "sample_df = pl.read_csv('/users/ujan/sports-language-in-politics/data/processed/politics_sample.csv').drop_nulls()"
   ]
  },
  {
   "cell_type": "code",
   "execution_count": 15,
   "id": "af646caa-a564-47e6-8bf7-45c6176d0044",
   "metadata": {},
   "outputs": [
    {
     "name": "stdout",
     "output_type": "stream",
     "text": [
      "35\n",
      "['dn0hpik', 'dn1nngt', 'dn15o4x', 'dn1m4iz', 'dn0oupd', 'dn0xljc', 'dn19jhh', 'dn03tea', 'dn036c3', 'dn11c7j', 'dn15t3j', 'dn08yte', 'dn1ijoa', 'dn075hs', 'dn1iqej', 'dmeiy8o', 'dn05hr4', 'dn0ylen', 'dmej4w1', 'dn16ntw', 'dn162mi', 'dn0t4lv', 'dn0a0ut', 'dn152h9', 'dn1my9w', 'dn1is8v', 'hq5xyn1', 'dn0rkr9', 'dn19ygh', 'dn0q8ks', 'dn0bdql', 'dn06ice', 'crrcnw6', 'dn0gtgh', 'crrjr3p']\n"
     ]
    }
   ],
   "source": [
    "common_ids = []\n",
    "new_set = set(data_df['id'].to_list())\n",
    "sample_set = set(sample_df['id'].to_list())\n",
    "\n",
    "count = 0\n",
    "for sample in sample_set:\n",
    "    if sample in new_set:\n",
    "        count += 1\n",
    "        common_ids.append(sample)\n",
    "\n",
    "print(len(common_ids))\n",
    "print(common_ids)"
   ]
  },
  {
   "cell_type": "code",
   "execution_count": 16,
   "id": "6c2ffc93-7854-40ce-a0b7-a37f08f61e8b",
   "metadata": {},
   "outputs": [],
   "source": [
    "merged_df = pl.concat([data_df, sample_df])\n",
    "merged_df = merged_df.filter(~pl.col('id').is_in(common_ids))\n",
    "len(merged_df)"
   ]
  },
  {
   "cell_type": "code",
   "execution_count": 20,
   "id": "d3525956-8fb1-48ef-bd50-2b0ffeb8570d",
   "metadata": {},
   "outputs": [],
   "source": [
    "merged_df.write_csv('~/sports-language-in-politics/data/processed/politics_merged_13m.csv', separator=\",\")"
   ]
  },
  {
   "cell_type": "markdown",
   "id": "6c799f12-45d3-4a8c-881b-8059c80933c2",
   "metadata": {},
   "source": [
    "#### cast datetime merged df"
   ]
  },
  {
   "cell_type": "code",
   "execution_count": 21,
   "id": "33e046e1-ca4b-4732-8cf7-aaa510fa3866",
   "metadata": {},
   "outputs": [],
   "source": [
    "merged_df = pl.read_csv('/users/ujan/sports-language-in-politics/data/processed/politics_merged_13m.csv').drop_nulls()"
   ]
  },
  {
   "cell_type": "code",
   "execution_count": 22,
   "id": "a1e40e8a-c7e5-4574-a33c-3b92de618421",
   "metadata": {},
   "outputs": [],
   "source": [
    "MILLISECONDS_IN_SECOND = 1000\n",
    "datetimes = merged_df.select((pl.col(\"created_utc\") * MILLISECONDS_IN_SECOND).cast(pl.Datetime).dt.with_time_unit(\"ms\").alias(\"datetime\"))"
   ]
  },
  {
   "cell_type": "code",
   "execution_count": 23,
   "id": "010b1a97-cfe6-4bbc-b963-3d07f8406175",
   "metadata": {
    "scrolled": true
   },
   "outputs": [
    {
     "name": "stderr",
     "output_type": "stream",
     "text": [
      "/var/folders/by/rktr_w596p97pmt8_cbknvs80000gn/T/ipykernel_15106/599305466.py:1: DeprecationWarning: `replace` is deprecated. DataFrame.replace is deprecated and will be removed in a future version. Please use\n",
      "    df = df.with_columns(new_column.alias(column_name))\n",
      "instead.\n",
      "  merged_df.replace(\"created_utc\", datetimes['datetime'].dt.date())\n"
     ]
    },
    {
     "data": {
      "text/html": [
       "<div><style>\n",
       ".dataframe > thead > tr > th,\n",
       ".dataframe > tbody > tr > td {\n",
       "  text-align: right;\n",
       "  white-space: pre-wrap;\n",
       "}\n",
       "</style>\n",
       "<small>shape: (13_203_829, 7)</small><table border=\"1\" class=\"dataframe\"><thead><tr><th>id</th><th>created_utc</th><th>subreddit</th><th>category</th><th>super_category</th><th>body</th><th>author</th></tr><tr><td>str</td><td>date</td><td>str</td><td>str</td><td>str</td><td>str</td><td>str</td></tr></thead><tbody><tr><td>&quot;hg3k6ci&quot;</td><td>2021-10-10</td><td>&quot;eu&quot;</td><td>&quot;politics_2019&quot;</td><td>&quot;politics&quot;</td><td>&quot;&amp;gt; Under the…</td><td>&quot;delete013&quot;</td></tr><tr><td>&quot;esqrmpn&quot;</td><td>2019-07-04</td><td>&quot;AOC&quot;</td><td>&quot;politics_2019&quot;</td><td>&quot;politics&quot;</td><td>&quot;Yet another de…</td><td>&quot;CaptainAssPlun…</td></tr><tr><td>&quot;fqhvq8d&quot;</td><td>2020-05-13</td><td>&quot;AOC&quot;</td><td>&quot;politics_2019&quot;</td><td>&quot;politics&quot;</td><td>&quot;http://www.chi…</td><td>&quot;RanDomino5&quot;</td></tr><tr><td>&quot;fq6h3em&quot;</td><td>2020-05-10</td><td>&quot;AOC&quot;</td><td>&quot;politics_2019&quot;</td><td>&quot;politics&quot;</td><td>&quot;https://www.no…</td><td>&quot;RanDomino5&quot;</td></tr><tr><td>&quot;ga2pgeh&quot;</td><td>2020-10-25</td><td>&quot;AOC&quot;</td><td>&quot;politics_2019&quot;</td><td>&quot;politics&quot;</td><td>&quot;He has a hard …</td><td>&quot;ChiraqBluline&quot;</td></tr><tr><td>&quot;f82hd5u&quot;</td><td>2019-11-19</td><td>&quot;AOC&quot;</td><td>&quot;politics_2019&quot;</td><td>&quot;politics&quot;</td><td>&quot;Can we think a…</td><td>&quot;balacio&quot;</td></tr><tr><td>&quot;g6pe38g&quot;</td><td>2020-09-26</td><td>&quot;AOC&quot;</td><td>&quot;politics_2019&quot;</td><td>&quot;politics&quot;</td><td>&quot;Uh... Yes, *I’…</td><td>&quot;noshoesyoulose…</td></tr><tr><td>&quot;czdqjdg&quot;</td><td>2016-01-27</td><td>&quot;MLS&quot;</td><td>&quot;soccer&quot;</td><td>&quot;sports&quot;</td><td>&quot;&amp;gt; &quot;time-out…</td><td>&quot;brakiri&quot;</td></tr><tr><td>&quot;g21rkdd&quot;</td><td>2020-08-19</td><td>&quot;MLS&quot;</td><td>&quot;soccer&quot;</td><td>&quot;sports&quot;</td><td>&quot;Exactly. The p…</td><td>&quot;smala017&quot;</td></tr><tr><td>&quot;da9kt5e&quot;</td><td>2016-11-21</td><td>&quot;MLS&quot;</td><td>&quot;soccer&quot;</td><td>&quot;sports&quot;</td><td>&quot;Since soccer h…</td><td>&quot;ThePioneer99&quot;</td></tr><tr><td>&quot;drlchgq&quot;</td><td>2017-12-21</td><td>&quot;MLS&quot;</td><td>&quot;soccer&quot;</td><td>&quot;sports&quot;</td><td>&quot;The original a…</td><td>&quot;PNWQuakesFan&quot;</td></tr><tr><td>&quot;cvsh59o&quot;</td><td>2015-10-08</td><td>&quot;MLS&quot;</td><td>&quot;soccer&quot;</td><td>&quot;sports&quot;</td><td>&quot;Let Miazga do …</td><td>&quot;DrPepperHixon&quot;</td></tr><tr><td>&hellip;</td><td>&hellip;</td><td>&hellip;</td><td>&hellip;</td><td>&hellip;</td><td>&hellip;</td><td>&hellip;</td></tr><tr><td>&quot;fo8rz8m&quot;</td><td>2020-04-23</td><td>&quot;PresidentialRa…</td><td>&quot;politics_2019&quot;</td><td>&quot;politics&quot;</td><td>&quot;HAha orange ma…</td><td>&quot;p00t00ass&quot;</td></tr><tr><td>&quot;g09vinx&quot;</td><td>2020-08-04</td><td>&quot;PresidentialRa…</td><td>&quot;politics_2019&quot;</td><td>&quot;politics&quot;</td><td>&quot;&amp;gt; Don&#x27;t cri…</td><td>&quot;GreenSuspect&quot;</td></tr><tr><td>&quot;fbx2g1s&quot;</td><td>2019-12-24</td><td>&quot;PresidentialRa…</td><td>&quot;politics_2019&quot;</td><td>&quot;politics&quot;</td><td>&quot;Fuck you for t…</td><td>&quot;curly_spork&quot;</td></tr><tr><td>&quot;g2qnb5d&quot;</td><td>2020-08-24</td><td>&quot;PresidentialRa…</td><td>&quot;politics_2019&quot;</td><td>&quot;politics&quot;</td><td>&quot;Yes. Yes I am.…</td><td>&quot;Neetoburrito33…</td></tr><tr><td>&quot;fm0hmws&quot;</td><td>2020-03-31</td><td>&quot;PresidentialRa…</td><td>&quot;politics_2019&quot;</td><td>&quot;politics&quot;</td><td>&quot;&amp;gt; He&#x27;s not …</td><td>&quot;toxicneet&quot;</td></tr><tr><td>&quot;fz5rb5l&quot;</td><td>2020-07-25</td><td>&quot;PresidentialRa…</td><td>&quot;politics_2019&quot;</td><td>&quot;politics&quot;</td><td>&quot;He has the mos…</td><td>&quot;Snuffleupagus0…</td></tr><tr><td>&quot;fhxj6h1&quot;</td><td>2020-02-17</td><td>&quot;PresidentialRa…</td><td>&quot;politics_2019&quot;</td><td>&quot;politics&quot;</td><td>&quot;I like ~~eatin…</td><td>&quot;NicolasName&quot;</td></tr><tr><td>&quot;fq7fc99&quot;</td><td>2020-05-10</td><td>&quot;PresidentialRa…</td><td>&quot;politics_2019&quot;</td><td>&quot;politics&quot;</td><td>&quot;Did you even r…</td><td>&quot;Lzinger&quot;</td></tr><tr><td>&quot;g1bxk9o&quot;</td><td>2020-08-13</td><td>&quot;PresidentialRa…</td><td>&quot;politics_2019&quot;</td><td>&quot;politics&quot;</td><td>&quot;&amp;gt;Please you…</td><td>&quot;Rxef3RxeX92QCN…</td></tr><tr><td>&quot;cmx4mgw&quot;</td><td>2014-12-17</td><td>&quot;ShitRConservat…</td><td>&quot;politics_2019&quot;</td><td>&quot;politics&quot;</td><td>&quot;I asked a simp…</td><td>&quot;NDIrish27&quot;</td></tr><tr><td>&quot;hdqh9ln&quot;</td><td>2021-09-21</td><td>&quot;UnitedKingdomP…</td><td>&quot;politics_2019&quot;</td><td>&quot;politics&quot;</td><td>&quot;Re-orienting t…</td><td>&quot;iloomynazi&quot;</td></tr><tr><td>&quot;cr6wakg&quot;</td><td>2015-05-12</td><td>&quot;politicalfactc…</td><td>&quot;politics_2019&quot;</td><td>&quot;politics&quot;</td><td>&quot;&amp;gt; If you wa…</td><td>&quot;BenMcLean&quot;</td></tr></tbody></table></div>"
      ],
      "text/plain": [
       "shape: (13_203_829, 7)\n",
       "┌─────────┬─────────────┬──────────────┬──────────────┬──────────────┬──────────────┬──────────────┐\n",
       "│ id      ┆ created_utc ┆ subreddit    ┆ category     ┆ super_catego ┆ body         ┆ author       │\n",
       "│ ---     ┆ ---         ┆ ---          ┆ ---          ┆ ry           ┆ ---          ┆ ---          │\n",
       "│ str     ┆ date        ┆ str          ┆ str          ┆ ---          ┆ str          ┆ str          │\n",
       "│         ┆             ┆              ┆              ┆ str          ┆              ┆              │\n",
       "╞═════════╪═════════════╪══════════════╪══════════════╪══════════════╪══════════════╪══════════════╡\n",
       "│ hg3k6ci ┆ 2021-10-10  ┆ eu           ┆ politics_201 ┆ politics     ┆ &gt; Under   ┆ delete013    │\n",
       "│         ┆             ┆              ┆ 9            ┆              ┆ the handover ┆              │\n",
       "│         ┆             ┆              ┆              ┆              ┆ treaty       ┆              │\n",
       "│         ┆             ┆              ┆              ┆              ┆              ┆              │\n",
       "│         ┆             ┆              ┆              ┆              ┆ …            ┆              │\n",
       "│ esqrmpn ┆ 2019-07-04  ┆ AOC          ┆ politics_201 ┆ politics     ┆ Yet another  ┆ CaptainAssPl │\n",
       "│         ┆             ┆              ┆ 9            ┆              ┆ death wish/  ┆ underer      │\n",
       "│         ┆             ┆              ┆              ┆              ┆ threat       ┆              │\n",
       "│         ┆             ┆              ┆              ┆              ┆              ┆              │\n",
       "│         ┆             ┆              ┆              ┆              ┆ …            ┆              │\n",
       "│ fqhvq8d ┆ 2020-05-13  ┆ AOC          ┆ politics_201 ┆ politics     ┆ http://www.c ┆ RanDomino5   │\n",
       "│         ┆             ┆              ┆ 9            ┆              ┆ hicagonow.co ┆              │\n",
       "│         ┆             ┆              ┆              ┆              ┆ m/kelly-…    ┆              │\n",
       "│ fq6h3em ┆ 2020-05-10  ┆ AOC          ┆ politics_201 ┆ politics     ┆ https://www. ┆ RanDomino5   │\n",
       "│         ┆             ┆              ┆ 9            ┆              ┆ nolo.com/leg ┆              │\n",
       "│         ┆             ┆              ┆              ┆              ┆ al-encyc…    ┆              │\n",
       "│ …       ┆ …           ┆ …            ┆ …            ┆ …            ┆ …            ┆ …            │\n",
       "│ g1bxk9o ┆ 2020-08-13  ┆ Presidential ┆ politics_201 ┆ politics     ┆ &gt;Please   ┆ Rxef3RxeX92Q │\n",
       "│         ┆             ┆ RaceMemes    ┆ 9            ┆              ┆ your a sad   ┆ CNZ          │\n",
       "│         ┆             ┆              ┆              ┆              ┆ neoliberal…  ┆              │\n",
       "│ cmx4mgw ┆ 2014-12-17  ┆ ShitRConserv ┆ politics_201 ┆ politics     ┆ I asked a    ┆ NDIrish27    │\n",
       "│         ┆             ┆ ativeSays    ┆ 9            ┆              ┆ simple       ┆              │\n",
       "│         ┆             ┆              ┆              ┆              ┆ question.    ┆              │\n",
       "│ hdqh9ln ┆ 2021-09-21  ┆ UnitedKingdo ┆ politics_201 ┆ politics     ┆ Re-orienting ┆ iloomynazi   │\n",
       "│         ┆             ┆ mPolitics    ┆ 9            ┆              ┆ trade from   ┆              │\n",
       "│         ┆             ┆              ┆              ┆              ┆ the EU t…    ┆              │\n",
       "│ cr6wakg ┆ 2015-05-12  ┆ politicalfac ┆ politics_201 ┆ politics     ┆ &gt; If you  ┆ BenMcLean    │\n",
       "│         ┆             ┆ tchecking    ┆ 9            ┆              ┆ want to      ┆              │\n",
       "│         ┆             ┆              ┆              ┆              ┆ debate the   ┆              │\n",
       "│         ┆             ┆              ┆              ┆              ┆ m…           ┆              │\n",
       "└─────────┴─────────────┴──────────────┴──────────────┴──────────────┴──────────────┴──────────────┘"
      ]
     },
     "execution_count": 23,
     "metadata": {},
     "output_type": "execute_result"
    }
   ],
   "source": [
    "merged_df.replace(\"created_utc\", datetimes['datetime'].dt.date())"
   ]
  },
  {
   "cell_type": "markdown",
   "id": "d5df4b57-1e28-4812-8048-377e282bba3f",
   "metadata": {},
   "source": [
    "#### analyze merged df"
   ]
  },
  {
   "cell_type": "code",
   "execution_count": 25,
   "id": "cc7555fc-27ad-4215-8dbf-024df6247fd3",
   "metadata": {},
   "outputs": [],
   "source": [
    "df_15_21 = merged_df.filter(pl.col('created_utc').dt.year().is_in([2015]))\n",
    "df_15_21_oct = df_15_21.filter(pl.col('created_utc').dt.month().is_in([9,10,11,12]))"
   ]
  },
  {
   "cell_type": "code",
   "execution_count": 26,
   "id": "74a9a52d-bbf6-4d4b-a6b6-9839465241b4",
   "metadata": {},
   "outputs": [
    {
     "data": {
      "text/plain": [
       "43394"
      ]
     },
     "execution_count": 26,
     "metadata": {},
     "output_type": "execute_result"
    }
   ],
   "source": [
    "len(df_15_21_oct.filter((pl.col('subreddit') == 'politics')))"
   ]
  },
  {
   "cell_type": "code",
   "execution_count": 74,
   "id": "7c66f650-ae4d-453a-8e59-71c22935417c",
   "metadata": {},
   "outputs": [
    {
     "name": "stdout",
     "output_type": "stream",
     "text": [
      "total comments : 34212\n",
      "total words : 1150026\n"
     ]
    }
   ],
   "source": [
    "donald_df = df_15_21_oct.filter((pl.col('subreddit') == 'The_Donald'))\n",
    "\n",
    "comments = [comment.replace(\"'\", '') for comment in donald_df['body'].to_list()]\n",
    "comments = [re.sub(r\"[^a-zA-Z0-9]+\", ' ', comment).lower() for comment in comments]\n",
    "\n",
    "comments_long = []\n",
    "    # filter by char\n",
    "for c in range(len(comments)):\n",
    "    if len(comments[c]) >= 50:\n",
    "        comments_long.append(comments[c])\n",
    "comments = comments_long\n",
    "\n",
    "print('total comments : {}'.format(len(comments)))\n",
    "word_count = 0\n",
    "for comment in comments:\n",
    "    word_count += len(comment.split())\n",
    "print('total words : {}'.format(word_count))"
   ]
  },
  {
   "cell_type": "code",
   "execution_count": null,
   "id": "8c0060cd-340f-4c06-8cf9-d4ca1c76e932",
   "metadata": {},
   "outputs": [],
   "source": []
  },
  {
   "cell_type": "code",
   "execution_count": 73,
   "id": "06c5c44c-2184-4530-a194-3ac516ac0a9d",
   "metadata": {},
   "outputs": [
    {
     "data": {
      "text/plain": [
       "10143"
      ]
     },
     "execution_count": 73,
     "metadata": {},
     "output_type": "execute_result"
    }
   ],
   "source": [
    "len(df_15_21_oct.filter((pl.col('subreddit') == 'Conservative')))"
   ]
  },
  {
   "cell_type": "code",
   "execution_count": 62,
   "id": "69407ccb-edae-4ab0-9955-c3fb1748525c",
   "metadata": {},
   "outputs": [
    {
     "data": {
      "text/plain": [
       "2605"
      ]
     },
     "execution_count": 62,
     "metadata": {},
     "output_type": "execute_result"
    }
   ],
   "source": [
    "len(df_15_21_oct.filter((pl.col('subreddit') == 'AskTrumpSupporters')))"
   ]
  },
  {
   "cell_type": "code",
   "execution_count": 64,
   "id": "a4acb184-ac23-41d6-93fe-d3fac7fcf5e4",
   "metadata": {},
   "outputs": [
    {
     "data": {
      "text/plain": [
       "19"
      ]
     },
     "execution_count": 64,
     "metadata": {},
     "output_type": "execute_result"
    }
   ],
   "source": [
    "len(df_15_21_oct.filter((pl.col('subreddit') == 'Donald_Trump')))"
   ]
  },
  {
   "cell_type": "code",
   "execution_count": 72,
   "id": "c4f7f7e4-d211-42ca-9ac2-b400ca33a0f6",
   "metadata": {},
   "outputs": [
    {
     "data": {
      "text/plain": [
       "153547"
      ]
     },
     "execution_count": 72,
     "metadata": {},
     "output_type": "execute_result"
    }
   ],
   "source": [
    "len(df_15_21_oct.filter((pl.col('subreddit') == 'politics')))"
   ]
  },
  {
   "cell_type": "code",
   "execution_count": null,
   "id": "81f9ea4e-d15e-4787-972c-5314a3943e89",
   "metadata": {},
   "outputs": [],
   "source": []
  }
 ],
 "metadata": {
  "kernelspec": {
   "display_name": "Python 3 (ipykernel)",
   "language": "python",
   "name": "python3"
  },
  "language_info": {
   "codemirror_mode": {
    "name": "ipython",
    "version": 3
   },
   "file_extension": ".py",
   "mimetype": "text/x-python",
   "name": "python",
   "nbconvert_exporter": "python",
   "pygments_lexer": "ipython3",
   "version": "3.10.4"
  }
 },
 "nbformat": 4,
 "nbformat_minor": 5
}
