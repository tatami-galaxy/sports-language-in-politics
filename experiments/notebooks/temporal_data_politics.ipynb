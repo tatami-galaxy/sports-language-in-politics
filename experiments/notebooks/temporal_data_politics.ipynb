{
 "cells": [
  {
   "cell_type": "code",
   "execution_count": 1,
   "id": "efb59604-f087-4b28-98cc-539b52f48c2a",
   "metadata": {},
   "outputs": [],
   "source": [
    "import polars as pl\n",
    "import re"
   ]
  },
  {
   "cell_type": "code",
   "execution_count": 67,
   "id": "3cdd9b6a-8003-460c-a350-73b4a90c1ca9",
   "metadata": {},
   "outputs": [],
   "source": [
    "data_df = pl.read_csv('/users/ujan/sports-language-in-politics/data/processed/politics_main_10m.csv').drop_nulls()"
   ]
  },
  {
   "cell_type": "raw",
   "id": "70560065-21d1-4b71-be4f-d11505cab930",
   "metadata": {},
   "source": [
    "comments = [comment.replace(\"'\", '') for comment in data_df['body'].to_list()]\n",
    "comments = [re.sub(r\"[^a-zA-Z0-9]+\", ' ', comment).lower() for comment in comments]\n",
    "ids = data_df['id'].to_list()"
   ]
  },
  {
   "cell_type": "code",
   "execution_count": 68,
   "id": "a1e40e8a-c7e5-4574-a33c-3b92de618421",
   "metadata": {},
   "outputs": [],
   "source": [
    "MILLISECONDS_IN_SECOND = 1000\n",
    "datetimes = data_df.select((pl.col(\"created_utc\") * MILLISECONDS_IN_SECOND).cast(pl.Datetime).dt.with_time_unit(\"ms\").alias(\"datetime\"))"
   ]
  },
  {
   "cell_type": "code",
   "execution_count": 69,
   "id": "010b1a97-cfe6-4bbc-b963-3d07f8406175",
   "metadata": {
    "scrolled": true
   },
   "outputs": [
    {
     "name": "stderr",
     "output_type": "stream",
     "text": [
      "/var/folders/by/rktr_w596p97pmt8_cbknvs80000gn/T/ipykernel_1316/2894318700.py:1: DeprecationWarning: `replace` is deprecated. DataFrame.replace is deprecated and will be removed in a future version. Please use\n",
      "    df = df.with_columns(new_column.alias(column_name))\n",
      "instead.\n",
      "  data_df.replace(\"created_utc\", datetimes['datetime'].dt.date())\n"
     ]
    },
    {
     "data": {
      "text/html": [
       "<div><style>\n",
       ".dataframe > thead > tr > th,\n",
       ".dataframe > tbody > tr > td {\n",
       "  text-align: right;\n",
       "  white-space: pre-wrap;\n",
       "}\n",
       "</style>\n",
       "<small>shape: (10_000_000, 7)</small><table border=\"1\" class=\"dataframe\"><thead><tr><th>id</th><th>created_utc</th><th>subreddit</th><th>category</th><th>super_category</th><th>body</th><th>author</th></tr><tr><td>str</td><td>date</td><td>str</td><td>str</td><td>str</td><td>str</td><td>str</td></tr></thead><tbody><tr><td>&quot;hg3k6ci&quot;</td><td>2021-10-10</td><td>&quot;eu&quot;</td><td>&quot;politics_2019&quot;</td><td>&quot;politics&quot;</td><td>&quot;&amp;gt; Under the…</td><td>&quot;delete013&quot;</td></tr><tr><td>&quot;esqrmpn&quot;</td><td>2019-07-04</td><td>&quot;AOC&quot;</td><td>&quot;politics_2019&quot;</td><td>&quot;politics&quot;</td><td>&quot;Yet another de…</td><td>&quot;CaptainAssPlun…</td></tr><tr><td>&quot;fqhvq8d&quot;</td><td>2020-05-13</td><td>&quot;AOC&quot;</td><td>&quot;politics_2019&quot;</td><td>&quot;politics&quot;</td><td>&quot;http://www.chi…</td><td>&quot;RanDomino5&quot;</td></tr><tr><td>&quot;fq6h3em&quot;</td><td>2020-05-10</td><td>&quot;AOC&quot;</td><td>&quot;politics_2019&quot;</td><td>&quot;politics&quot;</td><td>&quot;https://www.no…</td><td>&quot;RanDomino5&quot;</td></tr><tr><td>&quot;ga2pgeh&quot;</td><td>2020-10-25</td><td>&quot;AOC&quot;</td><td>&quot;politics_2019&quot;</td><td>&quot;politics&quot;</td><td>&quot;He has a hard …</td><td>&quot;ChiraqBluline&quot;</td></tr><tr><td>&quot;f82hd5u&quot;</td><td>2019-11-19</td><td>&quot;AOC&quot;</td><td>&quot;politics_2019&quot;</td><td>&quot;politics&quot;</td><td>&quot;Can we think a…</td><td>&quot;balacio&quot;</td></tr><tr><td>&quot;g6pe38g&quot;</td><td>2020-09-26</td><td>&quot;AOC&quot;</td><td>&quot;politics_2019&quot;</td><td>&quot;politics&quot;</td><td>&quot;Uh... Yes, *I’…</td><td>&quot;noshoesyoulose…</td></tr><tr><td>&quot;czdqjdg&quot;</td><td>2016-01-27</td><td>&quot;MLS&quot;</td><td>&quot;soccer&quot;</td><td>&quot;sports&quot;</td><td>&quot;&amp;gt; &quot;time-out…</td><td>&quot;brakiri&quot;</td></tr><tr><td>&quot;g21rkdd&quot;</td><td>2020-08-19</td><td>&quot;MLS&quot;</td><td>&quot;soccer&quot;</td><td>&quot;sports&quot;</td><td>&quot;Exactly. The p…</td><td>&quot;smala017&quot;</td></tr><tr><td>&quot;da9kt5e&quot;</td><td>2016-11-21</td><td>&quot;MLS&quot;</td><td>&quot;soccer&quot;</td><td>&quot;sports&quot;</td><td>&quot;Since soccer h…</td><td>&quot;ThePioneer99&quot;</td></tr><tr><td>&quot;drlchgq&quot;</td><td>2017-12-21</td><td>&quot;MLS&quot;</td><td>&quot;soccer&quot;</td><td>&quot;sports&quot;</td><td>&quot;The original a…</td><td>&quot;PNWQuakesFan&quot;</td></tr><tr><td>&quot;cvsh59o&quot;</td><td>2015-10-08</td><td>&quot;MLS&quot;</td><td>&quot;soccer&quot;</td><td>&quot;sports&quot;</td><td>&quot;Let Miazga do …</td><td>&quot;DrPepperHixon&quot;</td></tr><tr><td>&hellip;</td><td>&hellip;</td><td>&hellip;</td><td>&hellip;</td><td>&hellip;</td><td>&hellip;</td><td>&hellip;</td></tr><tr><td>&quot;ebo8lne&quot;</td><td>2018-12-13</td><td>&quot;politics&quot;</td><td>&quot;politics_2019&quot;</td><td>&quot;politics&quot;</td><td>&quot;Well the US go…</td><td>&quot;AvailableWrong…</td></tr><tr><td>&quot;eitbwk8&quot;</td><td>2019-03-18</td><td>&quot;politics&quot;</td><td>&quot;politics_2019&quot;</td><td>&quot;politics&quot;</td><td>&quot;This isn’t pol…</td><td>&quot;Ya-Boy-Dr-Phil…</td></tr><tr><td>&quot;ei0svnp&quot;</td><td>2019-03-07</td><td>&quot;politics&quot;</td><td>&quot;politics_2019&quot;</td><td>&quot;politics&quot;</td><td>&quot;Well a number …</td><td>&quot;kneeco28&quot;</td></tr><tr><td>&quot;divq7ed&quot;</td><td>2017-06-14</td><td>&quot;politics&quot;</td><td>&quot;politics_2019&quot;</td><td>&quot;politics&quot;</td><td>&quot;Once I&#x27;m prove…</td><td>&quot;TheRoughRider&quot;</td></tr><tr><td>&quot;el01dci&quot;</td><td>2019-04-16</td><td>&quot;politics&quot;</td><td>&quot;politics_2019&quot;</td><td>&quot;politics&quot;</td><td>&quot;Whether the ri…</td><td>&quot;accountnumber1…</td></tr><tr><td>&quot;el9joim&quot;</td><td>2019-04-19</td><td>&quot;politics&quot;</td><td>&quot;politics_2019&quot;</td><td>&quot;politics&quot;</td><td>&quot;I’m a bit of a…</td><td>&quot;MiketheImpuner…</td></tr><tr><td>&quot;d2ub46e&quot;</td><td>2016-05-05</td><td>&quot;politics&quot;</td><td>&quot;politics_2019&quot;</td><td>&quot;politics&quot;</td><td>&quot;Cinco de Mayo …</td><td>&quot;aonf&quot;</td></tr><tr><td>&quot;gilfdh7&quot;</td><td>2021-01-08</td><td>&quot;politics&quot;</td><td>&quot;politics_2019&quot;</td><td>&quot;politics&quot;</td><td>&quot;Are you assumi…</td><td>&quot;VegetableTheor…</td></tr><tr><td>&quot;d0wuz62&quot;</td><td>2016-03-12</td><td>&quot;politics&quot;</td><td>&quot;politics_2019&quot;</td><td>&quot;politics&quot;</td><td>&quot;Help with what…</td><td>&quot;Bigg_Mixx&quot;</td></tr><tr><td>&quot;e491s2t&quot;</td><td>2018-08-15</td><td>&quot;politics&quot;</td><td>&quot;politics_2019&quot;</td><td>&quot;politics&quot;</td><td>&quot;Why does he ne…</td><td>&quot;srenouf84&quot;</td></tr><tr><td>&quot;e5tc8dg&quot;</td><td>2018-09-11</td><td>&quot;politics&quot;</td><td>&quot;politics_2019&quot;</td><td>&quot;politics&quot;</td><td>&quot;A whole lot mo…</td><td>&quot;Interrnet&quot;</td></tr><tr><td>&quot;din69t7&quot;</td><td>2017-06-08</td><td>&quot;politics&quot;</td><td>&quot;politics_2019&quot;</td><td>&quot;politics&quot;</td><td>&quot;Comey himself …</td><td>&quot;cGt2099&quot;</td></tr></tbody></table></div>"
      ],
      "text/plain": [
       "shape: (10_000_000, 7)\n",
       "┌─────────┬─────────────┬───────────┬───────────────┬───────────────┬───────────────┬──────────────┐\n",
       "│ id      ┆ created_utc ┆ subreddit ┆ category      ┆ super_categor ┆ body          ┆ author       │\n",
       "│ ---     ┆ ---         ┆ ---       ┆ ---           ┆ y             ┆ ---           ┆ ---          │\n",
       "│ str     ┆ date        ┆ str       ┆ str           ┆ ---           ┆ str           ┆ str          │\n",
       "│         ┆             ┆           ┆               ┆ str           ┆               ┆              │\n",
       "╞═════════╪═════════════╪═══════════╪═══════════════╪═══════════════╪═══════════════╪══════════════╡\n",
       "│ hg3k6ci ┆ 2021-10-10  ┆ eu        ┆ politics_2019 ┆ politics      ┆ &gt; Under    ┆ delete013    │\n",
       "│         ┆             ┆           ┆               ┆               ┆ the handover  ┆              │\n",
       "│         ┆             ┆           ┆               ┆               ┆ treaty        ┆              │\n",
       "│         ┆             ┆           ┆               ┆               ┆               ┆              │\n",
       "│         ┆             ┆           ┆               ┆               ┆ …             ┆              │\n",
       "│ esqrmpn ┆ 2019-07-04  ┆ AOC       ┆ politics_2019 ┆ politics      ┆ Yet another   ┆ CaptainAssPl │\n",
       "│         ┆             ┆           ┆               ┆               ┆ death wish/   ┆ underer      │\n",
       "│         ┆             ┆           ┆               ┆               ┆ threat        ┆              │\n",
       "│         ┆             ┆           ┆               ┆               ┆               ┆              │\n",
       "│         ┆             ┆           ┆               ┆               ┆ …             ┆              │\n",
       "│ fqhvq8d ┆ 2020-05-13  ┆ AOC       ┆ politics_2019 ┆ politics      ┆ http://www.ch ┆ RanDomino5   │\n",
       "│         ┆             ┆           ┆               ┆               ┆ icagonow.com/ ┆              │\n",
       "│         ┆             ┆           ┆               ┆               ┆ kelly-…       ┆              │\n",
       "│ fq6h3em ┆ 2020-05-10  ┆ AOC       ┆ politics_2019 ┆ politics      ┆ https://www.n ┆ RanDomino5   │\n",
       "│         ┆             ┆           ┆               ┆               ┆ olo.com/legal ┆              │\n",
       "│         ┆             ┆           ┆               ┆               ┆ -encyc…       ┆              │\n",
       "│ …       ┆ …           ┆ …         ┆ …             ┆ …             ┆ …             ┆ …            │\n",
       "│ d0wuz62 ┆ 2016-03-12  ┆ politics  ┆ politics_2019 ┆ politics      ┆ Help with     ┆ Bigg_Mixx    │\n",
       "│         ┆             ┆           ┆               ┆               ┆ what?         ┆              │\n",
       "│         ┆             ┆           ┆               ┆               ┆ Learning to   ┆              │\n",
       "│         ┆             ┆           ┆               ┆               ┆ cont…         ┆              │\n",
       "│ e491s2t ┆ 2018-08-15  ┆ politics  ┆ politics_2019 ┆ politics      ┆ Why does he   ┆ srenouf84    │\n",
       "│         ┆             ┆           ┆               ┆               ┆ need it       ┆              │\n",
       "│ e5tc8dg ┆ 2018-09-11  ┆ politics  ┆ politics_2019 ┆ politics      ┆ A whole lot   ┆ Interrnet    │\n",
       "│         ┆             ┆           ┆               ┆               ┆ more then     ┆              │\n",
       "│         ┆             ┆           ┆               ┆               ┆ what happe…   ┆              │\n",
       "│ din69t7 ┆ 2017-06-08  ┆ politics  ┆ politics_2019 ┆ politics      ┆ Comey himself ┆ cGt2099      │\n",
       "│         ┆             ┆           ┆               ┆               ┆ used the word ┆              │\n",
       "│         ┆             ┆           ┆               ┆               ┆ \"lea…         ┆              │\n",
       "└─────────┴─────────────┴───────────┴───────────────┴───────────────┴───────────────┴──────────────┘"
      ]
     },
     "execution_count": 69,
     "metadata": {},
     "output_type": "execute_result"
    }
   ],
   "source": [
    "data_df.replace(\"created_utc\", datetimes['datetime'].dt.date())"
   ]
  },
  {
   "cell_type": "code",
   "execution_count": 70,
   "id": "cc7555fc-27ad-4215-8dbf-024df6247fd3",
   "metadata": {},
   "outputs": [],
   "source": [
    "df_15_21 = data_df.filter(pl.col('created_utc').dt.year().is_in([2015,2016,2017,2018,2019,2020,2021]))\n",
    "df_15_21_oct = df_15_21.filter(pl.col('created_utc').dt.month().is_in([10]))"
   ]
  },
  {
   "cell_type": "code",
   "execution_count": 71,
   "id": "74a9a52d-bbf6-4d4b-a6b6-9839465241b4",
   "metadata": {},
   "outputs": [
    {
     "data": {
      "text/plain": [
       "55329"
      ]
     },
     "execution_count": 71,
     "metadata": {},
     "output_type": "execute_result"
    }
   ],
   "source": [
    "len(df_15_21_oct.filter((pl.col('subreddit') == 'The_Donald')))"
   ]
  },
  {
   "cell_type": "code",
   "execution_count": 74,
   "id": "7c66f650-ae4d-453a-8e59-71c22935417c",
   "metadata": {},
   "outputs": [
    {
     "name": "stdout",
     "output_type": "stream",
     "text": [
      "total comments : 34212\n",
      "total words : 1150026\n"
     ]
    }
   ],
   "source": [
    "donald_df = df_15_21_oct.filter((pl.col('subreddit') == 'The_Donald'))\n",
    "\n",
    "comments = [comment.replace(\"'\", '') for comment in donald_df['body'].to_list()]\n",
    "comments = [re.sub(r\"[^a-zA-Z0-9]+\", ' ', comment).lower() for comment in comments]\n",
    "\n",
    "comments_long = []\n",
    "    # filter by char\n",
    "for c in range(len(comments)):\n",
    "    if len(comments[c]) >= 50:\n",
    "        comments_long.append(comments[c])\n",
    "comments = comments_long\n",
    "\n",
    "print('total comments : {}'.format(len(comments)))\n",
    "word_count = 0\n",
    "for comment in comments:\n",
    "    word_count += len(comment.split())\n",
    "print('total words : {}'.format(word_count))"
   ]
  },
  {
   "cell_type": "code",
   "execution_count": null,
   "id": "8c0060cd-340f-4c06-8cf9-d4ca1c76e932",
   "metadata": {},
   "outputs": [],
   "source": []
  },
  {
   "cell_type": "code",
   "execution_count": 73,
   "id": "06c5c44c-2184-4530-a194-3ac516ac0a9d",
   "metadata": {},
   "outputs": [
    {
     "data": {
      "text/plain": [
       "10143"
      ]
     },
     "execution_count": 73,
     "metadata": {},
     "output_type": "execute_result"
    }
   ],
   "source": [
    "len(df_15_21_oct.filter((pl.col('subreddit') == 'Conservative')))"
   ]
  },
  {
   "cell_type": "code",
   "execution_count": 62,
   "id": "69407ccb-edae-4ab0-9955-c3fb1748525c",
   "metadata": {},
   "outputs": [
    {
     "data": {
      "text/plain": [
       "2605"
      ]
     },
     "execution_count": 62,
     "metadata": {},
     "output_type": "execute_result"
    }
   ],
   "source": [
    "len(df_15_21_oct.filter((pl.col('subreddit') == 'AskTrumpSupporters')))"
   ]
  },
  {
   "cell_type": "code",
   "execution_count": 64,
   "id": "a4acb184-ac23-41d6-93fe-d3fac7fcf5e4",
   "metadata": {},
   "outputs": [
    {
     "data": {
      "text/plain": [
       "19"
      ]
     },
     "execution_count": 64,
     "metadata": {},
     "output_type": "execute_result"
    }
   ],
   "source": [
    "len(df_15_21_oct.filter((pl.col('subreddit') == 'Donald_Trump')))"
   ]
  },
  {
   "cell_type": "code",
   "execution_count": 72,
   "id": "c4f7f7e4-d211-42ca-9ac2-b400ca33a0f6",
   "metadata": {},
   "outputs": [
    {
     "data": {
      "text/plain": [
       "153547"
      ]
     },
     "execution_count": 72,
     "metadata": {},
     "output_type": "execute_result"
    }
   ],
   "source": [
    "len(df_15_21_oct.filter((pl.col('subreddit') == 'politics')))"
   ]
  },
  {
   "cell_type": "code",
   "execution_count": null,
   "id": "a3cdc07c-a75e-4e35-95bc-fe13dbd2c7b4",
   "metadata": {},
   "outputs": [],
   "source": []
  }
 ],
 "metadata": {
  "kernelspec": {
   "display_name": "Python 3 (ipykernel)",
   "language": "python",
   "name": "python3"
  },
  "language_info": {
   "codemirror_mode": {
    "name": "ipython",
    "version": 3
   },
   "file_extension": ".py",
   "mimetype": "text/x-python",
   "name": "python",
   "nbconvert_exporter": "python",
   "pygments_lexer": "ipython3",
   "version": "3.10.4"
  }
 },
 "nbformat": 4,
 "nbformat_minor": 5
}
