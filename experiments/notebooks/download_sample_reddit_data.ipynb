{
 "cells": [
  {
   "cell_type": "code",
   "execution_count": 15,
   "id": "d1b96f56-0acd-4eab-9b79-ed7e68bfbe74",
   "metadata": {},
   "outputs": [],
   "source": [
    "from google.cloud import bigquery\n",
    "import google.auth\n",
    "import polars as pl"
   ]
  },
  {
   "cell_type": "markdown",
   "id": "1ba797ab-26e7-4980-8027-816622277b7c",
   "metadata": {},
   "source": [
    "##### Get credentials to access reddit dataset"
   ]
  },
  {
   "cell_type": "code",
   "execution_count": 16,
   "id": "4eded274-b78c-442d-b458-d166a6f9ce8e",
   "metadata": {},
   "outputs": [
    {
     "name": "stderr",
     "output_type": "stream",
     "text": [
      "/Users/ujan/opt/anaconda3/envs/nlp/lib/python3.10/site-packages/google/auth/_default.py:76: UserWarning: Your application has authenticated using end user credentials from Google Cloud SDK without a quota project. You might receive a \"quota exceeded\" or \"API not enabled\" error. See the following page for troubleshooting: https://cloud.google.com/docs/authentication/adc-troubleshooting/user-creds. \n",
      "  warnings.warn(_CLOUD_SDK_CREDENTIALS_WARNING)\n"
     ]
    }
   ],
   "source": [
    "# with Application Default Credentials (ADC) :\n",
    "# install gcloud cli from : https://cloud.google.com/sdk/docs/install\n",
    "# create credential file : gcloud auth application-default login\n",
    "\n",
    "# with service account :\n",
    "# from google.oauth2 import service_account\n",
    "# credentials = service_account.Credentials.from_service_account_file('/path/to/key.json')\n",
    "# docs : https://google-auth.readthedocs.io/en/master/user-guide.html\n",
    "\n",
    "credentials, project = google.auth.default()\n",
    "project_id = 'cmst-reddit-analysis'\n",
    "client = bigquery.Client(credentials=credentials,project=project_id)"
   ]
  },
  {
   "cell_type": "markdown",
   "id": "344c3b78-61d6-46df-91bb-2adc6c3659cc",
   "metadata": {},
   "source": [
    "##### Download from political comments table"
   ]
  },
  {
   "cell_type": "code",
   "execution_count": null,
   "id": "5603e7da-955f-4868-ac18-6a14f62a8110",
   "metadata": {},
   "outputs": [],
   "source": [
    "table_id = 'cmst-reddit-analysis.politics_in_sports.comments_2015-21_politics_and_sports'\n",
    "\n",
    "# 10m at a time\n",
    "rows_iter = client.list_rows(table_id, max_results=20000000)\n",
    "rows = list(rows_iter)\n",
    "print(\"Downloaded {} rows from table {}\".format(len(rows), table_id))"
   ]
  },
  {
   "cell_type": "code",
   "execution_count": null,
   "id": "9edbb651-4933-4850-bd55-88ab5f57bddf",
   "metadata": {},
   "outputs": [],
   "source": [
    "len(rows)"
   ]
  },
  {
   "cell_type": "markdown",
   "id": "d3d41d59-a04d-4f96-8b22-c1f1c204c623",
   "metadata": {},
   "source": [
    "##### Download sample political comments table"
   ]
  },
  {
   "cell_type": "raw",
   "id": "7e50bebc-4a16-4221-a3ba-b6efb6d027c3",
   "metadata": {},
   "source": [
    "table_id = 'cmst-reddit-analysis.sports_language_in_politics.sample_politics_comments'\n",
    "\n",
    "rows_iter = client.list_rows(table_id)  # max_results=10\n",
    "rows = list(rows_iter)\n",
    "print(\"Downloaded {} rows from table {}\".format(len(rows), table_id))"
   ]
  },
  {
   "cell_type": "markdown",
   "id": "f93b1e37-395b-4395-b6b6-a1fc189839c7",
   "metadata": {},
   "source": [
    "Let's look at a sample"
   ]
  },
  {
   "cell_type": "code",
   "execution_count": 6,
   "id": "766c6a9f-b08b-418e-a326-1642aab5c836",
   "metadata": {
    "scrolled": true
   },
   "outputs": [
    {
     "name": "stdout",
     "output_type": "stream",
     "text": [
      "Row(('hg3k6ci', 't3_pvt2eg', 't1_hg05a93', 1633870611, 'eu', 'politics_2019', 'politics', 0, \"&gt; Under the handover treaty\\n\\nIt is entirely unrealistic for the UK to set any kind of conditions, when HK issue was illegal from the Chinese standpoint. That land is Chinese and they will do with it what they will, if you like it or not.\\n\\n&gt;Do you think the EU is stupid enough to trust the CCP after that\\n\\nYou forget that the factor of Opium wars is very much alive in China and their aspiration to power is partly grounded in the need to prevent any such occurences in the future. Franky, it is irrelevant what EU thinks on this. You should ask yourself does EU inspire any trust or credibility to start with, because I think it doesn't. You can't complain about foreign human rights violations next to the elephant in the room, the US with their wars of aggression. EU is allied with a declared enemy of China and accomplice in almost every American post-ww2 deed in some way. They themselves are the sole reason why China runs realpolitik against us, when currently an alliance between Europe and China is the only prudent geostrategic path.\\n\\n&gt;Taiwanese people don't consider themselves as a Chinese province\\n\\nSure, the clueless young generations might think that way, but political elites certainly don't, neither does the legal order. Ask yourself why Taiwan has no seat in the UN.\\n\\n&gt;So is the majority of Singapore.\\n\\nMost elderly Singaporeans are still convinced that Taiwan will merge with China. The younger generations don't think about politics at all and only nominally hate PRCs because of their behaviour. The primary difference with China is their anti-communist legacy but they all consider themselves eventually Chinese and will slowly run into the Chinese fold.\\n\\n&gt;This is wumaos and little pinks\\n\\nCalling people names without any credible argument is more than a bad form. That US runs a constant sabotage campaign against anyone that does not submit to their hegemony is a historically proven fact. Equal relations are not at all tolerated.\\n\\n&gt; China's human rights abuses\\n\\nThe fact that EU cancels economic deals on the base of nebulous human rights is childish and they know that. European governments allow all kinds of inhuman acts, as long as they are in their camp.  besides, capitalist Europe does not protect a number of economic rights and openly allows umbarred exploitation, poverty and homelessness.\\n\\nBtw, Singapore has almost the same human rights' issues as China. This doesn't seem to pose any problem to the EU, even if they have torturing and death penalty as legal means of state violence.\", 'delete013', 0), {'id': 0, 'link_id': 1, 'parent_id': 2, 'created_utc': 3, 'subreddit': 4, 'category': 5, 'super_category': 6, 'score': 7, 'body': 8, 'author': 9, 'gilded': 10})\n"
     ]
    }
   ],
   "source": [
    "print(rows[0])"
   ]
  },
  {
   "cell_type": "markdown",
   "id": "8c4f14a1-8578-4e0f-a4f9-7ee1592eb222",
   "metadata": {},
   "source": [
    "Store all the columns"
   ]
  },
  {
   "cell_type": "code",
   "execution_count": 8,
   "id": "ec9ab821-364d-4dd0-8d17-4b4da5a5e313",
   "metadata": {},
   "outputs": [],
   "source": [
    "columns = {\n",
    "    'id': 0,\n",
    "    'link_id': 1,\n",
    "    'parent_id': 2,\n",
    "    'created_utc': 3,\n",
    "    'subreddit': 4,\n",
    "    'category': 5,\n",
    "    'super_category': 6,\n",
    "    'score': 7,\n",
    "    'body': 8,\n",
    "    'author': 9,\n",
    "    'gilded': 10\n",
    "}"
   ]
  },
  {
   "cell_type": "markdown",
   "id": "ed20406b-ccdf-40e3-83ac-53cb5ac15466",
   "metadata": {},
   "source": [
    "Let's keep id, created time, subreddit, category, super category, body and author. And create a dataframe to store the data"
   ]
  },
  {
   "cell_type": "code",
   "execution_count": 9,
   "id": "b87ba95b-45e0-43fa-b4d8-7f74a5c21987",
   "metadata": {},
   "outputs": [
    {
     "data": {
      "text/html": [
       "<div><style>\n",
       ".dataframe > thead > tr > th,\n",
       ".dataframe > tbody > tr > td {\n",
       "  text-align: right;\n",
       "  white-space: pre-wrap;\n",
       "}\n",
       "</style>\n",
       "<small>shape: (5, 7)</small><table border=\"1\" class=\"dataframe\"><thead><tr><th>id</th><th>created_utc</th><th>subreddit</th><th>category</th><th>super_category</th><th>body</th><th>author</th></tr><tr><td>str</td><td>i64</td><td>str</td><td>str</td><td>str</td><td>str</td><td>str</td></tr></thead><tbody><tr><td>&quot;hg3k6ci&quot;</td><td>1633870611</td><td>&quot;eu&quot;</td><td>&quot;politics_2019&quot;</td><td>&quot;politics&quot;</td><td>&quot;&amp;gt; Under the…</td><td>&quot;delete013&quot;</td></tr><tr><td>&quot;esqrmpn&quot;</td><td>1562208395</td><td>&quot;AOC&quot;</td><td>&quot;politics_2019&quot;</td><td>&quot;politics&quot;</td><td>&quot;Yet another de…</td><td>&quot;CaptainAssPlun…</td></tr><tr><td>&quot;fqhvq8d&quot;</td><td>1589385433</td><td>&quot;AOC&quot;</td><td>&quot;politics_2019&quot;</td><td>&quot;politics&quot;</td><td>&quot;http://www.chi…</td><td>&quot;RanDomino5&quot;</td></tr><tr><td>&quot;fq6h3em&quot;</td><td>1589131399</td><td>&quot;AOC&quot;</td><td>&quot;politics_2019&quot;</td><td>&quot;politics&quot;</td><td>&quot;https://www.no…</td><td>&quot;RanDomino5&quot;</td></tr><tr><td>&quot;ga2pgeh&quot;</td><td>1603646163</td><td>&quot;AOC&quot;</td><td>&quot;politics_2019&quot;</td><td>&quot;politics&quot;</td><td>&quot;He has a hard …</td><td>&quot;ChiraqBluline&quot;</td></tr></tbody></table></div>"
      ],
      "text/plain": [
       "shape: (5, 7)\n",
       "┌─────────┬─────────────┬───────────┬───────────────┬───────────────┬───────────────┬──────────────┐\n",
       "│ id      ┆ created_utc ┆ subreddit ┆ category      ┆ super_categor ┆ body          ┆ author       │\n",
       "│ ---     ┆ ---         ┆ ---       ┆ ---           ┆ y             ┆ ---           ┆ ---          │\n",
       "│ str     ┆ i64         ┆ str       ┆ str           ┆ ---           ┆ str           ┆ str          │\n",
       "│         ┆             ┆           ┆               ┆ str           ┆               ┆              │\n",
       "╞═════════╪═════════════╪═══════════╪═══════════════╪═══════════════╪═══════════════╪══════════════╡\n",
       "│ hg3k6ci ┆ 1633870611  ┆ eu        ┆ politics_2019 ┆ politics      ┆ &gt; Under    ┆ delete013    │\n",
       "│         ┆             ┆           ┆               ┆               ┆ the handover  ┆              │\n",
       "│         ┆             ┆           ┆               ┆               ┆ treaty        ┆              │\n",
       "│         ┆             ┆           ┆               ┆               ┆               ┆              │\n",
       "│         ┆             ┆           ┆               ┆               ┆ …             ┆              │\n",
       "│ esqrmpn ┆ 1562208395  ┆ AOC       ┆ politics_2019 ┆ politics      ┆ Yet another   ┆ CaptainAssPl │\n",
       "│         ┆             ┆           ┆               ┆               ┆ death wish/   ┆ underer      │\n",
       "│         ┆             ┆           ┆               ┆               ┆ threat        ┆              │\n",
       "│         ┆             ┆           ┆               ┆               ┆               ┆              │\n",
       "│         ┆             ┆           ┆               ┆               ┆ …             ┆              │\n",
       "│ fqhvq8d ┆ 1589385433  ┆ AOC       ┆ politics_2019 ┆ politics      ┆ http://www.ch ┆ RanDomino5   │\n",
       "│         ┆             ┆           ┆               ┆               ┆ icagonow.com/ ┆              │\n",
       "│         ┆             ┆           ┆               ┆               ┆ kelly-…       ┆              │\n",
       "│ fq6h3em ┆ 1589131399  ┆ AOC       ┆ politics_2019 ┆ politics      ┆ https://www.n ┆ RanDomino5   │\n",
       "│         ┆             ┆           ┆               ┆               ┆ olo.com/legal ┆              │\n",
       "│         ┆             ┆           ┆               ┆               ┆ -encyc…       ┆              │\n",
       "│ ga2pgeh ┆ 1603646163  ┆ AOC       ┆ politics_2019 ┆ politics      ┆ He has a hard ┆ ChiraqBlulin │\n",
       "│         ┆             ┆           ┆               ┆               ┆ stance on     ┆ e            │\n",
       "│         ┆             ┆           ┆               ┆               ┆ saying w…     ┆              │\n",
       "└─────────┴─────────────┴───────────┴───────────────┴───────────────┴───────────────┴──────────────┘"
      ]
     },
     "execution_count": 9,
     "metadata": {},
     "output_type": "execute_result"
    }
   ],
   "source": [
    "# make sure these are the same keys as in columns above\n",
    "keys = ['id', 'created_utc', 'subreddit', 'category', 'super_category', 'body', 'author']\n",
    "df_dict = {key:[] for key in keys}\n",
    "\n",
    "for row in rows:\n",
    "    for key in keys:\n",
    "        df_dict[key].append(row[columns[key]])\n",
    "\n",
    "political_df = pl.DataFrame(df_dict).drop_nulls()\n",
    "political_df.head()"
   ]
  },
  {
   "cell_type": "code",
   "execution_count": 10,
   "id": "3d4fa586-89e0-4726-9067-07430c1476a8",
   "metadata": {},
   "outputs": [
    {
     "data": {
      "text/plain": [
       "10000000"
      ]
     },
     "execution_count": 10,
     "metadata": {},
     "output_type": "execute_result"
    }
   ],
   "source": [
    "len(political_df)"
   ]
  },
  {
   "cell_type": "markdown",
   "id": "7f70bbe0-aa3e-40db-b10b-9fa4b2643c38",
   "metadata": {},
   "source": [
    "##### Save as csv"
   ]
  },
  {
   "cell_type": "code",
   "execution_count": 11,
   "id": "bbbdbb17-dc34-44b6-b4f9-1fbcbcab8d9e",
   "metadata": {},
   "outputs": [],
   "source": [
    "political_df.write_csv('~/sports-language-in-politics/data/processed/politics_main_10m.csv', separator=\",\")"
   ]
  },
  {
   "cell_type": "markdown",
   "id": "db8ad099-1876-4bba-b16f-7ae62dfbbf96",
   "metadata": {},
   "source": [
    "##### Download sample sports comments table and save"
   ]
  },
  {
   "cell_type": "markdown",
   "id": "fb42603d-c1dd-4f19-9139-d192b3e46fec",
   "metadata": {},
   "source": [
    "Follow same steps as political comments table"
   ]
  },
  {
   "cell_type": "code",
   "execution_count": 93,
   "id": "35d0bfaf-558d-4d18-81cc-367067af57fc",
   "metadata": {},
   "outputs": [
    {
     "name": "stdout",
     "output_type": "stream",
     "text": [
      "Downloaded 4306780 rows from table cmst-reddit-analysis.sports_language_in_politics.sample_sports_comments\n"
     ]
    }
   ],
   "source": [
    "table_id = 'cmst-reddit-analysis.sports_language_in_politics.sample_sports_comments'\n",
    "\n",
    "rows_iter = client.list_rows(table_id)  # max_results=10\n",
    "rows = list(rows_iter)\n",
    "print(\"Downloaded {} rows from table {}\".format(len(rows), table_id))\n",
    "\n",
    "df_dict = {key:[] for key in keys}\n",
    "for row in rows:\n",
    "    for key in keys:\n",
    "        df_dict[key].append(row[columns[key]])\n",
    "\n",
    "sports_df = pl.DataFrame(df_dict).drop_nulls()\n",
    "\n",
    "sports_df.write_csv('~/sports-language-in-politics/data/processed/sports_sample.csv', separator=\",\")"
   ]
  },
  {
   "cell_type": "code",
   "execution_count": null,
   "id": "79188bb3-f4f2-4726-bf50-6a0f5f3a9efb",
   "metadata": {},
   "outputs": [],
   "source": []
  }
 ],
 "metadata": {
  "kernelspec": {
   "display_name": "Python 3 (ipykernel)",
   "language": "python",
   "name": "python3"
  },
  "language_info": {
   "codemirror_mode": {
    "name": "ipython",
    "version": 3
   },
   "file_extension": ".py",
   "mimetype": "text/x-python",
   "name": "python",
   "nbconvert_exporter": "python",
   "pygments_lexer": "ipython3",
   "version": "3.10.4"
  }
 },
 "nbformat": 4,
 "nbformat_minor": 5
}
