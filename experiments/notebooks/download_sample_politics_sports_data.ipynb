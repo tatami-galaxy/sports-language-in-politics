{
 "cells": [
  {
   "cell_type": "code",
   "execution_count": 1,
   "id": "d1b96f56-0acd-4eab-9b79-ed7e68bfbe74",
   "metadata": {},
   "outputs": [],
   "source": [
    "from google.cloud import bigquery\n",
    "import google.auth\n",
    "import polars as pl\n",
    "from tqdm.auto import tqdm"
   ]
  },
  {
   "cell_type": "markdown",
   "id": "1ba797ab-26e7-4980-8027-816622277b7c",
   "metadata": {},
   "source": [
    "##### Get credentials to access reddit dataset"
   ]
  },
  {
   "cell_type": "code",
   "execution_count": 2,
   "id": "4eded274-b78c-442d-b458-d166a6f9ce8e",
   "metadata": {},
   "outputs": [
    {
     "name": "stderr",
     "output_type": "stream",
     "text": [
      "/Users/ujan/opt/anaconda3/envs/nlp/lib/python3.12/site-packages/google/auth/_default.py:76: UserWarning: Your application has authenticated using end user credentials from Google Cloud SDK without a quota project. You might receive a \"quota exceeded\" or \"API not enabled\" error. See the following page for troubleshooting: https://cloud.google.com/docs/authentication/adc-troubleshooting/user-creds. \n",
      "  warnings.warn(_CLOUD_SDK_CREDENTIALS_WARNING)\n"
     ]
    }
   ],
   "source": [
    "# with Application Default Credentials (ADC) :\n",
    "# install gcloud cli from : https://cloud.google.com/sdk/docs/install\n",
    "# create credential file : gcloud auth application-default login\n",
    "\n",
    "# with service account :\n",
    "# from google.oauth2 import service_account\n",
    "# credentials = service_account.Credentials.from_service_account_file('/path/to/key.json')\n",
    "# docs : https://google-auth.readthedocs.io/en/master/user-guide.html\n",
    "\n",
    "credentials, project = google.auth.default()\n",
    "project_id = 'cmst-reddit-analysis'\n",
    "client = bigquery.Client(credentials=credentials,project=project_id)"
   ]
  },
  {
   "cell_type": "raw",
   "id": "e6046fee-f223-44f4-84e3-0a87316d8d81",
   "metadata": {},
   "source": [
    "# download comments table year,month wise\n",
    "\n",
    "table_id = 'cmst-reddit-analysis.politics_in_sports.posts_2015-21_ps_min_2c_politics'\n",
    "\n",
    "rows_iter = client.list_rows(table_id, max_results=10)\n",
    "rows = list(rows_iter)\n",
    "print(\"Downloaded {} rows from table {}\".format(len(rows), table_id))"
   ]
  },
  {
   "cell_type": "code",
   "execution_count": 9,
   "id": "4708c0b1-5057-4674-abc7-d43f76d11d50",
   "metadata": {},
   "outputs": [
    {
     "data": {
      "application/vnd.jupyter.widget-view+json": {
       "model_id": "87f5dad9ef1444e09123912dd425378b",
       "version_major": 2,
       "version_minor": 0
      },
      "text/plain": [
       "  0%|          | 0/3650000 [00:00<?, ?it/s]"
      ]
     },
     "metadata": {},
     "output_type": "display_data"
    },
    {
     "data": {
      "text/html": [
       "<div><style>\n",
       ".dataframe > thead > tr,\n",
       ".dataframe > tbody > tr {\n",
       "  text-align: right;\n",
       "  white-space: pre-wrap;\n",
       "}\n",
       "</style>\n",
       "<small>shape: (5, 4)</small><table border=\"1\" class=\"dataframe\"><thead><tr><th>body</th><th>created_utc</th><th>id</th><th>subreddit</th></tr><tr><td>str</td><td>i64</td><td>str</td><td>str</td></tr></thead><tbody><tr><td>&quot;So will Trump …</td><td>1473788168</td><td>&quot;d7l92vl&quot;</td><td>&quot;Republican&quot;</td></tr><tr><td>&quot;Hello there. I…</td><td>1475171434</td><td>&quot;d876i6l&quot;</td><td>&quot;NeutralPolitic…</td></tr><tr><td>&quot;&amp;gt;North Kore…</td><td>1473438677</td><td>&quot;d7ftb4m&quot;</td><td>&quot;neutralnews&quot;</td></tr><tr><td>&quot;The incentives…</td><td>1474911650</td><td>&quot;d82wm1o&quot;</td><td>&quot;NeutralPolitic…</td></tr><tr><td>&quot;&amp;gt; almost ce…</td><td>1474989129</td><td>&quot;d846a85&quot;</td><td>&quot;Republican&quot;</td></tr></tbody></table></div>"
      ],
      "text/plain": [
       "shape: (5, 4)\n",
       "┌───────────────────────────────────┬─────────────┬─────────┬─────────────────┐\n",
       "│ body                              ┆ created_utc ┆ id      ┆ subreddit       │\n",
       "│ ---                               ┆ ---         ┆ ---     ┆ ---             │\n",
       "│ str                               ┆ i64         ┆ str     ┆ str             │\n",
       "╞═══════════════════════════════════╪═════════════╪═════════╪═════════════════╡\n",
       "│ So will Trump start to read off … ┆ 1473788168  ┆ d7l92vl ┆ Republican      │\n",
       "│ Hello there. I'm a mod in /r/Neu… ┆ 1475171434  ┆ d876i6l ┆ NeutralPolitics │\n",
       "│ &gt;North Korea expressed anger … ┆ 1473438677  ┆ d7ftb4m ┆ neutralnews     │\n",
       "│ The incentives are tax breaks wh… ┆ 1474911650  ┆ d82wm1o ┆ NeutralPolitics │\n",
       "│ &gt; almost certainly because he… ┆ 1474989129  ┆ d846a85 ┆ Republican      │\n",
       "└───────────────────────────────────┴─────────────┴─────────┴─────────────────┘"
      ]
     },
     "execution_count": 9,
     "metadata": {},
     "output_type": "execute_result"
    }
   ],
   "source": [
    "columns = {\n",
    "    'body': 0, 'score_hidden': 1, 'archived': 2, 'name': 3, 'author': 4, 'author_flair_text': 5, 'downs': 6, 'created_utc': 7, 'subreddit_id': 8, 'link_id': 9, 'parent_id': 10, 'score': 11, 'retrieved_on': 12, 'controversiality': 13, 'gilded': 14, 'id': 15, 'subreddit': 16, 'ups': 17, 'distinguished': 18, 'author_flair_css_class': 19\n",
    "}\n",
    "\n",
    "# make sure these are the same keys as in columns above\n",
    "keys = ['body', 'created_utc', 'id', 'subreddit']\n",
    "df_dict = {key:[] for key in keys}\n",
    "\n",
    "table_id = 'cmst-reddit-analysis.comments.2016_9_politics'\n",
    "\n",
    "bar = tqdm(range(3650000))\n",
    "#bar = tqdm(range(10))\n",
    "rows_iter = client.list_rows(table_id) # max_results=10)\n",
    "for row in rows_iter:\n",
    "    for key in keys:\n",
    "        df_dict[key].append(row[columns[key]])\n",
    "    bar.update(1)\n",
    "\n",
    "political_df = pl.DataFrame(df_dict).drop_nulls()\n",
    "political_df.head()"
   ]
  },
  {
   "cell_type": "code",
   "execution_count": 11,
   "id": "27b52bf1-4294-4e25-a3f6-f6c37460ee83",
   "metadata": {},
   "outputs": [
    {
     "data": {
      "text/plain": [
       "3650430"
      ]
     },
     "execution_count": 11,
     "metadata": {},
     "output_type": "execute_result"
    }
   ],
   "source": [
    "len(political_df)"
   ]
  },
  {
   "cell_type": "code",
   "execution_count": 12,
   "id": "213e4dc9-fade-4f77-9827-c45f07eb993c",
   "metadata": {},
   "outputs": [],
   "source": [
    "political_df.write_csv('/Volumes/PortableSSD/css/data/processed/politics_comments_2016_9.csv', separator=\",\")"
   ]
  },
  {
   "cell_type": "code",
   "execution_count": null,
   "id": "890084f7-9e75-4220-985b-19ccbc86e952",
   "metadata": {},
   "outputs": [],
   "source": []
  },
  {
   "cell_type": "code",
   "execution_count": null,
   "id": "f5772b3b-afe5-41c3-b378-e6bf161139f7",
   "metadata": {},
   "outputs": [],
   "source": []
  },
  {
   "cell_type": "markdown",
   "id": "344c3b78-61d6-46df-91bb-2adc6c3659cc",
   "metadata": {},
   "source": [
    "##### Download sample political comments table"
   ]
  },
  {
   "cell_type": "code",
   "execution_count": 4,
   "id": "5603e7da-955f-4868-ac18-6a14f62a8110",
   "metadata": {},
   "outputs": [
    {
     "ename": "KeyboardInterrupt",
     "evalue": "",
     "output_type": "error",
     "traceback": [
      "\u001b[0;31m---------------------------------------------------------------------------\u001b[0m",
      "\u001b[0;31mKeyboardInterrupt\u001b[0m                         Traceback (most recent call last)",
      "    \u001b[0;31m[... skipping hidden 1 frame]\u001b[0m\n",
      "Cell \u001b[0;32mIn[4], line 4\u001b[0m\n\u001b[1;32m      3\u001b[0m rows_iter \u001b[38;5;241m=\u001b[39m client\u001b[38;5;241m.\u001b[39mlist_rows(table_id)  \u001b[38;5;66;03m# max_results=10\u001b[39;00m\n\u001b[0;32m----> 4\u001b[0m rows \u001b[38;5;241m=\u001b[39m \u001b[38;5;28;43mlist\u001b[39;49m\u001b[43m(\u001b[49m\u001b[43mrows_iter\u001b[49m\u001b[43m)\u001b[49m\n\u001b[1;32m      5\u001b[0m \u001b[38;5;28mprint\u001b[39m(\u001b[38;5;124m\"\u001b[39m\u001b[38;5;124mDownloaded \u001b[39m\u001b[38;5;132;01m{}\u001b[39;00m\u001b[38;5;124m rows from table \u001b[39m\u001b[38;5;132;01m{}\u001b[39;00m\u001b[38;5;124m\"\u001b[39m\u001b[38;5;241m.\u001b[39mformat(\u001b[38;5;28mlen\u001b[39m(rows), table_id))\n",
      "File \u001b[0;32m/Users/ujan/opt/anaconda3/envs/nlp/lib/python3.10/site-packages/google/api_core/page_iterator.py:208\u001b[0m, in \u001b[0;36mIterator._items_iter\u001b[0;34m(self)\u001b[0m\n\u001b[1;32m    207\u001b[0m \u001b[38;5;250m\u001b[39m\u001b[38;5;124;03m\"\"\"Iterator for each item returned.\"\"\"\u001b[39;00m\n\u001b[0;32m--> 208\u001b[0m \u001b[38;5;28;01mfor\u001b[39;00m page \u001b[38;5;129;01min\u001b[39;00m \u001b[38;5;28mself\u001b[39m\u001b[38;5;241m.\u001b[39m_page_iter(increment\u001b[38;5;241m=\u001b[39m\u001b[38;5;28;01mFalse\u001b[39;00m):\n\u001b[1;32m    209\u001b[0m     \u001b[38;5;28;01mfor\u001b[39;00m item \u001b[38;5;129;01min\u001b[39;00m page:\n",
      "File \u001b[0;32m/Users/ujan/opt/anaconda3/envs/nlp/lib/python3.10/site-packages/google/api_core/page_iterator.py:250\u001b[0m, in \u001b[0;36mIterator._page_iter\u001b[0;34m(self, increment)\u001b[0m\n\u001b[1;32m    249\u001b[0m \u001b[38;5;28;01myield\u001b[39;00m page\n\u001b[0;32m--> 250\u001b[0m page \u001b[38;5;241m=\u001b[39m \u001b[38;5;28;43mself\u001b[39;49m\u001b[38;5;241;43m.\u001b[39;49m\u001b[43m_next_page\u001b[49m\u001b[43m(\u001b[49m\u001b[43m)\u001b[49m\n",
      "File \u001b[0;32m/Users/ujan/opt/anaconda3/envs/nlp/lib/python3.10/site-packages/google/api_core/page_iterator.py:373\u001b[0m, in \u001b[0;36mHTTPIterator._next_page\u001b[0;34m(self)\u001b[0m\n\u001b[1;32m    372\u001b[0m \u001b[38;5;28;01mif\u001b[39;00m \u001b[38;5;28mself\u001b[39m\u001b[38;5;241m.\u001b[39m_has_next_page():\n\u001b[0;32m--> 373\u001b[0m     response \u001b[38;5;241m=\u001b[39m \u001b[38;5;28;43mself\u001b[39;49m\u001b[38;5;241;43m.\u001b[39;49m\u001b[43m_get_next_page_response\u001b[49m\u001b[43m(\u001b[49m\u001b[43m)\u001b[49m\n\u001b[1;32m    374\u001b[0m     items \u001b[38;5;241m=\u001b[39m response\u001b[38;5;241m.\u001b[39mget(\u001b[38;5;28mself\u001b[39m\u001b[38;5;241m.\u001b[39m_items_key, ())\n",
      "File \u001b[0;32m/Users/ujan/opt/anaconda3/envs/nlp/lib/python3.10/site-packages/google/cloud/bigquery/table.py:1642\u001b[0m, in \u001b[0;36mRowIterator._get_next_page_response\u001b[0;34m(self)\u001b[0m\n\u001b[1;32m   1641\u001b[0m     params[\u001b[38;5;124m\"\u001b[39m\u001b[38;5;124mmaxResults\u001b[39m\u001b[38;5;124m\"\u001b[39m] \u001b[38;5;241m=\u001b[39m \u001b[38;5;28mself\u001b[39m\u001b[38;5;241m.\u001b[39m_page_size\n\u001b[0;32m-> 1642\u001b[0m \u001b[38;5;28;01mreturn\u001b[39;00m \u001b[38;5;28;43mself\u001b[39;49m\u001b[38;5;241;43m.\u001b[39;49m\u001b[43mapi_request\u001b[49m\u001b[43m(\u001b[49m\n\u001b[1;32m   1643\u001b[0m \u001b[43m    \u001b[49m\u001b[43mmethod\u001b[49m\u001b[38;5;241;43m=\u001b[39;49m\u001b[38;5;28;43mself\u001b[39;49m\u001b[38;5;241;43m.\u001b[39;49m\u001b[43m_HTTP_METHOD\u001b[49m\u001b[43m,\u001b[49m\u001b[43m \u001b[49m\u001b[43mpath\u001b[49m\u001b[38;5;241;43m=\u001b[39;49m\u001b[38;5;28;43mself\u001b[39;49m\u001b[38;5;241;43m.\u001b[39;49m\u001b[43mpath\u001b[49m\u001b[43m,\u001b[49m\u001b[43m \u001b[49m\u001b[43mquery_params\u001b[49m\u001b[38;5;241;43m=\u001b[39;49m\u001b[43mparams\u001b[49m\n\u001b[1;32m   1644\u001b[0m \u001b[43m\u001b[49m\u001b[43m)\u001b[49m\n",
      "File \u001b[0;32m/Users/ujan/opt/anaconda3/envs/nlp/lib/python3.10/site-packages/google/cloud/bigquery/client.py:818\u001b[0m, in \u001b[0;36mClient._call_api\u001b[0;34m(self, retry, span_name, span_attributes, job_ref, headers, **kwargs)\u001b[0m\n\u001b[1;32m    816\u001b[0m         \u001b[38;5;28;01mreturn\u001b[39;00m call()\n\u001b[0;32m--> 818\u001b[0m \u001b[38;5;28;01mreturn\u001b[39;00m \u001b[43mcall\u001b[49m\u001b[43m(\u001b[49m\u001b[43m)\u001b[49m\n",
      "File \u001b[0;32m/Users/ujan/opt/anaconda3/envs/nlp/lib/python3.10/site-packages/google/api_core/retry.py:349\u001b[0m, in \u001b[0;36mRetry.__call__.<locals>.retry_wrapped_func\u001b[0;34m(*args, **kwargs)\u001b[0m\n\u001b[1;32m    346\u001b[0m sleep_generator \u001b[38;5;241m=\u001b[39m exponential_sleep_generator(\n\u001b[1;32m    347\u001b[0m     \u001b[38;5;28mself\u001b[39m\u001b[38;5;241m.\u001b[39m_initial, \u001b[38;5;28mself\u001b[39m\u001b[38;5;241m.\u001b[39m_maximum, multiplier\u001b[38;5;241m=\u001b[39m\u001b[38;5;28mself\u001b[39m\u001b[38;5;241m.\u001b[39m_multiplier\n\u001b[1;32m    348\u001b[0m )\n\u001b[0;32m--> 349\u001b[0m \u001b[38;5;28;01mreturn\u001b[39;00m \u001b[43mretry_target\u001b[49m\u001b[43m(\u001b[49m\n\u001b[1;32m    350\u001b[0m \u001b[43m    \u001b[49m\u001b[43mtarget\u001b[49m\u001b[43m,\u001b[49m\n\u001b[1;32m    351\u001b[0m \u001b[43m    \u001b[49m\u001b[38;5;28;43mself\u001b[39;49m\u001b[38;5;241;43m.\u001b[39;49m\u001b[43m_predicate\u001b[49m\u001b[43m,\u001b[49m\n\u001b[1;32m    352\u001b[0m \u001b[43m    \u001b[49m\u001b[43msleep_generator\u001b[49m\u001b[43m,\u001b[49m\n\u001b[1;32m    353\u001b[0m \u001b[43m    \u001b[49m\u001b[38;5;28;43mself\u001b[39;49m\u001b[38;5;241;43m.\u001b[39;49m\u001b[43m_timeout\u001b[49m\u001b[43m,\u001b[49m\n\u001b[1;32m    354\u001b[0m \u001b[43m    \u001b[49m\u001b[43mon_error\u001b[49m\u001b[38;5;241;43m=\u001b[39;49m\u001b[43mon_error\u001b[49m\u001b[43m,\u001b[49m\n\u001b[1;32m    355\u001b[0m \u001b[43m\u001b[49m\u001b[43m)\u001b[49m\n",
      "File \u001b[0;32m/Users/ujan/opt/anaconda3/envs/nlp/lib/python3.10/site-packages/google/api_core/retry.py:191\u001b[0m, in \u001b[0;36mretry_target\u001b[0;34m(target, predicate, sleep_generator, timeout, on_error, **kwargs)\u001b[0m\n\u001b[1;32m    190\u001b[0m \u001b[38;5;28;01mtry\u001b[39;00m:\n\u001b[0;32m--> 191\u001b[0m     \u001b[38;5;28;01mreturn\u001b[39;00m \u001b[43mtarget\u001b[49m\u001b[43m(\u001b[49m\u001b[43m)\u001b[49m\n\u001b[1;32m    193\u001b[0m \u001b[38;5;66;03m# pylint: disable=broad-except\u001b[39;00m\n\u001b[1;32m    194\u001b[0m \u001b[38;5;66;03m# This function explicitly must deal with broad exceptions.\u001b[39;00m\n",
      "File \u001b[0;32m/Users/ujan/opt/anaconda3/envs/nlp/lib/python3.10/site-packages/google/cloud/_http/__init__.py:482\u001b[0m, in \u001b[0;36mJSONConnection.api_request\u001b[0;34m(self, method, path, query_params, data, content_type, headers, api_base_url, api_version, expect_json, _target_object, timeout, extra_api_info)\u001b[0m\n\u001b[1;32m    480\u001b[0m     content_type \u001b[38;5;241m=\u001b[39m \u001b[38;5;124m\"\u001b[39m\u001b[38;5;124mapplication/json\u001b[39m\u001b[38;5;124m\"\u001b[39m\n\u001b[0;32m--> 482\u001b[0m response \u001b[38;5;241m=\u001b[39m \u001b[38;5;28;43mself\u001b[39;49m\u001b[38;5;241;43m.\u001b[39;49m\u001b[43m_make_request\u001b[49m\u001b[43m(\u001b[49m\n\u001b[1;32m    483\u001b[0m \u001b[43m    \u001b[49m\u001b[43mmethod\u001b[49m\u001b[38;5;241;43m=\u001b[39;49m\u001b[43mmethod\u001b[49m\u001b[43m,\u001b[49m\n\u001b[1;32m    484\u001b[0m \u001b[43m    \u001b[49m\u001b[43murl\u001b[49m\u001b[38;5;241;43m=\u001b[39;49m\u001b[43murl\u001b[49m\u001b[43m,\u001b[49m\n\u001b[1;32m    485\u001b[0m \u001b[43m    \u001b[49m\u001b[43mdata\u001b[49m\u001b[38;5;241;43m=\u001b[39;49m\u001b[43mdata\u001b[49m\u001b[43m,\u001b[49m\n\u001b[1;32m    486\u001b[0m \u001b[43m    \u001b[49m\u001b[43mcontent_type\u001b[49m\u001b[38;5;241;43m=\u001b[39;49m\u001b[43mcontent_type\u001b[49m\u001b[43m,\u001b[49m\n\u001b[1;32m    487\u001b[0m \u001b[43m    \u001b[49m\u001b[43mheaders\u001b[49m\u001b[38;5;241;43m=\u001b[39;49m\u001b[43mheaders\u001b[49m\u001b[43m,\u001b[49m\n\u001b[1;32m    488\u001b[0m \u001b[43m    \u001b[49m\u001b[43mtarget_object\u001b[49m\u001b[38;5;241;43m=\u001b[39;49m\u001b[43m_target_object\u001b[49m\u001b[43m,\u001b[49m\n\u001b[1;32m    489\u001b[0m \u001b[43m    \u001b[49m\u001b[43mtimeout\u001b[49m\u001b[38;5;241;43m=\u001b[39;49m\u001b[43mtimeout\u001b[49m\u001b[43m,\u001b[49m\n\u001b[1;32m    490\u001b[0m \u001b[43m    \u001b[49m\u001b[43mextra_api_info\u001b[49m\u001b[38;5;241;43m=\u001b[39;49m\u001b[43mextra_api_info\u001b[49m\u001b[43m,\u001b[49m\n\u001b[1;32m    491\u001b[0m \u001b[43m\u001b[49m\u001b[43m)\u001b[49m\n\u001b[1;32m    493\u001b[0m \u001b[38;5;28;01mif\u001b[39;00m \u001b[38;5;129;01mnot\u001b[39;00m \u001b[38;5;241m200\u001b[39m \u001b[38;5;241m<\u001b[39m\u001b[38;5;241m=\u001b[39m response\u001b[38;5;241m.\u001b[39mstatus_code \u001b[38;5;241m<\u001b[39m \u001b[38;5;241m300\u001b[39m:\n",
      "File \u001b[0;32m/Users/ujan/opt/anaconda3/envs/nlp/lib/python3.10/site-packages/google/cloud/_http/__init__.py:341\u001b[0m, in \u001b[0;36mJSONConnection._make_request\u001b[0;34m(self, method, url, data, content_type, headers, target_object, timeout, extra_api_info)\u001b[0m\n\u001b[1;32m    339\u001b[0m headers[\u001b[38;5;124m\"\u001b[39m\u001b[38;5;124mUser-Agent\u001b[39m\u001b[38;5;124m\"\u001b[39m] \u001b[38;5;241m=\u001b[39m \u001b[38;5;28mself\u001b[39m\u001b[38;5;241m.\u001b[39muser_agent\n\u001b[0;32m--> 341\u001b[0m \u001b[38;5;28;01mreturn\u001b[39;00m \u001b[38;5;28;43mself\u001b[39;49m\u001b[38;5;241;43m.\u001b[39;49m\u001b[43m_do_request\u001b[49m\u001b[43m(\u001b[49m\n\u001b[1;32m    342\u001b[0m \u001b[43m    \u001b[49m\u001b[43mmethod\u001b[49m\u001b[43m,\u001b[49m\u001b[43m \u001b[49m\u001b[43murl\u001b[49m\u001b[43m,\u001b[49m\u001b[43m \u001b[49m\u001b[43mheaders\u001b[49m\u001b[43m,\u001b[49m\u001b[43m \u001b[49m\u001b[43mdata\u001b[49m\u001b[43m,\u001b[49m\u001b[43m \u001b[49m\u001b[43mtarget_object\u001b[49m\u001b[43m,\u001b[49m\u001b[43m \u001b[49m\u001b[43mtimeout\u001b[49m\u001b[38;5;241;43m=\u001b[39;49m\u001b[43mtimeout\u001b[49m\n\u001b[1;32m    343\u001b[0m \u001b[43m\u001b[49m\u001b[43m)\u001b[49m\n",
      "File \u001b[0;32m/Users/ujan/opt/anaconda3/envs/nlp/lib/python3.10/site-packages/google/cloud/_http/__init__.py:379\u001b[0m, in \u001b[0;36mJSONConnection._do_request\u001b[0;34m(self, method, url, headers, data, target_object, timeout)\u001b[0m\n\u001b[1;32m    348\u001b[0m \u001b[38;5;250m\u001b[39m\u001b[38;5;124;03m\"\"\"Low-level helper:  perform the actual API request over HTTP.\u001b[39;00m\n\u001b[1;32m    349\u001b[0m \n\u001b[1;32m    350\u001b[0m \u001b[38;5;124;03mAllows batch context managers to override and defer a request.\u001b[39;00m\n\u001b[0;32m   (...)\u001b[0m\n\u001b[1;32m    377\u001b[0m \u001b[38;5;124;03m:returns: The HTTP response.\u001b[39;00m\n\u001b[1;32m    378\u001b[0m \u001b[38;5;124;03m\"\"\"\u001b[39;00m\n\u001b[0;32m--> 379\u001b[0m \u001b[38;5;28;01mreturn\u001b[39;00m \u001b[38;5;28;43mself\u001b[39;49m\u001b[38;5;241;43m.\u001b[39;49m\u001b[43mhttp\u001b[49m\u001b[38;5;241;43m.\u001b[39;49m\u001b[43mrequest\u001b[49m\u001b[43m(\u001b[49m\n\u001b[1;32m    380\u001b[0m \u001b[43m    \u001b[49m\u001b[43murl\u001b[49m\u001b[38;5;241;43m=\u001b[39;49m\u001b[43murl\u001b[49m\u001b[43m,\u001b[49m\u001b[43m \u001b[49m\u001b[43mmethod\u001b[49m\u001b[38;5;241;43m=\u001b[39;49m\u001b[43mmethod\u001b[49m\u001b[43m,\u001b[49m\u001b[43m \u001b[49m\u001b[43mheaders\u001b[49m\u001b[38;5;241;43m=\u001b[39;49m\u001b[43mheaders\u001b[49m\u001b[43m,\u001b[49m\u001b[43m \u001b[49m\u001b[43mdata\u001b[49m\u001b[38;5;241;43m=\u001b[39;49m\u001b[43mdata\u001b[49m\u001b[43m,\u001b[49m\u001b[43m \u001b[49m\u001b[43mtimeout\u001b[49m\u001b[38;5;241;43m=\u001b[39;49m\u001b[43mtimeout\u001b[49m\n\u001b[1;32m    381\u001b[0m \u001b[43m\u001b[49m\u001b[43m)\u001b[49m\n",
      "File \u001b[0;32m/Users/ujan/opt/anaconda3/envs/nlp/lib/python3.10/site-packages/google/auth/transport/requests.py:542\u001b[0m, in \u001b[0;36mAuthorizedSession.request\u001b[0;34m(self, method, url, data, headers, max_allowed_time, timeout, **kwargs)\u001b[0m\n\u001b[1;32m    541\u001b[0m \u001b[38;5;28;01mwith\u001b[39;00m TimeoutGuard(remaining_time) \u001b[38;5;28;01mas\u001b[39;00m guard:\n\u001b[0;32m--> 542\u001b[0m     response \u001b[38;5;241m=\u001b[39m \u001b[38;5;28;43msuper\u001b[39;49m\u001b[43m(\u001b[49m\u001b[43mAuthorizedSession\u001b[49m\u001b[43m,\u001b[49m\u001b[43m \u001b[49m\u001b[38;5;28;43mself\u001b[39;49m\u001b[43m)\u001b[49m\u001b[38;5;241;43m.\u001b[39;49m\u001b[43mrequest\u001b[49m\u001b[43m(\u001b[49m\n\u001b[1;32m    543\u001b[0m \u001b[43m        \u001b[49m\u001b[43mmethod\u001b[49m\u001b[43m,\u001b[49m\n\u001b[1;32m    544\u001b[0m \u001b[43m        \u001b[49m\u001b[43murl\u001b[49m\u001b[43m,\u001b[49m\n\u001b[1;32m    545\u001b[0m \u001b[43m        \u001b[49m\u001b[43mdata\u001b[49m\u001b[38;5;241;43m=\u001b[39;49m\u001b[43mdata\u001b[49m\u001b[43m,\u001b[49m\n\u001b[1;32m    546\u001b[0m \u001b[43m        \u001b[49m\u001b[43mheaders\u001b[49m\u001b[38;5;241;43m=\u001b[39;49m\u001b[43mrequest_headers\u001b[49m\u001b[43m,\u001b[49m\n\u001b[1;32m    547\u001b[0m \u001b[43m        \u001b[49m\u001b[43mtimeout\u001b[49m\u001b[38;5;241;43m=\u001b[39;49m\u001b[43mtimeout\u001b[49m\u001b[43m,\u001b[49m\n\u001b[1;32m    548\u001b[0m \u001b[43m        \u001b[49m\u001b[38;5;241;43m*\u001b[39;49m\u001b[38;5;241;43m*\u001b[39;49m\u001b[43mkwargs\u001b[49m\n\u001b[1;32m    549\u001b[0m \u001b[43m    \u001b[49m\u001b[43m)\u001b[49m\n\u001b[1;32m    550\u001b[0m remaining_time \u001b[38;5;241m=\u001b[39m guard\u001b[38;5;241m.\u001b[39mremaining_timeout\n",
      "File \u001b[0;32m/Users/ujan/opt/anaconda3/envs/nlp/lib/python3.10/site-packages/requests/sessions.py:589\u001b[0m, in \u001b[0;36mSession.request\u001b[0;34m(self, method, url, params, data, headers, cookies, files, auth, timeout, allow_redirects, proxies, hooks, stream, verify, cert, json)\u001b[0m\n\u001b[1;32m    588\u001b[0m send_kwargs\u001b[38;5;241m.\u001b[39mupdate(settings)\n\u001b[0;32m--> 589\u001b[0m resp \u001b[38;5;241m=\u001b[39m \u001b[38;5;28;43mself\u001b[39;49m\u001b[38;5;241;43m.\u001b[39;49m\u001b[43msend\u001b[49m\u001b[43m(\u001b[49m\u001b[43mprep\u001b[49m\u001b[43m,\u001b[49m\u001b[43m \u001b[49m\u001b[38;5;241;43m*\u001b[39;49m\u001b[38;5;241;43m*\u001b[39;49m\u001b[43msend_kwargs\u001b[49m\u001b[43m)\u001b[49m\n\u001b[1;32m    591\u001b[0m \u001b[38;5;28;01mreturn\u001b[39;00m resp\n",
      "File \u001b[0;32m/Users/ujan/opt/anaconda3/envs/nlp/lib/python3.10/site-packages/requests/sessions.py:747\u001b[0m, in \u001b[0;36mSession.send\u001b[0;34m(self, request, **kwargs)\u001b[0m\n\u001b[1;32m    746\u001b[0m \u001b[38;5;28;01mif\u001b[39;00m \u001b[38;5;129;01mnot\u001b[39;00m stream:\n\u001b[0;32m--> 747\u001b[0m     \u001b[43mr\u001b[49m\u001b[38;5;241;43m.\u001b[39;49m\u001b[43mcontent\u001b[49m\n\u001b[1;32m    749\u001b[0m \u001b[38;5;28;01mreturn\u001b[39;00m r\n",
      "File \u001b[0;32m/Users/ujan/opt/anaconda3/envs/nlp/lib/python3.10/site-packages/requests/models.py:899\u001b[0m, in \u001b[0;36mResponse.content\u001b[0;34m(self)\u001b[0m\n\u001b[1;32m    898\u001b[0m     \u001b[38;5;28;01melse\u001b[39;00m:\n\u001b[0;32m--> 899\u001b[0m         \u001b[38;5;28mself\u001b[39m\u001b[38;5;241m.\u001b[39m_content \u001b[38;5;241m=\u001b[39m \u001b[38;5;124;43mb\u001b[39;49m\u001b[38;5;124;43m\"\u001b[39;49m\u001b[38;5;124;43m\"\u001b[39;49m\u001b[38;5;241;43m.\u001b[39;49m\u001b[43mjoin\u001b[49m\u001b[43m(\u001b[49m\u001b[38;5;28;43mself\u001b[39;49m\u001b[38;5;241;43m.\u001b[39;49m\u001b[43miter_content\u001b[49m\u001b[43m(\u001b[49m\u001b[43mCONTENT_CHUNK_SIZE\u001b[49m\u001b[43m)\u001b[49m\u001b[43m)\u001b[49m \u001b[38;5;129;01mor\u001b[39;00m \u001b[38;5;124mb\u001b[39m\u001b[38;5;124m\"\u001b[39m\u001b[38;5;124m\"\u001b[39m\n\u001b[1;32m    901\u001b[0m \u001b[38;5;28mself\u001b[39m\u001b[38;5;241m.\u001b[39m_content_consumed \u001b[38;5;241m=\u001b[39m \u001b[38;5;28;01mTrue\u001b[39;00m\n",
      "File \u001b[0;32m/Users/ujan/opt/anaconda3/envs/nlp/lib/python3.10/site-packages/requests/models.py:816\u001b[0m, in \u001b[0;36mResponse.iter_content.<locals>.generate\u001b[0;34m()\u001b[0m\n\u001b[1;32m    815\u001b[0m \u001b[38;5;28;01mtry\u001b[39;00m:\n\u001b[0;32m--> 816\u001b[0m     \u001b[38;5;28;01myield from\u001b[39;00m \u001b[38;5;28mself\u001b[39m\u001b[38;5;241m.\u001b[39mraw\u001b[38;5;241m.\u001b[39mstream(chunk_size, decode_content\u001b[38;5;241m=\u001b[39m\u001b[38;5;28;01mTrue\u001b[39;00m)\n\u001b[1;32m    817\u001b[0m \u001b[38;5;28;01mexcept\u001b[39;00m ProtocolError \u001b[38;5;28;01mas\u001b[39;00m e:\n",
      "File \u001b[0;32m/Users/ujan/opt/anaconda3/envs/nlp/lib/python3.10/site-packages/urllib3/response.py:624\u001b[0m, in \u001b[0;36mHTTPResponse.stream\u001b[0;34m(self, amt, decode_content)\u001b[0m\n\u001b[1;32m    623\u001b[0m \u001b[38;5;28;01mif\u001b[39;00m \u001b[38;5;28mself\u001b[39m\u001b[38;5;241m.\u001b[39mchunked \u001b[38;5;129;01mand\u001b[39;00m \u001b[38;5;28mself\u001b[39m\u001b[38;5;241m.\u001b[39msupports_chunked_reads():\n\u001b[0;32m--> 624\u001b[0m     \u001b[38;5;28;01mfor\u001b[39;00m line \u001b[38;5;129;01min\u001b[39;00m \u001b[38;5;28mself\u001b[39m\u001b[38;5;241m.\u001b[39mread_chunked(amt, decode_content\u001b[38;5;241m=\u001b[39mdecode_content):\n\u001b[1;32m    625\u001b[0m         \u001b[38;5;28;01myield\u001b[39;00m line\n",
      "File \u001b[0;32m/Users/ujan/opt/anaconda3/envs/nlp/lib/python3.10/site-packages/urllib3/response.py:828\u001b[0m, in \u001b[0;36mHTTPResponse.read_chunked\u001b[0;34m(self, amt, decode_content)\u001b[0m\n\u001b[1;32m    827\u001b[0m \u001b[38;5;28;01mwhile\u001b[39;00m \u001b[38;5;28;01mTrue\u001b[39;00m:\n\u001b[0;32m--> 828\u001b[0m     \u001b[38;5;28;43mself\u001b[39;49m\u001b[38;5;241;43m.\u001b[39;49m\u001b[43m_update_chunk_length\u001b[49m\u001b[43m(\u001b[49m\u001b[43m)\u001b[49m\n\u001b[1;32m    829\u001b[0m     \u001b[38;5;28;01mif\u001b[39;00m \u001b[38;5;28mself\u001b[39m\u001b[38;5;241m.\u001b[39mchunk_left \u001b[38;5;241m==\u001b[39m \u001b[38;5;241m0\u001b[39m:\n",
      "File \u001b[0;32m/Users/ujan/opt/anaconda3/envs/nlp/lib/python3.10/site-packages/urllib3/response.py:758\u001b[0m, in \u001b[0;36mHTTPResponse._update_chunk_length\u001b[0;34m(self)\u001b[0m\n\u001b[1;32m    757\u001b[0m     \u001b[38;5;28;01mreturn\u001b[39;00m\n\u001b[0;32m--> 758\u001b[0m line \u001b[38;5;241m=\u001b[39m \u001b[38;5;28;43mself\u001b[39;49m\u001b[38;5;241;43m.\u001b[39;49m\u001b[43m_fp\u001b[49m\u001b[38;5;241;43m.\u001b[39;49m\u001b[43mfp\u001b[49m\u001b[38;5;241;43m.\u001b[39;49m\u001b[43mreadline\u001b[49m\u001b[43m(\u001b[49m\u001b[43m)\u001b[49m\n\u001b[1;32m    759\u001b[0m line \u001b[38;5;241m=\u001b[39m line\u001b[38;5;241m.\u001b[39msplit(\u001b[38;5;124mb\u001b[39m\u001b[38;5;124m\"\u001b[39m\u001b[38;5;124m;\u001b[39m\u001b[38;5;124m\"\u001b[39m, \u001b[38;5;241m1\u001b[39m)[\u001b[38;5;241m0\u001b[39m]\n",
      "File \u001b[0;32m/Users/ujan/opt/anaconda3/envs/nlp/lib/python3.10/socket.py:705\u001b[0m, in \u001b[0;36mSocketIO.readinto\u001b[0;34m(self, b)\u001b[0m\n\u001b[1;32m    704\u001b[0m \u001b[38;5;28;01mtry\u001b[39;00m:\n\u001b[0;32m--> 705\u001b[0m     \u001b[38;5;28;01mreturn\u001b[39;00m \u001b[38;5;28;43mself\u001b[39;49m\u001b[38;5;241;43m.\u001b[39;49m\u001b[43m_sock\u001b[49m\u001b[38;5;241;43m.\u001b[39;49m\u001b[43mrecv_into\u001b[49m\u001b[43m(\u001b[49m\u001b[43mb\u001b[49m\u001b[43m)\u001b[49m\n\u001b[1;32m    706\u001b[0m \u001b[38;5;28;01mexcept\u001b[39;00m timeout:\n",
      "File \u001b[0;32m/Users/ujan/opt/anaconda3/envs/nlp/lib/python3.10/ssl.py:1273\u001b[0m, in \u001b[0;36mSSLSocket.recv_into\u001b[0;34m(self, buffer, nbytes, flags)\u001b[0m\n\u001b[1;32m   1270\u001b[0m         \u001b[38;5;28;01mraise\u001b[39;00m \u001b[38;5;167;01mValueError\u001b[39;00m(\n\u001b[1;32m   1271\u001b[0m           \u001b[38;5;124m\"\u001b[39m\u001b[38;5;124mnon-zero flags not allowed in calls to recv_into() on \u001b[39m\u001b[38;5;132;01m%s\u001b[39;00m\u001b[38;5;124m\"\u001b[39m \u001b[38;5;241m%\u001b[39m\n\u001b[1;32m   1272\u001b[0m           \u001b[38;5;28mself\u001b[39m\u001b[38;5;241m.\u001b[39m\u001b[38;5;18m__class__\u001b[39m)\n\u001b[0;32m-> 1273\u001b[0m     \u001b[38;5;28;01mreturn\u001b[39;00m \u001b[38;5;28;43mself\u001b[39;49m\u001b[38;5;241;43m.\u001b[39;49m\u001b[43mread\u001b[49m\u001b[43m(\u001b[49m\u001b[43mnbytes\u001b[49m\u001b[43m,\u001b[49m\u001b[43m \u001b[49m\u001b[43mbuffer\u001b[49m\u001b[43m)\u001b[49m\n\u001b[1;32m   1274\u001b[0m \u001b[38;5;28;01melse\u001b[39;00m:\n",
      "File \u001b[0;32m/Users/ujan/opt/anaconda3/envs/nlp/lib/python3.10/ssl.py:1129\u001b[0m, in \u001b[0;36mSSLSocket.read\u001b[0;34m(self, len, buffer)\u001b[0m\n\u001b[1;32m   1128\u001b[0m \u001b[38;5;28;01mif\u001b[39;00m buffer \u001b[38;5;129;01mis\u001b[39;00m \u001b[38;5;129;01mnot\u001b[39;00m \u001b[38;5;28;01mNone\u001b[39;00m:\n\u001b[0;32m-> 1129\u001b[0m     \u001b[38;5;28;01mreturn\u001b[39;00m \u001b[38;5;28;43mself\u001b[39;49m\u001b[38;5;241;43m.\u001b[39;49m\u001b[43m_sslobj\u001b[49m\u001b[38;5;241;43m.\u001b[39;49m\u001b[43mread\u001b[49m\u001b[43m(\u001b[49m\u001b[38;5;28;43mlen\u001b[39;49m\u001b[43m,\u001b[49m\u001b[43m \u001b[49m\u001b[43mbuffer\u001b[49m\u001b[43m)\u001b[49m\n\u001b[1;32m   1130\u001b[0m \u001b[38;5;28;01melse\u001b[39;00m:\n",
      "\u001b[0;31mKeyboardInterrupt\u001b[0m: ",
      "\nDuring handling of the above exception, another exception occurred:\n",
      "\u001b[0;31mKeyboardInterrupt\u001b[0m                         Traceback (most recent call last)",
      "\u001b[0;31mKeyboardInterrupt\u001b[0m: "
     ]
    }
   ],
   "source": [
    "table_id = 'cmst-reddit-analysis.politics_in_sports.sample_2016_2021_political_comments'\n",
    "\n",
    "rows_iter = client.list_rows(table_id)  # max_results=10\n",
    "rows = list(rows_iter)\n",
    "print(\"Downloaded {} rows from table {}\".format(len(rows), table_id))"
   ]
  },
  {
   "cell_type": "markdown",
   "id": "f93b1e37-395b-4395-b6b6-a1fc189839c7",
   "metadata": {},
   "source": [
    "Let's look at a sample"
   ]
  },
  {
   "cell_type": "code",
   "execution_count": 33,
   "id": "766c6a9f-b08b-418e-a326-1642aab5c836",
   "metadata": {},
   "outputs": [
    {
     "name": "stdout",
     "output_type": "stream",
     "text": [
      "Row(('er1nbsy', 't3_c04mtp', 't1_er1n13t', 1560434110, 'AOC', 'politics_2019', 'politics', 0, 'Lol. I was asking about the other thing.\\n\\nDont you think you are being manipulative trying to conflate closed borders with dehumanization?', 'Just_WoW_Things', 0), {'id': 0, 'link_id': 1, 'parent_id': 2, 'created_utc': 3, 'subreddit': 4, 'category': 5, 'super_category': 6, 'score': 7, 'body': 8, 'author': 9, 'gilded': 10})\n"
     ]
    }
   ],
   "source": [
    "print(rows[0])"
   ]
  },
  {
   "cell_type": "markdown",
   "id": "8c4f14a1-8578-4e0f-a4f9-7ee1592eb222",
   "metadata": {},
   "source": [
    "Store all the columns"
   ]
  },
  {
   "cell_type": "code",
   "execution_count": 34,
   "id": "ec9ab821-364d-4dd0-8d17-4b4da5a5e313",
   "metadata": {},
   "outputs": [],
   "source": [
    "columns = {\n",
    "    'id': 0,\n",
    "    'link_id': 1,\n",
    "    'parent_id': 2,\n",
    "    'created_utc': 3,\n",
    "    'subreddit': 4,\n",
    "    'category': 5,\n",
    "    'super_category': 6,\n",
    "    'score': 7,\n",
    "    'body': 8,\n",
    "    'author': 9,\n",
    "    'gilded': 10\n",
    "}"
   ]
  },
  {
   "cell_type": "markdown",
   "id": "ed20406b-ccdf-40e3-83ac-53cb5ac15466",
   "metadata": {},
   "source": [
    "Let's keep id, created time, subreddit, category, super category, body and author. And create a dataframe to store the data"
   ]
  },
  {
   "cell_type": "code",
   "execution_count": 80,
   "id": "b87ba95b-45e0-43fa-b4d8-7f74a5c21987",
   "metadata": {},
   "outputs": [
    {
     "data": {
      "text/html": [
       "<div><style>\n",
       ".dataframe > thead > tr > th,\n",
       ".dataframe > tbody > tr > td {\n",
       "  text-align: right;\n",
       "  white-space: pre-wrap;\n",
       "}\n",
       "</style>\n",
       "<small>shape: (5, 7)</small><table border=\"1\" class=\"dataframe\"><thead><tr><th>id</th><th>created_utc</th><th>subreddit</th><th>category</th><th>super_category</th><th>body</th><th>author</th></tr><tr><td>str</td><td>i64</td><td>str</td><td>str</td><td>str</td><td>str</td><td>str</td></tr></thead><tbody><tr><td>&quot;er1nbsy&quot;</td><td>1560434110</td><td>&quot;AOC&quot;</td><td>&quot;politics_2019&quot;</td><td>&quot;politics&quot;</td><td>&quot;Lol. I was ask…</td><td>&quot;Just_WoW_Thing…</td></tr><tr><td>&quot;gq5rux6&quot;</td><td>1615164573</td><td>&quot;AOC&quot;</td><td>&quot;politics_2019&quot;</td><td>&quot;politics&quot;</td><td>&quot;stfu Liberal.&quot;</td><td>&quot;gbsedillo20&quot;</td></tr><tr><td>&quot;gj3jztp&quot;</td><td>1610531437</td><td>&quot;AOC&quot;</td><td>&quot;politics_2019&quot;</td><td>&quot;politics&quot;</td><td>&quot;\n",
       "&amp;gt;Fuck that…</td><td>&quot;64590949354397…</td></tr><tr><td>&quot;esrc8yq&quot;</td><td>1562221646</td><td>&quot;AOC&quot;</td><td>&quot;politics_2019&quot;</td><td>&quot;politics&quot;</td><td>&quot;Cauliflower is…</td><td>&quot;TobiKato&quot;</td></tr><tr><td>&quot;gyjpk7u&quot;</td><td>1621327024</td><td>&quot;AOC&quot;</td><td>&quot;politics_2019&quot;</td><td>&quot;politics&quot;</td><td>&quot;If they build …</td><td>&quot;the_lonely_gam…</td></tr></tbody></table></div>"
      ],
      "text/plain": [
       "shape: (5, 7)\n",
       "┌─────────┬─────────────┬───────────┬───────────────┬───────────────┬───────────────┬──────────────┐\n",
       "│ id      ┆ created_utc ┆ subreddit ┆ category      ┆ super_categor ┆ body          ┆ author       │\n",
       "│ ---     ┆ ---         ┆ ---       ┆ ---           ┆ y             ┆ ---           ┆ ---          │\n",
       "│ str     ┆ i64         ┆ str       ┆ str           ┆ ---           ┆ str           ┆ str          │\n",
       "│         ┆             ┆           ┆               ┆ str           ┆               ┆              │\n",
       "╞═════════╪═════════════╪═══════════╪═══════════════╪═══════════════╪═══════════════╪══════════════╡\n",
       "│ er1nbsy ┆ 1560434110  ┆ AOC       ┆ politics_2019 ┆ politics      ┆ Lol. I was    ┆ Just_WoW_Thi │\n",
       "│         ┆             ┆           ┆               ┆               ┆ asking about  ┆ ngs          │\n",
       "│         ┆             ┆           ┆               ┆               ┆ the othe…     ┆              │\n",
       "│ gq5rux6 ┆ 1615164573  ┆ AOC       ┆ politics_2019 ┆ politics      ┆ stfu Liberal. ┆ gbsedillo20  │\n",
       "│ gj3jztp ┆ 1610531437  ┆ AOC       ┆ politics_2019 ┆ politics      ┆               ┆ 645909493543 │\n",
       "│         ┆             ┆           ┆               ┆               ┆ &gt;Fuck      ┆ 97548569     │\n",
       "│         ┆             ┆           ┆               ┆               ┆ that, no it's ┆              │\n",
       "│         ┆             ┆           ┆               ┆               ┆ not. The…     ┆              │\n",
       "│ esrc8yq ┆ 1562221646  ┆ AOC       ┆ politics_2019 ┆ politics      ┆ Cauliflower   ┆ TobiKato     │\n",
       "│         ┆             ┆           ┆               ┆               ┆ is racist. �� ┆              │\n",
       "│         ┆             ┆           ┆               ┆               ┆ Such w…       ┆              │\n",
       "│ gyjpk7u ┆ 1621327024  ┆ AOC       ┆ politics_2019 ┆ politics      ┆ If they build ┆ the_lonely_g │\n",
       "│         ┆             ┆           ┆               ┆               ┆ the third     ┆ ame          │\n",
       "│         ┆             ┆           ┆               ┆               ┆ temple, …     ┆              │\n",
       "└─────────┴─────────────┴───────────┴───────────────┴───────────────┴───────────────┴──────────────┘"
      ]
     },
     "execution_count": 80,
     "metadata": {},
     "output_type": "execute_result"
    }
   ],
   "source": [
    "# make sure these are the same keys as in columns above\n",
    "keys = ['id', 'created_utc', 'subreddit', 'category', 'super_category', 'body', 'author']\n",
    "df_dict = {key:[] for key in keys}\n",
    "\n",
    "for row in rows:\n",
    "    for key in keys:\n",
    "        df_dict[key].append(row[columns[key]])\n",
    "\n",
    "political_df = pl.DataFrame(df_dict).drop_nulls()\n",
    "political_df.head()"
   ]
  },
  {
   "cell_type": "markdown",
   "id": "7f70bbe0-aa3e-40db-b10b-9fa4b2643c38",
   "metadata": {},
   "source": [
    "##### Save as csv"
   ]
  },
  {
   "cell_type": "code",
   "execution_count": 84,
   "id": "bbbdbb17-dc34-44b6-b4f9-1fbcbcab8d9e",
   "metadata": {},
   "outputs": [],
   "source": [
    "political_df.write_csv('~/sports-language-in-politics/data/processed/politics_sample.csv', separator=\",\")"
   ]
  },
  {
   "cell_type": "markdown",
   "id": "db8ad099-1876-4bba-b16f-7ae62dfbbf96",
   "metadata": {},
   "source": [
    "##### Download sample sports comments table and save"
   ]
  },
  {
   "cell_type": "markdown",
   "id": "fb42603d-c1dd-4f19-9139-d192b3e46fec",
   "metadata": {},
   "source": [
    "Follow same steps as political comments table"
   ]
  },
  {
   "cell_type": "code",
   "execution_count": 93,
   "id": "35d0bfaf-558d-4d18-81cc-367067af57fc",
   "metadata": {},
   "outputs": [
    {
     "name": "stdout",
     "output_type": "stream",
     "text": [
      "Downloaded 4306780 rows from table cmst-reddit-analysis.sports_language_in_politics.sample_sports_comments\n"
     ]
    }
   ],
   "source": [
    "table_id = 'cmst-reddit-analysis.sports_language_in_politics.sample_sports_comments'\n",
    "\n",
    "rows_iter = client.list_rows(table_id)  # max_results=10\n",
    "rows = list(rows_iter)\n",
    "print(\"Downloaded {} rows from table {}\".format(len(rows), table_id))\n",
    "\n",
    "df_dict = {key:[] for key in keys}\n",
    "for row in rows:\n",
    "    for key in keys:\n",
    "        df_dict[key].append(row[columns[key]])\n",
    "\n",
    "sports_df = pl.DataFrame(df_dict).drop_nulls()\n",
    "\n",
    "sports_df.write_csv('~/sports-language-in-politics/data/processed/sports_sample.csv', separator=\",\")"
   ]
  },
  {
   "cell_type": "code",
   "execution_count": null,
   "id": "79188bb3-f4f2-4726-bf50-6a0f5f3a9efb",
   "metadata": {},
   "outputs": [],
   "source": []
  }
 ],
 "metadata": {
  "kernelspec": {
   "display_name": "Python 3 (ipykernel)",
   "language": "python",
   "name": "python3"
  },
  "language_info": {
   "codemirror_mode": {
    "name": "ipython",
    "version": 3
   },
   "file_extension": ".py",
   "mimetype": "text/x-python",
   "name": "python",
   "nbconvert_exporter": "python",
   "pygments_lexer": "ipython3",
   "version": "3.12.2"
  }
 },
 "nbformat": 4,
 "nbformat_minor": 5
}
